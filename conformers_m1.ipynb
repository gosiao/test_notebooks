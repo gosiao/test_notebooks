{
 "cells": [
  {
   "cell_type": "markdown",
   "metadata": {
    "deletable": true,
    "editable": true
   },
   "source": [
    "# Exploring conformational space of selected macrocycles - \"M1\"\n",
    "\n",
    "In this notebook we present and analyze selected structures, technical notes are [here](www.gitlab.com/user/gosia/icho)."
   ]
  },
  {
   "cell_type": "code",
   "execution_count": 47,
   "metadata": {
    "collapsed": false,
    "deletable": true,
    "editable": true
   },
   "outputs": [
    {
     "data": {
      "text/html": [
       "<script>\n",
       "code_show=true; \n",
       "function code_toggle() {\n",
       " if (code_show){\n",
       " $('div.input').hide();\n",
       " } else {\n",
       " $('div.input').show();\n",
       " }\n",
       " code_show = !code_show\n",
       "}\n",
       "$( document ).ready(code_toggle);\n",
       "</script>\n",
       "<form action=\"javascript:code_toggle()\"><input type=\"submit\" value=\"Click here to toggle on/off the raw code.\"></form>"
      ],
      "text/plain": [
       "<IPython.core.display.HTML object>"
      ]
     },
     "execution_count": 47,
     "metadata": {},
     "output_type": "execute_result"
    }
   ],
   "source": [
    "from IPython.display import HTML\n",
    "\n",
    "HTML('''<script>\n",
    "code_show=true; \n",
    "function code_toggle() {\n",
    " if (code_show){\n",
    " $('div.input').hide();\n",
    " } else {\n",
    " $('div.input').show();\n",
    " }\n",
    " code_show = !code_show\n",
    "}\n",
    "$( document ).ready(code_toggle);\n",
    "</script>\n",
    "<form action=\"javascript:code_toggle()\"><input type=\"submit\" value=\"Click here to toggle on/off the raw code.\"></form>''')"
   ]
  },
  {
   "cell_type": "code",
   "execution_count": 48,
   "metadata": {
    "collapsed": false,
    "deletable": true,
    "editable": true
   },
   "outputs": [
    {
     "name": "stdout",
     "output_type": "stream",
     "text": [
      "2016.09.4\n",
      "Wed Mar 29 16:08:16 2017\n"
     ]
    }
   ],
   "source": [
    "import glob\n",
    "import py3Dmol\n",
    "\n",
    "from rdkit import Chem\n",
    "from rdkit.Chem import AllChem\n",
    "from rdkit.Chem import Draw\n",
    "from rdkit.Chem import rdMolAlign\n",
    "from rdkit import rdBase\n",
    "print(rdBase.rdkitVersion)\n",
    "import os,time\n",
    "print( time.asctime())"
   ]
  },
  {
   "cell_type": "code",
   "execution_count": 49,
   "metadata": {
    "collapsed": true,
    "deletable": true,
    "editable": true
   },
   "outputs": [],
   "source": [
    "# Functions used in this notebook:\n",
    "def grep_energies_from_sdf_outputs(files):\n",
    "    energies = []\n",
    "    for inp in files:\n",
    "        with open(inp,'r') as f:\n",
    "            lines = f.readlines()\n",
    "            for i, line in enumerate(lines):\n",
    "                if \"M  END\" in line:\n",
    "                    energies.append(float(lines[i+1]))\n",
    "    return energies"
   ]
  },
  {
   "cell_type": "markdown",
   "metadata": {
    "deletable": true,
    "editable": true
   },
   "source": [
    "### Crystal structure of \"M1\" macrocycle"
   ]
  },
  {
   "cell_type": "code",
   "execution_count": 50,
   "metadata": {
    "collapsed": false,
    "deletable": true,
    "editable": true,
    "scrolled": false
   },
   "outputs": [
    {
     "data": {
      "text/html": [
       "<div id=\"3dmolviewer_14907964964033377\"  style=\"position: relative; width: 400px; height: 400px\">\n",
       "<script>\n",
       "if(typeof $3Dmolpromise === 'undefined') $3Dmolpromise = $.when($.getScript('http://3dmol.csb.pitt.edu/build/3Dmol.js'))\n",
       "var viewer_14907964964033377 = null;\n",
       "$3Dmolpromise.done(function() {\n",
       "viewer_14907964964033377 = $3Dmol.createViewer($(\"#3dmolviewer_14907964964033377\"),{backgroundColor:\"white\"});\n",
       "\tviewer_14907964964033377.removeAllModels();\n",
       "\tviewer_14907964964033377.addModel(\"46\\n\\nO          8.47386       14.40237       -0.01237\\nO         13.00994       15.03854        5.23003\\nO         15.44524       10.63976        3.45016\\nO         10.57273       10.02569       -1.57307\\nN          8.95748       12.65034        1.33093\\nH          9.35699       12.31014        2.21821\\nN         10.52494       14.24417        2.85275\\nN         12.10005       13.08069        4.69271\\nH         11.32970       12.58230        4.22609\\nN         13.21639       10.63465        3.76301\\nH         12.30841       10.45435        3.31406\\nN         12.74233       10.22131        1.21250\\nN         10.17322       10.17878        0.65044\\nH         10.60905       10.13116        1.58191\\nC          8.99762       13.94140        1.01101\\nC          9.77753       14.83272        1.90536\\nC         11.28382       15.03854        3.59156\\nC         12.18607       14.39726        4.57959\\nC         13.07493       12.32374        5.46334\\nH         14.01350       12.77111        5.32194\\nH         12.83217       12.43091        6.47965\\nC         13.20683       10.97825        5.20175\\nH         12.41354       10.46625        5.66307\\nH         14.09952       10.63635        5.63479\\nC         14.30597       10.53769        3.00475\\nC         14.03835       10.27574        1.55717\\nC         12.43648       10.04100       -0.07247\\nC         10.95121       10.06992       -0.39945\\nC          8.73574       10.35909        0.58151\\nH          8.35725        9.77735       -0.20680\\nH          8.30755       10.00528        1.47233\\nC          8.32667       11.73350        0.38355\\nH          7.28297       11.79814        0.48606\\nH          8.57326       12.02607       -0.59388\\nC          9.77179       16.19862        1.71448\\nH          9.17921       16.60176        1.01631\\nC         10.56890       16.99639        2.47450\\nH         10.58802       17.98637        2.33133\\nC         11.33926       16.41635        3.43425\\nH         11.93566       16.97258        4.01399\\nC         15.05529       10.14476        0.64160\\nH         16.01106       10.19069        0.92794\\nC         14.72650        9.94745       -0.66811\\nH         15.44524        9.83348       -1.35390\\nC         13.40372        9.90833       -1.04459\\nH         13.14757        9.78585       -2.00258\\n\",\"xyz\");\n",
       "\tviewer_14907964964033377.setStyle({\"stick\": {\"radius\": 0.15, \"color\": \"spectrum\"}});\n",
       "\tviewer_14907964964033377.setBackgroundColor(\"0xeeeeee\");\n",
       "\tviewer_14907964964033377.zoomTo();\n",
       "viewer_14907964964033377.render();\n",
       "});\n",
       "</script>"
      ],
      "text/plain": [
       "<IPython.core.display.HTML object>"
      ]
     },
     "execution_count": 50,
     "metadata": {},
     "output_type": "execute_result"
    }
   ],
   "source": [
    "cm1 = open('/home/gosia/work/work_on_gitlab/icho/calcs/m1/m1_crystal.xyz','r').read()\n",
    "vcm1 = py3Dmol.view(width=400,height=400)\n",
    "vcm1.removeAllModels()\n",
    "vcm1.addModel(cm1,'xyz')\n",
    "vcm1.setStyle({'stick':{'radius':0.15,'color':'spectrum'}})\n",
    "vcm1.setBackgroundColor('0xeeeeee')\n",
    "vcm1.zoomTo()\n",
    "vcm1.show()"
   ]
  },
  {
   "cell_type": "code",
   "execution_count": 51,
   "metadata": {
    "collapsed": true,
    "deletable": true,
    "editable": true
   },
   "outputs": [],
   "source": [
    "# decide what is the \"core\" - a part of molecule, which we wish to be most aligned (rmsd-wise) among all the structures\n",
    "# here: pyridine ring\n",
    "m1 = Chem.AddHs(Chem.MolFromSmiles('O=C1NCCNC(=O)c2nc(C(=O)NCCNC(=O)c3nc1ccc3)ccc2'))\n",
    "core_m1 = m1.GetSubstructMatch(Chem.MolFromSmiles('n1ccccc1'))"
   ]
  },
  {
   "cell_type": "code",
   "execution_count": 52,
   "metadata": {
    "collapsed": true,
    "deletable": true,
    "editable": true
   },
   "outputs": [],
   "source": [
    "templ_m1 = Chem.SDMolSupplier('/home/gosia/work/work_on_gitlab/icho/calcs/m1/balloon/m1_crystal.sdf')\n",
    "m1_crystal = templ_m1[0]"
   ]
  },
  {
   "cell_type": "markdown",
   "metadata": {
    "deletable": true,
    "editable": true
   },
   "source": [
    "### Conformers generated with the Balloon software:"
   ]
  },
  {
   "cell_type": "markdown",
   "metadata": {
    "deletable": true,
    "editable": true
   },
   "source": [
    "Conformers were generated in two ways (genetic algorithm):\n",
    "\n",
    "* Starting with the crystal geometry kept as a template, output: \"m1_b_crystal\" on the left fig. below\n",
    "\n",
    "* Starting with the SMILES signature of M1 and allowing to \"rebuild the geometry\" (option --rebuildGeometry), output: \"m1_b_smiles\" on the right fig. below\n",
    "\n",
    "In both cases the Balloon software was asked for 50 conformers (with other parameters set to default values) and it found 6 conformers in the former case and 7 in the latter."
   ]
  },
  {
   "cell_type": "code",
   "execution_count": 53,
   "metadata": {
    "collapsed": false,
    "deletable": true,
    "editable": true
   },
   "outputs": [],
   "source": [
    "inps_m1_b_sdf = glob.glob('/home/gosia/work/work_on_gitlab/icho/calcs/m1/balloon/results_starting_from_crystalsdf/*.sdf')"
   ]
  },
  {
   "cell_type": "code",
   "execution_count": 54,
   "metadata": {
    "collapsed": false
   },
   "outputs": [],
   "source": [
    "inps_m1_b_smi = glob.glob('/home/gosia/work/work_on_gitlab/icho/calcs/m1/balloon/results_starting_from_crystalsmiles/*.sdf')"
   ]
  },
  {
   "cell_type": "code",
   "execution_count": 55,
   "metadata": {
    "collapsed": false,
    "deletable": true,
    "editable": true
   },
   "outputs": [],
   "source": [
    "e_m1_b_sdf = grep_energies_from_sdf_outputs(inps_m1_b_sdf)\n",
    "e_m1_b_smi = grep_energies_from_sdf_outputs(inps_m1_b_smi)"
   ]
  },
  {
   "cell_type": "code",
   "execution_count": 56,
   "metadata": {
    "collapsed": false
   },
   "outputs": [
    {
     "data": {
      "text/html": [
       "<table>\n",
       "  <tr>\n",
       "    <td id=\"m1_b_crystal\" ></td>\n",
       "    <td id=\"m1_b_smiles\"  ></td>\n",
       "  <tr>\n",
       "    <td> m1_b_crystal </td>\n",
       "    <td> m1_b_smiles  </td>  \n",
       "  </tr>\n",
       "</table>"
      ],
      "text/plain": [
       "<IPython.core.display.HTML object>"
      ]
     },
     "metadata": {},
     "output_type": "display_data"
    }
   ],
   "source": [
    "%%html\n",
    "<table>\n",
    "  <tr>\n",
    "    <td id=\"m1_b_crystal\" ></td>\n",
    "    <td id=\"m1_b_smiles\"  ></td>\n",
    "  <tr>\n",
    "    <td> m1_b_crystal </td>\n",
    "    <td> m1_b_smiles  </td>  \n",
    "  </tr>\n",
    "</table>"
   ]
  },
  {
   "cell_type": "code",
   "execution_count": 57,
   "metadata": {
    "collapsed": false,
    "deletable": true,
    "editable": true
   },
   "outputs": [],
   "source": [
    "# write conformers as a list\n",
    "allmol_m1_b_sdf = []\n",
    "allmol_m1_b_smi = []\n",
    "suppl_m1_b_sdf  = Chem.SDMolSupplier('/home/gosia/work/work_on_gitlab/icho/calcs/m1/balloon/m1_crystal_sdfout.sdf')\n",
    "suppl_m1_b_smi  = Chem.SDMolSupplier('/home/gosia/work/work_on_gitlab/icho/calcs/m1/balloon/m1_crystal_smilesout.sdf')\n",
    "\n",
    "for mol in suppl_m1_b_sdf:\n",
    "    allmol_m1_b_sdf.append(mol)\n",
    "for mol in suppl_m1_b_smi:\n",
    "    allmol_m1_b_smi.append(mol)    "
   ]
  },
  {
   "cell_type": "code",
   "execution_count": 58,
   "metadata": {
    "collapsed": false,
    "deletable": true,
    "editable": true
   },
   "outputs": [],
   "source": [
    "# align:\n",
    "for mol in allmol_m1_b_sdf:\n",
    "    AllChem.AlignMolConformers(mol,atomIds=core_m1)\n",
    "for mol in allmol_m1_b_smi:\n",
    "    AllChem.AlignMolConformers(mol,atomIds=core_m1)    "
   ]
  },
  {
   "cell_type": "code",
   "execution_count": 59,
   "metadata": {
    "collapsed": false,
    "deletable": true,
    "editable": true
   },
   "outputs": [],
   "source": [
    "# view:\n",
    "p1_b_handles=[]\n",
    "\n",
    "p1_b_sdf = py3Dmol.view(width=400,height=400)\n",
    "for mol in allmol_m1_b_sdf:\n",
    "    mb = Chem.MolToMolBlock(mol)\n",
    "    p1_b_sdf.addModel(mb,'sdf')\n",
    "p1_b_sdf.setStyle({'stick':{'radius':'0.15'}})\n",
    "p1_b_sdf.setBackgroundColor('0xeeeeee')\n",
    "p1_b_sdf.zoomTo()    \n",
    "p1_b_handles.append(p1_b_sdf)\n",
    "\n",
    "p1_b_smi = py3Dmol.view(width=400,height=400)\n",
    "for mol in allmol_m1_b_smi:\n",
    "    mb = Chem.MolToMolBlock(mol)\n",
    "    p1_b_smi.addModel(mb,'sdf')\n",
    "p1_b_smi.setStyle({'stick':{'radius':'0.15'}})\n",
    "p1_b_smi.setBackgroundColor('0xeeeeee')\n",
    "p1_b_smi.zoomTo()    \n",
    "p1_b_handles.append(p1_b_smi)"
   ]
  },
  {
   "cell_type": "code",
   "execution_count": 60,
   "metadata": {
    "collapsed": false
   },
   "outputs": [
    {
     "data": {
      "text/html": [
       "<div id=\"3dmolviewer_14907964969459324\"  style=\"position: relative; width: 400px; height: 400px\">\n",
       "<script>\n",
       "if(typeof $3Dmolpromise === 'undefined') $3Dmolpromise = $.when($.getScript('http://3dmol.csb.pitt.edu/build/3Dmol.js'))\n",
       "var viewer_14907964969459324 = null;\n",
       "$3Dmolpromise.done(function() {\n",
       "viewer_14907964969459324 = $3Dmol.createViewer($(\"#3dmolviewer_14907964969459324\"),{backgroundColor:\"white\"});\n",
       "\tviewer_14907964969459324.addModel(\"m1_crystal.xyz\\n     RDKit          3D\\n\\n 28 30  0  0  0  0  0  0  0  0999 V2000\\n   10.2977   13.6978   -1.6005 O   0  0  0  0  0  0  0  0  0  0  0  0\\n   15.6873   13.6073    2.8283 O   0  0  0  0  0  0  0  0  0  0  0  0\\n   13.5550    8.3683    5.1527 O   0  0  0  0  0  0  0  0  0  0  0  0\\n    9.1101    7.7832   -0.2158 O   0  0  0  0  0  0  0  0  0  0  0  0\\n   10.1517   12.7485    0.5133 N   0  0  0  0  0  0  0  0  0  0  0  0\\n   12.6896   13.4709    0.9704 N   0  0  0  0  0  0  0  0  0  0  0  0\\n   13.6879   12.4997    3.2194 N   0  0  0  0  0  0  0  0  0  0  0  0\\n   12.2941   10.1383    4.3467 N   0  0  0  0  0  0  0  0  0  0  0  0\\n   11.2312    8.5358    2.5056 N   0  0  0  0  0  0  0  0  0  0  0  0\\n    9.7158    9.8089    0.7422 N   0  0  0  0  0  0  0  0  0  0  0  0\\n   10.7775   13.4682   -0.4937 C   0  0  0  0  0  0  0  0  0  0  0  0\\n   12.1328   13.9703   -0.1566 C   0  0  0  0  0  0  0  0  0  0  0  0\\n   13.9393   13.8982    1.2755 C   0  0  0  0  0  0  0  0  0  0  0  0\\n   14.5362   13.3308    2.5093 C   0  0  0  0  0  0  0  0  0  0  0  0\\n   14.1040   11.7969    4.4206 C   0  0  0  0  0  0  0  0  0  0  0  0\\n   12.9112   11.1864    5.1425 C   0  0  0  0  0  0  0  0  0  0  0  0\\n   12.7048    8.8171    4.3917 C   0  0  0  0  0  0  0  0  0  0  0  0\\n   12.0261    7.9272    3.4177 C   0  0  0  0  0  0  0  0  0  0  0  0\\n   10.6030    7.7384    1.6075 C   0  0  0  0  0  0  0  0  0  0  0  0\\n    9.7348    8.4283    0.6200 C   0  0  0  0  0  0  0  0  0  0  0  0\\n    9.0366   10.6704   -0.2098 C   0  0  0  0  0  0  0  0  0  0  0  0\\n    8.8691   12.0868    0.3301 C   0  0  0  0  0  0  0  0  0  0  0  0\\n   12.7669   14.8822   -0.9905 C   0  0  0  0  0  0  0  0  0  0  0  0\\n   14.0455   15.3055   -0.6395 C   0  0  0  0  0  0  0  0  0  0  0  0\\n   14.6542   14.8097    0.5086 C   0  0  0  0  0  0  0  0  0  0  0  0\\n   12.2255    6.5545    3.4685 C   0  0  0  0  0  0  0  0  0  0  0  0\\n   11.5631    5.7663    2.5310 C   0  0  0  0  0  0  0  0  0  0  0  0\\n   10.7353    6.3563    1.5807 C   0  0  0  0  0  0  0  0  0  0  0  0\\n  1 11  2  0\\n  4 20  2  0\\n  6 13  2  0\\n  7 15  1  0\\n  8 16  1  0\\n  9 18  1  0\\n 11  5  1  0\\n 11 12  1  0\\n 12  6  1  0\\n 13 14  1  0\\n 14  7  1  0\\n 14  2  2  0\\n 16 15  1  0\\n 17  3  2  0\\n 17  8  1  0\\n 18 17  1  0\\n 19  9  2  0\\n 20 19  1  0\\n 20 10  1  0\\n 21 10  1  0\\n 22 21  1  0\\n 22  5  1  0\\n 23 12  2  0\\n 23 24  1  0\\n 24 25  2  0\\n 25 13  1  0\\n 26 18  2  0\\n 27 26  1  0\\n 28 27  2  0\\n 28 19  1  0\\nM  END\\n\",\"sdf\");\n",
       "\tviewer_14907964969459324.addModel(\"m1_crystal.xyz\\n     RDKit          3D\\n\\n 28 30  0  0  0  0  0  0  0  0999 V2000\\n   14.2015    8.1372    4.4696 O   0  0  0  0  0  0  0  0  0  0  0  0\\n    8.6424    8.2487    0.2593 O   0  0  0  0  0  0  0  0  0  0  0  0\\n   10.8554   13.2300   -2.0993 O   0  0  0  0  0  0  0  0  0  0  0  0\\n   15.0652   13.8922    3.4263 O   0  0  0  0  0  0  0  0  0  0  0  0\\n   12.8466    9.9949    4.1566 N   0  0  0  0  0  0  0  0  0  0  0  0\\n   11.2635    8.5981    2.5816 N   0  0  0  0  0  0  0  0  0  0  0  0\\n    9.3224   10.0640    1.5386 N   0  0  0  0  0  0  0  0  0  0  0  0\\n   10.3936   12.3752    0.0098 N   0  0  0  0  0  0  0  0  0  0  0  0\\n   12.6302   13.4062    0.9340 N   0  0  0  0  0  0  0  0  0  0  0  0\\n   12.9764   12.8791    3.4985 N   0  0  0  0  0  0  0  0  0  0  0  0\\n   13.2048    8.6678    3.9925 C   0  0  0  0  0  0  0  0  0  0  0  0\\n   12.2677    7.8892    3.1451 C   0  0  0  0  0  0  0  0  0  0  0  0\\n   10.4163    7.9265    1.7700 C   0  0  0  0  0  0  0  0  0  0  0  0\\n    9.3669    8.7449    1.1157 C   0  0  0  0  0  0  0  0  0  0  0  0\\n    8.5029   11.0678    0.8814 C   0  0  0  0  0  0  0  0  0  0  0  0\\n    9.2007   11.6320   -0.3510 C   0  0  0  0  0  0  0  0  0  0  0  0\\n   11.1401   13.0872   -0.9152 C   0  0  0  0  0  0  0  0  0  0  0  0\\n   12.3710   13.6967   -0.3606 C   0  0  0  0  0  0  0  0  0  0  0  0\\n   13.7461   13.9426    1.4761 C   0  0  0  0  0  0  0  0  0  0  0  0\\n   14.0069   13.5800    2.8917 C   0  0  0  0  0  0  0  0  0  0  0  0\\n   13.0512   12.3456    4.8484 C   0  0  0  0  0  0  0  0  0  0  0  0\\n   13.6676   10.9534    4.8741 C   0  0  0  0  0  0  0  0  0  0  0  0\\n   12.4577    6.5300    2.9411 C   0  0  0  0  0  0  0  0  0  0  0  0\\n   11.5602    5.8670    2.1082 C   0  0  0  0  0  0  0  0  0  0  0  0\\n   10.5191    6.5675    1.5041 C   0  0  0  0  0  0  0  0  0  0  0  0\\n   13.1791   14.5060   -1.1450 C   0  0  0  0  0  0  0  0  0  0  0  0\\n   14.3153   15.0512   -0.5540 C   0  0  0  0  0  0  0  0  0  0  0  0\\n   14.6156   14.7712    0.7786 C   0  0  0  0  0  0  0  0  0  0  0  0\\n  1 11  2  0\\n  4 20  2  0\\n  6 13  2  0\\n  7 15  1  0\\n  8 16  1  0\\n  9 18  1  0\\n 11  5  1  0\\n 11 12  1  0\\n 12  6  1  0\\n 13 14  1  0\\n 14  7  1  0\\n 14  2  2  0\\n 16 15  1  0\\n 17  3  2  0\\n 17  8  1  0\\n 18 17  1  0\\n 19  9  2  0\\n 20 19  1  0\\n 20 10  1  0\\n 21 10  1  0\\n 22 21  1  0\\n 22  5  1  0\\n 23 12  2  0\\n 23 24  1  0\\n 24 25  2  0\\n 25 13  1  0\\n 26 18  2  0\\n 27 26  1  0\\n 28 27  2  0\\n 28 19  1  0\\nM  END\\n\",\"sdf\");\n",
       "\tviewer_14907964969459324.addModel(\"m1_crystal.xyz\\n     RDKit          3D\\n\\n 28 30  0  0  0  0  0  0  0  0999 V2000\\n   10.2518   13.9230   -1.5614 O   0  0  0  0  0  0  0  0  0  0  0  0\\n   15.1653   14.1186    3.3325 O   0  0  0  0  0  0  0  0  0  0  0  0\\n   13.6848    8.1247    5.0385 O   0  0  0  0  0  0  0  0  0  0  0  0\\n    8.8404    7.8481    0.0597 O   0  0  0  0  0  0  0  0  0  0  0  0\\n   11.1203   11.9791   -0.6367 N   0  0  0  0  0  0  0  0  0  0  0  0\\n   12.8361   13.4699    0.7800 N   0  0  0  0  0  0  0  0  0  0  0  0\\n   14.3020   12.1081    2.5567 N   0  0  0  0  0  0  0  0  0  0  0  0\\n   12.7341   10.0377    4.1290 N   0  0  0  0  0  0  0  0  0  0  0  0\\n   11.1290    8.5018    2.6518 N   0  0  0  0  0  0  0  0  0  0  0  0\\n    9.6222    9.8580    0.9201 N   0  0  0  0  0  0  0  0  0  0  0  0\\n   11.0788   13.3453   -0.8626 C   0  0  0  0  0  0  0  0  0  0  0  0\\n   12.1413   14.1222   -0.1817 C   0  0  0  0  0  0  0  0  0  0  0  0\\n   13.7770   14.1859    1.4405 C   0  0  0  0  0  0  0  0  0  0  0  0\\n   14.4865   13.4808    2.5336 C   0  0  0  0  0  0  0  0  0  0  0  0\\n   14.7997   11.2675    3.6339 C   0  0  0  0  0  0  0  0  0  0  0  0\\n   13.7043   10.9836    4.6551 C   0  0  0  0  0  0  0  0  0  0  0  0\\n   12.8480    8.6701    4.3263 C   0  0  0  0  0  0  0  0  0  0  0  0\\n   11.8639    7.8498    3.5825 C   0  0  0  0  0  0  0  0  0  0  0  0\\n   10.2581    7.7576    1.9311 C   0  0  0  0  0  0  0  0  0  0  0  0\\n    9.5004    8.4777    0.8808 C   0  0  0  0  0  0  0  0  0  0  0  0\\n    9.0704   10.7265   -0.1076 C   0  0  0  0  0  0  0  0  0  0  0  0\\n   10.1194   11.0635   -1.1609 C   0  0  0  0  0  0  0  0  0  0  0  0\\n   12.3570   15.4514   -0.5239 C   0  0  0  0  0  0  0  0  0  0  0  0\\n   13.3440   16.1485    0.1657 C   0  0  0  0  0  0  0  0  0  0  0  0\\n   14.0668   15.5178    1.1724 C   0  0  0  0  0  0  0  0  0  0  0  0\\n   11.7594    6.4874    3.8334 C   0  0  0  0  0  0  0  0  0  0  0  0\\n   10.8453    5.7567    3.0807 C   0  0  0  0  0  0  0  0  0  0  0  0\\n   10.0800    6.3909    2.1069 C   0  0  0  0  0  0  0  0  0  0  0  0\\n  1 11  2  0\\n  4 20  2  0\\n  6 13  2  0\\n  7 15  1  0\\n  8 16  1  0\\n  9 18  1  0\\n 11  5  1  0\\n 11 12  1  0\\n 12  6  1  0\\n 13 14  1  0\\n 14  7  1  0\\n 14  2  2  0\\n 16 15  1  0\\n 17  3  2  0\\n 17  8  1  0\\n 18 17  1  0\\n 19  9  2  0\\n 20 19  1  0\\n 20 10  1  0\\n 21 10  1  0\\n 22 21  1  0\\n 22  5  1  0\\n 23 12  2  0\\n 23 24  1  0\\n 24 25  2  0\\n 25 13  1  0\\n 26 18  2  0\\n 27 26  1  0\\n 28 27  2  0\\n 28 19  1  0\\nM  END\\n\",\"sdf\");\n",
       "\tviewer_14907964969459324.addModel(\"m1_crystal.xyz\\n     RDKit          3D\\n\\n 28 30  0  0  0  0  0  0  0  0999 V2000\\n   14.5610    8.8769    3.7473 O   0  0  0  0  0  0  0  0  0  0  0  0\\n    8.5237    8.4457    0.3409 O   0  0  0  0  0  0  0  0  0  0  0  0\\n   11.0002   12.3959   -1.9659 O   0  0  0  0  0  0  0  0  0  0  0  0\\n   14.8796   13.7478    3.6557 O   0  0  0  0  0  0  0  0  0  0  0  0\\n   12.7057   10.1399    4.3471 N   0  0  0  0  0  0  0  0  0  0  0  0\\n   11.3172    8.9224    2.4367 N   0  0  0  0  0  0  0  0  0  0  0  0\\n    9.1574   10.2279    1.6887 N   0  0  0  0  0  0  0  0  0  0  0  0\\n   10.1363   12.4764    0.1880 N   0  0  0  0  0  0  0  0  0  0  0  0\\n   12.5295   13.1372    1.1035 N   0  0  0  0  0  0  0  0  0  0  0  0\\n   12.7048   12.9423    3.7276 N   0  0  0  0  0  0  0  0  0  0  0  0\\n   13.3646    9.1294    3.6719 C   0  0  0  0  0  0  0  0  0  0  0  0\\n   12.4817    8.3276    2.7912 C   0  0  0  0  0  0  0  0  0  0  0  0\\n   10.5052    8.2355    1.5994 C   0  0  0  0  0  0  0  0  0  0  0  0\\n    9.2881    8.9582    1.1514 C   0  0  0  0  0  0  0  0  0  0  0  0\\n    8.2502   11.2283    1.1511 C   0  0  0  0  0  0  0  0  0  0  0  0\\n    8.8369   11.8871   -0.0933 C   0  0  0  0  0  0  0  0  0  0  0  0\\n   11.1180   12.6512   -0.7725 C   0  0  0  0  0  0  0  0  0  0  0  0\\n   12.4001   13.1758   -0.2422 C   0  0  0  0  0  0  0  0  0  0  0  0\\n   13.7035   13.5657    1.6247 C   0  0  0  0  0  0  0  0  0  0  0  0\\n   13.8306   13.4466    3.0985 C   0  0  0  0  0  0  0  0  0  0  0  0\\n   12.7087   12.4694    5.1036 C   0  0  0  0  0  0  0  0  0  0  0  0\\n   13.3670   11.0971    5.2147 C   0  0  0  0  0  0  0  0  0  0  0  0\\n   12.8719    7.0744    2.3484 C   0  0  0  0  0  0  0  0  0  0  0  0\\n   12.0019    6.3879    1.5078 C   0  0  0  0  0  0  0  0  0  0  0  0\\n   10.7958    6.9684    1.1169 C   0  0  0  0  0  0  0  0  0  0  0  0\\n   13.3989   13.6260   -1.0964 C   0  0  0  0  0  0  0  0  0  0  0  0\\n   14.5897   14.0704   -0.5253 C   0  0  0  0  0  0  0  0  0  0  0  0\\n   14.7581   14.0410    0.8567 C   0  0  0  0  0  0  0  0  0  0  0  0\\n  1 11  2  0\\n  4 20  2  0\\n  6 13  2  0\\n  7 15  1  0\\n  8 16  1  0\\n  9 18  1  0\\n 11  5  1  0\\n 11 12  1  0\\n 12  6  1  0\\n 13 14  1  0\\n 14  7  1  0\\n 14  2  2  0\\n 16 15  1  0\\n 17  3  2  0\\n 17  8  1  0\\n 18 17  1  0\\n 19  9  2  0\\n 20 19  1  0\\n 20 10  1  0\\n 21 10  1  0\\n 22 21  1  0\\n 22  5  1  0\\n 23 12  2  0\\n 23 24  1  0\\n 24 25  2  0\\n 25 13  1  0\\n 26 18  2  0\\n 27 26  1  0\\n 28 27  2  0\\n 28 19  1  0\\nM  END\\n\",\"sdf\");\n",
       "\tviewer_14907964969459324.addModel(\"m1_crystal.xyz\\n     RDKit          3D\\n\\n 28 30  0  0  0  0  0  0  0  0999 V2000\\n   10.0102   13.0616   -1.2836 O   0  0  0  0  0  0  0  0  0  0  0  0\\n   15.4094   12.0885    2.9541 O   0  0  0  0  0  0  0  0  0  0  0  0\\n   13.6037    9.0308    5.0370 O   0  0  0  0  0  0  0  0  0  0  0  0\\n    9.9304    9.1105   -0.8428 O   0  0  0  0  0  0  0  0  0  0  0  0\\n    9.8479   12.6680    0.9973 N   0  0  0  0  0  0  0  0  0  0  0  0\\n   12.4752   12.8217    1.2298 N   0  0  0  0  0  0  0  0  0  0  0  0\\n   13.3602   12.8514    3.7528 N   0  0  0  0  0  0  0  0  0  0  0  0\\n   11.9192   10.5499    4.5452 N   0  0  0  0  0  0  0  0  0  0  0  0\\n   11.3094    9.1861    2.3618 N   0  0  0  0  0  0  0  0  0  0  0  0\\n    9.0603    9.9640    1.1387 N   0  0  0  0  0  0  0  0  0  0  0  0\\n   10.5297   12.9215   -0.1815 C   0  0  0  0  0  0  0  0  0  0  0  0\\n   12.0072   12.9806   -0.0290 C   0  0  0  0  0  0  0  0  0  0  0  0\\n   13.8202   12.8190    1.3918 C   0  0  0  0  0  0  0  0  0  0  0  0\\n   14.2908   12.5560    2.7689 C   0  0  0  0  0  0  0  0  0  0  0  0\\n   13.4797   12.3838    5.1257 C   0  0  0  0  0  0  0  0  0  0  0  0\\n   12.2619   11.5541    5.5385 C   0  0  0  0  0  0  0  0  0  0  0  0\\n   12.6962    9.4267    4.3137 C   0  0  0  0  0  0  0  0  0  0  0  0\\n   12.3885    8.7300    3.0415 C   0  0  0  0  0  0  0  0  0  0  0  0\\n   11.0705    8.6314    1.1517 C   0  0  0  0  0  0  0  0  0  0  0  0\\n    9.9648    9.2401    0.3771 C   0  0  0  0  0  0  0  0  0  0  0  0\\n    8.1379   10.9265    0.5556 C   0  0  0  0  0  0  0  0  0  0  0  0\\n    8.4319   12.3433    1.0486 C   0  0  0  0  0  0  0  0  0  0  0  0\\n   12.8286   13.1498   -1.1359 C   0  0  0  0  0  0  0  0  0  0  0  0\\n   14.2076   13.1510   -0.9304 C   0  0  0  0  0  0  0  0  0  0  0  0\\n   14.7229   12.9744    0.3519 C   0  0  0  0  0  0  0  0  0  0  0  0\\n   13.2255    7.7260    2.5757 C   0  0  0  0  0  0  0  0  0  0  0  0\\n   12.9442    7.1744    1.3293 C   0  0  0  0  0  0  0  0  0  0  0  0\\n   11.8523    7.6311    0.5929 C   0  0  0  0  0  0  0  0  0  0  0  0\\n  1 11  2  0\\n  4 20  2  0\\n  6 13  2  0\\n  7 15  1  0\\n  8 16  1  0\\n  9 18  1  0\\n 11  5  1  0\\n 11 12  1  0\\n 12  6  1  0\\n 13 14  1  0\\n 14  7  1  0\\n 14  2  2  0\\n 16 15  1  0\\n 17  3  2  0\\n 17  8  1  0\\n 18 17  1  0\\n 19  9  2  0\\n 20 19  1  0\\n 20 10  1  0\\n 21 10  1  0\\n 22 21  1  0\\n 22  5  1  0\\n 23 12  2  0\\n 23 24  1  0\\n 24 25  2  0\\n 25 13  1  0\\n 26 18  2  0\\n 27 26  1  0\\n 28 27  2  0\\n 28 19  1  0\\nM  END\\n\",\"sdf\");\n",
       "\tviewer_14907964969459324.addModel(\"m1_crystal.xyz\\n     RDKit          3D\\n\\n 28 30  0  0  0  0  0  0  0  0999 V2000\\n   14.2533    9.3048    4.4040 O   0  0  0  0  0  0  0  0  0  0  0  0\\n    9.1026    8.9934   -0.3062 O   0  0  0  0  0  0  0  0  0  0  0  0\\n   10.4788   12.1630   -1.6393 O   0  0  0  0  0  0  0  0  0  0  0  0\\n   15.1746   12.5493    3.4069 O   0  0  0  0  0  0  0  0  0  0  0  0\\n   12.1842   10.3414    4.6065 N   0  0  0  0  0  0  0  0  0  0  0  0\\n   11.4027    9.2907    2.3426 N   0  0  0  0  0  0  0  0  0  0  0  0\\n    9.0700   10.2300    1.6627 N   0  0  0  0  0  0  0  0  0  0  0  0\\n    9.7932   12.6533    0.5231 N   0  0  0  0  0  0  0  0  0  0  0  0\\n   12.4082   12.7304    1.2383 N   0  0  0  0  0  0  0  0  0  0  0  0\\n   12.9237   12.8565    3.8769 N   0  0  0  0  0  0  0  0  0  0  0  0\\n   13.1166    9.5166    3.9982 C   0  0  0  0  0  0  0  0  0  0  0  0\\n   12.6306    8.8910    2.7419 C   0  0  0  0  0  0  0  0  0  0  0  0\\n   10.9231    8.7836    1.1831 C   0  0  0  0  0  0  0  0  0  0  0  0\\n    9.6025    9.3208    0.7633 C   0  0  0  0  0  0  0  0  0  0  0  0\\n    7.9931   11.1514    1.3485 C   0  0  0  0  0  0  0  0  0  0  0  0\\n    8.4077   12.2363    0.3555 C   0  0  0  0  0  0  0  0  0  0  0  0\\n   10.7321   12.4962   -0.4848 C   0  0  0  0  0  0  0  0  0  0  0  0\\n   12.1410   12.7250   -0.0896 C   0  0  0  0  0  0  0  0  0  0  0  0\\n   13.7155   12.8212    1.5887 C   0  0  0  0  0  0  0  0  0  0  0  0\\n   14.0190   12.7359    3.0362 C   0  0  0  0  0  0  0  0  0  0  0  0\\n   13.0146   12.5961    5.3033 C   0  0  0  0  0  0  0  0  0  0  0  0\\n   12.4780   11.2224    5.7205 C   0  0  0  0  0  0  0  0  0  0  0  0\\n   13.4087    7.9921    2.0294 C   0  0  0  0  0  0  0  0  0  0  0  0\\n   12.8813    7.4787    0.8441 C   0  0  0  0  0  0  0  0  0  0  0  0\\n   11.6195    7.8760    0.4019 C   0  0  0  0  0  0  0  0  0  0  0  0\\n   13.1139   12.8305   -1.0775 C   0  0  0  0  0  0  0  0  0  0  0  0\\n   14.4402   12.9399   -0.6772 C   0  0  0  0  0  0  0  0  0  0  0  0\\n   14.7580   12.9257    0.6756 C   0  0  0  0  0  0  0  0  0  0  0  0\\n  1 11  2  0\\n  4 20  2  0\\n  6 13  2  0\\n  7 15  1  0\\n  8 16  1  0\\n  9 18  1  0\\n 11  5  1  0\\n 11 12  1  0\\n 12  6  1  0\\n 13 14  1  0\\n 14  7  1  0\\n 14  2  2  0\\n 16 15  1  0\\n 17  3  2  0\\n 17  8  1  0\\n 18 17  1  0\\n 19  9  2  0\\n 20 19  1  0\\n 20 10  1  0\\n 21 10  1  0\\n 22 21  1  0\\n 22  5  1  0\\n 23 12  2  0\\n 23 24  1  0\\n 24 25  2  0\\n 25 13  1  0\\n 26 18  2  0\\n 27 26  1  0\\n 28 27  2  0\\n 28 19  1  0\\nM  END\\n\",\"sdf\");\n",
       "\tviewer_14907964969459324.setStyle({\"stick\": {\"radius\": \"0.15\"}});\n",
       "\tviewer_14907964969459324.setBackgroundColor(\"0xeeeeee\");\n",
       "\tviewer_14907964969459324.zoomTo();\n",
       "viewer_14907964969459324.render();\n",
       "});\n",
       "</script><script>$(\"#m1_b_crystal\").append($(\"#3dmolviewer_14907964969459324\")); </script>"
      ],
      "text/plain": [
       "<IPython.core.display.HTML object>"
      ]
     },
     "execution_count": 60,
     "metadata": {},
     "output_type": "execute_result"
    }
   ],
   "source": [
    "p1_b_handles[0].insert('m1_b_crystal')"
   ]
  },
  {
   "cell_type": "code",
   "execution_count": 61,
   "metadata": {
    "collapsed": false
   },
   "outputs": [
    {
     "data": {
      "text/html": [
       "<div id=\"3dmolviewer_14907964969904616\"  style=\"position: relative; width: 400px; height: 400px\">\n",
       "<script>\n",
       "if(typeof $3Dmolpromise === 'undefined') $3Dmolpromise = $.when($.getScript('http://3dmol.csb.pitt.edu/build/3Dmol.js'))\n",
       "var viewer_14907964969904616 = null;\n",
       "$3Dmolpromise.done(function() {\n",
       "viewer_14907964969904616 = $3Dmol.createViewer($(\"#3dmolviewer_14907964969904616\"),{backgroundColor:\"white\"});\n",
       "\tviewer_14907964969904616.addModel(\"m1_crystal.xyz\\n     RDKit          3D\\n\\n 28 30  0  0  0  0  0  0  0  0999 V2000\\n   -4.3463   -0.7373    1.2762 O   0  0  0  0  0  0  0  0  0  0  0  0\\n   -3.1466   -0.7466    1.0203 C   0  0  0  0  0  0  0  0  0  0  0  0\\n   -2.5092    0.1108    0.1391 N   0  0  0  0  0  0  0  0  0  0  0  0\\n   -3.2258    1.0921   -0.6565 C   0  0  0  0  0  0  0  0  0  0  0  0\\n   -2.3041    2.2145   -1.1124 C   0  0  0  0  0  0  0  0  0  0  0  0\\n   -1.3092    1.7381   -2.0587 N   0  0  0  0  0  0  0  0  0  0  0  0\\n   -1.4894    1.7879   -3.4309 C   0  0  0  0  0  0  0  0  0  0  0  0\\n   -2.4479    2.3004   -4.0000 O   0  0  0  0  0  0  0  0  0  0  0  0\\n   -0.4092    1.1490   -4.2218 C   0  0  0  0  0  0  0  0  0  0  0  0\\n    0.5375    0.4905   -3.5126 N   0  0  0  0  0  0  0  0  0  0  0  0\\n    1.5215   -0.1153   -4.2184 C   0  0  0  0  0  0  0  0  0  0  0  0\\n    2.5542   -0.8199   -3.4195 C   0  0  0  0  0  0  0  0  0  0  0  0\\n    3.5394   -1.3001   -3.9697 O   0  0  0  0  0  0  0  0  0  0  0  0\\n    2.2915   -0.8700   -2.0608 N   0  0  0  0  0  0  0  0  0  0  0  0\\n    3.1318   -1.5961   -1.1218 C   0  0  0  0  0  0  0  0  0  0  0  0\\n    2.9847   -1.0466    0.2914 C   0  0  0  0  0  0  0  0  0  0  0  0\\n    1.6550   -1.2908    0.8252 N   0  0  0  0  0  0  0  0  0  0  0  0\\n    1.3290   -2.4296    1.5435 C   0  0  0  0  0  0  0  0  0  0  0  0\\n    2.1174   -3.3118    1.8682 O   0  0  0  0  0  0  0  0  0  0  0  0\\n   -0.1001   -2.5336    1.9235 C   0  0  0  0  0  0  0  0  0  0  0  0\\n   -0.9374   -1.6428    1.3440 N   0  0  0  0  0  0  0  0  0  0  0  0\\n   -2.2487   -1.7310    1.6721 C   0  0  0  0  0  0  0  0  0  0  0  0\\n   -2.7598   -2.6655    2.5630 C   0  0  0  0  0  0  0  0  0  0  0  0\\n   -1.8685   -3.5646    3.1403 C   0  0  0  0  0  0  0  0  0  0  0  0\\n   -0.5154   -3.5093    2.8195 C   0  0  0  0  0  0  0  0  0  0  0  0\\n    1.6026   -0.0919   -5.6044 C   0  0  0  0  0  0  0  0  0  0  0  0\\n    0.6124    0.5948   -6.2998 C   0  0  0  0  0  0  0  0  0  0  0  0\\n   -0.4145    1.2302   -5.6079 C   0  0  0  0  0  0  0  0  0  0  0  0\\n  2  1  2  0\\n  3  2  1  0\\n  4  3  1  0\\n  5  4  1  0\\n  6  5  1  0\\n  7  6  1  0\\n  8  7  2  0\\n  9  7  1  0\\n 10  9  1  0\\n 11 10  2  0\\n 12 11  1  0\\n 13 12  2  0\\n 14 12  1  0\\n 15 14  1  0\\n 16 15  1  0\\n 17 16  1  0\\n 18 17  1  0\\n 19 18  2  0\\n 20 18  1  0\\n 21 20  1  0\\n 22 21  2  0\\n 22  2  1  0\\n 23 22  1  0\\n 24 23  2  0\\n 25 24  1  0\\n 25 20  2  0\\n 26 11  1  0\\n 27 26  2  0\\n 28 27  1  0\\n 28  9  2  0\\nM  END\\n\",\"sdf\");\n",
       "\tviewer_14907964969904616.addModel(\"m1_crystal.xyz\\n     RDKit          3D\\n\\n 28 30  0  0  0  0  0  0  0  0999 V2000\\n   -3.9954   -0.0816    1.6610 O   0  0  0  0  0  0  0  0  0  0  0  0\\n   -3.0669   -0.6590    1.1035 C   0  0  0  0  0  0  0  0  0  0  0  0\\n   -2.7909   -0.6023   -0.2536 N   0  0  0  0  0  0  0  0  0  0  0  0\\n   -3.5446    0.2368   -1.1723 C   0  0  0  0  0  0  0  0  0  0  0  0\\n   -2.8470    1.5732   -1.3989 C   0  0  0  0  0  0  0  0  0  0  0  0\\n   -1.6510    1.4102   -2.2097 N   0  0  0  0  0  0  0  0  0  0  0  0\\n   -1.6260    1.6566   -3.5732 C   0  0  0  0  0  0  0  0  0  0  0  0\\n   -2.5535    2.1249   -4.2255 O   0  0  0  0  0  0  0  0  0  0  0  0\\n   -0.3546    1.2949   -4.2463 C   0  0  0  0  0  0  0  0  0  0  0  0\\n    0.5666    0.6632   -3.4813 N   0  0  0  0  0  0  0  0  0  0  0  0\\n    1.7135    0.2868   -4.0940 C   0  0  0  0  0  0  0  0  0  0  0  0\\n    2.6940   -0.4435   -3.2550 C   0  0  0  0  0  0  0  0  0  0  0  0\\n    3.7195   -0.8898   -3.7594 O   0  0  0  0  0  0  0  0  0  0  0  0\\n    2.3369   -0.5715   -1.9226 N   0  0  0  0  0  0  0  0  0  0  0  0\\n    3.0905   -1.3841   -0.9807 C   0  0  0  0  0  0  0  0  0  0  0  0\\n    2.4385   -2.7499   -0.7944 C   0  0  0  0  0  0  0  0  0  0  0  0\\n    1.2183   -2.6382   -0.0104 N   0  0  0  0  0  0  0  0  0  0  0  0\\n    1.1512   -2.9757    1.3316 C   0  0  0  0  0  0  0  0  0  0  0  0\\n    2.0470   -3.5193    1.9697 O   0  0  0  0  0  0  0  0  0  0  0  0\\n   -0.1192   -2.6091    2.0047 C   0  0  0  0  0  0  0  0  0  0  0  0\\n   -1.0005   -1.8875    1.2715 N   0  0  0  0  0  0  0  0  0  0  0  0\\n   -2.1343   -1.4936    1.8982 C   0  0  0  0  0  0  0  0  0  0  0  0\\n   -2.4332   -1.7970    3.2210 C   0  0  0  0  0  0  0  0  0  0  0  0\\n   -1.5115   -2.5516    3.9378 C   0  0  0  0  0  0  0  0  0  0  0  0\\n   -0.3304   -2.9667    3.3307 C   0  0  0  0  0  0  0  0  0  0  0  0\\n    1.9843    0.5208   -5.4368 C   0  0  0  0  0  0  0  0  0  0  0  0\\n    1.0189    1.1815   -6.1891 C   0  0  0  0  0  0  0  0  0  0  0  0\\n   -0.1754    1.5772   -5.5952 C   0  0  0  0  0  0  0  0  0  0  0  0\\n  2  1  2  0\\n  3  2  1  0\\n  4  3  1  0\\n  5  4  1  0\\n  6  5  1  0\\n  7  6  1  0\\n  8  7  2  0\\n  9  7  1  0\\n 10  9  1  0\\n 11 10  2  0\\n 12 11  1  0\\n 13 12  2  0\\n 14 12  1  0\\n 15 14  1  0\\n 16 15  1  0\\n 17 16  1  0\\n 18 17  1  0\\n 19 18  2  0\\n 20 18  1  0\\n 21 20  1  0\\n 22 21  2  0\\n 22  2  1  0\\n 23 22  1  0\\n 24 23  2  0\\n 25 24  1  0\\n 25 20  2  0\\n 26 11  1  0\\n 27 26  2  0\\n 28 27  1  0\\n 28  9  2  0\\nM  END\\n\",\"sdf\");\n",
       "\tviewer_14907964969904616.addModel(\"m1_crystal.xyz\\n     RDKit          3D\\n\\n 28 30  0  0  0  0  0  0  0  0999 V2000\\n   -2.6482    1.9321   -4.4217 O   0  0  0  0  0  0  0  0  0  0  0  0\\n   -1.7506    1.4200   -3.7602 C   0  0  0  0  0  0  0  0  0  0  0  0\\n   -1.8233    1.1166   -2.4100 N   0  0  0  0  0  0  0  0  0  0  0  0\\n   -3.0363    1.2949   -1.6299 C   0  0  0  0  0  0  0  0  0  0  0  0\\n   -2.7194    1.5951   -0.1717 C   0  0  0  0  0  0  0  0  0  0  0  0\\n   -2.1598    0.4389    0.5072 N   0  0  0  0  0  0  0  0  0  0  0  0\\n   -2.9210   -0.4297    1.2733 C   0  0  0  0  0  0  0  0  0  0  0  0\\n   -4.1257   -0.3315    1.4770 O   0  0  0  0  0  0  0  0  0  0  0  0\\n   -2.1511   -1.5383    1.8843 C   0  0  0  0  0  0  0  0  0  0  0  0\\n   -0.9042   -1.7323    1.3970 N   0  0  0  0  0  0  0  0  0  0  0  0\\n   -0.1781   -2.7318    1.9495 C   0  0  0  0  0  0  0  0  0  0  0  0\\n    1.1831   -2.9258    1.3945 C   0  0  0  0  0  0  0  0  0  0  0  0\\n    1.9407   -3.7483    1.8983 O   0  0  0  0  0  0  0  0  0  0  0  0\\n    1.4800   -2.1206    0.3062 N   0  0  0  0  0  0  0  0  0  0  0  0\\n    2.7283   -2.2122   -0.4332 C   0  0  0  0  0  0  0  0  0  0  0  0\\n    3.2204   -0.8334   -0.8556 C   0  0  0  0  0  0  0  0  0  0  0  0\\n    2.3849   -0.2607   -1.8982 N   0  0  0  0  0  0  0  0  0  0  0  0\\n    2.6731   -0.3913   -3.2477 C   0  0  0  0  0  0  0  0  0  0  0  0\\n    3.6717   -0.9327   -3.7105 O   0  0  0  0  0  0  0  0  0  0  0  0\\n    1.6579    0.1912   -4.1558 C   0  0  0  0  0  0  0  0  0  0  0  0\\n    0.4859    0.5515   -3.5840 N   0  0  0  0  0  0  0  0  0  0  0  0\\n   -0.4613    1.0665   -4.4031 C   0  0  0  0  0  0  0  0  0  0  0  0\\n   -0.2814    1.2551   -5.7676 C   0  0  0  0  0  0  0  0  0  0  0  0\\n    0.9365    0.8715   -6.3203 C   0  0  0  0  0  0  0  0  0  0  0  0\\n    1.9275    0.3227   -5.5120 C   0  0  0  0  0  0  0  0  0  0  0  0\\n   -0.6420   -3.5428    2.9770 C   0  0  0  0  0  0  0  0  0  0  0  0\\n   -1.9317   -3.3156    3.4499 C   0  0  0  0  0  0  0  0  0  0  0  0\\n   -2.7113   -2.3033    2.8984 C   0  0  0  0  0  0  0  0  0  0  0  0\\n  2  1  2  0\\n  3  2  1  0\\n  4  3  1  0\\n  5  4  1  0\\n  6  5  1  0\\n  7  6  1  0\\n  8  7  2  0\\n  9  7  1  0\\n 10  9  1  0\\n 11 10  2  0\\n 12 11  1  0\\n 13 12  2  0\\n 14 12  1  0\\n 15 14  1  0\\n 16 15  1  0\\n 17 16  1  0\\n 18 17  1  0\\n 19 18  2  0\\n 20 18  1  0\\n 21 20  1  0\\n 22 21  2  0\\n 22  2  1  0\\n 23 22  1  0\\n 24 23  2  0\\n 25 24  1  0\\n 25 20  2  0\\n 26 11  1  0\\n 27 26  2  0\\n 28 27  1  0\\n 28  9  2  0\\nM  END\\n\",\"sdf\");\n",
       "\tviewer_14907964969904616.addModel(\"m1_crystal.xyz\\n     RDKit          3D\\n\\n 28 30  0  0  0  0  0  0  0  0999 V2000\\n   -4.2776   -0.6440    0.9464 O   0  0  0  0  0  0  0  0  0  0  0  0\\n   -3.0584   -0.5798    0.8307 C   0  0  0  0  0  0  0  0  0  0  0  0\\n   -2.3623    0.4822    0.2791 N   0  0  0  0  0  0  0  0  0  0  0  0\\n   -3.0155    1.6253   -0.3394 C   0  0  0  0  0  0  0  0  0  0  0  0\\n   -1.9995    2.6049   -0.9170 C   0  0  0  0  0  0  0  0  0  0  0  0\\n   -1.1406    1.9602   -1.8950 N   0  0  0  0  0  0  0  0  0  0  0  0\\n   -1.5019    1.7569   -3.2159 C   0  0  0  0  0  0  0  0  0  0  0  0\\n   -2.5072    2.2058   -3.7550 O   0  0  0  0  0  0  0  0  0  0  0  0\\n   -0.5595    0.9004   -3.9777 C   0  0  0  0  0  0  0  0  0  0  0  0\\n    0.5014    0.4310   -3.2799 N   0  0  0  0  0  0  0  0  0  0  0  0\\n    1.3668   -0.3736   -3.9386 C   0  0  0  0  0  0  0  0  0  0  0  0\\n    2.4910   -0.9079   -3.1305 C   0  0  0  0  0  0  0  0  0  0  0  0\\n    3.3193   -1.6570   -3.6362 O   0  0  0  0  0  0  0  0  0  0  0  0\\n    2.4807   -0.5002   -1.8067 N   0  0  0  0  0  0  0  0  0  0  0  0\\n    3.4350   -0.9846   -0.8245 C   0  0  0  0  0  0  0  0  0  0  0  0\\n    3.0525   -0.5632    0.5874 C   0  0  0  0  0  0  0  0  0  0  0  0\\n    1.7106   -0.9992    0.9310 N   0  0  0  0  0  0  0  0  0  0  0  0\\n    1.4036   -2.2785    1.3591 C   0  0  0  0  0  0  0  0  0  0  0  0\\n    2.2200   -3.1623    1.5974 O   0  0  0  0  0  0  0  0  0  0  0  0\\n   -0.0501   -2.5281    1.5169 C   0  0  0  0  0  0  0  0  0  0  0  0\\n   -0.8631   -1.5103    1.1462 N   0  0  0  0  0  0  0  0  0  0  0  0\\n   -2.1960   -1.7031    1.2770 C   0  0  0  0  0  0  0  0  0  0  0  0\\n   -2.7561   -2.8722    1.7715 C   0  0  0  0  0  0  0  0  0  0  0  0\\n   -1.8880   -3.8994    2.1389 C   0  0  0  0  0  0  0  0  0  0  0  0\\n   -0.5102   -3.7394    2.0105 C   0  0  0  0  0  0  0  0  0  0  0  0\\n    1.2245   -0.7264   -5.2727 C   0  0  0  0  0  0  0  0  0  0  0  0\\n    0.1197   -0.2297   -5.9593 C   0  0  0  0  0  0  0  0  0  0  0  0\\n   -0.7941    0.5978   -5.3126 C   0  0  0  0  0  0  0  0  0  0  0  0\\n  2  1  2  0\\n  3  2  1  0\\n  4  3  1  0\\n  5  4  1  0\\n  6  5  1  0\\n  7  6  1  0\\n  8  7  2  0\\n  9  7  1  0\\n 10  9  1  0\\n 11 10  2  0\\n 12 11  1  0\\n 13 12  2  0\\n 14 12  1  0\\n 15 14  1  0\\n 16 15  1  0\\n 17 16  1  0\\n 18 17  1  0\\n 19 18  2  0\\n 20 18  1  0\\n 21 20  1  0\\n 22 21  2  0\\n 22  2  1  0\\n 23 22  1  0\\n 24 23  2  0\\n 25 24  1  0\\n 25 20  2  0\\n 26 11  1  0\\n 27 26  2  0\\n 28 27  1  0\\n 28  9  2  0\\nM  END\\n\",\"sdf\");\n",
       "\tviewer_14907964969904616.addModel(\"m1_crystal.xyz\\n     RDKit          3D\\n\\n 28 30  0  0  0  0  0  0  0  0999 V2000\\n   -2.9369    1.1950   -3.9322 O   0  0  0  0  0  0  0  0  0  0  0  0\\n   -1.8684    1.1402   -3.3333 C   0  0  0  0  0  0  0  0  0  0  0  0\\n   -1.6541    1.5798   -2.0392 N   0  0  0  0  0  0  0  0  0  0  0  0\\n   -2.7160    2.1082   -1.2004 C   0  0  0  0  0  0  0  0  0  0  0  0\\n   -2.2906    2.1977    0.2604 C   0  0  0  0  0  0  0  0  0  0  0  0\\n   -1.8538    0.9060    0.7626 N   0  0  0  0  0  0  0  0  0  0  0  0\\n   -2.7358   -0.0862    1.1615 C   0  0  0  0  0  0  0  0  0  0  0  0\\n   -3.9441    0.0600    1.3135 O   0  0  0  0  0  0  0  0  0  0  0  0\\n   -2.1054   -1.4141    1.3741 C   0  0  0  0  0  0  0  0  0  0  0  0\\n   -0.7802   -1.4844    1.1061 N   0  0  0  0  0  0  0  0  0  0  0  0\\n   -0.1894   -2.6936    1.2399 C   0  0  0  0  0  0  0  0  0  0  0  0\\n    1.2510   -2.7513    0.8897 C   0  0  0  0  0  0  0  0  0  0  0  0\\n    1.8442   -3.8233    0.8839 O   0  0  0  0  0  0  0  0  0  0  0  0\\n    1.8098   -1.5258    0.5661 N   0  0  0  0  0  0  0  0  0  0  0  0\\n    3.1861   -1.3811    0.1237 C   0  0  0  0  0  0  0  0  0  0  0  0\\n    3.4405   -0.0169   -0.5103 C   0  0  0  0  0  0  0  0  0  0  0  0\\n    2.5259    0.2426   -1.6100 N   0  0  0  0  0  0  0  0  0  0  0  0\\n    2.6868   -0.3139   -2.8683 C   0  0  0  0  0  0  0  0  0  0  0  0\\n    3.6790   -0.9226   -3.2527 O   0  0  0  0  0  0  0  0  0  0  0  0\\n    1.5141   -0.1530   -3.7617 C   0  0  0  0  0  0  0  0  0  0  0  0\\n    0.4299    0.4423   -3.2110 N   0  0  0  0  0  0  0  0  0  0  0  0\\n   -0.6771    0.5431   -3.9833 C   0  0  0  0  0  0  0  0  0  0  0  0\\n   -0.7449    0.0851   -5.2914 C   0  0  0  0  0  0  0  0  0  0  0  0\\n    0.3904   -0.5153   -5.8284 C   0  0  0  0  0  0  0  0  0  0  0  0\\n    1.5435   -0.6456   -5.0588 C   0  0  0  0  0  0  0  0  0  0  0  0\\n   -0.8649   -3.8385    1.6396 C   0  0  0  0  0  0  0  0  0  0  0  0\\n   -2.2258   -3.7280    1.9122 C   0  0  0  0  0  0  0  0  0  0  0  0\\n   -2.8689   -2.5007    1.7789 C   0  0  0  0  0  0  0  0  0  0  0  0\\n  2  1  2  0\\n  3  2  1  0\\n  4  3  1  0\\n  5  4  1  0\\n  6  5  1  0\\n  7  6  1  0\\n  8  7  2  0\\n  9  7  1  0\\n 10  9  1  0\\n 11 10  2  0\\n 12 11  1  0\\n 13 12  2  0\\n 14 12  1  0\\n 15 14  1  0\\n 16 15  1  0\\n 17 16  1  0\\n 18 17  1  0\\n 19 18  2  0\\n 20 18  1  0\\n 21 20  1  0\\n 22 21  2  0\\n 22  2  1  0\\n 23 22  1  0\\n 24 23  2  0\\n 25 24  1  0\\n 25 20  2  0\\n 26 11  1  0\\n 27 26  2  0\\n 28 27  1  0\\n 28  9  2  0\\nM  END\\n\",\"sdf\");\n",
       "\tviewer_14907964969904616.addModel(\"m1_crystal.xyz\\n     RDKit          3D\\n\\n 28 30  0  0  0  0  0  0  0  0999 V2000\\n    1.9100   -3.5002   -0.0907 O   0  0  0  0  0  0  0  0  0  0  0  0\\n    1.3678   -2.5294    0.4260 C   0  0  0  0  0  0  0  0  0  0  0  0\\n    2.0014   -1.3620    0.8219 N   0  0  0  0  0  0  0  0  0  0  0  0\\n    3.3811   -1.0537    0.4739 C   0  0  0  0  0  0  0  0  0  0  0  0\\n    3.4834    0.2675   -0.2881 C   0  0  0  0  0  0  0  0  0  0  0  0\\n    2.5124    0.3459   -1.3670 N   0  0  0  0  0  0  0  0  0  0  0  0\\n    2.6106   -0.4049   -2.5276 C   0  0  0  0  0  0  0  0  0  0  0  0\\n    3.6040   -1.0269   -2.8905 O   0  0  0  0  0  0  0  0  0  0  0  0\\n    1.3565   -0.4573   -3.3188 C   0  0  0  0  0  0  0  0  0  0  0  0\\n    0.3375    0.2999   -2.8478 N   0  0  0  0  0  0  0  0  0  0  0  0\\n   -0.8481    0.2030   -3.4907 C   0  0  0  0  0  0  0  0  0  0  0  0\\n   -1.9632    0.9829   -2.9020 C   0  0  0  0  0  0  0  0  0  0  0  0\\n   -3.1203    0.7305   -3.2203 O   0  0  0  0  0  0  0  0  0  0  0  0\\n   -1.5730    1.9465   -1.9844 N   0  0  0  0  0  0  0  0  0  0  0  0\\n   -2.5099    2.6190   -1.0954 C   0  0  0  0  0  0  0  0  0  0  0  0\\n   -2.0945    2.4683    0.3668 C   0  0  0  0  0  0  0  0  0  0  0  0\\n   -1.7223    1.1006    0.6897 N   0  0  0  0  0  0  0  0  0  0  0  0\\n   -2.6369    0.0744    0.8573 C   0  0  0  0  0  0  0  0  0  0  0  0\\n   -3.8516    0.2114    0.9617 O   0  0  0  0  0  0  0  0  0  0  0  0\\n   -2.0237   -1.2806    0.8568 C   0  0  0  0  0  0  0  0  0  0  0  0\\n   -0.6750   -1.3144    0.7421 N   0  0  0  0  0  0  0  0  0  0  0  0\\n   -0.0970   -2.5344    0.6448 C   0  0  0  0  0  0  0  0  0  0  0  0\\n   -0.8030   -3.7294    0.6693 C   0  0  0  0  0  0  0  0  0  0  0  0\\n   -2.1855   -3.6573    0.8121 C   0  0  0  0  0  0  0  0  0  0  0  0\\n   -2.8172   -2.4187    0.9040 C   0  0  0  0  0  0  0  0  0  0  0  0\\n   -1.0625   -0.6168   -4.5906 C   0  0  0  0  0  0  0  0  0  0  0  0\\n    0.0146   -1.3650   -5.0598 C   0  0  0  0  0  0  0  0  0  0  0  0\\n    1.2494   -1.2931   -4.4213 C   0  0  0  0  0  0  0  0  0  0  0  0\\n  2  1  2  0\\n  3  2  1  0\\n  4  3  1  0\\n  5  4  1  0\\n  6  5  1  0\\n  7  6  1  0\\n  8  7  2  0\\n  9  7  1  0\\n 10  9  1  0\\n 11 10  2  0\\n 12 11  1  0\\n 13 12  2  0\\n 14 12  1  0\\n 15 14  1  0\\n 16 15  1  0\\n 17 16  1  0\\n 18 17  1  0\\n 19 18  2  0\\n 20 18  1  0\\n 21 20  1  0\\n 22 21  2  0\\n 22  2  1  0\\n 23 22  1  0\\n 24 23  2  0\\n 25 24  1  0\\n 25 20  2  0\\n 26 11  1  0\\n 27 26  2  0\\n 28 27  1  0\\n 28  9  2  0\\nM  END\\n\",\"sdf\");\n",
       "\tviewer_14907964969904616.addModel(\"m1_crystal.xyz\\n     RDKit          3D\\n\\n 28 30  0  0  0  0  0  0  0  0999 V2000\\n    3.8581   -0.4228   -3.3071 O   0  0  0  0  0  0  0  0  0  0  0  0\\n    2.6918   -0.1979   -3.0019 C   0  0  0  0  0  0  0  0  0  0  0  0\\n    2.1433   -0.3777   -1.7421 N   0  0  0  0  0  0  0  0  0  0  0  0\\n    2.9409   -0.7397   -0.5838 C   0  0  0  0  0  0  0  0  0  0  0  0\\n    2.0936   -1.4096    0.4889 C   0  0  0  0  0  0  0  0  0  0  0  0\\n    1.6284   -2.7262    0.0585 N   0  0  0  0  0  0  0  0  0  0  0  0\\n    0.7073   -3.5238    0.7166 C   0  0  0  0  0  0  0  0  0  0  0  0\\n    0.6081   -4.7349    0.5289 O   0  0  0  0  0  0  0  0  0  0  0  0\\n   -0.2063   -2.8965    1.6811 C   0  0  0  0  0  0  0  0  0  0  0  0\\n   -0.9551   -1.8765    1.2043 N   0  0  0  0  0  0  0  0  0  0  0  0\\n   -1.8407   -1.3268    2.0682 C   0  0  0  0  0  0  0  0  0  0  0  0\\n   -2.6614   -0.2091    1.5413 C   0  0  0  0  0  0  0  0  0  0  0  0\\n   -3.4270    0.3959    2.2852 O   0  0  0  0  0  0  0  0  0  0  0  0\\n   -2.4797    0.0593    0.1938 N   0  0  0  0  0  0  0  0  0  0  0  0\\n   -3.1103    1.1927   -0.4624 C   0  0  0  0  0  0  0  0  0  0  0  0\\n   -3.2430    0.9834   -1.9637 C   0  0  0  0  0  0  0  0  0  0  0  0\\n   -1.9485    0.9510   -2.6210 N   0  0  0  0  0  0  0  0  0  0  0  0\\n   -1.7872    1.2366   -3.9676 C   0  0  0  0  0  0  0  0  0  0  0  0\\n   -2.6678    1.6439   -4.7176 O   0  0  0  0  0  0  0  0  0  0  0  0\\n   -0.4149    1.0050   -4.4807 C   0  0  0  0  0  0  0  0  0  0  0  0\\n    0.4780    0.5365   -3.5785 N   0  0  0  0  0  0  0  0  0  0  0  0\\n    1.7386    0.3149   -4.0163 C   0  0  0  0  0  0  0  0  0  0  0  0\\n    2.1495    0.5412   -5.3228 C   0  0  0  0  0  0  0  0  0  0  0  0\\n    1.2045    1.0237   -6.2245 C   0  0  0  0  0  0  0  0  0  0  0  0\\n   -0.1023    1.2634   -5.8082 C   0  0  0  0  0  0  0  0  0  0  0  0\\n   -2.0105   -1.7587    3.3789 C   0  0  0  0  0  0  0  0  0  0  0  0\\n   -1.2301   -2.8238    3.8213 C   0  0  0  0  0  0  0  0  0  0  0  0\\n   -0.3125   -3.4178    2.9621 C   0  0  0  0  0  0  0  0  0  0  0  0\\n  2  1  2  0\\n  3  2  1  0\\n  4  3  1  0\\n  5  4  1  0\\n  6  5  1  0\\n  7  6  1  0\\n  8  7  2  0\\n  9  7  1  0\\n 10  9  1  0\\n 11 10  2  0\\n 12 11  1  0\\n 13 12  2  0\\n 14 12  1  0\\n 15 14  1  0\\n 16 15  1  0\\n 17 16  1  0\\n 18 17  1  0\\n 19 18  2  0\\n 20 18  1  0\\n 21 20  1  0\\n 22 21  2  0\\n 22  2  1  0\\n 23 22  1  0\\n 24 23  2  0\\n 25 24  1  0\\n 25 20  2  0\\n 26 11  1  0\\n 27 26  2  0\\n 28 27  1  0\\n 28  9  2  0\\nM  END\\n\",\"sdf\");\n",
       "\tviewer_14907964969904616.setStyle({\"stick\": {\"radius\": \"0.15\"}});\n",
       "\tviewer_14907964969904616.setBackgroundColor(\"0xeeeeee\");\n",
       "\tviewer_14907964969904616.zoomTo();\n",
       "viewer_14907964969904616.render();\n",
       "});\n",
       "</script><script>$(\"#m1_b_smiles\").append($(\"#3dmolviewer_14907964969904616\")); </script>"
      ],
      "text/plain": [
       "<IPython.core.display.HTML object>"
      ]
     },
     "execution_count": 61,
     "metadata": {},
     "output_type": "execute_result"
    }
   ],
   "source": [
    "p1_b_handles[1].insert('m1_b_smiles')"
   ]
  },
  {
   "cell_type": "markdown",
   "metadata": {},
   "source": [
    "Still, the conformers are very much alike. The energy (preoptimized with MM) and the RMSD calculated against the crystal structure is (for the \"m1_b_crystal\" and the \"m1_b_smiles\", respectively):"
   ]
  },
  {
   "cell_type": "code",
   "execution_count": 71,
   "metadata": {
    "collapsed": false,
    "deletable": true,
    "editable": true
   },
   "outputs": [
    {
     "name": "stdout",
     "output_type": "stream",
     "text": [
      "name = m1_b1_0, E = 53.245621, RMS = 0.662122\n",
      "name = m1_b1_1, E = 53.583766, RMS = 0.517415\n",
      "name = m1_b1_2, E = 57.760058, RMS = 1.174442\n",
      "name = m1_b1_3, E = 62.424468, RMS = 0.527526\n",
      "name = m1_b1_4, E = 55.441273, RMS = 0.852633\n",
      "name = m1_b1_5, E = 53.651385, RMS = 0.880096\n"
     ]
    }
   ],
   "source": [
    "# calculate RMSD against the crystal structure /check that/:\n",
    "for i, mol in enumerate(allmol_m1_b_sdf):\n",
    "    name = \"m1_b1_\"+str(i)\n",
    "    print(\"name = {}, E = {:.6f}, RMS = {:.6f}\".format(name, e_m1_b_sdf[i], AllChem.GetBestRMS(Chem.RemoveHs(mol),Chem.RemoveHs(templ_m1[0]))))"
   ]
  },
  {
   "cell_type": "code",
   "execution_count": 73,
   "metadata": {
    "collapsed": false
   },
   "outputs": [
    {
     "name": "stdout",
     "output_type": "stream",
     "text": [
      "name = m1_b2_0, E = 53.280464, RMS = 0.756497\n",
      "name = m1_b2_1, E = 53.729899, RMS = 1.205705\n",
      "name = m1_b2_2, E = 54.259997, RMS = 0.894811\n",
      "name = m1_b2_3, E = 57.332921, RMS = 0.408258\n",
      "name = m1_b2_4, E = 63.187321, RMS = 0.382989\n",
      "name = m1_b2_5, E = 54.028468, RMS = 0.770531\n",
      "name = m1_b2_6, E = 53.919798, RMS = 1.239890\n"
     ]
    }
   ],
   "source": [
    "# calculate RMSD against the crystal structure /check that/:\n",
    "for i, mol in enumerate(allmol_m1_b_smi):\n",
    "    name = \"m1_b2_\"+str(i)\n",
    "    print(\"name = {}, E = {:.6f}, RMS = {:.6f}\".format(name, e_m1_b_smi[i], AllChem.GetBestRMS(Chem.RemoveHs(mol),Chem.RemoveHs(templ_m1[0]))))"
   ]
  },
  {
   "cell_type": "markdown",
   "metadata": {},
   "source": [
    "All conformers are very much alike (the program finds only *syn-syn* conformers), so we can choose for instance:\n",
    "\n",
    "* m1_b1_0 (we reject: m1_b1_1, m1_b1_5, m1_b2_0, which have similar energy and RMS, hence probably will converge to the same minimum)\n",
    "* m1_b1_2 \n",
    "* m1_b1_3 (we reject m1_b2_4)\n",
    "* m1_b2_2 (we reject m1_b1_4, m1_b2_4)\n",
    "* m1_b2_3 (similar energy as m1_b1_2 but significantly different RMS)\n",
    "* m1_b2_6 (similar energy as m1_b1_0 but significantly different RMS)\n",
    "\n",
    "Below we will align the selected conformers:"
   ]
  },
  {
   "cell_type": "code",
   "execution_count": 80,
   "metadata": {
    "collapsed": false
   },
   "outputs": [
    {
     "data": {
      "text/html": [
       "<div id=\"3dmolviewer_14908578787215838\"  style=\"position: relative; width: 400px; height: 400px\">\n",
       "<script>\n",
       "if(typeof $3Dmolpromise === 'undefined') $3Dmolpromise = $.when($.getScript('http://3dmol.csb.pitt.edu/build/3Dmol.js'))\n",
       "var viewer_14908578787215838 = null;\n",
       "$3Dmolpromise.done(function() {\n",
       "viewer_14908578787215838 = $3Dmol.createViewer($(\"#3dmolviewer_14908578787215838\"),{backgroundColor:\"white\"});\n",
       "\tviewer_14908578787215838.addModel(\"m1_crystal.xyz\\n     RDKit          3D\\n\\n 28 30  0  0  0  0  0  0  0  0999 V2000\\n   11.3507    7.3224   -0.0200 O   0  0  0  0  0  0  0  0  0  0  0  0\\n   11.9694   14.1213    1.4162 O   0  0  0  0  0  0  0  0  0  0  0  0\\n    6.7979   13.7993    4.6641 O   0  0  0  0  0  0  0  0  0  0  0  0\\n    7.0648    6.8145    4.4165 O   0  0  0  0  0  0  0  0  0  0  0  0\\n    9.5072    8.6922    0.3202 N   0  0  0  0  0  0  0  0  0  0  0  0\\n   11.1623   10.7703    0.6572 N   0  0  0  0  0  0  0  0  0  0  0  0\\n    9.9528   12.9778    1.4711 N   0  0  0  0  0  0  0  0  0  0  0  0\\n    7.2965   12.6131    2.7362 N   0  0  0  0  0  0  0  0  0  0  0  0\\n    7.0507   10.3303    4.0837 N   0  0  0  0  0  0  0  0  0  0  0  0\\n    7.7628    8.1940    2.6851 N   0  0  0  0  0  0  0  0  0  0  0  0\\n   10.8600    8.4342    0.1563 C   0  0  0  0  0  0  0  0  0  0  0  0\\n   11.7381    9.6293    0.2144 C   0  0  0  0  0  0  0  0  0  0  0  0\\n   11.9594   11.8633    0.7435 C   0  0  0  0  0  0  0  0  0  0  0  0\\n   11.3117   13.1015    1.2412 C   0  0  0  0  0  0  0  0  0  0  0  0\\n    9.1494   14.0568    2.0189 C   0  0  0  0  0  0  0  0  0  0  0  0\\n    7.6632   13.7487    1.9064 C   0  0  0  0  0  0  0  0  0  0  0  0\\n    6.9350   12.7374    4.0667 C   0  0  0  0  0  0  0  0  0  0  0  0\\n    6.7119   11.4490    4.7677 C   0  0  0  0  0  0  0  0  0  0  0  0\\n    6.8539    9.1438    4.7086 C   0  0  0  0  0  0  0  0  0  0  0  0\\n    7.2298    7.9318    3.9375 C   0  0  0  0  0  0  0  0  0  0  0  0\\n    8.3142    7.1534    1.8347 C   0  0  0  0  0  0  0  0  0  0  0  0\\n    8.5072    7.6386    0.4019 C   0  0  0  0  0  0  0  0  0  0  0  0\\n   13.0744    9.5323   -0.1515 C   0  0  0  0  0  0  0  0  0  0  0  0\\n   13.8594   10.6779   -0.0590 C   0  0  0  0  0  0  0  0  0  0  0  0\\n   13.3051   11.8688    0.3982 C   0  0  0  0  0  0  0  0  0  0  0  0\\n    6.1890   11.4344    6.0534 C   0  0  0  0  0  0  0  0  0  0  0  0\\n    5.9993   10.1974    6.6639 C   0  0  0  0  0  0  0  0  0  0  0  0\\n    6.3327    9.0262    5.9904 C   0  0  0  0  0  0  0  0  0  0  0  0\\n  1 11  2  0\\n  4 20  2  0\\n  6 13  2  0\\n  7 15  1  0\\n  8 16  1  0\\n  9 18  1  0\\n 11  5  1  0\\n 11 12  1  0\\n 12  6  1  0\\n 13 14  1  0\\n 14  7  1  0\\n 14  2  2  0\\n 16 15  1  0\\n 17  3  2  0\\n 17  8  1  0\\n 18 17  1  0\\n 19  9  2  0\\n 20 19  1  0\\n 20 10  1  0\\n 21 10  1  0\\n 22 21  1  0\\n 22  5  1  0\\n 23 12  2  0\\n 23 24  1  0\\n 24 25  2  0\\n 25 13  1  0\\n 26 18  2  0\\n 27 26  1  0\\n 28 27  2  0\\n 28 19  1  0\\nM  END\\n\",\"sdf\");\n",
       "\tviewer_14908578787215838.addModel(\"m1_crystal.xyz\\n     RDKit          3D\\n\\n 28 30  0  0  0  0  0  0  0  0999 V2000\\n   11.2203    7.4723   -0.5561 O   0  0  0  0  0  0  0  0  0  0  0  0\\n   11.8846   14.1891    1.0486 O   0  0  0  0  0  0  0  0  0  0  0  0\\n    5.6013   14.5086    2.2516 O   0  0  0  0  0  0  0  0  0  0  0  0\\n    4.9214    7.7490    0.7753 O   0  0  0  0  0  0  0  0  0  0  0  0\\n    9.6170    8.5826    0.7028 N   0  0  0  0  0  0  0  0  0  0  0  0\\n   11.1627   10.7696    0.6649 N   0  0  0  0  0  0  0  0  0  0  0  0\\n   10.0417   12.9531    1.7306 N   0  0  0  0  0  0  0  0  0  0  0  0\\n    7.1400   13.3674    0.9398 N   0  0  0  0  0  0  0  0  0  0  0  0\\n    5.6190   11.1821    1.1094 N   0  0  0  0  0  0  0  0  0  0  0  0\\n    6.7048    9.0160   -0.0031 N   0  0  0  0  0  0  0  0  0  0  0  0\\n   10.8450    8.4562    0.0741 C   0  0  0  0  0  0  0  0  0  0  0  0\\n   11.7366    9.6326    0.2056 C   0  0  0  0  0  0  0  0  0  0  0  0\\n   11.9587   11.8625    0.7434 C   0  0  0  0  0  0  0  0  0  0  0  0\\n   11.3050   13.1163    1.1862 C   0  0  0  0  0  0  0  0  0  0  0  0\\n    9.1901   14.0764    2.0880 C   0  0  0  0  0  0  0  0  0  0  0  0\\n    8.1870   14.3748    0.9799 C   0  0  0  0  0  0  0  0  0  0  0  0\\n    5.9489   13.5061    1.6358 C   0  0  0  0  0  0  0  0  0  0  0  0\\n    5.0712   12.3130    1.6116 C   0  0  0  0  0  0  0  0  0  0  0  0\\n    4.8457   10.0715    1.1230 C   0  0  0  0  0  0  0  0  0  0  0  0\\n    5.4796    8.8307    0.6184 C   0  0  0  0  0  0  0  0  0  0  0  0\\n    7.5431    7.9093   -0.4360 C   0  0  0  0  0  0  0  0  0  0  0  0\\n    8.5830    7.5631    0.6234 C   0  0  0  0  0  0  0  0  0  0  0  0\\n   13.0731    9.5352   -0.1614 C   0  0  0  0  0  0  0  0  0  0  0  0\\n   13.8626   10.6754   -0.0504 C   0  0  0  0  0  0  0  0  0  0  0  0\\n   13.3049   11.8667    0.4006 C   0  0  0  0  0  0  0  0  0  0  0  0\\n    3.7794   12.3866    2.1174 C   0  0  0  0  0  0  0  0  0  0  0  0\\n    3.0099   11.2274    2.1046 C   0  0  0  0  0  0  0  0  0  0  0  0\\n    3.5433   10.0428    1.6061 C   0  0  0  0  0  0  0  0  0  0  0  0\\n  1 11  2  0\\n  4 20  2  0\\n  6 13  2  0\\n  7 15  1  0\\n  8 16  1  0\\n  9 18  1  0\\n 11  5  1  0\\n 11 12  1  0\\n 12  6  1  0\\n 13 14  1  0\\n 14  7  1  0\\n 14  2  2  0\\n 16 15  1  0\\n 17  3  2  0\\n 17  8  1  0\\n 18 17  1  0\\n 19  9  2  0\\n 20 19  1  0\\n 20 10  1  0\\n 21 10  1  0\\n 22 21  1  0\\n 22  5  1  0\\n 23 12  2  0\\n 23 24  1  0\\n 24 25  2  0\\n 25 13  1  0\\n 26 18  2  0\\n 27 26  1  0\\n 28 27  2  0\\n 28 19  1  0\\nM  END\\n\",\"sdf\");\n",
       "\tviewer_14908578787215838.addModel(\"m1_crystal.xyz\\n     RDKit          3D\\n\\n 28 30  0  0  0  0  0  0  0  0999 V2000\\n   11.3280    7.3122    0.1542 O   0  0  0  0  0  0  0  0  0  0  0  0\\n   11.9718   14.0921    1.5169 O   0  0  0  0  0  0  0  0  0  0  0  0\\n   10.8224   11.9770    6.1281 O   0  0  0  0  0  0  0  0  0  0  0  0\\n    7.6422    6.4927    3.2491 O   0  0  0  0  0  0  0  0  0  0  0  0\\n    9.5084    8.7566    0.1486 N   0  0  0  0  0  0  0  0  0  0  0  0\\n   11.1653   10.7715    0.6529 N   0  0  0  0  0  0  0  0  0  0  0  0\\n    9.9866   12.8958    1.6661 N   0  0  0  0  0  0  0  0  0  0  0  0\\n    9.3231   12.1559    4.3640 N   0  0  0  0  0  0  0  0  0  0  0  0\\n    8.9272    9.5413    4.4593 N   0  0  0  0  0  0  0  0  0  0  0  0\\n    7.6565    8.6263    2.3374 N   0  0  0  0  0  0  0  0  0  0  0  0\\n   10.8545    8.4420    0.1659 C   0  0  0  0  0  0  0  0  0  0  0  0\\n   11.7426    9.6283    0.2109 C   0  0  0  0  0  0  0  0  0  0  0  0\\n   11.9577   11.8649    0.7463 C   0  0  0  0  0  0  0  0  0  0  0  0\\n   11.3186   13.0713    1.3299 C   0  0  0  0  0  0  0  0  0  0  0  0\\n    9.2620   13.8032    2.5405 C   0  0  0  0  0  0  0  0  0  0  0  0\\n    9.5981   13.5379    4.0045 C   0  0  0  0  0  0  0  0  0  0  0  0\\n    9.9848   11.4863    5.3792 C   0  0  0  0  0  0  0  0  0  0  0  0\\n    9.6165   10.0548    5.5035 C   0  0  0  0  0  0  0  0  0  0  0  0\\n    8.6107    8.2258    4.5139 C   0  0  0  0  0  0  0  0  0  0  0  0\\n    7.9122    7.6858    3.3211 C   0  0  0  0  0  0  0  0  0  0  0  0\\n    7.2576    8.2715    0.9838 C   0  0  0  0  0  0  0  0  0  0  0  0\\n    8.4468    7.7671    0.1713 C   0  0  0  0  0  0  0  0  0  0  0  0\\n   13.0775    9.5278   -0.1449 C   0  0  0  0  0  0  0  0  0  0  0  0\\n   13.8561   10.6772   -0.0584 C   0  0  0  0  0  0  0  0  0  0  0  0\\n   13.2994   11.8722    0.3960 C   0  0  0  0  0  0  0  0  0  0  0  0\\n   10.0071    9.3070    6.6072 C   0  0  0  0  0  0  0  0  0  0  0  0\\n    9.6546    7.9592    6.6356 C   0  0  0  0  0  0  0  0  0  0  0  0\\n    8.9481    7.3969    5.5755 C   0  0  0  0  0  0  0  0  0  0  0  0\\n  1 11  2  0\\n  4 20  2  0\\n  6 13  2  0\\n  7 15  1  0\\n  8 16  1  0\\n  9 18  1  0\\n 11  5  1  0\\n 11 12  1  0\\n 12  6  1  0\\n 13 14  1  0\\n 14  7  1  0\\n 14  2  2  0\\n 16 15  1  0\\n 17  3  2  0\\n 17  8  1  0\\n 18 17  1  0\\n 19  9  2  0\\n 20 19  1  0\\n 20 10  1  0\\n 21 10  1  0\\n 22 21  1  0\\n 22  5  1  0\\n 23 12  2  0\\n 23 24  1  0\\n 24 25  2  0\\n 25 13  1  0\\n 26 18  2  0\\n 27 26  1  0\\n 28 27  2  0\\n 28 19  1  0\\nM  END\\n\",\"sdf\");\n",
       "\tviewer_14908578787215838.addModel(\"m1_crystal.xyz\\n     RDKit          3D\\n\\n 28 30  0  0  0  0  0  0  0  0999 V2000\\n    4.7664    8.0641   -0.7720 O   0  0  0  0  0  0  0  0  0  0  0  0\\n    5.4055    8.9580   -0.2261 C   0  0  0  0  0  0  0  0  0  0  0  0\\n    6.7375    8.8774    0.1476 N   0  0  0  0  0  0  0  0  0  0  0  0\\n    7.5693    7.7252   -0.1561 C   0  0  0  0  0  0  0  0  0  0  0  0\\n    8.6560    7.5333    0.8924 C   0  0  0  0  0  0  0  0  0  0  0  0\\n    9.6587    8.5827    0.8275 N   0  0  0  0  0  0  0  0  0  0  0  0\\n   10.8573    8.4419    0.1461 C   0  0  0  0  0  0  0  0  0  0  0  0\\n   11.2176    7.4412   -0.4632 O   0  0  0  0  0  0  0  0  0  0  0  0\\n   11.7401    9.6299    0.2136 C   0  0  0  0  0  0  0  0  0  0  0  0\\n   11.1657   10.7698    0.6612 N   0  0  0  0  0  0  0  0  0  0  0  0\\n   11.9571   11.8646    0.7431 C   0  0  0  0  0  0  0  0  0  0  0  0\\n   11.3019   13.1014    1.2325 C   0  0  0  0  0  0  0  0  0  0  0  0\\n   11.9663   14.1145    1.4235 O   0  0  0  0  0  0  0  0  0  0  0  0\\n    9.9356   12.9866    1.4343 N   0  0  0  0  0  0  0  0  0  0  0  0\\n    9.0944   14.1032    1.8332 C   0  0  0  0  0  0  0  0  0  0  0  0\\n    8.0216   13.6593    2.8200 C   0  0  0  0  0  0  0  0  0  0  0  0\\n    7.0099   12.8354    2.1792 N   0  0  0  0  0  0  0  0  0  0  0  0\\n    5.8303   13.3555    1.6697 C   0  0  0  0  0  0  0  0  0  0  0  0\\n    5.4776   14.5273    1.7530 O   0  0  0  0  0  0  0  0  0  0  0  0\\n    4.9658   12.3684    0.9821 C   0  0  0  0  0  0  0  0  0  0  0  0\\n    5.5267   11.1645    0.7246 N   0  0  0  0  0  0  0  0  0  0  0  0\\n    4.7573   10.2572    0.0779 C   0  0  0  0  0  0  0  0  0  0  0  0\\n    3.4436   10.4941   -0.3065 C   0  0  0  0  0  0  0  0  0  0  0  0\\n    2.9011   11.7443   -0.0259 C   0  0  0  0  0  0  0  0  0  0  0  0\\n    3.6678   12.7079    0.6224 C   0  0  0  0  0  0  0  0  0  0  0  0\\n   13.3039   11.8677    0.4043 C   0  0  0  0  0  0  0  0  0  0  0  0\\n   13.8590   10.6767   -0.0561 C   0  0  0  0  0  0  0  0  0  0  0  0\\n   13.0728    9.5334   -0.1633 C   0  0  0  0  0  0  0  0  0  0  0  0\\n  2  1  2  0\\n  3  2  1  0\\n  4  3  1  0\\n  5  4  1  0\\n  6  5  1  0\\n  7  6  1  0\\n  8  7  2  0\\n  9  7  1  0\\n 10  9  1  0\\n 11 10  2  0\\n 12 11  1  0\\n 13 12  2  0\\n 14 12  1  0\\n 15 14  1  0\\n 16 15  1  0\\n 17 16  1  0\\n 18 17  1  0\\n 19 18  2  0\\n 20 18  1  0\\n 21 20  1  0\\n 22 21  2  0\\n 22  2  1  0\\n 23 22  1  0\\n 24 23  2  0\\n 25 24  1  0\\n 25 20  2  0\\n 26 11  1  0\\n 27 26  2  0\\n 28 27  1  0\\n 28  9  2  0\\nM  END\\n\",\"sdf\");\n",
       "\tviewer_14908578787215838.addModel(\"m1_crystal.xyz\\n     RDKit          3D\\n\\n 28 30  0  0  0  0  0  0  0  0999 V2000\\n    8.8986    6.5315    4.9864 O   0  0  0  0  0  0  0  0  0  0  0  0\\n    8.7468    7.6640    4.5411 C   0  0  0  0  0  0  0  0  0  0  0  0\\n    8.5936    7.9832    3.2027 N   0  0  0  0  0  0  0  0  0  0  0  0\\n    8.7046    7.0027    2.1340 C   0  0  0  0  0  0  0  0  0  0  0  0\\n    8.5548    7.6515    0.7621 C   0  0  0  0  0  0  0  0  0  0  0  0\\n    9.5472    8.6925    0.5586 N   0  0  0  0  0  0  0  0  0  0  0  0\\n   10.8477    8.4426    0.1550 C   0  0  0  0  0  0  0  0  0  0  0  0\\n   11.2824    7.3559   -0.2094 O   0  0  0  0  0  0  0  0  0  0  0  0\\n   11.7387    9.6279    0.2112 C   0  0  0  0  0  0  0  0  0  0  0  0\\n   11.1667   10.7709    0.6575 N   0  0  0  0  0  0  0  0  0  0  0  0\\n   11.9583   11.8646    0.7447 C   0  0  0  0  0  0  0  0  0  0  0  0\\n   11.3104   13.0866    1.2825 C   0  0  0  0  0  0  0  0  0  0  0  0\\n   11.9505   14.1241    1.4119 O   0  0  0  0  0  0  0  0  0  0  0  0\\n    9.9781   12.9184    1.6223 N   0  0  0  0  0  0  0  0  0  0  0  0\\n    9.1873   13.9603    2.2541 C   0  0  0  0  0  0  0  0  0  0  0  0\\n    7.8401   13.4344    2.7293 C   0  0  0  0  0  0  0  0  0  0  0  0\\n    7.9936   12.3038    3.6276 N   0  0  0  0  0  0  0  0  0  0  0  0\\n    8.2854   12.4257    4.9744 C   0  0  0  0  0  0  0  0  0  0  0  0\\n    8.3500   13.4823    5.5939 O   0  0  0  0  0  0  0  0  0  0  0  0\\n    8.5312   11.1317    5.6569 C   0  0  0  0  0  0  0  0  0  0  0  0\\n    8.5167   10.0368    4.8599 N   0  0  0  0  0  0  0  0  0  0  0  0\\n    8.7370    8.8388    5.4491 C   0  0  0  0  0  0  0  0  0  0  0  0\\n    8.9653    8.6843    6.8089 C   0  0  0  0  0  0  0  0  0  0  0  0\\n    8.9771    9.8344    7.5968 C   0  0  0  0  0  0  0  0  0  0  0  0\\n    8.7621   11.0855    7.0233 C   0  0  0  0  0  0  0  0  0  0  0  0\\n   13.3011   11.8708    0.3966 C   0  0  0  0  0  0  0  0  0  0  0  0\\n   13.8585   10.6772   -0.0543 C   0  0  0  0  0  0  0  0  0  0  0  0\\n   13.0753    9.5306   -0.1529 C   0  0  0  0  0  0  0  0  0  0  0  0\\n  2  1  2  0\\n  3  2  1  0\\n  4  3  1  0\\n  5  4  1  0\\n  6  5  1  0\\n  7  6  1  0\\n  8  7  2  0\\n  9  7  1  0\\n 10  9  1  0\\n 11 10  2  0\\n 12 11  1  0\\n 13 12  2  0\\n 14 12  1  0\\n 15 14  1  0\\n 16 15  1  0\\n 17 16  1  0\\n 18 17  1  0\\n 19 18  2  0\\n 20 18  1  0\\n 21 20  1  0\\n 22 21  2  0\\n 22  2  1  0\\n 23 22  1  0\\n 24 23  2  0\\n 25 24  1  0\\n 25 20  2  0\\n 26 11  1  0\\n 27 26  2  0\\n 28 27  1  0\\n 28  9  2  0\\nM  END\\n\",\"sdf\");\n",
       "\tviewer_14908578787215838.addModel(\"m1_crystal.xyz\\n     RDKit          3D\\n\\n 28 30  0  0  0  0  0  0  0  0999 V2000\\n    5.1426    8.5887   -1.4990 O   0  0  0  0  0  0  0  0  0  0  0  0\\n    5.6930    9.4324   -0.7997 C   0  0  0  0  0  0  0  0  0  0  0  0\\n    7.0166    9.8275   -0.9114 N   0  0  0  0  0  0  0  0  0  0  0  0\\n    7.8852    9.3665   -1.9800 C   0  0  0  0  0  0  0  0  0  0  0  0\\n    9.3525    9.4638   -1.5865 C   0  0  0  0  0  0  0  0  0  0  0  0\\n    9.6885    8.5082   -0.5334 N   0  0  0  0  0  0  0  0  0  0  0  0\\n   10.8820    8.4483    0.1665 C   0  0  0  0  0  0  0  0  0  0  0  0\\n   11.2589    7.4468    0.7721 O   0  0  0  0  0  0  0  0  0  0  0  0\\n   11.7404    9.6401    0.1991 C   0  0  0  0  0  0  0  0  0  0  0  0\\n   11.1598   10.7707    0.6607 N   0  0  0  0  0  0  0  0  0  0  0  0\\n   11.9561   11.8621    0.7479 C   0  0  0  0  0  0  0  0  0  0  0  0\\n   11.3161   13.1001    1.2561 C   0  0  0  0  0  0  0  0  0  0  0  0\\n   11.9480   14.1515    1.2862 O   0  0  0  0  0  0  0  0  0  0  0  0\\n   10.0026   12.9464    1.6706 N   0  0  0  0  0  0  0  0  0  0  0  0\\n    9.1838   14.0738    2.0847 C   0  0  0  0  0  0  0  0  0  0  0  0\\n    8.0423   13.6476    2.9961 C   0  0  0  0  0  0  0  0  0  0  0  0\\n    7.0712   12.8250    2.2968 N   0  0  0  0  0  0  0  0  0  0  0  0\\n    5.7580   12.6962    2.7210 C   0  0  0  0  0  0  0  0  0  0  0  0\\n    5.2440   13.3237    3.6408 O   0  0  0  0  0  0  0  0  0  0  0  0\\n    4.9661   11.6983    1.9612 C   0  0  0  0  0  0  0  0  0  0  0  0\\n    5.6304   11.0457    0.9796 N   0  0  0  0  0  0  0  0  0  0  0  0\\n    4.9351   10.1288    0.2686 C   0  0  0  0  0  0  0  0  0  0  0  0\\n    3.5981    9.8324    0.4958 C   0  0  0  0  0  0  0  0  0  0  0  0\\n    2.9456   10.5232    1.5136 C   0  0  0  0  0  0  0  0  0  0  0  0\\n    3.6305   11.4741    2.2654 C   0  0  0  0  0  0  0  0  0  0  0  0\\n   13.3024   11.8654    0.4006 C   0  0  0  0  0  0  0  0  0  0  0  0\\n   13.8621   10.6738   -0.0533 C   0  0  0  0  0  0  0  0  0  0  0  0\\n   13.0777    9.5301   -0.1523 C   0  0  0  0  0  0  0  0  0  0  0  0\\n  2  1  2  0\\n  3  2  1  0\\n  4  3  1  0\\n  5  4  1  0\\n  6  5  1  0\\n  7  6  1  0\\n  8  7  2  0\\n  9  7  1  0\\n 10  9  1  0\\n 11 10  2  0\\n 12 11  1  0\\n 13 12  2  0\\n 14 12  1  0\\n 15 14  1  0\\n 16 15  1  0\\n 17 16  1  0\\n 18 17  1  0\\n 19 18  2  0\\n 20 18  1  0\\n 21 20  1  0\\n 22 21  2  0\\n 22  2  1  0\\n 23 22  1  0\\n 24 23  2  0\\n 25 24  1  0\\n 25 20  2  0\\n 26 11  1  0\\n 27 26  2  0\\n 28 27  1  0\\n 28  9  2  0\\nM  END\\n\",\"sdf\");\n",
       "\tviewer_14908578787215838.setStyle({\"stick\": {\"radius\": \"0.15\"}});\n",
       "\tviewer_14908578787215838.setBackgroundColor(\"0xeeeeee\");\n",
       "\tviewer_14908578787215838.zoomTo();\n",
       "viewer_14908578787215838.render();\n",
       "});\n",
       "</script>"
      ],
      "text/plain": [
       "<IPython.core.display.HTML object>"
      ]
     },
     "execution_count": 80,
     "metadata": {},
     "output_type": "execute_result"
    }
   ],
   "source": [
    "selected_b = [allmol_m1_b_sdf[0], allmol_m1_b_sdf[2], allmol_m1_b_sdf[3], allmol_m1_b_smi[2], allmol_m1_b_smi[3], allmol_m1_b_smi[6]]\n",
    "\n",
    "for mol in selected_b:\n",
    "    #AllChem.AlignMolConformers(mol,atomIds=core_m1)\n",
    "    core_mol = mol.GetSubstructMatch(Chem.MolFromSmiles('n1ccccc1'))\n",
    "    AllChem.AlignMol(mol,m1_crystal,atomMap=list(zip(core_mol,core_m1)))\n",
    "    \n",
    "p_b = py3Dmol.view(width=400,height=400)\n",
    "for mol in selected_b:\n",
    "    mb = Chem.MolToMolBlock(mol)\n",
    "    p_b.addModel(mb,'sdf')\n",
    "p_b.setStyle({'stick':{'radius':'0.15'}})\n",
    "p_b.setBackgroundColor('0xeeeeee')\n",
    "p_b.zoomTo()\n",
    "p_b.show()"
   ]
  },
  {
   "cell_type": "markdown",
   "metadata": {
    "deletable": true,
    "editable": true
   },
   "source": [
    "### Conformers generated with the RDKit software:"
   ]
  },
  {
   "cell_type": "markdown",
   "metadata": {
    "deletable": true,
    "editable": true
   },
   "source": [
    "RDKit found 9 conformers:"
   ]
  },
  {
   "cell_type": "code",
   "execution_count": null,
   "metadata": {
    "collapsed": false,
    "deletable": true,
    "editable": true
   },
   "outputs": [],
   "source": [
    "inps_m1_rdkit = glob.glob('/home/gosia/work/work_on_gitlab/icho/calcs/m1/rdkit/results_crystal_from_smiles_new/*.sdf')"
   ]
  },
  {
   "cell_type": "code",
   "execution_count": null,
   "metadata": {
    "collapsed": false,
    "deletable": true,
    "editable": true
   },
   "outputs": [],
   "source": [
    "e_m1_rdkit = grep_energies_from_sdf_outputs(inps_m1_rdkit)"
   ]
  },
  {
   "cell_type": "code",
   "execution_count": null,
   "metadata": {
    "collapsed": false,
    "deletable": true,
    "editable": true
   },
   "outputs": [],
   "source": [
    "# create a list of all structures to be aligned\n",
    "allmol_m1_rdkit = []\n",
    "suppl_m1_rdkit = Chem.SDMolSupplier('/home/gosia/work/work_on_gitlab/icho/calcs/m1/rdkit/result_smiles_new.sdf')\n",
    "\n",
    "for mol in suppl_m1_rdkit:\n",
    "    allmol_m1_rdkit.append(mol)"
   ]
  },
  {
   "cell_type": "markdown",
   "metadata": {
    "deletable": true,
    "editable": true
   },
   "source": [
    "This time, instead of visualizing all conformers, we will look directly at their alignment:"
   ]
  },
  {
   "cell_type": "code",
   "execution_count": null,
   "metadata": {
    "collapsed": false,
    "deletable": true,
    "editable": true
   },
   "outputs": [],
   "source": [
    "# align:\n",
    "for mol in allmol_m1_rdkit:\n",
    "    AllChem.AlignMolConformers(mol,atomIds=core_m1)"
   ]
  },
  {
   "cell_type": "code",
   "execution_count": null,
   "metadata": {
    "collapsed": false,
    "deletable": true,
    "editable": true
   },
   "outputs": [],
   "source": [
    "# view:\n",
    "p = py3Dmol.view(width=400,height=400)\n",
    "p.removeAllModels()\n",
    "for mol in allmol_m1_rdkit:   \n",
    "    mb = Chem.MolToMolBlock(mol)\n",
    "    p.addModel(mb,'sdf')    \n",
    "p.setStyle({'stick':{'radius':'0.15'}})\n",
    "p.setBackgroundColor('0xeeeeee')\n",
    "p.zoomTo()\n",
    "p.show()"
   ]
  },
  {
   "cell_type": "code",
   "execution_count": null,
   "metadata": {
    "collapsed": false,
    "deletable": true,
    "editable": true
   },
   "outputs": [],
   "source": [
    "# calculate RMSD /check that/:\n",
    "for mol in allmol_m1_rdkit:\n",
    "    # note that the first structure on \"allmol_m1_rdkit\" list is the crystal structure, \n",
    "    # so the RMSD value calculated for the first structure (with respect to the crystal) will be 0 or almost 0\n",
    "    print(\"Heavy Atom RMS:\",AllChem.GetBestRMS(Chem.RemoveHs(mol),Chem.RemoveHs(templ_m1[0])))"
   ]
  },
  {
   "cell_type": "markdown",
   "metadata": {
    "deletable": true,
    "editable": true
   },
   "source": [
    "### Summary"
   ]
  },
  {
   "cell_type": "markdown",
   "metadata": {
    "deletable": true,
    "editable": true
   },
   "source": [
    "* the Balloon software favors *syn-syn* conformers of amide groups (tested on various settings of the genetic algorithm implemented in that software)\n",
    "* the RDKit software"
   ]
  },
  {
   "cell_type": "code",
   "execution_count": null,
   "metadata": {
    "collapsed": true
   },
   "outputs": [],
   "source": []
  }
 ],
 "metadata": {
  "kernelspec": {
   "display_name": "Python 3",
   "language": "python",
   "name": "python3"
  },
  "language_info": {
   "codemirror_mode": {
    "name": "ipython",
    "version": 3
   },
   "file_extension": ".py",
   "mimetype": "text/x-python",
   "name": "python",
   "nbconvert_exporter": "python",
   "pygments_lexer": "ipython3",
   "version": "3.5.3"
  }
 },
 "nbformat": 4,
 "nbformat_minor": 2
}
