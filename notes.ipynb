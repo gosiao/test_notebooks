{
 "cells": [
  {
   "cell_type": "markdown",
   "metadata": {},
   "source": [
    "# Exploring conformational space of selected macrocycles - notes\n",
    "\n",
    "In this notebook we show and analyze selected structures, technical notes are [here](www.gitlab.com/user/gosia/icho)."
   ]
  },
  {
   "cell_type": "code",
   "execution_count": 27,
   "metadata": {
    "collapsed": true
   },
   "outputs": [],
   "source": [
    "import glob\n",
    "import py3Dmol"
   ]
  },
  {
   "cell_type": "markdown",
   "metadata": {},
   "source": [
    "## \"M1\" macrocycle"
   ]
  },
  {
   "cell_type": "markdown",
   "metadata": {},
   "source": [
    "The crystallographic structure of \"M1\" (shown below) was used as a starting geometry for generating various conformers."
   ]
  },
  {
   "cell_type": "code",
   "execution_count": 31,
   "metadata": {
    "collapsed": false
   },
   "outputs": [
    {
     "data": {
      "text/html": [
       "<div id=\"3dmolviewer_1490184768481059\"  style=\"position: relative; width: 400px; height: 400px\">\n",
       "<script>\n",
       "if(typeof $3Dmolpromise === 'undefined') $3Dmolpromise = $.when($.getScript('http://3dmol.csb.pitt.edu/build/3Dmol.js'))\n",
       "var viewer_1490184768481059 = null;\n",
       "$3Dmolpromise.done(function() {\n",
       "viewer_1490184768481059 = $3Dmol.createViewer($(\"#3dmolviewer_1490184768481059\"),{backgroundColor:\"white\"});\n",
       "\tviewer_1490184768481059.addModel(\"m1_crystal.xyz\\n OpenBabel03211712433D\\n\\n 46 48  0  0  0  0  0  0  0  0999 V2000\\n    8.4739   14.4024   -0.0124 O   0  0  0  0  0  0  0  0  0  0  0  0\\n   13.0099   15.0385    5.2300 O   0  0  0  0  0  0  0  0  0  0  0  0\\n   15.4452   10.6398    3.4502 O   0  0  0  0  0  0  0  0  0  0  0  0\\n   10.5727   10.0257   -1.5731 O   0  0  0  0  0  0  0  0  0  0  0  0\\n    8.9575   12.6503    1.3309 N   0  0  0  0  0  0  0  0  0  0  0  0\\n    9.3570   12.3101    2.2182 H   0  0  0  0  0  0  0  0  0  0  0  0\\n   10.5249   14.2442    2.8527 N   0  0  0  0  0  0  0  0  0  0  0  0\\n   12.1000   13.0807    4.6927 N   0  0  0  0  0  0  0  0  0  0  0  0\\n   11.3297   12.5823    4.2261 H   0  0  0  0  0  0  0  0  0  0  0  0\\n   13.2164   10.6347    3.7630 N   0  0  0  0  0  0  0  0  0  0  0  0\\n   12.3084   10.4543    3.3141 H   0  0  0  0  0  0  0  0  0  0  0  0\\n   12.7423   10.2213    1.2125 N   0  0  0  0  0  0  0  0  0  0  0  0\\n   10.1732   10.1788    0.6504 N   0  0  0  0  0  0  0  0  0  0  0  0\\n   10.6090   10.1312    1.5819 H   0  0  0  0  0  0  0  0  0  0  0  0\\n    8.9976   13.9414    1.0110 C   0  0  0  0  0  0  0  0  0  0  0  0\\n    9.7775   14.8327    1.9054 C   0  0  0  0  0  0  0  0  0  0  0  0\\n   11.2838   15.0385    3.5916 C   0  0  0  0  0  0  0  0  0  0  0  0\\n   12.1861   14.3973    4.5796 C   0  0  0  0  0  0  0  0  0  0  0  0\\n   13.0749   12.3237    5.4633 C   0  0  0  0  0  0  0  0  0  0  0  0\\n   14.0135   12.7711    5.3219 H   0  0  0  0  0  0  0  0  0  0  0  0\\n   12.8322   12.4309    6.4797 H   0  0  0  0  0  0  0  0  0  0  0  0\\n   13.2068   10.9782    5.2017 C   0  0  0  0  0  0  0  0  0  0  0  0\\n   12.4135   10.4663    5.6631 H   0  0  0  0  0  0  0  0  0  0  0  0\\n   14.0995   10.6364    5.6348 H   0  0  0  0  0  0  0  0  0  0  0  0\\n   14.3060   10.5377    3.0048 C   0  0  0  0  0  0  0  0  0  0  0  0\\n   14.0383   10.2757    1.5572 C   0  0  0  0  0  0  0  0  0  0  0  0\\n   12.4365   10.0410   -0.0725 C   0  0  0  0  0  0  0  0  0  0  0  0\\n   10.9512   10.0699   -0.3995 C   0  0  0  0  0  0  0  0  0  0  0  0\\n    8.7357   10.3591    0.5815 C   0  0  0  0  0  0  0  0  0  0  0  0\\n    8.3573    9.7774   -0.2068 H   0  0  0  0  0  0  0  0  0  0  0  0\\n    8.3076   10.0053    1.4723 H   0  0  0  0  0  0  0  0  0  0  0  0\\n    8.3267   11.7335    0.3836 C   0  0  0  0  0  0  0  0  0  0  0  0\\n    7.2830   11.7981    0.4861 H   0  0  0  0  0  0  0  0  0  0  0  0\\n    8.5733   12.0261   -0.5939 H   0  0  0  0  0  0  0  0  0  0  0  0\\n    9.7718   16.1986    1.7145 C   0  0  0  0  0  0  0  0  0  0  0  0\\n    9.1792   16.6018    1.0163 H   0  0  0  0  0  0  0  0  0  0  0  0\\n   10.5689   16.9964    2.4745 C   0  0  0  0  0  0  0  0  0  0  0  0\\n   10.5880   17.9864    2.3313 H   0  0  0  0  0  0  0  0  0  0  0  0\\n   11.3393   16.4164    3.4343 C   0  0  0  0  0  0  0  0  0  0  0  0\\n   11.9357   16.9726    4.0140 H   0  0  0  0  0  0  0  0  0  0  0  0\\n   15.0553   10.1448    0.6416 C   0  0  0  0  0  0  0  0  0  0  0  0\\n   16.0111   10.1907    0.9279 H   0  0  0  0  0  0  0  0  0  0  0  0\\n   14.7265    9.9474   -0.6681 C   0  0  0  0  0  0  0  0  0  0  0  0\\n   15.4452    9.8335   -1.3539 H   0  0  0  0  0  0  0  0  0  0  0  0\\n   13.4037    9.9083   -1.0446 C   0  0  0  0  0  0  0  0  0  0  0  0\\n   13.1476    9.7858   -2.0026 H   0  0  0  0  0  0  0  0  0  0  0  0\\n  1 15  2  0  0  0  0\\n  4 28  2  0  0  0  0\\n  5  6  1  0  0  0  0\\n  7 17  2  0  0  0  0\\n  8 19  1  0  0  0  0\\n  9  8  1  0  0  0  0\\n 10 22  1  0  0  0  0\\n 11 10  1  0  0  0  0\\n 12 26  1  0  0  0  0\\n 13 14  1  0  0  0  0\\n 15  5  1  0  0  0  0\\n 15 16  1  0  0  0  0\\n 16  7  1  0  0  0  0\\n 17 18  1  0  0  0  0\\n 18  8  1  0  0  0  0\\n 18  2  2  0  0  0  0\\n 19 21  1  0  0  0  0\\n 20 19  1  0  0  0  0\\n 22 19  1  0  0  0  0\\n 22 24  1  0  0  0  0\\n 22 23  1  0  0  0  0\\n 25  3  2  0  0  0  0\\n 25 10  1  0  0  0  0\\n 26 25  1  0  0  0  0\\n 27 12  2  0  0  0  0\\n 28 27  1  0  0  0  0\\n 28 13  1  0  0  0  0\\n 29 13  1  0  0  0  0\\n 29 31  1  0  0  0  0\\n 30 29  1  0  0  0  0\\n 32 33  1  0  0  0  0\\n 32 29  1  0  0  0  0\\n 32  5  1  0  0  0  0\\n 34 32  1  0  0  0  0\\n 35 16  2  0  0  0  0\\n 35 37  1  0  0  0  0\\n 36 35  1  0  0  0  0\\n 37 39  2  0  0  0  0\\n 38 37  1  0  0  0  0\\n 39 17  1  0  0  0  0\\n 39 40  1  0  0  0  0\\n 41 42  1  0  0  0  0\\n 41 26  2  0  0  0  0\\n 43 41  1  0  0  0  0\\n 44 43  1  0  0  0  0\\n 45 43  2  0  0  0  0\\n 45 27  1  0  0  0  0\\n 46 45  1  0  0  0  0\\nM  END\\n$$$$\\n\",\"sdf\");\n",
       "\tviewer_1490184768481059.setStyle({\"stick\": {}});\n",
       "\tviewer_1490184768481059.setBackgroundColor(\"0xeeeeee\");\n",
       "\tviewer_1490184768481059.zoomTo();\n",
       "viewer_1490184768481059.render();\n",
       "});\n",
       "</script>"
      ],
      "text/plain": [
       "<IPython.core.display.HTML object>"
      ]
     },
     "execution_count": 31,
     "metadata": {},
     "output_type": "execute_result"
    }
   ],
   "source": [
    "m1 = open('/home/gosia/work/work_on_gitlab/icho/calcs/m1/m1_crystal.xyz','r').read()\n",
    "p1 = py3Dmol.view(width=400,height=400)\n",
    "p1.addModel(m1,'xyz')\n",
    "p1.setStyle({'stick':{}})\n",
    "p1.setBackgroundColor('0xeeeeee')\n",
    "p1.zoomTo()\n",
    "p1.show()"
   ]
  },
  {
   "cell_type": "markdown",
   "metadata": {},
   "source": [
    "### Conformers generated with the Balloon software:"
   ]
  },
  {
   "cell_type": "code",
   "execution_count": 63,
   "metadata": {
    "collapsed": false
   },
   "outputs": [
    {
     "data": {
      "text/html": [
       "<table>\n",
       "<tr>\n",
       "<td id=\"p1\"></td><td id=\"p2\"></td>\n",
       "</tr>\n",
       "<tr>\n",
       "<td id=\"p3\"></td><td>This is benzene</td>\n",
       "</tr>\n",
       "</table>"
      ],
      "text/plain": [
       "<IPython.core.display.HTML object>"
      ]
     },
     "metadata": {},
     "output_type": "display_data"
    }
   ],
   "source": [
    "%%html\n",
    "<table>\n",
    "<tr>\n",
    "<td id=\"p1\"></td><td id=\"p2\"></td>\n",
    "</tr>\n",
    "<tr>\n",
    "<td id=\"p3\"></td><td>This is benzene</td>\n",
    "</tr>\n",
    "</table>"
   ]
  },
  {
   "cell_type": "code",
   "execution_count": 62,
   "metadata": {
    "collapsed": false
   },
   "outputs": [
    {
     "name": "stdout",
     "output_type": "stream",
     "text": [
      "8\n"
     ]
    },
    {
     "data": {
      "text/plain": [
       "<py3Dmol.view at 0x7f69485e9b00>"
      ]
     },
     "execution_count": 62,
     "metadata": {},
     "output_type": "execute_result"
    }
   ],
   "source": [
    "inps = glob.glob('/home/gosia/work/work_on_gitlab/icho/calcs/m1/balloon/results_crystal/*.sdf')\n",
    "n = len(inps)\n",
    "print(n)\n",
    "\n",
    "m = open(inps[0], \"r\").read()\n",
    "p = py3Dmol.view()\n",
    "p.addModel(m,'sdf')\n",
    "p.setStyle({'stick':{}})\n",
    "p.zoomTo()\n",
    "p.insert('p1')\n",
    "p.insert(\"p2\")\n",
    "p.insert(\"p3\")\n",
    "\n",
    "#views = []\n",
    "#for inp in inps:\n",
    "#    m = open(inp, \"r\").read()\n",
    "#    p = py3Dmol.view(width=200,height=200)\n",
    "#    p.addModel(m,'sdf')\n",
    "#    p.setStyle({'stick':{}})\n",
    "#    p.zoomTo()\n",
    "#    views.append(p)\n",
    "#    #p.insert(\"p1\")\n",
    "\n",
    "#views[0].insert(\"p1\")    \n",
    "#views[1].insert(\"p2\")\n",
    "\n",
    "#for i in range(n):\n",
    "#    p = py3Dmol.view(width=200,height=200)\n",
    "#    p.addModel(mols[i],'sdf')\n",
    "#    p.setStyle({'stick':{}})\n",
    "#    p.setBackgroundColor('0xeeeeee')\n",
    "#    p.zoomTo()\n",
    "#    p.show()      "
   ]
  },
  {
   "cell_type": "markdown",
   "metadata": {},
   "source": [
    "## \"M7\" macrocycle\n",
    "\n",
    "start: crystal geometry"
   ]
  },
  {
   "cell_type": "code",
   "execution_count": 23,
   "metadata": {
    "collapsed": false
   },
   "outputs": [
    {
     "data": {
      "text/html": [
       "<div id=\"3dmolviewer_1490183896844356\"  style=\"position: relative; width: 400px; height: 400px\">\n",
       "<script>\n",
       "if(typeof $3Dmolpromise === 'undefined') $3Dmolpromise = $.when($.getScript('http://3dmol.csb.pitt.edu/build/3Dmol.js'))\n",
       "var viewer_1490183896844356 = null;\n",
       "$3Dmolpromise.done(function() {\n",
       "viewer_1490183896844356 = $3Dmol.createViewer($(\"#3dmolviewer_1490183896844356\"),{backgroundColor:\"white\"});\n",
       "\tviewer_1490183896844356.addModel(\"52\\n\\nN          1.57839        8.38585       11.85511\\nC          1.82351        7.99266       13.09736\\nO          2.96788        7.95608       13.56305\\nC          0.62943        7.60940       13.91036\\nN         -0.57354        7.73379       13.33411\\nC         -1.65370        7.42126       14.05995\\nC         -2.99981        7.65818       13.45996\\nO         -4.04097        7.41952       14.07247\\nN         -3.00440        8.17906       12.23559\\nC         -4.20555        8.64943       11.55430\\nH         -3.94721        9.32535       10.90715\\nH         -4.78218        9.07624       12.20632\\nC         -4.98884        7.59547       10.84862\\nH         -5.84522        7.97176       10.59171\\nH         -5.16361        6.87425       11.47462\\nC         -4.33393        7.01187        9.61449\\nH         -4.99101        6.48576        9.13320\\nH         -4.05714        7.73832        9.03564\\nN         -3.17685        6.17201        9.89546\\nC         -3.30522        4.91789       10.27952\\nO         -4.39595        4.34631       10.42277\\nC         -2.03064        4.16531       10.53318\\nN         -0.88257        4.81964       10.33415\\nC          0.27455        4.16183       10.51529\\nC          1.54316        4.88653       10.18034\\nO          2.63713        4.31722       10.29741\\nN          1.40149        6.12864        9.73481\\nC          2.51605        6.89515        9.21937\\nH          2.17495        7.54843        8.58849\\nH          3.10356        6.29588        8.73158\\nC          3.32933        7.61811       10.26651\\nH          3.59204        6.97877       10.94780\\nH          4.14145        7.94911        9.85026\\nC          2.63392        8.77137       10.93480\\nH          3.29313        9.29225       11.42097\\nH          2.25408        9.34452       10.25025\\nC          0.80705        7.18259       15.20465\\nH          1.65858        7.13033       15.57538\\nC         -0.29197        6.84289       15.92984\\nH         -0.19717        6.52757       16.79975\\nC         -1.54653        6.96483       15.37050\\nH         -2.30626        6.74533       15.85992\\nC         -2.06246        2.83611       10.89902\\nH         -2.87669        2.40581       11.02585\\nC         -0.89454        2.16018       11.07463\\nH         -0.90066        1.25952       11.31040\\nC          0.30692        2.82914       10.89415\\nH          1.11681        2.39188       11.02748\\nH          0.82059        8.37766       11.54454\\nH         -2.33450        8.29927       11.91852\\nH         -2.39977        6.58332        9.92831\\nH          0.67017        6.53280        9.69091\\n\",\"xyz\");\n",
       "\tviewer_1490183896844356.setStyle({\"stick\": {}});\n",
       "\tviewer_1490183896844356.setBackgroundColor(\"0xeeeeee\");\n",
       "\tviewer_1490183896844356.zoomTo();\n",
       "viewer_1490183896844356.render();\n",
       "});\n",
       "</script>"
      ],
      "text/plain": [
       "<IPython.core.display.HTML object>"
      ]
     },
     "execution_count": 23,
     "metadata": {},
     "output_type": "execute_result"
    }
   ],
   "source": [
    "m7 = open('/home/gosia/work/work_on_gitlab/icho/calcs/m7/m7_crystal.xyz','r').read()\n",
    "p7 = py3Dmol.view(width=400,height=400)\n",
    "p7.addModel(m7,'xyz')\n",
    "p7.setStyle({'stick':{}})\n",
    "p7.setBackgroundColor('0xeeeeee')\n",
    "p7.zoomTo()\n",
    "p7.show()"
   ]
  }
 ],
 "metadata": {
  "kernelspec": {
   "display_name": "Python 3",
   "language": "python",
   "name": "python3"
  },
  "language_info": {
   "codemirror_mode": {
    "name": "ipython",
    "version": 3
   },
   "file_extension": ".py",
   "mimetype": "text/x-python",
   "name": "python",
   "nbconvert_exporter": "python",
   "pygments_lexer": "ipython3",
   "version": "3.6.0"
  }
 },
 "nbformat": 4,
 "nbformat_minor": 2
}
