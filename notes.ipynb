{
 "cells": [
  {
   "cell_type": "markdown",
   "metadata": {},
   "source": [
    "# Exploring conformational space of selected macrocycles - notes\n",
    "\n",
    "In this notebook we show and analyze selected structures, technical notes are [here](www.gitlab.com/user/gosia/icho)."
   ]
  },
  {
   "cell_type": "code",
   "execution_count": 89,
   "metadata": {
    "collapsed": false
   },
   "outputs": [
    {
     "data": {
      "text/html": [
       "<script>\n",
       "code_show=true; \n",
       "function code_toggle() {\n",
       " if (code_show){\n",
       " $('div.input').hide();\n",
       " } else {\n",
       " $('div.input').show();\n",
       " }\n",
       " code_show = !code_show\n",
       "}\n",
       "$( document ).ready(code_toggle);\n",
       "</script>\n",
       "<form action=\"javascript:code_toggle()\"><input type=\"submit\" value=\"Click here to toggle on/off the raw code.\"></form>"
      ],
      "text/plain": [
       "<IPython.core.display.HTML object>"
      ]
     },
     "execution_count": 89,
     "metadata": {},
     "output_type": "execute_result"
    }
   ],
   "source": [
    "from IPython.display import HTML\n",
    "\n",
    "HTML('''<script>\n",
    "code_show=true; \n",
    "function code_toggle() {\n",
    " if (code_show){\n",
    " $('div.input').hide();\n",
    " } else {\n",
    " $('div.input').show();\n",
    " }\n",
    " code_show = !code_show\n",
    "}\n",
    "$( document ).ready(code_toggle);\n",
    "</script>\n",
    "<form action=\"javascript:code_toggle()\"><input type=\"submit\" value=\"Click here to toggle on/off the raw code.\"></form>''')"
   ]
  },
  {
   "cell_type": "code",
   "execution_count": 27,
   "metadata": {
    "collapsed": true
   },
   "outputs": [],
   "source": [
    "import glob\n",
    "import py3Dmol"
   ]
  },
  {
   "cell_type": "markdown",
   "metadata": {},
   "source": [
    "## \"M1\" macrocycle"
   ]
  },
  {
   "cell_type": "markdown",
   "metadata": {},
   "source": [
    "The crystallographic structure of \"M1\" (shown below) was used as a starting geometry for generating various conformers."
   ]
  },
  {
   "cell_type": "code",
   "execution_count": 100,
   "metadata": {
    "collapsed": false
   },
   "outputs": [
    {
     "data": {
      "text/html": [
       "<div id=\"3dmolviewer_1490276591604867\"  style=\"position: relative; width: 400px; height: 400px\">\n",
       "<script>\n",
       "if(typeof $3Dmolpromise === 'undefined') $3Dmolpromise = $.when($.getScript('http://3dmol.csb.pitt.edu/build/3Dmol.js'))\n",
       "var viewer_1490276591604867 = null;\n",
       "$3Dmolpromise.done(function() {\n",
       "viewer_1490276591604867 = $3Dmol.createViewer($(\"#3dmolviewer_1490276591604867\"),{backgroundColor:\"white\"});\n",
       "\tviewer_1490276591604867.addModel(\"46\\n\\nO          8.47386       14.40237       -0.01237\\nO         13.00994       15.03854        5.23003\\nO         15.44524       10.63976        3.45016\\nO         10.57273       10.02569       -1.57307\\nN          8.95748       12.65034        1.33093\\nH          9.35699       12.31014        2.21821\\nN         10.52494       14.24417        2.85275\\nN         12.10005       13.08069        4.69271\\nH         11.32970       12.58230        4.22609\\nN         13.21639       10.63465        3.76301\\nH         12.30841       10.45435        3.31406\\nN         12.74233       10.22131        1.21250\\nN         10.17322       10.17878        0.65044\\nH         10.60905       10.13116        1.58191\\nC          8.99762       13.94140        1.01101\\nC          9.77753       14.83272        1.90536\\nC         11.28382       15.03854        3.59156\\nC         12.18607       14.39726        4.57959\\nC         13.07493       12.32374        5.46334\\nH         14.01350       12.77111        5.32194\\nH         12.83217       12.43091        6.47965\\nC         13.20683       10.97825        5.20175\\nH         12.41354       10.46625        5.66307\\nH         14.09952       10.63635        5.63479\\nC         14.30597       10.53769        3.00475\\nC         14.03835       10.27574        1.55717\\nC         12.43648       10.04100       -0.07247\\nC         10.95121       10.06992       -0.39945\\nC          8.73574       10.35909        0.58151\\nH          8.35725        9.77735       -0.20680\\nH          8.30755       10.00528        1.47233\\nC          8.32667       11.73350        0.38355\\nH          7.28297       11.79814        0.48606\\nH          8.57326       12.02607       -0.59388\\nC          9.77179       16.19862        1.71448\\nH          9.17921       16.60176        1.01631\\nC         10.56890       16.99639        2.47450\\nH         10.58802       17.98637        2.33133\\nC         11.33926       16.41635        3.43425\\nH         11.93566       16.97258        4.01399\\nC         15.05529       10.14476        0.64160\\nH         16.01106       10.19069        0.92794\\nC         14.72650        9.94745       -0.66811\\nH         15.44524        9.83348       -1.35390\\nC         13.40372        9.90833       -1.04459\\nH         13.14757        9.78585       -2.00258\\n\",\"xyz\");\n",
       "\tviewer_1490276591604867.setStyle({\"stick\": {}});\n",
       "\tviewer_1490276591604867.setBackgroundColor(\"0xeeeeee\");\n",
       "\tviewer_1490276591604867.zoomTo();\n",
       "viewer_1490276591604867.render();\n",
       "});\n",
       "</script>"
      ],
      "text/plain": [
       "<IPython.core.display.HTML object>"
      ]
     },
     "execution_count": 100,
     "metadata": {},
     "output_type": "execute_result"
    }
   ],
   "source": [
    "m1 = open('/home/gosia/work/work_on_gitlab/icho/calcs/m1/m1_crystal.xyz','r').read()\n",
    "p1 = py3Dmol.view(width=400,height=400)\n",
    "p1.addModel(m1,'xyz')\n",
    "p1.setStyle({'stick':{}})\n",
    "p1.setBackgroundColor('0xeeeeee')\n",
    "p1.zoomTo()\n",
    "p1.show()"
   ]
  },
  {
   "cell_type": "markdown",
   "metadata": {},
   "source": [
    "### Conformers generated with the Balloon software:"
   ]
  },
  {
   "cell_type": "code",
   "execution_count": 101,
   "metadata": {
    "collapsed": false
   },
   "outputs": [
    {
     "name": "stdout",
     "output_type": "stream",
     "text": [
      "8\n"
     ]
    }
   ],
   "source": [
    "inps = glob.glob('/home/gosia/work/work_on_gitlab/icho/calcs/m1/balloon/results_crystal/*.sdf')\n",
    "n = len(inps)\n",
    "print(n)"
   ]
  },
  {
   "cell_type": "markdown",
   "metadata": {},
   "source": [
    "Conformers (from the lowest energy):"
   ]
  },
  {
   "cell_type": "code",
   "execution_count": 102,
   "metadata": {
    "collapsed": false
   },
   "outputs": [
    {
     "data": {
      "text/html": [
       "<div id=\"3dmolviewer_1490276599118002\"  style=\"position: relative; width: 400px; height: 400px\">\n",
       "<script>\n",
       "if(typeof $3Dmolpromise === 'undefined') $3Dmolpromise = $.when($.getScript('http://3dmol.csb.pitt.edu/build/3Dmol.js'))\n",
       "var viewer_1490276599118002 = null;\n",
       "$3Dmolpromise.done(function() {\n",
       "viewer_1490276599118002 = $3Dmol.createViewer($(\"#3dmolviewer_1490276599118002\"),{backgroundColor:\"white\"});\n",
       "\tviewer_1490276599118002.addModel(\"m1_crystal.xyz\\n  1228              3D\\n\\n 46 48  0  0  0  0  0  0  0  0999 V2000\\n    8.8017   14.2649   -0.3401 O   0  0  0  0  0  0  0  0  0  0  0  0\\n   13.8250   14.5521    4.4870 O   0  0  0  0  0  0  0  0  0  0  0  0\\n   14.0448    7.9358    4.8591 O   0  0  0  0  0  0  0  0  0  0  0  0\\n    8.7999    7.6653    0.2696 O   0  0  0  0  0  0  0  0  0  0  0  0\\n    9.6579   12.3830    0.7157 N   0  0  0  0  0  0  0  0  0  0  0  0\\n   10.3877   12.0446    1.3364 H   0  0  0  0  0  0  0  0  0  0  0  0\\n   11.2216   13.9498    2.2020 N   0  0  0  0  0  0  0  0  0  0  0  0\\n   12.3681   12.7529    4.3031 N   0  0  0  0  0  0  0  0  0  0  0  0\\n   11.5670   12.3800    3.8025 H   0  0  0  0  0  0  0  0  0  0  0  0\\n   13.0160    9.8261    3.9892 N   0  0  0  0  0  0  0  0  0  0  0  0\\n   12.3524   10.1581    3.2950 H   0  0  0  0  0  0  0  0  0  0  0  0\\n   11.3163    8.2668    2.6512 N   0  0  0  0  0  0  0  0  0  0  0  0\\n    9.2126    9.5317    1.5872 N   0  0  0  0  0  0  0  0  0  0  0  0\\n    9.7938    9.9148    2.3269 H   0  0  0  0  0  0  0  0  0  0  0  0\\n    9.5723   13.7415    0.4584 C   0  0  0  0  0  0  0  0  0  0  0  0\\n   10.5143   14.5818    1.2356 C   0  0  0  0  0  0  0  0  0  0  0  0\\n   12.0901   14.7072    2.9133 C   0  0  0  0  0  0  0  0  0  0  0  0\\n   12.8537   14.0071    3.9723 C   0  0  0  0  0  0  0  0  0  0  0  0\\n   12.9947   11.9020    5.3012 C   0  0  0  0  0  0  0  0  0  0  0  0\\n   12.1938   11.4641    5.9068 H   0  0  0  0  0  0  0  0  0  0  0  0\\n   13.6192   12.5204    5.9534 H   0  0  0  0  0  0  0  0  0  0  0  0\\n   13.8456   10.8192    4.6538 C   0  0  0  0  0  0  0  0  0  0  0  0\\n   14.4585   10.3279    5.4149 H   0  0  0  0  0  0  0  0  0  0  0  0\\n   14.5149   11.2387    3.8949 H   0  0  0  0  0  0  0  0  0  0  0  0\\n   13.2062    8.4615    4.1343 C   0  0  0  0  0  0  0  0  0  0  0  0\\n   12.3004    7.6178    3.3172 C   0  0  0  0  0  0  0  0  0  0  0  0\\n   10.4951    7.5085    1.8867 C   0  0  0  0  0  0  0  0  0  0  0  0\\n    9.4243    8.2313    1.1610 C   0  0  0  0  0  0  0  0  0  0  0  0\\n    8.2210   10.4083    0.9872 C   0  0  0  0  0  0  0  0  0  0  0  0\\n    7.4782    9.7990    0.4623 H   0  0  0  0  0  0  0  0  0  0  0  0\\n    7.7183   10.9353    1.8052 H   0  0  0  0  0  0  0  0  0  0  0  0\\n    8.8589   11.3895    0.0139 C   0  0  0  0  0  0  0  0  0  0  0  0\\n    8.0798   11.8954   -0.5649 H   0  0  0  0  0  0  0  0  0  0  0  0\\n    9.5256   10.8764   -0.6884 H   0  0  0  0  0  0  0  0  0  0  0  0\\n   10.6293   15.9383    0.9560 C   0  0  0  0  0  0  0  0  0  0  0  0\\n   10.0471   16.4229    0.1796 H   0  0  0  0  0  0  0  0  0  0  0  0\\n   11.5331   16.6831    1.7082 C   0  0  0  0  0  0  0  0  0  0  0  0\\n   11.6474   17.7470    1.5206 H   0  0  0  0  0  0  0  0  0  0  0  0\\n   12.2856   16.0662    2.7019 C   0  0  0  0  0  0  0  0  0  0  0  0\\n   12.9866   16.6496    3.2889 H   0  0  0  0  0  0  0  0  0  0  0  0\\n   12.4904    6.2423    3.2635 C   0  0  0  0  0  0  0  0  0  0  0  0\\n   13.2857    5.7447    3.8072 H   0  0  0  0  0  0  0  0  0  0  0  0\\n   11.6259    5.4963    2.4681 C   0  0  0  0  0  0  0  0  0  0  0  0\\n   11.7442    4.4187    2.4005 H   0  0  0  0  0  0  0  0  0  0  0  0\\n   10.6119    6.1302    1.7575 C   0  0  0  0  0  0  0  0  0  0  0  0\\n    9.9400    5.5459    1.1378 H   0  0  0  0  0  0  0  0  0  0  0  0\\n  1 15  2  0  0  0  0\\n  4 28  2  0  0  0  0\\n  5  6  1  0  0  0  0\\n  7 17  2  0  0  0  0\\n  8 19  1  0  0  0  0\\n  9  8  1  0  0  0  0\\n 10 22  1  0  0  0  0\\n 11 10  1  0  0  0  0\\n 12 26  1  0  0  0  0\\n 13 14  1  0  0  0  0\\n 15  5  1  0  0  0  0\\n 15 16  1  0  0  0  0\\n 16  7  1  0  0  0  0\\n 17 18  1  0  0  0  0\\n 18  8  1  0  0  0  0\\n 18  2  2  0  0  0  0\\n 19 21  1  0  0  0  0\\n 20 19  1  0  0  0  0\\n 22 19  1  0  0  0  0\\n 22 24  1  0  0  0  0\\n 22 23  1  0  0  0  0\\n 25  3  2  0  0  0  0\\n 25 10  1  0  0  0  0\\n 26 25  1  0  0  0  0\\n 27 12  2  0  0  0  0\\n 28 27  1  0  0  0  0\\n 28 13  1  0  0  0  0\\n 29 13  1  0  0  0  0\\n 29 31  1  0  0  0  0\\n 30 29  1  0  0  0  0\\n 32 33  1  0  0  0  0\\n 32 29  1  0  0  0  0\\n 32  5  1  0  0  0  0\\n 34 32  1  0  0  0  0\\n 35 16  2  0  0  0  0\\n 35 37  1  0  0  0  0\\n 36 35  1  0  0  0  0\\n 37 39  2  0  0  0  0\\n 38 37  1  0  0  0  0\\n 39 17  1  0  0  0  0\\n 39 40  1  0  0  0  0\\n 41 42  1  0  0  0  0\\n 41 26  2  0  0  0  0\\n 43 41  1  0  0  0  0\\n 44 43  1  0  0  0  0\\n 45 43  2  0  0  0  0\\n 45 27  1  0  0  0  0\\n 46 45  1  0  0  0  0\\nM  END\\n54.561442446348877\\n\\n\",\"sdf\");\n",
       "\tviewer_1490276599118002.setStyle({\"stick\": {}});\n",
       "\tviewer_1490276599118002.setBackgroundColor(\"0xeeeeee\");\n",
       "\tviewer_1490276599118002.zoomTo();\n",
       "viewer_1490276599118002.render();\n",
       "});\n",
       "</script>"
      ],
      "text/plain": [
       "<IPython.core.display.HTML object>"
      ]
     },
     "execution_count": 102,
     "metadata": {},
     "output_type": "execute_result"
    }
   ],
   "source": [
    "m1 = open(inps[0], \"r\").read()\n",
    "p1 = py3Dmol.view(width=400,height=400)\n",
    "p1.addModel(m1,'sdf')\n",
    "p1.setStyle({'stick':{}})\n",
    "p1.setBackgroundColor('0xeeeeee')\n",
    "p1.zoomTo()\n",
    "p1.show()"
   ]
  },
  {
   "cell_type": "code",
   "execution_count": 67,
   "metadata": {
    "collapsed": false
   },
   "outputs": [
    {
     "data": {
      "text/html": [
       "<div id=\"3dmolviewer_14902716985575051\"  style=\"position: relative; width: 400px; height: 400px\">\n",
       "<script>\n",
       "if(typeof $3Dmolpromise === 'undefined') $3Dmolpromise = $.when($.getScript('http://3dmol.csb.pitt.edu/build/3Dmol.js'))\n",
       "var viewer_14902716985575051 = null;\n",
       "$3Dmolpromise.done(function() {\n",
       "viewer_14902716985575051 = $3Dmol.createViewer($(\"#3dmolviewer_14902716985575051\"),{backgroundColor:\"white\"});\n",
       "\tviewer_14902716985575051.addModel(\"m1_crystal.xyz\\n  1228              3D\\n\\n 46 48  0  0  0  0  0  0  0  0999 V2000\\n    8.8017   14.2649   -0.3401 O   0  0  0  0  0  0  0  0  0  0  0  0\\n   13.8250   14.5521    4.4870 O   0  0  0  0  0  0  0  0  0  0  0  0\\n   14.0448    7.9358    4.8591 O   0  0  0  0  0  0  0  0  0  0  0  0\\n    8.7999    7.6653    0.2696 O   0  0  0  0  0  0  0  0  0  0  0  0\\n    9.6579   12.3830    0.7157 N   0  0  0  0  0  0  0  0  0  0  0  0\\n   10.3877   12.0446    1.3364 H   0  0  0  0  0  0  0  0  0  0  0  0\\n   11.2216   13.9498    2.2020 N   0  0  0  0  0  0  0  0  0  0  0  0\\n   12.3681   12.7529    4.3031 N   0  0  0  0  0  0  0  0  0  0  0  0\\n   11.5670   12.3800    3.8025 H   0  0  0  0  0  0  0  0  0  0  0  0\\n   13.0160    9.8261    3.9892 N   0  0  0  0  0  0  0  0  0  0  0  0\\n   12.3524   10.1581    3.2950 H   0  0  0  0  0  0  0  0  0  0  0  0\\n   11.3163    8.2668    2.6512 N   0  0  0  0  0  0  0  0  0  0  0  0\\n    9.2126    9.5317    1.5872 N   0  0  0  0  0  0  0  0  0  0  0  0\\n    9.7938    9.9148    2.3269 H   0  0  0  0  0  0  0  0  0  0  0  0\\n    9.5723   13.7415    0.4584 C   0  0  0  0  0  0  0  0  0  0  0  0\\n   10.5143   14.5818    1.2356 C   0  0  0  0  0  0  0  0  0  0  0  0\\n   12.0901   14.7072    2.9133 C   0  0  0  0  0  0  0  0  0  0  0  0\\n   12.8537   14.0071    3.9723 C   0  0  0  0  0  0  0  0  0  0  0  0\\n   12.9947   11.9020    5.3012 C   0  0  0  0  0  0  0  0  0  0  0  0\\n   12.1938   11.4641    5.9068 H   0  0  0  0  0  0  0  0  0  0  0  0\\n   13.6192   12.5204    5.9534 H   0  0  0  0  0  0  0  0  0  0  0  0\\n   13.8456   10.8192    4.6538 C   0  0  0  0  0  0  0  0  0  0  0  0\\n   14.4585   10.3279    5.4149 H   0  0  0  0  0  0  0  0  0  0  0  0\\n   14.5149   11.2387    3.8949 H   0  0  0  0  0  0  0  0  0  0  0  0\\n   13.2062    8.4615    4.1343 C   0  0  0  0  0  0  0  0  0  0  0  0\\n   12.3004    7.6178    3.3172 C   0  0  0  0  0  0  0  0  0  0  0  0\\n   10.4951    7.5085    1.8867 C   0  0  0  0  0  0  0  0  0  0  0  0\\n    9.4243    8.2313    1.1610 C   0  0  0  0  0  0  0  0  0  0  0  0\\n    8.2210   10.4083    0.9872 C   0  0  0  0  0  0  0  0  0  0  0  0\\n    7.4782    9.7990    0.4623 H   0  0  0  0  0  0  0  0  0  0  0  0\\n    7.7183   10.9353    1.8052 H   0  0  0  0  0  0  0  0  0  0  0  0\\n    8.8589   11.3895    0.0139 C   0  0  0  0  0  0  0  0  0  0  0  0\\n    8.0798   11.8954   -0.5649 H   0  0  0  0  0  0  0  0  0  0  0  0\\n    9.5256   10.8764   -0.6884 H   0  0  0  0  0  0  0  0  0  0  0  0\\n   10.6293   15.9383    0.9560 C   0  0  0  0  0  0  0  0  0  0  0  0\\n   10.0471   16.4229    0.1796 H   0  0  0  0  0  0  0  0  0  0  0  0\\n   11.5331   16.6831    1.7082 C   0  0  0  0  0  0  0  0  0  0  0  0\\n   11.6474   17.7470    1.5206 H   0  0  0  0  0  0  0  0  0  0  0  0\\n   12.2856   16.0662    2.7019 C   0  0  0  0  0  0  0  0  0  0  0  0\\n   12.9866   16.6496    3.2889 H   0  0  0  0  0  0  0  0  0  0  0  0\\n   12.4904    6.2423    3.2635 C   0  0  0  0  0  0  0  0  0  0  0  0\\n   13.2857    5.7447    3.8072 H   0  0  0  0  0  0  0  0  0  0  0  0\\n   11.6259    5.4963    2.4681 C   0  0  0  0  0  0  0  0  0  0  0  0\\n   11.7442    4.4187    2.4005 H   0  0  0  0  0  0  0  0  0  0  0  0\\n   10.6119    6.1302    1.7575 C   0  0  0  0  0  0  0  0  0  0  0  0\\n    9.9400    5.5459    1.1378 H   0  0  0  0  0  0  0  0  0  0  0  0\\n  1 15  2  0  0  0  0\\n  4 28  2  0  0  0  0\\n  5  6  1  0  0  0  0\\n  7 17  2  0  0  0  0\\n  8 19  1  0  0  0  0\\n  9  8  1  0  0  0  0\\n 10 22  1  0  0  0  0\\n 11 10  1  0  0  0  0\\n 12 26  1  0  0  0  0\\n 13 14  1  0  0  0  0\\n 15  5  1  0  0  0  0\\n 15 16  1  0  0  0  0\\n 16  7  1  0  0  0  0\\n 17 18  1  0  0  0  0\\n 18  8  1  0  0  0  0\\n 18  2  2  0  0  0  0\\n 19 21  1  0  0  0  0\\n 20 19  1  0  0  0  0\\n 22 19  1  0  0  0  0\\n 22 24  1  0  0  0  0\\n 22 23  1  0  0  0  0\\n 25  3  2  0  0  0  0\\n 25 10  1  0  0  0  0\\n 26 25  1  0  0  0  0\\n 27 12  2  0  0  0  0\\n 28 27  1  0  0  0  0\\n 28 13  1  0  0  0  0\\n 29 13  1  0  0  0  0\\n 29 31  1  0  0  0  0\\n 30 29  1  0  0  0  0\\n 32 33  1  0  0  0  0\\n 32 29  1  0  0  0  0\\n 32  5  1  0  0  0  0\\n 34 32  1  0  0  0  0\\n 35 16  2  0  0  0  0\\n 35 37  1  0  0  0  0\\n 36 35  1  0  0  0  0\\n 37 39  2  0  0  0  0\\n 38 37  1  0  0  0  0\\n 39 17  1  0  0  0  0\\n 39 40  1  0  0  0  0\\n 41 42  1  0  0  0  0\\n 41 26  2  0  0  0  0\\n 43 41  1  0  0  0  0\\n 44 43  1  0  0  0  0\\n 45 43  2  0  0  0  0\\n 45 27  1  0  0  0  0\\n 46 45  1  0  0  0  0\\nM  END\\n54.561442446348877\\n\\n\",\"sdf\");\n",
       "\tviewer_14902716985575051.setStyle({\"stick\": {}});\n",
       "\tviewer_14902716985575051.setBackgroundColor(\"0xeeeeee\");\n",
       "\tviewer_14902716985575051.zoomTo();\n",
       "viewer_14902716985575051.render();\n",
       "});\n",
       "</script>"
      ],
      "text/plain": [
       "<IPython.core.display.HTML object>"
      ]
     },
     "execution_count": 67,
     "metadata": {},
     "output_type": "execute_result"
    }
   ],
   "source": [
    "m2 = open(inps[1], \"r\").read()\n",
    "p2 = py3Dmol.view(width=400,height=400)\n",
    "p2.addModel(m1,'sdf')\n",
    "p2.setStyle({'stick':{}})\n",
    "p2.setBackgroundColor('0xeeeeee')\n",
    "p2.zoomTo()\n",
    "p2.show()"
   ]
  },
  {
   "cell_type": "code",
   "execution_count": 99,
   "metadata": {
    "collapsed": false
   },
   "outputs": [
    {
     "data": {
      "text/html": [
       "<div id=\"3dmolviewer_14902765828638906\"  style=\"position: relative; width: 400px; height: 400px\">\n",
       "<script>\n",
       "if(typeof $3Dmolpromise === 'undefined') $3Dmolpromise = $.when($.getScript('http://3dmol.csb.pitt.edu/build/3Dmol.js'))\n",
       "var viewer_14902765828638906 = null;\n",
       "$3Dmolpromise.done(function() {\n",
       "viewer_14902765828638906 = $3Dmol.createViewer($(\"#3dmolviewer_14902765828638906\"),{backgroundColor:\"white\"});\n",
       "\tviewer_14902765828638906.addModel(\"     RDKit          3D\\n\\n 28 30  0  0  0  0  0  0  0  0999 V2000\\n   -3.8488    2.9326    0.9796 O   0  0  0  0  0  0  0  0  0  0  0  0\\n   -2.9957   -3.8689   -0.7565 O   0  0  0  0  0  0  0  0  0  0  0  0\\n    3.8488   -2.9325   -1.3321 O   0  0  0  0  0  0  0  0  0  0  0  0\\n    2.9958    3.8689    0.4039 O   0  0  0  0  0  0  0  0  0  0  0  0\\n   -1.7710    2.3949    0.1065 N   0  0  0  0  0  0  0  0  0  0  0  0\\n   -2.9146   -0.3323   -0.0699 N   0  0  0  0  0  0  0  0  0  0  0  0\\n   -1.1098   -2.6987   -0.1090 N   0  0  0  0  0  0  0  0  0  0  0  0\\n    1.7710   -2.3949   -0.4589 N   0  0  0  0  0  0  0  0  0  0  0  0\\n    2.9146    0.3323   -0.2826 N   0  0  0  0  0  0  0  0  0  0  0  0\\n    1.1098    2.6987   -0.2436 N   0  0  0  0  0  0  0  0  0  0  0  0\\n   -3.1365    2.0764    0.3910 C   0  0  0  0  0  0  0  0  0  0  0  0\\n   -3.7161    0.7637    0.0429 C   0  0  0  0  0  0  0  0  0  0  0  0\\n   -3.4054   -1.5743   -0.3423 C   0  0  0  0  0  0  0  0  0  0  0  0\\n   -2.5089   -2.7559   -0.4217 C   0  0  0  0  0  0  0  0  0  0  0  0\\n   -0.3877   -1.4840    0.2330 C   0  0  0  0  0  0  0  0  0  0  0  0\\n    1.0379   -1.7968    0.6465 C   0  0  0  0  0  0  0  0  0  0  0  0\\n    3.1365   -2.0764   -0.7435 C   0  0  0  0  0  0  0  0  0  0  0  0\\n    3.7161   -0.7637   -0.3954 C   0  0  0  0  0  0  0  0  0  0  0  0\\n    3.4054    1.5743   -0.0102 C   0  0  0  0  0  0  0  0  0  0  0  0\\n    2.5090    2.7559    0.0692 C   0  0  0  0  0  0  0  0  0  0  0  0\\n    0.3877    1.4840   -0.5855 C   0  0  0  0  0  0  0  0  0  0  0  0\\n   -1.0379    1.7968   -0.9990 C   0  0  0  0  0  0  0  0  0  0  0  0\\n   -5.0993    0.6231   -0.1150 C   0  0  0  0  0  0  0  0  0  0  0  0\\n   -5.6313   -0.6324   -0.4068 C   0  0  0  0  0  0  0  0  0  0  0  0\\n   -4.7857   -1.7359   -0.5218 C   0  0  0  0  0  0  0  0  0  0  0  0\\n    5.0993   -0.6231   -0.2375 C   0  0  0  0  0  0  0  0  0  0  0  0\\n    5.6313    0.6324    0.0544 C   0  0  0  0  0  0  0  0  0  0  0  0\\n    4.7857    1.7359    0.1693 C   0  0  0  0  0  0  0  0  0  0  0  0\\n  1 11  2  0\\n  4 20  2  0\\n  6 13  2  0\\n  7 15  1  0\\n  8 16  1  0\\n  9 18  1  0\\n 11  5  1  0\\n 11 12  1  0\\n 12  6  1  0\\n 13 14  1  0\\n 14  7  1  0\\n 14  2  2  0\\n 16 15  1  0\\n 17  3  2  0\\n 17  8  1  0\\n 18 17  1  0\\n 19  9  2  0\\n 20 19  1  0\\n 20 10  1  0\\n 21 10  1  0\\n 22 21  1  0\\n 22  5  1  0\\n 23 12  2  0\\n 23 24  1  0\\n 24 25  2  0\\n 25 13  1  0\\n 26 18  2  0\\n 27 26  1  0\\n 28 27  2  0\\n 28 19  1  0\\nM  END\\n47.44\\n\\n\",\"sdf\");\n",
       "\tviewer_14902765828638906.setStyle({\"stick\": {}});\n",
       "\tviewer_14902765828638906.setBackgroundColor(\"0xeeeeee\");\n",
       "\tviewer_14902765828638906.zoomTo();\n",
       "viewer_14902765828638906.render();\n",
       "});\n",
       "</script>"
      ],
      "text/plain": [
       "<IPython.core.display.HTML object>"
      ]
     },
     "execution_count": 99,
     "metadata": {},
     "output_type": "execute_result"
    }
   ],
   "source": [
    "m3 = open(inps[3], \"r\").read()\n",
    "p3 = py3Dmol.view(width=400,height=400)\n",
    "p3.addModel(m1,'sdf')\n",
    "p3.setStyle({'stick':{}})\n",
    "p3.setBackgroundColor('0xeeeeee')\n",
    "p3.zoomTo()\n",
    "p3.show()"
   ]
  },
  {
   "cell_type": "markdown",
   "metadata": {},
   "source": [
    "### Conformers generated with the RDKit software:"
   ]
  },
  {
   "cell_type": "code",
   "execution_count": 105,
   "metadata": {
    "collapsed": false
   },
   "outputs": [
    {
     "name": "stdout",
     "output_type": "stream",
     "text": [
      "12\n"
     ]
    }
   ],
   "source": [
    "inps = glob.glob('/home/gosia/work/work_on_gitlab/icho/calcs/m1/rdkit/results_crystal_from_sdf/*.sdf')\n",
    "n = len(inps)\n",
    "print(n)"
   ]
  },
  {
   "cell_type": "code",
   "execution_count": 106,
   "metadata": {
    "collapsed": false
   },
   "outputs": [
    {
     "data": {
      "text/html": [
       "<div id=\"3dmolviewer_14902767413387249\"  style=\"position: relative; width: 400px; height: 400px\">\n",
       "<script>\n",
       "if(typeof $3Dmolpromise === 'undefined') $3Dmolpromise = $.when($.getScript('http://3dmol.csb.pitt.edu/build/3Dmol.js'))\n",
       "var viewer_14902767413387249 = null;\n",
       "$3Dmolpromise.done(function() {\n",
       "viewer_14902767413387249 = $3Dmol.createViewer($(\"#3dmolviewer_14902767413387249\"),{backgroundColor:\"white\"});\n",
       "\tviewer_14902767413387249.addModel(\"\\n     RDKit          3D\\n\\n 28 30  0  0  0  0  0  0  0  0999 V2000\\n   -3.8488    2.9326    0.9796 O   0  0  0  0  0  0  0  0  0  0  0  0\\n   -2.9957   -3.8689   -0.7565 O   0  0  0  0  0  0  0  0  0  0  0  0\\n    3.8488   -2.9325   -1.3321 O   0  0  0  0  0  0  0  0  0  0  0  0\\n    2.9958    3.8689    0.4039 O   0  0  0  0  0  0  0  0  0  0  0  0\\n   -1.7710    2.3949    0.1065 N   0  0  0  0  0  0  0  0  0  0  0  0\\n   -2.9146   -0.3323   -0.0699 N   0  0  0  0  0  0  0  0  0  0  0  0\\n   -1.1098   -2.6987   -0.1090 N   0  0  0  0  0  0  0  0  0  0  0  0\\n    1.7710   -2.3949   -0.4589 N   0  0  0  0  0  0  0  0  0  0  0  0\\n    2.9146    0.3323   -0.2826 N   0  0  0  0  0  0  0  0  0  0  0  0\\n    1.1098    2.6987   -0.2436 N   0  0  0  0  0  0  0  0  0  0  0  0\\n   -3.1365    2.0764    0.3910 C   0  0  0  0  0  0  0  0  0  0  0  0\\n   -3.7161    0.7637    0.0429 C   0  0  0  0  0  0  0  0  0  0  0  0\\n   -3.4054   -1.5743   -0.3423 C   0  0  0  0  0  0  0  0  0  0  0  0\\n   -2.5089   -2.7559   -0.4217 C   0  0  0  0  0  0  0  0  0  0  0  0\\n   -0.3877   -1.4840    0.2330 C   0  0  0  0  0  0  0  0  0  0  0  0\\n    1.0379   -1.7968    0.6465 C   0  0  0  0  0  0  0  0  0  0  0  0\\n    3.1365   -2.0764   -0.7435 C   0  0  0  0  0  0  0  0  0  0  0  0\\n    3.7161   -0.7637   -0.3954 C   0  0  0  0  0  0  0  0  0  0  0  0\\n    3.4054    1.5743   -0.0102 C   0  0  0  0  0  0  0  0  0  0  0  0\\n    2.5090    2.7559    0.0692 C   0  0  0  0  0  0  0  0  0  0  0  0\\n    0.3877    1.4840   -0.5855 C   0  0  0  0  0  0  0  0  0  0  0  0\\n   -1.0379    1.7968   -0.9990 C   0  0  0  0  0  0  0  0  0  0  0  0\\n   -5.0993    0.6231   -0.1150 C   0  0  0  0  0  0  0  0  0  0  0  0\\n   -5.6313   -0.6324   -0.4068 C   0  0  0  0  0  0  0  0  0  0  0  0\\n   -4.7857   -1.7359   -0.5218 C   0  0  0  0  0  0  0  0  0  0  0  0\\n    5.0993   -0.6231   -0.2375 C   0  0  0  0  0  0  0  0  0  0  0  0\\n    5.6313    0.6324    0.0544 C   0  0  0  0  0  0  0  0  0  0  0  0\\n    4.7857    1.7359    0.1693 C   0  0  0  0  0  0  0  0  0  0  0  0\\n  1 11  2  0\\n  4 20  2  0\\n  6 13  2  0\\n  7 15  1  0\\n  8 16  1  0\\n  9 18  1  0\\n 11  5  1  0\\n 11 12  1  0\\n 12  6  1  0\\n 13 14  1  0\\n 14  7  1  0\\n 14  2  2  0\\n 16 15  1  0\\n 17  3  2  0\\n 17  8  1  0\\n 18 17  1  0\\n 19  9  2  0\\n 20 19  1  0\\n 20 10  1  0\\n 21 10  1  0\\n 22 21  1  0\\n 22  5  1  0\\n 23 12  2  0\\n 23 24  1  0\\n 24 25  2  0\\n 25 13  1  0\\n 26 18  2  0\\n 27 26  1  0\\n 28 27  2  0\\n 28 19  1  0\\nM  END\\n47.44\\n\\n\",\"sdf\");\n",
       "\tviewer_14902767413387249.setStyle({\"stick\": {}});\n",
       "\tviewer_14902767413387249.setBackgroundColor(\"0xeeeeee\");\n",
       "\tviewer_14902767413387249.zoomTo();\n",
       "viewer_14902767413387249.render();\n",
       "});\n",
       "</script>"
      ],
      "text/plain": [
       "<IPython.core.display.HTML object>"
      ]
     },
     "execution_count": 106,
     "metadata": {},
     "output_type": "execute_result"
    }
   ],
   "source": [
    "m1 = open(inps[1], \"r\").read()\n",
    "p1 = py3Dmol.view(width=400,height=400)\n",
    "p1.addModel(m1,'sdf')\n",
    "p1.setStyle({'stick':{}})\n",
    "p1.setBackgroundColor('0xeeeeee')\n",
    "p1.zoomTo()\n",
    "p1.show()"
   ]
  },
  {
   "cell_type": "markdown",
   "metadata": {},
   "source": [
    "## \"M7\" macrocycle\n",
    "\n",
    "start: crystal geometry"
   ]
  },
  {
   "cell_type": "code",
   "execution_count": 23,
   "metadata": {
    "collapsed": false
   },
   "outputs": [
    {
     "data": {
      "text/html": [
       "<div id=\"3dmolviewer_1490183896844356\"  style=\"position: relative; width: 400px; height: 400px\">\n",
       "<script>\n",
       "if(typeof $3Dmolpromise === 'undefined') $3Dmolpromise = $.when($.getScript('http://3dmol.csb.pitt.edu/build/3Dmol.js'))\n",
       "var viewer_1490183896844356 = null;\n",
       "$3Dmolpromise.done(function() {\n",
       "viewer_1490183896844356 = $3Dmol.createViewer($(\"#3dmolviewer_1490183896844356\"),{backgroundColor:\"white\"});\n",
       "\tviewer_1490183896844356.addModel(\"52\\n\\nN          1.57839        8.38585       11.85511\\nC          1.82351        7.99266       13.09736\\nO          2.96788        7.95608       13.56305\\nC          0.62943        7.60940       13.91036\\nN         -0.57354        7.73379       13.33411\\nC         -1.65370        7.42126       14.05995\\nC         -2.99981        7.65818       13.45996\\nO         -4.04097        7.41952       14.07247\\nN         -3.00440        8.17906       12.23559\\nC         -4.20555        8.64943       11.55430\\nH         -3.94721        9.32535       10.90715\\nH         -4.78218        9.07624       12.20632\\nC         -4.98884        7.59547       10.84862\\nH         -5.84522        7.97176       10.59171\\nH         -5.16361        6.87425       11.47462\\nC         -4.33393        7.01187        9.61449\\nH         -4.99101        6.48576        9.13320\\nH         -4.05714        7.73832        9.03564\\nN         -3.17685        6.17201        9.89546\\nC         -3.30522        4.91789       10.27952\\nO         -4.39595        4.34631       10.42277\\nC         -2.03064        4.16531       10.53318\\nN         -0.88257        4.81964       10.33415\\nC          0.27455        4.16183       10.51529\\nC          1.54316        4.88653       10.18034\\nO          2.63713        4.31722       10.29741\\nN          1.40149        6.12864        9.73481\\nC          2.51605        6.89515        9.21937\\nH          2.17495        7.54843        8.58849\\nH          3.10356        6.29588        8.73158\\nC          3.32933        7.61811       10.26651\\nH          3.59204        6.97877       10.94780\\nH          4.14145        7.94911        9.85026\\nC          2.63392        8.77137       10.93480\\nH          3.29313        9.29225       11.42097\\nH          2.25408        9.34452       10.25025\\nC          0.80705        7.18259       15.20465\\nH          1.65858        7.13033       15.57538\\nC         -0.29197        6.84289       15.92984\\nH         -0.19717        6.52757       16.79975\\nC         -1.54653        6.96483       15.37050\\nH         -2.30626        6.74533       15.85992\\nC         -2.06246        2.83611       10.89902\\nH         -2.87669        2.40581       11.02585\\nC         -0.89454        2.16018       11.07463\\nH         -0.90066        1.25952       11.31040\\nC          0.30692        2.82914       10.89415\\nH          1.11681        2.39188       11.02748\\nH          0.82059        8.37766       11.54454\\nH         -2.33450        8.29927       11.91852\\nH         -2.39977        6.58332        9.92831\\nH          0.67017        6.53280        9.69091\\n\",\"xyz\");\n",
       "\tviewer_1490183896844356.setStyle({\"stick\": {}});\n",
       "\tviewer_1490183896844356.setBackgroundColor(\"0xeeeeee\");\n",
       "\tviewer_1490183896844356.zoomTo();\n",
       "viewer_1490183896844356.render();\n",
       "});\n",
       "</script>"
      ],
      "text/plain": [
       "<IPython.core.display.HTML object>"
      ]
     },
     "execution_count": 23,
     "metadata": {},
     "output_type": "execute_result"
    }
   ],
   "source": [
    "m7 = open('/home/gosia/work/work_on_gitlab/icho/calcs/m7/m7_crystal.xyz','r').read()\n",
    "p7 = py3Dmol.view(width=400,height=400)\n",
    "p7.addModel(m7,'xyz')\n",
    "p7.setStyle({'stick':{}})\n",
    "p7.setBackgroundColor('0xeeeeee')\n",
    "p7.zoomTo()\n",
    "p7.show()"
   ]
  },
  {
   "cell_type": "markdown",
   "metadata": {},
   "source": [
    "### Conformers generated with the Balloon software:"
   ]
  },
  {
   "cell_type": "code",
   "execution_count": 81,
   "metadata": {
    "collapsed": false
   },
   "outputs": [
    {
     "name": "stdout",
     "output_type": "stream",
     "text": [
      "10\n"
     ]
    }
   ],
   "source": [
    "inps = glob.glob('/home/gosia/work/work_on_gitlab/icho/calcs/m7/balloon/results_crystal/*.sdf')\n",
    "n = len(inps)\n",
    "print(n)"
   ]
  },
  {
   "cell_type": "code",
   "execution_count": 87,
   "metadata": {
    "collapsed": false
   },
   "outputs": [
    {
     "data": {
      "text/html": [
       "<div id=\"3dmolviewer_14902760631501982\"  style=\"position: relative; width: 400px; height: 400px\">\n",
       "<script>\n",
       "if(typeof $3Dmolpromise === 'undefined') $3Dmolpromise = $.when($.getScript('http://3dmol.csb.pitt.edu/build/3Dmol.js'))\n",
       "var viewer_14902760631501982 = null;\n",
       "$3Dmolpromise.done(function() {\n",
       "viewer_14902760631501982 = $3Dmol.createViewer($(\"#3dmolviewer_14902760631501982\"),{backgroundColor:\"white\"});\n",
       "\tviewer_14902760631501982.addModel(\"m7_crystal.xyz\\n  1228              3D\\n\\n 52 54  0  0  0  0  0  0  0  0999 V2000\\n   -3.1836    5.0305   11.0805 N   0  0  0  0  0  0  0  0  0  0  0  0\\n   -3.1337    3.6585   10.8950 C   0  0  0  0  0  0  0  0  0  0  0  0\\n   -4.0089    2.8635   11.2230 O   0  0  0  0  0  0  0  0  0  0  0  0\\n   -1.8914    3.1721   10.2503 C   0  0  0  0  0  0  0  0  0  0  0  0\\n   -0.9052    4.0874   10.0925 N   0  0  0  0  0  0  0  0  0  0  0  0\\n    0.2391    3.6564    9.5142 C   0  0  0  0  0  0  0  0  0  0  0  0\\n    1.3167    4.6624    9.3614 C   0  0  0  0  0  0  0  0  0  0  0  0\\n    2.3379    4.3766    8.7441 O   0  0  0  0  0  0  0  0  0  0  0  0\\n    1.0702    5.8859    9.9682 N   0  0  0  0  0  0  0  0  0  0  0  0\\n    2.0595    6.9509    9.9825 C   0  0  0  0  0  0  0  0  0  0  0  0\\n    1.5265    7.8979   10.1130 H   0  0  0  0  0  0  0  0  0  0  0  0\\n    2.5372    6.9718    8.9960 H   0  0  0  0  0  0  0  0  0  0  0  0\\n    3.1257    6.7231   11.0589 C   0  0  0  0  0  0  0  0  0  0  0  0\\n    4.1123    6.7977   10.5843 H   0  0  0  0  0  0  0  0  0  0  0  0\\n    3.0555    5.7121   11.4794 H   0  0  0  0  0  0  0  0  0  0  0  0\\n    3.0869    7.7485   12.1898 C   0  0  0  0  0  0  0  0  0  0  0  0\\n    3.9361    7.5805   12.8610 H   0  0  0  0  0  0  0  0  0  0  0  0\\n    3.1826    8.7648   11.7918 H   0  0  0  0  0  0  0  0  0  0  0  0\\n    1.8537    7.7057   12.9564 N   0  0  0  0  0  0  0  0  0  0  0  0\\n    1.8329    7.9030   14.3299 C   0  0  0  0  0  0  0  0  0  0  0  0\\n    2.8196    7.9171   15.0594 O   0  0  0  0  0  0  0  0  0  0  0  0\\n    0.4865    8.1359   14.9057 C   0  0  0  0  0  0  0  0  0  0  0  0\\n   -0.5320    8.2191   14.0193 N   0  0  0  0  0  0  0  0  0  0  0  0\\n   -1.7600    8.4924   14.5204 C   0  0  0  0  0  0  0  0  0  0  0  0\\n   -2.8547    8.5950   13.5263 C   0  0  0  0  0  0  0  0  0  0  0  0\\n   -3.9364    9.0769   13.8449 O   0  0  0  0  0  0  0  0  0  0  0  0\\n   -2.5331    8.0948   12.2769 N   0  0  0  0  0  0  0  0  0  0  0  0\\n   -3.4654    8.0419   11.1683 C   0  0  0  0  0  0  0  0  0  0  0  0\\n   -2.8861    7.7871   10.2744 H   0  0  0  0  0  0  0  0  0  0  0  0\\n   -3.8771    9.0470   11.0238 H   0  0  0  0  0  0  0  0  0  0  0  0\\n   -4.6106    7.0453   11.3680 C   0  0  0  0  0  0  0  0  0  0  0  0\\n   -5.3385    7.4695   12.0706 H   0  0  0  0  0  0  0  0  0  0  0  0\\n   -5.1349    6.9335   10.4107 H   0  0  0  0  0  0  0  0  0  0  0  0\\n   -4.2033    5.6681   11.8899 C   0  0  0  0  0  0  0  0  0  0  0  0\\n   -5.0860    5.0214   11.9370 H   0  0  0  0  0  0  0  0  0  0  0  0\\n   -3.8039    5.7386   12.9077 H   0  0  0  0  0  0  0  0  0  0  0  0\\n   -1.7839    1.8440    9.8593 C   0  0  0  0  0  0  0  0  0  0  0  0\\n   -2.5873    1.1298   10.0026 H   0  0  0  0  0  0  0  0  0  0  0  0\\n   -0.5950    1.4389    9.2622 C   0  0  0  0  0  0  0  0  0  0  0  0\\n   -0.4728    0.4086    8.9403 H   0  0  0  0  0  0  0  0  0  0  0  0\\n    0.4392    2.3516    9.0802 C   0  0  0  0  0  0  0  0  0  0  0  0\\n    1.3663    2.0292    8.6184 H   0  0  0  0  0  0  0  0  0  0  0  0\\n    0.3285    8.2977   16.2763 C   0  0  0  0  0  0  0  0  0  0  0  0\\n    1.1599    8.2247   16.9690 H   0  0  0  0  0  0  0  0  0  0  0  0\\n   -0.9496    8.5711   16.7554 C   0  0  0  0  0  0  0  0  0  0  0  0\\n   -1.1117    8.7055   17.8211 H   0  0  0  0  0  0  0  0  0  0  0  0\\n   -2.0190    8.6799   15.8711 C   0  0  0  0  0  0  0  0  0  0  0  0\\n   -3.0124    8.8979   16.2469 H   0  0  0  0  0  0  0  0  0  0  0  0\\n   -2.3447    5.5679   10.8813 H   0  0  0  0  0  0  0  0  0  0  0  0\\n    0.2257    6.0106   10.5190 H   0  0  0  0  0  0  0  0  0  0  0  0\\n    0.9837    7.8190   12.4438 H   0  0  0  0  0  0  0  0  0  0  0  0\\n   -1.6178    7.6771   12.1342 H   0  0  0  0  0  0  0  0  0  0  0  0\\n  1  2  1  0  0  0  0\\n  2  3  2  0  0  0  0\\n  2  4  1  0  0  0  0\\n  4 37  1  0  0  0  0\\n  5  4  2  0  0  0  0\\n  5  6  1  0  0  0  0\\n  6 41  2  0  0  0  0\\n  7  6  1  0  0  0  0\\n  7  8  2  0  0  0  0\\n  9  7  1  0  0  0  0\\n 10 12  1  0  0  0  0\\n 10  9  1  0  0  0  0\\n 11 10  1  0  0  0  0\\n 13 15  1  0  0  0  0\\n 13 10  1  0  0  0  0\\n 14 13  1  0  0  0  0\\n 16 19  1  0  0  0  0\\n 16 13  1  0  0  0  0\\n 17 16  1  0  0  0  0\\n 18 16  1  0  0  0  0\\n 19 51  1  0  0  0  0\\n 19 20  1  0  0  0  0\\n 20 21  2  0  0  0  0\\n 20 22  1  0  0  0  0\\n 22 43  2  0  0  0  0\\n 23 24  2  0  0  0  0\\n 23 22  1  0  0  0  0\\n 24 47  1  0  0  0  0\\n 25 26  2  0  0  0  0\\n 25 24  1  0  0  0  0\\n 27 25  1  0  0  0  0\\n 28 27  1  0  0  0  0\\n 28 31  1  0  0  0  0\\n 29 28  1  0  0  0  0\\n 30 28  1  0  0  0  0\\n 31 34  1  0  0  0  0\\n 31 32  1  0  0  0  0\\n 33 31  1  0  0  0  0\\n 34 35  1  0  0  0  0\\n 34  1  1  0  0  0  0\\n 36 34  1  0  0  0  0\\n 37 38  1  0  0  0  0\\n 37 39  2  0  0  0  0\\n 39 40  1  0  0  0  0\\n 41 42  1  0  0  0  0\\n 41 39  1  0  0  0  0\\n 43 44  1  0  0  0  0\\n 43 45  1  0  0  0  0\\n 45 46  1  0  0  0  0\\n 47 48  1  0  0  0  0\\n 47 45  2  0  0  0  0\\n 49  1  1  0  0  0  0\\n 50  9  1  0  0  0  0\\n 52 27  1  0  0  0  0\\nM  END\\n57.804856746599967\\n\\n\",\"sdf\");\n",
       "\tviewer_14902760631501982.setStyle({\"stick\": {}});\n",
       "\tviewer_14902760631501982.setBackgroundColor(\"0xeeeeee\");\n",
       "\tviewer_14902760631501982.zoomTo();\n",
       "viewer_14902760631501982.render();\n",
       "});\n",
       "</script>"
      ],
      "text/plain": [
       "<IPython.core.display.HTML object>"
      ]
     },
     "execution_count": 87,
     "metadata": {},
     "output_type": "execute_result"
    }
   ],
   "source": [
    "m1 = open(inps[2], \"r\").read()\n",
    "p1 = py3Dmol.view(width=400,height=400)\n",
    "p1.addModel(m1,'sdf')\n",
    "p1.setStyle({'stick':{}})\n",
    "p1.setBackgroundColor('0xeeeeee')\n",
    "p1.zoomTo()\n",
    "p1.show()"
   ]
  }
 ],
 "metadata": {
  "kernelspec": {
   "display_name": "Python 3",
   "language": "python",
   "name": "python3"
  },
  "language_info": {
   "codemirror_mode": {
    "name": "ipython",
    "version": 3
   },
   "file_extension": ".py",
   "mimetype": "text/x-python",
   "name": "python",
   "nbconvert_exporter": "python",
   "pygments_lexer": "ipython3",
   "version": "3.6.0"
  }
 },
 "nbformat": 4,
 "nbformat_minor": 2
}
