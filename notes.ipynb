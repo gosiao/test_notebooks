{
 "cells": [
  {
   "cell_type": "markdown",
   "metadata": {
    "deletable": true,
    "editable": true
   },
   "source": [
    "# Exploring conformational space of selected macrocycles - notes\n",
    "\n",
    "In this notebook we present and analyze selected structures, technical notes are [here](www.gitlab.com/user/gosia/icho)."
   ]
  },
  {
   "cell_type": "code",
   "execution_count": 1,
   "metadata": {
    "collapsed": false,
    "deletable": true,
    "editable": true
   },
   "outputs": [
    {
     "data": {
      "text/html": [
       "<script>\n",
       "code_show=true; \n",
       "function code_toggle() {\n",
       " if (code_show){\n",
       " $('div.input').hide();\n",
       " } else {\n",
       " $('div.input').show();\n",
       " }\n",
       " code_show = !code_show\n",
       "}\n",
       "$( document ).ready(code_toggle);\n",
       "</script>\n",
       "<form action=\"javascript:code_toggle()\"><input type=\"submit\" value=\"Click here to toggle on/off the raw code.\"></form>"
      ],
      "text/plain": [
       "<IPython.core.display.HTML object>"
      ]
     },
     "execution_count": 1,
     "metadata": {},
     "output_type": "execute_result"
    }
   ],
   "source": [
    "from IPython.display import HTML\n",
    "\n",
    "HTML('''<script>\n",
    "code_show=true; \n",
    "function code_toggle() {\n",
    " if (code_show){\n",
    " $('div.input').hide();\n",
    " } else {\n",
    " $('div.input').show();\n",
    " }\n",
    " code_show = !code_show\n",
    "}\n",
    "$( document ).ready(code_toggle);\n",
    "</script>\n",
    "<form action=\"javascript:code_toggle()\"><input type=\"submit\" value=\"Click here to toggle on/off the raw code.\"></form>''')"
   ]
  },
  {
   "cell_type": "code",
   "execution_count": 2,
   "metadata": {
    "collapsed": false,
    "deletable": true,
    "editable": true
   },
   "outputs": [
    {
     "name": "stdout",
     "output_type": "stream",
     "text": [
      "2016.09.4\n",
      "Tue Mar 28 14:58:37 2017\n"
     ]
    }
   ],
   "source": [
    "import glob\n",
    "import py3Dmol\n",
    "\n",
    "from rdkit import Chem\n",
    "from rdkit.Chem import AllChem\n",
    "from rdkit.Chem import Draw\n",
    "from rdkit.Chem import rdMolAlign\n",
    "from rdkit import rdBase\n",
    "print(rdBase.rdkitVersion)\n",
    "import os,time\n",
    "print( time.asctime())"
   ]
  },
  {
   "cell_type": "code",
   "execution_count": 3,
   "metadata": {
    "collapsed": true
   },
   "outputs": [],
   "source": [
    "# Functions used in this notebook:\n",
    "def grep_energies_from_sdf_outputs(files):\n",
    "    energies = []\n",
    "    for inp in files:\n",
    "        with open(inp,'r') as f:\n",
    "            lines = f.readlines()\n",
    "            for i, line in enumerate(lines):\n",
    "                if \"M  END\" in line:\n",
    "                    energies.append(float(lines[i+1]))\n",
    "    return energies"
   ]
  },
  {
   "cell_type": "markdown",
   "metadata": {
    "deletable": true,
    "editable": true
   },
   "source": [
    "## \"M1\" macrocycle"
   ]
  },
  {
   "cell_type": "markdown",
   "metadata": {
    "deletable": true,
    "editable": true
   },
   "source": [
    "The crystallographic structure of \"M1\" (shown below) was used as a starting geometry for generating various conformers."
   ]
  },
  {
   "cell_type": "code",
   "execution_count": 125,
   "metadata": {
    "collapsed": false,
    "deletable": true,
    "editable": true,
    "scrolled": false
   },
   "outputs": [
    {
     "data": {
      "text/html": [
       "<div id=\"3dmolviewer_1490706413629087\"  style=\"position: relative; width: 400px; height: 400px\">\n",
       "<script>\n",
       "if(typeof $3Dmolpromise === 'undefined') $3Dmolpromise = $.when($.getScript('http://3dmol.csb.pitt.edu/build/3Dmol.js'))\n",
       "var viewer_1490706413629087 = null;\n",
       "$3Dmolpromise.done(function() {\n",
       "viewer_1490706413629087 = $3Dmol.createViewer($(\"#3dmolviewer_1490706413629087\"),{backgroundColor:\"white\"});\n",
       "\tviewer_1490706413629087.addModel(\"46\\n\\nO          8.47386       14.40237       -0.01237\\nO         13.00994       15.03854        5.23003\\nO         15.44524       10.63976        3.45016\\nO         10.57273       10.02569       -1.57307\\nN          8.95748       12.65034        1.33093\\nH          9.35699       12.31014        2.21821\\nN         10.52494       14.24417        2.85275\\nN         12.10005       13.08069        4.69271\\nH         11.32970       12.58230        4.22609\\nN         13.21639       10.63465        3.76301\\nH         12.30841       10.45435        3.31406\\nN         12.74233       10.22131        1.21250\\nN         10.17322       10.17878        0.65044\\nH         10.60905       10.13116        1.58191\\nC          8.99762       13.94140        1.01101\\nC          9.77753       14.83272        1.90536\\nC         11.28382       15.03854        3.59156\\nC         12.18607       14.39726        4.57959\\nC         13.07493       12.32374        5.46334\\nH         14.01350       12.77111        5.32194\\nH         12.83217       12.43091        6.47965\\nC         13.20683       10.97825        5.20175\\nH         12.41354       10.46625        5.66307\\nH         14.09952       10.63635        5.63479\\nC         14.30597       10.53769        3.00475\\nC         14.03835       10.27574        1.55717\\nC         12.43648       10.04100       -0.07247\\nC         10.95121       10.06992       -0.39945\\nC          8.73574       10.35909        0.58151\\nH          8.35725        9.77735       -0.20680\\nH          8.30755       10.00528        1.47233\\nC          8.32667       11.73350        0.38355\\nH          7.28297       11.79814        0.48606\\nH          8.57326       12.02607       -0.59388\\nC          9.77179       16.19862        1.71448\\nH          9.17921       16.60176        1.01631\\nC         10.56890       16.99639        2.47450\\nH         10.58802       17.98637        2.33133\\nC         11.33926       16.41635        3.43425\\nH         11.93566       16.97258        4.01399\\nC         15.05529       10.14476        0.64160\\nH         16.01106       10.19069        0.92794\\nC         14.72650        9.94745       -0.66811\\nH         15.44524        9.83348       -1.35390\\nC         13.40372        9.90833       -1.04459\\nH         13.14757        9.78585       -2.00258\\n\",\"xyz\");\n",
       "\tviewer_1490706413629087.setStyle({\"stick\": {\"color\": \"spectrum\", \"radius\": 0.15}});\n",
       "\tviewer_1490706413629087.setBackgroundColor(\"0xeeeeee\");\n",
       "\tviewer_1490706413629087.zoomTo();\n",
       "viewer_1490706413629087.render();\n",
       "});\n",
       "</script>"
      ],
      "text/plain": [
       "<IPython.core.display.HTML object>"
      ]
     },
     "execution_count": 125,
     "metadata": {},
     "output_type": "execute_result"
    }
   ],
   "source": [
    "cm1 = open('/home/gosia/work/work_on_gitlab/icho/calcs/m1/m1_crystal.xyz','r').read()\n",
    "vcm1 = py3Dmol.view(width=400,height=400)\n",
    "vcm1.addModel(cm1,'xyz')\n",
    "vcm1.setStyle({'stick':{'radius':0.15,'color':'spectrum'}})\n",
    "vcm1.setBackgroundColor('0xeeeeee')\n",
    "vcm1.zoomTo()\n",
    "vcm1.show()"
   ]
  },
  {
   "cell_type": "markdown",
   "metadata": {},
   "source": [
    "We can also read it in in smiles and sdf formats (both will be used below):"
   ]
  },
  {
   "cell_type": "code",
   "execution_count": 5,
   "metadata": {
    "collapsed": true
   },
   "outputs": [],
   "source": [
    "# decide what is the \"core\" - a part of molecule, which we wish to be most aligned (rmsd-wise) among all the structures\n",
    "# here: pyridine ring\n",
    "m1 = Chem.AddHs(Chem.MolFromSmiles('O=C1NCCNC(=O)c2nc(C(=O)NCCNC(=O)c3nc1ccc3)ccc2'))\n",
    "core_m1 = m1.GetSubstructMatch(Chem.MolFromSmiles('n1ccccc1'))"
   ]
  },
  {
   "cell_type": "code",
   "execution_count": 6,
   "metadata": {
    "collapsed": true
   },
   "outputs": [],
   "source": [
    "templ_m1 = Chem.SDMolSupplier('/home/gosia/work/work_on_gitlab/icho/calcs/m1/balloon/m1_crystal.sdf')\n",
    "m1_crystal = templ_m1[0]"
   ]
  },
  {
   "cell_type": "markdown",
   "metadata": {
    "deletable": true,
    "editable": true
   },
   "source": [
    "### Conformers generated with the Balloon software:"
   ]
  },
  {
   "cell_type": "markdown",
   "metadata": {},
   "source": [
    "Description: [notes](link-to)"
   ]
  },
  {
   "cell_type": "code",
   "execution_count": 7,
   "metadata": {
    "collapsed": false,
    "deletable": true,
    "editable": true
   },
   "outputs": [],
   "source": [
    "inps_m1_balloon = glob.glob('/home/gosia/work/work_on_gitlab/icho/calcs/m1/balloon/results_crystal/*.sdf')"
   ]
  },
  {
   "cell_type": "code",
   "execution_count": 8,
   "metadata": {
    "collapsed": false,
    "deletable": true,
    "editable": true
   },
   "outputs": [],
   "source": [
    "e_m1_balloon = grep_energies_from_sdf_outputs(inps_m1_balloon)"
   ]
  },
  {
   "cell_type": "markdown",
   "metadata": {
    "deletable": true,
    "editable": true
   },
   "source": [
    "Conformers:"
   ]
  },
  {
   "cell_type": "code",
   "execution_count": 127,
   "metadata": {
    "collapsed": false,
    "deletable": true,
    "editable": true
   },
   "outputs": [
    {
     "data": {
      "text/html": [
       "<table>\n",
       "  <tr>\n",
       "    <td id=\"m1_b1\" ></td>\n",
       "    <td id=\"m1_b2\" ></td>\n",
       "    <td id=\"m1_b3\" ></td>   \n",
       "  </tr>\n",
       "  <tr>\n",
       "    <td> m1_b1, E = </td>\n",
       "    <td> m1_b2, E = </td>\n",
       "    <td> m1_b3, E = </td>   \n",
       "  </tr>\n",
       "  <tr>\n",
       "    <td id=\"m1_b4\" ></td>    \n",
       "    <td id=\"m1_b5\" ></td>\n",
       "    <td id=\"m1_b6\" ></td>   \n",
       "  </tr>\n",
       "  <tr>\n",
       "    <td> m1_b4, E = </td>\n",
       "    <td> m1_b5, E = </td>\n",
       "    <td> m1_b6, E = </td>   \n",
       "  </tr>\n",
       "</table>"
      ],
      "text/plain": [
       "<IPython.core.display.HTML object>"
      ]
     },
     "metadata": {},
     "output_type": "display_data"
    }
   ],
   "source": [
    "%%html\n",
    "<table>\n",
    "  <tr>\n",
    "    <td id=\"m1_b1\" ></td>\n",
    "    <td id=\"m1_b2\" ></td>\n",
    "    <td id=\"m1_b3\" ></td>   \n",
    "  </tr>\n",
    "  <tr>\n",
    "    <td> m1_b1, E = </td>\n",
    "    <td> m1_b2, E = </td>\n",
    "    <td> m1_b3, E = </td>   \n",
    "  </tr>\n",
    "  <tr>\n",
    "    <td id=\"m1_b4\" ></td>    \n",
    "    <td id=\"m1_b5\" ></td>\n",
    "    <td id=\"m1_b6\" ></td>   \n",
    "  </tr>\n",
    "  <tr>\n",
    "    <td> m1_b4, E = </td>\n",
    "    <td> m1_b5, E = </td>\n",
    "    <td> m1_b6, E = </td>   \n",
    "  </tr>\n",
    "</table>"
   ]
  },
  {
   "cell_type": "code",
   "execution_count": 128,
   "metadata": {
    "collapsed": true,
    "deletable": true,
    "editable": true
   },
   "outputs": [],
   "source": [
    "p1_b_handles=[]\n",
    "for inp in inps_m1_balloon:\n",
    "    f1_b = open(inp, 'r').read()\n",
    "    p1_b = py3Dmol.view(width=200,height=200)\n",
    "    p1_b.addModel(f1_b,'sdf')\n",
    "    p1_b.setStyle({'stick':{}})\n",
    "    p1_b.setBackgroundColor('0xeeeeee')\n",
    "    p1_b.zoomTo()\n",
    "    p1_b_handles.append(p1_b)"
   ]
  },
  {
   "cell_type": "code",
   "execution_count": 129,
   "metadata": {
    "collapsed": false,
    "deletable": true,
    "editable": true
   },
   "outputs": [
    {
     "data": {
      "text/html": [
       "<div id=\"3dmolviewer_14907064347319047\"  style=\"position: relative; width: 200px; height: 200px\">\n",
       "<script>\n",
       "if(typeof $3Dmolpromise === 'undefined') $3Dmolpromise = $.when($.getScript('http://3dmol.csb.pitt.edu/build/3Dmol.js'))\n",
       "var viewer_14907064347319047 = null;\n",
       "$3Dmolpromise.done(function() {\n",
       "viewer_14907064347319047 = $3Dmol.createViewer($(\"#3dmolviewer_14907064347319047\"),{backgroundColor:\"white\"});\n",
       "\tviewer_14907064347319047.addModel(\"m1_crystal.xyz\\n  1228              3D\\n\\n 46 48  0  0  0  0  0  0  0  0999 V2000\\n   10.2977   13.6978   -1.6005 O   0  0  0  0  0  0  0  0  0  0  0  0\\n   15.6873   13.6073    2.8283 O   0  0  0  0  0  0  0  0  0  0  0  0\\n   13.5550    8.3683    5.1527 O   0  0  0  0  0  0  0  0  0  0  0  0\\n    9.1101    7.7832   -0.2158 O   0  0  0  0  0  0  0  0  0  0  0  0\\n   10.1517   12.7485    0.5133 N   0  0  0  0  0  0  0  0  0  0  0  0\\n   10.6415   12.5844    1.3882 H   0  0  0  0  0  0  0  0  0  0  0  0\\n   12.6896   13.4709    0.9704 N   0  0  0  0  0  0  0  0  0  0  0  0\\n   13.6879   12.4997    3.2194 N   0  0  0  0  0  0  0  0  0  0  0  0\\n   12.7960   12.2424    2.8039 H   0  0  0  0  0  0  0  0  0  0  0  0\\n   12.2941   10.1383    4.3467 N   0  0  0  0  0  0  0  0  0  0  0  0\\n   11.6218   10.4194    3.6388 H   0  0  0  0  0  0  0  0  0  0  0  0\\n   11.2312    8.5358    2.5056 N   0  0  0  0  0  0  0  0  0  0  0  0\\n    9.7158    9.8089    0.7422 N   0  0  0  0  0  0  0  0  0  0  0  0\\n   10.3682   10.2442    1.3874 H   0  0  0  0  0  0  0  0  0  0  0  0\\n   10.7775   13.4682   -0.4937 C   0  0  0  0  0  0  0  0  0  0  0  0\\n   12.1328   13.9703   -0.1566 C   0  0  0  0  0  0  0  0  0  0  0  0\\n   13.9393   13.8982    1.2755 C   0  0  0  0  0  0  0  0  0  0  0  0\\n   14.5362   13.3308    2.5093 C   0  0  0  0  0  0  0  0  0  0  0  0\\n   14.1040   11.7969    4.4206 C   0  0  0  0  0  0  0  0  0  0  0  0\\n   14.8274   11.0311    4.1198 H   0  0  0  0  0  0  0  0  0  0  0  0\\n   14.6215   12.5107    5.0708 H   0  0  0  0  0  0  0  0  0  0  0  0\\n   12.9112   11.1864    5.1425 C   0  0  0  0  0  0  0  0  0  0  0  0\\n   12.1430   11.9413    5.3400 H   0  0  0  0  0  0  0  0  0  0  0  0\\n   13.2310   10.7622    6.1003 H   0  0  0  0  0  0  0  0  0  0  0  0\\n   12.7048    8.8171    4.3917 C   0  0  0  0  0  0  0  0  0  0  0  0\\n   12.0261    7.9272    3.4177 C   0  0  0  0  0  0  0  0  0  0  0  0\\n   10.6030    7.7384    1.6075 C   0  0  0  0  0  0  0  0  0  0  0  0\\n    9.7348    8.4283    0.6200 C   0  0  0  0  0  0  0  0  0  0  0  0\\n    9.0366   10.6704   -0.2098 C   0  0  0  0  0  0  0  0  0  0  0  0\\n    9.6217   10.6619   -1.1361 H   0  0  0  0  0  0  0  0  0  0  0  0\\n    8.0572   10.2293   -0.4312 H   0  0  0  0  0  0  0  0  0  0  0  0\\n    8.8691   12.0868    0.3301 C   0  0  0  0  0  0  0  0  0  0  0  0\\n    8.3658   12.0796    1.3025 H   0  0  0  0  0  0  0  0  0  0  0  0\\n    8.2691   12.6796   -0.3688 H   0  0  0  0  0  0  0  0  0  0  0  0\\n   12.7669   14.8822   -0.9905 C   0  0  0  0  0  0  0  0  0  0  0  0\\n   12.2993   15.2671   -1.8898 H   0  0  0  0  0  0  0  0  0  0  0  0\\n   14.0455   15.3055   -0.6395 C   0  0  0  0  0  0  0  0  0  0  0  0\\n   14.5713   16.0233   -1.2625 H   0  0  0  0  0  0  0  0  0  0  0  0\\n   14.6542   14.8097    0.5086 C   0  0  0  0  0  0  0  0  0  0  0  0\\n   15.6509   15.1416    0.7780 H   0  0  0  0  0  0  0  0  0  0  0  0\\n   12.2255    6.5545    3.4685 C   0  0  0  0  0  0  0  0  0  0  0  0\\n   12.8683    6.0895    4.2081 H   0  0  0  0  0  0  0  0  0  0  0  0\\n   11.5631    5.7663    2.5310 C   0  0  0  0  0  0  0  0  0  0  0  0\\n   11.6880    4.6878    2.5454 H   0  0  0  0  0  0  0  0  0  0  0  0\\n   10.7353    6.3563    1.5807 C   0  0  0  0  0  0  0  0  0  0  0  0\\n   10.2182    5.7387    0.8542 H   0  0  0  0  0  0  0  0  0  0  0  0\\n  1 15  2  0  0  0  0\\n  4 28  2  0  0  0  0\\n  5  6  1  0  0  0  0\\n  7 17  2  0  0  0  0\\n  8 19  1  0  0  0  0\\n  9  8  1  0  0  0  0\\n 10 22  1  0  0  0  0\\n 11 10  1  0  0  0  0\\n 12 26  1  0  0  0  0\\n 13 14  1  0  0  0  0\\n 15  5  1  0  0  0  0\\n 15 16  1  0  0  0  0\\n 16  7  1  0  0  0  0\\n 17 18  1  0  0  0  0\\n 18  8  1  0  0  0  0\\n 18  2  2  0  0  0  0\\n 19 21  1  0  0  0  0\\n 20 19  1  0  0  0  0\\n 22 19  1  0  0  0  0\\n 22 24  1  0  0  0  0\\n 22 23  1  0  0  0  0\\n 25  3  2  0  0  0  0\\n 25 10  1  0  0  0  0\\n 26 25  1  0  0  0  0\\n 27 12  2  0  0  0  0\\n 28 27  1  0  0  0  0\\n 28 13  1  0  0  0  0\\n 29 13  1  0  0  0  0\\n 29 31  1  0  0  0  0\\n 30 29  1  0  0  0  0\\n 32 33  1  0  0  0  0\\n 32 29  1  0  0  0  0\\n 32  5  1  0  0  0  0\\n 34 32  1  0  0  0  0\\n 35 16  2  0  0  0  0\\n 35 37  1  0  0  0  0\\n 36 35  1  0  0  0  0\\n 37 39  2  0  0  0  0\\n 38 37  1  0  0  0  0\\n 39 17  1  0  0  0  0\\n 39 40  1  0  0  0  0\\n 41 42  1  0  0  0  0\\n 41 26  2  0  0  0  0\\n 43 41  1  0  0  0  0\\n 44 43  1  0  0  0  0\\n 45 43  2  0  0  0  0\\n 45 27  1  0  0  0  0\\n 46 45  1  0  0  0  0\\nM  END\\n53.24562081155721\\n\\n\",\"sdf\");\n",
       "\tviewer_14907064347319047.setStyle({\"stick\": {}});\n",
       "\tviewer_14907064347319047.setBackgroundColor(\"0xeeeeee\");\n",
       "\tviewer_14907064347319047.zoomTo();\n",
       "viewer_14907064347319047.render();\n",
       "});\n",
       "</script><script>$(\"#m1_b1\").append($(\"#3dmolviewer_14907064347319047\")); </script>"
      ],
      "text/plain": [
       "<IPython.core.display.HTML object>"
      ]
     },
     "execution_count": 129,
     "metadata": {},
     "output_type": "execute_result"
    }
   ],
   "source": [
    "p1_b_handles[0].insert('m1_b1')"
   ]
  },
  {
   "cell_type": "code",
   "execution_count": 130,
   "metadata": {
    "collapsed": false,
    "deletable": true,
    "editable": true
   },
   "outputs": [
    {
     "data": {
      "text/html": [
       "<div id=\"3dmolviewer_14907064366931522\"  style=\"position: relative; width: 200px; height: 200px\">\n",
       "<script>\n",
       "if(typeof $3Dmolpromise === 'undefined') $3Dmolpromise = $.when($.getScript('http://3dmol.csb.pitt.edu/build/3Dmol.js'))\n",
       "var viewer_14907064366931522 = null;\n",
       "$3Dmolpromise.done(function() {\n",
       "viewer_14907064366931522 = $3Dmol.createViewer($(\"#3dmolviewer_14907064366931522\"),{backgroundColor:\"white\"});\n",
       "\tviewer_14907064366931522.addModel(\"m1_crystal.xyz\\n  1228              3D\\n\\n 46 48  0  0  0  0  0  0  0  0999 V2000\\n   14.2015    8.1372    4.4696 O   0  0  0  0  0  0  0  0  0  0  0  0\\n    8.6424    8.2487    0.2593 O   0  0  0  0  0  0  0  0  0  0  0  0\\n   10.8554   13.2300   -2.0993 O   0  0  0  0  0  0  0  0  0  0  0  0\\n   15.0652   13.8922    3.4263 O   0  0  0  0  0  0  0  0  0  0  0  0\\n   12.8466    9.9949    4.1566 N   0  0  0  0  0  0  0  0  0  0  0  0\\n   12.0015   10.3337    3.7056 H   0  0  0  0  0  0  0  0  0  0  0  0\\n   11.2635    8.5981    2.5816 N   0  0  0  0  0  0  0  0  0  0  0  0\\n    9.3224   10.0640    1.5386 N   0  0  0  0  0  0  0  0  0  0  0  0\\n   10.0120   10.3893    2.2109 H   0  0  0  0  0  0  0  0  0  0  0  0\\n   10.3936   12.3752    0.0098 N   0  0  0  0  0  0  0  0  0  0  0  0\\n   10.7712   12.2401    0.9439 H   0  0  0  0  0  0  0  0  0  0  0  0\\n   12.6302   13.4062    0.9340 N   0  0  0  0  0  0  0  0  0  0  0  0\\n   12.9764   12.8791    3.4985 N   0  0  0  0  0  0  0  0  0  0  0  0\\n   12.1506   12.6462    2.9538 H   0  0  0  0  0  0  0  0  0  0  0  0\\n   13.2048    8.6678    3.9925 C   0  0  0  0  0  0  0  0  0  0  0  0\\n   12.2677    7.8892    3.1451 C   0  0  0  0  0  0  0  0  0  0  0  0\\n   10.4163    7.9265    1.7700 C   0  0  0  0  0  0  0  0  0  0  0  0\\n    9.3669    8.7449    1.1157 C   0  0  0  0  0  0  0  0  0  0  0  0\\n    8.5029   11.0678    0.8814 C   0  0  0  0  0  0  0  0  0  0  0  0\\n    7.5506   10.6082    0.5938 H   0  0  0  0  0  0  0  0  0  0  0  0\\n    8.3020   11.8560    1.6144 H   0  0  0  0  0  0  0  0  0  0  0  0\\n    9.2007   11.6320   -0.3510 C   0  0  0  0  0  0  0  0  0  0  0  0\\n    8.5342   12.3128   -0.8905 H   0  0  0  0  0  0  0  0  0  0  0  0\\n    9.5023   10.8377   -1.0437 H   0  0  0  0  0  0  0  0  0  0  0  0\\n   11.1401   13.0872   -0.9152 C   0  0  0  0  0  0  0  0  0  0  0  0\\n   12.3710   13.6967   -0.3606 C   0  0  0  0  0  0  0  0  0  0  0  0\\n   13.7461   13.9426    1.4761 C   0  0  0  0  0  0  0  0  0  0  0  0\\n   14.0069   13.5800    2.8917 C   0  0  0  0  0  0  0  0  0  0  0  0\\n   13.0512   12.3456    4.8484 C   0  0  0  0  0  0  0  0  0  0  0  0\\n   13.6412   13.0300    5.4674 H   0  0  0  0  0  0  0  0  0  0  0  0\\n   12.0266   12.3216    5.2337 H   0  0  0  0  0  0  0  0  0  0  0  0\\n   13.6676   10.9534    4.8741 C   0  0  0  0  0  0  0  0  0  0  0  0\\n   13.7660   10.5960    5.9058 H   0  0  0  0  0  0  0  0  0  0  0  0\\n   14.6660   10.9490    4.4210 H   0  0  0  0  0  0  0  0  0  0  0  0\\n   12.4577    6.5300    2.9411 C   0  0  0  0  0  0  0  0  0  0  0  0\\n   13.2736    5.9823    3.3996 H   0  0  0  0  0  0  0  0  0  0  0  0\\n   11.5602    5.8670    2.1082 C   0  0  0  0  0  0  0  0  0  0  0  0\\n   11.6804    4.8038    1.9196 H   0  0  0  0  0  0  0  0  0  0  0  0\\n   10.5191    6.5675    1.5041 C   0  0  0  0  0  0  0  0  0  0  0  0\\n    9.8307    6.0515    0.8435 H   0  0  0  0  0  0  0  0  0  0  0  0\\n   13.1791   14.5060   -1.1450 C   0  0  0  0  0  0  0  0  0  0  0  0\\n   12.9502   14.7219   -2.1823 H   0  0  0  0  0  0  0  0  0  0  0  0\\n   14.3153   15.0512   -0.5540 C   0  0  0  0  0  0  0  0  0  0  0  0\\n   14.9694   15.6944   -1.1364 H   0  0  0  0  0  0  0  0  0  0  0  0\\n   14.6156   14.7712    0.7786 C   0  0  0  0  0  0  0  0  0  0  0  0\\n   15.5027   15.1983    1.2347 H   0  0  0  0  0  0  0  0  0  0  0  0\\n  1 15  2  0  0  0  0\\n  4 28  2  0  0  0  0\\n  5  6  1  0  0  0  0\\n  7 17  2  0  0  0  0\\n  8 19  1  0  0  0  0\\n  9  8  1  0  0  0  0\\n 10 22  1  0  0  0  0\\n 11 10  1  0  0  0  0\\n 12 26  1  0  0  0  0\\n 13 14  1  0  0  0  0\\n 15  5  1  0  0  0  0\\n 15 16  1  0  0  0  0\\n 16  7  1  0  0  0  0\\n 17 18  1  0  0  0  0\\n 18  8  1  0  0  0  0\\n 18  2  2  0  0  0  0\\n 19 21  1  0  0  0  0\\n 20 19  1  0  0  0  0\\n 22 19  1  0  0  0  0\\n 22 24  1  0  0  0  0\\n 22 23  1  0  0  0  0\\n 25  3  2  0  0  0  0\\n 25 10  1  0  0  0  0\\n 26 25  1  0  0  0  0\\n 27 12  2  0  0  0  0\\n 28 27  1  0  0  0  0\\n 28 13  1  0  0  0  0\\n 29 13  1  0  0  0  0\\n 29 31  1  0  0  0  0\\n 30 29  1  0  0  0  0\\n 32 33  1  0  0  0  0\\n 32 29  1  0  0  0  0\\n 32  5  1  0  0  0  0\\n 34 32  1  0  0  0  0\\n 35 16  2  0  0  0  0\\n 35 37  1  0  0  0  0\\n 36 35  1  0  0  0  0\\n 37 39  2  0  0  0  0\\n 38 37  1  0  0  0  0\\n 39 17  1  0  0  0  0\\n 39 40  1  0  0  0  0\\n 41 42  1  0  0  0  0\\n 41 26  2  0  0  0  0\\n 43 41  1  0  0  0  0\\n 44 43  1  0  0  0  0\\n 45 43  2  0  0  0  0\\n 45 27  1  0  0  0  0\\n 46 45  1  0  0  0  0\\nM  END\\n53.583766420260538\\n\\n\",\"sdf\");\n",
       "\tviewer_14907064366931522.setStyle({\"stick\": {}});\n",
       "\tviewer_14907064366931522.setBackgroundColor(\"0xeeeeee\");\n",
       "\tviewer_14907064366931522.zoomTo();\n",
       "viewer_14907064366931522.render();\n",
       "});\n",
       "</script><script>$(\"#m1_b2\").append($(\"#3dmolviewer_14907064366931522\")); </script>"
      ],
      "text/plain": [
       "<IPython.core.display.HTML object>"
      ]
     },
     "execution_count": 130,
     "metadata": {},
     "output_type": "execute_result"
    }
   ],
   "source": [
    "p1_b_handles[1].insert('m1_b2')"
   ]
  },
  {
   "cell_type": "code",
   "execution_count": 131,
   "metadata": {
    "collapsed": false,
    "deletable": true,
    "editable": true
   },
   "outputs": [
    {
     "data": {
      "text/html": [
       "<div id=\"3dmolviewer_1490706437972218\"  style=\"position: relative; width: 200px; height: 200px\">\n",
       "<script>\n",
       "if(typeof $3Dmolpromise === 'undefined') $3Dmolpromise = $.when($.getScript('http://3dmol.csb.pitt.edu/build/3Dmol.js'))\n",
       "var viewer_1490706437972218 = null;\n",
       "$3Dmolpromise.done(function() {\n",
       "viewer_1490706437972218 = $3Dmol.createViewer($(\"#3dmolviewer_1490706437972218\"),{backgroundColor:\"white\"});\n",
       "\tviewer_1490706437972218.addModel(\"m1_crystal.xyz\\n  1228              3D\\n\\n 46 48  0  0  0  0  0  0  0  0999 V2000\\n   10.0102   13.0616   -1.2836 O   0  0  0  0  0  0  0  0  0  0  0  0\\n   15.4094   12.0885    2.9541 O   0  0  0  0  0  0  0  0  0  0  0  0\\n   13.6037    9.0308    5.0370 O   0  0  0  0  0  0  0  0  0  0  0  0\\n    9.9304    9.1105   -0.8428 O   0  0  0  0  0  0  0  0  0  0  0  0\\n    9.8479   12.6680    0.9973 N   0  0  0  0  0  0  0  0  0  0  0  0\\n   10.3906   12.4850    1.8372 H   0  0  0  0  0  0  0  0  0  0  0  0\\n   12.4752   12.8217    1.2298 N   0  0  0  0  0  0  0  0  0  0  0  0\\n   13.3602   12.8514    3.7528 N   0  0  0  0  0  0  0  0  0  0  0  0\\n   12.4879   13.2975    3.4866 H   0  0  0  0  0  0  0  0  0  0  0  0\\n   11.9192   10.5499    4.5452 N   0  0  0  0  0  0  0  0  0  0  0  0\\n   11.2323   10.8160    3.8442 H   0  0  0  0  0  0  0  0  0  0  0  0\\n   11.3094    9.1861    2.3618 N   0  0  0  0  0  0  0  0  0  0  0  0\\n    9.0603    9.9640    1.1387 N   0  0  0  0  0  0  0  0  0  0  0  0\\n    9.1565    9.9623    2.1493 H   0  0  0  0  0  0  0  0  0  0  0  0\\n   10.5297   12.9215   -0.1815 C   0  0  0  0  0  0  0  0  0  0  0  0\\n   12.0072   12.9806   -0.0290 C   0  0  0  0  0  0  0  0  0  0  0  0\\n   13.8202   12.8190    1.3918 C   0  0  0  0  0  0  0  0  0  0  0  0\\n   14.2908   12.5560    2.7689 C   0  0  0  0  0  0  0  0  0  0  0  0\\n   13.4797   12.3838    5.1257 C   0  0  0  0  0  0  0  0  0  0  0  0\\n   14.3933   11.7891    5.2254 H   0  0  0  0  0  0  0  0  0  0  0  0\\n   13.5738   13.2648    5.7704 H   0  0  0  0  0  0  0  0  0  0  0  0\\n   12.2619   11.5541    5.5385 C   0  0  0  0  0  0  0  0  0  0  0  0\\n   11.3839   12.1994    5.6509 H   0  0  0  0  0  0  0  0  0  0  0  0\\n   12.4541   11.0548    6.4937 H   0  0  0  0  0  0  0  0  0  0  0  0\\n   12.6962    9.4267    4.3137 C   0  0  0  0  0  0  0  0  0  0  0  0\\n   12.3885    8.7300    3.0415 C   0  0  0  0  0  0  0  0  0  0  0  0\\n   11.0705    8.6314    1.1517 C   0  0  0  0  0  0  0  0  0  0  0  0\\n    9.9648    9.2401    0.3771 C   0  0  0  0  0  0  0  0  0  0  0  0\\n    8.1379   10.9265    0.5556 C   0  0  0  0  0  0  0  0  0  0  0  0\\n    7.1211   10.6344    0.8383 H   0  0  0  0  0  0  0  0  0  0  0  0\\n    8.2075   10.8862   -0.5364 H   0  0  0  0  0  0  0  0  0  0  0  0\\n    8.4319   12.3433    1.0486 C   0  0  0  0  0  0  0  0  0  0  0  0\\n    8.1201   12.4517    2.0912 H   0  0  0  0  0  0  0  0  0  0  0  0\\n    7.8830   13.0720    0.4450 H   0  0  0  0  0  0  0  0  0  0  0  0\\n   12.8286   13.1498   -1.1359 C   0  0  0  0  0  0  0  0  0  0  0  0\\n   12.4337   13.2690   -2.1388 H   0  0  0  0  0  0  0  0  0  0  0  0\\n   14.2076   13.1510   -0.9304 C   0  0  0  0  0  0  0  0  0  0  0  0\\n   14.8805   13.2830   -1.7744 H   0  0  0  0  0  0  0  0  0  0  0  0\\n   14.7229   12.9744    0.3519 C   0  0  0  0  0  0  0  0  0  0  0  0\\n   15.7956   12.9605    0.5083 H   0  0  0  0  0  0  0  0  0  0  0  0\\n   13.2255    7.7260    2.5757 C   0  0  0  0  0  0  0  0  0  0  0  0\\n   14.0920    7.3909    3.1354 H   0  0  0  0  0  0  0  0  0  0  0  0\\n   12.9442    7.1744    1.3293 C   0  0  0  0  0  0  0  0  0  0  0  0\\n   13.5827    6.3980    0.9193 H   0  0  0  0  0  0  0  0  0  0  0  0\\n   11.8523    7.6311    0.5929 C   0  0  0  0  0  0  0  0  0  0  0  0\\n   11.6506    7.2145   -0.3881 H   0  0  0  0  0  0  0  0  0  0  0  0\\n  1 15  2  0  0  0  0\\n  4 28  2  0  0  0  0\\n  5  6  1  0  0  0  0\\n  7 17  2  0  0  0  0\\n  8 19  1  0  0  0  0\\n  9  8  1  0  0  0  0\\n 10 22  1  0  0  0  0\\n 11 10  1  0  0  0  0\\n 12 26  1  0  0  0  0\\n 13 14  1  0  0  0  0\\n 15  5  1  0  0  0  0\\n 15 16  1  0  0  0  0\\n 16  7  1  0  0  0  0\\n 17 18  1  0  0  0  0\\n 18  8  1  0  0  0  0\\n 18  2  2  0  0  0  0\\n 19 21  1  0  0  0  0\\n 20 19  1  0  0  0  0\\n 22 19  1  0  0  0  0\\n 22 24  1  0  0  0  0\\n 22 23  1  0  0  0  0\\n 25  3  2  0  0  0  0\\n 25 10  1  0  0  0  0\\n 26 25  1  0  0  0  0\\n 27 12  2  0  0  0  0\\n 28 27  1  0  0  0  0\\n 28 13  1  0  0  0  0\\n 29 13  1  0  0  0  0\\n 29 31  1  0  0  0  0\\n 30 29  1  0  0  0  0\\n 32 33  1  0  0  0  0\\n 32 29  1  0  0  0  0\\n 32  5  1  0  0  0  0\\n 34 32  1  0  0  0  0\\n 35 16  2  0  0  0  0\\n 35 37  1  0  0  0  0\\n 36 35  1  0  0  0  0\\n 37 39  2  0  0  0  0\\n 38 37  1  0  0  0  0\\n 39 17  1  0  0  0  0\\n 39 40  1  0  0  0  0\\n 41 42  1  0  0  0  0\\n 41 26  2  0  0  0  0\\n 43 41  1  0  0  0  0\\n 44 43  1  0  0  0  0\\n 45 43  2  0  0  0  0\\n 45 27  1  0  0  0  0\\n 46 45  1  0  0  0  0\\nM  END\\n57.760058296727799\\n\\n\",\"sdf\");\n",
       "\tviewer_1490706437972218.setStyle({\"stick\": {}});\n",
       "\tviewer_1490706437972218.setBackgroundColor(\"0xeeeeee\");\n",
       "\tviewer_1490706437972218.zoomTo();\n",
       "viewer_1490706437972218.render();\n",
       "});\n",
       "</script><script>$(\"#m1_b3\").append($(\"#3dmolviewer_1490706437972218\")); </script>"
      ],
      "text/plain": [
       "<IPython.core.display.HTML object>"
      ]
     },
     "execution_count": 131,
     "metadata": {},
     "output_type": "execute_result"
    }
   ],
   "source": [
    "p1_b_handles[2].insert('m1_b3')"
   ]
  },
  {
   "cell_type": "code",
   "execution_count": 132,
   "metadata": {
    "collapsed": false,
    "deletable": true,
    "editable": true
   },
   "outputs": [
    {
     "data": {
      "text/html": [
       "<div id=\"3dmolviewer_14907064391117463\"  style=\"position: relative; width: 200px; height: 200px\">\n",
       "<script>\n",
       "if(typeof $3Dmolpromise === 'undefined') $3Dmolpromise = $.when($.getScript('http://3dmol.csb.pitt.edu/build/3Dmol.js'))\n",
       "var viewer_14907064391117463 = null;\n",
       "$3Dmolpromise.done(function() {\n",
       "viewer_14907064391117463 = $3Dmol.createViewer($(\"#3dmolviewer_14907064391117463\"),{backgroundColor:\"white\"});\n",
       "\tviewer_14907064391117463.addModel(\"m1_crystal.xyz\\n  1228              3D\\n\\n 46 48  0  0  0  0  0  0  0  0999 V2000\\n   14.2533    9.3048    4.4040 O   0  0  0  0  0  0  0  0  0  0  0  0\\n    9.1026    8.9934   -0.3062 O   0  0  0  0  0  0  0  0  0  0  0  0\\n   10.4788   12.1630   -1.6393 O   0  0  0  0  0  0  0  0  0  0  0  0\\n   15.1746   12.5493    3.4069 O   0  0  0  0  0  0  0  0  0  0  0  0\\n   12.1842   10.3414    4.6065 N   0  0  0  0  0  0  0  0  0  0  0  0\\n   11.2930   10.4846    4.1402 H   0  0  0  0  0  0  0  0  0  0  0  0\\n   11.4027    9.2907    2.3426 N   0  0  0  0  0  0  0  0  0  0  0  0\\n    9.0700   10.2300    1.6627 N   0  0  0  0  0  0  0  0  0  0  0  0\\n    9.6155   10.4552    2.4895 H   0  0  0  0  0  0  0  0  0  0  0  0\\n    9.7932   12.6533    0.5231 N   0  0  0  0  0  0  0  0  0  0  0  0\\n   10.0878   12.9794    1.4389 H   0  0  0  0  0  0  0  0  0  0  0  0\\n   12.4082   12.7304    1.2383 N   0  0  0  0  0  0  0  0  0  0  0  0\\n   12.9237   12.8565    3.8769 N   0  0  0  0  0  0  0  0  0  0  0  0\\n   11.9986   12.9850    3.4778 H   0  0  0  0  0  0  0  0  0  0  0  0\\n   13.1166    9.5166    3.9982 C   0  0  0  0  0  0  0  0  0  0  0  0\\n   12.6306    8.8910    2.7419 C   0  0  0  0  0  0  0  0  0  0  0  0\\n   10.9231    8.7836    1.1831 C   0  0  0  0  0  0  0  0  0  0  0  0\\n    9.6025    9.3208    0.7633 C   0  0  0  0  0  0  0  0  0  0  0  0\\n    7.9931   11.1514    1.3485 C   0  0  0  0  0  0  0  0  0  0  0  0\\n    7.1395   10.5867    0.9593 H   0  0  0  0  0  0  0  0  0  0  0  0\\n    7.6928   11.6101    2.2970 H   0  0  0  0  0  0  0  0  0  0  0  0\\n    8.4077   12.2363    0.3555 C   0  0  0  0  0  0  0  0  0  0  0  0\\n    7.7751   13.1218    0.4756 H   0  0  0  0  0  0  0  0  0  0  0  0\\n    8.2626   11.8671   -0.6644 H   0  0  0  0  0  0  0  0  0  0  0  0\\n   10.7321   12.4962   -0.4848 C   0  0  0  0  0  0  0  0  0  0  0  0\\n   12.1410   12.7250   -0.0896 C   0  0  0  0  0  0  0  0  0  0  0  0\\n   13.7155   12.8212    1.5887 C   0  0  0  0  0  0  0  0  0  0  0  0\\n   14.0190   12.7359    3.0362 C   0  0  0  0  0  0  0  0  0  0  0  0\\n   13.0146   12.5961    5.3033 C   0  0  0  0  0  0  0  0  0  0  0  0\\n   14.0595   12.6887    5.6217 H   0  0  0  0  0  0  0  0  0  0  0  0\\n   12.4542   13.3863    5.8162 H   0  0  0  0  0  0  0  0  0  0  0  0\\n   12.4780   11.2224    5.7205 C   0  0  0  0  0  0  0  0  0  0  0  0\\n   11.5407   11.3436    6.2742 H   0  0  0  0  0  0  0  0  0  0  0  0\\n   13.1923   10.7304    6.3902 H   0  0  0  0  0  0  0  0  0  0  0  0\\n   13.4087    7.9921    2.0294 C   0  0  0  0  0  0  0  0  0  0  0  0\\n   14.3948    7.6878    2.3614 H   0  0  0  0  0  0  0  0  0  0  0  0\\n   12.8813    7.4787    0.8441 C   0  0  0  0  0  0  0  0  0  0  0  0\\n   13.4608    6.7714    0.2569 H   0  0  0  0  0  0  0  0  0  0  0  0\\n   11.6195    7.8760    0.4019 C   0  0  0  0  0  0  0  0  0  0  0  0\\n   11.2206    7.4842   -0.5268 H   0  0  0  0  0  0  0  0  0  0  0  0\\n   13.1139   12.8305   -1.0775 C   0  0  0  0  0  0  0  0  0  0  0  0\\n   12.8714   12.8168   -2.1350 H   0  0  0  0  0  0  0  0  0  0  0  0\\n   14.4402   12.9399   -0.6772 C   0  0  0  0  0  0  0  0  0  0  0  0\\n   15.2272   13.0167   -1.4211 H   0  0  0  0  0  0  0  0  0  0  0  0\\n   14.7580   12.9257    0.6756 C   0  0  0  0  0  0  0  0  0  0  0  0\\n   15.7954   12.9888    0.9841 H   0  0  0  0  0  0  0  0  0  0  0  0\\n  1 15  2  0  0  0  0\\n  4 28  2  0  0  0  0\\n  5  6  1  0  0  0  0\\n  7 17  2  0  0  0  0\\n  8 19  1  0  0  0  0\\n  9  8  1  0  0  0  0\\n 10 22  1  0  0  0  0\\n 11 10  1  0  0  0  0\\n 12 26  1  0  0  0  0\\n 13 14  1  0  0  0  0\\n 15  5  1  0  0  0  0\\n 15 16  1  0  0  0  0\\n 16  7  1  0  0  0  0\\n 17 18  1  0  0  0  0\\n 18  8  1  0  0  0  0\\n 18  2  2  0  0  0  0\\n 19 21  1  0  0  0  0\\n 20 19  1  0  0  0  0\\n 22 19  1  0  0  0  0\\n 22 24  1  0  0  0  0\\n 22 23  1  0  0  0  0\\n 25  3  2  0  0  0  0\\n 25 10  1  0  0  0  0\\n 26 25  1  0  0  0  0\\n 27 12  2  0  0  0  0\\n 28 27  1  0  0  0  0\\n 28 13  1  0  0  0  0\\n 29 13  1  0  0  0  0\\n 29 31  1  0  0  0  0\\n 30 29  1  0  0  0  0\\n 32 33  1  0  0  0  0\\n 32 29  1  0  0  0  0\\n 32  5  1  0  0  0  0\\n 34 32  1  0  0  0  0\\n 35 16  2  0  0  0  0\\n 35 37  1  0  0  0  0\\n 36 35  1  0  0  0  0\\n 37 39  2  0  0  0  0\\n 38 37  1  0  0  0  0\\n 39 17  1  0  0  0  0\\n 39 40  1  0  0  0  0\\n 41 42  1  0  0  0  0\\n 41 26  2  0  0  0  0\\n 43 41  1  0  0  0  0\\n 44 43  1  0  0  0  0\\n 45 43  2  0  0  0  0\\n 45 27  1  0  0  0  0\\n 46 45  1  0  0  0  0\\nM  END\\n62.424467712098782\\n\\n\",\"sdf\");\n",
       "\tviewer_14907064391117463.setStyle({\"stick\": {}});\n",
       "\tviewer_14907064391117463.setBackgroundColor(\"0xeeeeee\");\n",
       "\tviewer_14907064391117463.zoomTo();\n",
       "viewer_14907064391117463.render();\n",
       "});\n",
       "</script><script>$(\"#m1_b4\").append($(\"#3dmolviewer_14907064391117463\")); </script>"
      ],
      "text/plain": [
       "<IPython.core.display.HTML object>"
      ]
     },
     "execution_count": 132,
     "metadata": {},
     "output_type": "execute_result"
    }
   ],
   "source": [
    "p1_b_handles[3].insert('m1_b4')"
   ]
  },
  {
   "cell_type": "code",
   "execution_count": 133,
   "metadata": {
    "collapsed": false,
    "deletable": true,
    "editable": true
   },
   "outputs": [
    {
     "data": {
      "text/html": [
       "<div id=\"3dmolviewer_1490706441563077\"  style=\"position: relative; width: 200px; height: 200px\">\n",
       "<script>\n",
       "if(typeof $3Dmolpromise === 'undefined') $3Dmolpromise = $.when($.getScript('http://3dmol.csb.pitt.edu/build/3Dmol.js'))\n",
       "var viewer_1490706441563077 = null;\n",
       "$3Dmolpromise.done(function() {\n",
       "viewer_1490706441563077 = $3Dmol.createViewer($(\"#3dmolviewer_1490706441563077\"),{backgroundColor:\"white\"});\n",
       "\tviewer_1490706441563077.addModel(\"m1_crystal.xyz\\n  1228              3D\\n\\n 46 48  0  0  0  0  0  0  0  0999 V2000\\n   14.5610    8.8769    3.7473 O   0  0  0  0  0  0  0  0  0  0  0  0\\n    8.5237    8.4457    0.3409 O   0  0  0  0  0  0  0  0  0  0  0  0\\n   11.0002   12.3959   -1.9659 O   0  0  0  0  0  0  0  0  0  0  0  0\\n   14.8796   13.7478    3.6557 O   0  0  0  0  0  0  0  0  0  0  0  0\\n   12.7057   10.1399    4.3471 N   0  0  0  0  0  0  0  0  0  0  0  0\\n   11.6913   10.1747    4.2943 H   0  0  0  0  0  0  0  0  0  0  0  0\\n   11.3172    8.9224    2.4367 N   0  0  0  0  0  0  0  0  0  0  0  0\\n    9.1574   10.2279    1.6887 N   0  0  0  0  0  0  0  0  0  0  0  0\\n    9.8941   10.5706    2.2987 H   0  0  0  0  0  0  0  0  0  0  0  0\\n   10.1363   12.4764    0.1880 N   0  0  0  0  0  0  0  0  0  0  0  0\\n   10.2944   12.8409    1.1235 H   0  0  0  0  0  0  0  0  0  0  0  0\\n   12.5295   13.1372    1.1035 N   0  0  0  0  0  0  0  0  0  0  0  0\\n   12.7048   12.9423    3.7276 N   0  0  0  0  0  0  0  0  0  0  0  0\\n   11.9287   12.6387    3.1464 H   0  0  0  0  0  0  0  0  0  0  0  0\\n   13.3646    9.1294    3.6719 C   0  0  0  0  0  0  0  0  0  0  0  0\\n   12.4817    8.3276    2.7912 C   0  0  0  0  0  0  0  0  0  0  0  0\\n   10.5052    8.2355    1.5994 C   0  0  0  0  0  0  0  0  0  0  0  0\\n    9.2881    8.9582    1.1514 C   0  0  0  0  0  0  0  0  0  0  0  0\\n    8.2502   11.2283    1.1511 C   0  0  0  0  0  0  0  0  0  0  0  0\\n    7.2912   10.7542    0.9181 H   0  0  0  0  0  0  0  0  0  0  0  0\\n    8.0918   11.9677    1.9426 H   0  0  0  0  0  0  0  0  0  0  0  0\\n    8.8369   11.8871   -0.0933 C   0  0  0  0  0  0  0  0  0  0  0  0\\n    8.1861   12.6926   -0.4463 H   0  0  0  0  0  0  0  0  0  0  0  0\\n    8.9499   11.1581   -0.9050 H   0  0  0  0  0  0  0  0  0  0  0  0\\n   11.1180   12.6512   -0.7725 C   0  0  0  0  0  0  0  0  0  0  0  0\\n   12.4001   13.1758   -0.2422 C   0  0  0  0  0  0  0  0  0  0  0  0\\n   13.7035   13.5657    1.6247 C   0  0  0  0  0  0  0  0  0  0  0  0\\n   13.8306   13.4466    3.0985 C   0  0  0  0  0  0  0  0  0  0  0  0\\n   12.7087   12.4694    5.1036 C   0  0  0  0  0  0  0  0  0  0  0  0\\n   13.2338   13.1963    5.7307 H   0  0  0  0  0  0  0  0  0  0  0  0\\n   11.6604   12.4178    5.4232 H   0  0  0  0  0  0  0  0  0  0  0  0\\n   13.3670   11.0971    5.2147 C   0  0  0  0  0  0  0  0  0  0  0  0\\n   13.2849   10.7215    6.2397 H   0  0  0  0  0  0  0  0  0  0  0  0\\n   14.4288   11.1478    4.9525 H   0  0  0  0  0  0  0  0  0  0  0  0\\n   12.8719    7.0744    2.3484 C   0  0  0  0  0  0  0  0  0  0  0  0\\n   13.8173    6.6268    2.6396 H   0  0  0  0  0  0  0  0  0  0  0  0\\n   12.0019    6.3879    1.5078 C   0  0  0  0  0  0  0  0  0  0  0  0\\n   12.2691    5.4013    1.1447 H   0  0  0  0  0  0  0  0  0  0  0  0\\n   10.7958    6.9684    1.1169 C   0  0  0  0  0  0  0  0  0  0  0  0\\n   10.1308    6.4361    0.4458 H   0  0  0  0  0  0  0  0  0  0  0  0\\n   13.3989   13.6260   -1.0964 C   0  0  0  0  0  0  0  0  0  0  0  0\\n   13.2747   13.6382   -2.1744 H   0  0  0  0  0  0  0  0  0  0  0  0\\n   14.5897   14.0704   -0.5253 C   0  0  0  0  0  0  0  0  0  0  0  0\\n   15.3959   14.4298   -1.1575 H   0  0  0  0  0  0  0  0  0  0  0  0\\n   14.7581   14.0410    0.8567 C   0  0  0  0  0  0  0  0  0  0  0  0\\n   15.6926   14.3705    1.2984 H   0  0  0  0  0  0  0  0  0  0  0  0\\n  1 15  2  0  0  0  0\\n  4 28  2  0  0  0  0\\n  5  6  1  0  0  0  0\\n  7 17  2  0  0  0  0\\n  8 19  1  0  0  0  0\\n  9  8  1  0  0  0  0\\n 10 22  1  0  0  0  0\\n 11 10  1  0  0  0  0\\n 12 26  1  0  0  0  0\\n 13 14  1  0  0  0  0\\n 15  5  1  0  0  0  0\\n 15 16  1  0  0  0  0\\n 16  7  1  0  0  0  0\\n 17 18  1  0  0  0  0\\n 18  8  1  0  0  0  0\\n 18  2  2  0  0  0  0\\n 19 21  1  0  0  0  0\\n 20 19  1  0  0  0  0\\n 22 19  1  0  0  0  0\\n 22 24  1  0  0  0  0\\n 22 23  1  0  0  0  0\\n 25  3  2  0  0  0  0\\n 25 10  1  0  0  0  0\\n 26 25  1  0  0  0  0\\n 27 12  2  0  0  0  0\\n 28 27  1  0  0  0  0\\n 28 13  1  0  0  0  0\\n 29 13  1  0  0  0  0\\n 29 31  1  0  0  0  0\\n 30 29  1  0  0  0  0\\n 32 33  1  0  0  0  0\\n 32 29  1  0  0  0  0\\n 32  5  1  0  0  0  0\\n 34 32  1  0  0  0  0\\n 35 16  2  0  0  0  0\\n 35 37  1  0  0  0  0\\n 36 35  1  0  0  0  0\\n 37 39  2  0  0  0  0\\n 38 37  1  0  0  0  0\\n 39 17  1  0  0  0  0\\n 39 40  1  0  0  0  0\\n 41 42  1  0  0  0  0\\n 41 26  2  0  0  0  0\\n 43 41  1  0  0  0  0\\n 44 43  1  0  0  0  0\\n 45 43  2  0  0  0  0\\n 45 27  1  0  0  0  0\\n 46 45  1  0  0  0  0\\nM  END\\n55.441272951677462\\n\\n\",\"sdf\");\n",
       "\tviewer_1490706441563077.setStyle({\"stick\": {}});\n",
       "\tviewer_1490706441563077.setBackgroundColor(\"0xeeeeee\");\n",
       "\tviewer_1490706441563077.zoomTo();\n",
       "viewer_1490706441563077.render();\n",
       "});\n",
       "</script><script>$(\"#m1_b5\").append($(\"#3dmolviewer_1490706441563077\")); </script>"
      ],
      "text/plain": [
       "<IPython.core.display.HTML object>"
      ]
     },
     "execution_count": 133,
     "metadata": {},
     "output_type": "execute_result"
    }
   ],
   "source": [
    "p1_b_handles[4].insert('m1_b5')"
   ]
  },
  {
   "cell_type": "code",
   "execution_count": 134,
   "metadata": {
    "collapsed": false,
    "deletable": true,
    "editable": true
   },
   "outputs": [
    {
     "data": {
      "text/html": [
       "<div id=\"3dmolviewer_14907064429993248\"  style=\"position: relative; width: 200px; height: 200px\">\n",
       "<script>\n",
       "if(typeof $3Dmolpromise === 'undefined') $3Dmolpromise = $.when($.getScript('http://3dmol.csb.pitt.edu/build/3Dmol.js'))\n",
       "var viewer_14907064429993248 = null;\n",
       "$3Dmolpromise.done(function() {\n",
       "viewer_14907064429993248 = $3Dmol.createViewer($(\"#3dmolviewer_14907064429993248\"),{backgroundColor:\"white\"});\n",
       "\tviewer_14907064429993248.addModel(\"m1_crystal.xyz\\n  1228              3D\\n\\n 46 48  0  0  0  0  0  0  0  0999 V2000\\n   10.2518   13.9230   -1.5614 O   0  0  0  0  0  0  0  0  0  0  0  0\\n   15.1653   14.1186    3.3325 O   0  0  0  0  0  0  0  0  0  0  0  0\\n   13.6848    8.1247    5.0385 O   0  0  0  0  0  0  0  0  0  0  0  0\\n    8.8404    7.8481    0.0597 O   0  0  0  0  0  0  0  0  0  0  0  0\\n   11.1203   11.9791   -0.6367 N   0  0  0  0  0  0  0  0  0  0  0  0\\n   11.8387   11.5962   -0.0290 H   0  0  0  0  0  0  0  0  0  0  0  0\\n   12.8361   13.4699    0.7800 N   0  0  0  0  0  0  0  0  0  0  0  0\\n   14.3020   12.1081    2.5567 N   0  0  0  0  0  0  0  0  0  0  0  0\\n   13.6998   11.6759    1.8618 H   0  0  0  0  0  0  0  0  0  0  0  0\\n   12.7341   10.0377    4.1290 N   0  0  0  0  0  0  0  0  0  0  0  0\\n   12.0363   10.3895    3.4801 H   0  0  0  0  0  0  0  0  0  0  0  0\\n   11.1290    8.5018    2.6518 N   0  0  0  0  0  0  0  0  0  0  0  0\\n    9.6222    9.8580    0.9201 N   0  0  0  0  0  0  0  0  0  0  0  0\\n   10.2234   10.2831    1.6203 H   0  0  0  0  0  0  0  0  0  0  0  0\\n   11.0788   13.3453   -0.8626 C   0  0  0  0  0  0  0  0  0  0  0  0\\n   12.1413   14.1222   -0.1817 C   0  0  0  0  0  0  0  0  0  0  0  0\\n   13.7770   14.1859    1.4405 C   0  0  0  0  0  0  0  0  0  0  0  0\\n   14.4865   13.4808    2.5336 C   0  0  0  0  0  0  0  0  0  0  0  0\\n   14.7997   11.2675    3.6339 C   0  0  0  0  0  0  0  0  0  0  0  0\\n   15.6361   11.7768    4.1240 H   0  0  0  0  0  0  0  0  0  0  0  0\\n   15.1734   10.3429    3.1810 H   0  0  0  0  0  0  0  0  0  0  0  0\\n   13.7043   10.9836    4.6551 C   0  0  0  0  0  0  0  0  0  0  0  0\\n   13.1606   11.8955    4.9246 H   0  0  0  0  0  0  0  0  0  0  0  0\\n   14.1462   10.5632    5.5645 H   0  0  0  0  0  0  0  0  0  0  0  0\\n   12.8480    8.6701    4.3263 C   0  0  0  0  0  0  0  0  0  0  0  0\\n   11.8639    7.8498    3.5825 C   0  0  0  0  0  0  0  0  0  0  0  0\\n   10.2581    7.7576    1.9311 C   0  0  0  0  0  0  0  0  0  0  0  0\\n    9.5004    8.4777    0.8808 C   0  0  0  0  0  0  0  0  0  0  0  0\\n    9.0704   10.7265   -0.1076 C   0  0  0  0  0  0  0  0  0  0  0  0\\n    8.2240   10.2187   -0.5806 H   0  0  0  0  0  0  0  0  0  0  0  0\\n    8.7005   11.6281    0.3909 H   0  0  0  0  0  0  0  0  0  0  0  0\\n   10.1194   11.0635   -1.1609 C   0  0  0  0  0  0  0  0  0  0  0  0\\n    9.6350   11.5263   -2.0267 H   0  0  0  0  0  0  0  0  0  0  0  0\\n   10.6476   10.1659   -1.4995 H   0  0  0  0  0  0  0  0  0  0  0  0\\n   12.3570   15.4514   -0.5239 C   0  0  0  0  0  0  0  0  0  0  0  0\\n   11.7877   15.9499   -1.3008 H   0  0  0  0  0  0  0  0  0  0  0  0\\n   13.3440   16.1485    0.1657 C   0  0  0  0  0  0  0  0  0  0  0  0\\n   13.5448   17.1876   -0.0764 H   0  0  0  0  0  0  0  0  0  0  0  0\\n   14.0668   15.5178    1.1724 C   0  0  0  0  0  0  0  0  0  0  0  0\\n   14.8271   16.0669    1.7172 H   0  0  0  0  0  0  0  0  0  0  0  0\\n   11.7594    6.4874    3.8334 C   0  0  0  0  0  0  0  0  0  0  0  0\\n   12.3603    5.9878    4.5851 H   0  0  0  0  0  0  0  0  0  0  0  0\\n   10.8453    5.7567    3.0807 C   0  0  0  0  0  0  0  0  0  0  0  0\\n   10.7346    4.6886    3.2489 H   0  0  0  0  0  0  0  0  0  0  0  0\\n   10.0800    6.3909    2.1069 C   0  0  0  0  0  0  0  0  0  0  0  0\\n    9.3742    5.8165    1.5165 H   0  0  0  0  0  0  0  0  0  0  0  0\\n  1 15  2  0  0  0  0\\n  4 28  2  0  0  0  0\\n  5  6  1  0  0  0  0\\n  7 17  2  0  0  0  0\\n  8 19  1  0  0  0  0\\n  9  8  1  0  0  0  0\\n 10 22  1  0  0  0  0\\n 11 10  1  0  0  0  0\\n 12 26  1  0  0  0  0\\n 13 14  1  0  0  0  0\\n 15  5  1  0  0  0  0\\n 15 16  1  0  0  0  0\\n 16  7  1  0  0  0  0\\n 17 18  1  0  0  0  0\\n 18  8  1  0  0  0  0\\n 18  2  2  0  0  0  0\\n 19 21  1  0  0  0  0\\n 20 19  1  0  0  0  0\\n 22 19  1  0  0  0  0\\n 22 24  1  0  0  0  0\\n 22 23  1  0  0  0  0\\n 25  3  2  0  0  0  0\\n 25 10  1  0  0  0  0\\n 26 25  1  0  0  0  0\\n 27 12  2  0  0  0  0\\n 28 27  1  0  0  0  0\\n 28 13  1  0  0  0  0\\n 29 13  1  0  0  0  0\\n 29 31  1  0  0  0  0\\n 30 29  1  0  0  0  0\\n 32 33  1  0  0  0  0\\n 32 29  1  0  0  0  0\\n 32  5  1  0  0  0  0\\n 34 32  1  0  0  0  0\\n 35 16  2  0  0  0  0\\n 35 37  1  0  0  0  0\\n 36 35  1  0  0  0  0\\n 37 39  2  0  0  0  0\\n 38 37  1  0  0  0  0\\n 39 17  1  0  0  0  0\\n 39 40  1  0  0  0  0\\n 41 42  1  0  0  0  0\\n 41 26  2  0  0  0  0\\n 43 41  1  0  0  0  0\\n 44 43  1  0  0  0  0\\n 45 43  2  0  0  0  0\\n 45 27  1  0  0  0  0\\n 46 45  1  0  0  0  0\\nM  END\\n53.651385407754013\\n\\n\",\"sdf\");\n",
       "\tviewer_14907064429993248.setStyle({\"stick\": {}});\n",
       "\tviewer_14907064429993248.setBackgroundColor(\"0xeeeeee\");\n",
       "\tviewer_14907064429993248.zoomTo();\n",
       "viewer_14907064429993248.render();\n",
       "});\n",
       "</script><script>$(\"#m1_b6\").append($(\"#3dmolviewer_14907064429993248\")); </script>"
      ],
      "text/plain": [
       "<IPython.core.display.HTML object>"
      ]
     },
     "execution_count": 134,
     "metadata": {},
     "output_type": "execute_result"
    }
   ],
   "source": [
    "p1_b_handles[5].insert('m1_b6')"
   ]
  },
  {
   "cell_type": "markdown",
   "metadata": {
    "deletable": true,
    "editable": true
   },
   "source": [
    "We can now try to align all these structures (together with the crystal structure):"
   ]
  },
  {
   "cell_type": "code",
   "execution_count": 17,
   "metadata": {
    "collapsed": false
   },
   "outputs": [],
   "source": [
    "# write conformers as a list\n",
    "allmol_m1_balloon = []\n",
    "suppl_m1_balloon = Chem.SDMolSupplier('/home/gosia/work/work_on_gitlab/icho/calcs/m1/balloon/m1_crystal_out.sdf')\n",
    "\n",
    "# add crystal structure to the list:\n",
    "allmol_m1_balloon.append(m1_crystal)\n",
    "for mol in suppl_m1_balloon:\n",
    "    allmol_m1_balloon.append(mol)"
   ]
  },
  {
   "cell_type": "code",
   "execution_count": 18,
   "metadata": {
    "collapsed": false
   },
   "outputs": [],
   "source": [
    "# align:\n",
    "for mol in allmol_m1_balloon:\n",
    "    AllChem.AlignMolConformers(mol,atomIds=core_m1)"
   ]
  },
  {
   "cell_type": "code",
   "execution_count": 135,
   "metadata": {
    "collapsed": false
   },
   "outputs": [
    {
     "data": {
      "text/html": [
       "<div id=\"3dmolviewer_14907064464948795\"  style=\"position: relative; width: 400px; height: 400px\">\n",
       "<script>\n",
       "if(typeof $3Dmolpromise === 'undefined') $3Dmolpromise = $.when($.getScript('http://3dmol.csb.pitt.edu/build/3Dmol.js'))\n",
       "var viewer_14907064464948795 = null;\n",
       "$3Dmolpromise.done(function() {\n",
       "viewer_14907064464948795 = $3Dmol.createViewer($(\"#3dmolviewer_14907064464948795\"),{backgroundColor:\"white\"});\n",
       "\tviewer_14907064464948795.removeAllModels();\n",
       "\tviewer_14907064464948795.addModel(\"m1_crystal.xyz\\n     RDKit          3D\\n\\n 28 30  0  0  0  0  0  0  0  0999 V2000\\n    8.4739   14.4024   -0.0124 O   0  0  0  0  0  0  0  0  0  0  0  0\\n   13.0099   15.0385    5.2300 O   0  0  0  0  0  0  0  0  0  0  0  0\\n   15.4452   10.6398    3.4502 O   0  0  0  0  0  0  0  0  0  0  0  0\\n   10.5727   10.0257   -1.5731 O   0  0  0  0  0  0  0  0  0  0  0  0\\n    8.9575   12.6503    1.3309 N   0  0  0  0  0  0  0  0  0  0  0  0\\n   10.5249   14.2442    2.8527 N   0  0  0  0  0  0  0  0  0  0  0  0\\n   12.1000   13.0807    4.6927 N   0  0  0  0  0  0  0  0  0  0  0  0\\n   13.2164   10.6347    3.7630 N   0  0  0  0  0  0  0  0  0  0  0  0\\n   12.7423   10.2213    1.2125 N   0  0  0  0  0  0  0  0  0  0  0  0\\n   10.1732   10.1788    0.6504 N   0  0  0  0  0  0  0  0  0  0  0  0\\n    8.9976   13.9414    1.0110 C   0  0  0  0  0  0  0  0  0  0  0  0\\n    9.7775   14.8327    1.9054 C   0  0  0  0  0  0  0  0  0  0  0  0\\n   11.2838   15.0385    3.5916 C   0  0  0  0  0  0  0  0  0  0  0  0\\n   12.1861   14.3973    4.5796 C   0  0  0  0  0  0  0  0  0  0  0  0\\n   13.0749   12.3237    5.4633 C   0  0  0  0  0  0  0  0  0  0  0  0\\n   13.2068   10.9782    5.2017 C   0  0  0  0  0  0  0  0  0  0  0  0\\n   14.3060   10.5377    3.0048 C   0  0  0  0  0  0  0  0  0  0  0  0\\n   14.0383   10.2757    1.5572 C   0  0  0  0  0  0  0  0  0  0  0  0\\n   12.4365   10.0410   -0.0725 C   0  0  0  0  0  0  0  0  0  0  0  0\\n   10.9512   10.0699   -0.3995 C   0  0  0  0  0  0  0  0  0  0  0  0\\n    8.7357   10.3591    0.5815 C   0  0  0  0  0  0  0  0  0  0  0  0\\n    8.3267   11.7335    0.3836 C   0  0  0  0  0  0  0  0  0  0  0  0\\n    9.7718   16.1986    1.7145 C   0  0  0  0  0  0  0  0  0  0  0  0\\n   10.5689   16.9964    2.4745 C   0  0  0  0  0  0  0  0  0  0  0  0\\n   11.3393   16.4164    3.4343 C   0  0  0  0  0  0  0  0  0  0  0  0\\n   15.0553   10.1448    0.6416 C   0  0  0  0  0  0  0  0  0  0  0  0\\n   14.7265    9.9474   -0.6681 C   0  0  0  0  0  0  0  0  0  0  0  0\\n   13.4037    9.9083   -1.0446 C   0  0  0  0  0  0  0  0  0  0  0  0\\n  1 11  2  0\\n  4 20  2  0\\n  6 13  2  0\\n  7 15  1  0\\n  8 16  1  0\\n  9 18  1  0\\n 11  5  1  0\\n 11 12  1  0\\n 12  6  1  0\\n 13 14  1  0\\n 14  7  1  0\\n 14  2  2  0\\n 16 15  1  0\\n 17  3  2  0\\n 17  8  1  0\\n 18 17  1  0\\n 19  9  2  0\\n 20 19  1  0\\n 20 10  1  0\\n 21 10  1  0\\n 22 21  1  0\\n 22  5  1  0\\n 23 12  2  0\\n 23 24  1  0\\n 24 25  2  0\\n 25 13  1  0\\n 26 18  2  0\\n 27 26  1  0\\n 28 27  2  0\\n 28 19  1  0\\nM  END\\n\",\"sdf\");\n",
       "\tviewer_14907064464948795.addModel(\"m1_crystal.xyz\\n     RDKit          3D\\n\\n 28 30  0  0  0  0  0  0  0  0999 V2000\\n   10.2977   13.6978   -1.6005 O   0  0  0  0  0  0  0  0  0  0  0  0\\n   15.6873   13.6073    2.8283 O   0  0  0  0  0  0  0  0  0  0  0  0\\n   13.5550    8.3683    5.1527 O   0  0  0  0  0  0  0  0  0  0  0  0\\n    9.1101    7.7832   -0.2158 O   0  0  0  0  0  0  0  0  0  0  0  0\\n   10.1517   12.7485    0.5133 N   0  0  0  0  0  0  0  0  0  0  0  0\\n   12.6896   13.4709    0.9704 N   0  0  0  0  0  0  0  0  0  0  0  0\\n   13.6879   12.4997    3.2194 N   0  0  0  0  0  0  0  0  0  0  0  0\\n   12.2941   10.1383    4.3467 N   0  0  0  0  0  0  0  0  0  0  0  0\\n   11.2312    8.5358    2.5056 N   0  0  0  0  0  0  0  0  0  0  0  0\\n    9.7158    9.8089    0.7422 N   0  0  0  0  0  0  0  0  0  0  0  0\\n   10.7775   13.4682   -0.4937 C   0  0  0  0  0  0  0  0  0  0  0  0\\n   12.1328   13.9703   -0.1566 C   0  0  0  0  0  0  0  0  0  0  0  0\\n   13.9393   13.8982    1.2755 C   0  0  0  0  0  0  0  0  0  0  0  0\\n   14.5362   13.3308    2.5093 C   0  0  0  0  0  0  0  0  0  0  0  0\\n   14.1040   11.7969    4.4206 C   0  0  0  0  0  0  0  0  0  0  0  0\\n   12.9112   11.1864    5.1425 C   0  0  0  0  0  0  0  0  0  0  0  0\\n   12.7048    8.8171    4.3917 C   0  0  0  0  0  0  0  0  0  0  0  0\\n   12.0261    7.9272    3.4177 C   0  0  0  0  0  0  0  0  0  0  0  0\\n   10.6030    7.7384    1.6075 C   0  0  0  0  0  0  0  0  0  0  0  0\\n    9.7348    8.4283    0.6200 C   0  0  0  0  0  0  0  0  0  0  0  0\\n    9.0366   10.6704   -0.2098 C   0  0  0  0  0  0  0  0  0  0  0  0\\n    8.8691   12.0868    0.3301 C   0  0  0  0  0  0  0  0  0  0  0  0\\n   12.7669   14.8822   -0.9905 C   0  0  0  0  0  0  0  0  0  0  0  0\\n   14.0455   15.3055   -0.6395 C   0  0  0  0  0  0  0  0  0  0  0  0\\n   14.6542   14.8097    0.5086 C   0  0  0  0  0  0  0  0  0  0  0  0\\n   12.2255    6.5545    3.4685 C   0  0  0  0  0  0  0  0  0  0  0  0\\n   11.5631    5.7663    2.5310 C   0  0  0  0  0  0  0  0  0  0  0  0\\n   10.7353    6.3563    1.5807 C   0  0  0  0  0  0  0  0  0  0  0  0\\n  1 11  2  0\\n  4 20  2  0\\n  6 13  2  0\\n  7 15  1  0\\n  8 16  1  0\\n  9 18  1  0\\n 11  5  1  0\\n 11 12  1  0\\n 12  6  1  0\\n 13 14  1  0\\n 14  7  1  0\\n 14  2  2  0\\n 16 15  1  0\\n 17  3  2  0\\n 17  8  1  0\\n 18 17  1  0\\n 19  9  2  0\\n 20 19  1  0\\n 20 10  1  0\\n 21 10  1  0\\n 22 21  1  0\\n 22  5  1  0\\n 23 12  2  0\\n 23 24  1  0\\n 24 25  2  0\\n 25 13  1  0\\n 26 18  2  0\\n 27 26  1  0\\n 28 27  2  0\\n 28 19  1  0\\nM  END\\n\",\"sdf\");\n",
       "\tviewer_14907064464948795.addModel(\"m1_crystal.xyz\\n     RDKit          3D\\n\\n 28 30  0  0  0  0  0  0  0  0999 V2000\\n   14.2015    8.1372    4.4696 O   0  0  0  0  0  0  0  0  0  0  0  0\\n    8.6424    8.2487    0.2593 O   0  0  0  0  0  0  0  0  0  0  0  0\\n   10.8554   13.2300   -2.0993 O   0  0  0  0  0  0  0  0  0  0  0  0\\n   15.0652   13.8922    3.4263 O   0  0  0  0  0  0  0  0  0  0  0  0\\n   12.8466    9.9949    4.1566 N   0  0  0  0  0  0  0  0  0  0  0  0\\n   11.2635    8.5981    2.5816 N   0  0  0  0  0  0  0  0  0  0  0  0\\n    9.3224   10.0640    1.5386 N   0  0  0  0  0  0  0  0  0  0  0  0\\n   10.3936   12.3752    0.0098 N   0  0  0  0  0  0  0  0  0  0  0  0\\n   12.6302   13.4062    0.9340 N   0  0  0  0  0  0  0  0  0  0  0  0\\n   12.9764   12.8791    3.4985 N   0  0  0  0  0  0  0  0  0  0  0  0\\n   13.2048    8.6678    3.9925 C   0  0  0  0  0  0  0  0  0  0  0  0\\n   12.2677    7.8892    3.1451 C   0  0  0  0  0  0  0  0  0  0  0  0\\n   10.4163    7.9265    1.7700 C   0  0  0  0  0  0  0  0  0  0  0  0\\n    9.3669    8.7449    1.1157 C   0  0  0  0  0  0  0  0  0  0  0  0\\n    8.5029   11.0678    0.8814 C   0  0  0  0  0  0  0  0  0  0  0  0\\n    9.2007   11.6320   -0.3510 C   0  0  0  0  0  0  0  0  0  0  0  0\\n   11.1401   13.0872   -0.9152 C   0  0  0  0  0  0  0  0  0  0  0  0\\n   12.3710   13.6967   -0.3606 C   0  0  0  0  0  0  0  0  0  0  0  0\\n   13.7461   13.9426    1.4761 C   0  0  0  0  0  0  0  0  0  0  0  0\\n   14.0069   13.5800    2.8917 C   0  0  0  0  0  0  0  0  0  0  0  0\\n   13.0512   12.3456    4.8484 C   0  0  0  0  0  0  0  0  0  0  0  0\\n   13.6676   10.9534    4.8741 C   0  0  0  0  0  0  0  0  0  0  0  0\\n   12.4577    6.5300    2.9411 C   0  0  0  0  0  0  0  0  0  0  0  0\\n   11.5602    5.8670    2.1082 C   0  0  0  0  0  0  0  0  0  0  0  0\\n   10.5191    6.5675    1.5041 C   0  0  0  0  0  0  0  0  0  0  0  0\\n   13.1791   14.5060   -1.1450 C   0  0  0  0  0  0  0  0  0  0  0  0\\n   14.3153   15.0512   -0.5540 C   0  0  0  0  0  0  0  0  0  0  0  0\\n   14.6156   14.7712    0.7786 C   0  0  0  0  0  0  0  0  0  0  0  0\\n  1 11  2  0\\n  4 20  2  0\\n  6 13  2  0\\n  7 15  1  0\\n  8 16  1  0\\n  9 18  1  0\\n 11  5  1  0\\n 11 12  1  0\\n 12  6  1  0\\n 13 14  1  0\\n 14  7  1  0\\n 14  2  2  0\\n 16 15  1  0\\n 17  3  2  0\\n 17  8  1  0\\n 18 17  1  0\\n 19  9  2  0\\n 20 19  1  0\\n 20 10  1  0\\n 21 10  1  0\\n 22 21  1  0\\n 22  5  1  0\\n 23 12  2  0\\n 23 24  1  0\\n 24 25  2  0\\n 25 13  1  0\\n 26 18  2  0\\n 27 26  1  0\\n 28 27  2  0\\n 28 19  1  0\\nM  END\\n\",\"sdf\");\n",
       "\tviewer_14907064464948795.addModel(\"m1_crystal.xyz\\n     RDKit          3D\\n\\n 28 30  0  0  0  0  0  0  0  0999 V2000\\n   10.2518   13.9230   -1.5614 O   0  0  0  0  0  0  0  0  0  0  0  0\\n   15.1653   14.1186    3.3325 O   0  0  0  0  0  0  0  0  0  0  0  0\\n   13.6848    8.1247    5.0385 O   0  0  0  0  0  0  0  0  0  0  0  0\\n    8.8404    7.8481    0.0597 O   0  0  0  0  0  0  0  0  0  0  0  0\\n   11.1203   11.9791   -0.6367 N   0  0  0  0  0  0  0  0  0  0  0  0\\n   12.8361   13.4699    0.7800 N   0  0  0  0  0  0  0  0  0  0  0  0\\n   14.3020   12.1081    2.5567 N   0  0  0  0  0  0  0  0  0  0  0  0\\n   12.7341   10.0377    4.1290 N   0  0  0  0  0  0  0  0  0  0  0  0\\n   11.1290    8.5018    2.6518 N   0  0  0  0  0  0  0  0  0  0  0  0\\n    9.6222    9.8580    0.9201 N   0  0  0  0  0  0  0  0  0  0  0  0\\n   11.0788   13.3453   -0.8626 C   0  0  0  0  0  0  0  0  0  0  0  0\\n   12.1413   14.1222   -0.1817 C   0  0  0  0  0  0  0  0  0  0  0  0\\n   13.7770   14.1859    1.4405 C   0  0  0  0  0  0  0  0  0  0  0  0\\n   14.4865   13.4808    2.5336 C   0  0  0  0  0  0  0  0  0  0  0  0\\n   14.7997   11.2675    3.6339 C   0  0  0  0  0  0  0  0  0  0  0  0\\n   13.7043   10.9836    4.6551 C   0  0  0  0  0  0  0  0  0  0  0  0\\n   12.8480    8.6701    4.3263 C   0  0  0  0  0  0  0  0  0  0  0  0\\n   11.8639    7.8498    3.5825 C   0  0  0  0  0  0  0  0  0  0  0  0\\n   10.2581    7.7576    1.9311 C   0  0  0  0  0  0  0  0  0  0  0  0\\n    9.5004    8.4777    0.8808 C   0  0  0  0  0  0  0  0  0  0  0  0\\n    9.0704   10.7265   -0.1076 C   0  0  0  0  0  0  0  0  0  0  0  0\\n   10.1194   11.0635   -1.1609 C   0  0  0  0  0  0  0  0  0  0  0  0\\n   12.3570   15.4514   -0.5239 C   0  0  0  0  0  0  0  0  0  0  0  0\\n   13.3440   16.1485    0.1657 C   0  0  0  0  0  0  0  0  0  0  0  0\\n   14.0668   15.5178    1.1724 C   0  0  0  0  0  0  0  0  0  0  0  0\\n   11.7594    6.4874    3.8334 C   0  0  0  0  0  0  0  0  0  0  0  0\\n   10.8453    5.7567    3.0807 C   0  0  0  0  0  0  0  0  0  0  0  0\\n   10.0800    6.3909    2.1069 C   0  0  0  0  0  0  0  0  0  0  0  0\\n  1 11  2  0\\n  4 20  2  0\\n  6 13  2  0\\n  7 15  1  0\\n  8 16  1  0\\n  9 18  1  0\\n 11  5  1  0\\n 11 12  1  0\\n 12  6  1  0\\n 13 14  1  0\\n 14  7  1  0\\n 14  2  2  0\\n 16 15  1  0\\n 17  3  2  0\\n 17  8  1  0\\n 18 17  1  0\\n 19  9  2  0\\n 20 19  1  0\\n 20 10  1  0\\n 21 10  1  0\\n 22 21  1  0\\n 22  5  1  0\\n 23 12  2  0\\n 23 24  1  0\\n 24 25  2  0\\n 25 13  1  0\\n 26 18  2  0\\n 27 26  1  0\\n 28 27  2  0\\n 28 19  1  0\\nM  END\\n\",\"sdf\");\n",
       "\tviewer_14907064464948795.addModel(\"m1_crystal.xyz\\n     RDKit          3D\\n\\n 28 30  0  0  0  0  0  0  0  0999 V2000\\n   14.5610    8.8769    3.7473 O   0  0  0  0  0  0  0  0  0  0  0  0\\n    8.5237    8.4457    0.3409 O   0  0  0  0  0  0  0  0  0  0  0  0\\n   11.0002   12.3959   -1.9659 O   0  0  0  0  0  0  0  0  0  0  0  0\\n   14.8796   13.7478    3.6557 O   0  0  0  0  0  0  0  0  0  0  0  0\\n   12.7057   10.1399    4.3471 N   0  0  0  0  0  0  0  0  0  0  0  0\\n   11.3172    8.9224    2.4367 N   0  0  0  0  0  0  0  0  0  0  0  0\\n    9.1574   10.2279    1.6887 N   0  0  0  0  0  0  0  0  0  0  0  0\\n   10.1363   12.4764    0.1880 N   0  0  0  0  0  0  0  0  0  0  0  0\\n   12.5295   13.1372    1.1035 N   0  0  0  0  0  0  0  0  0  0  0  0\\n   12.7048   12.9423    3.7276 N   0  0  0  0  0  0  0  0  0  0  0  0\\n   13.3646    9.1294    3.6719 C   0  0  0  0  0  0  0  0  0  0  0  0\\n   12.4817    8.3276    2.7912 C   0  0  0  0  0  0  0  0  0  0  0  0\\n   10.5052    8.2355    1.5994 C   0  0  0  0  0  0  0  0  0  0  0  0\\n    9.2881    8.9582    1.1514 C   0  0  0  0  0  0  0  0  0  0  0  0\\n    8.2502   11.2283    1.1511 C   0  0  0  0  0  0  0  0  0  0  0  0\\n    8.8369   11.8871   -0.0933 C   0  0  0  0  0  0  0  0  0  0  0  0\\n   11.1180   12.6512   -0.7725 C   0  0  0  0  0  0  0  0  0  0  0  0\\n   12.4001   13.1758   -0.2422 C   0  0  0  0  0  0  0  0  0  0  0  0\\n   13.7035   13.5657    1.6247 C   0  0  0  0  0  0  0  0  0  0  0  0\\n   13.8306   13.4466    3.0985 C   0  0  0  0  0  0  0  0  0  0  0  0\\n   12.7087   12.4694    5.1036 C   0  0  0  0  0  0  0  0  0  0  0  0\\n   13.3670   11.0971    5.2147 C   0  0  0  0  0  0  0  0  0  0  0  0\\n   12.8719    7.0744    2.3484 C   0  0  0  0  0  0  0  0  0  0  0  0\\n   12.0019    6.3879    1.5078 C   0  0  0  0  0  0  0  0  0  0  0  0\\n   10.7958    6.9684    1.1169 C   0  0  0  0  0  0  0  0  0  0  0  0\\n   13.3989   13.6260   -1.0964 C   0  0  0  0  0  0  0  0  0  0  0  0\\n   14.5897   14.0704   -0.5253 C   0  0  0  0  0  0  0  0  0  0  0  0\\n   14.7581   14.0410    0.8567 C   0  0  0  0  0  0  0  0  0  0  0  0\\n  1 11  2  0\\n  4 20  2  0\\n  6 13  2  0\\n  7 15  1  0\\n  8 16  1  0\\n  9 18  1  0\\n 11  5  1  0\\n 11 12  1  0\\n 12  6  1  0\\n 13 14  1  0\\n 14  7  1  0\\n 14  2  2  0\\n 16 15  1  0\\n 17  3  2  0\\n 17  8  1  0\\n 18 17  1  0\\n 19  9  2  0\\n 20 19  1  0\\n 20 10  1  0\\n 21 10  1  0\\n 22 21  1  0\\n 22  5  1  0\\n 23 12  2  0\\n 23 24  1  0\\n 24 25  2  0\\n 25 13  1  0\\n 26 18  2  0\\n 27 26  1  0\\n 28 27  2  0\\n 28 19  1  0\\nM  END\\n\",\"sdf\");\n",
       "\tviewer_14907064464948795.addModel(\"m1_crystal.xyz\\n     RDKit          3D\\n\\n 28 30  0  0  0  0  0  0  0  0999 V2000\\n   10.0102   13.0616   -1.2836 O   0  0  0  0  0  0  0  0  0  0  0  0\\n   15.4094   12.0885    2.9541 O   0  0  0  0  0  0  0  0  0  0  0  0\\n   13.6037    9.0308    5.0370 O   0  0  0  0  0  0  0  0  0  0  0  0\\n    9.9304    9.1105   -0.8428 O   0  0  0  0  0  0  0  0  0  0  0  0\\n    9.8479   12.6680    0.9973 N   0  0  0  0  0  0  0  0  0  0  0  0\\n   12.4752   12.8217    1.2298 N   0  0  0  0  0  0  0  0  0  0  0  0\\n   13.3602   12.8514    3.7528 N   0  0  0  0  0  0  0  0  0  0  0  0\\n   11.9192   10.5499    4.5452 N   0  0  0  0  0  0  0  0  0  0  0  0\\n   11.3094    9.1861    2.3618 N   0  0  0  0  0  0  0  0  0  0  0  0\\n    9.0603    9.9640    1.1387 N   0  0  0  0  0  0  0  0  0  0  0  0\\n   10.5297   12.9215   -0.1815 C   0  0  0  0  0  0  0  0  0  0  0  0\\n   12.0072   12.9806   -0.0290 C   0  0  0  0  0  0  0  0  0  0  0  0\\n   13.8202   12.8190    1.3918 C   0  0  0  0  0  0  0  0  0  0  0  0\\n   14.2908   12.5560    2.7689 C   0  0  0  0  0  0  0  0  0  0  0  0\\n   13.4797   12.3838    5.1257 C   0  0  0  0  0  0  0  0  0  0  0  0\\n   12.2619   11.5541    5.5385 C   0  0  0  0  0  0  0  0  0  0  0  0\\n   12.6962    9.4267    4.3137 C   0  0  0  0  0  0  0  0  0  0  0  0\\n   12.3885    8.7300    3.0415 C   0  0  0  0  0  0  0  0  0  0  0  0\\n   11.0705    8.6314    1.1517 C   0  0  0  0  0  0  0  0  0  0  0  0\\n    9.9648    9.2401    0.3771 C   0  0  0  0  0  0  0  0  0  0  0  0\\n    8.1379   10.9265    0.5556 C   0  0  0  0  0  0  0  0  0  0  0  0\\n    8.4319   12.3433    1.0486 C   0  0  0  0  0  0  0  0  0  0  0  0\\n   12.8286   13.1498   -1.1359 C   0  0  0  0  0  0  0  0  0  0  0  0\\n   14.2076   13.1510   -0.9304 C   0  0  0  0  0  0  0  0  0  0  0  0\\n   14.7229   12.9744    0.3519 C   0  0  0  0  0  0  0  0  0  0  0  0\\n   13.2255    7.7260    2.5757 C   0  0  0  0  0  0  0  0  0  0  0  0\\n   12.9442    7.1744    1.3293 C   0  0  0  0  0  0  0  0  0  0  0  0\\n   11.8523    7.6311    0.5929 C   0  0  0  0  0  0  0  0  0  0  0  0\\n  1 11  2  0\\n  4 20  2  0\\n  6 13  2  0\\n  7 15  1  0\\n  8 16  1  0\\n  9 18  1  0\\n 11  5  1  0\\n 11 12  1  0\\n 12  6  1  0\\n 13 14  1  0\\n 14  7  1  0\\n 14  2  2  0\\n 16 15  1  0\\n 17  3  2  0\\n 17  8  1  0\\n 18 17  1  0\\n 19  9  2  0\\n 20 19  1  0\\n 20 10  1  0\\n 21 10  1  0\\n 22 21  1  0\\n 22  5  1  0\\n 23 12  2  0\\n 23 24  1  0\\n 24 25  2  0\\n 25 13  1  0\\n 26 18  2  0\\n 27 26  1  0\\n 28 27  2  0\\n 28 19  1  0\\nM  END\\n\",\"sdf\");\n",
       "\tviewer_14907064464948795.addModel(\"m1_crystal.xyz\\n     RDKit          3D\\n\\n 28 30  0  0  0  0  0  0  0  0999 V2000\\n   14.2533    9.3048    4.4040 O   0  0  0  0  0  0  0  0  0  0  0  0\\n    9.1026    8.9934   -0.3062 O   0  0  0  0  0  0  0  0  0  0  0  0\\n   10.4788   12.1630   -1.6393 O   0  0  0  0  0  0  0  0  0  0  0  0\\n   15.1746   12.5493    3.4069 O   0  0  0  0  0  0  0  0  0  0  0  0\\n   12.1842   10.3414    4.6065 N   0  0  0  0  0  0  0  0  0  0  0  0\\n   11.4027    9.2907    2.3426 N   0  0  0  0  0  0  0  0  0  0  0  0\\n    9.0700   10.2300    1.6627 N   0  0  0  0  0  0  0  0  0  0  0  0\\n    9.7932   12.6533    0.5231 N   0  0  0  0  0  0  0  0  0  0  0  0\\n   12.4082   12.7304    1.2383 N   0  0  0  0  0  0  0  0  0  0  0  0\\n   12.9237   12.8565    3.8769 N   0  0  0  0  0  0  0  0  0  0  0  0\\n   13.1166    9.5166    3.9982 C   0  0  0  0  0  0  0  0  0  0  0  0\\n   12.6306    8.8910    2.7419 C   0  0  0  0  0  0  0  0  0  0  0  0\\n   10.9231    8.7836    1.1831 C   0  0  0  0  0  0  0  0  0  0  0  0\\n    9.6025    9.3208    0.7633 C   0  0  0  0  0  0  0  0  0  0  0  0\\n    7.9931   11.1514    1.3485 C   0  0  0  0  0  0  0  0  0  0  0  0\\n    8.4077   12.2363    0.3555 C   0  0  0  0  0  0  0  0  0  0  0  0\\n   10.7321   12.4962   -0.4848 C   0  0  0  0  0  0  0  0  0  0  0  0\\n   12.1410   12.7250   -0.0896 C   0  0  0  0  0  0  0  0  0  0  0  0\\n   13.7155   12.8212    1.5887 C   0  0  0  0  0  0  0  0  0  0  0  0\\n   14.0190   12.7359    3.0362 C   0  0  0  0  0  0  0  0  0  0  0  0\\n   13.0146   12.5961    5.3033 C   0  0  0  0  0  0  0  0  0  0  0  0\\n   12.4780   11.2224    5.7205 C   0  0  0  0  0  0  0  0  0  0  0  0\\n   13.4087    7.9921    2.0294 C   0  0  0  0  0  0  0  0  0  0  0  0\\n   12.8813    7.4787    0.8441 C   0  0  0  0  0  0  0  0  0  0  0  0\\n   11.6195    7.8760    0.4019 C   0  0  0  0  0  0  0  0  0  0  0  0\\n   13.1139   12.8305   -1.0775 C   0  0  0  0  0  0  0  0  0  0  0  0\\n   14.4402   12.9399   -0.6772 C   0  0  0  0  0  0  0  0  0  0  0  0\\n   14.7580   12.9257    0.6756 C   0  0  0  0  0  0  0  0  0  0  0  0\\n  1 11  2  0\\n  4 20  2  0\\n  6 13  2  0\\n  7 15  1  0\\n  8 16  1  0\\n  9 18  1  0\\n 11  5  1  0\\n 11 12  1  0\\n 12  6  1  0\\n 13 14  1  0\\n 14  7  1  0\\n 14  2  2  0\\n 16 15  1  0\\n 17  3  2  0\\n 17  8  1  0\\n 18 17  1  0\\n 19  9  2  0\\n 20 19  1  0\\n 20 10  1  0\\n 21 10  1  0\\n 22 21  1  0\\n 22  5  1  0\\n 23 12  2  0\\n 23 24  1  0\\n 24 25  2  0\\n 25 13  1  0\\n 26 18  2  0\\n 27 26  1  0\\n 28 27  2  0\\n 28 19  1  0\\nM  END\\n\",\"sdf\");\n",
       "\tviewer_14907064464948795.setStyle({\"stick\": {\"radius\": \"0.15\"}});\n",
       "\tviewer_14907064464948795.setBackgroundColor(\"0xeeeeee\");\n",
       "\tviewer_14907064464948795.zoomTo();\n",
       "viewer_14907064464948795.render();\n",
       "});\n",
       "</script>"
      ],
      "text/plain": [
       "<IPython.core.display.HTML object>"
      ]
     },
     "execution_count": 135,
     "metadata": {},
     "output_type": "execute_result"
    }
   ],
   "source": [
    "# view:\n",
    "p = py3Dmol.view(width=400,height=400)\n",
    "p.removeAllModels()\n",
    "for mol in allmol_m1_balloon:\n",
    "    mb = Chem.MolToMolBlock(mol)\n",
    "    p.addModel(mb,'sdf')\n",
    "p.setStyle({'stick':{'radius':'0.15'}})\n",
    "p.setBackgroundColor('0xeeeeee')\n",
    "p.zoomTo()\n",
    "p.show()"
   ]
  },
  {
   "cell_type": "code",
   "execution_count": 20,
   "metadata": {
    "collapsed": false
   },
   "outputs": [
    {
     "name": "stdout",
     "output_type": "stream",
     "text": [
      "Heavy Atom RMS: 3.604550104229233e-07\n",
      "Heavy Atom RMS: 0.6621220451255674\n",
      "Heavy Atom RMS: 0.5174150250164391\n",
      "Heavy Atom RMS: 1.1744423515041509\n",
      "Heavy Atom RMS: 0.527526310182849\n",
      "Heavy Atom RMS: 0.8526332845365369\n",
      "Heavy Atom RMS: 0.8800960083230364\n"
     ]
    }
   ],
   "source": [
    "# calculate RMSD /check that/:\n",
    "for mol in allmol_m1_balloon:\n",
    "    # note that the first structure on \"allmol_m1_rdkit\" list is the crystal structure, \n",
    "    # so the RMSD value calculated for the first structure (with respect to the crystal) will be 0 or almost 0\n",
    "    print(\"Heavy Atom RMS:\",AllChem.GetBestRMS(Chem.RemoveHs(mol),Chem.RemoveHs(templ_m1[0])))"
   ]
  },
  {
   "cell_type": "markdown",
   "metadata": {
    "deletable": true,
    "editable": true
   },
   "source": [
    "### Conformers generated with the RDKit software:"
   ]
  },
  {
   "cell_type": "code",
   "execution_count": 21,
   "metadata": {
    "collapsed": false
   },
   "outputs": [],
   "source": [
    "# create a list of all structures to be aligned\n",
    "allmol_m1_rdkit = []\n",
    "suppl_m1_rdkit = Chem.SDMolSupplier('/home/gosia/work/work_on_gitlab/icho/calcs/m1/rdkit/result_smiles_new.sdf')\n",
    "\n",
    "# add crystal structure to the list:\n",
    "#allmol_m1_rdkit.append(m1_crystal)\n",
    "for mol in suppl_m1_rdkit:\n",
    "    allmol_m1_rdkit.append(mol)"
   ]
  },
  {
   "cell_type": "markdown",
   "metadata": {},
   "source": [
    "View conformers:"
   ]
  },
  {
   "cell_type": "code",
   "execution_count": 136,
   "metadata": {
    "collapsed": false,
    "deletable": true,
    "editable": true
   },
   "outputs": [
    {
     "data": {
      "text/html": [
       "<table>\n",
       "  <tr>\n",
       "    <td id=\"m1_r1\" ></td>\n",
       "    <td id=\"m1_r2\" ></td>\n",
       "    <td id=\"m1_r3\" ></td>   \n",
       "  </tr>\n",
       "  <tr>\n",
       "    <td> m1_r1, E = </td>\n",
       "    <td> m1_r2, E = </td>\n",
       "    <td> m1_r3, E = </td>   \n",
       "  </tr>\n",
       "  <tr>\n",
       "    <td id=\"m1_r4\" ></td>    \n",
       "    <td id=\"m1_r5\" ></td>\n",
       "    <td id=\"m1_r6\" ></td>   \n",
       "  </tr>\n",
       "  <tr>\n",
       "    <td> m1_r4, E = </td>\n",
       "    <td> m1_r5, E = </td>\n",
       "    <td> m1_r6, E = </td>   \n",
       "  </tr>\n",
       "  <tr>\n",
       "    <td id=\"m1_r7\" ></td>\n",
       "    <td id=\"m1_r8\" ></td>\n",
       "    <td id=\"m1_r9\" ></td>   \n",
       "  </tr>\n",
       "  <tr>\n",
       "    <td> m1_r7, E = </td>\n",
       "    <td> m1_r8, E = </td>\n",
       "    <td> m1_r9, E = </td>   \n",
       "  </tr>\n",
       "</table>"
      ],
      "text/plain": [
       "<IPython.core.display.HTML object>"
      ]
     },
     "metadata": {},
     "output_type": "display_data"
    }
   ],
   "source": [
    "%%html\n",
    "<table>\n",
    "  <tr>\n",
    "    <td id=\"m1_r1\" ></td>\n",
    "    <td id=\"m1_r2\" ></td>\n",
    "    <td id=\"m1_r3\" ></td>   \n",
    "  </tr>\n",
    "  <tr>\n",
    "    <td> m1_r1, E = </td>\n",
    "    <td> m1_r2, E = </td>\n",
    "    <td> m1_r3, E = </td>   \n",
    "  </tr>\n",
    "  <tr>\n",
    "    <td id=\"m1_r4\" ></td>    \n",
    "    <td id=\"m1_r5\" ></td>\n",
    "    <td id=\"m1_r6\" ></td>   \n",
    "  </tr>\n",
    "  <tr>\n",
    "    <td> m1_r4, E = </td>\n",
    "    <td> m1_r5, E = </td>\n",
    "    <td> m1_r6, E = </td>   \n",
    "  </tr>\n",
    "  <tr>\n",
    "    <td id=\"m1_r7\" ></td>\n",
    "    <td id=\"m1_r8\" ></td>\n",
    "    <td id=\"m1_r9\" ></td>   \n",
    "  </tr>\n",
    "  <tr>\n",
    "    <td> m1_r7, E = </td>\n",
    "    <td> m1_r8, E = </td>\n",
    "    <td> m1_r9, E = </td>   \n",
    "  </tr>\n",
    "</table>"
   ]
  },
  {
   "cell_type": "code",
   "execution_count": 137,
   "metadata": {
    "collapsed": true
   },
   "outputs": [],
   "source": [
    "inps_m1_rdkit = glob.glob('/home/gosia/work/work_on_gitlab/icho/calcs/m1/rdkit/results_crystal_from_smiles_new/*.sdf')\n",
    "p1_r_handles=[]\n",
    "for inp in inps_m1_rdkit:\n",
    "    f1_r = open(inp, 'r').read()\n",
    "    p1_r = py3Dmol.view(width=200,height=200)\n",
    "    p1_r.addModel(f1_r,'sdf')\n",
    "    p1_r.setStyle({'stick':{}})\n",
    "    p1_r.setBackgroundColor('0xeeeeee')\n",
    "    p1_r.zoomTo()\n",
    "    p1_r_handles.append(p1_r)"
   ]
  },
  {
   "cell_type": "code",
   "execution_count": 138,
   "metadata": {
    "collapsed": false
   },
   "outputs": [
    {
     "data": {
      "text/html": [
       "<div id=\"3dmolviewer_1490706453591491\"  style=\"position: relative; width: 200px; height: 200px\">\n",
       "<script>\n",
       "if(typeof $3Dmolpromise === 'undefined') $3Dmolpromise = $.when($.getScript('http://3dmol.csb.pitt.edu/build/3Dmol.js'))\n",
       "var viewer_1490706453591491 = null;\n",
       "$3Dmolpromise.done(function() {\n",
       "viewer_1490706453591491 = $3Dmol.createViewer($(\"#3dmolviewer_1490706453591491\"),{backgroundColor:\"white\"});\n",
       "\tviewer_1490706453591491.addModel(\"\\n     RDKit          3D\\n\\n 46 48  0  0  0  0  0  0  0  0999 V2000\\n   -2.7277   -3.6810   -1.3871 O   0  0  0  0  0  0  0  0  0  0  0  0\\n   -2.2310   -2.5422   -1.1720 C   0  0  0  0  0  0  0  0  0  0  0  0\\n   -0.8311   -2.3481   -1.4507 N   0  0  0  0  0  0  0  0  0  0  0  0\\n    0.0044   -1.2911   -0.8792 C   0  0  0  0  0  0  0  0  0  0  0  0\\n    0.0943   -1.4234    0.6483 C   0  0  0  0  0  0  0  0  0  0  0  0\\n    1.0090   -2.5000    1.0305 N   0  0  0  0  0  0  0  0  0  0  0  0\\n    2.4167   -2.5396    0.7280 C   0  0  0  0  0  0  0  0  0  0  0  0\\n    2.9970   -3.6589    0.7438 O   0  0  0  0  0  0  0  0  0  0  0  0\\n    3.2159   -1.3234    0.4244 C   0  0  0  0  0  0  0  0  0  0  0  0\\n    2.7589   -0.0887    0.7738 N   0  0  0  0  0  0  0  0  0  0  0  0\\n    3.4764    1.0490    0.5655 C   0  0  0  0  0  0  0  0  0  0  0  0\\n    2.9371    2.3455    1.0188 C   0  0  0  0  0  0  0  0  0  0  0  0\\n    3.7269    3.2817    1.3170 O   0  0  0  0  0  0  0  0  0  0  0  0\\n    1.5272    2.5497    1.1654 N   0  0  0  0  0  0  0  0  0  0  0  0\\n    0.6489    2.4791   -0.0021 C   0  0  0  0  0  0  0  0  0  0  0  0\\n   -0.8216    2.3799    0.4262 C   0  0  0  0  0  0  0  0  0  0  0  0\\n   -1.7117    2.5886   -0.7156 N   0  0  0  0  0  0  0  0  0  0  0  0\\n   -3.1031    2.2673   -0.6092 C   0  0  0  0  0  0  0  0  0  0  0  0\\n   -3.9569    3.1859   -0.7359 O   0  0  0  0  0  0  0  0  0  0  0  0\\n   -3.5482    0.8767   -0.3964 C   0  0  0  0  0  0  0  0  0  0  0  0\\n   -2.7510   -0.1527   -0.7929 N   0  0  0  0  0  0  0  0  0  0  0  0\\n   -3.1161   -1.4589   -0.6691 C   0  0  0  0  0  0  0  0  0  0  0  0\\n   -4.3700   -1.7639   -0.1140 C   0  0  0  0  0  0  0  0  0  0  0  0\\n   -5.2105   -0.7295    0.2995 C   0  0  0  0  0  0  0  0  0  0  0  0\\n   -4.8074    0.5978    0.1530 C   0  0  0  0  0  0  0  0  0  0  0  0\\n    4.7468    0.9621   -0.0209 C   0  0  0  0  0  0  0  0  0  0  0  0\\n    5.2425   -0.2863   -0.3965 C   0  0  0  0  0  0  0  0  0  0  0  0\\n    4.4827   -1.4351   -0.1724 C   0  0  0  0  0  0  0  0  0  0  0  0\\n   -0.3486   -3.0776   -2.0231 H   0  0  0  0  0  0  0  0  0  0  0  0\\n    1.0199   -1.3495   -1.3246 H   0  0  0  0  0  0  0  0  0  0  0  0\\n   -0.3821   -0.2976   -1.1687 H   0  0  0  0  0  0  0  0  0  0  0  0\\n   -0.9115   -1.6338    1.0693 H   0  0  0  0  0  0  0  0  0  0  0  0\\n    0.4097   -0.4709    1.1105 H   0  0  0  0  0  0  0  0  0  0  0  0\\n    0.5856   -3.3514    1.4647 H   0  0  0  0  0  0  0  0  0  0  0  0\\n    1.2344    3.1888    1.9391 H   0  0  0  0  0  0  0  0  0  0  0  0\\n    0.7987    3.3987   -0.6081 H   0  0  0  0  0  0  0  0  0  0  0  0\\n    0.9156    1.6045   -0.6308 H   0  0  0  0  0  0  0  0  0  0  0  0\\n   -1.0119    1.3872    0.8835 H   0  0  0  0  0  0  0  0  0  0  0  0\\n   -1.0415    3.1586    1.1883 H   0  0  0  0  0  0  0  0  0  0  0  0\\n   -1.4700    3.3691   -1.3678 H   0  0  0  0  0  0  0  0  0  0  0  0\\n   -4.6981   -2.7898   -0.0027 H   0  0  0  0  0  0  0  0  0  0  0  0\\n   -6.1787   -0.9568    0.7267 H   0  0  0  0  0  0  0  0  0  0  0  0\\n   -5.4680    1.3956    0.4690 H   0  0  0  0  0  0  0  0  0  0  0  0\\n    5.3454    1.8485   -0.1905 H   0  0  0  0  0  0  0  0  0  0  0  0\\n    6.2201   -0.3648   -0.8545 H   0  0  0  0  0  0  0  0  0  0  0  0\\n    4.8824   -2.3993   -0.4606 H   0  0  0  0  0  0  0  0  0  0  0  0\\n  1  2  2  0\\n  2  3  1  0\\n  3  4  1  0\\n  4  5  1  0\\n  5  6  1  0\\n  6  7  1  0\\n  7  8  2  0\\n  7  9  1  0\\n  9 10  1  0\\n 10 11  2  0\\n 11 12  1  0\\n 12 13  2  0\\n 12 14  1  0\\n 14 15  1  0\\n 15 16  1  0\\n 16 17  1  0\\n 17 18  1  0\\n 18 19  2  0\\n 18 20  1  0\\n 20 21  1  0\\n 21 22  2  0\\n 22 23  1  0\\n 23 24  2  0\\n 24 25  1  0\\n 11 26  1  0\\n 26 27  2  0\\n 27 28  1  0\\n 22  2  1  0\\n 28  9  2  0\\n 25 20  2  0\\n  3 29  1  0\\n  4 30  1  0\\n  4 31  1  0\\n  5 32  1  0\\n  5 33  1  0\\n  6 34  1  0\\n 14 35  1  0\\n 15 36  1  0\\n 15 37  1  0\\n 16 38  1  0\\n 16 39  1  0\\n 17 40  1  0\\n 23 41  1  0\\n 24 42  1  0\\n 25 43  1  0\\n 26 44  1  0\\n 27 45  1  0\\n 28 46  1  0\\nM  END\\n58.93\\n\\n\",\"sdf\");\n",
       "\tviewer_1490706453591491.setStyle({\"stick\": {}});\n",
       "\tviewer_1490706453591491.setBackgroundColor(\"0xeeeeee\");\n",
       "\tviewer_1490706453591491.zoomTo();\n",
       "viewer_1490706453591491.render();\n",
       "});\n",
       "</script><script>$(\"#m1_r1\").append($(\"#3dmolviewer_1490706453591491\")); </script>"
      ],
      "text/plain": [
       "<IPython.core.display.HTML object>"
      ]
     },
     "execution_count": 138,
     "metadata": {},
     "output_type": "execute_result"
    }
   ],
   "source": [
    "p1_r_handles[0].insert('m1_r1')"
   ]
  },
  {
   "cell_type": "code",
   "execution_count": 139,
   "metadata": {
    "collapsed": false
   },
   "outputs": [
    {
     "data": {
      "text/html": [
       "<div id=\"3dmolviewer_14907064562205546\"  style=\"position: relative; width: 200px; height: 200px\">\n",
       "<script>\n",
       "if(typeof $3Dmolpromise === 'undefined') $3Dmolpromise = $.when($.getScript('http://3dmol.csb.pitt.edu/build/3Dmol.js'))\n",
       "var viewer_14907064562205546 = null;\n",
       "$3Dmolpromise.done(function() {\n",
       "viewer_14907064562205546 = $3Dmol.createViewer($(\"#3dmolviewer_14907064562205546\"),{backgroundColor:\"white\"});\n",
       "\tviewer_14907064562205546.addModel(\"\\n     RDKit          3D\\n\\n 46 48  0  0  0  0  0  0  0  0999 V2000\\n    3.9390   -3.2867   -0.1587 O   0  0  0  0  0  0  0  0  0  0  0  0\\n    3.1610   -2.2968   -0.2232 C   0  0  0  0  0  0  0  0  0  0  0  0\\n    1.7496   -2.5136   -0.1207 N   0  0  0  0  0  0  0  0  0  0  0  0\\n    0.8265   -1.9568   -1.1090 C   0  0  0  0  0  0  0  0  0  0  0  0\\n   -0.5133   -1.5909   -0.4655 C   0  0  0  0  0  0  0  0  0  0  0  0\\n   -1.2498   -2.7792   -0.0275 N   0  0  0  0  0  0  0  0  0  0  0  0\\n   -2.4797   -2.7512    0.7224 C   0  0  0  0  0  0  0  0  0  0  0  0\\n   -2.8582   -3.8202    1.2742 O   0  0  0  0  0  0  0  0  0  0  0  0\\n   -3.3401   -1.5414    0.8442 C   0  0  0  0  0  0  0  0  0  0  0  0\\n   -3.0024   -0.3814    0.2176 N   0  0  0  0  0  0  0  0  0  0  0  0\\n   -3.7841    0.7314    0.2488 C   0  0  0  0  0  0  0  0  0  0  0  0\\n   -3.3623    1.9345   -0.4919 C   0  0  0  0  0  0  0  0  0  0  0  0\\n   -4.2322    2.7220   -0.9524 O   0  0  0  0  0  0  0  0  0  0  0  0\\n   -1.9756    2.2082   -0.7279 N   0  0  0  0  0  0  0  0  0  0  0  0\\n   -1.0286    2.2518    0.3858 C   0  0  0  0  0  0  0  0  0  0  0  0\\n    0.4156    2.1533   -0.1174 C   0  0  0  0  0  0  0  0  0  0  0  0\\n    1.3586    2.3957    0.9744 N   0  0  0  0  0  0  0  0  0  0  0  0\\n    2.7633    2.5022    0.7267 C   0  0  0  0  0  0  0  0  0  0  0  0\\n    3.3726    3.5371    1.1097 O   0  0  0  0  0  0  0  0  0  0  0  0\\n    3.5163    1.4009    0.0930 C   0  0  0  0  0  0  0  0  0  0  0  0\\n    3.0191    0.1322    0.1246 N   0  0  0  0  0  0  0  0  0  0  0  0\\n    3.7178   -0.9358   -0.3552 C   0  0  0  0  0  0  0  0  0  0  0  0\\n    4.9926   -0.7351   -0.9052 C   0  0  0  0  0  0  0  0  0  0  0  0\\n    5.5191    0.5546   -0.9631 C   0  0  0  0  0  0  0  0  0  0  0  0\\n    4.7877    1.6284   -0.4565 C   0  0  0  0  0  0  0  0  0  0  0  0\\n   -4.9999    0.6983    0.9443 C   0  0  0  0  0  0  0  0  0  0  0  0\\n   -5.3715   -0.4681    1.6125 C   0  0  0  0  0  0  0  0  0  0  0  0\\n   -4.5458   -1.5928    1.5662 C   0  0  0  0  0  0  0  0  0  0  0  0\\n    1.4393   -3.3606    0.4063 H   0  0  0  0  0  0  0  0  0  0  0  0\\n    0.6663   -2.6981   -1.9215 H   0  0  0  0  0  0  0  0  0  0  0  0\\n    1.2566   -1.0435   -1.5724 H   0  0  0  0  0  0  0  0  0  0  0  0\\n   -1.1092   -1.0501   -1.2304 H   0  0  0  0  0  0  0  0  0  0  0  0\\n   -0.3310   -0.9247    0.4049 H   0  0  0  0  0  0  0  0  0  0  0  0\\n   -0.8334   -3.7217   -0.2056 H   0  0  0  0  0  0  0  0  0  0  0  0\\n   -1.7521    2.7916   -1.5661 H   0  0  0  0  0  0  0  0  0  0  0  0\\n   -1.2215    1.4213    1.0975 H   0  0  0  0  0  0  0  0  0  0  0  0\\n   -1.1676    3.2132    0.9265 H   0  0  0  0  0  0  0  0  0  0  0  0\\n    0.5885    1.1477   -0.5498 H   0  0  0  0  0  0  0  0  0  0  0  0\\n    0.5847    2.9114   -0.9129 H   0  0  0  0  0  0  0  0  0  0  0  0\\n    1.0039    2.7679    1.8849 H   0  0  0  0  0  0  0  0  0  0  0  0\\n    5.5729   -1.5660   -1.2869 H   0  0  0  0  0  0  0  0  0  0  0  0\\n    6.5010    0.7202   -1.3873 H   0  0  0  0  0  0  0  0  0  0  0  0\\n    5.2131    2.6238   -0.4873 H   0  0  0  0  0  0  0  0  0  0  0  0\\n   -5.6470    1.5659    0.9788 H   0  0  0  0  0  0  0  0  0  0  0  0\\n   -6.3045   -0.5039    2.1601 H   0  0  0  0  0  0  0  0  0  0  0  0\\n   -4.8555   -2.4951    2.0784 H   0  0  0  0  0  0  0  0  0  0  0  0\\n  1  2  2  0\\n  2  3  1  0\\n  3  4  1  0\\n  4  5  1  0\\n  5  6  1  0\\n  6  7  1  0\\n  7  8  2  0\\n  7  9  1  0\\n  9 10  1  0\\n 10 11  2  0\\n 11 12  1  0\\n 12 13  2  0\\n 12 14  1  0\\n 14 15  1  0\\n 15 16  1  0\\n 16 17  1  0\\n 17 18  1  0\\n 18 19  2  0\\n 18 20  1  0\\n 20 21  1  0\\n 21 22  2  0\\n 22 23  1  0\\n 23 24  2  0\\n 24 25  1  0\\n 11 26  1  0\\n 26 27  2  0\\n 27 28  1  0\\n 22  2  1  0\\n 28  9  2  0\\n 25 20  2  0\\n  3 29  1  0\\n  4 30  1  0\\n  4 31  1  0\\n  5 32  1  0\\n  5 33  1  0\\n  6 34  1  0\\n 14 35  1  0\\n 15 36  1  0\\n 15 37  1  0\\n 16 38  1  0\\n 16 39  1  0\\n 17 40  1  0\\n 23 41  1  0\\n 24 42  1  0\\n 25 43  1  0\\n 26 44  1  0\\n 27 45  1  0\\n 28 46  1  0\\nM  END\\n58.20\\n\\n\",\"sdf\");\n",
       "\tviewer_14907064562205546.setStyle({\"stick\": {}});\n",
       "\tviewer_14907064562205546.setBackgroundColor(\"0xeeeeee\");\n",
       "\tviewer_14907064562205546.zoomTo();\n",
       "viewer_14907064562205546.render();\n",
       "});\n",
       "</script><script>$(\"#m1_r2\").append($(\"#3dmolviewer_14907064562205546\")); </script>"
      ],
      "text/plain": [
       "<IPython.core.display.HTML object>"
      ]
     },
     "execution_count": 139,
     "metadata": {},
     "output_type": "execute_result"
    }
   ],
   "source": [
    "p1_r_handles[1].insert('m1_r2')"
   ]
  },
  {
   "cell_type": "code",
   "execution_count": 140,
   "metadata": {
    "collapsed": false
   },
   "outputs": [
    {
     "data": {
      "text/html": [
       "<div id=\"3dmolviewer_14907064575814567\"  style=\"position: relative; width: 200px; height: 200px\">\n",
       "<script>\n",
       "if(typeof $3Dmolpromise === 'undefined') $3Dmolpromise = $.when($.getScript('http://3dmol.csb.pitt.edu/build/3Dmol.js'))\n",
       "var viewer_14907064575814567 = null;\n",
       "$3Dmolpromise.done(function() {\n",
       "viewer_14907064575814567 = $3Dmol.createViewer($(\"#3dmolviewer_14907064575814567\"),{backgroundColor:\"white\"});\n",
       "\tviewer_14907064575814567.addModel(\"\\n     RDKit          3D\\n\\n 46 48  0  0  0  0  0  0  0  0999 V2000\\n   -3.9852    2.3096    1.9552 O   0  0  0  0  0  0  0  0  0  0  0  0\\n   -3.1686    1.8184    1.1303 C   0  0  0  0  0  0  0  0  0  0  0  0\\n   -1.8624    2.4028    1.0140 N   0  0  0  0  0  0  0  0  0  0  0  0\\n   -1.1090    2.3992   -0.2407 C   0  0  0  0  0  0  0  0  0  0  0  0\\n    0.3740    2.7145    0.0142 C   0  0  0  0  0  0  0  0  0  0  0  0\\n    1.2307    2.1081   -1.0033 N   0  0  0  0  0  0  0  0  0  0  0  0\\n    2.6510    2.2068   -0.8956 C   0  0  0  0  0  0  0  0  0  0  0  0\\n    3.2175    3.3136   -1.1009 O   0  0  0  0  0  0  0  0  0  0  0  0\\n    3.4360    1.0204   -0.5173 C   0  0  0  0  0  0  0  0  0  0  0  0\\n    2.8159    0.0036    0.1397 N   0  0  0  0  0  0  0  0  0  0  0  0\\n    3.4654   -1.1131    0.5633 C   0  0  0  0  0  0  0  0  0  0  0  0\\n    2.7488   -2.1640    1.3407 C   0  0  0  0  0  0  0  0  0  0  0  0\\n    3.3873   -3.1941    1.6891 O   0  0  0  0  0  0  0  0  0  0  0  0\\n    1.3736   -2.0509    1.7647 N   0  0  0  0  0  0  0  0  0  0  0  0\\n    0.3630   -1.1472    1.2106 C   0  0  0  0  0  0  0  0  0  0  0  0\\n    0.0045   -1.5430   -0.2246 C   0  0  0  0  0  0  0  0  0  0  0  0\\n   -0.8854   -2.7009   -0.2120 N   0  0  0  0  0  0  0  0  0  0  0  0\\n   -2.2432   -2.6942   -0.6830 C   0  0  0  0  0  0  0  0  0  0  0  0\\n   -2.7114   -3.7665   -1.1531 O   0  0  0  0  0  0  0  0  0  0  0  0\\n   -3.1324   -1.5039   -0.5850 C   0  0  0  0  0  0  0  0  0  0  0  0\\n   -2.7748   -0.4163    0.1592 N   0  0  0  0  0  0  0  0  0  0  0  0\\n   -3.5912    0.6675    0.3074 C   0  0  0  0  0  0  0  0  0  0  0  0\\n   -4.8574    0.6655   -0.2907 C   0  0  0  0  0  0  0  0  0  0  0  0\\n   -5.2496   -0.4277   -1.0594 C   0  0  0  0  0  0  0  0  0  0  0  0\\n   -4.3910   -1.5153   -1.2118 C   0  0  0  0  0  0  0  0  0  0  0  0\\n    4.8407   -1.2343    0.2948 C   0  0  0  0  0  0  0  0  0  0  0  0\\n    5.5069   -0.2067   -0.3772 C   0  0  0  0  0  0  0  0  0  0  0  0\\n    4.8093    0.9334   -0.7783 C   0  0  0  0  0  0  0  0  0  0  0  0\\n   -1.5868    3.0983    1.7447 H   0  0  0  0  0  0  0  0  0  0  0  0\\n   -1.2127    1.4173   -0.7341 H   0  0  0  0  0  0  0  0  0  0  0  0\\n   -1.5362    3.1611   -0.9274 H   0  0  0  0  0  0  0  0  0  0  0  0\\n    0.6778    2.3246    1.0100 H   0  0  0  0  0  0  0  0  0  0  0  0\\n    0.5207    3.8162    0.0167 H   0  0  0  0  0  0  0  0  0  0  0  0\\n    0.8478    1.3857   -1.6542 H   0  0  0  0  0  0  0  0  0  0  0  0\\n    1.0461   -2.7255    2.4932 H   0  0  0  0  0  0  0  0  0  0  0  0\\n   -0.5548   -1.1993    1.8368 H   0  0  0  0  0  0  0  0  0  0  0  0\\n    0.6993   -0.0960    1.2739 H   0  0  0  0  0  0  0  0  0  0  0  0\\n   -0.4629   -0.6942   -0.7535 H   0  0  0  0  0  0  0  0  0  0  0  0\\n    0.9195   -1.7951   -0.8009 H   0  0  0  0  0  0  0  0  0  0  0  0\\n   -0.4565   -3.6259    0.0186 H   0  0  0  0  0  0  0  0  0  0  0  0\\n   -5.5279    1.5084   -0.1754 H   0  0  0  0  0  0  0  0  0  0  0  0\\n   -6.2222   -0.4345   -1.5345 H   0  0  0  0  0  0  0  0  0  0  0  0\\n   -4.7136   -2.3606   -1.8067 H   0  0  0  0  0  0  0  0  0  0  0  0\\n    5.4002   -2.1048    0.6136 H   0  0  0  0  0  0  0  0  0  0  0  0\\n    6.5670   -0.2906   -0.5789 H   0  0  0  0  0  0  0  0  0  0  0  0\\n    5.3322    1.7302   -1.2924 H   0  0  0  0  0  0  0  0  0  0  0  0\\n  1  2  2  0\\n  2  3  1  0\\n  3  4  1  0\\n  4  5  1  0\\n  5  6  1  0\\n  6  7  1  0\\n  7  8  2  0\\n  7  9  1  0\\n  9 10  1  0\\n 10 11  2  0\\n 11 12  1  0\\n 12 13  2  0\\n 12 14  1  0\\n 14 15  1  0\\n 15 16  1  0\\n 16 17  1  0\\n 17 18  1  0\\n 18 19  2  0\\n 18 20  1  0\\n 20 21  1  0\\n 21 22  2  0\\n 22 23  1  0\\n 23 24  2  0\\n 24 25  1  0\\n 11 26  1  0\\n 26 27  2  0\\n 27 28  1  0\\n 22  2  1  0\\n 28  9  2  0\\n 25 20  2  0\\n  3 29  1  0\\n  4 30  1  0\\n  4 31  1  0\\n  5 32  1  0\\n  5 33  1  0\\n  6 34  1  0\\n 14 35  1  0\\n 15 36  1  0\\n 15 37  1  0\\n 16 38  1  0\\n 16 39  1  0\\n 17 40  1  0\\n 23 41  1  0\\n 24 42  1  0\\n 25 43  1  0\\n 26 44  1  0\\n 27 45  1  0\\n 28 46  1  0\\nM  END\\n61.58\\n\\n\",\"sdf\");\n",
       "\tviewer_14907064575814567.setStyle({\"stick\": {}});\n",
       "\tviewer_14907064575814567.setBackgroundColor(\"0xeeeeee\");\n",
       "\tviewer_14907064575814567.zoomTo();\n",
       "viewer_14907064575814567.render();\n",
       "});\n",
       "</script><script>$(\"#m1_r3\").append($(\"#3dmolviewer_14907064575814567\")); </script>"
      ],
      "text/plain": [
       "<IPython.core.display.HTML object>"
      ]
     },
     "execution_count": 140,
     "metadata": {},
     "output_type": "execute_result"
    }
   ],
   "source": [
    "p1_r_handles[2].insert('m1_r3')"
   ]
  },
  {
   "cell_type": "code",
   "execution_count": 141,
   "metadata": {
    "collapsed": false
   },
   "outputs": [
    {
     "data": {
      "text/html": [
       "<div id=\"3dmolviewer_14907064587407494\"  style=\"position: relative; width: 200px; height: 200px\">\n",
       "<script>\n",
       "if(typeof $3Dmolpromise === 'undefined') $3Dmolpromise = $.when($.getScript('http://3dmol.csb.pitt.edu/build/3Dmol.js'))\n",
       "var viewer_14907064587407494 = null;\n",
       "$3Dmolpromise.done(function() {\n",
       "viewer_14907064587407494 = $3Dmol.createViewer($(\"#3dmolviewer_14907064587407494\"),{backgroundColor:\"white\"});\n",
       "\tviewer_14907064587407494.addModel(\"\\n     RDKit          3D\\n\\n 46 48  0  0  0  0  0  0  0  0999 V2000\\n    4.3736   -2.9680    1.0277 O   0  0  0  0  0  0  0  0  0  0  0  0\\n    3.3737   -2.4012    0.5099 C   0  0  0  0  0  0  0  0  0  0  0  0\\n    2.3548   -3.2109   -0.0952 N   0  0  0  0  0  0  0  0  0  0  0  0\\n    0.9337   -2.9474    0.1254 C   0  0  0  0  0  0  0  0  0  0  0  0\\n    0.0888   -3.5485   -1.0036 C   0  0  0  0  0  0  0  0  0  0  0  0\\n   -1.2906   -3.0759   -0.8996 N   0  0  0  0  0  0  0  0  0  0  0  0\\n   -1.6142   -1.7053   -1.1733 C   0  0  0  0  0  0  0  0  0  0  0  0\\n   -0.9042   -1.0471   -1.9818 O   0  0  0  0  0  0  0  0  0  0  0  0\\n   -2.6708   -1.0049   -0.4272 C   0  0  0  0  0  0  0  0  0  0  0  0\\n   -2.4669    0.2986   -0.1082 N   0  0  0  0  0  0  0  0  0  0  0  0\\n   -3.3387    1.0347    0.6274 C   0  0  0  0  0  0  0  0  0  0  0  0\\n   -3.0099    2.4403    0.9953 C   0  0  0  0  0  0  0  0  0  0  0  0\\n   -3.8525    3.1053    1.6570 O   0  0  0  0  0  0  0  0  0  0  0  0\\n   -1.7583    3.0755    0.6580 N   0  0  0  0  0  0  0  0  0  0  0  0\\n   -0.7577    2.5141   -0.2545 C   0  0  0  0  0  0  0  0  0  0  0  0\\n    0.4135    3.4766   -0.4725 C   0  0  0  0  0  0  0  0  0  0  0  0\\n    1.2508    3.0267   -1.5883 N   0  0  0  0  0  0  0  0  0  0  0  0\\n    1.8246    1.7120   -1.6710 C   0  0  0  0  0  0  0  0  0  0  0  0\\n    1.7344    1.0778   -2.7560 O   0  0  0  0  0  0  0  0  0  0  0  0\\n    2.5339    1.0847   -0.5380 C   0  0  0  0  0  0  0  0  0  0  0  0\\n    2.6117   -0.2750   -0.4732 N   0  0  0  0  0  0  0  0  0  0  0  0\\n    3.2971   -0.9233    0.5104 C   0  0  0  0  0  0  0  0  0  0  0  0\\n    3.9713   -0.1729    1.4852 C   0  0  0  0  0  0  0  0  0  0  0  0\\n    3.9211    1.2204    1.4351 C   0  0  0  0  0  0  0  0  0  0  0  0\\n    3.2095    1.8570    0.4180 C   0  0  0  0  0  0  0  0  0  0  0  0\\n   -4.5280    0.4272    1.0657 C   0  0  0  0  0  0  0  0  0  0  0  0\\n   -4.7752   -0.9118    0.7472 C   0  0  0  0  0  0  0  0  0  0  0  0\\n   -3.8421   -1.6404    0.0051 C   0  0  0  0  0  0  0  0  0  0  0  0\\n    2.6202   -4.1899   -0.3488 H   0  0  0  0  0  0  0  0  0  0  0  0\\n    0.6264   -3.3997    1.0928 H   0  0  0  0  0  0  0  0  0  0  0  0\\n    0.7471   -1.8568    0.1912 H   0  0  0  0  0  0  0  0  0  0  0  0\\n    0.5086   -3.2685   -1.9944 H   0  0  0  0  0  0  0  0  0  0  0  0\\n    0.1070   -4.6571   -0.9238 H   0  0  0  0  0  0  0  0  0  0  0  0\\n   -1.9869   -3.6965   -0.4307 H   0  0  0  0  0  0  0  0  0  0  0  0\\n   -1.5894    4.0262    1.0599 H   0  0  0  0  0  0  0  0  0  0  0  0\\n   -1.2369    2.3056   -1.2360 H   0  0  0  0  0  0  0  0  0  0  0  0\\n   -0.3514    1.5744    0.1766 H   0  0  0  0  0  0  0  0  0  0  0  0\\n    1.0112    3.5611    0.4573 H   0  0  0  0  0  0  0  0  0  0  0  0\\n    0.0163    4.4876   -0.7108 H   0  0  0  0  0  0  0  0  0  0  0  0\\n    1.2253    3.5961   -2.4643 H   0  0  0  0  0  0  0  0  0  0  0  0\\n    4.5325   -0.6586    2.2738 H   0  0  0  0  0  0  0  0  0  0  0  0\\n    4.4492    1.8076    2.1751 H   0  0  0  0  0  0  0  0  0  0  0  0\\n    3.2237    2.9371    0.3585 H   0  0  0  0  0  0  0  0  0  0  0  0\\n   -5.2528    0.9742    1.6554 H   0  0  0  0  0  0  0  0  0  0  0  0\\n   -5.6880   -1.3870    1.0825 H   0  0  0  0  0  0  0  0  0  0  0  0\\n   -4.0451   -2.6745   -0.2393 H   0  0  0  0  0  0  0  0  0  0  0  0\\n  1  2  2  0\\n  2  3  1  0\\n  3  4  1  0\\n  4  5  1  0\\n  5  6  1  0\\n  6  7  1  0\\n  7  8  2  0\\n  7  9  1  0\\n  9 10  1  0\\n 10 11  2  0\\n 11 12  1  0\\n 12 13  2  0\\n 12 14  1  0\\n 14 15  1  0\\n 15 16  1  0\\n 16 17  1  0\\n 17 18  1  0\\n 18 19  2  0\\n 18 20  1  0\\n 20 21  1  0\\n 21 22  2  0\\n 22 23  1  0\\n 23 24  2  0\\n 24 25  1  0\\n 11 26  1  0\\n 26 27  2  0\\n 27 28  1  0\\n 22  2  1  0\\n 28  9  2  0\\n 25 20  2  0\\n  3 29  1  0\\n  4 30  1  0\\n  4 31  1  0\\n  5 32  1  0\\n  5 33  1  0\\n  6 34  1  0\\n 14 35  1  0\\n 15 36  1  0\\n 15 37  1  0\\n 16 38  1  0\\n 16 39  1  0\\n 17 40  1  0\\n 23 41  1  0\\n 24 42  1  0\\n 25 43  1  0\\n 26 44  1  0\\n 27 45  1  0\\n 28 46  1  0\\nM  END\\n57.42\\n\\n\",\"sdf\");\n",
       "\tviewer_14907064587407494.setStyle({\"stick\": {}});\n",
       "\tviewer_14907064587407494.setBackgroundColor(\"0xeeeeee\");\n",
       "\tviewer_14907064587407494.zoomTo();\n",
       "viewer_14907064587407494.render();\n",
       "});\n",
       "</script><script>$(\"#m1_r4\").append($(\"#3dmolviewer_14907064587407494\")); </script>"
      ],
      "text/plain": [
       "<IPython.core.display.HTML object>"
      ]
     },
     "execution_count": 141,
     "metadata": {},
     "output_type": "execute_result"
    }
   ],
   "source": [
    "p1_r_handles[3].insert('m1_r4')"
   ]
  },
  {
   "cell_type": "code",
   "execution_count": 142,
   "metadata": {
    "collapsed": false
   },
   "outputs": [
    {
     "data": {
      "text/html": [
       "<div id=\"3dmolviewer_14907064609003398\"  style=\"position: relative; width: 200px; height: 200px\">\n",
       "<script>\n",
       "if(typeof $3Dmolpromise === 'undefined') $3Dmolpromise = $.when($.getScript('http://3dmol.csb.pitt.edu/build/3Dmol.js'))\n",
       "var viewer_14907064609003398 = null;\n",
       "$3Dmolpromise.done(function() {\n",
       "viewer_14907064609003398 = $3Dmol.createViewer($(\"#3dmolviewer_14907064609003398\"),{backgroundColor:\"white\"});\n",
       "\tviewer_14907064609003398.addModel(\"\\n     RDKit          3D\\n\\n 46 48  0  0  0  0  0  0  0  0999 V2000\\n   -3.1061    3.5543   -1.5472 O   0  0  0  0  0  0  0  0  0  0  0  0\\n   -2.5752    2.5073   -1.0879 C   0  0  0  0  0  0  0  0  0  0  0  0\\n   -1.1492    2.4092   -1.0625 N   0  0  0  0  0  0  0  0  0  0  0  0\\n   -0.4358    2.1460    0.1869 C   0  0  0  0  0  0  0  0  0  0  0  0\\n    1.0756    2.2832   -0.0192 C   0  0  0  0  0  0  0  0  0  0  0  0\\n    1.7886    2.1915    1.2544 N   0  0  0  0  0  0  0  0  0  0  0  0\\n    3.1928    1.9068    1.2822 C   0  0  0  0  0  0  0  0  0  0  0  0\\n    3.9597    2.6511    1.9506 O   0  0  0  0  0  0  0  0  0  0  0  0\\n    3.7442    0.7414    0.5679 C   0  0  0  0  0  0  0  0  0  0  0  0\\n    2.9698   -0.3636    0.3951 N   0  0  0  0  0  0  0  0  0  0  0  0\\n    3.4137   -1.4876   -0.2298 C   0  0  0  0  0  0  0  0  0  0  0  0\\n    2.5469   -2.6938   -0.3287 C   0  0  0  0  0  0  0  0  0  0  0  0\\n    3.0097   -3.7283   -0.8820 O   0  0  0  0  0  0  0  0  0  0  0  0\\n    1.2179   -2.7610    0.2224 N   0  0  0  0  0  0  0  0  0  0  0  0\\n    0.3823   -1.5964    0.5289 C   0  0  0  0  0  0  0  0  0  0  0  0\\n   -1.0365   -2.0095    0.9311 C   0  0  0  0  0  0  0  0  0  0  0  0\\n   -1.7563   -2.5905   -0.2022 N   0  0  0  0  0  0  0  0  0  0  0  0\\n   -3.1452   -2.3285   -0.4380 C   0  0  0  0  0  0  0  0  0  0  0  0\\n   -3.8978   -3.2854   -0.7653 O   0  0  0  0  0  0  0  0  0  0  0  0\\n   -3.7070   -0.9660   -0.3427 C   0  0  0  0  0  0  0  0  0  0  0  0\\n   -2.9314    0.1153   -0.6408 N   0  0  0  0  0  0  0  0  0  0  0  0\\n   -3.4278    1.3855   -0.6468 C   0  0  0  0  0  0  0  0  0  0  0  0\\n   -4.7780    1.5995   -0.3291 C   0  0  0  0  0  0  0  0  0  0  0  0\\n   -5.5893    0.5116   -0.0107 C   0  0  0  0  0  0  0  0  0  0  0  0\\n   -5.0610   -0.7782   -0.0276 C   0  0  0  0  0  0  0  0  0  0  0  0\\n    4.7279   -1.5090   -0.7298 C   0  0  0  0  0  0  0  0  0  0  0  0\\n    5.5488   -0.3923   -0.5615 C   0  0  0  0  0  0  0  0  0  0  0  0\\n    5.0642    0.7367    0.0989 C   0  0  0  0  0  0  0  0  0  0  0  0\\n   -0.6276    2.8054   -1.8776 H   0  0  0  0  0  0  0  0  0  0  0  0\\n   -0.6695    1.1239    0.5460 H   0  0  0  0  0  0  0  0  0  0  0  0\\n   -0.7739    2.8743    0.9560 H   0  0  0  0  0  0  0  0  0  0  0  0\\n    1.2994    3.2712   -0.4769 H   0  0  0  0  0  0  0  0  0  0  0  0\\n    1.4165    1.4909   -0.7190 H   0  0  0  0  0  0  0  0  0  0  0  0\\n    1.4078    2.7462    2.0545 H   0  0  0  0  0  0  0  0  0  0  0  0\\n    0.8024   -3.7158    0.3175 H   0  0  0  0  0  0  0  0  0  0  0  0\\n    0.8181   -1.0468    1.3890 H   0  0  0  0  0  0  0  0  0  0  0  0\\n    0.3362   -0.9263   -0.3565 H   0  0  0  0  0  0  0  0  0  0  0  0\\n   -0.9864   -2.7566    1.7524 H   0  0  0  0  0  0  0  0  0  0  0  0\\n   -1.5734   -1.1218    1.3271 H   0  0  0  0  0  0  0  0  0  0  0  0\\n   -1.3527   -3.4469   -0.6443 H   0  0  0  0  0  0  0  0  0  0  0  0\\n   -5.2021    2.5960   -0.3345 H   0  0  0  0  0  0  0  0  0  0  0  0\\n   -6.6323    0.6667    0.2336 H   0  0  0  0  0  0  0  0  0  0  0  0\\n   -5.7016   -1.6202    0.2040 H   0  0  0  0  0  0  0  0  0  0  0  0\\n    5.1236   -2.3831   -1.2314 H   0  0  0  0  0  0  0  0  0  0  0  0\\n    6.5640   -0.4054   -0.9366 H   0  0  0  0  0  0  0  0  0  0  0  0\\n    5.7061    1.5990    0.2301 H   0  0  0  0  0  0  0  0  0  0  0  0\\n  1  2  2  0\\n  2  3  1  0\\n  3  4  1  0\\n  4  5  1  0\\n  5  6  1  0\\n  6  7  1  0\\n  7  8  2  0\\n  7  9  1  0\\n  9 10  1  0\\n 10 11  2  0\\n 11 12  1  0\\n 12 13  2  0\\n 12 14  1  0\\n 14 15  1  0\\n 15 16  1  0\\n 16 17  1  0\\n 17 18  1  0\\n 18 19  2  0\\n 18 20  1  0\\n 20 21  1  0\\n 21 22  2  0\\n 22 23  1  0\\n 23 24  2  0\\n 24 25  1  0\\n 11 26  1  0\\n 26 27  2  0\\n 27 28  1  0\\n 22  2  1  0\\n 28  9  2  0\\n 25 20  2  0\\n  3 29  1  0\\n  4 30  1  0\\n  4 31  1  0\\n  5 32  1  0\\n  5 33  1  0\\n  6 34  1  0\\n 14 35  1  0\\n 15 36  1  0\\n 15 37  1  0\\n 16 38  1  0\\n 16 39  1  0\\n 17 40  1  0\\n 23 41  1  0\\n 24 42  1  0\\n 25 43  1  0\\n 26 44  1  0\\n 27 45  1  0\\n 28 46  1  0\\nM  END\\n58.07\\n\\n\",\"sdf\");\n",
       "\tviewer_14907064609003398.setStyle({\"stick\": {}});\n",
       "\tviewer_14907064609003398.setBackgroundColor(\"0xeeeeee\");\n",
       "\tviewer_14907064609003398.zoomTo();\n",
       "viewer_14907064609003398.render();\n",
       "});\n",
       "</script><script>$(\"#m1_r5\").append($(\"#3dmolviewer_14907064609003398\")); </script>"
      ],
      "text/plain": [
       "<IPython.core.display.HTML object>"
      ]
     },
     "execution_count": 142,
     "metadata": {},
     "output_type": "execute_result"
    }
   ],
   "source": [
    "p1_r_handles[4].insert('m1_r5')"
   ]
  },
  {
   "cell_type": "code",
   "execution_count": 143,
   "metadata": {
    "collapsed": false
   },
   "outputs": [
    {
     "data": {
      "text/html": [
       "<div id=\"3dmolviewer_14907064620837948\"  style=\"position: relative; width: 200px; height: 200px\">\n",
       "<script>\n",
       "if(typeof $3Dmolpromise === 'undefined') $3Dmolpromise = $.when($.getScript('http://3dmol.csb.pitt.edu/build/3Dmol.js'))\n",
       "var viewer_14907064620837948 = null;\n",
       "$3Dmolpromise.done(function() {\n",
       "viewer_14907064620837948 = $3Dmol.createViewer($(\"#3dmolviewer_14907064620837948\"),{backgroundColor:\"white\"});\n",
       "\tviewer_14907064620837948.addModel(\"\\n     RDKit          3D\\n\\n 46 48  0  0  0  0  0  0  0  0999 V2000\\n    3.4062   -2.7734   -1.2735 O   0  0  0  0  0  0  0  0  0  0  0  0\\n    2.7526   -1.9226   -0.6121 C   0  0  0  0  0  0  0  0  0  0  0  0\\n    1.3808   -2.1847   -0.2939 N   0  0  0  0  0  0  0  0  0  0  0  0\\n    0.9465   -2.2362    1.1034 C   0  0  0  0  0  0  0  0  0  0  0  0\\n   -0.5507   -1.9371    1.2441 C   0  0  0  0  0  0  0  0  0  0  0  0\\n   -1.3698   -2.8681    0.4671 N   0  0  0  0  0  0  0  0  0  0  0  0\\n   -2.7855   -2.6846    0.3284 C   0  0  0  0  0  0  0  0  0  0  0  0\\n   -3.5359   -3.6973    0.3304 O   0  0  0  0  0  0  0  0  0  0  0  0\\n   -3.3851   -1.3434    0.1714 C   0  0  0  0  0  0  0  0  0  0  0  0\\n   -2.7614   -0.3973   -0.5875 N   0  0  0  0  0  0  0  0  0  0  0  0\\n   -3.2867    0.8448   -0.7891 C   0  0  0  0  0  0  0  0  0  0  0  0\\n   -2.6131    1.8238   -1.6837 C   0  0  0  0  0  0  0  0  0  0  0  0\\n   -3.2907    2.7761   -2.1572 O   0  0  0  0  0  0  0  0  0  0  0  0\\n   -1.2288    1.7243   -2.0656 N   0  0  0  0  0  0  0  0  0  0  0  0\\n   -0.1842    1.0526   -1.2930 C   0  0  0  0  0  0  0  0  0  0  0  0\\n    0.0293    1.7341    0.0678 C   0  0  0  0  0  0  0  0  0  0  0  0\\n    0.9141    2.8884   -0.0764 N   0  0  0  0  0  0  0  0  0  0  0  0\\n    2.3143    2.8996    0.2631 C   0  0  0  0  0  0  0  0  0  0  0  0\\n    2.8465    4.0082    0.5419 O   0  0  0  0  0  0  0  0  0  0  0  0\\n    3.1693    1.6789    0.2381 C   0  0  0  0  0  0  0  0  0  0  0  0\\n    2.6467    0.4709   -0.1110 N   0  0  0  0  0  0  0  0  0  0  0  0\\n    3.3952   -0.6608   -0.2037 C   0  0  0  0  0  0  0  0  0  0  0  0\\n    4.7712   -0.5977    0.0506 C   0  0  0  0  0  0  0  0  0  0  0  0\\n    5.3401    0.6201    0.4240 C   0  0  0  0  0  0  0  0  0  0  0  0\\n    4.5440    1.7632    0.5208 C   0  0  0  0  0  0  0  0  0  0  0  0\\n   -4.5224    1.1640   -0.2008 C   0  0  0  0  0  0  0  0  0  0  0  0\\n   -5.1864    0.2114    0.5718 C   0  0  0  0  0  0  0  0  0  0  0  0\\n   -4.6256   -1.0515    0.7534 C   0  0  0  0  0  0  0  0  0  0  0  0\\n    0.8465   -2.7585   -0.9844 H   0  0  0  0  0  0  0  0  0  0  0  0\\n    1.1630   -3.2458    1.5146 H   0  0  0  0  0  0  0  0  0  0  0  0\\n    1.5106   -1.4930    1.7079 H   0  0  0  0  0  0  0  0  0  0  0  0\\n   -0.8341   -2.0165    2.3155 H   0  0  0  0  0  0  0  0  0  0  0  0\\n   -0.7468   -0.8999    0.9285 H   0  0  0  0  0  0  0  0  0  0  0  0\\n   -0.9919   -3.8257    0.2836 H   0  0  0  0  0  0  0  0  0  0  0  0\\n   -0.9214    2.2728   -2.9007 H   0  0  0  0  0  0  0  0  0  0  0  0\\n   -0.4229   -0.0195   -1.1754 H   0  0  0  0  0  0  0  0  0  0  0  0\\n    0.7638    1.0818   -1.8726 H   0  0  0  0  0  0  0  0  0  0  0  0\\n    0.4488    1.0244    0.8067 H   0  0  0  0  0  0  0  0  0  0  0  0\\n   -0.9406    2.0661    0.4954 H   0  0  0  0  0  0  0  0  0  0  0  0\\n    0.4604    3.8065   -0.2858 H   0  0  0  0  0  0  0  0  0  0  0  0\\n    5.3935   -1.4807   -0.0255 H   0  0  0  0  0  0  0  0  0  0  0  0\\n    6.4006    0.6802    0.6322 H   0  0  0  0  0  0  0  0  0  0  0  0\\n    5.0031    2.7035    0.7991 H   0  0  0  0  0  0  0  0  0  0  0  0\\n   -4.9748    2.1377   -0.3421 H   0  0  0  0  0  0  0  0  0  0  0  0\\n   -6.1405    0.4500    1.0237 H   0  0  0  0  0  0  0  0  0  0  0  0\\n   -5.1478   -1.7891    1.3503 H   0  0  0  0  0  0  0  0  0  0  0  0\\n  1  2  2  0\\n  2  3  1  0\\n  3  4  1  0\\n  4  5  1  0\\n  5  6  1  0\\n  6  7  1  0\\n  7  8  2  0\\n  7  9  1  0\\n  9 10  1  0\\n 10 11  2  0\\n 11 12  1  0\\n 12 13  2  0\\n 12 14  1  0\\n 14 15  1  0\\n 15 16  1  0\\n 16 17  1  0\\n 17 18  1  0\\n 18 19  2  0\\n 18 20  1  0\\n 20 21  1  0\\n 21 22  2  0\\n 22 23  1  0\\n 23 24  2  0\\n 24 25  1  0\\n 11 26  1  0\\n 26 27  2  0\\n 27 28  1  0\\n 22  2  1  0\\n 28  9  2  0\\n 25 20  2  0\\n  3 29  1  0\\n  4 30  1  0\\n  4 31  1  0\\n  5 32  1  0\\n  5 33  1  0\\n  6 34  1  0\\n 14 35  1  0\\n 15 36  1  0\\n 15 37  1  0\\n 16 38  1  0\\n 16 39  1  0\\n 17 40  1  0\\n 23 41  1  0\\n 24 42  1  0\\n 25 43  1  0\\n 26 44  1  0\\n 27 45  1  0\\n 28 46  1  0\\nM  END\\n59.80\\n\\n\",\"sdf\");\n",
       "\tviewer_14907064620837948.setStyle({\"stick\": {}});\n",
       "\tviewer_14907064620837948.setBackgroundColor(\"0xeeeeee\");\n",
       "\tviewer_14907064620837948.zoomTo();\n",
       "viewer_14907064620837948.render();\n",
       "});\n",
       "</script><script>$(\"#m1_r6\").append($(\"#3dmolviewer_14907064620837948\")); </script>"
      ],
      "text/plain": [
       "<IPython.core.display.HTML object>"
      ]
     },
     "execution_count": 143,
     "metadata": {},
     "output_type": "execute_result"
    }
   ],
   "source": [
    "p1_r_handles[5].insert('m1_r6')"
   ]
  },
  {
   "cell_type": "code",
   "execution_count": 144,
   "metadata": {
    "collapsed": false
   },
   "outputs": [
    {
     "data": {
      "text/html": [
       "<div id=\"3dmolviewer_14907064631417968\"  style=\"position: relative; width: 200px; height: 200px\">\n",
       "<script>\n",
       "if(typeof $3Dmolpromise === 'undefined') $3Dmolpromise = $.when($.getScript('http://3dmol.csb.pitt.edu/build/3Dmol.js'))\n",
       "var viewer_14907064631417968 = null;\n",
       "$3Dmolpromise.done(function() {\n",
       "viewer_14907064631417968 = $3Dmol.createViewer($(\"#3dmolviewer_14907064631417968\"),{backgroundColor:\"white\"});\n",
       "\tviewer_14907064631417968.addModel(\"\\n     RDKit          3D\\n\\n 46 48  0  0  0  0  0  0  0  0999 V2000\\n   -3.7017    3.4568    0.8614 O   0  0  0  0  0  0  0  0  0  0  0  0\\n   -2.9258    2.4835    0.6617 C   0  0  0  0  0  0  0  0  0  0  0  0\\n   -1.5336    2.6284    0.9647 N   0  0  0  0  0  0  0  0  0  0  0  0\\n   -0.5338    2.5046   -0.0956 C   0  0  0  0  0  0  0  0  0  0  0  0\\n    0.8735    2.3475    0.4966 C   0  0  0  0  0  0  0  0  0  0  0  0\\n    1.8945    2.5025   -0.5392 N   0  0  0  0  0  0  0  0  0  0  0  0\\n    3.2495    2.1228   -0.2739 C   0  0  0  0  0  0  0  0  0  0  0  0\\n    4.1522    3.0020   -0.3112 O   0  0  0  0  0  0  0  0  0  0  0  0\\n    3.6057    0.7172   -0.0010 C   0  0  0  0  0  0  0  0  0  0  0  0\\n    2.8131   -0.2819   -0.4763 N   0  0  0  0  0  0  0  0  0  0  0  0\\n    3.1036   -1.6009   -0.3014 C   0  0  0  0  0  0  0  0  0  0  0  0\\n    2.2333   -2.6515   -0.8920 C   0  0  0  0  0  0  0  0  0  0  0  0\\n    2.7000   -3.8134   -1.0403 O   0  0  0  0  0  0  0  0  0  0  0  0\\n    0.8836   -2.4007   -1.3283 N   0  0  0  0  0  0  0  0  0  0  0  0\\n    0.0370   -1.3011   -0.8635 C   0  0  0  0  0  0  0  0  0  0  0  0\\n   -0.2297   -1.4093    0.6452 C   0  0  0  0  0  0  0  0  0  0  0  0\\n   -1.2284   -2.4403    0.9306 N   0  0  0  0  0  0  0  0  0  0  0  0\\n   -2.5935   -2.4230    0.4716 C   0  0  0  0  0  0  0  0  0  0  0  0\\n   -3.2211   -3.5158    0.4311 O   0  0  0  0  0  0  0  0  0  0  0  0\\n   -3.2988   -1.1774    0.0699 C   0  0  0  0  0  0  0  0  0  0  0  0\\n   -2.8296    0.0408    0.4585 N   0  0  0  0  0  0  0  0  0  0  0  0\\n   -3.4679    1.2056    0.1612 C   0  0  0  0  0  0  0  0  0  0  0  0\\n   -4.6670    1.1660   -0.5640 C   0  0  0  0  0  0  0  0  0  0  0  0\\n   -5.1723   -0.0647   -0.9829 C   0  0  0  0  0  0  0  0  0  0  0  0\\n   -4.4942   -1.2421   -0.6650 C   0  0  0  0  0  0  0  0  0  0  0  0\\n    4.2724   -1.9525    0.3941 C   0  0  0  0  0  0  0  0  0  0  0  0\\n    5.1064   -0.9500    0.8912 C   0  0  0  0  0  0  0  0  0  0  0  0\\n    4.7816    0.3914    0.6892 C   0  0  0  0  0  0  0  0  0  0  0  0\\n   -1.3014    3.2644    1.7613 H   0  0  0  0  0  0  0  0  0  0  0  0\\n   -0.5736    3.4218   -0.7222 H   0  0  0  0  0  0  0  0  0  0  0  0\\n   -0.7667    1.6341   -0.7432 H   0  0  0  0  0  0  0  0  0  0  0  0\\n    1.0407    3.1260    1.2722 H   0  0  0  0  0  0  0  0  0  0  0  0\\n    0.9669    1.3537    0.9806 H   0  0  0  0  0  0  0  0  0  0  0  0\\n    1.7625    3.2841   -1.2209 H   0  0  0  0  0  0  0  0  0  0  0  0\\n    0.4365   -3.1161   -1.9455 H   0  0  0  0  0  0  0  0  0  0  0  0\\n    0.4974   -0.3291   -1.1157 H   0  0  0  0  0  0  0  0  0  0  0  0\\n   -0.9236   -1.3215   -1.4200 H   0  0  0  0  0  0  0  0  0  0  0  0\\n    0.7121   -1.6574    1.1786 H   0  0  0  0  0  0  0  0  0  0  0  0\\n   -0.5524   -0.4381    1.0610 H   0  0  0  0  0  0  0  0  0  0  0  0\\n   -0.8947   -3.3034    1.4168 H   0  0  0  0  0  0  0  0  0  0  0  0\\n   -5.2027    2.0751   -0.8073 H   0  0  0  0  0  0  0  0  0  0  0  0\\n   -6.0949   -0.1069   -1.5474 H   0  0  0  0  0  0  0  0  0  0  0  0\\n   -4.9016   -2.1919   -0.9885 H   0  0  0  0  0  0  0  0  0  0  0  0\\n    4.5401   -2.9901    0.5501 H   0  0  0  0  0  0  0  0  0  0  0  0\\n    6.0094   -1.2133    1.4267 H   0  0  0  0  0  0  0  0  0  0  0  0\\n    5.4373    1.1640    1.0712 H   0  0  0  0  0  0  0  0  0  0  0  0\\n  1  2  2  0\\n  2  3  1  0\\n  3  4  1  0\\n  4  5  1  0\\n  5  6  1  0\\n  6  7  1  0\\n  7  8  2  0\\n  7  9  1  0\\n  9 10  1  0\\n 10 11  2  0\\n 11 12  1  0\\n 12 13  2  0\\n 12 14  1  0\\n 14 15  1  0\\n 15 16  1  0\\n 16 17  1  0\\n 17 18  1  0\\n 18 19  2  0\\n 18 20  1  0\\n 20 21  1  0\\n 21 22  2  0\\n 22 23  1  0\\n 23 24  2  0\\n 24 25  1  0\\n 11 26  1  0\\n 26 27  2  0\\n 27 28  1  0\\n 22  2  1  0\\n 28  9  2  0\\n 25 20  2  0\\n  3 29  1  0\\n  4 30  1  0\\n  4 31  1  0\\n  5 32  1  0\\n  5 33  1  0\\n  6 34  1  0\\n 14 35  1  0\\n 15 36  1  0\\n 15 37  1  0\\n 16 38  1  0\\n 16 39  1  0\\n 17 40  1  0\\n 23 41  1  0\\n 24 42  1  0\\n 25 43  1  0\\n 26 44  1  0\\n 27 45  1  0\\n 28 46  1  0\\nM  END\\n58.93\\n\\n\",\"sdf\");\n",
       "\tviewer_14907064631417968.setStyle({\"stick\": {}});\n",
       "\tviewer_14907064631417968.setBackgroundColor(\"0xeeeeee\");\n",
       "\tviewer_14907064631417968.zoomTo();\n",
       "viewer_14907064631417968.render();\n",
       "});\n",
       "</script><script>$(\"#m1_r7\").append($(\"#3dmolviewer_14907064631417968\")); </script>"
      ],
      "text/plain": [
       "<IPython.core.display.HTML object>"
      ]
     },
     "execution_count": 144,
     "metadata": {},
     "output_type": "execute_result"
    }
   ],
   "source": [
    "p1_r_handles[6].insert('m1_r7')"
   ]
  },
  {
   "cell_type": "code",
   "execution_count": 145,
   "metadata": {
    "collapsed": false
   },
   "outputs": [
    {
     "data": {
      "text/html": [
       "<div id=\"3dmolviewer_149070646613354\"  style=\"position: relative; width: 200px; height: 200px\">\n",
       "<script>\n",
       "if(typeof $3Dmolpromise === 'undefined') $3Dmolpromise = $.when($.getScript('http://3dmol.csb.pitt.edu/build/3Dmol.js'))\n",
       "var viewer_149070646613354 = null;\n",
       "$3Dmolpromise.done(function() {\n",
       "viewer_149070646613354 = $3Dmol.createViewer($(\"#3dmolviewer_149070646613354\"),{backgroundColor:\"white\"});\n",
       "\tviewer_149070646613354.addModel(\"\\n     RDKit          3D\\n\\n 46 48  0  0  0  0  0  0  0  0999 V2000\\n    3.5019   -2.9983    1.8298 O   0  0  0  0  0  0  0  0  0  0  0  0\\n    2.8920   -2.1483    1.1263 C   0  0  0  0  0  0  0  0  0  0  0  0\\n    1.4866   -2.3215    0.8970 N   0  0  0  0  0  0  0  0  0  0  0  0\\n    0.8898   -2.1520   -0.4280 C   0  0  0  0  0  0  0  0  0  0  0  0\\n   -0.5615   -1.6731   -0.3102 C   0  0  0  0  0  0  0  0  0  0  0  0\\n   -1.4632   -2.7487    0.0980 N   0  0  0  0  0  0  0  0  0  0  0  0\\n   -2.8749   -2.5848    0.3368 C   0  0  0  0  0  0  0  0  0  0  0  0\\n   -3.5168   -3.5847    0.7596 O   0  0  0  0  0  0  0  0  0  0  0  0\\n   -3.6170   -1.3093    0.1026 C   0  0  0  0  0  0  0  0  0  0  0  0\\n   -2.9814   -0.1905   -0.3506 N   0  0  0  0  0  0  0  0  0  0  0  0\\n   -3.6324    0.9824   -0.5946 C   0  0  0  0  0  0  0  0  0  0  0  0\\n   -2.8920    2.1483   -1.1263 C   0  0  0  0  0  0  0  0  0  0  0  0\\n   -3.5019    2.9983   -1.8298 O   0  0  0  0  0  0  0  0  0  0  0  0\\n   -1.4866    2.3215   -0.8970 N   0  0  0  0  0  0  0  0  0  0  0  0\\n   -0.8898    2.1520    0.4280 C   0  0  0  0  0  0  0  0  0  0  0  0\\n    0.5615    1.6731    0.3102 C   0  0  0  0  0  0  0  0  0  0  0  0\\n    1.4632    2.7487   -0.0980 N   0  0  0  0  0  0  0  0  0  0  0  0\\n    2.8749    2.5848   -0.3368 C   0  0  0  0  0  0  0  0  0  0  0  0\\n    3.5168    3.5847   -0.7596 O   0  0  0  0  0  0  0  0  0  0  0  0\\n    3.6170    1.3093   -0.1026 C   0  0  0  0  0  0  0  0  0  0  0  0\\n    2.9814    0.1905    0.3506 N   0  0  0  0  0  0  0  0  0  0  0  0\\n    3.6324   -0.9824    0.5946 C   0  0  0  0  0  0  0  0  0  0  0  0\\n    5.0168   -1.0537    0.3877 C   0  0  0  0  0  0  0  0  0  0  0  0\\n    5.6973    0.0671   -0.0838 C   0  0  0  0  0  0  0  0  0  0  0  0\\n    5.0036    1.2513   -0.3313 C   0  0  0  0  0  0  0  0  0  0  0  0\\n   -5.0168    1.0537   -0.3877 C   0  0  0  0  0  0  0  0  0  0  0  0\\n   -5.6973   -0.0671    0.0838 C   0  0  0  0  0  0  0  0  0  0  0  0\\n   -5.0036   -1.2513    0.3313 C   0  0  0  0  0  0  0  0  0  0  0  0\\n    0.9695   -2.9252    1.5759 H   0  0  0  0  0  0  0  0  0  0  0  0\\n    0.9333   -3.1151   -0.9808 H   0  0  0  0  0  0  0  0  0  0  0  0\\n    1.4608   -1.4078   -1.0207 H   0  0  0  0  0  0  0  0  0  0  0  0\\n   -0.8797   -1.2867   -1.3021 H   0  0  0  0  0  0  0  0  0  0  0  0\\n   -0.6117   -0.8634    0.4445 H   0  0  0  0  0  0  0  0  0  0  0  0\\n   -1.0655   -3.7028    0.2577 H   0  0  0  0  0  0  0  0  0  0  0  0\\n   -0.9695    2.9252   -1.5759 H   0  0  0  0  0  0  0  0  0  0  0  0\\n   -0.9333    3.1151    0.9808 H   0  0  0  0  0  0  0  0  0  0  0  0\\n   -1.4608    1.4078    1.0207 H   0  0  0  0  0  0  0  0  0  0  0  0\\n    0.6117    0.8634   -0.4445 H   0  0  0  0  0  0  0  0  0  0  0  0\\n    0.8797    1.2867    1.3021 H   0  0  0  0  0  0  0  0  0  0  0  0\\n    1.0655    3.7028   -0.2577 H   0  0  0  0  0  0  0  0  0  0  0  0\\n    5.5642   -1.9681    0.5806 H   0  0  0  0  0  0  0  0  0  0  0  0\\n    6.7653    0.0199   -0.2533 H   0  0  0  0  0  0  0  0  0  0  0  0\\n    5.5506    2.1137   -0.6909 H   0  0  0  0  0  0  0  0  0  0  0  0\\n   -5.5642    1.9681   -0.5806 H   0  0  0  0  0  0  0  0  0  0  0  0\\n   -6.7653   -0.0199    0.2533 H   0  0  0  0  0  0  0  0  0  0  0  0\\n   -5.5506   -2.1137    0.6908 H   0  0  0  0  0  0  0  0  0  0  0  0\\n  1  2  2  0\\n  2  3  1  0\\n  3  4  1  0\\n  4  5  1  0\\n  5  6  1  0\\n  6  7  1  0\\n  7  8  2  0\\n  7  9  1  0\\n  9 10  1  0\\n 10 11  2  0\\n 11 12  1  0\\n 12 13  2  0\\n 12 14  1  0\\n 14 15  1  0\\n 15 16  1  0\\n 16 17  1  0\\n 17 18  1  0\\n 18 19  2  0\\n 18 20  1  0\\n 20 21  1  0\\n 21 22  2  0\\n 22 23  1  0\\n 23 24  2  0\\n 24 25  1  0\\n 11 26  1  0\\n 26 27  2  0\\n 27 28  1  0\\n 22  2  1  0\\n 28  9  2  0\\n 25 20  2  0\\n  3 29  1  0\\n  4 30  1  0\\n  4 31  1  0\\n  5 32  1  0\\n  5 33  1  0\\n  6 34  1  0\\n 14 35  1  0\\n 15 36  1  0\\n 15 37  1  0\\n 16 38  1  0\\n 16 39  1  0\\n 17 40  1  0\\n 23 41  1  0\\n 24 42  1  0\\n 25 43  1  0\\n 26 44  1  0\\n 27 45  1  0\\n 28 46  1  0\\nM  END\\n56.52\\n\\n\",\"sdf\");\n",
       "\tviewer_149070646613354.setStyle({\"stick\": {}});\n",
       "\tviewer_149070646613354.setBackgroundColor(\"0xeeeeee\");\n",
       "\tviewer_149070646613354.zoomTo();\n",
       "viewer_149070646613354.render();\n",
       "});\n",
       "</script><script>$(\"#m1_r8\").append($(\"#3dmolviewer_149070646613354\")); </script>"
      ],
      "text/plain": [
       "<IPython.core.display.HTML object>"
      ]
     },
     "execution_count": 145,
     "metadata": {},
     "output_type": "execute_result"
    }
   ],
   "source": [
    "p1_r_handles[7].insert('m1_r8')"
   ]
  },
  {
   "cell_type": "code",
   "execution_count": 146,
   "metadata": {
    "collapsed": false
   },
   "outputs": [
    {
     "data": {
      "text/html": [
       "<div id=\"3dmolviewer_14907064680303478\"  style=\"position: relative; width: 200px; height: 200px\">\n",
       "<script>\n",
       "if(typeof $3Dmolpromise === 'undefined') $3Dmolpromise = $.when($.getScript('http://3dmol.csb.pitt.edu/build/3Dmol.js'))\n",
       "var viewer_14907064680303478 = null;\n",
       "$3Dmolpromise.done(function() {\n",
       "viewer_14907064680303478 = $3Dmol.createViewer($(\"#3dmolviewer_14907064680303478\"),{backgroundColor:\"white\"});\n",
       "\tviewer_14907064680303478.addModel(\"\\n     RDKit          3D\\n\\n 46 48  0  0  0  0  0  0  0  0999 V2000\\n    3.3859    1.3534    3.3557 O   0  0  0  0  0  0  0  0  0  0  0  0\\n    2.8147    1.1257    2.2550 C   0  0  0  0  0  0  0  0  0  0  0  0\\n    1.5016    1.6629    2.0376 N   0  0  0  0  0  0  0  0  0  0  0  0\\n    1.0966    2.2952    0.7819 C   0  0  0  0  0  0  0  0  0  0  0  0\\n   -0.3691    1.9720    0.4836 C   0  0  0  0  0  0  0  0  0  0  0  0\\n   -0.7652    2.4853   -0.8290 N   0  0  0  0  0  0  0  0  0  0  0  0\\n   -2.1205    2.4769   -1.3082 C   0  0  0  0  0  0  0  0  0  0  0  0\\n   -2.4465    3.3108   -2.1960 O   0  0  0  0  0  0  0  0  0  0  0  0\\n   -3.1401    1.5165   -0.8186 C   0  0  0  0  0  0  0  0  0  0  0  0\\n   -2.7630    0.3321   -0.2613 N   0  0  0  0  0  0  0  0  0  0  0  0\\n   -3.6596   -0.6049    0.1565 C   0  0  0  0  0  0  0  0  0  0  0  0\\n   -3.1868   -1.8628    0.7808 C   0  0  0  0  0  0  0  0  0  0  0  0\\n   -3.9802   -2.5318    1.4969 O   0  0  0  0  0  0  0  0  0  0  0  0\\n   -1.8335   -2.3214    0.6417 N   0  0  0  0  0  0  0  0  0  0  0  0\\n   -1.1184   -2.3223   -0.6349 C   0  0  0  0  0  0  0  0  0  0  0  0\\n    0.3684   -2.0423   -0.4018 C   0  0  0  0  0  0  0  0  0  0  0  0\\n    1.0721   -1.8472   -1.6711 N   0  0  0  0  0  0  0  0  0  0  0  0\\n    2.4984   -1.7034   -1.7702 C   0  0  0  0  0  0  0  0  0  0  0  0\\n    3.0630   -2.0508   -2.8427 O   0  0  0  0  0  0  0  0  0  0  0  0\\n    3.3239   -1.1377   -0.6758 C   0  0  0  0  0  0  0  0  0  0  0  0\\n    2.7650   -0.3159    0.2557 N   0  0  0  0  0  0  0  0  0  0  0  0\\n    3.4879    0.2683    1.2518 C   0  0  0  0  0  0  0  0  0  0  0  0\\n    4.8651    0.0120    1.3375 C   0  0  0  0  0  0  0  0  0  0  0  0\\n    5.4688   -0.8183    0.3935 C   0  0  0  0  0  0  0  0  0  0  0  0\\n    4.7032   -1.3926   -0.6210 C   0  0  0  0  0  0  0  0  0  0  0  0\\n   -5.0322   -0.3440    0.0244 C   0  0  0  0  0  0  0  0  0  0  0  0\\n   -5.4507    0.8567   -0.5484 C   0  0  0  0  0  0  0  0  0  0  0  0\\n   -4.5077    1.7900   -0.9784 C   0  0  0  0  0  0  0  0  0  0  0  0\\n    0.9437    1.9077    2.8873 H   0  0  0  0  0  0  0  0  0  0  0  0\\n    1.2214    3.3955    0.8748 H   0  0  0  0  0  0  0  0  0  0  0  0\\n    1.7310    1.9537   -0.0615 H   0  0  0  0  0  0  0  0  0  0  0  0\\n   -0.4916    0.8751    0.5071 H   0  0  0  0  0  0  0  0  0  0  0  0\\n   -1.0151    2.4232    1.2678 H   0  0  0  0  0  0  0  0  0  0  0  0\\n   -0.0670    3.0245   -1.3910 H   0  0  0  0  0  0  0  0  0  0  0  0\\n   -1.4784   -2.9738    1.3776 H   0  0  0  0  0  0  0  0  0  0  0  0\\n   -1.2363   -3.3171   -1.1157 H   0  0  0  0  0  0  0  0  0  0  0  0\\n   -1.5345   -1.5625   -1.3269 H   0  0  0  0  0  0  0  0  0  0  0  0\\n    0.4553   -1.1342    0.2199 H   0  0  0  0  0  0  0  0  0  0  0  0\\n    0.8248   -2.8941    0.1475 H   0  0  0  0  0  0  0  0  0  0  0  0\\n    0.5463   -1.9828   -2.5651 H   0  0  0  0  0  0  0  0  0  0  0  0\\n    5.4689    0.4537    2.1204 H   0  0  0  0  0  0  0  0  0  0  0  0\\n    6.5317   -1.0157    0.4472 H   0  0  0  0  0  0  0  0  0  0  0  0\\n    5.1826   -2.0335   -1.3505 H   0  0  0  0  0  0  0  0  0  0  0  0\\n   -5.7727   -1.0628    0.3525 H   0  0  0  0  0  0  0  0  0  0  0  0\\n   -6.5072    1.0632   -0.6615 H   0  0  0  0  0  0  0  0  0  0  0  0\\n   -4.8440    2.7175   -1.4249 H   0  0  0  0  0  0  0  0  0  0  0  0\\n  1  2  2  0\\n  2  3  1  0\\n  3  4  1  0\\n  4  5  1  0\\n  5  6  1  0\\n  6  7  1  0\\n  7  8  2  0\\n  7  9  1  0\\n  9 10  1  0\\n 10 11  2  0\\n 11 12  1  0\\n 12 13  2  0\\n 12 14  1  0\\n 14 15  1  0\\n 15 16  1  0\\n 16 17  1  0\\n 17 18  1  0\\n 18 19  2  0\\n 18 20  1  0\\n 20 21  1  0\\n 21 22  2  0\\n 22 23  1  0\\n 23 24  2  0\\n 24 25  1  0\\n 11 26  1  0\\n 26 27  2  0\\n 27 28  1  0\\n 22  2  1  0\\n 28  9  2  0\\n 25 20  2  0\\n  3 29  1  0\\n  4 30  1  0\\n  4 31  1  0\\n  5 32  1  0\\n  5 33  1  0\\n  6 34  1  0\\n 14 35  1  0\\n 15 36  1  0\\n 15 37  1  0\\n 16 38  1  0\\n 16 39  1  0\\n 17 40  1  0\\n 23 41  1  0\\n 24 42  1  0\\n 25 43  1  0\\n 26 44  1  0\\n 27 45  1  0\\n 28 46  1  0\\nM  END\\n55.17\\n\\n\",\"sdf\");\n",
       "\tviewer_14907064680303478.setStyle({\"stick\": {}});\n",
       "\tviewer_14907064680303478.setBackgroundColor(\"0xeeeeee\");\n",
       "\tviewer_14907064680303478.zoomTo();\n",
       "viewer_14907064680303478.render();\n",
       "});\n",
       "</script><script>$(\"#m1_r9\").append($(\"#3dmolviewer_14907064680303478\")); </script>"
      ],
      "text/plain": [
       "<IPython.core.display.HTML object>"
      ]
     },
     "execution_count": 146,
     "metadata": {},
     "output_type": "execute_result"
    }
   ],
   "source": [
    "p1_r_handles[8].insert('m1_r9')"
   ]
  },
  {
   "cell_type": "markdown",
   "metadata": {},
   "source": [
    "We can now align all these structures:"
   ]
  },
  {
   "cell_type": "code",
   "execution_count": 33,
   "metadata": {
    "collapsed": false
   },
   "outputs": [],
   "source": [
    "# align:\n",
    "for mol in allmol_m1_rdkit:\n",
    "    AllChem.AlignMolConformers(mol,atomIds=core_m1)"
   ]
  },
  {
   "cell_type": "code",
   "execution_count": 147,
   "metadata": {
    "collapsed": false
   },
   "outputs": [
    {
     "data": {
      "text/html": [
       "<div id=\"3dmolviewer_14907064790736072\"  style=\"position: relative; width: 400px; height: 400px\">\n",
       "<script>\n",
       "if(typeof $3Dmolpromise === 'undefined') $3Dmolpromise = $.when($.getScript('http://3dmol.csb.pitt.edu/build/3Dmol.js'))\n",
       "var viewer_14907064790736072 = null;\n",
       "$3Dmolpromise.done(function() {\n",
       "viewer_14907064790736072 = $3Dmol.createViewer($(\"#3dmolviewer_14907064790736072\"),{backgroundColor:\"white\"});\n",
       "\tviewer_14907064790736072.removeAllModels();\n",
       "\tviewer_14907064790736072.addModel(\"\\n     RDKit          3D\\n\\n 28 30  0  0  0  0  0  0  0  0999 V2000\\n   -2.7277   -3.6810   -1.3871 O   0  0  0  0  0  0  0  0  0  0  0  0\\n   -2.2310   -2.5422   -1.1720 C   0  0  0  0  0  0  0  0  0  0  0  0\\n   -0.8311   -2.3481   -1.4507 N   0  0  0  0  0  0  0  0  0  0  0  0\\n    0.0044   -1.2911   -0.8792 C   0  0  0  0  0  0  0  0  0  0  0  0\\n    0.0943   -1.4234    0.6483 C   0  0  0  0  0  0  0  0  0  0  0  0\\n    1.0090   -2.5000    1.0305 N   0  0  0  0  0  0  0  0  0  0  0  0\\n    2.4167   -2.5396    0.7280 C   0  0  0  0  0  0  0  0  0  0  0  0\\n    2.9970   -3.6589    0.7438 O   0  0  0  0  0  0  0  0  0  0  0  0\\n    3.2159   -1.3234    0.4244 C   0  0  0  0  0  0  0  0  0  0  0  0\\n    2.7589   -0.0887    0.7738 N   0  0  0  0  0  0  0  0  0  0  0  0\\n    3.4764    1.0490    0.5655 C   0  0  0  0  0  0  0  0  0  0  0  0\\n    2.9371    2.3455    1.0188 C   0  0  0  0  0  0  0  0  0  0  0  0\\n    3.7269    3.2817    1.3170 O   0  0  0  0  0  0  0  0  0  0  0  0\\n    1.5272    2.5497    1.1654 N   0  0  0  0  0  0  0  0  0  0  0  0\\n    0.6489    2.4791   -0.0021 C   0  0  0  0  0  0  0  0  0  0  0  0\\n   -0.8216    2.3799    0.4262 C   0  0  0  0  0  0  0  0  0  0  0  0\\n   -1.7117    2.5886   -0.7156 N   0  0  0  0  0  0  0  0  0  0  0  0\\n   -3.1031    2.2673   -0.6092 C   0  0  0  0  0  0  0  0  0  0  0  0\\n   -3.9569    3.1859   -0.7359 O   0  0  0  0  0  0  0  0  0  0  0  0\\n   -3.5482    0.8767   -0.3964 C   0  0  0  0  0  0  0  0  0  0  0  0\\n   -2.7510   -0.1527   -0.7929 N   0  0  0  0  0  0  0  0  0  0  0  0\\n   -3.1161   -1.4589   -0.6691 C   0  0  0  0  0  0  0  0  0  0  0  0\\n   -4.3700   -1.7639   -0.1140 C   0  0  0  0  0  0  0  0  0  0  0  0\\n   -5.2105   -0.7295    0.2995 C   0  0  0  0  0  0  0  0  0  0  0  0\\n   -4.8074    0.5978    0.1530 C   0  0  0  0  0  0  0  0  0  0  0  0\\n    4.7468    0.9621   -0.0209 C   0  0  0  0  0  0  0  0  0  0  0  0\\n    5.2425   -0.2863   -0.3965 C   0  0  0  0  0  0  0  0  0  0  0  0\\n    4.4827   -1.4351   -0.1724 C   0  0  0  0  0  0  0  0  0  0  0  0\\n  1  2  2  0\\n  2  3  1  0\\n  3  4  1  0\\n  4  5  1  0\\n  5  6  1  0\\n  6  7  1  0\\n  7  8  2  0\\n  7  9  1  0\\n  9 10  1  0\\n 10 11  2  0\\n 11 12  1  0\\n 12 13  2  0\\n 12 14  1  0\\n 14 15  1  0\\n 15 16  1  0\\n 16 17  1  0\\n 17 18  1  0\\n 18 19  2  0\\n 18 20  1  0\\n 20 21  1  0\\n 21 22  2  0\\n 22 23  1  0\\n 23 24  2  0\\n 24 25  1  0\\n 11 26  1  0\\n 26 27  2  0\\n 27 28  1  0\\n 22  2  1  0\\n 28  9  2  0\\n 25 20  2  0\\nM  END\\n\",\"sdf\");\n",
       "\tviewer_14907064790736072.addModel(\"\\n     RDKit          3D\\n\\n 28 30  0  0  0  0  0  0  0  0999 V2000\\n    3.9390   -3.2867   -0.1587 O   0  0  0  0  0  0  0  0  0  0  0  0\\n    3.1610   -2.2968   -0.2232 C   0  0  0  0  0  0  0  0  0  0  0  0\\n    1.7496   -2.5136   -0.1207 N   0  0  0  0  0  0  0  0  0  0  0  0\\n    0.8265   -1.9568   -1.1090 C   0  0  0  0  0  0  0  0  0  0  0  0\\n   -0.5133   -1.5909   -0.4655 C   0  0  0  0  0  0  0  0  0  0  0  0\\n   -1.2498   -2.7792   -0.0275 N   0  0  0  0  0  0  0  0  0  0  0  0\\n   -2.4797   -2.7512    0.7224 C   0  0  0  0  0  0  0  0  0  0  0  0\\n   -2.8582   -3.8202    1.2742 O   0  0  0  0  0  0  0  0  0  0  0  0\\n   -3.3401   -1.5414    0.8442 C   0  0  0  0  0  0  0  0  0  0  0  0\\n   -3.0024   -0.3814    0.2176 N   0  0  0  0  0  0  0  0  0  0  0  0\\n   -3.7841    0.7314    0.2488 C   0  0  0  0  0  0  0  0  0  0  0  0\\n   -3.3623    1.9345   -0.4919 C   0  0  0  0  0  0  0  0  0  0  0  0\\n   -4.2322    2.7220   -0.9524 O   0  0  0  0  0  0  0  0  0  0  0  0\\n   -1.9756    2.2082   -0.7279 N   0  0  0  0  0  0  0  0  0  0  0  0\\n   -1.0286    2.2518    0.3858 C   0  0  0  0  0  0  0  0  0  0  0  0\\n    0.4156    2.1533   -0.1174 C   0  0  0  0  0  0  0  0  0  0  0  0\\n    1.3586    2.3957    0.9744 N   0  0  0  0  0  0  0  0  0  0  0  0\\n    2.7633    2.5022    0.7267 C   0  0  0  0  0  0  0  0  0  0  0  0\\n    3.3726    3.5371    1.1097 O   0  0  0  0  0  0  0  0  0  0  0  0\\n    3.5163    1.4009    0.0930 C   0  0  0  0  0  0  0  0  0  0  0  0\\n    3.0191    0.1322    0.1246 N   0  0  0  0  0  0  0  0  0  0  0  0\\n    3.7178   -0.9358   -0.3552 C   0  0  0  0  0  0  0  0  0  0  0  0\\n    4.9926   -0.7351   -0.9052 C   0  0  0  0  0  0  0  0  0  0  0  0\\n    5.5191    0.5546   -0.9631 C   0  0  0  0  0  0  0  0  0  0  0  0\\n    4.7877    1.6284   -0.4565 C   0  0  0  0  0  0  0  0  0  0  0  0\\n   -4.9999    0.6983    0.9443 C   0  0  0  0  0  0  0  0  0  0  0  0\\n   -5.3715   -0.4681    1.6125 C   0  0  0  0  0  0  0  0  0  0  0  0\\n   -4.5458   -1.5928    1.5662 C   0  0  0  0  0  0  0  0  0  0  0  0\\n  1  2  2  0\\n  2  3  1  0\\n  3  4  1  0\\n  4  5  1  0\\n  5  6  1  0\\n  6  7  1  0\\n  7  8  2  0\\n  7  9  1  0\\n  9 10  1  0\\n 10 11  2  0\\n 11 12  1  0\\n 12 13  2  0\\n 12 14  1  0\\n 14 15  1  0\\n 15 16  1  0\\n 16 17  1  0\\n 17 18  1  0\\n 18 19  2  0\\n 18 20  1  0\\n 20 21  1  0\\n 21 22  2  0\\n 22 23  1  0\\n 23 24  2  0\\n 24 25  1  0\\n 11 26  1  0\\n 26 27  2  0\\n 27 28  1  0\\n 22  2  1  0\\n 28  9  2  0\\n 25 20  2  0\\nM  END\\n\",\"sdf\");\n",
       "\tviewer_14907064790736072.addModel(\"\\n     RDKit          3D\\n\\n 28 30  0  0  0  0  0  0  0  0999 V2000\\n    3.3859    1.3534    3.3557 O   0  0  0  0  0  0  0  0  0  0  0  0\\n    2.8147    1.1257    2.2550 C   0  0  0  0  0  0  0  0  0  0  0  0\\n    1.5016    1.6629    2.0376 N   0  0  0  0  0  0  0  0  0  0  0  0\\n    1.0966    2.2952    0.7819 C   0  0  0  0  0  0  0  0  0  0  0  0\\n   -0.3691    1.9720    0.4836 C   0  0  0  0  0  0  0  0  0  0  0  0\\n   -0.7652    2.4853   -0.8290 N   0  0  0  0  0  0  0  0  0  0  0  0\\n   -2.1205    2.4769   -1.3082 C   0  0  0  0  0  0  0  0  0  0  0  0\\n   -2.4465    3.3108   -2.1960 O   0  0  0  0  0  0  0  0  0  0  0  0\\n   -3.1401    1.5165   -0.8186 C   0  0  0  0  0  0  0  0  0  0  0  0\\n   -2.7630    0.3321   -0.2613 N   0  0  0  0  0  0  0  0  0  0  0  0\\n   -3.6596   -0.6049    0.1565 C   0  0  0  0  0  0  0  0  0  0  0  0\\n   -3.1868   -1.8628    0.7808 C   0  0  0  0  0  0  0  0  0  0  0  0\\n   -3.9802   -2.5318    1.4969 O   0  0  0  0  0  0  0  0  0  0  0  0\\n   -1.8335   -2.3214    0.6417 N   0  0  0  0  0  0  0  0  0  0  0  0\\n   -1.1184   -2.3223   -0.6349 C   0  0  0  0  0  0  0  0  0  0  0  0\\n    0.3684   -2.0423   -0.4018 C   0  0  0  0  0  0  0  0  0  0  0  0\\n    1.0721   -1.8472   -1.6711 N   0  0  0  0  0  0  0  0  0  0  0  0\\n    2.4984   -1.7034   -1.7702 C   0  0  0  0  0  0  0  0  0  0  0  0\\n    3.0630   -2.0508   -2.8427 O   0  0  0  0  0  0  0  0  0  0  0  0\\n    3.3239   -1.1377   -0.6758 C   0  0  0  0  0  0  0  0  0  0  0  0\\n    2.7650   -0.3159    0.2557 N   0  0  0  0  0  0  0  0  0  0  0  0\\n    3.4879    0.2683    1.2518 C   0  0  0  0  0  0  0  0  0  0  0  0\\n    4.8651    0.0120    1.3375 C   0  0  0  0  0  0  0  0  0  0  0  0\\n    5.4688   -0.8183    0.3935 C   0  0  0  0  0  0  0  0  0  0  0  0\\n    4.7032   -1.3926   -0.6210 C   0  0  0  0  0  0  0  0  0  0  0  0\\n   -5.0322   -0.3440    0.0244 C   0  0  0  0  0  0  0  0  0  0  0  0\\n   -5.4507    0.8567   -0.5484 C   0  0  0  0  0  0  0  0  0  0  0  0\\n   -4.5077    1.7900   -0.9784 C   0  0  0  0  0  0  0  0  0  0  0  0\\n  1  2  2  0\\n  2  3  1  0\\n  3  4  1  0\\n  4  5  1  0\\n  5  6  1  0\\n  6  7  1  0\\n  7  8  2  0\\n  7  9  1  0\\n  9 10  1  0\\n 10 11  2  0\\n 11 12  1  0\\n 12 13  2  0\\n 12 14  1  0\\n 14 15  1  0\\n 15 16  1  0\\n 16 17  1  0\\n 17 18  1  0\\n 18 19  2  0\\n 18 20  1  0\\n 20 21  1  0\\n 21 22  2  0\\n 22 23  1  0\\n 23 24  2  0\\n 24 25  1  0\\n 11 26  1  0\\n 26 27  2  0\\n 27 28  1  0\\n 22  2  1  0\\n 28  9  2  0\\n 25 20  2  0\\nM  END\\n\",\"sdf\");\n",
       "\tviewer_14907064790736072.addModel(\"\\n     RDKit          3D\\n\\n 28 30  0  0  0  0  0  0  0  0999 V2000\\n   -3.7017    3.4568    0.8614 O   0  0  0  0  0  0  0  0  0  0  0  0\\n   -2.9258    2.4835    0.6617 C   0  0  0  0  0  0  0  0  0  0  0  0\\n   -1.5336    2.6284    0.9647 N   0  0  0  0  0  0  0  0  0  0  0  0\\n   -0.5338    2.5046   -0.0956 C   0  0  0  0  0  0  0  0  0  0  0  0\\n    0.8735    2.3475    0.4966 C   0  0  0  0  0  0  0  0  0  0  0  0\\n    1.8945    2.5025   -0.5392 N   0  0  0  0  0  0  0  0  0  0  0  0\\n    3.2495    2.1228   -0.2739 C   0  0  0  0  0  0  0  0  0  0  0  0\\n    4.1522    3.0020   -0.3112 O   0  0  0  0  0  0  0  0  0  0  0  0\\n    3.6057    0.7172   -0.0010 C   0  0  0  0  0  0  0  0  0  0  0  0\\n    2.8131   -0.2819   -0.4763 N   0  0  0  0  0  0  0  0  0  0  0  0\\n    3.1036   -1.6009   -0.3014 C   0  0  0  0  0  0  0  0  0  0  0  0\\n    2.2333   -2.6515   -0.8920 C   0  0  0  0  0  0  0  0  0  0  0  0\\n    2.7000   -3.8134   -1.0403 O   0  0  0  0  0  0  0  0  0  0  0  0\\n    0.8836   -2.4007   -1.3283 N   0  0  0  0  0  0  0  0  0  0  0  0\\n    0.0370   -1.3011   -0.8635 C   0  0  0  0  0  0  0  0  0  0  0  0\\n   -0.2297   -1.4093    0.6452 C   0  0  0  0  0  0  0  0  0  0  0  0\\n   -1.2284   -2.4403    0.9306 N   0  0  0  0  0  0  0  0  0  0  0  0\\n   -2.5935   -2.4230    0.4716 C   0  0  0  0  0  0  0  0  0  0  0  0\\n   -3.2211   -3.5158    0.4311 O   0  0  0  0  0  0  0  0  0  0  0  0\\n   -3.2988   -1.1774    0.0699 C   0  0  0  0  0  0  0  0  0  0  0  0\\n   -2.8296    0.0408    0.4585 N   0  0  0  0  0  0  0  0  0  0  0  0\\n   -3.4679    1.2056    0.1612 C   0  0  0  0  0  0  0  0  0  0  0  0\\n   -4.6670    1.1660   -0.5640 C   0  0  0  0  0  0  0  0  0  0  0  0\\n   -5.1723   -0.0647   -0.9829 C   0  0  0  0  0  0  0  0  0  0  0  0\\n   -4.4942   -1.2421   -0.6650 C   0  0  0  0  0  0  0  0  0  0  0  0\\n    4.2724   -1.9525    0.3941 C   0  0  0  0  0  0  0  0  0  0  0  0\\n    5.1064   -0.9500    0.8912 C   0  0  0  0  0  0  0  0  0  0  0  0\\n    4.7816    0.3914    0.6892 C   0  0  0  0  0  0  0  0  0  0  0  0\\n  1  2  2  0\\n  2  3  1  0\\n  3  4  1  0\\n  4  5  1  0\\n  5  6  1  0\\n  6  7  1  0\\n  7  8  2  0\\n  7  9  1  0\\n  9 10  1  0\\n 10 11  2  0\\n 11 12  1  0\\n 12 13  2  0\\n 12 14  1  0\\n 14 15  1  0\\n 15 16  1  0\\n 16 17  1  0\\n 17 18  1  0\\n 18 19  2  0\\n 18 20  1  0\\n 20 21  1  0\\n 21 22  2  0\\n 22 23  1  0\\n 23 24  2  0\\n 24 25  1  0\\n 11 26  1  0\\n 26 27  2  0\\n 27 28  1  0\\n 22  2  1  0\\n 28  9  2  0\\n 25 20  2  0\\nM  END\\n\",\"sdf\");\n",
       "\tviewer_14907064790736072.addModel(\"\\n     RDKit          3D\\n\\n 28 30  0  0  0  0  0  0  0  0999 V2000\\n   -3.9852    2.3096    1.9552 O   0  0  0  0  0  0  0  0  0  0  0  0\\n   -3.1686    1.8184    1.1303 C   0  0  0  0  0  0  0  0  0  0  0  0\\n   -1.8624    2.4028    1.0140 N   0  0  0  0  0  0  0  0  0  0  0  0\\n   -1.1090    2.3992   -0.2407 C   0  0  0  0  0  0  0  0  0  0  0  0\\n    0.3740    2.7145    0.0142 C   0  0  0  0  0  0  0  0  0  0  0  0\\n    1.2307    2.1081   -1.0033 N   0  0  0  0  0  0  0  0  0  0  0  0\\n    2.6510    2.2068   -0.8956 C   0  0  0  0  0  0  0  0  0  0  0  0\\n    3.2175    3.3136   -1.1009 O   0  0  0  0  0  0  0  0  0  0  0  0\\n    3.4360    1.0204   -0.5173 C   0  0  0  0  0  0  0  0  0  0  0  0\\n    2.8159    0.0036    0.1397 N   0  0  0  0  0  0  0  0  0  0  0  0\\n    3.4654   -1.1131    0.5633 C   0  0  0  0  0  0  0  0  0  0  0  0\\n    2.7488   -2.1640    1.3407 C   0  0  0  0  0  0  0  0  0  0  0  0\\n    3.3873   -3.1941    1.6891 O   0  0  0  0  0  0  0  0  0  0  0  0\\n    1.3736   -2.0509    1.7647 N   0  0  0  0  0  0  0  0  0  0  0  0\\n    0.3630   -1.1472    1.2106 C   0  0  0  0  0  0  0  0  0  0  0  0\\n    0.0045   -1.5430   -0.2246 C   0  0  0  0  0  0  0  0  0  0  0  0\\n   -0.8854   -2.7009   -0.2120 N   0  0  0  0  0  0  0  0  0  0  0  0\\n   -2.2432   -2.6942   -0.6830 C   0  0  0  0  0  0  0  0  0  0  0  0\\n   -2.7114   -3.7665   -1.1531 O   0  0  0  0  0  0  0  0  0  0  0  0\\n   -3.1324   -1.5039   -0.5850 C   0  0  0  0  0  0  0  0  0  0  0  0\\n   -2.7748   -0.4163    0.1592 N   0  0  0  0  0  0  0  0  0  0  0  0\\n   -3.5912    0.6675    0.3074 C   0  0  0  0  0  0  0  0  0  0  0  0\\n   -4.8574    0.6655   -0.2907 C   0  0  0  0  0  0  0  0  0  0  0  0\\n   -5.2496   -0.4277   -1.0594 C   0  0  0  0  0  0  0  0  0  0  0  0\\n   -4.3910   -1.5153   -1.2118 C   0  0  0  0  0  0  0  0  0  0  0  0\\n    4.8407   -1.2343    0.2948 C   0  0  0  0  0  0  0  0  0  0  0  0\\n    5.5069   -0.2067   -0.3772 C   0  0  0  0  0  0  0  0  0  0  0  0\\n    4.8093    0.9334   -0.7783 C   0  0  0  0  0  0  0  0  0  0  0  0\\n  1  2  2  0\\n  2  3  1  0\\n  3  4  1  0\\n  4  5  1  0\\n  5  6  1  0\\n  6  7  1  0\\n  7  8  2  0\\n  7  9  1  0\\n  9 10  1  0\\n 10 11  2  0\\n 11 12  1  0\\n 12 13  2  0\\n 12 14  1  0\\n 14 15  1  0\\n 15 16  1  0\\n 16 17  1  0\\n 17 18  1  0\\n 18 19  2  0\\n 18 20  1  0\\n 20 21  1  0\\n 21 22  2  0\\n 22 23  1  0\\n 23 24  2  0\\n 24 25  1  0\\n 11 26  1  0\\n 26 27  2  0\\n 27 28  1  0\\n 22  2  1  0\\n 28  9  2  0\\n 25 20  2  0\\nM  END\\n\",\"sdf\");\n",
       "\tviewer_14907064790736072.addModel(\"\\n     RDKit          3D\\n\\n 28 30  0  0  0  0  0  0  0  0999 V2000\\n    4.3736   -2.9680    1.0277 O   0  0  0  0  0  0  0  0  0  0  0  0\\n    3.3737   -2.4012    0.5099 C   0  0  0  0  0  0  0  0  0  0  0  0\\n    2.3548   -3.2109   -0.0952 N   0  0  0  0  0  0  0  0  0  0  0  0\\n    0.9337   -2.9474    0.1254 C   0  0  0  0  0  0  0  0  0  0  0  0\\n    0.0888   -3.5485   -1.0036 C   0  0  0  0  0  0  0  0  0  0  0  0\\n   -1.2906   -3.0759   -0.8996 N   0  0  0  0  0  0  0  0  0  0  0  0\\n   -1.6142   -1.7053   -1.1733 C   0  0  0  0  0  0  0  0  0  0  0  0\\n   -0.9042   -1.0471   -1.9818 O   0  0  0  0  0  0  0  0  0  0  0  0\\n   -2.6708   -1.0049   -0.4272 C   0  0  0  0  0  0  0  0  0  0  0  0\\n   -2.4669    0.2986   -0.1082 N   0  0  0  0  0  0  0  0  0  0  0  0\\n   -3.3387    1.0347    0.6274 C   0  0  0  0  0  0  0  0  0  0  0  0\\n   -3.0099    2.4403    0.9953 C   0  0  0  0  0  0  0  0  0  0  0  0\\n   -3.8525    3.1053    1.6570 O   0  0  0  0  0  0  0  0  0  0  0  0\\n   -1.7583    3.0755    0.6580 N   0  0  0  0  0  0  0  0  0  0  0  0\\n   -0.7577    2.5141   -0.2545 C   0  0  0  0  0  0  0  0  0  0  0  0\\n    0.4135    3.4766   -0.4725 C   0  0  0  0  0  0  0  0  0  0  0  0\\n    1.2508    3.0267   -1.5883 N   0  0  0  0  0  0  0  0  0  0  0  0\\n    1.8246    1.7120   -1.6710 C   0  0  0  0  0  0  0  0  0  0  0  0\\n    1.7344    1.0778   -2.7560 O   0  0  0  0  0  0  0  0  0  0  0  0\\n    2.5339    1.0847   -0.5380 C   0  0  0  0  0  0  0  0  0  0  0  0\\n    2.6117   -0.2750   -0.4732 N   0  0  0  0  0  0  0  0  0  0  0  0\\n    3.2971   -0.9233    0.5104 C   0  0  0  0  0  0  0  0  0  0  0  0\\n    3.9713   -0.1729    1.4852 C   0  0  0  0  0  0  0  0  0  0  0  0\\n    3.9211    1.2204    1.4351 C   0  0  0  0  0  0  0  0  0  0  0  0\\n    3.2095    1.8570    0.4180 C   0  0  0  0  0  0  0  0  0  0  0  0\\n   -4.5280    0.4272    1.0657 C   0  0  0  0  0  0  0  0  0  0  0  0\\n   -4.7752   -0.9118    0.7472 C   0  0  0  0  0  0  0  0  0  0  0  0\\n   -3.8421   -1.6404    0.0051 C   0  0  0  0  0  0  0  0  0  0  0  0\\n  1  2  2  0\\n  2  3  1  0\\n  3  4  1  0\\n  4  5  1  0\\n  5  6  1  0\\n  6  7  1  0\\n  7  8  2  0\\n  7  9  1  0\\n  9 10  1  0\\n 10 11  2  0\\n 11 12  1  0\\n 12 13  2  0\\n 12 14  1  0\\n 14 15  1  0\\n 15 16  1  0\\n 16 17  1  0\\n 17 18  1  0\\n 18 19  2  0\\n 18 20  1  0\\n 20 21  1  0\\n 21 22  2  0\\n 22 23  1  0\\n 23 24  2  0\\n 24 25  1  0\\n 11 26  1  0\\n 26 27  2  0\\n 27 28  1  0\\n 22  2  1  0\\n 28  9  2  0\\n 25 20  2  0\\nM  END\\n\",\"sdf\");\n",
       "\tviewer_14907064790736072.addModel(\"\\n     RDKit          3D\\n\\n 28 30  0  0  0  0  0  0  0  0999 V2000\\n    3.4062   -2.7734   -1.2735 O   0  0  0  0  0  0  0  0  0  0  0  0\\n    2.7526   -1.9226   -0.6121 C   0  0  0  0  0  0  0  0  0  0  0  0\\n    1.3808   -2.1847   -0.2939 N   0  0  0  0  0  0  0  0  0  0  0  0\\n    0.9465   -2.2362    1.1034 C   0  0  0  0  0  0  0  0  0  0  0  0\\n   -0.5507   -1.9371    1.2441 C   0  0  0  0  0  0  0  0  0  0  0  0\\n   -1.3698   -2.8681    0.4671 N   0  0  0  0  0  0  0  0  0  0  0  0\\n   -2.7855   -2.6846    0.3284 C   0  0  0  0  0  0  0  0  0  0  0  0\\n   -3.5359   -3.6973    0.3304 O   0  0  0  0  0  0  0  0  0  0  0  0\\n   -3.3851   -1.3434    0.1714 C   0  0  0  0  0  0  0  0  0  0  0  0\\n   -2.7614   -0.3973   -0.5875 N   0  0  0  0  0  0  0  0  0  0  0  0\\n   -3.2867    0.8448   -0.7891 C   0  0  0  0  0  0  0  0  0  0  0  0\\n   -2.6131    1.8238   -1.6837 C   0  0  0  0  0  0  0  0  0  0  0  0\\n   -3.2907    2.7761   -2.1572 O   0  0  0  0  0  0  0  0  0  0  0  0\\n   -1.2288    1.7243   -2.0656 N   0  0  0  0  0  0  0  0  0  0  0  0\\n   -0.1842    1.0526   -1.2930 C   0  0  0  0  0  0  0  0  0  0  0  0\\n    0.0293    1.7341    0.0678 C   0  0  0  0  0  0  0  0  0  0  0  0\\n    0.9141    2.8884   -0.0764 N   0  0  0  0  0  0  0  0  0  0  0  0\\n    2.3143    2.8996    0.2631 C   0  0  0  0  0  0  0  0  0  0  0  0\\n    2.8465    4.0082    0.5419 O   0  0  0  0  0  0  0  0  0  0  0  0\\n    3.1693    1.6789    0.2381 C   0  0  0  0  0  0  0  0  0  0  0  0\\n    2.6467    0.4709   -0.1110 N   0  0  0  0  0  0  0  0  0  0  0  0\\n    3.3952   -0.6608   -0.2037 C   0  0  0  0  0  0  0  0  0  0  0  0\\n    4.7712   -0.5977    0.0506 C   0  0  0  0  0  0  0  0  0  0  0  0\\n    5.3401    0.6201    0.4240 C   0  0  0  0  0  0  0  0  0  0  0  0\\n    4.5440    1.7632    0.5208 C   0  0  0  0  0  0  0  0  0  0  0  0\\n   -4.5224    1.1640   -0.2008 C   0  0  0  0  0  0  0  0  0  0  0  0\\n   -5.1864    0.2114    0.5718 C   0  0  0  0  0  0  0  0  0  0  0  0\\n   -4.6256   -1.0515    0.7534 C   0  0  0  0  0  0  0  0  0  0  0  0\\n  1  2  2  0\\n  2  3  1  0\\n  3  4  1  0\\n  4  5  1  0\\n  5  6  1  0\\n  6  7  1  0\\n  7  8  2  0\\n  7  9  1  0\\n  9 10  1  0\\n 10 11  2  0\\n 11 12  1  0\\n 12 13  2  0\\n 12 14  1  0\\n 14 15  1  0\\n 15 16  1  0\\n 16 17  1  0\\n 17 18  1  0\\n 18 19  2  0\\n 18 20  1  0\\n 20 21  1  0\\n 21 22  2  0\\n 22 23  1  0\\n 23 24  2  0\\n 24 25  1  0\\n 11 26  1  0\\n 26 27  2  0\\n 27 28  1  0\\n 22  2  1  0\\n 28  9  2  0\\n 25 20  2  0\\nM  END\\n\",\"sdf\");\n",
       "\tviewer_14907064790736072.addModel(\"\\n     RDKit          3D\\n\\n 28 30  0  0  0  0  0  0  0  0999 V2000\\n    3.5019   -2.9983    1.8298 O   0  0  0  0  0  0  0  0  0  0  0  0\\n    2.8920   -2.1483    1.1263 C   0  0  0  0  0  0  0  0  0  0  0  0\\n    1.4866   -2.3215    0.8970 N   0  0  0  0  0  0  0  0  0  0  0  0\\n    0.8898   -2.1520   -0.4280 C   0  0  0  0  0  0  0  0  0  0  0  0\\n   -0.5615   -1.6731   -0.3102 C   0  0  0  0  0  0  0  0  0  0  0  0\\n   -1.4632   -2.7487    0.0980 N   0  0  0  0  0  0  0  0  0  0  0  0\\n   -2.8749   -2.5848    0.3368 C   0  0  0  0  0  0  0  0  0  0  0  0\\n   -3.5168   -3.5847    0.7596 O   0  0  0  0  0  0  0  0  0  0  0  0\\n   -3.6170   -1.3093    0.1026 C   0  0  0  0  0  0  0  0  0  0  0  0\\n   -2.9814   -0.1905   -0.3506 N   0  0  0  0  0  0  0  0  0  0  0  0\\n   -3.6324    0.9824   -0.5946 C   0  0  0  0  0  0  0  0  0  0  0  0\\n   -2.8920    2.1483   -1.1263 C   0  0  0  0  0  0  0  0  0  0  0  0\\n   -3.5019    2.9983   -1.8298 O   0  0  0  0  0  0  0  0  0  0  0  0\\n   -1.4866    2.3215   -0.8970 N   0  0  0  0  0  0  0  0  0  0  0  0\\n   -0.8898    2.1520    0.4280 C   0  0  0  0  0  0  0  0  0  0  0  0\\n    0.5615    1.6731    0.3102 C   0  0  0  0  0  0  0  0  0  0  0  0\\n    1.4632    2.7487   -0.0980 N   0  0  0  0  0  0  0  0  0  0  0  0\\n    2.8749    2.5848   -0.3368 C   0  0  0  0  0  0  0  0  0  0  0  0\\n    3.5168    3.5847   -0.7596 O   0  0  0  0  0  0  0  0  0  0  0  0\\n    3.6170    1.3093   -0.1026 C   0  0  0  0  0  0  0  0  0  0  0  0\\n    2.9814    0.1905    0.3506 N   0  0  0  0  0  0  0  0  0  0  0  0\\n    3.6324   -0.9824    0.5946 C   0  0  0  0  0  0  0  0  0  0  0  0\\n    5.0168   -1.0537    0.3877 C   0  0  0  0  0  0  0  0  0  0  0  0\\n    5.6973    0.0671   -0.0838 C   0  0  0  0  0  0  0  0  0  0  0  0\\n    5.0036    1.2513   -0.3313 C   0  0  0  0  0  0  0  0  0  0  0  0\\n   -5.0168    1.0537   -0.3877 C   0  0  0  0  0  0  0  0  0  0  0  0\\n   -5.6973   -0.0671    0.0838 C   0  0  0  0  0  0  0  0  0  0  0  0\\n   -5.0036   -1.2513    0.3313 C   0  0  0  0  0  0  0  0  0  0  0  0\\n  1  2  2  0\\n  2  3  1  0\\n  3  4  1  0\\n  4  5  1  0\\n  5  6  1  0\\n  6  7  1  0\\n  7  8  2  0\\n  7  9  1  0\\n  9 10  1  0\\n 10 11  2  0\\n 11 12  1  0\\n 12 13  2  0\\n 12 14  1  0\\n 14 15  1  0\\n 15 16  1  0\\n 16 17  1  0\\n 17 18  1  0\\n 18 19  2  0\\n 18 20  1  0\\n 20 21  1  0\\n 21 22  2  0\\n 22 23  1  0\\n 23 24  2  0\\n 24 25  1  0\\n 11 26  1  0\\n 26 27  2  0\\n 27 28  1  0\\n 22  2  1  0\\n 28  9  2  0\\n 25 20  2  0\\nM  END\\n\",\"sdf\");\n",
       "\tviewer_14907064790736072.addModel(\"\\n     RDKit          3D\\n\\n 28 30  0  0  0  0  0  0  0  0999 V2000\\n   -3.1061    3.5543   -1.5472 O   0  0  0  0  0  0  0  0  0  0  0  0\\n   -2.5752    2.5073   -1.0879 C   0  0  0  0  0  0  0  0  0  0  0  0\\n   -1.1492    2.4092   -1.0625 N   0  0  0  0  0  0  0  0  0  0  0  0\\n   -0.4358    2.1460    0.1869 C   0  0  0  0  0  0  0  0  0  0  0  0\\n    1.0756    2.2832   -0.0192 C   0  0  0  0  0  0  0  0  0  0  0  0\\n    1.7886    2.1915    1.2544 N   0  0  0  0  0  0  0  0  0  0  0  0\\n    3.1928    1.9068    1.2822 C   0  0  0  0  0  0  0  0  0  0  0  0\\n    3.9597    2.6511    1.9506 O   0  0  0  0  0  0  0  0  0  0  0  0\\n    3.7442    0.7414    0.5679 C   0  0  0  0  0  0  0  0  0  0  0  0\\n    2.9698   -0.3636    0.3951 N   0  0  0  0  0  0  0  0  0  0  0  0\\n    3.4137   -1.4876   -0.2298 C   0  0  0  0  0  0  0  0  0  0  0  0\\n    2.5469   -2.6938   -0.3287 C   0  0  0  0  0  0  0  0  0  0  0  0\\n    3.0097   -3.7283   -0.8820 O   0  0  0  0  0  0  0  0  0  0  0  0\\n    1.2179   -2.7610    0.2224 N   0  0  0  0  0  0  0  0  0  0  0  0\\n    0.3823   -1.5964    0.5289 C   0  0  0  0  0  0  0  0  0  0  0  0\\n   -1.0365   -2.0095    0.9311 C   0  0  0  0  0  0  0  0  0  0  0  0\\n   -1.7563   -2.5905   -0.2022 N   0  0  0  0  0  0  0  0  0  0  0  0\\n   -3.1452   -2.3285   -0.4380 C   0  0  0  0  0  0  0  0  0  0  0  0\\n   -3.8978   -3.2854   -0.7653 O   0  0  0  0  0  0  0  0  0  0  0  0\\n   -3.7070   -0.9660   -0.3427 C   0  0  0  0  0  0  0  0  0  0  0  0\\n   -2.9314    0.1153   -0.6408 N   0  0  0  0  0  0  0  0  0  0  0  0\\n   -3.4278    1.3855   -0.6468 C   0  0  0  0  0  0  0  0  0  0  0  0\\n   -4.7780    1.5995   -0.3291 C   0  0  0  0  0  0  0  0  0  0  0  0\\n   -5.5893    0.5116   -0.0107 C   0  0  0  0  0  0  0  0  0  0  0  0\\n   -5.0610   -0.7782   -0.0276 C   0  0  0  0  0  0  0  0  0  0  0  0\\n    4.7279   -1.5090   -0.7298 C   0  0  0  0  0  0  0  0  0  0  0  0\\n    5.5488   -0.3923   -0.5615 C   0  0  0  0  0  0  0  0  0  0  0  0\\n    5.0642    0.7367    0.0989 C   0  0  0  0  0  0  0  0  0  0  0  0\\n  1  2  2  0\\n  2  3  1  0\\n  3  4  1  0\\n  4  5  1  0\\n  5  6  1  0\\n  6  7  1  0\\n  7  8  2  0\\n  7  9  1  0\\n  9 10  1  0\\n 10 11  2  0\\n 11 12  1  0\\n 12 13  2  0\\n 12 14  1  0\\n 14 15  1  0\\n 15 16  1  0\\n 16 17  1  0\\n 17 18  1  0\\n 18 19  2  0\\n 18 20  1  0\\n 20 21  1  0\\n 21 22  2  0\\n 22 23  1  0\\n 23 24  2  0\\n 24 25  1  0\\n 11 26  1  0\\n 26 27  2  0\\n 27 28  1  0\\n 22  2  1  0\\n 28  9  2  0\\n 25 20  2  0\\nM  END\\n\",\"sdf\");\n",
       "\tviewer_14907064790736072.setStyle({\"stick\": {\"radius\": \"0.15\"}});\n",
       "\tviewer_14907064790736072.setBackgroundColor(\"0xeeeeee\");\n",
       "\tviewer_14907064790736072.zoomTo();\n",
       "viewer_14907064790736072.render();\n",
       "});\n",
       "</script>"
      ],
      "text/plain": [
       "<IPython.core.display.HTML object>"
      ]
     },
     "execution_count": 147,
     "metadata": {},
     "output_type": "execute_result"
    }
   ],
   "source": [
    "# view:\n",
    "p = py3Dmol.view(width=400,height=400)\n",
    "p.removeAllModels()\n",
    "for mol in allmol_m1_rdkit:   \n",
    "    mb = Chem.MolToMolBlock(mol)\n",
    "    p.addModel(mb,'sdf')    \n",
    "p.setStyle({'stick':{'radius':'0.15'}})\n",
    "p.setBackgroundColor('0xeeeeee')\n",
    "p.zoomTo()\n",
    "p.show()"
   ]
  },
  {
   "cell_type": "code",
   "execution_count": 35,
   "metadata": {
    "collapsed": false
   },
   "outputs": [
    {
     "name": "stdout",
     "output_type": "stream",
     "text": [
      "Heavy Atom RMS: 1.461877955872602\n",
      "Heavy Atom RMS: 1.4214730604414139\n",
      "Heavy Atom RMS: 1.8999303358326163\n",
      "Heavy Atom RMS: 1.4813288602775967\n",
      "Heavy Atom RMS: 1.4248638894808567\n",
      "Heavy Atom RMS: 1.5474857037372614\n",
      "Heavy Atom RMS: 1.4688621809782134\n",
      "Heavy Atom RMS: 1.4939359811879294\n",
      "Heavy Atom RMS: 1.4176054292304114\n"
     ]
    }
   ],
   "source": [
    "# calculate RMSD /check that/:\n",
    "for mol in allmol_m1_rdkit:\n",
    "    # note that the first structure on \"allmol_m1_rdkit\" list is the crystal structure, \n",
    "    # so the RMSD value calculated for the first structure (with respect to the crystal) will be 0 or almost 0\n",
    "    print(\"Heavy Atom RMS:\",AllChem.GetBestRMS(Chem.RemoveHs(mol),Chem.RemoveHs(templ_m1[0])))"
   ]
  },
  {
   "cell_type": "markdown",
   "metadata": {},
   "source": [
    "### Summary"
   ]
  },
  {
   "cell_type": "markdown",
   "metadata": {},
   "source": [
    "Let's align all generated conformers:  //todo fixme: align all conformers!//"
   ]
  },
  {
   "cell_type": "code",
   "execution_count": 148,
   "metadata": {
    "collapsed": false
   },
   "outputs": [
    {
     "data": {
      "text/html": [
       "<div id=\"3dmolviewer_14907064859033403\"  style=\"position: relative; width: 400px; height: 400px\">\n",
       "<script>\n",
       "if(typeof $3Dmolpromise === 'undefined') $3Dmolpromise = $.when($.getScript('http://3dmol.csb.pitt.edu/build/3Dmol.js'))\n",
       "var viewer_14907064859033403 = null;\n",
       "$3Dmolpromise.done(function() {\n",
       "viewer_14907064859033403 = $3Dmol.createViewer($(\"#3dmolviewer_14907064859033403\"),{backgroundColor:\"white\"});\n",
       "\tviewer_14907064859033403.removeAllModels();\n",
       "\tviewer_14907064859033403.addModel(\"m1_crystal.xyz\\n     RDKit          3D\\n\\n 28 30  0  0  0  0  0  0  0  0999 V2000\\n   10.2977   13.6978   -1.6005 O   0  0  0  0  0  0  0  0  0  0  0  0\\n   15.6873   13.6073    2.8283 O   0  0  0  0  0  0  0  0  0  0  0  0\\n   13.5550    8.3683    5.1527 O   0  0  0  0  0  0  0  0  0  0  0  0\\n    9.1101    7.7832   -0.2158 O   0  0  0  0  0  0  0  0  0  0  0  0\\n   10.1517   12.7485    0.5133 N   0  0  0  0  0  0  0  0  0  0  0  0\\n   12.6896   13.4709    0.9704 N   0  0  0  0  0  0  0  0  0  0  0  0\\n   13.6879   12.4997    3.2194 N   0  0  0  0  0  0  0  0  0  0  0  0\\n   12.2941   10.1383    4.3467 N   0  0  0  0  0  0  0  0  0  0  0  0\\n   11.2312    8.5358    2.5056 N   0  0  0  0  0  0  0  0  0  0  0  0\\n    9.7158    9.8089    0.7422 N   0  0  0  0  0  0  0  0  0  0  0  0\\n   10.7775   13.4682   -0.4937 C   0  0  0  0  0  0  0  0  0  0  0  0\\n   12.1328   13.9703   -0.1566 C   0  0  0  0  0  0  0  0  0  0  0  0\\n   13.9393   13.8982    1.2755 C   0  0  0  0  0  0  0  0  0  0  0  0\\n   14.5362   13.3308    2.5093 C   0  0  0  0  0  0  0  0  0  0  0  0\\n   14.1040   11.7969    4.4206 C   0  0  0  0  0  0  0  0  0  0  0  0\\n   12.9112   11.1864    5.1425 C   0  0  0  0  0  0  0  0  0  0  0  0\\n   12.7048    8.8171    4.3917 C   0  0  0  0  0  0  0  0  0  0  0  0\\n   12.0261    7.9272    3.4177 C   0  0  0  0  0  0  0  0  0  0  0  0\\n   10.6030    7.7384    1.6075 C   0  0  0  0  0  0  0  0  0  0  0  0\\n    9.7348    8.4283    0.6200 C   0  0  0  0  0  0  0  0  0  0  0  0\\n    9.0366   10.6704   -0.2098 C   0  0  0  0  0  0  0  0  0  0  0  0\\n    8.8691   12.0868    0.3301 C   0  0  0  0  0  0  0  0  0  0  0  0\\n   12.7669   14.8822   -0.9905 C   0  0  0  0  0  0  0  0  0  0  0  0\\n   14.0455   15.3055   -0.6395 C   0  0  0  0  0  0  0  0  0  0  0  0\\n   14.6542   14.8097    0.5086 C   0  0  0  0  0  0  0  0  0  0  0  0\\n   12.2255    6.5545    3.4685 C   0  0  0  0  0  0  0  0  0  0  0  0\\n   11.5631    5.7663    2.5310 C   0  0  0  0  0  0  0  0  0  0  0  0\\n   10.7353    6.3563    1.5807 C   0  0  0  0  0  0  0  0  0  0  0  0\\n  1 11  2  0\\n  4 20  2  0\\n  6 13  2  0\\n  7 15  1  0\\n  8 16  1  0\\n  9 18  1  0\\n 11  5  1  0\\n 11 12  1  0\\n 12  6  1  0\\n 13 14  1  0\\n 14  7  1  0\\n 14  2  2  0\\n 16 15  1  0\\n 17  3  2  0\\n 17  8  1  0\\n 18 17  1  0\\n 19  9  2  0\\n 20 19  1  0\\n 20 10  1  0\\n 21 10  1  0\\n 22 21  1  0\\n 22  5  1  0\\n 23 12  2  0\\n 23 24  1  0\\n 24 25  2  0\\n 25 13  1  0\\n 26 18  2  0\\n 27 26  1  0\\n 28 27  2  0\\n 28 19  1  0\\nM  END\\n\",\"sdf\");\n",
       "\tviewer_14907064859033403.addModel(\"m1_crystal.xyz\\n     RDKit          3D\\n\\n 28 30  0  0  0  0  0  0  0  0999 V2000\\n   14.2015    8.1372    4.4696 O   0  0  0  0  0  0  0  0  0  0  0  0\\n    8.6424    8.2487    0.2593 O   0  0  0  0  0  0  0  0  0  0  0  0\\n   10.8554   13.2300   -2.0993 O   0  0  0  0  0  0  0  0  0  0  0  0\\n   15.0652   13.8922    3.4263 O   0  0  0  0  0  0  0  0  0  0  0  0\\n   12.8466    9.9949    4.1566 N   0  0  0  0  0  0  0  0  0  0  0  0\\n   11.2635    8.5981    2.5816 N   0  0  0  0  0  0  0  0  0  0  0  0\\n    9.3224   10.0640    1.5386 N   0  0  0  0  0  0  0  0  0  0  0  0\\n   10.3936   12.3752    0.0098 N   0  0  0  0  0  0  0  0  0  0  0  0\\n   12.6302   13.4062    0.9340 N   0  0  0  0  0  0  0  0  0  0  0  0\\n   12.9764   12.8791    3.4985 N   0  0  0  0  0  0  0  0  0  0  0  0\\n   13.2048    8.6678    3.9925 C   0  0  0  0  0  0  0  0  0  0  0  0\\n   12.2677    7.8892    3.1451 C   0  0  0  0  0  0  0  0  0  0  0  0\\n   10.4163    7.9265    1.7700 C   0  0  0  0  0  0  0  0  0  0  0  0\\n    9.3669    8.7449    1.1157 C   0  0  0  0  0  0  0  0  0  0  0  0\\n    8.5029   11.0678    0.8814 C   0  0  0  0  0  0  0  0  0  0  0  0\\n    9.2007   11.6320   -0.3510 C   0  0  0  0  0  0  0  0  0  0  0  0\\n   11.1401   13.0872   -0.9152 C   0  0  0  0  0  0  0  0  0  0  0  0\\n   12.3710   13.6967   -0.3606 C   0  0  0  0  0  0  0  0  0  0  0  0\\n   13.7461   13.9426    1.4761 C   0  0  0  0  0  0  0  0  0  0  0  0\\n   14.0069   13.5800    2.8917 C   0  0  0  0  0  0  0  0  0  0  0  0\\n   13.0512   12.3456    4.8484 C   0  0  0  0  0  0  0  0  0  0  0  0\\n   13.6676   10.9534    4.8741 C   0  0  0  0  0  0  0  0  0  0  0  0\\n   12.4577    6.5300    2.9411 C   0  0  0  0  0  0  0  0  0  0  0  0\\n   11.5602    5.8670    2.1082 C   0  0  0  0  0  0  0  0  0  0  0  0\\n   10.5191    6.5675    1.5041 C   0  0  0  0  0  0  0  0  0  0  0  0\\n   13.1791   14.5060   -1.1450 C   0  0  0  0  0  0  0  0  0  0  0  0\\n   14.3153   15.0512   -0.5540 C   0  0  0  0  0  0  0  0  0  0  0  0\\n   14.6156   14.7712    0.7786 C   0  0  0  0  0  0  0  0  0  0  0  0\\n  1 11  2  0\\n  4 20  2  0\\n  6 13  2  0\\n  7 15  1  0\\n  8 16  1  0\\n  9 18  1  0\\n 11  5  1  0\\n 11 12  1  0\\n 12  6  1  0\\n 13 14  1  0\\n 14  7  1  0\\n 14  2  2  0\\n 16 15  1  0\\n 17  3  2  0\\n 17  8  1  0\\n 18 17  1  0\\n 19  9  2  0\\n 20 19  1  0\\n 20 10  1  0\\n 21 10  1  0\\n 22 21  1  0\\n 22  5  1  0\\n 23 12  2  0\\n 23 24  1  0\\n 24 25  2  0\\n 25 13  1  0\\n 26 18  2  0\\n 27 26  1  0\\n 28 27  2  0\\n 28 19  1  0\\nM  END\\n\",\"sdf\");\n",
       "\tviewer_14907064859033403.addModel(\"m1_crystal.xyz\\n     RDKit          3D\\n\\n 28 30  0  0  0  0  0  0  0  0999 V2000\\n   10.2518   13.9230   -1.5614 O   0  0  0  0  0  0  0  0  0  0  0  0\\n   15.1653   14.1186    3.3325 O   0  0  0  0  0  0  0  0  0  0  0  0\\n   13.6848    8.1247    5.0385 O   0  0  0  0  0  0  0  0  0  0  0  0\\n    8.8404    7.8481    0.0597 O   0  0  0  0  0  0  0  0  0  0  0  0\\n   11.1203   11.9791   -0.6367 N   0  0  0  0  0  0  0  0  0  0  0  0\\n   12.8361   13.4699    0.7800 N   0  0  0  0  0  0  0  0  0  0  0  0\\n   14.3020   12.1081    2.5567 N   0  0  0  0  0  0  0  0  0  0  0  0\\n   12.7341   10.0377    4.1290 N   0  0  0  0  0  0  0  0  0  0  0  0\\n   11.1290    8.5018    2.6518 N   0  0  0  0  0  0  0  0  0  0  0  0\\n    9.6222    9.8580    0.9201 N   0  0  0  0  0  0  0  0  0  0  0  0\\n   11.0788   13.3453   -0.8626 C   0  0  0  0  0  0  0  0  0  0  0  0\\n   12.1413   14.1222   -0.1817 C   0  0  0  0  0  0  0  0  0  0  0  0\\n   13.7770   14.1859    1.4405 C   0  0  0  0  0  0  0  0  0  0  0  0\\n   14.4865   13.4808    2.5336 C   0  0  0  0  0  0  0  0  0  0  0  0\\n   14.7997   11.2675    3.6339 C   0  0  0  0  0  0  0  0  0  0  0  0\\n   13.7043   10.9836    4.6551 C   0  0  0  0  0  0  0  0  0  0  0  0\\n   12.8480    8.6701    4.3263 C   0  0  0  0  0  0  0  0  0  0  0  0\\n   11.8639    7.8498    3.5825 C   0  0  0  0  0  0  0  0  0  0  0  0\\n   10.2581    7.7576    1.9311 C   0  0  0  0  0  0  0  0  0  0  0  0\\n    9.5004    8.4777    0.8808 C   0  0  0  0  0  0  0  0  0  0  0  0\\n    9.0704   10.7265   -0.1076 C   0  0  0  0  0  0  0  0  0  0  0  0\\n   10.1194   11.0635   -1.1609 C   0  0  0  0  0  0  0  0  0  0  0  0\\n   12.3570   15.4514   -0.5239 C   0  0  0  0  0  0  0  0  0  0  0  0\\n   13.3440   16.1485    0.1657 C   0  0  0  0  0  0  0  0  0  0  0  0\\n   14.0668   15.5178    1.1724 C   0  0  0  0  0  0  0  0  0  0  0  0\\n   11.7594    6.4874    3.8334 C   0  0  0  0  0  0  0  0  0  0  0  0\\n   10.8453    5.7567    3.0807 C   0  0  0  0  0  0  0  0  0  0  0  0\\n   10.0800    6.3909    2.1069 C   0  0  0  0  0  0  0  0  0  0  0  0\\n  1 11  2  0\\n  4 20  2  0\\n  6 13  2  0\\n  7 15  1  0\\n  8 16  1  0\\n  9 18  1  0\\n 11  5  1  0\\n 11 12  1  0\\n 12  6  1  0\\n 13 14  1  0\\n 14  7  1  0\\n 14  2  2  0\\n 16 15  1  0\\n 17  3  2  0\\n 17  8  1  0\\n 18 17  1  0\\n 19  9  2  0\\n 20 19  1  0\\n 20 10  1  0\\n 21 10  1  0\\n 22 21  1  0\\n 22  5  1  0\\n 23 12  2  0\\n 23 24  1  0\\n 24 25  2  0\\n 25 13  1  0\\n 26 18  2  0\\n 27 26  1  0\\n 28 27  2  0\\n 28 19  1  0\\nM  END\\n\",\"sdf\");\n",
       "\tviewer_14907064859033403.addModel(\"m1_crystal.xyz\\n     RDKit          3D\\n\\n 28 30  0  0  0  0  0  0  0  0999 V2000\\n   14.5610    8.8769    3.7473 O   0  0  0  0  0  0  0  0  0  0  0  0\\n    8.5237    8.4457    0.3409 O   0  0  0  0  0  0  0  0  0  0  0  0\\n   11.0002   12.3959   -1.9659 O   0  0  0  0  0  0  0  0  0  0  0  0\\n   14.8796   13.7478    3.6557 O   0  0  0  0  0  0  0  0  0  0  0  0\\n   12.7057   10.1399    4.3471 N   0  0  0  0  0  0  0  0  0  0  0  0\\n   11.3172    8.9224    2.4367 N   0  0  0  0  0  0  0  0  0  0  0  0\\n    9.1574   10.2279    1.6887 N   0  0  0  0  0  0  0  0  0  0  0  0\\n   10.1363   12.4764    0.1880 N   0  0  0  0  0  0  0  0  0  0  0  0\\n   12.5295   13.1372    1.1035 N   0  0  0  0  0  0  0  0  0  0  0  0\\n   12.7048   12.9423    3.7276 N   0  0  0  0  0  0  0  0  0  0  0  0\\n   13.3646    9.1294    3.6719 C   0  0  0  0  0  0  0  0  0  0  0  0\\n   12.4817    8.3276    2.7912 C   0  0  0  0  0  0  0  0  0  0  0  0\\n   10.5052    8.2355    1.5994 C   0  0  0  0  0  0  0  0  0  0  0  0\\n    9.2881    8.9582    1.1514 C   0  0  0  0  0  0  0  0  0  0  0  0\\n    8.2502   11.2283    1.1511 C   0  0  0  0  0  0  0  0  0  0  0  0\\n    8.8369   11.8871   -0.0933 C   0  0  0  0  0  0  0  0  0  0  0  0\\n   11.1180   12.6512   -0.7725 C   0  0  0  0  0  0  0  0  0  0  0  0\\n   12.4001   13.1758   -0.2422 C   0  0  0  0  0  0  0  0  0  0  0  0\\n   13.7035   13.5657    1.6247 C   0  0  0  0  0  0  0  0  0  0  0  0\\n   13.8306   13.4466    3.0985 C   0  0  0  0  0  0  0  0  0  0  0  0\\n   12.7087   12.4694    5.1036 C   0  0  0  0  0  0  0  0  0  0  0  0\\n   13.3670   11.0971    5.2147 C   0  0  0  0  0  0  0  0  0  0  0  0\\n   12.8719    7.0744    2.3484 C   0  0  0  0  0  0  0  0  0  0  0  0\\n   12.0019    6.3879    1.5078 C   0  0  0  0  0  0  0  0  0  0  0  0\\n   10.7958    6.9684    1.1169 C   0  0  0  0  0  0  0  0  0  0  0  0\\n   13.3989   13.6260   -1.0964 C   0  0  0  0  0  0  0  0  0  0  0  0\\n   14.5897   14.0704   -0.5253 C   0  0  0  0  0  0  0  0  0  0  0  0\\n   14.7581   14.0410    0.8567 C   0  0  0  0  0  0  0  0  0  0  0  0\\n  1 11  2  0\\n  4 20  2  0\\n  6 13  2  0\\n  7 15  1  0\\n  8 16  1  0\\n  9 18  1  0\\n 11  5  1  0\\n 11 12  1  0\\n 12  6  1  0\\n 13 14  1  0\\n 14  7  1  0\\n 14  2  2  0\\n 16 15  1  0\\n 17  3  2  0\\n 17  8  1  0\\n 18 17  1  0\\n 19  9  2  0\\n 20 19  1  0\\n 20 10  1  0\\n 21 10  1  0\\n 22 21  1  0\\n 22  5  1  0\\n 23 12  2  0\\n 23 24  1  0\\n 24 25  2  0\\n 25 13  1  0\\n 26 18  2  0\\n 27 26  1  0\\n 28 27  2  0\\n 28 19  1  0\\nM  END\\n\",\"sdf\");\n",
       "\tviewer_14907064859033403.addModel(\"m1_crystal.xyz\\n     RDKit          3D\\n\\n 28 30  0  0  0  0  0  0  0  0999 V2000\\n   10.0102   13.0616   -1.2836 O   0  0  0  0  0  0  0  0  0  0  0  0\\n   15.4094   12.0885    2.9541 O   0  0  0  0  0  0  0  0  0  0  0  0\\n   13.6037    9.0308    5.0370 O   0  0  0  0  0  0  0  0  0  0  0  0\\n    9.9304    9.1105   -0.8428 O   0  0  0  0  0  0  0  0  0  0  0  0\\n    9.8479   12.6680    0.9973 N   0  0  0  0  0  0  0  0  0  0  0  0\\n   12.4752   12.8217    1.2298 N   0  0  0  0  0  0  0  0  0  0  0  0\\n   13.3602   12.8514    3.7528 N   0  0  0  0  0  0  0  0  0  0  0  0\\n   11.9192   10.5499    4.5452 N   0  0  0  0  0  0  0  0  0  0  0  0\\n   11.3094    9.1861    2.3618 N   0  0  0  0  0  0  0  0  0  0  0  0\\n    9.0603    9.9640    1.1387 N   0  0  0  0  0  0  0  0  0  0  0  0\\n   10.5297   12.9215   -0.1815 C   0  0  0  0  0  0  0  0  0  0  0  0\\n   12.0072   12.9806   -0.0290 C   0  0  0  0  0  0  0  0  0  0  0  0\\n   13.8202   12.8190    1.3918 C   0  0  0  0  0  0  0  0  0  0  0  0\\n   14.2908   12.5560    2.7689 C   0  0  0  0  0  0  0  0  0  0  0  0\\n   13.4797   12.3838    5.1257 C   0  0  0  0  0  0  0  0  0  0  0  0\\n   12.2619   11.5541    5.5385 C   0  0  0  0  0  0  0  0  0  0  0  0\\n   12.6962    9.4267    4.3137 C   0  0  0  0  0  0  0  0  0  0  0  0\\n   12.3885    8.7300    3.0415 C   0  0  0  0  0  0  0  0  0  0  0  0\\n   11.0705    8.6314    1.1517 C   0  0  0  0  0  0  0  0  0  0  0  0\\n    9.9648    9.2401    0.3771 C   0  0  0  0  0  0  0  0  0  0  0  0\\n    8.1379   10.9265    0.5556 C   0  0  0  0  0  0  0  0  0  0  0  0\\n    8.4319   12.3433    1.0486 C   0  0  0  0  0  0  0  0  0  0  0  0\\n   12.8286   13.1498   -1.1359 C   0  0  0  0  0  0  0  0  0  0  0  0\\n   14.2076   13.1510   -0.9304 C   0  0  0  0  0  0  0  0  0  0  0  0\\n   14.7229   12.9744    0.3519 C   0  0  0  0  0  0  0  0  0  0  0  0\\n   13.2255    7.7260    2.5757 C   0  0  0  0  0  0  0  0  0  0  0  0\\n   12.9442    7.1744    1.3293 C   0  0  0  0  0  0  0  0  0  0  0  0\\n   11.8523    7.6311    0.5929 C   0  0  0  0  0  0  0  0  0  0  0  0\\n  1 11  2  0\\n  4 20  2  0\\n  6 13  2  0\\n  7 15  1  0\\n  8 16  1  0\\n  9 18  1  0\\n 11  5  1  0\\n 11 12  1  0\\n 12  6  1  0\\n 13 14  1  0\\n 14  7  1  0\\n 14  2  2  0\\n 16 15  1  0\\n 17  3  2  0\\n 17  8  1  0\\n 18 17  1  0\\n 19  9  2  0\\n 20 19  1  0\\n 20 10  1  0\\n 21 10  1  0\\n 22 21  1  0\\n 22  5  1  0\\n 23 12  2  0\\n 23 24  1  0\\n 24 25  2  0\\n 25 13  1  0\\n 26 18  2  0\\n 27 26  1  0\\n 28 27  2  0\\n 28 19  1  0\\nM  END\\n\",\"sdf\");\n",
       "\tviewer_14907064859033403.addModel(\"m1_crystal.xyz\\n     RDKit          3D\\n\\n 28 30  0  0  0  0  0  0  0  0999 V2000\\n   14.2533    9.3048    4.4040 O   0  0  0  0  0  0  0  0  0  0  0  0\\n    9.1026    8.9934   -0.3062 O   0  0  0  0  0  0  0  0  0  0  0  0\\n   10.4788   12.1630   -1.6393 O   0  0  0  0  0  0  0  0  0  0  0  0\\n   15.1746   12.5493    3.4069 O   0  0  0  0  0  0  0  0  0  0  0  0\\n   12.1842   10.3414    4.6065 N   0  0  0  0  0  0  0  0  0  0  0  0\\n   11.4027    9.2907    2.3426 N   0  0  0  0  0  0  0  0  0  0  0  0\\n    9.0700   10.2300    1.6627 N   0  0  0  0  0  0  0  0  0  0  0  0\\n    9.7932   12.6533    0.5231 N   0  0  0  0  0  0  0  0  0  0  0  0\\n   12.4082   12.7304    1.2383 N   0  0  0  0  0  0  0  0  0  0  0  0\\n   12.9237   12.8565    3.8769 N   0  0  0  0  0  0  0  0  0  0  0  0\\n   13.1166    9.5166    3.9982 C   0  0  0  0  0  0  0  0  0  0  0  0\\n   12.6306    8.8910    2.7419 C   0  0  0  0  0  0  0  0  0  0  0  0\\n   10.9231    8.7836    1.1831 C   0  0  0  0  0  0  0  0  0  0  0  0\\n    9.6025    9.3208    0.7633 C   0  0  0  0  0  0  0  0  0  0  0  0\\n    7.9931   11.1514    1.3485 C   0  0  0  0  0  0  0  0  0  0  0  0\\n    8.4077   12.2363    0.3555 C   0  0  0  0  0  0  0  0  0  0  0  0\\n   10.7321   12.4962   -0.4848 C   0  0  0  0  0  0  0  0  0  0  0  0\\n   12.1410   12.7250   -0.0896 C   0  0  0  0  0  0  0  0  0  0  0  0\\n   13.7155   12.8212    1.5887 C   0  0  0  0  0  0  0  0  0  0  0  0\\n   14.0190   12.7359    3.0362 C   0  0  0  0  0  0  0  0  0  0  0  0\\n   13.0146   12.5961    5.3033 C   0  0  0  0  0  0  0  0  0  0  0  0\\n   12.4780   11.2224    5.7205 C   0  0  0  0  0  0  0  0  0  0  0  0\\n   13.4087    7.9921    2.0294 C   0  0  0  0  0  0  0  0  0  0  0  0\\n   12.8813    7.4787    0.8441 C   0  0  0  0  0  0  0  0  0  0  0  0\\n   11.6195    7.8760    0.4019 C   0  0  0  0  0  0  0  0  0  0  0  0\\n   13.1139   12.8305   -1.0775 C   0  0  0  0  0  0  0  0  0  0  0  0\\n   14.4402   12.9399   -0.6772 C   0  0  0  0  0  0  0  0  0  0  0  0\\n   14.7580   12.9257    0.6756 C   0  0  0  0  0  0  0  0  0  0  0  0\\n  1 11  2  0\\n  4 20  2  0\\n  6 13  2  0\\n  7 15  1  0\\n  8 16  1  0\\n  9 18  1  0\\n 11  5  1  0\\n 11 12  1  0\\n 12  6  1  0\\n 13 14  1  0\\n 14  7  1  0\\n 14  2  2  0\\n 16 15  1  0\\n 17  3  2  0\\n 17  8  1  0\\n 18 17  1  0\\n 19  9  2  0\\n 20 19  1  0\\n 20 10  1  0\\n 21 10  1  0\\n 22 21  1  0\\n 22  5  1  0\\n 23 12  2  0\\n 23 24  1  0\\n 24 25  2  0\\n 25 13  1  0\\n 26 18  2  0\\n 27 26  1  0\\n 28 27  2  0\\n 28 19  1  0\\nM  END\\n\",\"sdf\");\n",
       "\tviewer_14907064859033403.addModel(\"\\n     RDKit          3D\\n\\n 28 30  0  0  0  0  0  0  0  0999 V2000\\n    3.9390   -3.2867   -0.1587 O   0  0  0  0  0  0  0  0  0  0  0  0\\n    3.1610   -2.2968   -0.2232 C   0  0  0  0  0  0  0  0  0  0  0  0\\n    1.7496   -2.5136   -0.1207 N   0  0  0  0  0  0  0  0  0  0  0  0\\n    0.8265   -1.9568   -1.1090 C   0  0  0  0  0  0  0  0  0  0  0  0\\n   -0.5133   -1.5909   -0.4655 C   0  0  0  0  0  0  0  0  0  0  0  0\\n   -1.2498   -2.7792   -0.0275 N   0  0  0  0  0  0  0  0  0  0  0  0\\n   -2.4797   -2.7512    0.7224 C   0  0  0  0  0  0  0  0  0  0  0  0\\n   -2.8582   -3.8202    1.2742 O   0  0  0  0  0  0  0  0  0  0  0  0\\n   -3.3401   -1.5414    0.8442 C   0  0  0  0  0  0  0  0  0  0  0  0\\n   -3.0024   -0.3814    0.2176 N   0  0  0  0  0  0  0  0  0  0  0  0\\n   -3.7841    0.7314    0.2488 C   0  0  0  0  0  0  0  0  0  0  0  0\\n   -3.3623    1.9345   -0.4919 C   0  0  0  0  0  0  0  0  0  0  0  0\\n   -4.2322    2.7220   -0.9524 O   0  0  0  0  0  0  0  0  0  0  0  0\\n   -1.9756    2.2082   -0.7279 N   0  0  0  0  0  0  0  0  0  0  0  0\\n   -1.0286    2.2518    0.3858 C   0  0  0  0  0  0  0  0  0  0  0  0\\n    0.4156    2.1533   -0.1174 C   0  0  0  0  0  0  0  0  0  0  0  0\\n    1.3586    2.3957    0.9744 N   0  0  0  0  0  0  0  0  0  0  0  0\\n    2.7633    2.5022    0.7267 C   0  0  0  0  0  0  0  0  0  0  0  0\\n    3.3726    3.5371    1.1097 O   0  0  0  0  0  0  0  0  0  0  0  0\\n    3.5163    1.4009    0.0930 C   0  0  0  0  0  0  0  0  0  0  0  0\\n    3.0191    0.1322    0.1246 N   0  0  0  0  0  0  0  0  0  0  0  0\\n    3.7178   -0.9358   -0.3552 C   0  0  0  0  0  0  0  0  0  0  0  0\\n    4.9926   -0.7351   -0.9052 C   0  0  0  0  0  0  0  0  0  0  0  0\\n    5.5191    0.5546   -0.9631 C   0  0  0  0  0  0  0  0  0  0  0  0\\n    4.7877    1.6284   -0.4565 C   0  0  0  0  0  0  0  0  0  0  0  0\\n   -4.9999    0.6983    0.9443 C   0  0  0  0  0  0  0  0  0  0  0  0\\n   -5.3715   -0.4681    1.6125 C   0  0  0  0  0  0  0  0  0  0  0  0\\n   -4.5458   -1.5928    1.5662 C   0  0  0  0  0  0  0  0  0  0  0  0\\n  1  2  2  0\\n  2  3  1  0\\n  3  4  1  0\\n  4  5  1  0\\n  5  6  1  0\\n  6  7  1  0\\n  7  8  2  0\\n  7  9  1  0\\n  9 10  1  0\\n 10 11  2  0\\n 11 12  1  0\\n 12 13  2  0\\n 12 14  1  0\\n 14 15  1  0\\n 15 16  1  0\\n 16 17  1  0\\n 17 18  1  0\\n 18 19  2  0\\n 18 20  1  0\\n 20 21  1  0\\n 21 22  2  0\\n 22 23  1  0\\n 23 24  2  0\\n 24 25  1  0\\n 11 26  1  0\\n 26 27  2  0\\n 27 28  1  0\\n 22  2  1  0\\n 28  9  2  0\\n 25 20  2  0\\nM  END\\n\",\"sdf\");\n",
       "\tviewer_14907064859033403.addModel(\"\\n     RDKit          3D\\n\\n 28 30  0  0  0  0  0  0  0  0999 V2000\\n    3.3859    1.3534    3.3557 O   0  0  0  0  0  0  0  0  0  0  0  0\\n    2.8147    1.1257    2.2550 C   0  0  0  0  0  0  0  0  0  0  0  0\\n    1.5016    1.6629    2.0376 N   0  0  0  0  0  0  0  0  0  0  0  0\\n    1.0966    2.2952    0.7819 C   0  0  0  0  0  0  0  0  0  0  0  0\\n   -0.3691    1.9720    0.4836 C   0  0  0  0  0  0  0  0  0  0  0  0\\n   -0.7652    2.4853   -0.8290 N   0  0  0  0  0  0  0  0  0  0  0  0\\n   -2.1205    2.4769   -1.3082 C   0  0  0  0  0  0  0  0  0  0  0  0\\n   -2.4465    3.3108   -2.1960 O   0  0  0  0  0  0  0  0  0  0  0  0\\n   -3.1401    1.5165   -0.8186 C   0  0  0  0  0  0  0  0  0  0  0  0\\n   -2.7630    0.3321   -0.2613 N   0  0  0  0  0  0  0  0  0  0  0  0\\n   -3.6596   -0.6049    0.1565 C   0  0  0  0  0  0  0  0  0  0  0  0\\n   -3.1868   -1.8628    0.7808 C   0  0  0  0  0  0  0  0  0  0  0  0\\n   -3.9802   -2.5318    1.4969 O   0  0  0  0  0  0  0  0  0  0  0  0\\n   -1.8335   -2.3214    0.6417 N   0  0  0  0  0  0  0  0  0  0  0  0\\n   -1.1184   -2.3223   -0.6349 C   0  0  0  0  0  0  0  0  0  0  0  0\\n    0.3684   -2.0423   -0.4018 C   0  0  0  0  0  0  0  0  0  0  0  0\\n    1.0721   -1.8472   -1.6711 N   0  0  0  0  0  0  0  0  0  0  0  0\\n    2.4984   -1.7034   -1.7702 C   0  0  0  0  0  0  0  0  0  0  0  0\\n    3.0630   -2.0508   -2.8427 O   0  0  0  0  0  0  0  0  0  0  0  0\\n    3.3239   -1.1377   -0.6758 C   0  0  0  0  0  0  0  0  0  0  0  0\\n    2.7650   -0.3159    0.2557 N   0  0  0  0  0  0  0  0  0  0  0  0\\n    3.4879    0.2683    1.2518 C   0  0  0  0  0  0  0  0  0  0  0  0\\n    4.8651    0.0120    1.3375 C   0  0  0  0  0  0  0  0  0  0  0  0\\n    5.4688   -0.8183    0.3935 C   0  0  0  0  0  0  0  0  0  0  0  0\\n    4.7032   -1.3926   -0.6210 C   0  0  0  0  0  0  0  0  0  0  0  0\\n   -5.0322   -0.3440    0.0244 C   0  0  0  0  0  0  0  0  0  0  0  0\\n   -5.4507    0.8567   -0.5484 C   0  0  0  0  0  0  0  0  0  0  0  0\\n   -4.5077    1.7900   -0.9784 C   0  0  0  0  0  0  0  0  0  0  0  0\\n  1  2  2  0\\n  2  3  1  0\\n  3  4  1  0\\n  4  5  1  0\\n  5  6  1  0\\n  6  7  1  0\\n  7  8  2  0\\n  7  9  1  0\\n  9 10  1  0\\n 10 11  2  0\\n 11 12  1  0\\n 12 13  2  0\\n 12 14  1  0\\n 14 15  1  0\\n 15 16  1  0\\n 16 17  1  0\\n 17 18  1  0\\n 18 19  2  0\\n 18 20  1  0\\n 20 21  1  0\\n 21 22  2  0\\n 22 23  1  0\\n 23 24  2  0\\n 24 25  1  0\\n 11 26  1  0\\n 26 27  2  0\\n 27 28  1  0\\n 22  2  1  0\\n 28  9  2  0\\n 25 20  2  0\\nM  END\\n\",\"sdf\");\n",
       "\tviewer_14907064859033403.addModel(\"\\n     RDKit          3D\\n\\n 28 30  0  0  0  0  0  0  0  0999 V2000\\n   -3.7017    3.4568    0.8614 O   0  0  0  0  0  0  0  0  0  0  0  0\\n   -2.9258    2.4835    0.6617 C   0  0  0  0  0  0  0  0  0  0  0  0\\n   -1.5336    2.6284    0.9647 N   0  0  0  0  0  0  0  0  0  0  0  0\\n   -0.5338    2.5046   -0.0956 C   0  0  0  0  0  0  0  0  0  0  0  0\\n    0.8735    2.3475    0.4966 C   0  0  0  0  0  0  0  0  0  0  0  0\\n    1.8945    2.5025   -0.5392 N   0  0  0  0  0  0  0  0  0  0  0  0\\n    3.2495    2.1228   -0.2739 C   0  0  0  0  0  0  0  0  0  0  0  0\\n    4.1522    3.0020   -0.3112 O   0  0  0  0  0  0  0  0  0  0  0  0\\n    3.6057    0.7172   -0.0010 C   0  0  0  0  0  0  0  0  0  0  0  0\\n    2.8131   -0.2819   -0.4763 N   0  0  0  0  0  0  0  0  0  0  0  0\\n    3.1036   -1.6009   -0.3014 C   0  0  0  0  0  0  0  0  0  0  0  0\\n    2.2333   -2.6515   -0.8920 C   0  0  0  0  0  0  0  0  0  0  0  0\\n    2.7000   -3.8134   -1.0403 O   0  0  0  0  0  0  0  0  0  0  0  0\\n    0.8836   -2.4007   -1.3283 N   0  0  0  0  0  0  0  0  0  0  0  0\\n    0.0370   -1.3011   -0.8635 C   0  0  0  0  0  0  0  0  0  0  0  0\\n   -0.2297   -1.4093    0.6452 C   0  0  0  0  0  0  0  0  0  0  0  0\\n   -1.2284   -2.4403    0.9306 N   0  0  0  0  0  0  0  0  0  0  0  0\\n   -2.5935   -2.4230    0.4716 C   0  0  0  0  0  0  0  0  0  0  0  0\\n   -3.2211   -3.5158    0.4311 O   0  0  0  0  0  0  0  0  0  0  0  0\\n   -3.2988   -1.1774    0.0699 C   0  0  0  0  0  0  0  0  0  0  0  0\\n   -2.8296    0.0408    0.4585 N   0  0  0  0  0  0  0  0  0  0  0  0\\n   -3.4679    1.2056    0.1612 C   0  0  0  0  0  0  0  0  0  0  0  0\\n   -4.6670    1.1660   -0.5640 C   0  0  0  0  0  0  0  0  0  0  0  0\\n   -5.1723   -0.0647   -0.9829 C   0  0  0  0  0  0  0  0  0  0  0  0\\n   -4.4942   -1.2421   -0.6650 C   0  0  0  0  0  0  0  0  0  0  0  0\\n    4.2724   -1.9525    0.3941 C   0  0  0  0  0  0  0  0  0  0  0  0\\n    5.1064   -0.9500    0.8912 C   0  0  0  0  0  0  0  0  0  0  0  0\\n    4.7816    0.3914    0.6892 C   0  0  0  0  0  0  0  0  0  0  0  0\\n  1  2  2  0\\n  2  3  1  0\\n  3  4  1  0\\n  4  5  1  0\\n  5  6  1  0\\n  6  7  1  0\\n  7  8  2  0\\n  7  9  1  0\\n  9 10  1  0\\n 10 11  2  0\\n 11 12  1  0\\n 12 13  2  0\\n 12 14  1  0\\n 14 15  1  0\\n 15 16  1  0\\n 16 17  1  0\\n 17 18  1  0\\n 18 19  2  0\\n 18 20  1  0\\n 20 21  1  0\\n 21 22  2  0\\n 22 23  1  0\\n 23 24  2  0\\n 24 25  1  0\\n 11 26  1  0\\n 26 27  2  0\\n 27 28  1  0\\n 22  2  1  0\\n 28  9  2  0\\n 25 20  2  0\\nM  END\\n\",\"sdf\");\n",
       "\tviewer_14907064859033403.addModel(\"\\n     RDKit          3D\\n\\n 28 30  0  0  0  0  0  0  0  0999 V2000\\n   -3.9852    2.3096    1.9552 O   0  0  0  0  0  0  0  0  0  0  0  0\\n   -3.1686    1.8184    1.1303 C   0  0  0  0  0  0  0  0  0  0  0  0\\n   -1.8624    2.4028    1.0140 N   0  0  0  0  0  0  0  0  0  0  0  0\\n   -1.1090    2.3992   -0.2407 C   0  0  0  0  0  0  0  0  0  0  0  0\\n    0.3740    2.7145    0.0142 C   0  0  0  0  0  0  0  0  0  0  0  0\\n    1.2307    2.1081   -1.0033 N   0  0  0  0  0  0  0  0  0  0  0  0\\n    2.6510    2.2068   -0.8956 C   0  0  0  0  0  0  0  0  0  0  0  0\\n    3.2175    3.3136   -1.1009 O   0  0  0  0  0  0  0  0  0  0  0  0\\n    3.4360    1.0204   -0.5173 C   0  0  0  0  0  0  0  0  0  0  0  0\\n    2.8159    0.0036    0.1397 N   0  0  0  0  0  0  0  0  0  0  0  0\\n    3.4654   -1.1131    0.5633 C   0  0  0  0  0  0  0  0  0  0  0  0\\n    2.7488   -2.1640    1.3407 C   0  0  0  0  0  0  0  0  0  0  0  0\\n    3.3873   -3.1941    1.6891 O   0  0  0  0  0  0  0  0  0  0  0  0\\n    1.3736   -2.0509    1.7647 N   0  0  0  0  0  0  0  0  0  0  0  0\\n    0.3630   -1.1472    1.2106 C   0  0  0  0  0  0  0  0  0  0  0  0\\n    0.0045   -1.5430   -0.2246 C   0  0  0  0  0  0  0  0  0  0  0  0\\n   -0.8854   -2.7009   -0.2120 N   0  0  0  0  0  0  0  0  0  0  0  0\\n   -2.2432   -2.6942   -0.6830 C   0  0  0  0  0  0  0  0  0  0  0  0\\n   -2.7114   -3.7665   -1.1531 O   0  0  0  0  0  0  0  0  0  0  0  0\\n   -3.1324   -1.5039   -0.5850 C   0  0  0  0  0  0  0  0  0  0  0  0\\n   -2.7748   -0.4163    0.1592 N   0  0  0  0  0  0  0  0  0  0  0  0\\n   -3.5912    0.6675    0.3074 C   0  0  0  0  0  0  0  0  0  0  0  0\\n   -4.8574    0.6655   -0.2907 C   0  0  0  0  0  0  0  0  0  0  0  0\\n   -5.2496   -0.4277   -1.0594 C   0  0  0  0  0  0  0  0  0  0  0  0\\n   -4.3910   -1.5153   -1.2118 C   0  0  0  0  0  0  0  0  0  0  0  0\\n    4.8407   -1.2343    0.2948 C   0  0  0  0  0  0  0  0  0  0  0  0\\n    5.5069   -0.2067   -0.3772 C   0  0  0  0  0  0  0  0  0  0  0  0\\n    4.8093    0.9334   -0.7783 C   0  0  0  0  0  0  0  0  0  0  0  0\\n  1  2  2  0\\n  2  3  1  0\\n  3  4  1  0\\n  4  5  1  0\\n  5  6  1  0\\n  6  7  1  0\\n  7  8  2  0\\n  7  9  1  0\\n  9 10  1  0\\n 10 11  2  0\\n 11 12  1  0\\n 12 13  2  0\\n 12 14  1  0\\n 14 15  1  0\\n 15 16  1  0\\n 16 17  1  0\\n 17 18  1  0\\n 18 19  2  0\\n 18 20  1  0\\n 20 21  1  0\\n 21 22  2  0\\n 22 23  1  0\\n 23 24  2  0\\n 24 25  1  0\\n 11 26  1  0\\n 26 27  2  0\\n 27 28  1  0\\n 22  2  1  0\\n 28  9  2  0\\n 25 20  2  0\\nM  END\\n\",\"sdf\");\n",
       "\tviewer_14907064859033403.addModel(\"\\n     RDKit          3D\\n\\n 28 30  0  0  0  0  0  0  0  0999 V2000\\n    4.3736   -2.9680    1.0277 O   0  0  0  0  0  0  0  0  0  0  0  0\\n    3.3737   -2.4012    0.5099 C   0  0  0  0  0  0  0  0  0  0  0  0\\n    2.3548   -3.2109   -0.0952 N   0  0  0  0  0  0  0  0  0  0  0  0\\n    0.9337   -2.9474    0.1254 C   0  0  0  0  0  0  0  0  0  0  0  0\\n    0.0888   -3.5485   -1.0036 C   0  0  0  0  0  0  0  0  0  0  0  0\\n   -1.2906   -3.0759   -0.8996 N   0  0  0  0  0  0  0  0  0  0  0  0\\n   -1.6142   -1.7053   -1.1733 C   0  0  0  0  0  0  0  0  0  0  0  0\\n   -0.9042   -1.0471   -1.9818 O   0  0  0  0  0  0  0  0  0  0  0  0\\n   -2.6708   -1.0049   -0.4272 C   0  0  0  0  0  0  0  0  0  0  0  0\\n   -2.4669    0.2986   -0.1082 N   0  0  0  0  0  0  0  0  0  0  0  0\\n   -3.3387    1.0347    0.6274 C   0  0  0  0  0  0  0  0  0  0  0  0\\n   -3.0099    2.4403    0.9953 C   0  0  0  0  0  0  0  0  0  0  0  0\\n   -3.8525    3.1053    1.6570 O   0  0  0  0  0  0  0  0  0  0  0  0\\n   -1.7583    3.0755    0.6580 N   0  0  0  0  0  0  0  0  0  0  0  0\\n   -0.7577    2.5141   -0.2545 C   0  0  0  0  0  0  0  0  0  0  0  0\\n    0.4135    3.4766   -0.4725 C   0  0  0  0  0  0  0  0  0  0  0  0\\n    1.2508    3.0267   -1.5883 N   0  0  0  0  0  0  0  0  0  0  0  0\\n    1.8246    1.7120   -1.6710 C   0  0  0  0  0  0  0  0  0  0  0  0\\n    1.7344    1.0778   -2.7560 O   0  0  0  0  0  0  0  0  0  0  0  0\\n    2.5339    1.0847   -0.5380 C   0  0  0  0  0  0  0  0  0  0  0  0\\n    2.6117   -0.2750   -0.4732 N   0  0  0  0  0  0  0  0  0  0  0  0\\n    3.2971   -0.9233    0.5104 C   0  0  0  0  0  0  0  0  0  0  0  0\\n    3.9713   -0.1729    1.4852 C   0  0  0  0  0  0  0  0  0  0  0  0\\n    3.9211    1.2204    1.4351 C   0  0  0  0  0  0  0  0  0  0  0  0\\n    3.2095    1.8570    0.4180 C   0  0  0  0  0  0  0  0  0  0  0  0\\n   -4.5280    0.4272    1.0657 C   0  0  0  0  0  0  0  0  0  0  0  0\\n   -4.7752   -0.9118    0.7472 C   0  0  0  0  0  0  0  0  0  0  0  0\\n   -3.8421   -1.6404    0.0051 C   0  0  0  0  0  0  0  0  0  0  0  0\\n  1  2  2  0\\n  2  3  1  0\\n  3  4  1  0\\n  4  5  1  0\\n  5  6  1  0\\n  6  7  1  0\\n  7  8  2  0\\n  7  9  1  0\\n  9 10  1  0\\n 10 11  2  0\\n 11 12  1  0\\n 12 13  2  0\\n 12 14  1  0\\n 14 15  1  0\\n 15 16  1  0\\n 16 17  1  0\\n 17 18  1  0\\n 18 19  2  0\\n 18 20  1  0\\n 20 21  1  0\\n 21 22  2  0\\n 22 23  1  0\\n 23 24  2  0\\n 24 25  1  0\\n 11 26  1  0\\n 26 27  2  0\\n 27 28  1  0\\n 22  2  1  0\\n 28  9  2  0\\n 25 20  2  0\\nM  END\\n\",\"sdf\");\n",
       "\tviewer_14907064859033403.addModel(\"\\n     RDKit          3D\\n\\n 28 30  0  0  0  0  0  0  0  0999 V2000\\n    3.4062   -2.7734   -1.2735 O   0  0  0  0  0  0  0  0  0  0  0  0\\n    2.7526   -1.9226   -0.6121 C   0  0  0  0  0  0  0  0  0  0  0  0\\n    1.3808   -2.1847   -0.2939 N   0  0  0  0  0  0  0  0  0  0  0  0\\n    0.9465   -2.2362    1.1034 C   0  0  0  0  0  0  0  0  0  0  0  0\\n   -0.5507   -1.9371    1.2441 C   0  0  0  0  0  0  0  0  0  0  0  0\\n   -1.3698   -2.8681    0.4671 N   0  0  0  0  0  0  0  0  0  0  0  0\\n   -2.7855   -2.6846    0.3284 C   0  0  0  0  0  0  0  0  0  0  0  0\\n   -3.5359   -3.6973    0.3304 O   0  0  0  0  0  0  0  0  0  0  0  0\\n   -3.3851   -1.3434    0.1714 C   0  0  0  0  0  0  0  0  0  0  0  0\\n   -2.7614   -0.3973   -0.5875 N   0  0  0  0  0  0  0  0  0  0  0  0\\n   -3.2867    0.8448   -0.7891 C   0  0  0  0  0  0  0  0  0  0  0  0\\n   -2.6131    1.8238   -1.6837 C   0  0  0  0  0  0  0  0  0  0  0  0\\n   -3.2907    2.7761   -2.1572 O   0  0  0  0  0  0  0  0  0  0  0  0\\n   -1.2288    1.7243   -2.0656 N   0  0  0  0  0  0  0  0  0  0  0  0\\n   -0.1842    1.0526   -1.2930 C   0  0  0  0  0  0  0  0  0  0  0  0\\n    0.0293    1.7341    0.0678 C   0  0  0  0  0  0  0  0  0  0  0  0\\n    0.9141    2.8884   -0.0764 N   0  0  0  0  0  0  0  0  0  0  0  0\\n    2.3143    2.8996    0.2631 C   0  0  0  0  0  0  0  0  0  0  0  0\\n    2.8465    4.0082    0.5419 O   0  0  0  0  0  0  0  0  0  0  0  0\\n    3.1693    1.6789    0.2381 C   0  0  0  0  0  0  0  0  0  0  0  0\\n    2.6467    0.4709   -0.1110 N   0  0  0  0  0  0  0  0  0  0  0  0\\n    3.3952   -0.6608   -0.2037 C   0  0  0  0  0  0  0  0  0  0  0  0\\n    4.7712   -0.5977    0.0506 C   0  0  0  0  0  0  0  0  0  0  0  0\\n    5.3401    0.6201    0.4240 C   0  0  0  0  0  0  0  0  0  0  0  0\\n    4.5440    1.7632    0.5208 C   0  0  0  0  0  0  0  0  0  0  0  0\\n   -4.5224    1.1640   -0.2008 C   0  0  0  0  0  0  0  0  0  0  0  0\\n   -5.1864    0.2114    0.5718 C   0  0  0  0  0  0  0  0  0  0  0  0\\n   -4.6256   -1.0515    0.7534 C   0  0  0  0  0  0  0  0  0  0  0  0\\n  1  2  2  0\\n  2  3  1  0\\n  3  4  1  0\\n  4  5  1  0\\n  5  6  1  0\\n  6  7  1  0\\n  7  8  2  0\\n  7  9  1  0\\n  9 10  1  0\\n 10 11  2  0\\n 11 12  1  0\\n 12 13  2  0\\n 12 14  1  0\\n 14 15  1  0\\n 15 16  1  0\\n 16 17  1  0\\n 17 18  1  0\\n 18 19  2  0\\n 18 20  1  0\\n 20 21  1  0\\n 21 22  2  0\\n 22 23  1  0\\n 23 24  2  0\\n 24 25  1  0\\n 11 26  1  0\\n 26 27  2  0\\n 27 28  1  0\\n 22  2  1  0\\n 28  9  2  0\\n 25 20  2  0\\nM  END\\n\",\"sdf\");\n",
       "\tviewer_14907064859033403.addModel(\"\\n     RDKit          3D\\n\\n 28 30  0  0  0  0  0  0  0  0999 V2000\\n    3.5019   -2.9983    1.8298 O   0  0  0  0  0  0  0  0  0  0  0  0\\n    2.8920   -2.1483    1.1263 C   0  0  0  0  0  0  0  0  0  0  0  0\\n    1.4866   -2.3215    0.8970 N   0  0  0  0  0  0  0  0  0  0  0  0\\n    0.8898   -2.1520   -0.4280 C   0  0  0  0  0  0  0  0  0  0  0  0\\n   -0.5615   -1.6731   -0.3102 C   0  0  0  0  0  0  0  0  0  0  0  0\\n   -1.4632   -2.7487    0.0980 N   0  0  0  0  0  0  0  0  0  0  0  0\\n   -2.8749   -2.5848    0.3368 C   0  0  0  0  0  0  0  0  0  0  0  0\\n   -3.5168   -3.5847    0.7596 O   0  0  0  0  0  0  0  0  0  0  0  0\\n   -3.6170   -1.3093    0.1026 C   0  0  0  0  0  0  0  0  0  0  0  0\\n   -2.9814   -0.1905   -0.3506 N   0  0  0  0  0  0  0  0  0  0  0  0\\n   -3.6324    0.9824   -0.5946 C   0  0  0  0  0  0  0  0  0  0  0  0\\n   -2.8920    2.1483   -1.1263 C   0  0  0  0  0  0  0  0  0  0  0  0\\n   -3.5019    2.9983   -1.8298 O   0  0  0  0  0  0  0  0  0  0  0  0\\n   -1.4866    2.3215   -0.8970 N   0  0  0  0  0  0  0  0  0  0  0  0\\n   -0.8898    2.1520    0.4280 C   0  0  0  0  0  0  0  0  0  0  0  0\\n    0.5615    1.6731    0.3102 C   0  0  0  0  0  0  0  0  0  0  0  0\\n    1.4632    2.7487   -0.0980 N   0  0  0  0  0  0  0  0  0  0  0  0\\n    2.8749    2.5848   -0.3368 C   0  0  0  0  0  0  0  0  0  0  0  0\\n    3.5168    3.5847   -0.7596 O   0  0  0  0  0  0  0  0  0  0  0  0\\n    3.6170    1.3093   -0.1026 C   0  0  0  0  0  0  0  0  0  0  0  0\\n    2.9814    0.1905    0.3506 N   0  0  0  0  0  0  0  0  0  0  0  0\\n    3.6324   -0.9824    0.5946 C   0  0  0  0  0  0  0  0  0  0  0  0\\n    5.0168   -1.0537    0.3877 C   0  0  0  0  0  0  0  0  0  0  0  0\\n    5.6973    0.0671   -0.0838 C   0  0  0  0  0  0  0  0  0  0  0  0\\n    5.0036    1.2513   -0.3313 C   0  0  0  0  0  0  0  0  0  0  0  0\\n   -5.0168    1.0537   -0.3877 C   0  0  0  0  0  0  0  0  0  0  0  0\\n   -5.6973   -0.0671    0.0838 C   0  0  0  0  0  0  0  0  0  0  0  0\\n   -5.0036   -1.2513    0.3313 C   0  0  0  0  0  0  0  0  0  0  0  0\\n  1  2  2  0\\n  2  3  1  0\\n  3  4  1  0\\n  4  5  1  0\\n  5  6  1  0\\n  6  7  1  0\\n  7  8  2  0\\n  7  9  1  0\\n  9 10  1  0\\n 10 11  2  0\\n 11 12  1  0\\n 12 13  2  0\\n 12 14  1  0\\n 14 15  1  0\\n 15 16  1  0\\n 16 17  1  0\\n 17 18  1  0\\n 18 19  2  0\\n 18 20  1  0\\n 20 21  1  0\\n 21 22  2  0\\n 22 23  1  0\\n 23 24  2  0\\n 24 25  1  0\\n 11 26  1  0\\n 26 27  2  0\\n 27 28  1  0\\n 22  2  1  0\\n 28  9  2  0\\n 25 20  2  0\\nM  END\\n\",\"sdf\");\n",
       "\tviewer_14907064859033403.addModel(\"\\n     RDKit          3D\\n\\n 28 30  0  0  0  0  0  0  0  0999 V2000\\n   -3.1061    3.5543   -1.5472 O   0  0  0  0  0  0  0  0  0  0  0  0\\n   -2.5752    2.5073   -1.0879 C   0  0  0  0  0  0  0  0  0  0  0  0\\n   -1.1492    2.4092   -1.0625 N   0  0  0  0  0  0  0  0  0  0  0  0\\n   -0.4358    2.1460    0.1869 C   0  0  0  0  0  0  0  0  0  0  0  0\\n    1.0756    2.2832   -0.0192 C   0  0  0  0  0  0  0  0  0  0  0  0\\n    1.7886    2.1915    1.2544 N   0  0  0  0  0  0  0  0  0  0  0  0\\n    3.1928    1.9068    1.2822 C   0  0  0  0  0  0  0  0  0  0  0  0\\n    3.9597    2.6511    1.9506 O   0  0  0  0  0  0  0  0  0  0  0  0\\n    3.7442    0.7414    0.5679 C   0  0  0  0  0  0  0  0  0  0  0  0\\n    2.9698   -0.3636    0.3951 N   0  0  0  0  0  0  0  0  0  0  0  0\\n    3.4137   -1.4876   -0.2298 C   0  0  0  0  0  0  0  0  0  0  0  0\\n    2.5469   -2.6938   -0.3287 C   0  0  0  0  0  0  0  0  0  0  0  0\\n    3.0097   -3.7283   -0.8820 O   0  0  0  0  0  0  0  0  0  0  0  0\\n    1.2179   -2.7610    0.2224 N   0  0  0  0  0  0  0  0  0  0  0  0\\n    0.3823   -1.5964    0.5289 C   0  0  0  0  0  0  0  0  0  0  0  0\\n   -1.0365   -2.0095    0.9311 C   0  0  0  0  0  0  0  0  0  0  0  0\\n   -1.7563   -2.5905   -0.2022 N   0  0  0  0  0  0  0  0  0  0  0  0\\n   -3.1452   -2.3285   -0.4380 C   0  0  0  0  0  0  0  0  0  0  0  0\\n   -3.8978   -3.2854   -0.7653 O   0  0  0  0  0  0  0  0  0  0  0  0\\n   -3.7070   -0.9660   -0.3427 C   0  0  0  0  0  0  0  0  0  0  0  0\\n   -2.9314    0.1153   -0.6408 N   0  0  0  0  0  0  0  0  0  0  0  0\\n   -3.4278    1.3855   -0.6468 C   0  0  0  0  0  0  0  0  0  0  0  0\\n   -4.7780    1.5995   -0.3291 C   0  0  0  0  0  0  0  0  0  0  0  0\\n   -5.5893    0.5116   -0.0107 C   0  0  0  0  0  0  0  0  0  0  0  0\\n   -5.0610   -0.7782   -0.0276 C   0  0  0  0  0  0  0  0  0  0  0  0\\n    4.7279   -1.5090   -0.7298 C   0  0  0  0  0  0  0  0  0  0  0  0\\n    5.5488   -0.3923   -0.5615 C   0  0  0  0  0  0  0  0  0  0  0  0\\n    5.0642    0.7367    0.0989 C   0  0  0  0  0  0  0  0  0  0  0  0\\n  1  2  2  0\\n  2  3  1  0\\n  3  4  1  0\\n  4  5  1  0\\n  5  6  1  0\\n  6  7  1  0\\n  7  8  2  0\\n  7  9  1  0\\n  9 10  1  0\\n 10 11  2  0\\n 11 12  1  0\\n 12 13  2  0\\n 12 14  1  0\\n 14 15  1  0\\n 15 16  1  0\\n 16 17  1  0\\n 17 18  1  0\\n 18 19  2  0\\n 18 20  1  0\\n 20 21  1  0\\n 21 22  2  0\\n 22 23  1  0\\n 23 24  2  0\\n 24 25  1  0\\n 11 26  1  0\\n 26 27  2  0\\n 27 28  1  0\\n 22  2  1  0\\n 28  9  2  0\\n 25 20  2  0\\nM  END\\n\",\"sdf\");\n",
       "\tviewer_14907064859033403.setStyle({\"stick\": {\"radius\": \"0.15\"}});\n",
       "\tviewer_14907064859033403.setBackgroundColor(\"0xeeeeee\");\n",
       "\tviewer_14907064859033403.zoomTo();\n",
       "viewer_14907064859033403.render();\n",
       "});\n",
       "</script>"
      ],
      "text/plain": [
       "<IPython.core.display.HTML object>"
      ]
     },
     "execution_count": 148,
     "metadata": {},
     "output_type": "execute_result"
    }
   ],
   "source": [
    "p = py3Dmol.view(width=400,height=400)\n",
    "p.removeAllModels()\n",
    "allmol = allmol_m1_balloon[1:]+allmol_m1_rdkit[1:]\n",
    "\n",
    "m1b = Chem.MolToMolBlock(m1_crystal)\n",
    "\n",
    "for i, mol in enumerate(allmol):\n",
    "    AllChem.AlignMolConformers(mol,atomIds=core_m1)\n",
    "    mq = Chem.MolToMolBlock(mol)\n",
    "    p.addModel(mq,'sdf')\n",
    "p.setStyle({'stick':{'radius':'0.15'}})\n",
    "p.setBackgroundColor('0xeeeeee')\n",
    "p.zoomTo()\n",
    "p.show()"
   ]
  },
  {
   "cell_type": "markdown",
   "metadata": {},
   "source": [
    "The selection of conformers of \"M1\" macrocycle:"
   ]
  },
  {
   "cell_type": "markdown",
   "metadata": {
    "deletable": true,
    "editable": true
   },
   "source": [
    "## \"M7\" macrocycle\n",
    "\n",
    "start: crystal geometry"
   ]
  },
  {
   "cell_type": "code",
   "execution_count": 149,
   "metadata": {
    "collapsed": false,
    "deletable": true,
    "editable": true
   },
   "outputs": [
    {
     "data": {
      "text/html": [
       "<div id=\"3dmolviewer_14907064931850798\"  style=\"position: relative; width: 400px; height: 400px\">\n",
       "<script>\n",
       "if(typeof $3Dmolpromise === 'undefined') $3Dmolpromise = $.when($.getScript('http://3dmol.csb.pitt.edu/build/3Dmol.js'))\n",
       "var viewer_14907064931850798 = null;\n",
       "$3Dmolpromise.done(function() {\n",
       "viewer_14907064931850798 = $3Dmol.createViewer($(\"#3dmolviewer_14907064931850798\"),{backgroundColor:\"white\"});\n",
       "\tviewer_14907064931850798.addModel(\"52\\n\\nN          1.57839        8.38585       11.85511\\nC          1.82351        7.99266       13.09736\\nO          2.96788        7.95608       13.56305\\nC          0.62943        7.60940       13.91036\\nN         -0.57354        7.73379       13.33411\\nC         -1.65370        7.42126       14.05995\\nC         -2.99981        7.65818       13.45996\\nO         -4.04097        7.41952       14.07247\\nN         -3.00440        8.17906       12.23559\\nC         -4.20555        8.64943       11.55430\\nH         -3.94721        9.32535       10.90715\\nH         -4.78218        9.07624       12.20632\\nC         -4.98884        7.59547       10.84862\\nH         -5.84522        7.97176       10.59171\\nH         -5.16361        6.87425       11.47462\\nC         -4.33393        7.01187        9.61449\\nH         -4.99101        6.48576        9.13320\\nH         -4.05714        7.73832        9.03564\\nN         -3.17685        6.17201        9.89546\\nC         -3.30522        4.91789       10.27952\\nO         -4.39595        4.34631       10.42277\\nC         -2.03064        4.16531       10.53318\\nN         -0.88257        4.81964       10.33415\\nC          0.27455        4.16183       10.51529\\nC          1.54316        4.88653       10.18034\\nO          2.63713        4.31722       10.29741\\nN          1.40149        6.12864        9.73481\\nC          2.51605        6.89515        9.21937\\nH          2.17495        7.54843        8.58849\\nH          3.10356        6.29588        8.73158\\nC          3.32933        7.61811       10.26651\\nH          3.59204        6.97877       10.94780\\nH          4.14145        7.94911        9.85026\\nC          2.63392        8.77137       10.93480\\nH          3.29313        9.29225       11.42097\\nH          2.25408        9.34452       10.25025\\nC          0.80705        7.18259       15.20465\\nH          1.65858        7.13033       15.57538\\nC         -0.29197        6.84289       15.92984\\nH         -0.19717        6.52757       16.79975\\nC         -1.54653        6.96483       15.37050\\nH         -2.30626        6.74533       15.85992\\nC         -2.06246        2.83611       10.89902\\nH         -2.87669        2.40581       11.02585\\nC         -0.89454        2.16018       11.07463\\nH         -0.90066        1.25952       11.31040\\nC          0.30692        2.82914       10.89415\\nH          1.11681        2.39188       11.02748\\nH          0.82059        8.37766       11.54454\\nH         -2.33450        8.29927       11.91852\\nH         -2.39977        6.58332        9.92831\\nH          0.67017        6.53280        9.69091\\n\",\"xyz\");\n",
       "\tviewer_14907064931850798.setStyle({\"stick\": {}});\n",
       "\tviewer_14907064931850798.setBackgroundColor(\"0xeeeeee\");\n",
       "\tviewer_14907064931850798.zoomTo();\n",
       "viewer_14907064931850798.render();\n",
       "});\n",
       "</script>"
      ],
      "text/plain": [
       "<IPython.core.display.HTML object>"
      ]
     },
     "execution_count": 149,
     "metadata": {},
     "output_type": "execute_result"
    }
   ],
   "source": [
    "cm7 = open('/home/gosia/work/work_on_gitlab/icho/calcs/m7/m7_crystal.xyz','r').read()\n",
    "vcm7 = py3Dmol.view(width=400,height=400)\n",
    "vcm7.addModel(cm7,'xyz')\n",
    "vcm7.setStyle({'stick':{}})\n",
    "vcm7.setBackgroundColor('0xeeeeee')\n",
    "vcm7.zoomTo()\n",
    "vcm7.show()"
   ]
  },
  {
   "cell_type": "code",
   "execution_count": 38,
   "metadata": {
    "collapsed": true
   },
   "outputs": [],
   "source": [
    "# find \"core\" - a part of molecule, which we wish to be most aligned (rmsd-wise) among all the structures\n",
    "m7 = Chem.AddHs(Chem.MolFromSmiles('N1C(=O)c2nc(C(=O)NCCCNC(=O)c3nc(C(=O)NCCC1)ccc3)ccc2'))\n",
    "core_m7 = m7.GetSubstructMatch(Chem.MolFromSmiles('C(=O)c1nc(C=O)ccc1'))"
   ]
  },
  {
   "cell_type": "code",
   "execution_count": 39,
   "metadata": {
    "collapsed": true
   },
   "outputs": [],
   "source": [
    "templ_m7 = Chem.SDMolSupplier('/home/gosia/work/work_on_gitlab/icho/calcs/m7/m7_crystal.sdf')\n",
    "m7_crystal = templ_m7[0]"
   ]
  },
  {
   "cell_type": "markdown",
   "metadata": {
    "deletable": true,
    "editable": true
   },
   "source": [
    "### Conformers generated with the Balloon software:"
   ]
  },
  {
   "cell_type": "code",
   "execution_count": 40,
   "metadata": {
    "collapsed": false,
    "deletable": true,
    "editable": true
   },
   "outputs": [],
   "source": [
    "inps_m7_balloon = glob.glob('/home/gosia/work/work_on_gitlab/icho/calcs/m7/balloon/results_crystal/*.sdf')"
   ]
  },
  {
   "cell_type": "code",
   "execution_count": 41,
   "metadata": {
    "collapsed": false,
    "deletable": true,
    "editable": true
   },
   "outputs": [],
   "source": [
    "e_m7_balloon = grep_energies_from_sdf_outputs(inps_m7_balloon)"
   ]
  },
  {
   "cell_type": "code",
   "execution_count": 150,
   "metadata": {
    "collapsed": false,
    "deletable": true,
    "editable": true,
    "scrolled": true
   },
   "outputs": [
    {
     "data": {
      "text/html": [
       "<table>\n",
       "  <tr>\n",
       "    <td id=\"m7_b1\" ></td>\n",
       "    <td id=\"m7_b2\" ></td>\n",
       "    <td id=\"m7_b3\" ></td> \n",
       "    <td id=\"m7_b4\" ></td>    \n",
       "  </tr>\n",
       "  <tr>\n",
       "    <td> m7_b1, E = </td>\n",
       "    <td> m7_b2, E = </td>\n",
       "    <td> m7_b3, E = </td>   \n",
       "    <td> m7_b4, E = </td>       \n",
       "  </tr>\n",
       "  <tr>\n",
       "    <td id=\"m7_b5\" ></td>    \n",
       "    <td id=\"m7_b6\" ></td>\n",
       "    <td id=\"m7_b7\" ></td>   \n",
       "  </tr>\n",
       "  <tr>\n",
       "    <td> m7_b5, E = </td>\n",
       "    <td> m7_b6, E = </td>\n",
       "    <td> m7_b7, E = </td>   \n",
       "  </tr>\n",
       "  <tr>\n",
       "    <td id=\"m7_b8\" ></td>    \n",
       "    <td id=\"m7_b9\" ></td>\n",
       "    <td id=\"m7_b10\" ></td>   \n",
       "  </tr>\n",
       "  <tr>\n",
       "    <td> m7_b8, E = </td>\n",
       "    <td> m7_b9, E = </td>\n",
       "    <td> m7_b10, E = </td>   \n",
       "  </tr>\n",
       "</table>"
      ],
      "text/plain": [
       "<IPython.core.display.HTML object>"
      ]
     },
     "metadata": {},
     "output_type": "display_data"
    }
   ],
   "source": [
    "%%html\n",
    "<table>\n",
    "  <tr>\n",
    "    <td id=\"m7_b1\" ></td>\n",
    "    <td id=\"m7_b2\" ></td>\n",
    "    <td id=\"m7_b3\" ></td> \n",
    "    <td id=\"m7_b4\" ></td>    \n",
    "  </tr>\n",
    "  <tr>\n",
    "    <td> m7_b1, E = </td>\n",
    "    <td> m7_b2, E = </td>\n",
    "    <td> m7_b3, E = </td>   \n",
    "    <td> m7_b4, E = </td>       \n",
    "  </tr>\n",
    "  <tr>\n",
    "    <td id=\"m7_b5\" ></td>    \n",
    "    <td id=\"m7_b6\" ></td>\n",
    "    <td id=\"m7_b7\" ></td>   \n",
    "  </tr>\n",
    "  <tr>\n",
    "    <td> m7_b5, E = </td>\n",
    "    <td> m7_b6, E = </td>\n",
    "    <td> m7_b7, E = </td>   \n",
    "  </tr>\n",
    "  <tr>\n",
    "    <td id=\"m7_b8\" ></td>    \n",
    "    <td id=\"m7_b9\" ></td>\n",
    "    <td id=\"m7_b10\" ></td>   \n",
    "  </tr>\n",
    "  <tr>\n",
    "    <td> m7_b8, E = </td>\n",
    "    <td> m7_b9, E = </td>\n",
    "    <td> m7_b10, E = </td>   \n",
    "  </tr>\n",
    "</table>"
   ]
  },
  {
   "cell_type": "code",
   "execution_count": 151,
   "metadata": {
    "collapsed": true,
    "deletable": true,
    "editable": true
   },
   "outputs": [],
   "source": [
    "p7_b_handles=[]\n",
    "for inp in inps_m7_balloon:\n",
    "    f7_b = open(inp, 'r').read()\n",
    "    p7_b = py3Dmol.view(width=200,height=200)\n",
    "    p7_b.addModel(f7_b,'sdf')\n",
    "    p7_b.setStyle({'stick':{}})\n",
    "    p7_b.setBackgroundColor('0xeeeeee')\n",
    "    p7_b.zoomTo()\n",
    "    p7_b_handles.append(p7_b)"
   ]
  },
  {
   "cell_type": "code",
   "execution_count": 152,
   "metadata": {
    "collapsed": false,
    "deletable": true,
    "editable": true
   },
   "outputs": [
    {
     "data": {
      "text/html": [
       "<div id=\"3dmolviewer_14907065027089834\"  style=\"position: relative; width: 200px; height: 200px\">\n",
       "<script>\n",
       "if(typeof $3Dmolpromise === 'undefined') $3Dmolpromise = $.when($.getScript('http://3dmol.csb.pitt.edu/build/3Dmol.js'))\n",
       "var viewer_14907065027089834 = null;\n",
       "$3Dmolpromise.done(function() {\n",
       "viewer_14907065027089834 = $3Dmol.createViewer($(\"#3dmolviewer_14907065027089834\"),{backgroundColor:\"white\"});\n",
       "\tviewer_14907065027089834.addModel(\"m7_crystal.xyz\\n  1228              3D\\n\\n 52 54  0  0  0  0  0  0  0  0999 V2000\\n    1.4835    8.2799   11.9016 N   0  0  0  0  0  0  0  0  0  0  0  0\\n    1.7317    7.5871   13.0748 C   0  0  0  0  0  0  0  0  0  0  0  0\\n    2.8398    7.4037   13.5675 O   0  0  0  0  0  0  0  0  0  0  0  0\\n    0.5249    7.0327   13.7321 C   0  0  0  0  0  0  0  0  0  0  0  0\\n   -0.6663    7.4524   13.2454 N   0  0  0  0  0  0  0  0  0  0  0  0\\n   -1.7766    6.9703   13.8511 C   0  0  0  0  0  0  0  0  0  0  0  0\\n   -3.0723    7.4620   13.3260 C   0  0  0  0  0  0  0  0  0  0  0  0\\n   -4.1142    7.2068   13.9211 O   0  0  0  0  0  0  0  0  0  0  0  0\\n   -2.9808    8.1868   12.1495 N   0  0  0  0  0  0  0  0  0  0  0  0\\n   -4.1416    8.6926   11.4402 C   0  0  0  0  0  0  0  0  0  0  0  0\\n   -3.7878    9.4387   10.7213 H   0  0  0  0  0  0  0  0  0  0  0  0\\n   -4.7824    9.1995   12.1702 H   0  0  0  0  0  0  0  0  0  0  0  0\\n   -4.9500    7.5993   10.7368 C   0  0  0  0  0  0  0  0  0  0  0  0\\n   -5.8604    8.0579   10.3319 H   0  0  0  0  0  0  0  0  0  0  0  0\\n   -5.2759    6.8485   11.4657 H   0  0  0  0  0  0  0  0  0  0  0  0\\n   -4.2110    6.9209    9.5810 C   0  0  0  0  0  0  0  0  0  0  0  0\\n   -4.8973    6.2444    9.0592 H   0  0  0  0  0  0  0  0  0  0  0  0\\n   -3.8517    7.6624    8.8606 H   0  0  0  0  0  0  0  0  0  0  0  0\\n   -3.0662    6.1402   10.0117 N   0  0  0  0  0  0  0  0  0  0  0  0\\n   -3.1866    4.9329   10.6797 C   0  0  0  0  0  0  0  0  0  0  0  0\\n   -4.2437    4.3608   10.9247 O   0  0  0  0  0  0  0  0  0  0  0  0\\n   -1.9016    4.3418   11.1214 C   0  0  0  0  0  0  0  0  0  0  0  0\\n   -0.7809    4.9228   10.6323 N   0  0  0  0  0  0  0  0  0  0  0  0\\n    0.4008    4.3764   11.0017 C   0  0  0  0  0  0  0  0  0  0  0  0\\n    1.6161    5.0084   10.4361 C   0  0  0  0  0  0  0  0  0  0  0  0\\n    2.7104    4.4720   10.5749 O   0  0  0  0  0  0  0  0  0  0  0  0\\n    1.3913    6.2090    9.7825 N   0  0  0  0  0  0  0  0  0  0  0  0\\n    2.4601    7.0173    9.2242 C   0  0  0  0  0  0  0  0  0  0  0  0\\n    2.0036    7.7368    8.5367 H   0  0  0  0  0  0  0  0  0  0  0  0\\n    3.1088    6.3535    8.6412 H   0  0  0  0  0  0  0  0  0  0  0  0\\n    3.2997    7.7360   10.2834 C   0  0  0  0  0  0  0  0  0  0  0  0\\n    3.7323    7.0052   10.9765 H   0  0  0  0  0  0  0  0  0  0  0  0\\n    4.1417    8.2202    9.7738 H   0  0  0  0  0  0  0  0  0  0  0  0\\n    2.5409    8.8132   11.0630 C   0  0  0  0  0  0  0  0  0  0  0  0\\n    3.2428    9.3488   11.7118 H   0  0  0  0  0  0  0  0  0  0  0  0\\n    2.0862    9.5393   10.3816 H   0  0  0  0  0  0  0  0  0  0  0  0\\n    0.6566    6.1412   14.7884 C   0  0  0  0  0  0  0  0  0  0  0  0\\n    1.6239    5.8170   15.1561 H   0  0  0  0  0  0  0  0  0  0  0  0\\n   -0.5069    5.6569   15.3771 C   0  0  0  0  0  0  0  0  0  0  0  0\\n   -0.4448    4.9551   16.2037 H   0  0  0  0  0  0  0  0  0  0  0  0\\n   -1.7497    6.0748   14.9123 C   0  0  0  0  0  0  0  0  0  0  0  0\\n   -2.6546    5.6987   15.3767 H   0  0  0  0  0  0  0  0  0  0  0  0\\n   -1.8938    3.2491   11.9777 C   0  0  0  0  0  0  0  0  0  0  0  0\\n   -2.8067    2.8067   12.3614 H   0  0  0  0  0  0  0  0  0  0  0  0\\n   -0.6598    2.7217   12.3445 C   0  0  0  0  0  0  0  0  0  0  0  0\\n   -0.6123    1.8677   13.0138 H   0  0  0  0  0  0  0  0  0  0  0  0\\n    0.5132    3.2826   11.8498 C   0  0  0  0  0  0  0  0  0  0  0  0\\n    1.4734    2.8653   12.1335 H   0  0  0  0  0  0  0  0  0  0  0  0\\n    0.5338    8.3220   11.5439 H   0  0  0  0  0  0  0  0  0  0  0  0\\n   -2.0738    8.2905   11.7029 H   0  0  0  0  0  0  0  0  0  0  0  0\\n   -2.1468    6.5636    9.9182 H   0  0  0  0  0  0  0  0  0  0  0  0\\n    0.4525    6.5965    9.7706 H   0  0  0  0  0  0  0  0  0  0  0  0\\n  1  2  1  0  0  0  0\\n  2  3  2  0  0  0  0\\n  2  4  1  0  0  0  0\\n  4 37  1  0  0  0  0\\n  5  4  2  0  0  0  0\\n  5  6  1  0  0  0  0\\n  6 41  2  0  0  0  0\\n  7  6  1  0  0  0  0\\n  7  8  2  0  0  0  0\\n  9  7  1  0  0  0  0\\n 10 12  1  0  0  0  0\\n 10  9  1  0  0  0  0\\n 11 10  1  0  0  0  0\\n 13 15  1  0  0  0  0\\n 13 10  1  0  0  0  0\\n 14 13  1  0  0  0  0\\n 16 19  1  0  0  0  0\\n 16 13  1  0  0  0  0\\n 17 16  1  0  0  0  0\\n 18 16  1  0  0  0  0\\n 19 51  1  0  0  0  0\\n 19 20  1  0  0  0  0\\n 20 21  2  0  0  0  0\\n 20 22  1  0  0  0  0\\n 22 43  2  0  0  0  0\\n 23 24  2  0  0  0  0\\n 23 22  1  0  0  0  0\\n 24 47  1  0  0  0  0\\n 25 26  2  0  0  0  0\\n 25 24  1  0  0  0  0\\n 27 25  1  0  0  0  0\\n 28 27  1  0  0  0  0\\n 28 31  1  0  0  0  0\\n 29 28  1  0  0  0  0\\n 30 28  1  0  0  0  0\\n 31 34  1  0  0  0  0\\n 31 32  1  0  0  0  0\\n 33 31  1  0  0  0  0\\n 34 35  1  0  0  0  0\\n 34  1  1  0  0  0  0\\n 36 34  1  0  0  0  0\\n 37 38  1  0  0  0  0\\n 37 39  2  0  0  0  0\\n 39 40  1  0  0  0  0\\n 41 42  1  0  0  0  0\\n 41 39  1  0  0  0  0\\n 43 44  1  0  0  0  0\\n 43 45  1  0  0  0  0\\n 45 46  1  0  0  0  0\\n 47 48  1  0  0  0  0\\n 47 45  2  0  0  0  0\\n 49  1  1  0  0  0  0\\n 50  9  1  0  0  0  0\\n 52 27  1  0  0  0  0\\nM  END\\n48.372890051091652\\n\\n\",\"sdf\");\n",
       "\tviewer_14907065027089834.setStyle({\"stick\": {}});\n",
       "\tviewer_14907065027089834.setBackgroundColor(\"0xeeeeee\");\n",
       "\tviewer_14907065027089834.zoomTo();\n",
       "viewer_14907065027089834.render();\n",
       "});\n",
       "</script><script>$(\"#m7_b1\").append($(\"#3dmolviewer_14907065027089834\")); </script>"
      ],
      "text/plain": [
       "<IPython.core.display.HTML object>"
      ]
     },
     "execution_count": 152,
     "metadata": {},
     "output_type": "execute_result"
    }
   ],
   "source": [
    "p7_b_handles[0].insert('m7_b1')"
   ]
  },
  {
   "cell_type": "code",
   "execution_count": 153,
   "metadata": {
    "collapsed": false,
    "deletable": true,
    "editable": true
   },
   "outputs": [
    {
     "data": {
      "text/html": [
       "<div id=\"3dmolviewer_1490706505132742\"  style=\"position: relative; width: 200px; height: 200px\">\n",
       "<script>\n",
       "if(typeof $3Dmolpromise === 'undefined') $3Dmolpromise = $.when($.getScript('http://3dmol.csb.pitt.edu/build/3Dmol.js'))\n",
       "var viewer_1490706505132742 = null;\n",
       "$3Dmolpromise.done(function() {\n",
       "viewer_1490706505132742 = $3Dmol.createViewer($(\"#3dmolviewer_1490706505132742\"),{backgroundColor:\"white\"});\n",
       "\tviewer_1490706505132742.addModel(\"m7_crystal.xyz\\n  1228              3D\\n\\n 52 54  0  0  0  0  0  0  0  0999 V2000\\n   -3.0057    6.0729   10.1079 N   0  0  0  0  0  0  0  0  0  0  0  0\\n   -3.1434    4.7672   10.5534 C   0  0  0  0  0  0  0  0  0  0  0  0\\n   -4.2144    4.1961   10.7408 O   0  0  0  0  0  0  0  0  0  0  0  0\\n   -1.8670    4.0443   10.7746 C   0  0  0  0  0  0  0  0  0  0  0  0\\n   -0.7439    4.7134   10.4325 N   0  0  0  0  0  0  0  0  0  0  0  0\\n    0.4290    4.0451   10.5452 C   0  0  0  0  0  0  0  0  0  0  0  0\\n    1.6349    4.7869   10.1078 C   0  0  0  0  0  0  0  0  0  0  0  0\\n    2.7373    4.2486   10.1307 O   0  0  0  0  0  0  0  0  0  0  0  0\\n    1.3874    6.0826    9.6895 N   0  0  0  0  0  0  0  0  0  0  0  0\\n    2.4276    6.9724    9.2183 C   0  0  0  0  0  0  0  0  0  0  0  0\\n    1.9454    7.7629    8.6370 H   0  0  0  0  0  0  0  0  0  0  0  0\\n    3.0723    6.4061    8.5368 H   0  0  0  0  0  0  0  0  0  0  0  0\\n    3.2742    7.5590   10.3476 C   0  0  0  0  0  0  0  0  0  0  0  0\\n    4.1479    8.0399    9.8860 H   0  0  0  0  0  0  0  0  0  0  0  0\\n    3.6514    6.7622   10.9998 H   0  0  0  0  0  0  0  0  0  0  0  0\\n    2.5463    8.6189   11.1726 C   0  0  0  0  0  0  0  0  0  0  0  0\\n    3.2748    9.1312   11.8097 H   0  0  0  0  0  0  0  0  0  0  0  0\\n    2.0919    9.3709   10.5208 H   0  0  0  0  0  0  0  0  0  0  0  0\\n    1.4925    8.0898   12.0224 N   0  0  0  0  0  0  0  0  0  0  0  0\\n    1.7154    7.6809   13.3270 C   0  0  0  0  0  0  0  0  0  0  0  0\\n    2.8215    7.5863   13.8544 O   0  0  0  0  0  0  0  0  0  0  0  0\\n    0.4911    7.3908   14.1149 C   0  0  0  0  0  0  0  0  0  0  0  0\\n   -0.6910    7.5585   13.4756 N   0  0  0  0  0  0  0  0  0  0  0  0\\n   -1.8117    7.3555   14.2100 C   0  0  0  0  0  0  0  0  0  0  0  0\\n   -3.1009    7.5727   13.5131 C   0  0  0  0  0  0  0  0  0  0  0  0\\n   -4.1503    7.2093   14.0377 O   0  0  0  0  0  0  0  0  0  0  0  0\\n   -3.0029    8.2175   12.2905 N   0  0  0  0  0  0  0  0  0  0  0  0\\n   -4.1692    8.6535   11.5461 C   0  0  0  0  0  0  0  0  0  0  0  0\\n   -3.8413    9.4170   10.8330 H   0  0  0  0  0  0  0  0  0  0  0  0\\n   -4.8521    9.1342   12.2563 H   0  0  0  0  0  0  0  0  0  0  0  0\\n   -4.9076    7.5221   10.8325 C   0  0  0  0  0  0  0  0  0  0  0  0\\n   -5.2136    6.7505   11.5462 H   0  0  0  0  0  0  0  0  0  0  0  0\\n   -5.8273    7.9501   10.4171 H   0  0  0  0  0  0  0  0  0  0  0  0\\n   -4.1305    6.8874    9.6809 C   0  0  0  0  0  0  0  0  0  0  0  0\\n   -4.8081    6.2422    9.1085 H   0  0  0  0  0  0  0  0  0  0  0  0\\n   -3.7450    7.6527    8.9993 H   0  0  0  0  0  0  0  0  0  0  0  0\\n   -1.8658    2.7384   11.2488 C   0  0  0  0  0  0  0  0  0  0  0  0\\n   -2.7794    2.2139   11.5083 H   0  0  0  0  0  0  0  0  0  0  0  0\\n   -0.6419    2.0853   11.3602 C   0  0  0  0  0  0  0  0  0  0  0  0\\n   -0.5994    1.0581   11.7157 H   0  0  0  0  0  0  0  0  0  0  0  0\\n    0.5317    2.7383   11.0008 C   0  0  0  0  0  0  0  0  0  0  0  0\\n    1.4824    2.2223   11.0728 H   0  0  0  0  0  0  0  0  0  0  0  0\\n    0.6007    7.0337   15.4527 C   0  0  0  0  0  0  0  0  0  0  0  0\\n    1.5598    6.9260   15.9479 H   0  0  0  0  0  0  0  0  0  0  0  0\\n   -0.5720    6.8333   16.1727 C   0  0  0  0  0  0  0  0  0  0  0  0\\n   -0.5242    6.5676   17.2241 H   0  0  0  0  0  0  0  0  0  0  0  0\\n   -1.8048    6.9910   15.5515 C   0  0  0  0  0  0  0  0  0  0  0  0\\n   -2.7193    6.8501   16.1183 H   0  0  0  0  0  0  0  0  0  0  0  0\\n   -2.0764    6.4762   10.0216 H   0  0  0  0  0  0  0  0  0  0  0  0\\n    0.4404    6.4462    9.7405 H   0  0  0  0  0  0  0  0  0  0  0  0\\n    0.5453    8.0896   11.6534 H   0  0  0  0  0  0  0  0  0  0  0  0\\n   -2.0910    8.5104   11.9524 H   0  0  0  0  0  0  0  0  0  0  0  0\\n  1  2  1  0  0  0  0\\n  2  3  2  0  0  0  0\\n  2  4  1  0  0  0  0\\n  4 37  1  0  0  0  0\\n  5  4  2  0  0  0  0\\n  5  6  1  0  0  0  0\\n  6 41  2  0  0  0  0\\n  7  6  1  0  0  0  0\\n  7  8  2  0  0  0  0\\n  9  7  1  0  0  0  0\\n 10 12  1  0  0  0  0\\n 10  9  1  0  0  0  0\\n 11 10  1  0  0  0  0\\n 13 15  1  0  0  0  0\\n 13 10  1  0  0  0  0\\n 14 13  1  0  0  0  0\\n 16 19  1  0  0  0  0\\n 16 13  1  0  0  0  0\\n 17 16  1  0  0  0  0\\n 18 16  1  0  0  0  0\\n 19 51  1  0  0  0  0\\n 19 20  1  0  0  0  0\\n 20 21  2  0  0  0  0\\n 20 22  1  0  0  0  0\\n 22 43  2  0  0  0  0\\n 23 24  2  0  0  0  0\\n 23 22  1  0  0  0  0\\n 24 47  1  0  0  0  0\\n 25 26  2  0  0  0  0\\n 25 24  1  0  0  0  0\\n 27 25  1  0  0  0  0\\n 28 27  1  0  0  0  0\\n 28 31  1  0  0  0  0\\n 29 28  1  0  0  0  0\\n 30 28  1  0  0  0  0\\n 31 34  1  0  0  0  0\\n 31 32  1  0  0  0  0\\n 33 31  1  0  0  0  0\\n 34 35  1  0  0  0  0\\n 34  1  1  0  0  0  0\\n 36 34  1  0  0  0  0\\n 37 38  1  0  0  0  0\\n 37 39  2  0  0  0  0\\n 39 40  1  0  0  0  0\\n 41 42  1  0  0  0  0\\n 41 39  1  0  0  0  0\\n 43 44  1  0  0  0  0\\n 43 45  1  0  0  0  0\\n 45 46  1  0  0  0  0\\n 47 48  1  0  0  0  0\\n 47 45  2  0  0  0  0\\n 49  1  1  0  0  0  0\\n 50  9  1  0  0  0  0\\n 52 27  1  0  0  0  0\\nM  END\\n51.783163894639273\\n\\n\",\"sdf\");\n",
       "\tviewer_1490706505132742.setStyle({\"stick\": {}});\n",
       "\tviewer_1490706505132742.setBackgroundColor(\"0xeeeeee\");\n",
       "\tviewer_1490706505132742.zoomTo();\n",
       "viewer_1490706505132742.render();\n",
       "});\n",
       "</script><script>$(\"#m7_b2\").append($(\"#3dmolviewer_1490706505132742\")); </script>"
      ],
      "text/plain": [
       "<IPython.core.display.HTML object>"
      ]
     },
     "execution_count": 153,
     "metadata": {},
     "output_type": "execute_result"
    }
   ],
   "source": [
    "p7_b_handles[1].insert('m7_b2')"
   ]
  },
  {
   "cell_type": "code",
   "execution_count": 154,
   "metadata": {
    "collapsed": false,
    "deletable": true,
    "editable": true
   },
   "outputs": [
    {
     "data": {
      "text/html": [
       "<div id=\"3dmolviewer_14907065066207623\"  style=\"position: relative; width: 200px; height: 200px\">\n",
       "<script>\n",
       "if(typeof $3Dmolpromise === 'undefined') $3Dmolpromise = $.when($.getScript('http://3dmol.csb.pitt.edu/build/3Dmol.js'))\n",
       "var viewer_14907065066207623 = null;\n",
       "$3Dmolpromise.done(function() {\n",
       "viewer_14907065066207623 = $3Dmol.createViewer($(\"#3dmolviewer_14907065066207623\"),{backgroundColor:\"white\"});\n",
       "\tviewer_14907065066207623.addModel(\"m7_crystal.xyz\\n  1228              3D\\n\\n 52 54  0  0  0  0  0  0  0  0999 V2000\\n   -3.1892    5.1003   10.8948 N   0  0  0  0  0  0  0  0  0  0  0  0\\n   -3.0883    3.7244   10.7676 C   0  0  0  0  0  0  0  0  0  0  0  0\\n   -3.9251    2.9110   11.1450 O   0  0  0  0  0  0  0  0  0  0  0  0\\n   -1.8381    3.2612   10.1215 C   0  0  0  0  0  0  0  0  0  0  0  0\\n   -0.8877    4.2060    9.9251 N   0  0  0  0  0  0  0  0  0  0  0  0\\n    0.2635    3.7966    9.3467 C   0  0  0  0  0  0  0  0  0  0  0  0\\n    1.3028    4.8330    9.1543 C   0  0  0  0  0  0  0  0  0  0  0  0\\n    2.2803    4.5956    8.4499 O   0  0  0  0  0  0  0  0  0  0  0  0\\n    1.0788    6.0229    9.8315 N   0  0  0  0  0  0  0  0  0  0  0  0\\n    2.0714    7.0845    9.8690 C   0  0  0  0  0  0  0  0  0  0  0  0\\n    1.5412    8.0295   10.0238 H   0  0  0  0  0  0  0  0  0  0  0  0\\n    2.5497    7.1294    8.8832 H   0  0  0  0  0  0  0  0  0  0  0  0\\n    3.1357    6.8231   10.9389 C   0  0  0  0  0  0  0  0  0  0  0  0\\n    4.1223    6.9630   10.4796 H   0  0  0  0  0  0  0  0  0  0  0  0\\n    3.0932    5.7844   11.2881 H   0  0  0  0  0  0  0  0  0  0  0  0\\n    3.0586    7.7630   12.1400 C   0  0  0  0  0  0  0  0  0  0  0  0\\n    3.9006    7.5573   12.8105 H   0  0  0  0  0  0  0  0  0  0  0  0\\n    3.1486    8.8069   11.8193 H   0  0  0  0  0  0  0  0  0  0  0  0\\n    1.8144    7.6552   12.8811 N   0  0  0  0  0  0  0  0  0  0  0  0\\n    1.7689    7.8276   14.2596 C   0  0  0  0  0  0  0  0  0  0  0  0\\n    2.7421    7.8327   15.0054 O   0  0  0  0  0  0  0  0  0  0  0  0\\n    0.4125    8.0542   14.8165 C   0  0  0  0  0  0  0  0  0  0  0  0\\n   -0.5816    8.2140   13.9130 N   0  0  0  0  0  0  0  0  0  0  0  0\\n   -1.8134    8.4965   14.4003 C   0  0  0  0  0  0  0  0  0  0  0  0\\n   -2.8908    8.6415   13.3920 C   0  0  0  0  0  0  0  0  0  0  0  0\\n   -3.9719    9.1277   13.7052 O   0  0  0  0  0  0  0  0  0  0  0  0\\n   -2.5585    8.1617   12.1373 N   0  0  0  0  0  0  0  0  0  0  0  0\\n   -3.4829    8.1168   11.0212 C   0  0  0  0  0  0  0  0  0  0  0  0\\n   -2.8932    7.8817   10.1297 H   0  0  0  0  0  0  0  0  0  0  0  0\\n   -3.9040    9.1201   10.8883 H   0  0  0  0  0  0  0  0  0  0  0  0\\n   -4.6205    7.1062   11.1933 C   0  0  0  0  0  0  0  0  0  0  0  0\\n   -5.3586    7.5187   11.8918 H   0  0  0  0  0  0  0  0  0  0  0  0\\n   -5.1325    7.0000   10.2293 H   0  0  0  0  0  0  0  0  0  0  0  0\\n   -4.2124    5.7264   11.7070 C   0  0  0  0  0  0  0  0  0  0  0  0\\n   -3.8175    5.7854   12.7274 H   0  0  0  0  0  0  0  0  0  0  0  0\\n   -5.0916    5.0731   11.7415 H   0  0  0  0  0  0  0  0  0  0  0  0\\n   -1.6892    1.9253    9.7731 C   0  0  0  0  0  0  0  0  0  0  0  0\\n   -2.4664    1.1885    9.9490 H   0  0  0  0  0  0  0  0  0  0  0  0\\n   -0.4920    1.5427    9.1770 C   0  0  0  0  0  0  0  0  0  0  0  0\\n   -0.3363    0.5060    8.8896 H   0  0  0  0  0  0  0  0  0  0  0  0\\n    0.5058    2.4862    8.9509 C   0  0  0  0  0  0  0  0  0  0  0  0\\n    1.4405    2.1809    8.4925 H   0  0  0  0  0  0  0  0  0  0  0  0\\n    0.2251    8.1427   16.1900 C   0  0  0  0  0  0  0  0  0  0  0  0\\n    1.0342    7.9973   16.8979 H   0  0  0  0  0  0  0  0  0  0  0  0\\n   -1.0545    8.4390   16.6532 C   0  0  0  0  0  0  0  0  0  0  0  0\\n   -1.2393    8.5189   17.7205 H   0  0  0  0  0  0  0  0  0  0  0  0\\n   -2.0972    8.6338   15.7523 C   0  0  0  0  0  0  0  0  0  0  0  0\\n   -3.0919    8.8672   16.1166 H   0  0  0  0  0  0  0  0  0  0  0  0\\n   -2.3730    5.6596   10.6635 H   0  0  0  0  0  0  0  0  0  0  0  0\\n    0.2796    6.0980   10.4544 H   0  0  0  0  0  0  0  0  0  0  0  0\\n    0.9516    7.7744   12.3589 H   0  0  0  0  0  0  0  0  0  0  0  0\\n   -1.6493    7.7285   12.0031 H   0  0  0  0  0  0  0  0  0  0  0  0\\n  1  2  1  0  0  0  0\\n  2  3  2  0  0  0  0\\n  2  4  1  0  0  0  0\\n  4 37  1  0  0  0  0\\n  5  4  2  0  0  0  0\\n  5  6  1  0  0  0  0\\n  6 41  2  0  0  0  0\\n  7  6  1  0  0  0  0\\n  7  8  2  0  0  0  0\\n  9  7  1  0  0  0  0\\n 10 12  1  0  0  0  0\\n 10  9  1  0  0  0  0\\n 11 10  1  0  0  0  0\\n 13 15  1  0  0  0  0\\n 13 10  1  0  0  0  0\\n 14 13  1  0  0  0  0\\n 16 19  1  0  0  0  0\\n 16 13  1  0  0  0  0\\n 17 16  1  0  0  0  0\\n 18 16  1  0  0  0  0\\n 19 51  1  0  0  0  0\\n 19 20  1  0  0  0  0\\n 20 21  2  0  0  0  0\\n 20 22  1  0  0  0  0\\n 22 43  2  0  0  0  0\\n 23 24  2  0  0  0  0\\n 23 22  1  0  0  0  0\\n 24 47  1  0  0  0  0\\n 25 26  2  0  0  0  0\\n 25 24  1  0  0  0  0\\n 27 25  1  0  0  0  0\\n 28 27  1  0  0  0  0\\n 28 31  1  0  0  0  0\\n 29 28  1  0  0  0  0\\n 30 28  1  0  0  0  0\\n 31 34  1  0  0  0  0\\n 31 32  1  0  0  0  0\\n 33 31  1  0  0  0  0\\n 34 35  1  0  0  0  0\\n 34  1  1  0  0  0  0\\n 36 34  1  0  0  0  0\\n 37 38  1  0  0  0  0\\n 37 39  2  0  0  0  0\\n 39 40  1  0  0  0  0\\n 41 42  1  0  0  0  0\\n 41 39  1  0  0  0  0\\n 43 44  1  0  0  0  0\\n 43 45  1  0  0  0  0\\n 45 46  1  0  0  0  0\\n 47 48  1  0  0  0  0\\n 47 45  2  0  0  0  0\\n 49  1  1  0  0  0  0\\n 50  9  1  0  0  0  0\\n 52 27  1  0  0  0  0\\nM  END\\n58.104822527105512\\n\\n\",\"sdf\");\n",
       "\tviewer_14907065066207623.setStyle({\"stick\": {}});\n",
       "\tviewer_14907065066207623.setBackgroundColor(\"0xeeeeee\");\n",
       "\tviewer_14907065066207623.zoomTo();\n",
       "viewer_14907065066207623.render();\n",
       "});\n",
       "</script><script>$(\"#m7_b3\").append($(\"#3dmolviewer_14907065066207623\")); </script>"
      ],
      "text/plain": [
       "<IPython.core.display.HTML object>"
      ]
     },
     "execution_count": 154,
     "metadata": {},
     "output_type": "execute_result"
    }
   ],
   "source": [
    "p7_b_handles[2].insert('m7_b3')"
   ]
  },
  {
   "cell_type": "code",
   "execution_count": 155,
   "metadata": {
    "collapsed": false,
    "deletable": true,
    "editable": true
   },
   "outputs": [
    {
     "data": {
      "text/html": [
       "<div id=\"3dmolviewer_1490706507852469\"  style=\"position: relative; width: 200px; height: 200px\">\n",
       "<script>\n",
       "if(typeof $3Dmolpromise === 'undefined') $3Dmolpromise = $.when($.getScript('http://3dmol.csb.pitt.edu/build/3Dmol.js'))\n",
       "var viewer_1490706507852469 = null;\n",
       "$3Dmolpromise.done(function() {\n",
       "viewer_1490706507852469 = $3Dmol.createViewer($(\"#3dmolviewer_1490706507852469\"),{backgroundColor:\"white\"});\n",
       "\tviewer_1490706507852469.addModel(\"m7_crystal.xyz\\n  1228              3D\\n\\n 52 54  0  0  0  0  0  0  0  0999 V2000\\n   -2.6282    7.7319   12.6019 N   0  0  0  0  0  0  0  0  0  0  0  0\\n   -2.9120    8.4026   13.7795 C   0  0  0  0  0  0  0  0  0  0  0  0\\n   -4.0275    8.7695   14.1343 O   0  0  0  0  0  0  0  0  0  0  0  0\\n   -1.7305    8.6693   14.6360 C   0  0  0  0  0  0  0  0  0  0  0  0\\n   -0.5233    8.4263   14.0730 N   0  0  0  0  0  0  0  0  0  0  0  0\\n    0.5697    8.6850   14.8292 C   0  0  0  0  0  0  0  0  0  0  0  0\\n    1.8827    8.4226   14.1881 C   0  0  0  0  0  0  0  0  0  0  0  0\\n    2.9206    8.5455   14.8298 O   0  0  0  0  0  0  0  0  0  0  0  0\\n    1.8028    8.0510   12.8572 N   0  0  0  0  0  0  0  0  0  0  0  0\\n    2.9715    7.8622   12.0134 C   0  0  0  0  0  0  0  0  0  0  0  0\\n    3.8208    7.5352   12.6231 H   0  0  0  0  0  0  0  0  0  0  0  0\\n    3.2164    8.8441   11.5949 H   0  0  0  0  0  0  0  0  0  0  0  0\\n    2.6808    6.8751   10.8863 C   0  0  0  0  0  0  0  0  0  0  0  0\\n    3.4974    6.9132   10.1549 H   0  0  0  0  0  0  0  0  0  0  0  0\\n    1.7726    7.1907   10.3566 H   0  0  0  0  0  0  0  0  0  0  0  0\\n    2.5419    5.4373   11.3950 C   0  0  0  0  0  0  0  0  0  0  0  0\\n    3.4580    4.8743   11.1854 H   0  0  0  0  0  0  0  0  0  0  0  0\\n    2.3588    5.3947   12.4732 H   0  0  0  0  0  0  0  0  0  0  0  0\\n    1.4231    4.7622   10.7652 N   0  0  0  0  0  0  0  0  0  0  0  0\\n    1.4913    4.1621    9.5193 C   0  0  0  0  0  0  0  0  0  0  0  0\\n    2.5052    4.0439    8.8407 O   0  0  0  0  0  0  0  0  0  0  0  0\\n    0.1885    3.6512    9.0248 C   0  0  0  0  0  0  0  0  0  0  0  0\\n   -0.8761    3.9123    9.8173 N   0  0  0  0  0  0  0  0  0  0  0  0\\n   -2.0846    3.4761    9.3958 C   0  0  0  0  0  0  0  0  0  0  0  0\\n   -3.2249    3.7926   10.2912 C   0  0  0  0  0  0  0  0  0  0  0  0\\n   -4.3600    3.4264   10.0066 O   0  0  0  0  0  0  0  0  0  0  0  0\\n   -2.8717    4.5118   11.4199 N   0  0  0  0  0  0  0  0  0  0  0  0\\n   -3.8202    4.9689   12.4163 C   0  0  0  0  0  0  0  0  0  0  0  0\\n   -3.2625    5.1187   13.3467 H   0  0  0  0  0  0  0  0  0  0  0  0\\n   -4.5529    4.1728   12.5888 H   0  0  0  0  0  0  0  0  0  0  0  0\\n   -4.5481    6.2496   12.0059 C   0  0  0  0  0  0  0  0  0  0  0  0\\n   -5.2146    6.0355   11.1612 H   0  0  0  0  0  0  0  0  0  0  0  0\\n   -5.1900    6.5613   12.8389 H   0  0  0  0  0  0  0  0  0  0  0  0\\n   -3.6311    7.4069   11.6047 C   0  0  0  0  0  0  0  0  0  0  0  0\\n   -4.2354    8.3039   11.4286 H   0  0  0  0  0  0  0  0  0  0  0  0\\n   -3.0999    7.1760   10.6756 H   0  0  0  0  0  0  0  0  0  0  0  0\\n   -1.8953    9.1574   15.9254 C   0  0  0  0  0  0  0  0  0  0  0  0\\n   -2.8736    9.3435   16.3549 H   0  0  0  0  0  0  0  0  0  0  0  0\\n   -0.7495    9.4049   16.6757 C   0  0  0  0  0  0  0  0  0  0  0  0\\n   -0.8365    9.7861   17.6892 H   0  0  0  0  0  0  0  0  0  0  0  0\\n    0.5088    9.1696   16.1288 C   0  0  0  0  0  0  0  0  0  0  0  0\\n    1.3987    9.3696   16.7154 H   0  0  0  0  0  0  0  0  0  0  0  0\\n    0.1001    2.9668    7.8217 C   0  0  0  0  0  0  0  0  0  0  0  0\\n    0.9667    2.7707    7.2007 H   0  0  0  0  0  0  0  0  0  0  0  0\\n   -1.1594    2.5288    7.4191 C   0  0  0  0  0  0  0  0  0  0  0  0\\n   -1.2711    1.9903    6.4822 H   0  0  0  0  0  0  0  0  0  0  0  0\\n   -2.2780    2.7818    8.2106 C   0  0  0  0  0  0  0  0  0  0  0  0\\n   -3.2567    2.4405    7.8913 H   0  0  0  0  0  0  0  0  0  0  0  0\\n   -1.6713    7.4454   12.4136 H   0  0  0  0  0  0  0  0  0  0  0  0\\n    0.8988    8.1060   12.3960 H   0  0  0  0  0  0  0  0  0  0  0  0\\n    0.5173    4.8523   11.2168 H   0  0  0  0  0  0  0  0  0  0  0  0\\n   -1.9062    4.8082   11.5306 H   0  0  0  0  0  0  0  0  0  0  0  0\\n  1  2  1  0  0  0  0\\n  2  3  2  0  0  0  0\\n  2  4  1  0  0  0  0\\n  4 37  1  0  0  0  0\\n  5  4  2  0  0  0  0\\n  5  6  1  0  0  0  0\\n  6 41  2  0  0  0  0\\n  7  6  1  0  0  0  0\\n  7  8  2  0  0  0  0\\n  9  7  1  0  0  0  0\\n 10 12  1  0  0  0  0\\n 10  9  1  0  0  0  0\\n 11 10  1  0  0  0  0\\n 13 15  1  0  0  0  0\\n 13 10  1  0  0  0  0\\n 14 13  1  0  0  0  0\\n 16 19  1  0  0  0  0\\n 16 13  1  0  0  0  0\\n 17 16  1  0  0  0  0\\n 18 16  1  0  0  0  0\\n 19 51  1  0  0  0  0\\n 19 20  1  0  0  0  0\\n 20 21  2  0  0  0  0\\n 20 22  1  0  0  0  0\\n 22 43  2  0  0  0  0\\n 23 24  2  0  0  0  0\\n 23 22  1  0  0  0  0\\n 24 47  1  0  0  0  0\\n 25 26  2  0  0  0  0\\n 25 24  1  0  0  0  0\\n 27 25  1  0  0  0  0\\n 28 27  1  0  0  0  0\\n 28 31  1  0  0  0  0\\n 29 28  1  0  0  0  0\\n 30 28  1  0  0  0  0\\n 31 34  1  0  0  0  0\\n 31 32  1  0  0  0  0\\n 33 31  1  0  0  0  0\\n 34 35  1  0  0  0  0\\n 34  1  1  0  0  0  0\\n 36 34  1  0  0  0  0\\n 37 38  1  0  0  0  0\\n 37 39  2  0  0  0  0\\n 39 40  1  0  0  0  0\\n 41 42  1  0  0  0  0\\n 41 39  1  0  0  0  0\\n 43 44  1  0  0  0  0\\n 43 45  1  0  0  0  0\\n 45 46  1  0  0  0  0\\n 47 48  1  0  0  0  0\\n 47 45  2  0  0  0  0\\n 49  1  1  0  0  0  0\\n 50  9  1  0  0  0  0\\n 52 27  1  0  0  0  0\\nM  END\\n55.531842919656178\\n\\n\",\"sdf\");\n",
       "\tviewer_1490706507852469.setStyle({\"stick\": {}});\n",
       "\tviewer_1490706507852469.setBackgroundColor(\"0xeeeeee\");\n",
       "\tviewer_1490706507852469.zoomTo();\n",
       "viewer_1490706507852469.render();\n",
       "});\n",
       "</script><script>$(\"#m7_b4\").append($(\"#3dmolviewer_1490706507852469\")); </script>"
      ],
      "text/plain": [
       "<IPython.core.display.HTML object>"
      ]
     },
     "execution_count": 155,
     "metadata": {},
     "output_type": "execute_result"
    }
   ],
   "source": [
    "p7_b_handles[3].insert('m7_b4')"
   ]
  },
  {
   "cell_type": "code",
   "execution_count": 156,
   "metadata": {
    "collapsed": false,
    "deletable": true,
    "editable": true
   },
   "outputs": [
    {
     "data": {
      "text/html": [
       "<div id=\"3dmolviewer_1490706509179379\"  style=\"position: relative; width: 200px; height: 200px\">\n",
       "<script>\n",
       "if(typeof $3Dmolpromise === 'undefined') $3Dmolpromise = $.when($.getScript('http://3dmol.csb.pitt.edu/build/3Dmol.js'))\n",
       "var viewer_1490706509179379 = null;\n",
       "$3Dmolpromise.done(function() {\n",
       "viewer_1490706509179379 = $3Dmol.createViewer($(\"#3dmolviewer_1490706509179379\"),{backgroundColor:\"white\"});\n",
       "\tviewer_1490706509179379.addModel(\"m7_crystal.xyz\\n  1228              3D\\n\\n 52 54  0  0  0  0  0  0  0  0999 V2000\\n   -2.6014    5.6371   10.5060 N   0  0  0  0  0  0  0  0  0  0  0  0\\n   -3.0029    4.6543    9.6169 C   0  0  0  0  0  0  0  0  0  0  0  0\\n   -4.1444    4.5116    9.1909 O   0  0  0  0  0  0  0  0  0  0  0  0\\n   -1.9198    3.7423    9.1716 C   0  0  0  0  0  0  0  0  0  0  0  0\\n   -0.6746    4.0278    9.6219 N   0  0  0  0  0  0  0  0  0  0  0  0\\n    0.3292    3.2211    9.2009 C   0  0  0  0  0  0  0  0  0  0  0  0\\n    1.6920    3.5610    9.6816 C   0  0  0  0  0  0  0  0  0  0  0  0\\n    2.6569    2.8902    9.3293 O   0  0  0  0  0  0  0  0  0  0  0  0\\n    1.7528    4.6630   10.5176 N   0  0  0  0  0  0  0  0  0  0  0  0\\n    3.0122    5.2063   11.0025 C   0  0  0  0  0  0  0  0  0  0  0  0\\n    3.5394    5.6510   10.1514 H   0  0  0  0  0  0  0  0  0  0  0  0\\n    3.6187    4.3702   11.3673 H   0  0  0  0  0  0  0  0  0  0  0  0\\n    2.7954    6.2240   12.1184 C   0  0  0  0  0  0  0  0  0  0  0  0\\n    3.7561    6.4386   12.6022 H   0  0  0  0  0  0  0  0  0  0  0  0\\n    2.1495    5.7802   12.8872 H   0  0  0  0  0  0  0  0  0  0  0  0\\n    2.2036    7.5381   11.6025 C   0  0  0  0  0  0  0  0  0  0  0  0\\n    2.9960    8.2824   11.4695 H   0  0  0  0  0  0  0  0  0  0  0  0\\n    1.6945    7.4133   10.6416 H   0  0  0  0  0  0  0  0  0  0  0  0\\n    1.2083    8.0537   12.5226 N   0  0  0  0  0  0  0  0  0  0  0  0\\n    1.4785    8.9505   13.5417 C   0  0  0  0  0  0  0  0  0  0  0  0\\n    2.5541    9.4990   13.7486 O   0  0  0  0  0  0  0  0  0  0  0  0\\n    0.3126    9.2155   14.4195 C   0  0  0  0  0  0  0  0  0  0  0  0\\n   -0.7496    8.4025   14.2229 N   0  0  0  0  0  0  0  0  0  0  0  0\\n   -1.8375    8.5984   14.9998 C   0  0  0  0  0  0  0  0  0  0  0  0\\n   -2.9701    7.6747   14.7452 C   0  0  0  0  0  0  0  0  0  0  0  0\\n   -4.0562    7.8574   15.2835 O   0  0  0  0  0  0  0  0  0  0  0  0\\n   -2.6646    6.6442   13.8715 N   0  0  0  0  0  0  0  0  0  0  0  0\\n   -3.6357    5.6907   13.3711 C   0  0  0  0  0  0  0  0  0  0  0  0\\n   -4.3491    5.4628   14.1705 H   0  0  0  0  0  0  0  0  0  0  0  0\\n   -3.0928    4.7710   13.1316 H   0  0  0  0  0  0  0  0  0  0  0  0\\n   -4.3905    6.2120   12.1474 C   0  0  0  0  0  0  0  0  0  0  0  0\\n   -5.0665    5.4245   11.7932 H   0  0  0  0  0  0  0  0  0  0  0  0\\n   -5.0202    7.0587   12.4471 H   0  0  0  0  0  0  0  0  0  0  0  0\\n   -3.4897    6.6742   10.9990 C   0  0  0  0  0  0  0  0  0  0  0  0\\n   -4.1148    7.0128   10.1648 H   0  0  0  0  0  0  0  0  0  0  0  0\\n   -2.8634    7.5189   11.3068 H   0  0  0  0  0  0  0  0  0  0  0  0\\n   -2.2064    2.6834    8.3191 C   0  0  0  0  0  0  0  0  0  0  0  0\\n   -3.2105    2.4790    7.9640 H   0  0  0  0  0  0  0  0  0  0  0  0\\n   -1.1511    1.8709    7.9147 C   0  0  0  0  0  0  0  0  0  0  0  0\\n   -1.3353    1.0320    7.2496 H   0  0  0  0  0  0  0  0  0  0  0  0\\n    0.1418    2.1345    8.3557 C   0  0  0  0  0  0  0  0  0  0  0  0\\n    0.9617    1.5023    8.0322 H   0  0  0  0  0  0  0  0  0  0  0  0\\n    0.3397   10.2243   15.3697 C   0  0  0  0  0  0  0  0  0  0  0  0\\n    1.2036   10.8636   15.5119 H   0  0  0  0  0  0  0  0  0  0  0  0\\n   -0.8008   10.4038   16.1504 C   0  0  0  0  0  0  0  0  0  0  0  0\\n   -0.8223   11.1864   16.9041 H   0  0  0  0  0  0  0  0  0  0  0  0\\n   -1.9150    9.5853   15.9703 C   0  0  0  0  0  0  0  0  0  0  0  0\\n   -2.7977    9.7272   16.5835 H   0  0  0  0  0  0  0  0  0  0  0  0\\n   -1.6376    5.6527   10.8270 H   0  0  0  0  0  0  0  0  0  0  0  0\\n    0.9052    5.2014   10.6739 H   0  0  0  0  0  0  0  0  0  0  0  0\\n    0.2843    7.6328   12.4772 H   0  0  0  0  0  0  0  0  0  0  0  0\\n   -1.7377    6.6159   13.4562 H   0  0  0  0  0  0  0  0  0  0  0  0\\n  1  2  1  0  0  0  0\\n  2  3  2  0  0  0  0\\n  2  4  1  0  0  0  0\\n  4 37  1  0  0  0  0\\n  5  4  2  0  0  0  0\\n  5  6  1  0  0  0  0\\n  6 41  2  0  0  0  0\\n  7  6  1  0  0  0  0\\n  7  8  2  0  0  0  0\\n  9  7  1  0  0  0  0\\n 10 12  1  0  0  0  0\\n 10  9  1  0  0  0  0\\n 11 10  1  0  0  0  0\\n 13 15  1  0  0  0  0\\n 13 10  1  0  0  0  0\\n 14 13  1  0  0  0  0\\n 16 19  1  0  0  0  0\\n 16 13  1  0  0  0  0\\n 17 16  1  0  0  0  0\\n 18 16  1  0  0  0  0\\n 19 51  1  0  0  0  0\\n 19 20  1  0  0  0  0\\n 20 21  2  0  0  0  0\\n 20 22  1  0  0  0  0\\n 22 43  2  0  0  0  0\\n 23 24  2  0  0  0  0\\n 23 22  1  0  0  0  0\\n 24 47  1  0  0  0  0\\n 25 26  2  0  0  0  0\\n 25 24  1  0  0  0  0\\n 27 25  1  0  0  0  0\\n 28 27  1  0  0  0  0\\n 28 31  1  0  0  0  0\\n 29 28  1  0  0  0  0\\n 30 28  1  0  0  0  0\\n 31 34  1  0  0  0  0\\n 31 32  1  0  0  0  0\\n 33 31  1  0  0  0  0\\n 34 35  1  0  0  0  0\\n 34  1  1  0  0  0  0\\n 36 34  1  0  0  0  0\\n 37 38  1  0  0  0  0\\n 37 39  2  0  0  0  0\\n 39 40  1  0  0  0  0\\n 41 42  1  0  0  0  0\\n 41 39  1  0  0  0  0\\n 43 44  1  0  0  0  0\\n 43 45  1  0  0  0  0\\n 45 46  1  0  0  0  0\\n 47 48  1  0  0  0  0\\n 47 45  2  0  0  0  0\\n 49  1  1  0  0  0  0\\n 50  9  1  0  0  0  0\\n 52 27  1  0  0  0  0\\nM  END\\n55.688969666106786\\n\\n\",\"sdf\");\n",
       "\tviewer_1490706509179379.setStyle({\"stick\": {}});\n",
       "\tviewer_1490706509179379.setBackgroundColor(\"0xeeeeee\");\n",
       "\tviewer_1490706509179379.zoomTo();\n",
       "viewer_1490706509179379.render();\n",
       "});\n",
       "</script><script>$(\"#m7_b5\").append($(\"#3dmolviewer_1490706509179379\")); </script>"
      ],
      "text/plain": [
       "<IPython.core.display.HTML object>"
      ]
     },
     "execution_count": 156,
     "metadata": {},
     "output_type": "execute_result"
    }
   ],
   "source": [
    "p7_b_handles[4].insert('m7_b5')"
   ]
  },
  {
   "cell_type": "code",
   "execution_count": 157,
   "metadata": {
    "collapsed": false,
    "deletable": true,
    "editable": true
   },
   "outputs": [
    {
     "data": {
      "text/html": [
       "<div id=\"3dmolviewer_14907065118847387\"  style=\"position: relative; width: 200px; height: 200px\">\n",
       "<script>\n",
       "if(typeof $3Dmolpromise === 'undefined') $3Dmolpromise = $.when($.getScript('http://3dmol.csb.pitt.edu/build/3Dmol.js'))\n",
       "var viewer_14907065118847387 = null;\n",
       "$3Dmolpromise.done(function() {\n",
       "viewer_14907065118847387 = $3Dmol.createViewer($(\"#3dmolviewer_14907065118847387\"),{backgroundColor:\"white\"});\n",
       "\tviewer_14907065118847387.addModel(\"m7_crystal.xyz\\n  1228              3D\\n\\n 52 54  0  0  0  0  0  0  0  0999 V2000\\n   -2.6429    6.0457   10.0675 N   0  0  0  0  0  0  0  0  0  0  0  0\\n   -3.0449    4.8300    9.5431 C   0  0  0  0  0  0  0  0  0  0  0  0\\n   -4.1676    4.5729    9.1218 O   0  0  0  0  0  0  0  0  0  0  0  0\\n   -1.9872    3.7918    9.5392 C   0  0  0  0  0  0  0  0  0  0  0  0\\n   -0.7278    4.2308    9.7740 N   0  0  0  0  0  0  0  0  0  0  0  0\\n    0.2548    3.3013    9.7656 C   0  0  0  0  0  0  0  0  0  0  0  0\\n    1.6346    3.8110    9.9586 C   0  0  0  0  0  0  0  0  0  0  0  0\\n    2.5879    3.0454    9.8629 O   0  0  0  0  0  0  0  0  0  0  0  0\\n    1.7218    5.1711   10.2197 N   0  0  0  0  0  0  0  0  0  0  0  0\\n    2.9836    5.8903   10.1695 C   0  0  0  0  0  0  0  0  0  0  0  0\\n    3.0536    6.3465    9.1758 H   0  0  0  0  0  0  0  0  0  0  0  0\\n    3.8109    5.1784   10.2610 H   0  0  0  0  0  0  0  0  0  0  0  0\\n    3.1038    6.9522   11.2600 C   0  0  0  0  0  0  0  0  0  0  0  0\\n    4.1184    7.3670   11.2044 H   0  0  0  0  0  0  0  0  0  0  0  0\\n    3.0098    6.4788   12.2451 H   0  0  0  0  0  0  0  0  0  0  0  0\\n    2.1063    8.1040   11.1005 C   0  0  0  0  0  0  0  0  0  0  0  0\\n    2.6501    9.0547   11.0630 H   0  0  0  0  0  0  0  0  0  0  0  0\\n    1.5145    8.0253   10.1834 H   0  0  0  0  0  0  0  0  0  0  0  0\\n    1.1748    8.1741   12.2135 N   0  0  0  0  0  0  0  0  0  0  0  0\\n    1.5110    8.7620   13.4242 C   0  0  0  0  0  0  0  0  0  0  0  0\\n    2.5871    9.2972   13.6734 O   0  0  0  0  0  0  0  0  0  0  0  0\\n    0.4528    8.7083   14.4606 C   0  0  0  0  0  0  0  0  0  0  0  0\\n   -0.7231    8.1588   14.0803 N   0  0  0  0  0  0  0  0  0  0  0  0\\n   -1.7005    8.0966   15.0149 C   0  0  0  0  0  0  0  0  0  0  0  0\\n   -2.9720    7.4706   14.5807 C   0  0  0  0  0  0  0  0  0  0  0  0\\n   -3.8444    7.2159   15.4044 O   0  0  0  0  0  0  0  0  0  0  0  0\\n   -3.0486    7.2136   13.2215 N   0  0  0  0  0  0  0  0  0  0  0  0\\n   -4.1075    6.4170   12.6320 C   0  0  0  0  0  0  0  0  0  0  0  0\\n   -4.9464    6.3478   13.3325 H   0  0  0  0  0  0  0  0  0  0  0  0\\n   -3.7113    5.4035   12.5059 H   0  0  0  0  0  0  0  0  0  0  0  0\\n   -4.6046    6.9784   11.3010 C   0  0  0  0  0  0  0  0  0  0  0  0\\n   -5.3744    6.2992   10.9142 H   0  0  0  0  0  0  0  0  0  0  0  0\\n   -5.0998    7.9419   11.4737 H   0  0  0  0  0  0  0  0  0  0  0  0\\n   -3.5285    7.1823   10.2314 C   0  0  0  0  0  0  0  0  0  0  0  0\\n   -4.0062    7.3801    9.2653 H   0  0  0  0  0  0  0  0  0  0  0  0\\n   -2.9001    8.0451   10.4768 H   0  0  0  0  0  0  0  0  0  0  0  0\\n   -2.3112    2.4626    9.3031 C   0  0  0  0  0  0  0  0  0  0  0  0\\n   -3.3297    2.1376    9.1200 H   0  0  0  0  0  0  0  0  0  0  0  0\\n   -1.2764    1.5326    9.3178 C   0  0  0  0  0  0  0  0  0  0  0  0\\n   -1.4895    0.4817    9.1439 H   0  0  0  0  0  0  0  0  0  0  0  0\\n    0.0320    1.9472    9.5500 C   0  0  0  0  0  0  0  0  0  0  0  0\\n    0.8360    1.2194    9.5510 H   0  0  0  0  0  0  0  0  0  0  0  0\\n    0.6943    9.2033   15.7361 C   0  0  0  0  0  0  0  0  0  0  0  0\\n    1.6459    9.6405   16.0188 H   0  0  0  0  0  0  0  0  0  0  0  0\\n   -0.3344    9.1234   16.6702 C   0  0  0  0  0  0  0  0  0  0  0  0\\n   -0.1830    9.4992   17.6782 H   0  0  0  0  0  0  0  0  0  0  0  0\\n   -1.5566    8.5614   16.3151 C   0  0  0  0  0  0  0  0  0  0  0  0\\n   -2.3569    8.4999   17.0446 H   0  0  0  0  0  0  0  0  0  0  0  0\\n   -1.6960    6.1384   10.4247 H   0  0  0  0  0  0  0  0  0  0  0  0\\n    0.8693    5.7228   10.1841 H   0  0  0  0  0  0  0  0  0  0  0  0\\n    0.2780    7.7056   12.1172 H   0  0  0  0  0  0  0  0  0  0  0  0\\n   -2.2216    7.3800   12.6553 H   0  0  0  0  0  0  0  0  0  0  0  0\\n  1  2  1  0  0  0  0\\n  2  3  2  0  0  0  0\\n  2  4  1  0  0  0  0\\n  4 37  1  0  0  0  0\\n  5  4  2  0  0  0  0\\n  5  6  1  0  0  0  0\\n  6 41  2  0  0  0  0\\n  7  6  1  0  0  0  0\\n  7  8  2  0  0  0  0\\n  9  7  1  0  0  0  0\\n 10 12  1  0  0  0  0\\n 10  9  1  0  0  0  0\\n 11 10  1  0  0  0  0\\n 13 15  1  0  0  0  0\\n 13 10  1  0  0  0  0\\n 14 13  1  0  0  0  0\\n 16 19  1  0  0  0  0\\n 16 13  1  0  0  0  0\\n 17 16  1  0  0  0  0\\n 18 16  1  0  0  0  0\\n 19 51  1  0  0  0  0\\n 19 20  1  0  0  0  0\\n 20 21  2  0  0  0  0\\n 20 22  1  0  0  0  0\\n 22 43  2  0  0  0  0\\n 23 24  2  0  0  0  0\\n 23 22  1  0  0  0  0\\n 24 47  1  0  0  0  0\\n 25 26  2  0  0  0  0\\n 25 24  1  0  0  0  0\\n 27 25  1  0  0  0  0\\n 28 27  1  0  0  0  0\\n 28 31  1  0  0  0  0\\n 29 28  1  0  0  0  0\\n 30 28  1  0  0  0  0\\n 31 34  1  0  0  0  0\\n 31 32  1  0  0  0  0\\n 33 31  1  0  0  0  0\\n 34 35  1  0  0  0  0\\n 34  1  1  0  0  0  0\\n 36 34  1  0  0  0  0\\n 37 38  1  0  0  0  0\\n 37 39  2  0  0  0  0\\n 39 40  1  0  0  0  0\\n 41 42  1  0  0  0  0\\n 41 39  1  0  0  0  0\\n 43 44  1  0  0  0  0\\n 43 45  1  0  0  0  0\\n 45 46  1  0  0  0  0\\n 47 48  1  0  0  0  0\\n 47 45  2  0  0  0  0\\n 49  1  1  0  0  0  0\\n 50  9  1  0  0  0  0\\n 52 27  1  0  0  0  0\\nM  END\\n57.683849615148524\\n\\n\",\"sdf\");\n",
       "\tviewer_14907065118847387.setStyle({\"stick\": {}});\n",
       "\tviewer_14907065118847387.setBackgroundColor(\"0xeeeeee\");\n",
       "\tviewer_14907065118847387.zoomTo();\n",
       "viewer_14907065118847387.render();\n",
       "});\n",
       "</script><script>$(\"#m7_b6\").append($(\"#3dmolviewer_14907065118847387\")); </script>"
      ],
      "text/plain": [
       "<IPython.core.display.HTML object>"
      ]
     },
     "execution_count": 157,
     "metadata": {},
     "output_type": "execute_result"
    }
   ],
   "source": [
    "p7_b_handles[5].insert('m7_b6')"
   ]
  },
  {
   "cell_type": "code",
   "execution_count": 158,
   "metadata": {
    "collapsed": false,
    "deletable": true,
    "editable": true
   },
   "outputs": [
    {
     "data": {
      "text/html": [
       "<div id=\"3dmolviewer_1490706514036441\"  style=\"position: relative; width: 200px; height: 200px\">\n",
       "<script>\n",
       "if(typeof $3Dmolpromise === 'undefined') $3Dmolpromise = $.when($.getScript('http://3dmol.csb.pitt.edu/build/3Dmol.js'))\n",
       "var viewer_1490706514036441 = null;\n",
       "$3Dmolpromise.done(function() {\n",
       "viewer_1490706514036441 = $3Dmol.createViewer($(\"#3dmolviewer_1490706514036441\"),{backgroundColor:\"white\"});\n",
       "\tviewer_1490706514036441.addModel(\"m7_crystal.xyz\\n  1228              3D\\n\\n 52 54  0  0  0  0  0  0  0  0999 V2000\\n   -2.8492    4.6130   11.4256 N   0  0  0  0  0  0  0  0  0  0  0  0\\n   -3.1418    3.5884   10.5410 C   0  0  0  0  0  0  0  0  0  0  0  0\\n   -4.2201    3.0135   10.4452 O   0  0  0  0  0  0  0  0  0  0  0  0\\n   -2.0049    3.2022    9.6702 C   0  0  0  0  0  0  0  0  0  0  0  0\\n   -0.9189    4.0033    9.7466 N   0  0  0  0  0  0  0  0  0  0  0  0\\n    0.1448    3.6831    8.9758 C   0  0  0  0  0  0  0  0  0  0  0  0\\n    1.3084    4.5965    9.0927 C   0  0  0  0  0  0  0  0  0  0  0  0\\n    2.3671    4.3328    8.5334 O   0  0  0  0  0  0  0  0  0  0  0  0\\n    1.0643    5.7163    9.8704 N   0  0  0  0  0  0  0  0  0  0  0  0\\n    2.0780    6.6941   10.2167 C   0  0  0  0  0  0  0  0  0  0  0  0\\n    1.5517    7.6402   10.3746 H   0  0  0  0  0  0  0  0  0  0  0  0\\n    2.7526    6.8224    9.3630 H   0  0  0  0  0  0  0  0  0  0  0  0\\n    2.8705    6.2563   11.4512 C   0  0  0  0  0  0  0  0  0  0  0  0\\n    3.8373    5.8575   11.1209 H   0  0  0  0  0  0  0  0  0  0  0  0\\n    2.3578    5.4394   11.9754 H   0  0  0  0  0  0  0  0  0  0  0  0\\n    3.1144    7.4010   12.4321 C   0  0  0  0  0  0  0  0  0  0  0  0\\n    3.8655    7.1048   13.1718 H   0  0  0  0  0  0  0  0  0  0  0  0\\n    3.4855    8.2940   11.9169 H   0  0  0  0  0  0  0  0  0  0  0  0\\n    1.8904    7.7672   13.1291 N   0  0  0  0  0  0  0  0  0  0  0  0\\n    1.8709    8.2327   14.4339 C   0  0  0  0  0  0  0  0  0  0  0  0\\n    2.8532    8.3450   15.1601 O   0  0  0  0  0  0  0  0  0  0  0  0\\n    0.5231    8.6038   14.9353 C   0  0  0  0  0  0  0  0  0  0  0  0\\n   -0.5010    8.4527   14.0622 N   0  0  0  0  0  0  0  0  0  0  0  0\\n   -1.7371    8.7858   14.5045 C   0  0  0  0  0  0  0  0  0  0  0  0\\n   -2.8455    8.6069   13.5353 C   0  0  0  0  0  0  0  0  0  0  0  0\\n   -3.9582    9.0619   13.7782 O   0  0  0  0  0  0  0  0  0  0  0  0\\n   -2.5033    7.8938   12.3992 N   0  0  0  0  0  0  0  0  0  0  0  0\\n   -3.4505    7.5532   11.3542 C   0  0  0  0  0  0  0  0  0  0  0  0\\n   -2.8702    7.2368   10.4815 H   0  0  0  0  0  0  0  0  0  0  0  0\\n   -3.9948    8.4633   11.0804 H   0  0  0  0  0  0  0  0  0  0  0  0\\n   -4.4503    6.4678   11.7652 C   0  0  0  0  0  0  0  0  0  0  0  0\\n   -5.1401    6.8702   12.5171 H   0  0  0  0  0  0  0  0  0  0  0  0\\n   -5.0572    6.2097   10.8882 H   0  0  0  0  0  0  0  0  0  0  0  0\\n   -3.8152    5.1996   12.3348 C   0  0  0  0  0  0  0  0  0  0  0  0\\n   -3.2908    5.4112   13.2722 H   0  0  0  0  0  0  0  0  0  0  0  0\\n   -4.5990    4.4666   12.5507 H   0  0  0  0  0  0  0  0  0  0  0  0\\n   -2.0799    2.0899    8.8451 C   0  0  0  0  0  0  0  0  0  0  0  0\\n   -2.9639    1.4630    8.7959 H   0  0  0  0  0  0  0  0  0  0  0  0\\n   -0.9634    1.7844    8.0700 C   0  0  0  0  0  0  0  0  0  0  0  0\\n   -0.9811    0.9171    7.4154 H   0  0  0  0  0  0  0  0  0  0  0  0\\n    0.1761    2.5843    8.1304 C   0  0  0  0  0  0  0  0  0  0  0  0\\n    1.0424    2.3413    7.5259 H   0  0  0  0  0  0  0  0  0  0  0  0\\n    0.3638    9.0659   16.2358 C   0  0  0  0  0  0  0  0  0  0  0  0\\n    1.1987    9.1733   16.9200 H   0  0  0  0  0  0  0  0  0  0  0  0\\n   -0.9217    9.3950   16.6555 C   0  0  0  0  0  0  0  0  0  0  0  0\\n   -1.0858    9.7538   17.6675 H   0  0  0  0  0  0  0  0  0  0  0  0\\n   -1.9972    9.2611   15.7829 C   0  0  0  0  0  0  0  0  0  0  0  0\\n   -2.9981    9.5131   16.1149 H   0  0  0  0  0  0  0  0  0  0  0  0\\n   -1.9242    5.0334   11.4002 H   0  0  0  0  0  0  0  0  0  0  0  0\\n    0.1601    5.8078   10.3260 H   0  0  0  0  0  0  0  0  0  0  0  0\\n    1.0333    7.8138   12.5863 H   0  0  0  0  0  0  0  0  0  0  0  0\\n   -1.5620    7.5213   12.3143 H   0  0  0  0  0  0  0  0  0  0  0  0\\n  1  2  1  0  0  0  0\\n  2  3  2  0  0  0  0\\n  2  4  1  0  0  0  0\\n  4 37  1  0  0  0  0\\n  5  4  2  0  0  0  0\\n  5  6  1  0  0  0  0\\n  6 41  2  0  0  0  0\\n  7  6  1  0  0  0  0\\n  7  8  2  0  0  0  0\\n  9  7  1  0  0  0  0\\n 10 12  1  0  0  0  0\\n 10  9  1  0  0  0  0\\n 11 10  1  0  0  0  0\\n 13 15  1  0  0  0  0\\n 13 10  1  0  0  0  0\\n 14 13  1  0  0  0  0\\n 16 19  1  0  0  0  0\\n 16 13  1  0  0  0  0\\n 17 16  1  0  0  0  0\\n 18 16  1  0  0  0  0\\n 19 51  1  0  0  0  0\\n 19 20  1  0  0  0  0\\n 20 21  2  0  0  0  0\\n 20 22  1  0  0  0  0\\n 22 43  2  0  0  0  0\\n 23 24  2  0  0  0  0\\n 23 22  1  0  0  0  0\\n 24 47  1  0  0  0  0\\n 25 26  2  0  0  0  0\\n 25 24  1  0  0  0  0\\n 27 25  1  0  0  0  0\\n 28 27  1  0  0  0  0\\n 28 31  1  0  0  0  0\\n 29 28  1  0  0  0  0\\n 30 28  1  0  0  0  0\\n 31 34  1  0  0  0  0\\n 31 32  1  0  0  0  0\\n 33 31  1  0  0  0  0\\n 34 35  1  0  0  0  0\\n 34  1  1  0  0  0  0\\n 36 34  1  0  0  0  0\\n 37 38  1  0  0  0  0\\n 37 39  2  0  0  0  0\\n 39 40  1  0  0  0  0\\n 41 42  1  0  0  0  0\\n 41 39  1  0  0  0  0\\n 43 44  1  0  0  0  0\\n 43 45  1  0  0  0  0\\n 45 46  1  0  0  0  0\\n 47 48  1  0  0  0  0\\n 47 45  2  0  0  0  0\\n 49  1  1  0  0  0  0\\n 50  9  1  0  0  0  0\\n 52 27  1  0  0  0  0\\nM  END\\n56.106820348550549\\n\\n\",\"sdf\");\n",
       "\tviewer_1490706514036441.setStyle({\"stick\": {}});\n",
       "\tviewer_1490706514036441.setBackgroundColor(\"0xeeeeee\");\n",
       "\tviewer_1490706514036441.zoomTo();\n",
       "viewer_1490706514036441.render();\n",
       "});\n",
       "</script><script>$(\"#m7_b7\").append($(\"#3dmolviewer_1490706514036441\")); </script>"
      ],
      "text/plain": [
       "<IPython.core.display.HTML object>"
      ]
     },
     "execution_count": 158,
     "metadata": {},
     "output_type": "execute_result"
    }
   ],
   "source": [
    "p7_b_handles[6].insert('m7_b7')"
   ]
  },
  {
   "cell_type": "code",
   "execution_count": 159,
   "metadata": {
    "collapsed": false,
    "deletable": true,
    "editable": true
   },
   "outputs": [
    {
     "data": {
      "text/html": [
       "<div id=\"3dmolviewer_14907065153809617\"  style=\"position: relative; width: 200px; height: 200px\">\n",
       "<script>\n",
       "if(typeof $3Dmolpromise === 'undefined') $3Dmolpromise = $.when($.getScript('http://3dmol.csb.pitt.edu/build/3Dmol.js'))\n",
       "var viewer_14907065153809617 = null;\n",
       "$3Dmolpromise.done(function() {\n",
       "viewer_14907065153809617 = $3Dmol.createViewer($(\"#3dmolviewer_14907065153809617\"),{backgroundColor:\"white\"});\n",
       "\tviewer_14907065153809617.addModel(\"m7_crystal.xyz\\n  1228              3D\\n\\n 52 54  0  0  0  0  0  0  0  0999 V2000\\n   -2.9803    5.6283   10.4690 N   0  0  0  0  0  0  0  0  0  0  0  0\\n   -3.2053    4.3862    9.9013 C   0  0  0  0  0  0  0  0  0  0  0  0\\n   -4.3056    3.9036    9.6579 O   0  0  0  0  0  0  0  0  0  0  0  0\\n   -1.9649    3.6343    9.5839 C   0  0  0  0  0  0  0  0  0  0  0  0\\n   -0.8077    4.3106    9.7685 N   0  0  0  0  0  0  0  0  0  0  0  0\\n    0.3424    3.6662    9.4627 C   0  0  0  0  0  0  0  0  0  0  0  0\\n    1.5882    4.4509    9.6513 C   0  0  0  0  0  0  0  0  0  0  0  0\\n    2.6738    3.9819    9.3297 O   0  0  0  0  0  0  0  0  0  0  0  0\\n    1.3862    5.7051   10.2006 N   0  0  0  0  0  0  0  0  0  0  0  0\\n    2.4481    6.6563   10.4604 C   0  0  0  0  0  0  0  0  0  0  0  0\\n    1.9727    7.6299   10.6216 H   0  0  0  0  0  0  0  0  0  0  0  0\\n    3.0672    6.7323    9.5598 H   0  0  0  0  0  0  0  0  0  0  0  0\\n    3.3294    6.2886   11.6550 C   0  0  0  0  0  0  0  0  0  0  0  0\\n    3.9820    7.1435   11.8706 H   0  0  0  0  0  0  0  0  0  0  0  0\\n    3.9915    5.4590   11.3785 H   0  0  0  0  0  0  0  0  0  0  0  0\\n    2.5750    5.8889   12.9232 C   0  0  0  0  0  0  0  0  0  0  0  0\\n    2.1069    4.9065   12.7979 H   0  0  0  0  0  0  0  0  0  0  0  0\\n    3.2806    5.8156   13.7578 H   0  0  0  0  0  0  0  0  0  0  0  0\\n    1.5247    6.8153   13.2975 N   0  0  0  0  0  0  0  0  0  0  0  0\\n    1.7531    8.0390   13.9021 C   0  0  0  0  0  0  0  0  0  0  0  0\\n    2.8555    8.5144   14.1515 O   0  0  0  0  0  0  0  0  0  0  0  0\\n    0.5168    8.7773   14.2613 C   0  0  0  0  0  0  0  0  0  0  0  0\\n   -0.6424    8.1108   14.0538 N   0  0  0  0  0  0  0  0  0  0  0  0\\n   -1.7888    8.7382   14.4048 C   0  0  0  0  0  0  0  0  0  0  0  0\\n   -3.0363    7.9623   14.1925 C   0  0  0  0  0  0  0  0  0  0  0  0\\n   -4.1176    8.4095   14.5576 O   0  0  0  0  0  0  0  0  0  0  0  0\\n   -2.8409    6.7396   13.5739 N   0  0  0  0  0  0  0  0  0  0  0  0\\n   -3.9011    5.7895   13.3018 C   0  0  0  0  0  0  0  0  0  0  0  0\\n   -4.5232    5.7018   14.2000 H   0  0  0  0  0  0  0  0  0  0  0  0\\n   -3.4227    4.8188   13.1323 H   0  0  0  0  0  0  0  0  0  0  0  0\\n   -4.7826    6.1680   12.1113 C   0  0  0  0  0  0  0  0  0  0  0  0\\n   -5.4483    5.3214   11.9008 H   0  0  0  0  0  0  0  0  0  0  0  0\\n   -5.4310    7.0078   12.3901 H   0  0  0  0  0  0  0  0  0  0  0  0\\n   -4.0316    6.5548   10.8371 C   0  0  0  0  0  0  0  0  0  0  0  0\\n   -4.7387    6.6192   10.0028 H   0  0  0  0  0  0  0  0  0  0  0  0\\n   -3.5632    7.5379   10.9537 H   0  0  0  0  0  0  0  0  0  0  0  0\\n   -2.0242    2.3311    9.1121 C   0  0  0  0  0  0  0  0  0  0  0  0\\n   -2.9632    1.8069    8.9717 H   0  0  0  0  0  0  0  0  0  0  0  0\\n   -0.8209    1.6952    8.8143 C   0  0  0  0  0  0  0  0  0  0  0  0\\n   -0.8255    0.6748    8.4421 H   0  0  0  0  0  0  0  0  0  0  0  0\\n    0.3886    2.3645    8.9855 C   0  0  0  0  0  0  0  0  0  0  0  0\\n    1.3221    1.8667    8.7467 H   0  0  0  0  0  0  0  0  0  0  0  0\\n    0.5817   10.0549   14.7982 C   0  0  0  0  0  0  0  0  0  0  0  0\\n    1.5222   10.5711   14.9566 H   0  0  0  0  0  0  0  0  0  0  0  0\\n   -0.6178   10.6735   15.1428 C   0  0  0  0  0  0  0  0  0  0  0  0\\n   -0.6087   11.6727   15.5686 H   0  0  0  0  0  0  0  0  0  0  0  0\\n   -1.8290   10.0130   14.9510 C   0  0  0  0  0  0  0  0  0  0  0  0\\n   -2.7591   10.4953   15.2302 H   0  0  0  0  0  0  0  0  0  0  0  0\\n   -2.0239    5.9185   10.6512 H   0  0  0  0  0  0  0  0  0  0  0  0\\n    0.4428    5.9845   10.4536 H   0  0  0  0  0  0  0  0  0  0  0  0\\n    0.5669    6.5314   13.1108 H   0  0  0  0  0  0  0  0  0  0  0  0\\n   -1.9013    6.4791   13.2881 H   0  0  0  0  0  0  0  0  0  0  0  0\\n  1  2  1  0  0  0  0\\n  2  3  2  0  0  0  0\\n  2  4  1  0  0  0  0\\n  4 37  1  0  0  0  0\\n  5  4  2  0  0  0  0\\n  5  6  1  0  0  0  0\\n  6 41  2  0  0  0  0\\n  7  6  1  0  0  0  0\\n  7  8  2  0  0  0  0\\n  9  7  1  0  0  0  0\\n 10 12  1  0  0  0  0\\n 10  9  1  0  0  0  0\\n 11 10  1  0  0  0  0\\n 13 15  1  0  0  0  0\\n 13 10  1  0  0  0  0\\n 14 13  1  0  0  0  0\\n 16 19  1  0  0  0  0\\n 16 13  1  0  0  0  0\\n 17 16  1  0  0  0  0\\n 18 16  1  0  0  0  0\\n 19 51  1  0  0  0  0\\n 19 20  1  0  0  0  0\\n 20 21  2  0  0  0  0\\n 20 22  1  0  0  0  0\\n 22 43  2  0  0  0  0\\n 23 24  2  0  0  0  0\\n 23 22  1  0  0  0  0\\n 24 47  1  0  0  0  0\\n 25 26  2  0  0  0  0\\n 25 24  1  0  0  0  0\\n 27 25  1  0  0  0  0\\n 28 27  1  0  0  0  0\\n 28 31  1  0  0  0  0\\n 29 28  1  0  0  0  0\\n 30 28  1  0  0  0  0\\n 31 34  1  0  0  0  0\\n 31 32  1  0  0  0  0\\n 33 31  1  0  0  0  0\\n 34 35  1  0  0  0  0\\n 34  1  1  0  0  0  0\\n 36 34  1  0  0  0  0\\n 37 38  1  0  0  0  0\\n 37 39  2  0  0  0  0\\n 39 40  1  0  0  0  0\\n 41 42  1  0  0  0  0\\n 41 39  1  0  0  0  0\\n 43 44  1  0  0  0  0\\n 43 45  1  0  0  0  0\\n 45 46  1  0  0  0  0\\n 47 48  1  0  0  0  0\\n 47 45  2  0  0  0  0\\n 49  1  1  0  0  0  0\\n 50  9  1  0  0  0  0\\n 52 27  1  0  0  0  0\\nM  END\\n53.693430704453036\\n\\n\",\"sdf\");\n",
       "\tviewer_14907065153809617.setStyle({\"stick\": {}});\n",
       "\tviewer_14907065153809617.setBackgroundColor(\"0xeeeeee\");\n",
       "\tviewer_14907065153809617.zoomTo();\n",
       "viewer_14907065153809617.render();\n",
       "});\n",
       "</script><script>$(\"#m7_b8\").append($(\"#3dmolviewer_14907065153809617\")); </script>"
      ],
      "text/plain": [
       "<IPython.core.display.HTML object>"
      ]
     },
     "execution_count": 159,
     "metadata": {},
     "output_type": "execute_result"
    }
   ],
   "source": [
    "p7_b_handles[7].insert('m7_b8')"
   ]
  },
  {
   "cell_type": "code",
   "execution_count": 160,
   "metadata": {
    "collapsed": false,
    "deletable": true,
    "editable": true
   },
   "outputs": [
    {
     "data": {
      "text/html": [
       "<div id=\"3dmolviewer_14907065177012188\"  style=\"position: relative; width: 200px; height: 200px\">\n",
       "<script>\n",
       "if(typeof $3Dmolpromise === 'undefined') $3Dmolpromise = $.when($.getScript('http://3dmol.csb.pitt.edu/build/3Dmol.js'))\n",
       "var viewer_14907065177012188 = null;\n",
       "$3Dmolpromise.done(function() {\n",
       "viewer_14907065177012188 = $3Dmol.createViewer($(\"#3dmolviewer_14907065177012188\"),{backgroundColor:\"white\"});\n",
       "\tviewer_14907065177012188.addModel(\"m7_crystal.xyz\\n  1228              3D\\n\\n 52 54  0  0  0  0  0  0  0  0999 V2000\\n   -3.3591    4.6935   10.4836 N   0  0  0  0  0  0  0  0  0  0  0  0\\n   -3.4120    3.4668    9.8465 C   0  0  0  0  0  0  0  0  0  0  0  0\\n   -4.4031    2.7513    9.7588 O   0  0  0  0  0  0  0  0  0  0  0  0\\n   -2.1180    3.0432    9.2532 C   0  0  0  0  0  0  0  0  0  0  0  0\\n   -1.0779    3.8841    9.4612 N   0  0  0  0  0  0  0  0  0  0  0  0\\n    0.1219    3.5244    8.9496 C   0  0  0  0  0  0  0  0  0  0  0  0\\n    1.2412    4.4630    9.2142 C   0  0  0  0  0  0  0  0  0  0  0  0\\n    2.3629    4.2308    8.7770 O   0  0  0  0  0  0  0  0  0  0  0  0\\n    0.8901    5.5633    9.9778 N   0  0  0  0  0  0  0  0  0  0  0  0\\n    1.8382    6.5641   10.4351 C   0  0  0  0  0  0  0  0  0  0  0  0\\n    1.2534    7.4643   10.6469 H   0  0  0  0  0  0  0  0  0  0  0  0\\n    2.5303    6.7930    9.6172 H   0  0  0  0  0  0  0  0  0  0  0  0\\n    2.6177    6.0820   11.6624 C   0  0  0  0  0  0  0  0  0  0  0  0\\n    3.5092    5.5423   11.3203 H   0  0  0  0  0  0  0  0  0  0  0  0\\n    2.0187    5.3638   12.2370 H   0  0  0  0  0  0  0  0  0  0  0  0\\n    3.0402    7.2273   12.5808 C   0  0  0  0  0  0  0  0  0  0  0  0\\n    3.7902    6.8792   13.2989 H   0  0  0  0  0  0  0  0  0  0  0  0\\n    3.4781    8.0568   12.0150 H   0  0  0  0  0  0  0  0  0  0  0  0\\n    1.9001    7.7435   13.3215 N   0  0  0  0  0  0  0  0  0  0  0  0\\n    2.0010    8.3901   14.5418 C   0  0  0  0  0  0  0  0  0  0  0  0\\n    3.0385    8.5751   15.1683 O   0  0  0  0  0  0  0  0  0  0  0  0\\n    0.7009    8.8636   15.0811 C   0  0  0  0  0  0  0  0  0  0  0  0\\n   -0.3793    8.6013   14.3093 N   0  0  0  0  0  0  0  0  0  0  0  0\\n   -1.5850    9.0059   14.7704 C   0  0  0  0  0  0  0  0  0  0  0  0\\n   -2.7443    8.6865   13.8999 C   0  0  0  0  0  0  0  0  0  0  0  0\\n   -3.8799    9.0052   14.2328 O   0  0  0  0  0  0  0  0  0  0  0  0\\n   -2.4068    8.0118   12.7393 N   0  0  0  0  0  0  0  0  0  0  0  0\\n   -3.3773    7.5124   11.7835 C   0  0  0  0  0  0  0  0  0  0  0  0\\n   -2.8316    7.3636   10.8472 H   0  0  0  0  0  0  0  0  0  0  0  0\\n   -4.1359    8.2840   11.6142 H   0  0  0  0  0  0  0  0  0  0  0  0\\n   -4.0371    6.2225   12.2781 C   0  0  0  0  0  0  0  0  0  0  0  0\\n   -3.3426    5.6621   12.9174 H   0  0  0  0  0  0  0  0  0  0  0  0\\n   -4.8978    6.4868   12.9045 H   0  0  0  0  0  0  0  0  0  0  0  0\\n   -4.4980    5.3213   11.1344 C   0  0  0  0  0  0  0  0  0  0  0  0\\n   -5.1565    4.5342   11.5165 H   0  0  0  0  0  0  0  0  0  0  0  0\\n   -5.0512    5.8850   10.3757 H   0  0  0  0  0  0  0  0  0  0  0  0\\n   -2.0113    1.8497    8.5548 C   0  0  0  0  0  0  0  0  0  0  0  0\\n   -2.8564    1.1864    8.4064 H   0  0  0  0  0  0  0  0  0  0  0  0\\n   -0.7625    1.5134    8.0366 C   0  0  0  0  0  0  0  0  0  0  0  0\\n   -0.6374    0.5859    7.4849 H   0  0  0  0  0  0  0  0  0  0  0  0\\n    0.3292    2.3570    8.2290 C   0  0  0  0  0  0  0  0  0  0  0  0\\n    1.2997    2.0888    7.8258 H   0  0  0  0  0  0  0  0  0  0  0  0\\n    0.6286    9.5157   16.3038 C   0  0  0  0  0  0  0  0  0  0  0  0\\n    1.5060    9.7108   16.9103 H   0  0  0  0  0  0  0  0  0  0  0  0\\n   -0.6299    9.9174   16.7496 C   0  0  0  0  0  0  0  0  0  0  0  0\\n   -0.7293   10.4272   17.7037 H   0  0  0  0  0  0  0  0  0  0  0  0\\n   -1.7623    9.6656   15.9779 C   0  0  0  0  0  0  0  0  0  0  0  0\\n   -2.7388    9.9803   16.3296 H   0  0  0  0  0  0  0  0  0  0  0  0\\n   -2.5094    5.2423   10.3909 H   0  0  0  0  0  0  0  0  0  0  0  0\\n   -0.0602    5.6306   10.3318 H   0  0  0  0  0  0  0  0  0  0  0  0\\n    0.9976    7.7414   12.8547 H   0  0  0  0  0  0  0  0  0  0  0  0\\n   -1.4365    7.7492   12.5909 H   0  0  0  0  0  0  0  0  0  0  0  0\\n  1  2  1  0  0  0  0\\n  2  3  2  0  0  0  0\\n  2  4  1  0  0  0  0\\n  4 37  1  0  0  0  0\\n  5  4  2  0  0  0  0\\n  5  6  1  0  0  0  0\\n  6 41  2  0  0  0  0\\n  7  6  1  0  0  0  0\\n  7  8  2  0  0  0  0\\n  9  7  1  0  0  0  0\\n 10 12  1  0  0  0  0\\n 10  9  1  0  0  0  0\\n 11 10  1  0  0  0  0\\n 13 15  1  0  0  0  0\\n 13 10  1  0  0  0  0\\n 14 13  1  0  0  0  0\\n 16 19  1  0  0  0  0\\n 16 13  1  0  0  0  0\\n 17 16  1  0  0  0  0\\n 18 16  1  0  0  0  0\\n 19 51  1  0  0  0  0\\n 19 20  1  0  0  0  0\\n 20 21  2  0  0  0  0\\n 20 22  1  0  0  0  0\\n 22 43  2  0  0  0  0\\n 23 24  2  0  0  0  0\\n 23 22  1  0  0  0  0\\n 24 47  1  0  0  0  0\\n 25 26  2  0  0  0  0\\n 25 24  1  0  0  0  0\\n 27 25  1  0  0  0  0\\n 28 27  1  0  0  0  0\\n 28 31  1  0  0  0  0\\n 29 28  1  0  0  0  0\\n 30 28  1  0  0  0  0\\n 31 34  1  0  0  0  0\\n 31 32  1  0  0  0  0\\n 33 31  1  0  0  0  0\\n 34 35  1  0  0  0  0\\n 34  1  1  0  0  0  0\\n 36 34  1  0  0  0  0\\n 37 38  1  0  0  0  0\\n 37 39  2  0  0  0  0\\n 39 40  1  0  0  0  0\\n 41 42  1  0  0  0  0\\n 41 39  1  0  0  0  0\\n 43 44  1  0  0  0  0\\n 43 45  1  0  0  0  0\\n 45 46  1  0  0  0  0\\n 47 48  1  0  0  0  0\\n 47 45  2  0  0  0  0\\n 49  1  1  0  0  0  0\\n 50  9  1  0  0  0  0\\n 52 27  1  0  0  0  0\\nM  END\\n57.536989335809793\\n\\n\",\"sdf\");\n",
       "\tviewer_14907065177012188.setStyle({\"stick\": {}});\n",
       "\tviewer_14907065177012188.setBackgroundColor(\"0xeeeeee\");\n",
       "\tviewer_14907065177012188.zoomTo();\n",
       "viewer_14907065177012188.render();\n",
       "});\n",
       "</script><script>$(\"#m7_b9\").append($(\"#3dmolviewer_14907065177012188\")); </script>"
      ],
      "text/plain": [
       "<IPython.core.display.HTML object>"
      ]
     },
     "execution_count": 160,
     "metadata": {},
     "output_type": "execute_result"
    }
   ],
   "source": [
    "p7_b_handles[8].insert('m7_b9')"
   ]
  },
  {
   "cell_type": "code",
   "execution_count": 161,
   "metadata": {
    "collapsed": false,
    "deletable": true,
    "editable": true
   },
   "outputs": [
    {
     "data": {
      "text/html": [
       "<div id=\"3dmolviewer_14907065194774053\"  style=\"position: relative; width: 200px; height: 200px\">\n",
       "<script>\n",
       "if(typeof $3Dmolpromise === 'undefined') $3Dmolpromise = $.when($.getScript('http://3dmol.csb.pitt.edu/build/3Dmol.js'))\n",
       "var viewer_14907065194774053 = null;\n",
       "$3Dmolpromise.done(function() {\n",
       "viewer_14907065194774053 = $3Dmol.createViewer($(\"#3dmolviewer_14907065194774053\"),{backgroundColor:\"white\"});\n",
       "\tviewer_14907065194774053.addModel(\"m7_crystal.xyz\\n  1228              3D\\n\\n 52 54  0  0  0  0  0  0  0  0999 V2000\\n   -2.7451    4.5671   11.5975 N   0  0  0  0  0  0  0  0  0  0  0  0\\n   -3.0233    3.6469   10.6017 C   0  0  0  0  0  0  0  0  0  0  0  0\\n   -4.0896    3.0595   10.4536 O   0  0  0  0  0  0  0  0  0  0  0  0\\n   -1.8921    3.3966    9.6747 C   0  0  0  0  0  0  0  0  0  0  0  0\\n   -0.8117    4.1939    9.8405 N   0  0  0  0  0  0  0  0  0  0  0  0\\n    0.2395    3.9921    9.0129 C   0  0  0  0  0  0  0  0  0  0  0  0\\n    1.4005    4.8932    9.2209 C   0  0  0  0  0  0  0  0  0  0  0  0\\n    2.4351    4.7333    8.5829 O   0  0  0  0  0  0  0  0  0  0  0  0\\n    1.1843    5.8805   10.1662 N   0  0  0  0  0  0  0  0  0  0  0  0\\n    2.1883    6.8441   10.5741 C   0  0  0  0  0  0  0  0  0  0  0  0\\n    1.6547    7.7387   10.9123 H   0  0  0  0  0  0  0  0  0  0  0  0\\n    2.7864    7.1219    9.6995 H   0  0  0  0  0  0  0  0  0  0  0  0\\n    3.1101    6.3160   11.6751 C   0  0  0  0  0  0  0  0  0  0  0  0\\n    3.7547    7.1399   12.0059 H   0  0  0  0  0  0  0  0  0  0  0  0\\n    3.7715    5.5455   11.2606 H   0  0  0  0  0  0  0  0  0  0  0  0\\n    2.3842    5.7204   12.8829 C   0  0  0  0  0  0  0  0  0  0  0  0\\n    3.1121    5.4839   13.6671 H   0  0  0  0  0  0  0  0  0  0  0  0\\n    1.8745    4.7908   12.6098 H   0  0  0  0  0  0  0  0  0  0  0  0\\n    1.3803    6.6127   13.4294 N   0  0  0  0  0  0  0  0  0  0  0  0\\n    1.6559    7.6000   14.3595 C   0  0  0  0  0  0  0  0  0  0  0  0\\n    2.7493    7.8059   14.8745 O   0  0  0  0  0  0  0  0  0  0  0  0\\n    0.4856    8.4388   14.7192 C   0  0  0  0  0  0  0  0  0  0  0  0\\n   -0.6383    8.2146   14.0003 N   0  0  0  0  0  0  0  0  0  0  0  0\\n   -1.7261    8.9595   14.3047 C   0  0  0  0  0  0  0  0  0  0  0  0\\n   -2.9351    8.6927   13.4865 C   0  0  0  0  0  0  0  0  0  0  0  0\\n   -4.0022    9.2320   13.7582 O   0  0  0  0  0  0  0  0  0  0  0  0\\n   -2.7229    7.8147   12.4379 N   0  0  0  0  0  0  0  0  0  0  0  0\\n   -3.7631    7.3685   11.5319 C   0  0  0  0  0  0  0  0  0  0  0  0\\n   -3.2735    7.0997   10.5898 H   0  0  0  0  0  0  0  0  0  0  0  0\\n   -4.4385    8.2074   11.3307 H   0  0  0  0  0  0  0  0  0  0  0  0\\n   -4.5658    6.1855   12.0781 C   0  0  0  0  0  0  0  0  0  0  0  0\\n   -5.1984    6.5246   12.9070 H   0  0  0  0  0  0  0  0  0  0  0  0\\n   -5.2422    5.8377   11.2873 H   0  0  0  0  0  0  0  0  0  0  0  0\\n   -3.7180    5.0130   12.5755 C   0  0  0  0  0  0  0  0  0  0  0  0\\n   -3.1637    5.2893   13.4787 H   0  0  0  0  0  0  0  0  0  0  0  0\\n   -4.3726    4.1722   12.8292 H   0  0  0  0  0  0  0  0  0  0  0  0\\n   -1.9709    2.4021    8.7106 C   0  0  0  0  0  0  0  0  0  0  0  0\\n   -2.8484    1.7759    8.5952 H   0  0  0  0  0  0  0  0  0  0  0  0\\n   -0.8689    2.2182    7.8788 C   0  0  0  0  0  0  0  0  0  0  0  0\\n   -0.8918    1.4468    7.1143 H   0  0  0  0  0  0  0  0  0  0  0  0\\n    0.2617    3.0197    8.0235 C   0  0  0  0  0  0  0  0  0  0  0  0\\n    1.1159    2.8746    7.3715 H   0  0  0  0  0  0  0  0  0  0  0  0\\n    0.5736    9.3822   15.7323 C   0  0  0  0  0  0  0  0  0  0  0  0\\n    1.4868    9.5464   16.2944 H   0  0  0  0  0  0  0  0  0  0  0  0\\n   -0.5663   10.1276   16.0229 C   0  0  0  0  0  0  0  0  0  0  0  0\\n   -0.5376   10.8738   16.8121 H   0  0  0  0  0  0  0  0  0  0  0  0\\n   -1.7424    9.9204   15.3059 C   0  0  0  0  0  0  0  0  0  0  0  0\\n   -2.6258   10.5062   15.5338 H   0  0  0  0  0  0  0  0  0  0  0  0\\n   -1.8371    5.0227   11.6059 H   0  0  0  0  0  0  0  0  0  0  0  0\\n    0.2997    5.8951   10.6661 H   0  0  0  0  0  0  0  0  0  0  0  0\\n    0.4454    6.5560   13.0349 H   0  0  0  0  0  0  0  0  0  0  0  0\\n   -1.8045    7.3941   12.3294 H   0  0  0  0  0  0  0  0  0  0  0  0\\n  1  2  1  0  0  0  0\\n  2  3  2  0  0  0  0\\n  2  4  1  0  0  0  0\\n  4 37  1  0  0  0  0\\n  5  4  2  0  0  0  0\\n  5  6  1  0  0  0  0\\n  6 41  2  0  0  0  0\\n  7  6  1  0  0  0  0\\n  7  8  2  0  0  0  0\\n  9  7  1  0  0  0  0\\n 10 12  1  0  0  0  0\\n 10  9  1  0  0  0  0\\n 11 10  1  0  0  0  0\\n 13 15  1  0  0  0  0\\n 13 10  1  0  0  0  0\\n 14 13  1  0  0  0  0\\n 16 19  1  0  0  0  0\\n 16 13  1  0  0  0  0\\n 17 16  1  0  0  0  0\\n 18 16  1  0  0  0  0\\n 19 51  1  0  0  0  0\\n 19 20  1  0  0  0  0\\n 20 21  2  0  0  0  0\\n 20 22  1  0  0  0  0\\n 22 43  2  0  0  0  0\\n 23 24  2  0  0  0  0\\n 23 22  1  0  0  0  0\\n 24 47  1  0  0  0  0\\n 25 26  2  0  0  0  0\\n 25 24  1  0  0  0  0\\n 27 25  1  0  0  0  0\\n 28 27  1  0  0  0  0\\n 28 31  1  0  0  0  0\\n 29 28  1  0  0  0  0\\n 30 28  1  0  0  0  0\\n 31 34  1  0  0  0  0\\n 31 32  1  0  0  0  0\\n 33 31  1  0  0  0  0\\n 34 35  1  0  0  0  0\\n 34  1  1  0  0  0  0\\n 36 34  1  0  0  0  0\\n 37 38  1  0  0  0  0\\n 37 39  2  0  0  0  0\\n 39 40  1  0  0  0  0\\n 41 42  1  0  0  0  0\\n 41 39  1  0  0  0  0\\n 43 44  1  0  0  0  0\\n 43 45  1  0  0  0  0\\n 45 46  1  0  0  0  0\\n 47 48  1  0  0  0  0\\n 47 45  2  0  0  0  0\\n 49  1  1  0  0  0  0\\n 50  9  1  0  0  0  0\\n 52 27  1  0  0  0  0\\nM  END\\n52.100670665409737\\n\\n\",\"sdf\");\n",
       "\tviewer_14907065194774053.setStyle({\"stick\": {}});\n",
       "\tviewer_14907065194774053.setBackgroundColor(\"0xeeeeee\");\n",
       "\tviewer_14907065194774053.zoomTo();\n",
       "viewer_14907065194774053.render();\n",
       "});\n",
       "</script><script>$(\"#m7_b10\").append($(\"#3dmolviewer_14907065194774053\")); </script>"
      ],
      "text/plain": [
       "<IPython.core.display.HTML object>"
      ]
     },
     "execution_count": 161,
     "metadata": {},
     "output_type": "execute_result"
    }
   ],
   "source": [
    "p7_b_handles[9].insert('m7_b10')"
   ]
  },
  {
   "cell_type": "markdown",
   "metadata": {
    "deletable": true,
    "editable": true
   },
   "source": [
    "We can now align all these structures against the crystal structure:"
   ]
  },
  {
   "cell_type": "code",
   "execution_count": 54,
   "metadata": {
    "collapsed": true
   },
   "outputs": [],
   "source": [
    "# write conformers as a list\n",
    "allmol_m7_balloon = []\n",
    "suppl_m7_balloon = Chem.SDMolSupplier('/home/gosia/work/work_on_gitlab/icho/calcs/m7/balloon/m7_crystal_out.sdf')\n",
    "\n",
    "# add crystal structure to the list:\n",
    "allmol_m7_balloon.append(m7_crystal)\n",
    "for mol in suppl_m7_balloon:\n",
    "    allmol_m7_balloon.append(mol)"
   ]
  },
  {
   "cell_type": "code",
   "execution_count": 55,
   "metadata": {
    "collapsed": true
   },
   "outputs": [],
   "source": [
    "# align:\n",
    "for mol in allmol_m7_balloon:\n",
    "    AllChem.AlignMolConformers(mol,atomIds=core_m7)"
   ]
  },
  {
   "cell_type": "code",
   "execution_count": 162,
   "metadata": {
    "collapsed": false
   },
   "outputs": [
    {
     "data": {
      "text/html": [
       "<div id=\"3dmolviewer_1490706525854922\"  style=\"position: relative; width: 400px; height: 400px\">\n",
       "<script>\n",
       "if(typeof $3Dmolpromise === 'undefined') $3Dmolpromise = $.when($.getScript('http://3dmol.csb.pitt.edu/build/3Dmol.js'))\n",
       "var viewer_1490706525854922 = null;\n",
       "$3Dmolpromise.done(function() {\n",
       "viewer_1490706525854922 = $3Dmol.createViewer($(\"#3dmolviewer_1490706525854922\"),{backgroundColor:\"white\"});\n",
       "\tviewer_1490706525854922.removeAllModels();\n",
       "\tviewer_1490706525854922.addModel(\"m7_crystal.xyz\\n     RDKit          3D\\n\\n 30 32  0  0  0  0  0  0  0  0999 V2000\\n    1.5784    8.3858   11.8551 N   0  0  0  0  0  0  0  0  0  0  0  0\\n    1.8235    7.9927   13.0974 C   0  0  0  0  0  0  0  0  0  0  0  0\\n    2.9679    7.9561   13.5631 O   0  0  0  0  0  0  0  0  0  0  0  0\\n    0.6294    7.6094   13.9104 C   0  0  0  0  0  0  0  0  0  0  0  0\\n   -0.5735    7.7338   13.3341 N   0  0  0  0  0  0  0  0  0  0  0  0\\n   -1.6537    7.4213   14.0600 C   0  0  0  0  0  0  0  0  0  0  0  0\\n   -2.9998    7.6582   13.4600 C   0  0  0  0  0  0  0  0  0  0  0  0\\n   -4.0410    7.4195   14.0725 O   0  0  0  0  0  0  0  0  0  0  0  0\\n   -3.0044    8.1791   12.2356 N   0  0  0  0  0  0  0  0  0  0  0  0\\n   -4.2055    8.6494   11.5543 C   0  0  0  0  0  0  0  0  0  0  0  0\\n   -4.9888    7.5955   10.8486 C   0  0  0  0  0  0  0  0  0  0  0  0\\n   -4.3339    7.0119    9.6145 C   0  0  0  0  0  0  0  0  0  0  0  0\\n   -3.1768    6.1720    9.8955 N   0  0  0  0  0  0  0  0  0  0  0  0\\n   -3.3052    4.9179   10.2795 C   0  0  0  0  0  0  0  0  0  0  0  0\\n   -4.3960    4.3463   10.4228 O   0  0  0  0  0  0  0  0  0  0  0  0\\n   -2.0306    4.1653   10.5332 C   0  0  0  0  0  0  0  0  0  0  0  0\\n   -0.8826    4.8196   10.3341 N   0  0  0  0  0  0  0  0  0  0  0  0\\n    0.2746    4.1618   10.5153 C   0  0  0  0  0  0  0  0  0  0  0  0\\n    1.5432    4.8865   10.1803 C   0  0  0  0  0  0  0  0  0  0  0  0\\n    2.6371    4.3172   10.2974 O   0  0  0  0  0  0  0  0  0  0  0  0\\n    1.4015    6.1286    9.7348 N   0  0  0  0  0  0  0  0  0  0  0  0\\n    2.5160    6.8952    9.2194 C   0  0  0  0  0  0  0  0  0  0  0  0\\n    3.3293    7.6181   10.2665 C   0  0  0  0  0  0  0  0  0  0  0  0\\n    2.6339    8.7714   10.9348 C   0  0  0  0  0  0  0  0  0  0  0  0\\n    0.8071    7.1826   15.2047 C   0  0  0  0  0  0  0  0  0  0  0  0\\n   -0.2920    6.8429   15.9298 C   0  0  0  0  0  0  0  0  0  0  0  0\\n   -1.5465    6.9648   15.3705 C   0  0  0  0  0  0  0  0  0  0  0  0\\n   -2.0625    2.8361   10.8990 C   0  0  0  0  0  0  0  0  0  0  0  0\\n   -0.8945    2.1602   11.0746 C   0  0  0  0  0  0  0  0  0  0  0  0\\n    0.3069    2.8291   10.8941 C   0  0  0  0  0  0  0  0  0  0  0  0\\n  1  2  1  0\\n  2  3  2  0\\n  2  4  1  0\\n  4 25  2  0\\n  5  4  1  0\\n  5  6  2  0\\n  6 27  1  0\\n  7  6  1  0\\n  7  8  2  0\\n  9  7  1  0\\n 10  9  1  0\\n 11 10  1  0\\n 12 13  1  0\\n 12 11  1  0\\n 13 14  1  0\\n 14 15  2  0\\n 14 16  1  0\\n 16 28  2  0\\n 17 18  2  0\\n 17 16  1  0\\n 18 30  1  0\\n 19 20  2  0\\n 19 18  1  0\\n 21 19  1  0\\n 22 21  1  0\\n 22 23  1  0\\n 23 24  1  0\\n 24  1  1  0\\n 25 26  1  0\\n 27 26  2  0\\n 28 29  1  0\\n 30 29  2  0\\nM  END\\n\",\"sdf\");\n",
       "\tviewer_1490706525854922.addModel(\"m7_crystal.xyz\\n     RDKit          3D\\n\\n 30 32  0  0  0  0  0  0  0  0999 V2000\\n    1.4835    8.2799   11.9016 N   0  0  0  0  0  0  0  0  0  0  0  0\\n    1.7317    7.5871   13.0748 C   0  0  0  0  0  0  0  0  0  0  0  0\\n    2.8398    7.4037   13.5675 O   0  0  0  0  0  0  0  0  0  0  0  0\\n    0.5249    7.0327   13.7321 C   0  0  0  0  0  0  0  0  0  0  0  0\\n   -0.6663    7.4524   13.2454 N   0  0  0  0  0  0  0  0  0  0  0  0\\n   -1.7766    6.9703   13.8511 C   0  0  0  0  0  0  0  0  0  0  0  0\\n   -3.0723    7.4620   13.3260 C   0  0  0  0  0  0  0  0  0  0  0  0\\n   -4.1142    7.2068   13.9211 O   0  0  0  0  0  0  0  0  0  0  0  0\\n   -2.9808    8.1868   12.1495 N   0  0  0  0  0  0  0  0  0  0  0  0\\n   -4.1416    8.6926   11.4402 C   0  0  0  0  0  0  0  0  0  0  0  0\\n   -4.9500    7.5993   10.7368 C   0  0  0  0  0  0  0  0  0  0  0  0\\n   -4.2110    6.9209    9.5810 C   0  0  0  0  0  0  0  0  0  0  0  0\\n   -3.0662    6.1402   10.0117 N   0  0  0  0  0  0  0  0  0  0  0  0\\n   -3.1866    4.9329   10.6797 C   0  0  0  0  0  0  0  0  0  0  0  0\\n   -4.2437    4.3608   10.9247 O   0  0  0  0  0  0  0  0  0  0  0  0\\n   -1.9016    4.3418   11.1214 C   0  0  0  0  0  0  0  0  0  0  0  0\\n   -0.7809    4.9228   10.6323 N   0  0  0  0  0  0  0  0  0  0  0  0\\n    0.4008    4.3764   11.0017 C   0  0  0  0  0  0  0  0  0  0  0  0\\n    1.6161    5.0084   10.4361 C   0  0  0  0  0  0  0  0  0  0  0  0\\n    2.7104    4.4720   10.5749 O   0  0  0  0  0  0  0  0  0  0  0  0\\n    1.3913    6.2090    9.7825 N   0  0  0  0  0  0  0  0  0  0  0  0\\n    2.4601    7.0173    9.2242 C   0  0  0  0  0  0  0  0  0  0  0  0\\n    3.2997    7.7360   10.2834 C   0  0  0  0  0  0  0  0  0  0  0  0\\n    2.5409    8.8132   11.0630 C   0  0  0  0  0  0  0  0  0  0  0  0\\n    0.6566    6.1412   14.7884 C   0  0  0  0  0  0  0  0  0  0  0  0\\n   -0.5069    5.6569   15.3771 C   0  0  0  0  0  0  0  0  0  0  0  0\\n   -1.7497    6.0748   14.9123 C   0  0  0  0  0  0  0  0  0  0  0  0\\n   -1.8938    3.2491   11.9777 C   0  0  0  0  0  0  0  0  0  0  0  0\\n   -0.6598    2.7217   12.3445 C   0  0  0  0  0  0  0  0  0  0  0  0\\n    0.5132    3.2826   11.8498 C   0  0  0  0  0  0  0  0  0  0  0  0\\n  1  2  1  0\\n  2  3  2  0\\n  2  4  1  0\\n  4 25  2  0\\n  5  4  1  0\\n  5  6  2  0\\n  6 27  1  0\\n  7  6  1  0\\n  7  8  2  0\\n  9  7  1  0\\n 10  9  1  0\\n 11 10  1  0\\n 12 13  1  0\\n 12 11  1  0\\n 13 14  1  0\\n 14 15  2  0\\n 14 16  1  0\\n 16 28  2  0\\n 17 18  2  0\\n 17 16  1  0\\n 18 30  1  0\\n 19 20  2  0\\n 19 18  1  0\\n 21 19  1  0\\n 22 21  1  0\\n 22 23  1  0\\n 23 24  1  0\\n 24  1  1  0\\n 25 26  1  0\\n 27 26  2  0\\n 28 29  1  0\\n 30 29  2  0\\nM  END\\n\",\"sdf\");\n",
       "\tviewer_1490706525854922.addModel(\"m7_crystal.xyz\\n     RDKit          3D\\n\\n 30 32  0  0  0  0  0  0  0  0999 V2000\\n   -3.0057    6.0729   10.1079 N   0  0  0  0  0  0  0  0  0  0  0  0\\n   -3.1434    4.7672   10.5534 C   0  0  0  0  0  0  0  0  0  0  0  0\\n   -4.2144    4.1961   10.7408 O   0  0  0  0  0  0  0  0  0  0  0  0\\n   -1.8670    4.0443   10.7746 C   0  0  0  0  0  0  0  0  0  0  0  0\\n   -0.7439    4.7134   10.4325 N   0  0  0  0  0  0  0  0  0  0  0  0\\n    0.4290    4.0451   10.5452 C   0  0  0  0  0  0  0  0  0  0  0  0\\n    1.6349    4.7869   10.1078 C   0  0  0  0  0  0  0  0  0  0  0  0\\n    2.7373    4.2486   10.1307 O   0  0  0  0  0  0  0  0  0  0  0  0\\n    1.3874    6.0826    9.6895 N   0  0  0  0  0  0  0  0  0  0  0  0\\n    2.4276    6.9724    9.2183 C   0  0  0  0  0  0  0  0  0  0  0  0\\n    3.2742    7.5590   10.3476 C   0  0  0  0  0  0  0  0  0  0  0  0\\n    2.5463    8.6189   11.1726 C   0  0  0  0  0  0  0  0  0  0  0  0\\n    1.4925    8.0898   12.0224 N   0  0  0  0  0  0  0  0  0  0  0  0\\n    1.7154    7.6809   13.3270 C   0  0  0  0  0  0  0  0  0  0  0  0\\n    2.8215    7.5863   13.8544 O   0  0  0  0  0  0  0  0  0  0  0  0\\n    0.4911    7.3908   14.1149 C   0  0  0  0  0  0  0  0  0  0  0  0\\n   -0.6910    7.5585   13.4756 N   0  0  0  0  0  0  0  0  0  0  0  0\\n   -1.8117    7.3555   14.2100 C   0  0  0  0  0  0  0  0  0  0  0  0\\n   -3.1009    7.5727   13.5131 C   0  0  0  0  0  0  0  0  0  0  0  0\\n   -4.1503    7.2093   14.0377 O   0  0  0  0  0  0  0  0  0  0  0  0\\n   -3.0029    8.2175   12.2905 N   0  0  0  0  0  0  0  0  0  0  0  0\\n   -4.1692    8.6535   11.5461 C   0  0  0  0  0  0  0  0  0  0  0  0\\n   -4.9076    7.5221   10.8325 C   0  0  0  0  0  0  0  0  0  0  0  0\\n   -4.1305    6.8874    9.6809 C   0  0  0  0  0  0  0  0  0  0  0  0\\n   -1.8658    2.7384   11.2488 C   0  0  0  0  0  0  0  0  0  0  0  0\\n   -0.6419    2.0853   11.3602 C   0  0  0  0  0  0  0  0  0  0  0  0\\n    0.5317    2.7383   11.0008 C   0  0  0  0  0  0  0  0  0  0  0  0\\n    0.6007    7.0337   15.4527 C   0  0  0  0  0  0  0  0  0  0  0  0\\n   -0.5720    6.8333   16.1727 C   0  0  0  0  0  0  0  0  0  0  0  0\\n   -1.8048    6.9910   15.5515 C   0  0  0  0  0  0  0  0  0  0  0  0\\n  1  2  1  0\\n  2  3  2  0\\n  2  4  1  0\\n  4 25  2  0\\n  5  4  1  0\\n  5  6  2  0\\n  6 27  1  0\\n  7  6  1  0\\n  7  8  2  0\\n  9  7  1  0\\n 10  9  1  0\\n 11 10  1  0\\n 12 13  1  0\\n 12 11  1  0\\n 13 14  1  0\\n 14 15  2  0\\n 14 16  1  0\\n 16 28  2  0\\n 17 18  2  0\\n 17 16  1  0\\n 18 30  1  0\\n 19 20  2  0\\n 19 18  1  0\\n 21 19  1  0\\n 22 21  1  0\\n 22 23  1  0\\n 23 24  1  0\\n 24  1  1  0\\n 25 26  1  0\\n 27 26  2  0\\n 28 29  1  0\\n 30 29  2  0\\nM  END\\n\",\"sdf\");\n",
       "\tviewer_1490706525854922.addModel(\"m7_crystal.xyz\\n     RDKit          3D\\n\\n 30 32  0  0  0  0  0  0  0  0999 V2000\\n   -2.7451    4.5671   11.5975 N   0  0  0  0  0  0  0  0  0  0  0  0\\n   -3.0233    3.6469   10.6017 C   0  0  0  0  0  0  0  0  0  0  0  0\\n   -4.0896    3.0595   10.4536 O   0  0  0  0  0  0  0  0  0  0  0  0\\n   -1.8921    3.3966    9.6747 C   0  0  0  0  0  0  0  0  0  0  0  0\\n   -0.8117    4.1939    9.8405 N   0  0  0  0  0  0  0  0  0  0  0  0\\n    0.2395    3.9921    9.0129 C   0  0  0  0  0  0  0  0  0  0  0  0\\n    1.4005    4.8932    9.2209 C   0  0  0  0  0  0  0  0  0  0  0  0\\n    2.4351    4.7333    8.5829 O   0  0  0  0  0  0  0  0  0  0  0  0\\n    1.1843    5.8805   10.1662 N   0  0  0  0  0  0  0  0  0  0  0  0\\n    2.1883    6.8441   10.5741 C   0  0  0  0  0  0  0  0  0  0  0  0\\n    3.1101    6.3160   11.6751 C   0  0  0  0  0  0  0  0  0  0  0  0\\n    2.3842    5.7204   12.8829 C   0  0  0  0  0  0  0  0  0  0  0  0\\n    1.3803    6.6127   13.4294 N   0  0  0  0  0  0  0  0  0  0  0  0\\n    1.6559    7.6000   14.3595 C   0  0  0  0  0  0  0  0  0  0  0  0\\n    2.7493    7.8059   14.8745 O   0  0  0  0  0  0  0  0  0  0  0  0\\n    0.4856    8.4388   14.7192 C   0  0  0  0  0  0  0  0  0  0  0  0\\n   -0.6383    8.2146   14.0003 N   0  0  0  0  0  0  0  0  0  0  0  0\\n   -1.7261    8.9595   14.3047 C   0  0  0  0  0  0  0  0  0  0  0  0\\n   -2.9351    8.6927   13.4865 C   0  0  0  0  0  0  0  0  0  0  0  0\\n   -4.0022    9.2320   13.7582 O   0  0  0  0  0  0  0  0  0  0  0  0\\n   -2.7229    7.8147   12.4379 N   0  0  0  0  0  0  0  0  0  0  0  0\\n   -3.7631    7.3685   11.5319 C   0  0  0  0  0  0  0  0  0  0  0  0\\n   -4.5658    6.1855   12.0781 C   0  0  0  0  0  0  0  0  0  0  0  0\\n   -3.7180    5.0130   12.5755 C   0  0  0  0  0  0  0  0  0  0  0  0\\n   -1.9709    2.4021    8.7106 C   0  0  0  0  0  0  0  0  0  0  0  0\\n   -0.8689    2.2182    7.8788 C   0  0  0  0  0  0  0  0  0  0  0  0\\n    0.2617    3.0197    8.0235 C   0  0  0  0  0  0  0  0  0  0  0  0\\n    0.5736    9.3822   15.7323 C   0  0  0  0  0  0  0  0  0  0  0  0\\n   -0.5663   10.1276   16.0229 C   0  0  0  0  0  0  0  0  0  0  0  0\\n   -1.7424    9.9204   15.3059 C   0  0  0  0  0  0  0  0  0  0  0  0\\n  1  2  1  0\\n  2  3  2  0\\n  2  4  1  0\\n  4 25  2  0\\n  5  4  1  0\\n  5  6  2  0\\n  6 27  1  0\\n  7  6  1  0\\n  7  8  2  0\\n  9  7  1  0\\n 10  9  1  0\\n 11 10  1  0\\n 12 13  1  0\\n 12 11  1  0\\n 13 14  1  0\\n 14 15  2  0\\n 14 16  1  0\\n 16 28  2  0\\n 17 18  2  0\\n 17 16  1  0\\n 18 30  1  0\\n 19 20  2  0\\n 19 18  1  0\\n 21 19  1  0\\n 22 21  1  0\\n 22 23  1  0\\n 23 24  1  0\\n 24  1  1  0\\n 25 26  1  0\\n 27 26  2  0\\n 28 29  1  0\\n 30 29  2  0\\nM  END\\n\",\"sdf\");\n",
       "\tviewer_1490706525854922.addModel(\"m7_crystal.xyz\\n     RDKit          3D\\n\\n 30 32  0  0  0  0  0  0  0  0999 V2000\\n   -2.9803    5.6283   10.4690 N   0  0  0  0  0  0  0  0  0  0  0  0\\n   -3.2053    4.3862    9.9013 C   0  0  0  0  0  0  0  0  0  0  0  0\\n   -4.3056    3.9036    9.6579 O   0  0  0  0  0  0  0  0  0  0  0  0\\n   -1.9649    3.6343    9.5839 C   0  0  0  0  0  0  0  0  0  0  0  0\\n   -0.8077    4.3106    9.7685 N   0  0  0  0  0  0  0  0  0  0  0  0\\n    0.3424    3.6662    9.4627 C   0  0  0  0  0  0  0  0  0  0  0  0\\n    1.5882    4.4509    9.6513 C   0  0  0  0  0  0  0  0  0  0  0  0\\n    2.6738    3.9819    9.3297 O   0  0  0  0  0  0  0  0  0  0  0  0\\n    1.3862    5.7051   10.2006 N   0  0  0  0  0  0  0  0  0  0  0  0\\n    2.4481    6.6563   10.4604 C   0  0  0  0  0  0  0  0  0  0  0  0\\n    3.3294    6.2886   11.6550 C   0  0  0  0  0  0  0  0  0  0  0  0\\n    2.5750    5.8889   12.9232 C   0  0  0  0  0  0  0  0  0  0  0  0\\n    1.5247    6.8153   13.2975 N   0  0  0  0  0  0  0  0  0  0  0  0\\n    1.7531    8.0390   13.9021 C   0  0  0  0  0  0  0  0  0  0  0  0\\n    2.8555    8.5144   14.1515 O   0  0  0  0  0  0  0  0  0  0  0  0\\n    0.5168    8.7773   14.2613 C   0  0  0  0  0  0  0  0  0  0  0  0\\n   -0.6424    8.1108   14.0538 N   0  0  0  0  0  0  0  0  0  0  0  0\\n   -1.7888    8.7382   14.4048 C   0  0  0  0  0  0  0  0  0  0  0  0\\n   -3.0363    7.9623   14.1925 C   0  0  0  0  0  0  0  0  0  0  0  0\\n   -4.1176    8.4095   14.5576 O   0  0  0  0  0  0  0  0  0  0  0  0\\n   -2.8409    6.7396   13.5739 N   0  0  0  0  0  0  0  0  0  0  0  0\\n   -3.9011    5.7895   13.3018 C   0  0  0  0  0  0  0  0  0  0  0  0\\n   -4.7826    6.1680   12.1113 C   0  0  0  0  0  0  0  0  0  0  0  0\\n   -4.0316    6.5548   10.8371 C   0  0  0  0  0  0  0  0  0  0  0  0\\n   -2.0242    2.3311    9.1121 C   0  0  0  0  0  0  0  0  0  0  0  0\\n   -0.8209    1.6952    8.8143 C   0  0  0  0  0  0  0  0  0  0  0  0\\n    0.3886    2.3645    8.9855 C   0  0  0  0  0  0  0  0  0  0  0  0\\n    0.5817   10.0549   14.7982 C   0  0  0  0  0  0  0  0  0  0  0  0\\n   -0.6178   10.6735   15.1428 C   0  0  0  0  0  0  0  0  0  0  0  0\\n   -1.8290   10.0130   14.9510 C   0  0  0  0  0  0  0  0  0  0  0  0\\n  1  2  1  0\\n  2  3  2  0\\n  2  4  1  0\\n  4 25  2  0\\n  5  4  1  0\\n  5  6  2  0\\n  6 27  1  0\\n  7  6  1  0\\n  7  8  2  0\\n  9  7  1  0\\n 10  9  1  0\\n 11 10  1  0\\n 12 13  1  0\\n 12 11  1  0\\n 13 14  1  0\\n 14 15  2  0\\n 14 16  1  0\\n 16 28  2  0\\n 17 18  2  0\\n 17 16  1  0\\n 18 30  1  0\\n 19 20  2  0\\n 19 18  1  0\\n 21 19  1  0\\n 22 21  1  0\\n 22 23  1  0\\n 23 24  1  0\\n 24  1  1  0\\n 25 26  1  0\\n 27 26  2  0\\n 28 29  1  0\\n 30 29  2  0\\nM  END\\n\",\"sdf\");\n",
       "\tviewer_1490706525854922.addModel(\"m7_crystal.xyz\\n     RDKit          3D\\n\\n 30 32  0  0  0  0  0  0  0  0999 V2000\\n   -2.6282    7.7319   12.6019 N   0  0  0  0  0  0  0  0  0  0  0  0\\n   -2.9120    8.4026   13.7795 C   0  0  0  0  0  0  0  0  0  0  0  0\\n   -4.0275    8.7695   14.1343 O   0  0  0  0  0  0  0  0  0  0  0  0\\n   -1.7305    8.6693   14.6360 C   0  0  0  0  0  0  0  0  0  0  0  0\\n   -0.5233    8.4263   14.0730 N   0  0  0  0  0  0  0  0  0  0  0  0\\n    0.5697    8.6850   14.8292 C   0  0  0  0  0  0  0  0  0  0  0  0\\n    1.8827    8.4226   14.1881 C   0  0  0  0  0  0  0  0  0  0  0  0\\n    2.9206    8.5455   14.8298 O   0  0  0  0  0  0  0  0  0  0  0  0\\n    1.8028    8.0510   12.8572 N   0  0  0  0  0  0  0  0  0  0  0  0\\n    2.9715    7.8622   12.0134 C   0  0  0  0  0  0  0  0  0  0  0  0\\n    2.6808    6.8751   10.8863 C   0  0  0  0  0  0  0  0  0  0  0  0\\n    2.5419    5.4373   11.3950 C   0  0  0  0  0  0  0  0  0  0  0  0\\n    1.4231    4.7622   10.7652 N   0  0  0  0  0  0  0  0  0  0  0  0\\n    1.4913    4.1621    9.5193 C   0  0  0  0  0  0  0  0  0  0  0  0\\n    2.5052    4.0439    8.8407 O   0  0  0  0  0  0  0  0  0  0  0  0\\n    0.1885    3.6512    9.0248 C   0  0  0  0  0  0  0  0  0  0  0  0\\n   -0.8761    3.9123    9.8173 N   0  0  0  0  0  0  0  0  0  0  0  0\\n   -2.0846    3.4761    9.3958 C   0  0  0  0  0  0  0  0  0  0  0  0\\n   -3.2249    3.7926   10.2912 C   0  0  0  0  0  0  0  0  0  0  0  0\\n   -4.3600    3.4264   10.0066 O   0  0  0  0  0  0  0  0  0  0  0  0\\n   -2.8717    4.5118   11.4199 N   0  0  0  0  0  0  0  0  0  0  0  0\\n   -3.8202    4.9689   12.4163 C   0  0  0  0  0  0  0  0  0  0  0  0\\n   -4.5481    6.2496   12.0059 C   0  0  0  0  0  0  0  0  0  0  0  0\\n   -3.6311    7.4069   11.6047 C   0  0  0  0  0  0  0  0  0  0  0  0\\n   -1.8953    9.1574   15.9254 C   0  0  0  0  0  0  0  0  0  0  0  0\\n   -0.7495    9.4049   16.6757 C   0  0  0  0  0  0  0  0  0  0  0  0\\n    0.5088    9.1696   16.1288 C   0  0  0  0  0  0  0  0  0  0  0  0\\n    0.1001    2.9668    7.8217 C   0  0  0  0  0  0  0  0  0  0  0  0\\n   -1.1594    2.5288    7.4191 C   0  0  0  0  0  0  0  0  0  0  0  0\\n   -2.2780    2.7818    8.2106 C   0  0  0  0  0  0  0  0  0  0  0  0\\n  1  2  1  0\\n  2  3  2  0\\n  2  4  1  0\\n  4 25  2  0\\n  5  4  1  0\\n  5  6  2  0\\n  6 27  1  0\\n  7  6  1  0\\n  7  8  2  0\\n  9  7  1  0\\n 10  9  1  0\\n 11 10  1  0\\n 12 13  1  0\\n 12 11  1  0\\n 13 14  1  0\\n 14 15  2  0\\n 14 16  1  0\\n 16 28  2  0\\n 17 18  2  0\\n 17 16  1  0\\n 18 30  1  0\\n 19 20  2  0\\n 19 18  1  0\\n 21 19  1  0\\n 22 21  1  0\\n 22 23  1  0\\n 23 24  1  0\\n 24  1  1  0\\n 25 26  1  0\\n 27 26  2  0\\n 28 29  1  0\\n 30 29  2  0\\nM  END\\n\",\"sdf\");\n",
       "\tviewer_1490706525854922.addModel(\"m7_crystal.xyz\\n     RDKit          3D\\n\\n 30 32  0  0  0  0  0  0  0  0999 V2000\\n   -2.6014    5.6371   10.5060 N   0  0  0  0  0  0  0  0  0  0  0  0\\n   -3.0029    4.6543    9.6169 C   0  0  0  0  0  0  0  0  0  0  0  0\\n   -4.1444    4.5116    9.1909 O   0  0  0  0  0  0  0  0  0  0  0  0\\n   -1.9198    3.7423    9.1716 C   0  0  0  0  0  0  0  0  0  0  0  0\\n   -0.6746    4.0278    9.6219 N   0  0  0  0  0  0  0  0  0  0  0  0\\n    0.3292    3.2211    9.2009 C   0  0  0  0  0  0  0  0  0  0  0  0\\n    1.6920    3.5610    9.6816 C   0  0  0  0  0  0  0  0  0  0  0  0\\n    2.6569    2.8902    9.3293 O   0  0  0  0  0  0  0  0  0  0  0  0\\n    1.7528    4.6630   10.5176 N   0  0  0  0  0  0  0  0  0  0  0  0\\n    3.0122    5.2063   11.0025 C   0  0  0  0  0  0  0  0  0  0  0  0\\n    2.7954    6.2240   12.1184 C   0  0  0  0  0  0  0  0  0  0  0  0\\n    2.2036    7.5381   11.6025 C   0  0  0  0  0  0  0  0  0  0  0  0\\n    1.2083    8.0537   12.5226 N   0  0  0  0  0  0  0  0  0  0  0  0\\n    1.4785    8.9505   13.5417 C   0  0  0  0  0  0  0  0  0  0  0  0\\n    2.5541    9.4990   13.7486 O   0  0  0  0  0  0  0  0  0  0  0  0\\n    0.3126    9.2155   14.4195 C   0  0  0  0  0  0  0  0  0  0  0  0\\n   -0.7496    8.4025   14.2229 N   0  0  0  0  0  0  0  0  0  0  0  0\\n   -1.8375    8.5984   14.9998 C   0  0  0  0  0  0  0  0  0  0  0  0\\n   -2.9701    7.6747   14.7452 C   0  0  0  0  0  0  0  0  0  0  0  0\\n   -4.0562    7.8574   15.2835 O   0  0  0  0  0  0  0  0  0  0  0  0\\n   -2.6646    6.6442   13.8715 N   0  0  0  0  0  0  0  0  0  0  0  0\\n   -3.6357    5.6907   13.3711 C   0  0  0  0  0  0  0  0  0  0  0  0\\n   -4.3905    6.2120   12.1474 C   0  0  0  0  0  0  0  0  0  0  0  0\\n   -3.4897    6.6742   10.9990 C   0  0  0  0  0  0  0  0  0  0  0  0\\n   -2.2064    2.6834    8.3191 C   0  0  0  0  0  0  0  0  0  0  0  0\\n   -1.1511    1.8709    7.9147 C   0  0  0  0  0  0  0  0  0  0  0  0\\n    0.1418    2.1345    8.3557 C   0  0  0  0  0  0  0  0  0  0  0  0\\n    0.3397   10.2243   15.3697 C   0  0  0  0  0  0  0  0  0  0  0  0\\n   -0.8008   10.4038   16.1504 C   0  0  0  0  0  0  0  0  0  0  0  0\\n   -1.9150    9.5853   15.9703 C   0  0  0  0  0  0  0  0  0  0  0  0\\n  1  2  1  0\\n  2  3  2  0\\n  2  4  1  0\\n  4 25  2  0\\n  5  4  1  0\\n  5  6  2  0\\n  6 27  1  0\\n  7  6  1  0\\n  7  8  2  0\\n  9  7  1  0\\n 10  9  1  0\\n 11 10  1  0\\n 12 13  1  0\\n 12 11  1  0\\n 13 14  1  0\\n 14 15  2  0\\n 14 16  1  0\\n 16 28  2  0\\n 17 18  2  0\\n 17 16  1  0\\n 18 30  1  0\\n 19 20  2  0\\n 19 18  1  0\\n 21 19  1  0\\n 22 21  1  0\\n 22 23  1  0\\n 23 24  1  0\\n 24  1  1  0\\n 25 26  1  0\\n 27 26  2  0\\n 28 29  1  0\\n 30 29  2  0\\nM  END\\n\",\"sdf\");\n",
       "\tviewer_1490706525854922.addModel(\"m7_crystal.xyz\\n     RDKit          3D\\n\\n 30 32  0  0  0  0  0  0  0  0999 V2000\\n   -2.8492    4.6130   11.4256 N   0  0  0  0  0  0  0  0  0  0  0  0\\n   -3.1418    3.5884   10.5410 C   0  0  0  0  0  0  0  0  0  0  0  0\\n   -4.2201    3.0135   10.4452 O   0  0  0  0  0  0  0  0  0  0  0  0\\n   -2.0049    3.2022    9.6702 C   0  0  0  0  0  0  0  0  0  0  0  0\\n   -0.9189    4.0033    9.7466 N   0  0  0  0  0  0  0  0  0  0  0  0\\n    0.1448    3.6831    8.9758 C   0  0  0  0  0  0  0  0  0  0  0  0\\n    1.3084    4.5965    9.0927 C   0  0  0  0  0  0  0  0  0  0  0  0\\n    2.3671    4.3328    8.5334 O   0  0  0  0  0  0  0  0  0  0  0  0\\n    1.0643    5.7163    9.8704 N   0  0  0  0  0  0  0  0  0  0  0  0\\n    2.0780    6.6941   10.2167 C   0  0  0  0  0  0  0  0  0  0  0  0\\n    2.8705    6.2563   11.4512 C   0  0  0  0  0  0  0  0  0  0  0  0\\n    3.1144    7.4010   12.4321 C   0  0  0  0  0  0  0  0  0  0  0  0\\n    1.8904    7.7672   13.1291 N   0  0  0  0  0  0  0  0  0  0  0  0\\n    1.8709    8.2327   14.4339 C   0  0  0  0  0  0  0  0  0  0  0  0\\n    2.8532    8.3450   15.1601 O   0  0  0  0  0  0  0  0  0  0  0  0\\n    0.5231    8.6038   14.9353 C   0  0  0  0  0  0  0  0  0  0  0  0\\n   -0.5010    8.4527   14.0622 N   0  0  0  0  0  0  0  0  0  0  0  0\\n   -1.7371    8.7858   14.5045 C   0  0  0  0  0  0  0  0  0  0  0  0\\n   -2.8455    8.6069   13.5353 C   0  0  0  0  0  0  0  0  0  0  0  0\\n   -3.9582    9.0619   13.7782 O   0  0  0  0  0  0  0  0  0  0  0  0\\n   -2.5033    7.8938   12.3992 N   0  0  0  0  0  0  0  0  0  0  0  0\\n   -3.4505    7.5532   11.3542 C   0  0  0  0  0  0  0  0  0  0  0  0\\n   -4.4503    6.4678   11.7652 C   0  0  0  0  0  0  0  0  0  0  0  0\\n   -3.8152    5.1996   12.3348 C   0  0  0  0  0  0  0  0  0  0  0  0\\n   -2.0799    2.0899    8.8451 C   0  0  0  0  0  0  0  0  0  0  0  0\\n   -0.9634    1.7844    8.0700 C   0  0  0  0  0  0  0  0  0  0  0  0\\n    0.1761    2.5843    8.1304 C   0  0  0  0  0  0  0  0  0  0  0  0\\n    0.3638    9.0659   16.2358 C   0  0  0  0  0  0  0  0  0  0  0  0\\n   -0.9217    9.3950   16.6555 C   0  0  0  0  0  0  0  0  0  0  0  0\\n   -1.9972    9.2611   15.7829 C   0  0  0  0  0  0  0  0  0  0  0  0\\n  1  2  1  0\\n  2  3  2  0\\n  2  4  1  0\\n  4 25  2  0\\n  5  4  1  0\\n  5  6  2  0\\n  6 27  1  0\\n  7  6  1  0\\n  7  8  2  0\\n  9  7  1  0\\n 10  9  1  0\\n 11 10  1  0\\n 12 13  1  0\\n 12 11  1  0\\n 13 14  1  0\\n 14 15  2  0\\n 14 16  1  0\\n 16 28  2  0\\n 17 18  2  0\\n 17 16  1  0\\n 18 30  1  0\\n 19 20  2  0\\n 19 18  1  0\\n 21 19  1  0\\n 22 21  1  0\\n 22 23  1  0\\n 23 24  1  0\\n 24  1  1  0\\n 25 26  1  0\\n 27 26  2  0\\n 28 29  1  0\\n 30 29  2  0\\nM  END\\n\",\"sdf\");\n",
       "\tviewer_1490706525854922.addModel(\"m7_crystal.xyz\\n     RDKit          3D\\n\\n 30 32  0  0  0  0  0  0  0  0999 V2000\\n   -3.3591    4.6935   10.4836 N   0  0  0  0  0  0  0  0  0  0  0  0\\n   -3.4120    3.4668    9.8465 C   0  0  0  0  0  0  0  0  0  0  0  0\\n   -4.4031    2.7513    9.7588 O   0  0  0  0  0  0  0  0  0  0  0  0\\n   -2.1180    3.0432    9.2532 C   0  0  0  0  0  0  0  0  0  0  0  0\\n   -1.0779    3.8841    9.4612 N   0  0  0  0  0  0  0  0  0  0  0  0\\n    0.1219    3.5244    8.9496 C   0  0  0  0  0  0  0  0  0  0  0  0\\n    1.2412    4.4630    9.2142 C   0  0  0  0  0  0  0  0  0  0  0  0\\n    2.3629    4.2308    8.7770 O   0  0  0  0  0  0  0  0  0  0  0  0\\n    0.8901    5.5633    9.9778 N   0  0  0  0  0  0  0  0  0  0  0  0\\n    1.8382    6.5641   10.4351 C   0  0  0  0  0  0  0  0  0  0  0  0\\n    2.6177    6.0820   11.6624 C   0  0  0  0  0  0  0  0  0  0  0  0\\n    3.0402    7.2273   12.5808 C   0  0  0  0  0  0  0  0  0  0  0  0\\n    1.9001    7.7435   13.3215 N   0  0  0  0  0  0  0  0  0  0  0  0\\n    2.0010    8.3901   14.5418 C   0  0  0  0  0  0  0  0  0  0  0  0\\n    3.0385    8.5751   15.1683 O   0  0  0  0  0  0  0  0  0  0  0  0\\n    0.7009    8.8636   15.0811 C   0  0  0  0  0  0  0  0  0  0  0  0\\n   -0.3793    8.6013   14.3093 N   0  0  0  0  0  0  0  0  0  0  0  0\\n   -1.5850    9.0059   14.7704 C   0  0  0  0  0  0  0  0  0  0  0  0\\n   -2.7443    8.6865   13.8999 C   0  0  0  0  0  0  0  0  0  0  0  0\\n   -3.8799    9.0052   14.2328 O   0  0  0  0  0  0  0  0  0  0  0  0\\n   -2.4068    8.0118   12.7393 N   0  0  0  0  0  0  0  0  0  0  0  0\\n   -3.3773    7.5124   11.7835 C   0  0  0  0  0  0  0  0  0  0  0  0\\n   -4.0371    6.2225   12.2781 C   0  0  0  0  0  0  0  0  0  0  0  0\\n   -4.4980    5.3213   11.1344 C   0  0  0  0  0  0  0  0  0  0  0  0\\n   -2.0113    1.8497    8.5548 C   0  0  0  0  0  0  0  0  0  0  0  0\\n   -0.7625    1.5134    8.0366 C   0  0  0  0  0  0  0  0  0  0  0  0\\n    0.3292    2.3570    8.2290 C   0  0  0  0  0  0  0  0  0  0  0  0\\n    0.6286    9.5157   16.3038 C   0  0  0  0  0  0  0  0  0  0  0  0\\n   -0.6299    9.9174   16.7496 C   0  0  0  0  0  0  0  0  0  0  0  0\\n   -1.7623    9.6656   15.9779 C   0  0  0  0  0  0  0  0  0  0  0  0\\n  1  2  1  0\\n  2  3  2  0\\n  2  4  1  0\\n  4 25  2  0\\n  5  4  1  0\\n  5  6  2  0\\n  6 27  1  0\\n  7  6  1  0\\n  7  8  2  0\\n  9  7  1  0\\n 10  9  1  0\\n 11 10  1  0\\n 12 13  1  0\\n 12 11  1  0\\n 13 14  1  0\\n 14 15  2  0\\n 14 16  1  0\\n 16 28  2  0\\n 17 18  2  0\\n 17 16  1  0\\n 18 30  1  0\\n 19 20  2  0\\n 19 18  1  0\\n 21 19  1  0\\n 22 21  1  0\\n 22 23  1  0\\n 23 24  1  0\\n 24  1  1  0\\n 25 26  1  0\\n 27 26  2  0\\n 28 29  1  0\\n 30 29  2  0\\nM  END\\n\",\"sdf\");\n",
       "\tviewer_1490706525854922.addModel(\"m7_crystal.xyz\\n     RDKit          3D\\n\\n 30 32  0  0  0  0  0  0  0  0999 V2000\\n   -2.6429    6.0457   10.0675 N   0  0  0  0  0  0  0  0  0  0  0  0\\n   -3.0449    4.8300    9.5431 C   0  0  0  0  0  0  0  0  0  0  0  0\\n   -4.1676    4.5729    9.1218 O   0  0  0  0  0  0  0  0  0  0  0  0\\n   -1.9872    3.7918    9.5392 C   0  0  0  0  0  0  0  0  0  0  0  0\\n   -0.7278    4.2308    9.7740 N   0  0  0  0  0  0  0  0  0  0  0  0\\n    0.2548    3.3013    9.7656 C   0  0  0  0  0  0  0  0  0  0  0  0\\n    1.6346    3.8110    9.9586 C   0  0  0  0  0  0  0  0  0  0  0  0\\n    2.5879    3.0454    9.8629 O   0  0  0  0  0  0  0  0  0  0  0  0\\n    1.7218    5.1711   10.2197 N   0  0  0  0  0  0  0  0  0  0  0  0\\n    2.9836    5.8903   10.1695 C   0  0  0  0  0  0  0  0  0  0  0  0\\n    3.1038    6.9522   11.2600 C   0  0  0  0  0  0  0  0  0  0  0  0\\n    2.1063    8.1040   11.1005 C   0  0  0  0  0  0  0  0  0  0  0  0\\n    1.1748    8.1741   12.2135 N   0  0  0  0  0  0  0  0  0  0  0  0\\n    1.5110    8.7620   13.4242 C   0  0  0  0  0  0  0  0  0  0  0  0\\n    2.5871    9.2972   13.6734 O   0  0  0  0  0  0  0  0  0  0  0  0\\n    0.4528    8.7083   14.4606 C   0  0  0  0  0  0  0  0  0  0  0  0\\n   -0.7231    8.1588   14.0803 N   0  0  0  0  0  0  0  0  0  0  0  0\\n   -1.7005    8.0966   15.0149 C   0  0  0  0  0  0  0  0  0  0  0  0\\n   -2.9720    7.4706   14.5807 C   0  0  0  0  0  0  0  0  0  0  0  0\\n   -3.8444    7.2159   15.4044 O   0  0  0  0  0  0  0  0  0  0  0  0\\n   -3.0486    7.2136   13.2215 N   0  0  0  0  0  0  0  0  0  0  0  0\\n   -4.1075    6.4170   12.6320 C   0  0  0  0  0  0  0  0  0  0  0  0\\n   -4.6046    6.9784   11.3010 C   0  0  0  0  0  0  0  0  0  0  0  0\\n   -3.5285    7.1823   10.2314 C   0  0  0  0  0  0  0  0  0  0  0  0\\n   -2.3112    2.4626    9.3031 C   0  0  0  0  0  0  0  0  0  0  0  0\\n   -1.2764    1.5326    9.3178 C   0  0  0  0  0  0  0  0  0  0  0  0\\n    0.0320    1.9472    9.5500 C   0  0  0  0  0  0  0  0  0  0  0  0\\n    0.6943    9.2033   15.7361 C   0  0  0  0  0  0  0  0  0  0  0  0\\n   -0.3344    9.1234   16.6702 C   0  0  0  0  0  0  0  0  0  0  0  0\\n   -1.5566    8.5614   16.3151 C   0  0  0  0  0  0  0  0  0  0  0  0\\n  1  2  1  0\\n  2  3  2  0\\n  2  4  1  0\\n  4 25  2  0\\n  5  4  1  0\\n  5  6  2  0\\n  6 27  1  0\\n  7  6  1  0\\n  7  8  2  0\\n  9  7  1  0\\n 10  9  1  0\\n 11 10  1  0\\n 12 13  1  0\\n 12 11  1  0\\n 13 14  1  0\\n 14 15  2  0\\n 14 16  1  0\\n 16 28  2  0\\n 17 18  2  0\\n 17 16  1  0\\n 18 30  1  0\\n 19 20  2  0\\n 19 18  1  0\\n 21 19  1  0\\n 22 21  1  0\\n 22 23  1  0\\n 23 24  1  0\\n 24  1  1  0\\n 25 26  1  0\\n 27 26  2  0\\n 28 29  1  0\\n 30 29  2  0\\nM  END\\n\",\"sdf\");\n",
       "\tviewer_1490706525854922.addModel(\"m7_crystal.xyz\\n     RDKit          3D\\n\\n 30 32  0  0  0  0  0  0  0  0999 V2000\\n   -3.1892    5.1003   10.8948 N   0  0  0  0  0  0  0  0  0  0  0  0\\n   -3.0883    3.7244   10.7676 C   0  0  0  0  0  0  0  0  0  0  0  0\\n   -3.9251    2.9110   11.1450 O   0  0  0  0  0  0  0  0  0  0  0  0\\n   -1.8381    3.2612   10.1215 C   0  0  0  0  0  0  0  0  0  0  0  0\\n   -0.8877    4.2060    9.9251 N   0  0  0  0  0  0  0  0  0  0  0  0\\n    0.2635    3.7966    9.3467 C   0  0  0  0  0  0  0  0  0  0  0  0\\n    1.3028    4.8330    9.1543 C   0  0  0  0  0  0  0  0  0  0  0  0\\n    2.2803    4.5956    8.4499 O   0  0  0  0  0  0  0  0  0  0  0  0\\n    1.0788    6.0229    9.8315 N   0  0  0  0  0  0  0  0  0  0  0  0\\n    2.0714    7.0845    9.8690 C   0  0  0  0  0  0  0  0  0  0  0  0\\n    3.1357    6.8231   10.9389 C   0  0  0  0  0  0  0  0  0  0  0  0\\n    3.0586    7.7630   12.1400 C   0  0  0  0  0  0  0  0  0  0  0  0\\n    1.8144    7.6552   12.8811 N   0  0  0  0  0  0  0  0  0  0  0  0\\n    1.7689    7.8276   14.2596 C   0  0  0  0  0  0  0  0  0  0  0  0\\n    2.7421    7.8327   15.0054 O   0  0  0  0  0  0  0  0  0  0  0  0\\n    0.4125    8.0542   14.8165 C   0  0  0  0  0  0  0  0  0  0  0  0\\n   -0.5816    8.2140   13.9130 N   0  0  0  0  0  0  0  0  0  0  0  0\\n   -1.8134    8.4965   14.4003 C   0  0  0  0  0  0  0  0  0  0  0  0\\n   -2.8908    8.6415   13.3920 C   0  0  0  0  0  0  0  0  0  0  0  0\\n   -3.9719    9.1277   13.7052 O   0  0  0  0  0  0  0  0  0  0  0  0\\n   -2.5585    8.1617   12.1373 N   0  0  0  0  0  0  0  0  0  0  0  0\\n   -3.4829    8.1168   11.0212 C   0  0  0  0  0  0  0  0  0  0  0  0\\n   -4.6205    7.1062   11.1933 C   0  0  0  0  0  0  0  0  0  0  0  0\\n   -4.2124    5.7264   11.7070 C   0  0  0  0  0  0  0  0  0  0  0  0\\n   -1.6892    1.9253    9.7731 C   0  0  0  0  0  0  0  0  0  0  0  0\\n   -0.4920    1.5427    9.1770 C   0  0  0  0  0  0  0  0  0  0  0  0\\n    0.5058    2.4862    8.9509 C   0  0  0  0  0  0  0  0  0  0  0  0\\n    0.2251    8.1427   16.1900 C   0  0  0  0  0  0  0  0  0  0  0  0\\n   -1.0545    8.4390   16.6532 C   0  0  0  0  0  0  0  0  0  0  0  0\\n   -2.0972    8.6338   15.7523 C   0  0  0  0  0  0  0  0  0  0  0  0\\n  1  2  1  0\\n  2  3  2  0\\n  2  4  1  0\\n  4 25  2  0\\n  5  4  1  0\\n  5  6  2  0\\n  6 27  1  0\\n  7  6  1  0\\n  7  8  2  0\\n  9  7  1  0\\n 10  9  1  0\\n 11 10  1  0\\n 12 13  1  0\\n 12 11  1  0\\n 13 14  1  0\\n 14 15  2  0\\n 14 16  1  0\\n 16 28  2  0\\n 17 18  2  0\\n 17 16  1  0\\n 18 30  1  0\\n 19 20  2  0\\n 19 18  1  0\\n 21 19  1  0\\n 22 21  1  0\\n 22 23  1  0\\n 23 24  1  0\\n 24  1  1  0\\n 25 26  1  0\\n 27 26  2  0\\n 28 29  1  0\\n 30 29  2  0\\nM  END\\n\",\"sdf\");\n",
       "\tviewer_1490706525854922.setStyle({\"stick\": {\"radius\": \"0.15\"}});\n",
       "\tviewer_1490706525854922.setBackgroundColor(\"0xeeeeee\");\n",
       "\tviewer_1490706525854922.zoomTo();\n",
       "viewer_1490706525854922.render();\n",
       "});\n",
       "</script>"
      ],
      "text/plain": [
       "<IPython.core.display.HTML object>"
      ]
     },
     "execution_count": 162,
     "metadata": {},
     "output_type": "execute_result"
    }
   ],
   "source": [
    "p = py3Dmol.view(width=400,height=400)\n",
    "p.removeAllModels()\n",
    "for mol in allmol_m7_balloon:\n",
    "    mb = Chem.MolToMolBlock(mol)\n",
    "    p.addModel(mb,'sdf')\n",
    "p.setStyle({'stick':{'radius':'0.15'}})\n",
    "p.setBackgroundColor('0xeeeeee')\n",
    "p.zoomTo()\n",
    "p.show()"
   ]
  },
  {
   "cell_type": "code",
   "execution_count": 57,
   "metadata": {
    "collapsed": false
   },
   "outputs": [
    {
     "name": "stdout",
     "output_type": "stream",
     "text": [
      "Heavy Atom RMS: 0.0\n",
      "Heavy Atom RMS: 0.5937868071467916\n",
      "Heavy Atom RMS: 0.2092299897502145\n",
      "Heavy Atom RMS: 2.0075607376161804\n",
      "Heavy Atom RMS: 1.840950977376659\n",
      "Heavy Atom RMS: 1.8774918734686699\n",
      "Heavy Atom RMS: 2.0163759964267918\n",
      "Heavy Atom RMS: 1.7994332303736011\n",
      "Heavy Atom RMS: 1.9216906406205834\n",
      "Heavy Atom RMS: 1.3635632583944308\n",
      "Heavy Atom RMS: 1.380050979571361\n"
     ]
    }
   ],
   "source": [
    "for mol in allmol_m7_balloon:\n",
    "    # note that the first structure on \"allmol_m1_rdkit\" list is the crystal structure, \n",
    "    # so the RMSD value calculated for the first structure (with respect to the crystal) will be very small\n",
    "    print(\"Heavy Atom RMS:\",AllChem.GetBestRMS(Chem.RemoveHs(mol),Chem.RemoveHs(m7_crystal)))"
   ]
  },
  {
   "cell_type": "markdown",
   "metadata": {},
   "source": [
    "### Conformers generated with the RDKit software"
   ]
  },
  {
   "cell_type": "code",
   "execution_count": 58,
   "metadata": {
    "collapsed": false
   },
   "outputs": [],
   "source": [
    "# create a list of all structures to be aligned\n",
    "inps_m7_rdkit = glob.glob('/home/gosia/work/work_on_gitlab/icho/calcs/m7/rdkit/results_crystal_from_smiles/*.sdf')\n",
    "allmol_m7_rdkit = []\n",
    "suppl_m7_rdkit = Chem.SDMolSupplier('/home/gosia/work/work_on_gitlab/icho/calcs/m7/rdkit/result_smiles.sdf')\n",
    "\n",
    "# add crystal structure to the list:\n",
    "#allmol_m7_rdkit.append(m7_crystal)\n",
    "for mol in suppl_m7_rdkit:\n",
    "    allmol_m7_rdkit.append(mol)"
   ]
  },
  {
   "cell_type": "code",
   "execution_count": 59,
   "metadata": {
    "collapsed": false
   },
   "outputs": [],
   "source": [
    "e_m7_rdkit = grep_energies_from_sdf_outputs(inps_m7_rdkit)"
   ]
  },
  {
   "cell_type": "markdown",
   "metadata": {},
   "source": [
    "View conformers:"
   ]
  },
  {
   "cell_type": "code",
   "execution_count": 163,
   "metadata": {
    "collapsed": false
   },
   "outputs": [
    {
     "data": {
      "text/html": [
       "<table>\n",
       "  <tr>\n",
       "    <td id=\"m7_r1\" ></td>\n",
       "    <td id=\"m7_r2\" ></td>\n",
       "    <td id=\"m7_r3\" ></td>   \n",
       "  </tr>\n",
       "  <tr>\n",
       "    <td> m7_r1, E = </td>\n",
       "    <td> m7_r2, E = </td>\n",
       "    <td> m7_r3, E = </td>   \n",
       "  </tr>\n",
       "  <tr>\n",
       "    <td id=\"m7_r4\" ></td>    \n",
       "    <td id=\"m7_r5\" ></td>\n",
       "    <td id=\"m7_r6\" ></td>   \n",
       "  </tr>\n",
       "  <tr>\n",
       "    <td> m7_r4, E = </td>\n",
       "    <td> m7_r5, E = </td>\n",
       "    <td> m7_r6, E = </td>   \n",
       "  </tr>\n",
       "</table>"
      ],
      "text/plain": [
       "<IPython.core.display.HTML object>"
      ]
     },
     "metadata": {},
     "output_type": "display_data"
    }
   ],
   "source": [
    "%%html\n",
    "<table>\n",
    "  <tr>\n",
    "    <td id=\"m7_r1\" ></td>\n",
    "    <td id=\"m7_r2\" ></td>\n",
    "    <td id=\"m7_r3\" ></td>   \n",
    "  </tr>\n",
    "  <tr>\n",
    "    <td> m7_r1, E = </td>\n",
    "    <td> m7_r2, E = </td>\n",
    "    <td> m7_r3, E = </td>   \n",
    "  </tr>\n",
    "  <tr>\n",
    "    <td id=\"m7_r4\" ></td>    \n",
    "    <td id=\"m7_r5\" ></td>\n",
    "    <td id=\"m7_r6\" ></td>   \n",
    "  </tr>\n",
    "  <tr>\n",
    "    <td> m7_r4, E = </td>\n",
    "    <td> m7_r5, E = </td>\n",
    "    <td> m7_r6, E = </td>   \n",
    "  </tr>\n",
    "</table>"
   ]
  },
  {
   "cell_type": "code",
   "execution_count": 164,
   "metadata": {
    "collapsed": false
   },
   "outputs": [],
   "source": [
    "p7_r_handles=[]\n",
    "for inp in inps_m1_rdkit:\n",
    "    f7_r = open(inp, 'r').read()\n",
    "    p7_r = py3Dmol.view(width=200,height=200)\n",
    "    p7_r.addModel(f7_r,'sdf')\n",
    "    p7_r.setStyle({'stick':{}})\n",
    "    p7_r.setBackgroundColor('0xeeeeee')\n",
    "    p7_r.zoomTo()\n",
    "    p7_r_handles.append(p7_r)\n"
   ]
  },
  {
   "cell_type": "code",
   "execution_count": 165,
   "metadata": {
    "collapsed": false
   },
   "outputs": [
    {
     "data": {
      "text/html": [
       "<div id=\"3dmolviewer_14907065506872547\"  style=\"position: relative; width: 200px; height: 200px\">\n",
       "<script>\n",
       "if(typeof $3Dmolpromise === 'undefined') $3Dmolpromise = $.when($.getScript('http://3dmol.csb.pitt.edu/build/3Dmol.js'))\n",
       "var viewer_14907065506872547 = null;\n",
       "$3Dmolpromise.done(function() {\n",
       "viewer_14907065506872547 = $3Dmol.createViewer($(\"#3dmolviewer_14907065506872547\"),{backgroundColor:\"white\"});\n",
       "\tviewer_14907065506872547.addModel(\"\\n     RDKit          3D\\n\\n 46 48  0  0  0  0  0  0  0  0999 V2000\\n   -2.7277   -3.6810   -1.3871 O   0  0  0  0  0  0  0  0  0  0  0  0\\n   -2.2310   -2.5422   -1.1720 C   0  0  0  0  0  0  0  0  0  0  0  0\\n   -0.8311   -2.3481   -1.4507 N   0  0  0  0  0  0  0  0  0  0  0  0\\n    0.0044   -1.2911   -0.8792 C   0  0  0  0  0  0  0  0  0  0  0  0\\n    0.0943   -1.4234    0.6483 C   0  0  0  0  0  0  0  0  0  0  0  0\\n    1.0090   -2.5000    1.0305 N   0  0  0  0  0  0  0  0  0  0  0  0\\n    2.4167   -2.5396    0.7280 C   0  0  0  0  0  0  0  0  0  0  0  0\\n    2.9970   -3.6589    0.7438 O   0  0  0  0  0  0  0  0  0  0  0  0\\n    3.2159   -1.3234    0.4244 C   0  0  0  0  0  0  0  0  0  0  0  0\\n    2.7589   -0.0887    0.7738 N   0  0  0  0  0  0  0  0  0  0  0  0\\n    3.4764    1.0490    0.5655 C   0  0  0  0  0  0  0  0  0  0  0  0\\n    2.9371    2.3455    1.0188 C   0  0  0  0  0  0  0  0  0  0  0  0\\n    3.7269    3.2817    1.3170 O   0  0  0  0  0  0  0  0  0  0  0  0\\n    1.5272    2.5497    1.1654 N   0  0  0  0  0  0  0  0  0  0  0  0\\n    0.6489    2.4791   -0.0021 C   0  0  0  0  0  0  0  0  0  0  0  0\\n   -0.8216    2.3799    0.4262 C   0  0  0  0  0  0  0  0  0  0  0  0\\n   -1.7117    2.5886   -0.7156 N   0  0  0  0  0  0  0  0  0  0  0  0\\n   -3.1031    2.2673   -0.6092 C   0  0  0  0  0  0  0  0  0  0  0  0\\n   -3.9569    3.1859   -0.7359 O   0  0  0  0  0  0  0  0  0  0  0  0\\n   -3.5482    0.8767   -0.3964 C   0  0  0  0  0  0  0  0  0  0  0  0\\n   -2.7510   -0.1527   -0.7929 N   0  0  0  0  0  0  0  0  0  0  0  0\\n   -3.1161   -1.4589   -0.6691 C   0  0  0  0  0  0  0  0  0  0  0  0\\n   -4.3700   -1.7639   -0.1140 C   0  0  0  0  0  0  0  0  0  0  0  0\\n   -5.2105   -0.7295    0.2995 C   0  0  0  0  0  0  0  0  0  0  0  0\\n   -4.8074    0.5978    0.1530 C   0  0  0  0  0  0  0  0  0  0  0  0\\n    4.7468    0.9621   -0.0209 C   0  0  0  0  0  0  0  0  0  0  0  0\\n    5.2425   -0.2863   -0.3965 C   0  0  0  0  0  0  0  0  0  0  0  0\\n    4.4827   -1.4351   -0.1724 C   0  0  0  0  0  0  0  0  0  0  0  0\\n   -0.3486   -3.0776   -2.0231 H   0  0  0  0  0  0  0  0  0  0  0  0\\n    1.0199   -1.3495   -1.3246 H   0  0  0  0  0  0  0  0  0  0  0  0\\n   -0.3821   -0.2976   -1.1687 H   0  0  0  0  0  0  0  0  0  0  0  0\\n   -0.9115   -1.6338    1.0693 H   0  0  0  0  0  0  0  0  0  0  0  0\\n    0.4097   -0.4709    1.1105 H   0  0  0  0  0  0  0  0  0  0  0  0\\n    0.5856   -3.3514    1.4647 H   0  0  0  0  0  0  0  0  0  0  0  0\\n    1.2344    3.1888    1.9391 H   0  0  0  0  0  0  0  0  0  0  0  0\\n    0.7987    3.3987   -0.6081 H   0  0  0  0  0  0  0  0  0  0  0  0\\n    0.9156    1.6045   -0.6308 H   0  0  0  0  0  0  0  0  0  0  0  0\\n   -1.0119    1.3872    0.8835 H   0  0  0  0  0  0  0  0  0  0  0  0\\n   -1.0415    3.1586    1.1883 H   0  0  0  0  0  0  0  0  0  0  0  0\\n   -1.4700    3.3691   -1.3678 H   0  0  0  0  0  0  0  0  0  0  0  0\\n   -4.6981   -2.7898   -0.0027 H   0  0  0  0  0  0  0  0  0  0  0  0\\n   -6.1787   -0.9568    0.7267 H   0  0  0  0  0  0  0  0  0  0  0  0\\n   -5.4680    1.3956    0.4690 H   0  0  0  0  0  0  0  0  0  0  0  0\\n    5.3454    1.8485   -0.1905 H   0  0  0  0  0  0  0  0  0  0  0  0\\n    6.2201   -0.3648   -0.8545 H   0  0  0  0  0  0  0  0  0  0  0  0\\n    4.8824   -2.3993   -0.4606 H   0  0  0  0  0  0  0  0  0  0  0  0\\n  1  2  2  0\\n  2  3  1  0\\n  3  4  1  0\\n  4  5  1  0\\n  5  6  1  0\\n  6  7  1  0\\n  7  8  2  0\\n  7  9  1  0\\n  9 10  1  0\\n 10 11  2  0\\n 11 12  1  0\\n 12 13  2  0\\n 12 14  1  0\\n 14 15  1  0\\n 15 16  1  0\\n 16 17  1  0\\n 17 18  1  0\\n 18 19  2  0\\n 18 20  1  0\\n 20 21  1  0\\n 21 22  2  0\\n 22 23  1  0\\n 23 24  2  0\\n 24 25  1  0\\n 11 26  1  0\\n 26 27  2  0\\n 27 28  1  0\\n 22  2  1  0\\n 28  9  2  0\\n 25 20  2  0\\n  3 29  1  0\\n  4 30  1  0\\n  4 31  1  0\\n  5 32  1  0\\n  5 33  1  0\\n  6 34  1  0\\n 14 35  1  0\\n 15 36  1  0\\n 15 37  1  0\\n 16 38  1  0\\n 16 39  1  0\\n 17 40  1  0\\n 23 41  1  0\\n 24 42  1  0\\n 25 43  1  0\\n 26 44  1  0\\n 27 45  1  0\\n 28 46  1  0\\nM  END\\n58.93\\n\\n\",\"sdf\");\n",
       "\tviewer_14907065506872547.setStyle({\"stick\": {}});\n",
       "\tviewer_14907065506872547.setBackgroundColor(\"0xeeeeee\");\n",
       "\tviewer_14907065506872547.zoomTo();\n",
       "viewer_14907065506872547.render();\n",
       "});\n",
       "</script><script>$(\"#m7_r1\").append($(\"#3dmolviewer_14907065506872547\")); </script>"
      ],
      "text/plain": [
       "<IPython.core.display.HTML object>"
      ]
     },
     "execution_count": 165,
     "metadata": {},
     "output_type": "execute_result"
    }
   ],
   "source": [
    "p7_r_handles[0].insert('m7_r1')"
   ]
  },
  {
   "cell_type": "code",
   "execution_count": 166,
   "metadata": {
    "collapsed": false
   },
   "outputs": [
    {
     "data": {
      "text/html": [
       "<div id=\"3dmolviewer_1490706553021787\"  style=\"position: relative; width: 200px; height: 200px\">\n",
       "<script>\n",
       "if(typeof $3Dmolpromise === 'undefined') $3Dmolpromise = $.when($.getScript('http://3dmol.csb.pitt.edu/build/3Dmol.js'))\n",
       "var viewer_1490706553021787 = null;\n",
       "$3Dmolpromise.done(function() {\n",
       "viewer_1490706553021787 = $3Dmol.createViewer($(\"#3dmolviewer_1490706553021787\"),{backgroundColor:\"white\"});\n",
       "\tviewer_1490706553021787.addModel(\"\\n     RDKit          3D\\n\\n 46 48  0  0  0  0  0  0  0  0999 V2000\\n    3.9390   -3.2867   -0.1587 O   0  0  0  0  0  0  0  0  0  0  0  0\\n    3.1610   -2.2968   -0.2232 C   0  0  0  0  0  0  0  0  0  0  0  0\\n    1.7496   -2.5136   -0.1207 N   0  0  0  0  0  0  0  0  0  0  0  0\\n    0.8265   -1.9568   -1.1090 C   0  0  0  0  0  0  0  0  0  0  0  0\\n   -0.5133   -1.5909   -0.4655 C   0  0  0  0  0  0  0  0  0  0  0  0\\n   -1.2498   -2.7792   -0.0275 N   0  0  0  0  0  0  0  0  0  0  0  0\\n   -2.4797   -2.7512    0.7224 C   0  0  0  0  0  0  0  0  0  0  0  0\\n   -2.8582   -3.8202    1.2742 O   0  0  0  0  0  0  0  0  0  0  0  0\\n   -3.3401   -1.5414    0.8442 C   0  0  0  0  0  0  0  0  0  0  0  0\\n   -3.0024   -0.3814    0.2176 N   0  0  0  0  0  0  0  0  0  0  0  0\\n   -3.7841    0.7314    0.2488 C   0  0  0  0  0  0  0  0  0  0  0  0\\n   -3.3623    1.9345   -0.4919 C   0  0  0  0  0  0  0  0  0  0  0  0\\n   -4.2322    2.7220   -0.9524 O   0  0  0  0  0  0  0  0  0  0  0  0\\n   -1.9756    2.2082   -0.7279 N   0  0  0  0  0  0  0  0  0  0  0  0\\n   -1.0286    2.2518    0.3858 C   0  0  0  0  0  0  0  0  0  0  0  0\\n    0.4156    2.1533   -0.1174 C   0  0  0  0  0  0  0  0  0  0  0  0\\n    1.3586    2.3957    0.9744 N   0  0  0  0  0  0  0  0  0  0  0  0\\n    2.7633    2.5022    0.7267 C   0  0  0  0  0  0  0  0  0  0  0  0\\n    3.3726    3.5371    1.1097 O   0  0  0  0  0  0  0  0  0  0  0  0\\n    3.5163    1.4009    0.0930 C   0  0  0  0  0  0  0  0  0  0  0  0\\n    3.0191    0.1322    0.1246 N   0  0  0  0  0  0  0  0  0  0  0  0\\n    3.7178   -0.9358   -0.3552 C   0  0  0  0  0  0  0  0  0  0  0  0\\n    4.9926   -0.7351   -0.9052 C   0  0  0  0  0  0  0  0  0  0  0  0\\n    5.5191    0.5546   -0.9631 C   0  0  0  0  0  0  0  0  0  0  0  0\\n    4.7877    1.6284   -0.4565 C   0  0  0  0  0  0  0  0  0  0  0  0\\n   -4.9999    0.6983    0.9443 C   0  0  0  0  0  0  0  0  0  0  0  0\\n   -5.3715   -0.4681    1.6125 C   0  0  0  0  0  0  0  0  0  0  0  0\\n   -4.5458   -1.5928    1.5662 C   0  0  0  0  0  0  0  0  0  0  0  0\\n    1.4393   -3.3606    0.4063 H   0  0  0  0  0  0  0  0  0  0  0  0\\n    0.6663   -2.6981   -1.9215 H   0  0  0  0  0  0  0  0  0  0  0  0\\n    1.2566   -1.0435   -1.5724 H   0  0  0  0  0  0  0  0  0  0  0  0\\n   -1.1092   -1.0501   -1.2304 H   0  0  0  0  0  0  0  0  0  0  0  0\\n   -0.3310   -0.9247    0.4049 H   0  0  0  0  0  0  0  0  0  0  0  0\\n   -0.8334   -3.7217   -0.2056 H   0  0  0  0  0  0  0  0  0  0  0  0\\n   -1.7521    2.7916   -1.5661 H   0  0  0  0  0  0  0  0  0  0  0  0\\n   -1.2215    1.4213    1.0975 H   0  0  0  0  0  0  0  0  0  0  0  0\\n   -1.1676    3.2132    0.9265 H   0  0  0  0  0  0  0  0  0  0  0  0\\n    0.5885    1.1477   -0.5498 H   0  0  0  0  0  0  0  0  0  0  0  0\\n    0.5847    2.9114   -0.9129 H   0  0  0  0  0  0  0  0  0  0  0  0\\n    1.0039    2.7679    1.8849 H   0  0  0  0  0  0  0  0  0  0  0  0\\n    5.5729   -1.5660   -1.2869 H   0  0  0  0  0  0  0  0  0  0  0  0\\n    6.5010    0.7202   -1.3873 H   0  0  0  0  0  0  0  0  0  0  0  0\\n    5.2131    2.6238   -0.4873 H   0  0  0  0  0  0  0  0  0  0  0  0\\n   -5.6470    1.5659    0.9788 H   0  0  0  0  0  0  0  0  0  0  0  0\\n   -6.3045   -0.5039    2.1601 H   0  0  0  0  0  0  0  0  0  0  0  0\\n   -4.8555   -2.4951    2.0784 H   0  0  0  0  0  0  0  0  0  0  0  0\\n  1  2  2  0\\n  2  3  1  0\\n  3  4  1  0\\n  4  5  1  0\\n  5  6  1  0\\n  6  7  1  0\\n  7  8  2  0\\n  7  9  1  0\\n  9 10  1  0\\n 10 11  2  0\\n 11 12  1  0\\n 12 13  2  0\\n 12 14  1  0\\n 14 15  1  0\\n 15 16  1  0\\n 16 17  1  0\\n 17 18  1  0\\n 18 19  2  0\\n 18 20  1  0\\n 20 21  1  0\\n 21 22  2  0\\n 22 23  1  0\\n 23 24  2  0\\n 24 25  1  0\\n 11 26  1  0\\n 26 27  2  0\\n 27 28  1  0\\n 22  2  1  0\\n 28  9  2  0\\n 25 20  2  0\\n  3 29  1  0\\n  4 30  1  0\\n  4 31  1  0\\n  5 32  1  0\\n  5 33  1  0\\n  6 34  1  0\\n 14 35  1  0\\n 15 36  1  0\\n 15 37  1  0\\n 16 38  1  0\\n 16 39  1  0\\n 17 40  1  0\\n 23 41  1  0\\n 24 42  1  0\\n 25 43  1  0\\n 26 44  1  0\\n 27 45  1  0\\n 28 46  1  0\\nM  END\\n58.20\\n\\n\",\"sdf\");\n",
       "\tviewer_1490706553021787.setStyle({\"stick\": {}});\n",
       "\tviewer_1490706553021787.setBackgroundColor(\"0xeeeeee\");\n",
       "\tviewer_1490706553021787.zoomTo();\n",
       "viewer_1490706553021787.render();\n",
       "});\n",
       "</script><script>$(\"#m7_r2\").append($(\"#3dmolviewer_1490706553021787\")); </script>"
      ],
      "text/plain": [
       "<IPython.core.display.HTML object>"
      ]
     },
     "execution_count": 166,
     "metadata": {},
     "output_type": "execute_result"
    }
   ],
   "source": [
    "p7_r_handles[1].insert('m7_r2')"
   ]
  },
  {
   "cell_type": "code",
   "execution_count": 167,
   "metadata": {
    "collapsed": false
   },
   "outputs": [
    {
     "data": {
      "text/html": [
       "<div id=\"3dmolviewer_1490706554454087\"  style=\"position: relative; width: 200px; height: 200px\">\n",
       "<script>\n",
       "if(typeof $3Dmolpromise === 'undefined') $3Dmolpromise = $.when($.getScript('http://3dmol.csb.pitt.edu/build/3Dmol.js'))\n",
       "var viewer_1490706554454087 = null;\n",
       "$3Dmolpromise.done(function() {\n",
       "viewer_1490706554454087 = $3Dmol.createViewer($(\"#3dmolviewer_1490706554454087\"),{backgroundColor:\"white\"});\n",
       "\tviewer_1490706554454087.addModel(\"\\n     RDKit          3D\\n\\n 46 48  0  0  0  0  0  0  0  0999 V2000\\n   -3.9852    2.3096    1.9552 O   0  0  0  0  0  0  0  0  0  0  0  0\\n   -3.1686    1.8184    1.1303 C   0  0  0  0  0  0  0  0  0  0  0  0\\n   -1.8624    2.4028    1.0140 N   0  0  0  0  0  0  0  0  0  0  0  0\\n   -1.1090    2.3992   -0.2407 C   0  0  0  0  0  0  0  0  0  0  0  0\\n    0.3740    2.7145    0.0142 C   0  0  0  0  0  0  0  0  0  0  0  0\\n    1.2307    2.1081   -1.0033 N   0  0  0  0  0  0  0  0  0  0  0  0\\n    2.6510    2.2068   -0.8956 C   0  0  0  0  0  0  0  0  0  0  0  0\\n    3.2175    3.3136   -1.1009 O   0  0  0  0  0  0  0  0  0  0  0  0\\n    3.4360    1.0204   -0.5173 C   0  0  0  0  0  0  0  0  0  0  0  0\\n    2.8159    0.0036    0.1397 N   0  0  0  0  0  0  0  0  0  0  0  0\\n    3.4654   -1.1131    0.5633 C   0  0  0  0  0  0  0  0  0  0  0  0\\n    2.7488   -2.1640    1.3407 C   0  0  0  0  0  0  0  0  0  0  0  0\\n    3.3873   -3.1941    1.6891 O   0  0  0  0  0  0  0  0  0  0  0  0\\n    1.3736   -2.0509    1.7647 N   0  0  0  0  0  0  0  0  0  0  0  0\\n    0.3630   -1.1472    1.2106 C   0  0  0  0  0  0  0  0  0  0  0  0\\n    0.0045   -1.5430   -0.2246 C   0  0  0  0  0  0  0  0  0  0  0  0\\n   -0.8854   -2.7009   -0.2120 N   0  0  0  0  0  0  0  0  0  0  0  0\\n   -2.2432   -2.6942   -0.6830 C   0  0  0  0  0  0  0  0  0  0  0  0\\n   -2.7114   -3.7665   -1.1531 O   0  0  0  0  0  0  0  0  0  0  0  0\\n   -3.1324   -1.5039   -0.5850 C   0  0  0  0  0  0  0  0  0  0  0  0\\n   -2.7748   -0.4163    0.1592 N   0  0  0  0  0  0  0  0  0  0  0  0\\n   -3.5912    0.6675    0.3074 C   0  0  0  0  0  0  0  0  0  0  0  0\\n   -4.8574    0.6655   -0.2907 C   0  0  0  0  0  0  0  0  0  0  0  0\\n   -5.2496   -0.4277   -1.0594 C   0  0  0  0  0  0  0  0  0  0  0  0\\n   -4.3910   -1.5153   -1.2118 C   0  0  0  0  0  0  0  0  0  0  0  0\\n    4.8407   -1.2343    0.2948 C   0  0  0  0  0  0  0  0  0  0  0  0\\n    5.5069   -0.2067   -0.3772 C   0  0  0  0  0  0  0  0  0  0  0  0\\n    4.8093    0.9334   -0.7783 C   0  0  0  0  0  0  0  0  0  0  0  0\\n   -1.5868    3.0983    1.7447 H   0  0  0  0  0  0  0  0  0  0  0  0\\n   -1.2127    1.4173   -0.7341 H   0  0  0  0  0  0  0  0  0  0  0  0\\n   -1.5362    3.1611   -0.9274 H   0  0  0  0  0  0  0  0  0  0  0  0\\n    0.6778    2.3246    1.0100 H   0  0  0  0  0  0  0  0  0  0  0  0\\n    0.5207    3.8162    0.0167 H   0  0  0  0  0  0  0  0  0  0  0  0\\n    0.8478    1.3857   -1.6542 H   0  0  0  0  0  0  0  0  0  0  0  0\\n    1.0461   -2.7255    2.4932 H   0  0  0  0  0  0  0  0  0  0  0  0\\n   -0.5548   -1.1993    1.8368 H   0  0  0  0  0  0  0  0  0  0  0  0\\n    0.6993   -0.0960    1.2739 H   0  0  0  0  0  0  0  0  0  0  0  0\\n   -0.4629   -0.6942   -0.7535 H   0  0  0  0  0  0  0  0  0  0  0  0\\n    0.9195   -1.7951   -0.8009 H   0  0  0  0  0  0  0  0  0  0  0  0\\n   -0.4565   -3.6259    0.0186 H   0  0  0  0  0  0  0  0  0  0  0  0\\n   -5.5279    1.5084   -0.1754 H   0  0  0  0  0  0  0  0  0  0  0  0\\n   -6.2222   -0.4345   -1.5345 H   0  0  0  0  0  0  0  0  0  0  0  0\\n   -4.7136   -2.3606   -1.8067 H   0  0  0  0  0  0  0  0  0  0  0  0\\n    5.4002   -2.1048    0.6136 H   0  0  0  0  0  0  0  0  0  0  0  0\\n    6.5670   -0.2906   -0.5789 H   0  0  0  0  0  0  0  0  0  0  0  0\\n    5.3322    1.7302   -1.2924 H   0  0  0  0  0  0  0  0  0  0  0  0\\n  1  2  2  0\\n  2  3  1  0\\n  3  4  1  0\\n  4  5  1  0\\n  5  6  1  0\\n  6  7  1  0\\n  7  8  2  0\\n  7  9  1  0\\n  9 10  1  0\\n 10 11  2  0\\n 11 12  1  0\\n 12 13  2  0\\n 12 14  1  0\\n 14 15  1  0\\n 15 16  1  0\\n 16 17  1  0\\n 17 18  1  0\\n 18 19  2  0\\n 18 20  1  0\\n 20 21  1  0\\n 21 22  2  0\\n 22 23  1  0\\n 23 24  2  0\\n 24 25  1  0\\n 11 26  1  0\\n 26 27  2  0\\n 27 28  1  0\\n 22  2  1  0\\n 28  9  2  0\\n 25 20  2  0\\n  3 29  1  0\\n  4 30  1  0\\n  4 31  1  0\\n  5 32  1  0\\n  5 33  1  0\\n  6 34  1  0\\n 14 35  1  0\\n 15 36  1  0\\n 15 37  1  0\\n 16 38  1  0\\n 16 39  1  0\\n 17 40  1  0\\n 23 41  1  0\\n 24 42  1  0\\n 25 43  1  0\\n 26 44  1  0\\n 27 45  1  0\\n 28 46  1  0\\nM  END\\n61.58\\n\\n\",\"sdf\");\n",
       "\tviewer_1490706554454087.setStyle({\"stick\": {}});\n",
       "\tviewer_1490706554454087.setBackgroundColor(\"0xeeeeee\");\n",
       "\tviewer_1490706554454087.zoomTo();\n",
       "viewer_1490706554454087.render();\n",
       "});\n",
       "</script><script>$(\"#m7_r3\").append($(\"#3dmolviewer_1490706554454087\")); </script>"
      ],
      "text/plain": [
       "<IPython.core.display.HTML object>"
      ]
     },
     "execution_count": 167,
     "metadata": {},
     "output_type": "execute_result"
    }
   ],
   "source": [
    "p7_r_handles[2].insert('m7_r3')"
   ]
  },
  {
   "cell_type": "code",
   "execution_count": 168,
   "metadata": {
    "collapsed": false
   },
   "outputs": [
    {
     "data": {
      "text/html": [
       "<div id=\"3dmolviewer_14907065556696048\"  style=\"position: relative; width: 200px; height: 200px\">\n",
       "<script>\n",
       "if(typeof $3Dmolpromise === 'undefined') $3Dmolpromise = $.when($.getScript('http://3dmol.csb.pitt.edu/build/3Dmol.js'))\n",
       "var viewer_14907065556696048 = null;\n",
       "$3Dmolpromise.done(function() {\n",
       "viewer_14907065556696048 = $3Dmol.createViewer($(\"#3dmolviewer_14907065556696048\"),{backgroundColor:\"white\"});\n",
       "\tviewer_14907065556696048.addModel(\"\\n     RDKit          3D\\n\\n 46 48  0  0  0  0  0  0  0  0999 V2000\\n    4.3736   -2.9680    1.0277 O   0  0  0  0  0  0  0  0  0  0  0  0\\n    3.3737   -2.4012    0.5099 C   0  0  0  0  0  0  0  0  0  0  0  0\\n    2.3548   -3.2109   -0.0952 N   0  0  0  0  0  0  0  0  0  0  0  0\\n    0.9337   -2.9474    0.1254 C   0  0  0  0  0  0  0  0  0  0  0  0\\n    0.0888   -3.5485   -1.0036 C   0  0  0  0  0  0  0  0  0  0  0  0\\n   -1.2906   -3.0759   -0.8996 N   0  0  0  0  0  0  0  0  0  0  0  0\\n   -1.6142   -1.7053   -1.1733 C   0  0  0  0  0  0  0  0  0  0  0  0\\n   -0.9042   -1.0471   -1.9818 O   0  0  0  0  0  0  0  0  0  0  0  0\\n   -2.6708   -1.0049   -0.4272 C   0  0  0  0  0  0  0  0  0  0  0  0\\n   -2.4669    0.2986   -0.1082 N   0  0  0  0  0  0  0  0  0  0  0  0\\n   -3.3387    1.0347    0.6274 C   0  0  0  0  0  0  0  0  0  0  0  0\\n   -3.0099    2.4403    0.9953 C   0  0  0  0  0  0  0  0  0  0  0  0\\n   -3.8525    3.1053    1.6570 O   0  0  0  0  0  0  0  0  0  0  0  0\\n   -1.7583    3.0755    0.6580 N   0  0  0  0  0  0  0  0  0  0  0  0\\n   -0.7577    2.5141   -0.2545 C   0  0  0  0  0  0  0  0  0  0  0  0\\n    0.4135    3.4766   -0.4725 C   0  0  0  0  0  0  0  0  0  0  0  0\\n    1.2508    3.0267   -1.5883 N   0  0  0  0  0  0  0  0  0  0  0  0\\n    1.8246    1.7120   -1.6710 C   0  0  0  0  0  0  0  0  0  0  0  0\\n    1.7344    1.0778   -2.7560 O   0  0  0  0  0  0  0  0  0  0  0  0\\n    2.5339    1.0847   -0.5380 C   0  0  0  0  0  0  0  0  0  0  0  0\\n    2.6117   -0.2750   -0.4732 N   0  0  0  0  0  0  0  0  0  0  0  0\\n    3.2971   -0.9233    0.5104 C   0  0  0  0  0  0  0  0  0  0  0  0\\n    3.9713   -0.1729    1.4852 C   0  0  0  0  0  0  0  0  0  0  0  0\\n    3.9211    1.2204    1.4351 C   0  0  0  0  0  0  0  0  0  0  0  0\\n    3.2095    1.8570    0.4180 C   0  0  0  0  0  0  0  0  0  0  0  0\\n   -4.5280    0.4272    1.0657 C   0  0  0  0  0  0  0  0  0  0  0  0\\n   -4.7752   -0.9118    0.7472 C   0  0  0  0  0  0  0  0  0  0  0  0\\n   -3.8421   -1.6404    0.0051 C   0  0  0  0  0  0  0  0  0  0  0  0\\n    2.6202   -4.1899   -0.3488 H   0  0  0  0  0  0  0  0  0  0  0  0\\n    0.6264   -3.3997    1.0928 H   0  0  0  0  0  0  0  0  0  0  0  0\\n    0.7471   -1.8568    0.1912 H   0  0  0  0  0  0  0  0  0  0  0  0\\n    0.5086   -3.2685   -1.9944 H   0  0  0  0  0  0  0  0  0  0  0  0\\n    0.1070   -4.6571   -0.9238 H   0  0  0  0  0  0  0  0  0  0  0  0\\n   -1.9869   -3.6965   -0.4307 H   0  0  0  0  0  0  0  0  0  0  0  0\\n   -1.5894    4.0262    1.0599 H   0  0  0  0  0  0  0  0  0  0  0  0\\n   -1.2369    2.3056   -1.2360 H   0  0  0  0  0  0  0  0  0  0  0  0\\n   -0.3514    1.5744    0.1766 H   0  0  0  0  0  0  0  0  0  0  0  0\\n    1.0112    3.5611    0.4573 H   0  0  0  0  0  0  0  0  0  0  0  0\\n    0.0163    4.4876   -0.7108 H   0  0  0  0  0  0  0  0  0  0  0  0\\n    1.2253    3.5961   -2.4643 H   0  0  0  0  0  0  0  0  0  0  0  0\\n    4.5325   -0.6586    2.2738 H   0  0  0  0  0  0  0  0  0  0  0  0\\n    4.4492    1.8076    2.1751 H   0  0  0  0  0  0  0  0  0  0  0  0\\n    3.2237    2.9371    0.3585 H   0  0  0  0  0  0  0  0  0  0  0  0\\n   -5.2528    0.9742    1.6554 H   0  0  0  0  0  0  0  0  0  0  0  0\\n   -5.6880   -1.3870    1.0825 H   0  0  0  0  0  0  0  0  0  0  0  0\\n   -4.0451   -2.6745   -0.2393 H   0  0  0  0  0  0  0  0  0  0  0  0\\n  1  2  2  0\\n  2  3  1  0\\n  3  4  1  0\\n  4  5  1  0\\n  5  6  1  0\\n  6  7  1  0\\n  7  8  2  0\\n  7  9  1  0\\n  9 10  1  0\\n 10 11  2  0\\n 11 12  1  0\\n 12 13  2  0\\n 12 14  1  0\\n 14 15  1  0\\n 15 16  1  0\\n 16 17  1  0\\n 17 18  1  0\\n 18 19  2  0\\n 18 20  1  0\\n 20 21  1  0\\n 21 22  2  0\\n 22 23  1  0\\n 23 24  2  0\\n 24 25  1  0\\n 11 26  1  0\\n 26 27  2  0\\n 27 28  1  0\\n 22  2  1  0\\n 28  9  2  0\\n 25 20  2  0\\n  3 29  1  0\\n  4 30  1  0\\n  4 31  1  0\\n  5 32  1  0\\n  5 33  1  0\\n  6 34  1  0\\n 14 35  1  0\\n 15 36  1  0\\n 15 37  1  0\\n 16 38  1  0\\n 16 39  1  0\\n 17 40  1  0\\n 23 41  1  0\\n 24 42  1  0\\n 25 43  1  0\\n 26 44  1  0\\n 27 45  1  0\\n 28 46  1  0\\nM  END\\n57.42\\n\\n\",\"sdf\");\n",
       "\tviewer_14907065556696048.setStyle({\"stick\": {}});\n",
       "\tviewer_14907065556696048.setBackgroundColor(\"0xeeeeee\");\n",
       "\tviewer_14907065556696048.zoomTo();\n",
       "viewer_14907065556696048.render();\n",
       "});\n",
       "</script><script>$(\"#m7_r4\").append($(\"#3dmolviewer_14907065556696048\")); </script>"
      ],
      "text/plain": [
       "<IPython.core.display.HTML object>"
      ]
     },
     "execution_count": 168,
     "metadata": {},
     "output_type": "execute_result"
    }
   ],
   "source": [
    "p7_r_handles[3].insert('m7_r4')"
   ]
  },
  {
   "cell_type": "code",
   "execution_count": 169,
   "metadata": {
    "collapsed": false
   },
   "outputs": [
    {
     "data": {
      "text/html": [
       "<div id=\"3dmolviewer_149070655791394\"  style=\"position: relative; width: 200px; height: 200px\">\n",
       "<script>\n",
       "if(typeof $3Dmolpromise === 'undefined') $3Dmolpromise = $.when($.getScript('http://3dmol.csb.pitt.edu/build/3Dmol.js'))\n",
       "var viewer_149070655791394 = null;\n",
       "$3Dmolpromise.done(function() {\n",
       "viewer_149070655791394 = $3Dmol.createViewer($(\"#3dmolviewer_149070655791394\"),{backgroundColor:\"white\"});\n",
       "\tviewer_149070655791394.addModel(\"\\n     RDKit          3D\\n\\n 46 48  0  0  0  0  0  0  0  0999 V2000\\n   -3.1061    3.5543   -1.5472 O   0  0  0  0  0  0  0  0  0  0  0  0\\n   -2.5752    2.5073   -1.0879 C   0  0  0  0  0  0  0  0  0  0  0  0\\n   -1.1492    2.4092   -1.0625 N   0  0  0  0  0  0  0  0  0  0  0  0\\n   -0.4358    2.1460    0.1869 C   0  0  0  0  0  0  0  0  0  0  0  0\\n    1.0756    2.2832   -0.0192 C   0  0  0  0  0  0  0  0  0  0  0  0\\n    1.7886    2.1915    1.2544 N   0  0  0  0  0  0  0  0  0  0  0  0\\n    3.1928    1.9068    1.2822 C   0  0  0  0  0  0  0  0  0  0  0  0\\n    3.9597    2.6511    1.9506 O   0  0  0  0  0  0  0  0  0  0  0  0\\n    3.7442    0.7414    0.5679 C   0  0  0  0  0  0  0  0  0  0  0  0\\n    2.9698   -0.3636    0.3951 N   0  0  0  0  0  0  0  0  0  0  0  0\\n    3.4137   -1.4876   -0.2298 C   0  0  0  0  0  0  0  0  0  0  0  0\\n    2.5469   -2.6938   -0.3287 C   0  0  0  0  0  0  0  0  0  0  0  0\\n    3.0097   -3.7283   -0.8820 O   0  0  0  0  0  0  0  0  0  0  0  0\\n    1.2179   -2.7610    0.2224 N   0  0  0  0  0  0  0  0  0  0  0  0\\n    0.3823   -1.5964    0.5289 C   0  0  0  0  0  0  0  0  0  0  0  0\\n   -1.0365   -2.0095    0.9311 C   0  0  0  0  0  0  0  0  0  0  0  0\\n   -1.7563   -2.5905   -0.2022 N   0  0  0  0  0  0  0  0  0  0  0  0\\n   -3.1452   -2.3285   -0.4380 C   0  0  0  0  0  0  0  0  0  0  0  0\\n   -3.8978   -3.2854   -0.7653 O   0  0  0  0  0  0  0  0  0  0  0  0\\n   -3.7070   -0.9660   -0.3427 C   0  0  0  0  0  0  0  0  0  0  0  0\\n   -2.9314    0.1153   -0.6408 N   0  0  0  0  0  0  0  0  0  0  0  0\\n   -3.4278    1.3855   -0.6468 C   0  0  0  0  0  0  0  0  0  0  0  0\\n   -4.7780    1.5995   -0.3291 C   0  0  0  0  0  0  0  0  0  0  0  0\\n   -5.5893    0.5116   -0.0107 C   0  0  0  0  0  0  0  0  0  0  0  0\\n   -5.0610   -0.7782   -0.0276 C   0  0  0  0  0  0  0  0  0  0  0  0\\n    4.7279   -1.5090   -0.7298 C   0  0  0  0  0  0  0  0  0  0  0  0\\n    5.5488   -0.3923   -0.5615 C   0  0  0  0  0  0  0  0  0  0  0  0\\n    5.0642    0.7367    0.0989 C   0  0  0  0  0  0  0  0  0  0  0  0\\n   -0.6276    2.8054   -1.8776 H   0  0  0  0  0  0  0  0  0  0  0  0\\n   -0.6695    1.1239    0.5460 H   0  0  0  0  0  0  0  0  0  0  0  0\\n   -0.7739    2.8743    0.9560 H   0  0  0  0  0  0  0  0  0  0  0  0\\n    1.2994    3.2712   -0.4769 H   0  0  0  0  0  0  0  0  0  0  0  0\\n    1.4165    1.4909   -0.7190 H   0  0  0  0  0  0  0  0  0  0  0  0\\n    1.4078    2.7462    2.0545 H   0  0  0  0  0  0  0  0  0  0  0  0\\n    0.8024   -3.7158    0.3175 H   0  0  0  0  0  0  0  0  0  0  0  0\\n    0.8181   -1.0468    1.3890 H   0  0  0  0  0  0  0  0  0  0  0  0\\n    0.3362   -0.9263   -0.3565 H   0  0  0  0  0  0  0  0  0  0  0  0\\n   -0.9864   -2.7566    1.7524 H   0  0  0  0  0  0  0  0  0  0  0  0\\n   -1.5734   -1.1218    1.3271 H   0  0  0  0  0  0  0  0  0  0  0  0\\n   -1.3527   -3.4469   -0.6443 H   0  0  0  0  0  0  0  0  0  0  0  0\\n   -5.2021    2.5960   -0.3345 H   0  0  0  0  0  0  0  0  0  0  0  0\\n   -6.6323    0.6667    0.2336 H   0  0  0  0  0  0  0  0  0  0  0  0\\n   -5.7016   -1.6202    0.2040 H   0  0  0  0  0  0  0  0  0  0  0  0\\n    5.1236   -2.3831   -1.2314 H   0  0  0  0  0  0  0  0  0  0  0  0\\n    6.5640   -0.4054   -0.9366 H   0  0  0  0  0  0  0  0  0  0  0  0\\n    5.7061    1.5990    0.2301 H   0  0  0  0  0  0  0  0  0  0  0  0\\n  1  2  2  0\\n  2  3  1  0\\n  3  4  1  0\\n  4  5  1  0\\n  5  6  1  0\\n  6  7  1  0\\n  7  8  2  0\\n  7  9  1  0\\n  9 10  1  0\\n 10 11  2  0\\n 11 12  1  0\\n 12 13  2  0\\n 12 14  1  0\\n 14 15  1  0\\n 15 16  1  0\\n 16 17  1  0\\n 17 18  1  0\\n 18 19  2  0\\n 18 20  1  0\\n 20 21  1  0\\n 21 22  2  0\\n 22 23  1  0\\n 23 24  2  0\\n 24 25  1  0\\n 11 26  1  0\\n 26 27  2  0\\n 27 28  1  0\\n 22  2  1  0\\n 28  9  2  0\\n 25 20  2  0\\n  3 29  1  0\\n  4 30  1  0\\n  4 31  1  0\\n  5 32  1  0\\n  5 33  1  0\\n  6 34  1  0\\n 14 35  1  0\\n 15 36  1  0\\n 15 37  1  0\\n 16 38  1  0\\n 16 39  1  0\\n 17 40  1  0\\n 23 41  1  0\\n 24 42  1  0\\n 25 43  1  0\\n 26 44  1  0\\n 27 45  1  0\\n 28 46  1  0\\nM  END\\n58.07\\n\\n\",\"sdf\");\n",
       "\tviewer_149070655791394.setStyle({\"stick\": {}});\n",
       "\tviewer_149070655791394.setBackgroundColor(\"0xeeeeee\");\n",
       "\tviewer_149070655791394.zoomTo();\n",
       "viewer_149070655791394.render();\n",
       "});\n",
       "</script><script>$(\"#m7_r5\").append($(\"#3dmolviewer_149070655791394\")); </script>"
      ],
      "text/plain": [
       "<IPython.core.display.HTML object>"
      ]
     },
     "execution_count": 169,
     "metadata": {},
     "output_type": "execute_result"
    }
   ],
   "source": [
    "p7_r_handles[4].insert('m7_r5')"
   ]
  },
  {
   "cell_type": "code",
   "execution_count": 170,
   "metadata": {
    "collapsed": false
   },
   "outputs": [
    {
     "data": {
      "text/html": [
       "<div id=\"3dmolviewer_14907065591431677\"  style=\"position: relative; width: 200px; height: 200px\">\n",
       "<script>\n",
       "if(typeof $3Dmolpromise === 'undefined') $3Dmolpromise = $.when($.getScript('http://3dmol.csb.pitt.edu/build/3Dmol.js'))\n",
       "var viewer_14907065591431677 = null;\n",
       "$3Dmolpromise.done(function() {\n",
       "viewer_14907065591431677 = $3Dmol.createViewer($(\"#3dmolviewer_14907065591431677\"),{backgroundColor:\"white\"});\n",
       "\tviewer_14907065591431677.addModel(\"\\n     RDKit          3D\\n\\n 46 48  0  0  0  0  0  0  0  0999 V2000\\n    3.4062   -2.7734   -1.2735 O   0  0  0  0  0  0  0  0  0  0  0  0\\n    2.7526   -1.9226   -0.6121 C   0  0  0  0  0  0  0  0  0  0  0  0\\n    1.3808   -2.1847   -0.2939 N   0  0  0  0  0  0  0  0  0  0  0  0\\n    0.9465   -2.2362    1.1034 C   0  0  0  0  0  0  0  0  0  0  0  0\\n   -0.5507   -1.9371    1.2441 C   0  0  0  0  0  0  0  0  0  0  0  0\\n   -1.3698   -2.8681    0.4671 N   0  0  0  0  0  0  0  0  0  0  0  0\\n   -2.7855   -2.6846    0.3284 C   0  0  0  0  0  0  0  0  0  0  0  0\\n   -3.5359   -3.6973    0.3304 O   0  0  0  0  0  0  0  0  0  0  0  0\\n   -3.3851   -1.3434    0.1714 C   0  0  0  0  0  0  0  0  0  0  0  0\\n   -2.7614   -0.3973   -0.5875 N   0  0  0  0  0  0  0  0  0  0  0  0\\n   -3.2867    0.8448   -0.7891 C   0  0  0  0  0  0  0  0  0  0  0  0\\n   -2.6131    1.8238   -1.6837 C   0  0  0  0  0  0  0  0  0  0  0  0\\n   -3.2907    2.7761   -2.1572 O   0  0  0  0  0  0  0  0  0  0  0  0\\n   -1.2288    1.7243   -2.0656 N   0  0  0  0  0  0  0  0  0  0  0  0\\n   -0.1842    1.0526   -1.2930 C   0  0  0  0  0  0  0  0  0  0  0  0\\n    0.0293    1.7341    0.0678 C   0  0  0  0  0  0  0  0  0  0  0  0\\n    0.9141    2.8884   -0.0764 N   0  0  0  0  0  0  0  0  0  0  0  0\\n    2.3143    2.8996    0.2631 C   0  0  0  0  0  0  0  0  0  0  0  0\\n    2.8465    4.0082    0.5419 O   0  0  0  0  0  0  0  0  0  0  0  0\\n    3.1693    1.6789    0.2381 C   0  0  0  0  0  0  0  0  0  0  0  0\\n    2.6467    0.4709   -0.1110 N   0  0  0  0  0  0  0  0  0  0  0  0\\n    3.3952   -0.6608   -0.2037 C   0  0  0  0  0  0  0  0  0  0  0  0\\n    4.7712   -0.5977    0.0506 C   0  0  0  0  0  0  0  0  0  0  0  0\\n    5.3401    0.6201    0.4240 C   0  0  0  0  0  0  0  0  0  0  0  0\\n    4.5440    1.7632    0.5208 C   0  0  0  0  0  0  0  0  0  0  0  0\\n   -4.5224    1.1640   -0.2008 C   0  0  0  0  0  0  0  0  0  0  0  0\\n   -5.1864    0.2114    0.5718 C   0  0  0  0  0  0  0  0  0  0  0  0\\n   -4.6256   -1.0515    0.7534 C   0  0  0  0  0  0  0  0  0  0  0  0\\n    0.8465   -2.7585   -0.9844 H   0  0  0  0  0  0  0  0  0  0  0  0\\n    1.1630   -3.2458    1.5146 H   0  0  0  0  0  0  0  0  0  0  0  0\\n    1.5106   -1.4930    1.7079 H   0  0  0  0  0  0  0  0  0  0  0  0\\n   -0.8341   -2.0165    2.3155 H   0  0  0  0  0  0  0  0  0  0  0  0\\n   -0.7468   -0.8999    0.9285 H   0  0  0  0  0  0  0  0  0  0  0  0\\n   -0.9919   -3.8257    0.2836 H   0  0  0  0  0  0  0  0  0  0  0  0\\n   -0.9214    2.2728   -2.9007 H   0  0  0  0  0  0  0  0  0  0  0  0\\n   -0.4229   -0.0195   -1.1754 H   0  0  0  0  0  0  0  0  0  0  0  0\\n    0.7638    1.0818   -1.8726 H   0  0  0  0  0  0  0  0  0  0  0  0\\n    0.4488    1.0244    0.8067 H   0  0  0  0  0  0  0  0  0  0  0  0\\n   -0.9406    2.0661    0.4954 H   0  0  0  0  0  0  0  0  0  0  0  0\\n    0.4604    3.8065   -0.2858 H   0  0  0  0  0  0  0  0  0  0  0  0\\n    5.3935   -1.4807   -0.0255 H   0  0  0  0  0  0  0  0  0  0  0  0\\n    6.4006    0.6802    0.6322 H   0  0  0  0  0  0  0  0  0  0  0  0\\n    5.0031    2.7035    0.7991 H   0  0  0  0  0  0  0  0  0  0  0  0\\n   -4.9748    2.1377   -0.3421 H   0  0  0  0  0  0  0  0  0  0  0  0\\n   -6.1405    0.4500    1.0237 H   0  0  0  0  0  0  0  0  0  0  0  0\\n   -5.1478   -1.7891    1.3503 H   0  0  0  0  0  0  0  0  0  0  0  0\\n  1  2  2  0\\n  2  3  1  0\\n  3  4  1  0\\n  4  5  1  0\\n  5  6  1  0\\n  6  7  1  0\\n  7  8  2  0\\n  7  9  1  0\\n  9 10  1  0\\n 10 11  2  0\\n 11 12  1  0\\n 12 13  2  0\\n 12 14  1  0\\n 14 15  1  0\\n 15 16  1  0\\n 16 17  1  0\\n 17 18  1  0\\n 18 19  2  0\\n 18 20  1  0\\n 20 21  1  0\\n 21 22  2  0\\n 22 23  1  0\\n 23 24  2  0\\n 24 25  1  0\\n 11 26  1  0\\n 26 27  2  0\\n 27 28  1  0\\n 22  2  1  0\\n 28  9  2  0\\n 25 20  2  0\\n  3 29  1  0\\n  4 30  1  0\\n  4 31  1  0\\n  5 32  1  0\\n  5 33  1  0\\n  6 34  1  0\\n 14 35  1  0\\n 15 36  1  0\\n 15 37  1  0\\n 16 38  1  0\\n 16 39  1  0\\n 17 40  1  0\\n 23 41  1  0\\n 24 42  1  0\\n 25 43  1  0\\n 26 44  1  0\\n 27 45  1  0\\n 28 46  1  0\\nM  END\\n59.80\\n\\n\",\"sdf\");\n",
       "\tviewer_14907065591431677.setStyle({\"stick\": {}});\n",
       "\tviewer_14907065591431677.setBackgroundColor(\"0xeeeeee\");\n",
       "\tviewer_14907065591431677.zoomTo();\n",
       "viewer_14907065591431677.render();\n",
       "});\n",
       "</script><script>$(\"#m7_r6\").append($(\"#3dmolviewer_14907065591431677\")); </script>"
      ],
      "text/plain": [
       "<IPython.core.display.HTML object>"
      ]
     },
     "execution_count": 170,
     "metadata": {},
     "output_type": "execute_result"
    }
   ],
   "source": [
    "p7_r_handles[5].insert('m7_r6')"
   ]
  },
  {
   "cell_type": "markdown",
   "metadata": {},
   "source": [
    "We can now align all these structures:"
   ]
  },
  {
   "cell_type": "code",
   "execution_count": 68,
   "metadata": {
    "collapsed": true
   },
   "outputs": [],
   "source": [
    "# align:\n",
    "for mol in allmol_m7_rdkit:\n",
    "    AllChem.AlignMolConformers(mol,atomIds=core_m7)"
   ]
  },
  {
   "cell_type": "code",
   "execution_count": 171,
   "metadata": {
    "collapsed": false
   },
   "outputs": [
    {
     "data": {
      "text/html": [
       "<div id=\"3dmolviewer_149070656208102\"  style=\"position: relative; width: 400px; height: 400px\">\n",
       "<script>\n",
       "if(typeof $3Dmolpromise === 'undefined') $3Dmolpromise = $.when($.getScript('http://3dmol.csb.pitt.edu/build/3Dmol.js'))\n",
       "var viewer_149070656208102 = null;\n",
       "$3Dmolpromise.done(function() {\n",
       "viewer_149070656208102 = $3Dmol.createViewer($(\"#3dmolviewer_149070656208102\"),{backgroundColor:\"white\"});\n",
       "\tviewer_149070656208102.removeAllModels();\n",
       "\tviewer_149070656208102.addModel(\"\\n     RDKit          3D\\n\\n 30 32  0  0  0  0  0  0  0  0999 V2000\\n   -1.7772    2.7135   -1.1396 N   0  0  0  0  0  0  0  0  0  0  0  0\\n   -3.1644    2.3676   -1.2404 C   0  0  0  0  0  0  0  0  0  0  0  0\\n   -3.8746    2.9379   -2.1116 O   0  0  0  0  0  0  0  0  0  0  0  0\\n   -3.7655    1.3359   -0.3761 C   0  0  0  0  0  0  0  0  0  0  0  0\\n   -3.0007    0.3069    0.0794 N   0  0  0  0  0  0  0  0  0  0  0  0\\n   -3.5027   -0.6901    0.8583 C   0  0  0  0  0  0  0  0  0  0  0  0\\n   -2.6120   -1.7598    1.3575 C   0  0  0  0  0  0  0  0  0  0  0  0\\n   -2.8819   -2.3214    2.4535 O   0  0  0  0  0  0  0  0  0  0  0  0\\n   -1.4339   -2.1674    0.6455 N   0  0  0  0  0  0  0  0  0  0  0  0\\n   -1.3439   -2.1353   -0.8180 C   0  0  0  0  0  0  0  0  0  0  0  0\\n   -0.1011   -2.8829   -1.3243 C   0  0  0  0  0  0  0  0  0  0  0  0\\n    1.1948   -2.1250   -1.0036 C   0  0  0  0  0  0  0  0  0  0  0  0\\n    2.3675   -2.8786   -1.4438 N   0  0  0  0  0  0  0  0  0  0  0  0\\n    3.7042   -2.6034   -0.9912 C   0  0  0  0  0  0  0  0  0  0  0  0\\n    4.5988   -3.4640   -1.2123 O   0  0  0  0  0  0  0  0  0  0  0  0\\n    4.0730   -1.3603   -0.2671 C   0  0  0  0  0  0  0  0  0  0  0  0\\n    3.3730   -0.2050   -0.4583 N   0  0  0  0  0  0  0  0  0  0  0  0\\n    3.7081    0.9650    0.1594 C   0  0  0  0  0  0  0  0  0  0  0  0\\n    2.9489    2.2034   -0.1265 C   0  0  0  0  0  0  0  0  0  0  0  0\\n    3.4996    3.3236    0.0509 O   0  0  0  0  0  0  0  0  0  0  0  0\\n    1.6193    2.1663   -0.6592 N   0  0  0  0  0  0  0  0  0  0  0  0\\n    0.5771    1.2920   -0.1224 C   0  0  0  0  0  0  0  0  0  0  0  0\\n   -0.3653    2.0586    0.8144 C   0  0  0  0  0  0  0  0  0  0  0  0\\n   -1.1769    3.1632    0.1192 C   0  0  0  0  0  0  0  0  0  0  0  0\\n    4.8203    0.9963    1.0142 C   0  0  0  0  0  0  0  0  0  0  0  0\\n    5.5556   -0.1683    1.2266 C   0  0  0  0  0  0  0  0  0  0  0  0\\n    5.1902   -1.3495    0.5831 C   0  0  0  0  0  0  0  0  0  0  0  0\\n   -4.8577   -0.6600    1.2215 C   0  0  0  0  0  0  0  0  0  0  0  0\\n   -5.6706    0.3729    0.7531 C   0  0  0  0  0  0  0  0  0  0  0  0\\n   -5.1302    1.3731   -0.0556 C   0  0  0  0  0  0  0  0  0  0  0  0\\n  1  2  1  0\\n  2  3  2  0\\n  2  4  1  0\\n  4  5  1  0\\n  5  6  2  0\\n  6  7  1  0\\n  7  8  2  0\\n  7  9  1  0\\n  9 10  1  0\\n 10 11  1  0\\n 11 12  1  0\\n 12 13  1  0\\n 13 14  1  0\\n 14 15  2  0\\n 14 16  1  0\\n 16 17  1  0\\n 17 18  2  0\\n 18 19  1  0\\n 19 20  2  0\\n 19 21  1  0\\n 21 22  1  0\\n 22 23  1  0\\n 23 24  1  0\\n 18 25  1  0\\n 25 26  2  0\\n 26 27  1  0\\n  6 28  1  0\\n 28 29  2  0\\n 29 30  1  0\\n 24  1  1  0\\n 30  4  2  0\\n 27 16  2  0\\nM  END\\n\",\"sdf\");\n",
       "\tviewer_149070656208102.addModel(\"\\n     RDKit          3D\\n\\n 30 32  0  0  0  0  0  0  0  0999 V2000\\n   -2.3934    2.6948   -0.7476 N   0  0  0  0  0  0  0  0  0  0  0  0\\n   -3.7082    2.1578   -0.9891 C   0  0  0  0  0  0  0  0  0  0  0  0\\n   -4.5043    2.8390   -1.6909 O   0  0  0  0  0  0  0  0  0  0  0  0\\n   -4.1932    0.8778   -0.4064 C   0  0  0  0  0  0  0  0  0  0  0  0\\n   -3.3205   -0.0478    0.0797 N   0  0  0  0  0  0  0  0  0  0  0  0\\n   -3.7307   -1.1965    0.6847 C   0  0  0  0  0  0  0  0  0  0  0  0\\n   -2.7289   -2.1132    1.2515 C   0  0  0  0  0  0  0  0  0  0  0  0\\n   -3.0080   -2.8008    2.2702 O   0  0  0  0  0  0  0  0  0  0  0  0\\n   -1.4229   -2.2072    0.6779 N   0  0  0  0  0  0  0  0  0  0  0  0\\n   -1.2470   -2.6836   -0.6946 C   0  0  0  0  0  0  0  0  0  0  0  0\\n   -0.2380   -1.8370   -1.4912 C   0  0  0  0  0  0  0  0  0  0  0  0\\n    1.0148   -1.3947   -0.7155 C   0  0  0  0  0  0  0  0  0  0  0  0\\n    1.7541   -2.5272   -0.1640 N   0  0  0  0  0  0  0  0  0  0  0  0\\n    3.0358   -2.4072    0.4703 C   0  0  0  0  0  0  0  0  0  0  0  0\\n    3.4989   -3.4088    1.0802 O   0  0  0  0  0  0  0  0  0  0  0  0\\n    3.8872   -1.2016    0.3499 C   0  0  0  0  0  0  0  0  0  0  0  0\\n    3.3961    0.0548    0.5808 N   0  0  0  0  0  0  0  0  0  0  0  0\\n    4.1950    1.1650    0.5256 C   0  0  0  0  0  0  0  0  0  0  0  0\\n    3.6835    2.5269    0.8502 C   0  0  0  0  0  0  0  0  0  0  0  0\\n    4.5131    3.4033    1.2171 O   0  0  0  0  0  0  0  0  0  0  0  0\\n    2.3051    2.9199    0.7414 N   0  0  0  0  0  0  0  0  0  0  0  0\\n    1.2102    2.0409    0.3419 C   0  0  0  0  0  0  0  0  0  0  0  0\\n   -0.0472    2.8567    0.0103 C   0  0  0  0  0  0  0  0  0  0  0  0\\n   -1.2785    1.9566   -0.1501 C   0  0  0  0  0  0  0  0  0  0  0  0\\n    5.5593    1.0107    0.2210 C   0  0  0  0  0  0  0  0  0  0  0  0\\n    6.0789   -0.2576   -0.0148 C   0  0  0  0  0  0  0  0  0  0  0  0\\n    5.2482   -1.3693    0.0594 C   0  0  0  0  0  0  0  0  0  0  0  0\\n   -5.1008   -1.4588    0.8127 C   0  0  0  0  0  0  0  0  0  0  0  0\\n   -6.0207   -0.5488    0.2944 C   0  0  0  0  0  0  0  0  0  0  0  0\\n   -5.5729    0.6226   -0.3171 C   0  0  0  0  0  0  0  0  0  0  0  0\\n  1  2  1  0\\n  2  3  2  0\\n  2  4  1  0\\n  4  5  1  0\\n  5  6  2  0\\n  6  7  1  0\\n  7  8  2  0\\n  7  9  1  0\\n  9 10  1  0\\n 10 11  1  0\\n 11 12  1  0\\n 12 13  1  0\\n 13 14  1  0\\n 14 15  2  0\\n 14 16  1  0\\n 16 17  1  0\\n 17 18  2  0\\n 18 19  1  0\\n 19 20  2  0\\n 19 21  1  0\\n 21 22  1  0\\n 22 23  1  0\\n 23 24  1  0\\n 18 25  1  0\\n 25 26  2  0\\n 26 27  1  0\\n  6 28  1  0\\n 28 29  2  0\\n 29 30  1  0\\n 24  1  1  0\\n 30  4  2  0\\n 27 16  2  0\\nM  END\\n\",\"sdf\");\n",
       "\tviewer_149070656208102.addModel(\"\\n     RDKit          3D\\n\\n 30 32  0  0  0  0  0  0  0  0999 V2000\\n    1.1967   -2.1261   -1.0065 N   0  0  0  0  0  0  0  0  0  0  0  0\\n    2.3547   -1.7181   -1.7495 C   0  0  0  0  0  0  0  0  0  0  0  0\\n    2.4368   -2.0397   -2.9658 O   0  0  0  0  0  0  0  0  0  0  0  0\\n    3.4486   -0.9294   -1.1421 C   0  0  0  0  0  0  0  0  0  0  0  0\\n    3.1809   -0.0065   -0.1747 N   0  0  0  0  0  0  0  0  0  0  0  0\\n    4.1486    0.7787    0.3790 C   0  0  0  0  0  0  0  0  0  0  0  0\\n    3.8228    1.7808    1.4304 C   0  0  0  0  0  0  0  0  0  0  0  0\\n    4.7588    2.2169    2.1544 O   0  0  0  0  0  0  0  0  0  0  0  0\\n    2.5010    2.3082    1.6499 N   0  0  0  0  0  0  0  0  0  0  0  0\\n    1.3061    1.9172    0.9012 C   0  0  0  0  0  0  0  0  0  0  0  0\\n    0.1197    2.8337    1.2421 C   0  0  0  0  0  0  0  0  0  0  0  0\\n   -1.2102    2.2906    0.7015 C   0  0  0  0  0  0  0  0  0  0  0  0\\n   -1.2215    2.2302   -0.7620 N   0  0  0  0  0  0  0  0  0  0  0  0\\n   -2.3919    1.8826   -1.5167 C   0  0  0  0  0  0  0  0  0  0  0  0\\n   -2.4981    2.3096   -2.6981 O   0  0  0  0  0  0  0  0  0  0  0  0\\n   -3.4731    1.0404   -0.9608 C   0  0  0  0  0  0  0  0  0  0  0  0\\n   -3.1848    0.0260   -0.0965 N   0  0  0  0  0  0  0  0  0  0  0  0\\n   -4.1413   -0.8082    0.4022 C   0  0  0  0  0  0  0  0  0  0  0  0\\n   -3.7926   -1.9108    1.3395 C   0  0  0  0  0  0  0  0  0  0  0  0\\n   -4.7116   -2.4167    2.0395 O   0  0  0  0  0  0  0  0  0  0  0  0\\n   -2.4674   -2.4588    1.4713 N   0  0  0  0  0  0  0  0  0  0  0  0\\n   -1.2899   -1.9918    0.7389 C   0  0  0  0  0  0  0  0  0  0  0  0\\n   -0.0966   -2.9365    0.9558 C   0  0  0  0  0  0  0  0  0  0  0  0\\n    1.2202   -2.3375    0.4429 C   0  0  0  0  0  0  0  0  0  0  0  0\\n   -5.4805   -0.6089    0.0248 C   0  0  0  0  0  0  0  0  0  0  0  0\\n   -5.8027    0.4146   -0.8651 C   0  0  0  0  0  0  0  0  0  0  0  0\\n   -4.7992    1.2383   -1.3702 C   0  0  0  0  0  0  0  0  0  0  0  0\\n    5.4778    0.6238   -0.0509 C   0  0  0  0  0  0  0  0  0  0  0  0\\n    5.7786   -0.3054   -1.0454 C   0  0  0  0  0  0  0  0  0  0  0  0\\n    4.7640   -1.0801   -1.6029 C   0  0  0  0  0  0  0  0  0  0  0  0\\n  1  2  1  0\\n  2  3  2  0\\n  2  4  1  0\\n  4  5  1  0\\n  5  6  2  0\\n  6  7  1  0\\n  7  8  2  0\\n  7  9  1  0\\n  9 10  1  0\\n 10 11  1  0\\n 11 12  1  0\\n 12 13  1  0\\n 13 14  1  0\\n 14 15  2  0\\n 14 16  1  0\\n 16 17  1  0\\n 17 18  2  0\\n 18 19  1  0\\n 19 20  2  0\\n 19 21  1  0\\n 21 22  1  0\\n 22 23  1  0\\n 23 24  1  0\\n 18 25  1  0\\n 25 26  2  0\\n 26 27  1  0\\n  6 28  1  0\\n 28 29  2  0\\n 29 30  1  0\\n 24  1  1  0\\n 30  4  2  0\\n 27 16  2  0\\nM  END\\n\",\"sdf\");\n",
       "\tviewer_149070656208102.addModel(\"\\n     RDKit          3D\\n\\n 30 32  0  0  0  0  0  0  0  0999 V2000\\n    2.1706   -3.2750   -0.0242 N   0  0  0  0  0  0  0  0  0  0  0  0\\n    3.3590   -2.8513    0.6699 C   0  0  0  0  0  0  0  0  0  0  0  0\\n    4.1212   -3.7235    1.1666 O   0  0  0  0  0  0  0  0  0  0  0  0\\n    3.6794   -1.4173    0.8602 C   0  0  0  0  0  0  0  0  0  0  0  0\\n    3.3746   -0.5180   -0.1159 N   0  0  0  0  0  0  0  0  0  0  0  0\\n    3.5310    0.8221    0.0498 C   0  0  0  0  0  0  0  0  0  0  0  0\\n    3.1536    1.7314   -1.0427 C   0  0  0  0  0  0  0  0  0  0  0  0\\n    3.6910    1.5819   -2.1717 O   0  0  0  0  0  0  0  0  0  0  0  0\\n    2.1741    2.7663   -0.8626 N   0  0  0  0  0  0  0  0  0  0  0  0\\n    1.0946    2.6922    0.1251 C   0  0  0  0  0  0  0  0  0  0  0  0\\n    0.1296    1.5365   -0.1848 C   0  0  0  0  0  0  0  0  0  0  0  0\\n   -0.6314    1.7274   -1.5068 C   0  0  0  0  0  0  0  0  0  0  0  0\\n   -1.6183    2.8010   -1.4144 N   0  0  0  0  0  0  0  0  0  0  0  0\\n   -2.7603    2.8099   -0.5394 C   0  0  0  0  0  0  0  0  0  0  0  0\\n   -3.3121    3.9179   -0.2987 O   0  0  0  0  0  0  0  0  0  0  0  0\\n   -3.3258    1.5867    0.0894 C   0  0  0  0  0  0  0  0  0  0  0  0\\n   -3.2399    0.3668   -0.5206 N   0  0  0  0  0  0  0  0  0  0  0  0\\n   -3.8102   -0.7561    0.0124 C   0  0  0  0  0  0  0  0  0  0  0  0\\n   -3.7346   -2.0606   -0.6886 C   0  0  0  0  0  0  0  0  0  0  0  0\\n   -4.7537   -2.8025   -0.6931 O   0  0  0  0  0  0  0  0  0  0  0  0\\n   -2.5458   -2.5262   -1.3493 N   0  0  0  0  0  0  0  0  0  0  0  0\\n   -1.2204   -1.9451   -1.1581 C   0  0  0  0  0  0  0  0  0  0  0  0\\n   -0.1978   -3.0132   -0.7554 C   0  0  0  0  0  0  0  0  0  0  0  0\\n    1.1251   -2.3268   -0.4074 C   0  0  0  0  0  0  0  0  0  0  0  0\\n   -4.5287   -0.6597    1.2122 C   0  0  0  0  0  0  0  0  0  0  0  0\\n   -4.6300    0.5705    1.8561 C   0  0  0  0  0  0  0  0  0  0  0  0\\n   -4.0338    1.6983    1.2972 C   0  0  0  0  0  0  0  0  0  0  0  0\\n    4.0465    1.3141    1.2546 C   0  0  0  0  0  0  0  0  0  0  0  0\\n    4.4096    0.4137    2.2589 C   0  0  0  0  0  0  0  0  0  0  0  0\\n    4.2301   -0.9588    2.0659 C   0  0  0  0  0  0  0  0  0  0  0  0\\n  1  2  1  0\\n  2  3  2  0\\n  2  4  1  0\\n  4  5  1  0\\n  5  6  2  0\\n  6  7  1  0\\n  7  8  2  0\\n  7  9  1  0\\n  9 10  1  0\\n 10 11  1  0\\n 11 12  1  0\\n 12 13  1  0\\n 13 14  1  0\\n 14 15  2  0\\n 14 16  1  0\\n 16 17  1  0\\n 17 18  2  0\\n 18 19  1  0\\n 19 20  2  0\\n 19 21  1  0\\n 21 22  1  0\\n 22 23  1  0\\n 23 24  1  0\\n 18 25  1  0\\n 25 26  2  0\\n 26 27  1  0\\n  6 28  1  0\\n 28 29  2  0\\n 29 30  1  0\\n 24  1  1  0\\n 30  4  2  0\\n 27 16  2  0\\nM  END\\n\",\"sdf\");\n",
       "\tviewer_149070656208102.addModel(\"\\n     RDKit          3D\\n\\n 30 32  0  0  0  0  0  0  0  0999 V2000\\n    2.4178    2.0167   -1.7714 N   0  0  0  0  0  0  0  0  0  0  0  0\\n    3.7589    1.9715   -1.2745 C   0  0  0  0  0  0  0  0  0  0  0  0\\n    4.6272    2.7340   -1.7782 O   0  0  0  0  0  0  0  0  0  0  0  0\\n    4.1469    1.0358   -0.2040 C   0  0  0  0  0  0  0  0  0  0  0  0\\n    3.6114   -0.2179   -0.1673 N   0  0  0  0  0  0  0  0  0  0  0  0\\n    3.9948   -1.1457    0.7563 C   0  0  0  0  0  0  0  0  0  0  0  0\\n    3.4846   -2.5351    0.6804 C   0  0  0  0  0  0  0  0  0  0  0  0\\n    4.1450   -3.4629    1.2216 O   0  0  0  0  0  0  0  0  0  0  0  0\\n    2.2867   -2.8741   -0.0313 N   0  0  0  0  0  0  0  0  0  0  0  0\\n    1.0966   -2.0238   -0.0119 C   0  0  0  0  0  0  0  0  0  0  0  0\\n   -0.1381   -2.8097   -0.4764 C   0  0  0  0  0  0  0  0  0  0  0  0\\n   -1.4183   -1.9912   -0.2872 C   0  0  0  0  0  0  0  0  0  0  0  0\\n   -2.5841   -2.6900   -0.8295 N   0  0  0  0  0  0  0  0  0  0  0  0\\n   -3.9366   -2.1968   -0.7603 C   0  0  0  0  0  0  0  0  0  0  0  0\\n   -4.8478   -2.8927   -1.2853 O   0  0  0  0  0  0  0  0  0  0  0  0\\n   -4.3123   -0.9269   -0.0786 C   0  0  0  0  0  0  0  0  0  0  0  0\\n   -3.3636   -0.0135    0.2673 N   0  0  0  0  0  0  0  0  0  0  0  0\\n   -3.6533    1.1384    0.9302 C   0  0  0  0  0  0  0  0  0  0  0  0\\n   -2.5572    2.0409    1.3297 C   0  0  0  0  0  0  0  0  0  0  0  0\\n   -2.7035    2.8018    2.3242 O   0  0  0  0  0  0  0  0  0  0  0  0\\n   -1.3073    2.0390    0.6296 N   0  0  0  0  0  0  0  0  0  0  0  0\\n   -1.2642    2.3647   -0.7976 C   0  0  0  0  0  0  0  0  0  0  0  0\\n   -0.0204    1.7920   -1.4962 C   0  0  0  0  0  0  0  0  0  0  0  0\\n    1.2993    2.2443   -0.8578 C   0  0  0  0  0  0  0  0  0  0  0  0\\n   -4.9830    1.4165    1.2752 C   0  0  0  0  0  0  0  0  0  0  0  0\\n   -5.9848    0.5160    0.9133 C   0  0  0  0  0  0  0  0  0  0  0  0\\n   -5.6559   -0.6589    0.2353 C   0  0  0  0  0  0  0  0  0  0  0  0\\n    4.9635   -0.8006    1.7132 C   0  0  0  0  0  0  0  0  0  0  0  0\\n    5.5205    0.4774    1.7004 C   0  0  0  0  0  0  0  0  0  0  0  0\\n    5.1254    1.3980    0.7318 C   0  0  0  0  0  0  0  0  0  0  0  0\\n  1  2  1  0\\n  2  3  2  0\\n  2  4  1  0\\n  4  5  1  0\\n  5  6  2  0\\n  6  7  1  0\\n  7  8  2  0\\n  7  9  1  0\\n  9 10  1  0\\n 10 11  1  0\\n 11 12  1  0\\n 12 13  1  0\\n 13 14  1  0\\n 14 15  2  0\\n 14 16  1  0\\n 16 17  1  0\\n 17 18  2  0\\n 18 19  1  0\\n 19 20  2  0\\n 19 21  1  0\\n 21 22  1  0\\n 22 23  1  0\\n 23 24  1  0\\n 18 25  1  0\\n 25 26  2  0\\n 26 27  1  0\\n  6 28  1  0\\n 28 29  2  0\\n 29 30  1  0\\n 24  1  1  0\\n 30  4  2  0\\n 27 16  2  0\\nM  END\\n\",\"sdf\");\n",
       "\tviewer_149070656208102.addModel(\"\\n     RDKit          3D\\n\\n 30 32  0  0  0  0  0  0  0  0999 V2000\\n    2.5699    3.2071    1.3878 N   0  0  0  0  0  0  0  0  0  0  0  0\\n    3.7334    2.7452    0.6776 C   0  0  0  0  0  0  0  0  0  0  0  0\\n    4.6111    3.5862    0.3428 O   0  0  0  0  0  0  0  0  0  0  0  0\\n    3.9345    1.3201    0.3377 C   0  0  0  0  0  0  0  0  0  0  0  0\\n    3.3200    0.3555    1.0716 N   0  0  0  0  0  0  0  0  0  0  0  0\\n    3.4359   -0.9670    0.7846 C   0  0  0  0  0  0  0  0  0  0  0  0\\n    2.6849   -1.9381    1.5894 C   0  0  0  0  0  0  0  0  0  0  0  0\\n    2.9155   -2.0048    2.8290 O   0  0  0  0  0  0  0  0  0  0  0  0\\n    1.6439   -2.7484    1.0188 N   0  0  0  0  0  0  0  0  0  0  0  0\\n    1.2766   -2.6936   -0.3983 C   0  0  0  0  0  0  0  0  0  0  0  0\\n   -0.1194   -3.2834   -0.6330 C   0  0  0  0  0  0  0  0  0  0  0  0\\n   -1.2232   -2.3137   -0.1866 C   0  0  0  0  0  0  0  0  0  0  0  0\\n   -2.5389   -2.9508   -0.2729 N   0  0  0  0  0  0  0  0  0  0  0  0\\n   -3.7320   -2.3679    0.2742 C   0  0  0  0  0  0  0  0  0  0  0  0\\n   -4.5528   -3.1267    0.8580 O   0  0  0  0  0  0  0  0  0  0  0  0\\n   -4.0684   -0.9308    0.1075 C   0  0  0  0  0  0  0  0  0  0  0  0\\n   -3.2542   -0.1077   -0.6109 N   0  0  0  0  0  0  0  0  0  0  0  0\\n   -3.5744    1.1886   -0.8773 C   0  0  0  0  0  0  0  0  0  0  0  0\\n   -2.6753    2.0121   -1.7019 C   0  0  0  0  0  0  0  0  0  0  0  0\\n   -3.1606    2.7225   -2.6234 O   0  0  0  0  0  0  0  0  0  0  0  0\\n   -1.2598    2.0257   -1.4789 N   0  0  0  0  0  0  0  0  0  0  0  0\\n   -0.6927    1.8946   -0.1340 C   0  0  0  0  0  0  0  0  0  0  0  0\\n    0.7206    2.4905   -0.0847 C   0  0  0  0  0  0  0  0  0  0  0  0\\n    1.2549    2.5585    1.3487 C   0  0  0  0  0  0  0  0  0  0  0  0\\n   -4.7896    1.7098   -0.4178 C   0  0  0  0  0  0  0  0  0  0  0  0\\n   -5.6353    0.9007    0.3388 C   0  0  0  0  0  0  0  0  0  0  0  0\\n   -5.2802   -0.4222    0.6055 C   0  0  0  0  0  0  0  0  0  0  0  0\\n    4.2327   -1.3752   -0.2896 C   0  0  0  0  0  0  0  0  0  0  0  0\\n    4.8980   -0.4115   -1.0495 C   0  0  0  0  0  0  0  0  0  0  0  0\\n    4.7516    0.9429   -0.7403 C   0  0  0  0  0  0  0  0  0  0  0  0\\n  1  2  1  0\\n  2  3  2  0\\n  2  4  1  0\\n  4  5  1  0\\n  5  6  2  0\\n  6  7  1  0\\n  7  8  2  0\\n  7  9  1  0\\n  9 10  1  0\\n 10 11  1  0\\n 11 12  1  0\\n 12 13  1  0\\n 13 14  1  0\\n 14 15  2  0\\n 14 16  1  0\\n 16 17  1  0\\n 17 18  2  0\\n 18 19  1  0\\n 19 20  2  0\\n 19 21  1  0\\n 21 22  1  0\\n 22 23  1  0\\n 23 24  1  0\\n 18 25  1  0\\n 25 26  2  0\\n 26 27  1  0\\n  6 28  1  0\\n 28 29  2  0\\n 29 30  1  0\\n 24  1  1  0\\n 30  4  2  0\\n 27 16  2  0\\nM  END\\n\",\"sdf\");\n",
       "\tviewer_149070656208102.setStyle({\"stick\": {\"radius\": \"0.15\"}});\n",
       "\tviewer_149070656208102.setBackgroundColor(\"0xeeeeee\");\n",
       "\tviewer_149070656208102.zoomTo();\n",
       "viewer_149070656208102.render();\n",
       "});\n",
       "</script>"
      ],
      "text/plain": [
       "<IPython.core.display.HTML object>"
      ]
     },
     "execution_count": 171,
     "metadata": {},
     "output_type": "execute_result"
    }
   ],
   "source": [
    "# view:\n",
    "p = py3Dmol.view(width=400,height=400)\n",
    "p.removeAllModels()\n",
    "for mol in allmol_m7_rdkit:   \n",
    "    mb = Chem.MolToMolBlock(mol)\n",
    "    p.addModel(mb,'sdf')    \n",
    "p.setStyle({'stick':{'radius':'0.15'}})\n",
    "p.setBackgroundColor('0xeeeeee')\n",
    "p.zoomTo()\n",
    "p.show()"
   ]
  },
  {
   "cell_type": "markdown",
   "metadata": {},
   "source": [
    "### Summary"
   ]
  },
  {
   "cell_type": "markdown",
   "metadata": {},
   "source": [
    "Let's align all generated conformers: //todo fixme: align all conformers!//"
   ]
  },
  {
   "cell_type": "code",
   "execution_count": 124,
   "metadata": {
    "collapsed": false
   },
   "outputs": [
    {
     "data": {
      "text/html": [
       "<div id=\"3dmolviewer_14907060884125845\"  style=\"position: relative; width: 400px; height: 400px\">\n",
       "<script>\n",
       "if(typeof $3Dmolpromise === 'undefined') $3Dmolpromise = $.when($.getScript('http://3dmol.csb.pitt.edu/build/3Dmol.js'))\n",
       "var viewer_14907060884125845 = null;\n",
       "$3Dmolpromise.done(function() {\n",
       "viewer_14907060884125845 = $3Dmol.createViewer($(\"#3dmolviewer_14907060884125845\"),{backgroundColor:\"white\"});\n",
       "\tviewer_14907060884125845.removeAllModels();\n",
       "\tviewer_14907060884125845.addModel(\"m7_crystal.xyz\\n     RDKit          3D\\n\\n 30 32  0  0  0  0  0  0  0  0999 V2000\\n    1.4835    8.2799   11.9016 N   0  0  0  0  0  0  0  0  0  0  0  0\\n    1.7317    7.5871   13.0748 C   0  0  0  0  0  0  0  0  0  0  0  0\\n    2.8398    7.4037   13.5675 O   0  0  0  0  0  0  0  0  0  0  0  0\\n    0.5249    7.0327   13.7321 C   0  0  0  0  0  0  0  0  0  0  0  0\\n   -0.6663    7.4524   13.2454 N   0  0  0  0  0  0  0  0  0  0  0  0\\n   -1.7766    6.9703   13.8511 C   0  0  0  0  0  0  0  0  0  0  0  0\\n   -3.0723    7.4620   13.3260 C   0  0  0  0  0  0  0  0  0  0  0  0\\n   -4.1142    7.2068   13.9211 O   0  0  0  0  0  0  0  0  0  0  0  0\\n   -2.9808    8.1868   12.1495 N   0  0  0  0  0  0  0  0  0  0  0  0\\n   -4.1416    8.6926   11.4402 C   0  0  0  0  0  0  0  0  0  0  0  0\\n   -4.9500    7.5993   10.7368 C   0  0  0  0  0  0  0  0  0  0  0  0\\n   -4.2110    6.9209    9.5810 C   0  0  0  0  0  0  0  0  0  0  0  0\\n   -3.0662    6.1402   10.0117 N   0  0  0  0  0  0  0  0  0  0  0  0\\n   -3.1866    4.9329   10.6797 C   0  0  0  0  0  0  0  0  0  0  0  0\\n   -4.2437    4.3608   10.9247 O   0  0  0  0  0  0  0  0  0  0  0  0\\n   -1.9016    4.3418   11.1214 C   0  0  0  0  0  0  0  0  0  0  0  0\\n   -0.7809    4.9228   10.6323 N   0  0  0  0  0  0  0  0  0  0  0  0\\n    0.4008    4.3764   11.0017 C   0  0  0  0  0  0  0  0  0  0  0  0\\n    1.6161    5.0084   10.4361 C   0  0  0  0  0  0  0  0  0  0  0  0\\n    2.7104    4.4720   10.5749 O   0  0  0  0  0  0  0  0  0  0  0  0\\n    1.3913    6.2090    9.7825 N   0  0  0  0  0  0  0  0  0  0  0  0\\n    2.4601    7.0173    9.2242 C   0  0  0  0  0  0  0  0  0  0  0  0\\n    3.2997    7.7360   10.2834 C   0  0  0  0  0  0  0  0  0  0  0  0\\n    2.5409    8.8132   11.0630 C   0  0  0  0  0  0  0  0  0  0  0  0\\n    0.6566    6.1412   14.7884 C   0  0  0  0  0  0  0  0  0  0  0  0\\n   -0.5069    5.6569   15.3771 C   0  0  0  0  0  0  0  0  0  0  0  0\\n   -1.7497    6.0748   14.9123 C   0  0  0  0  0  0  0  0  0  0  0  0\\n   -1.8938    3.2491   11.9777 C   0  0  0  0  0  0  0  0  0  0  0  0\\n   -0.6598    2.7217   12.3445 C   0  0  0  0  0  0  0  0  0  0  0  0\\n    0.5132    3.2826   11.8498 C   0  0  0  0  0  0  0  0  0  0  0  0\\n  1  2  1  0\\n  2  3  2  0\\n  2  4  1  0\\n  4 25  2  0\\n  5  4  1  0\\n  5  6  2  0\\n  6 27  1  0\\n  7  6  1  0\\n  7  8  2  0\\n  9  7  1  0\\n 10  9  1  0\\n 11 10  1  0\\n 12 13  1  0\\n 12 11  1  0\\n 13 14  1  0\\n 14 15  2  0\\n 14 16  1  0\\n 16 28  2  0\\n 17 18  2  0\\n 17 16  1  0\\n 18 30  1  0\\n 19 20  2  0\\n 19 18  1  0\\n 21 19  1  0\\n 22 21  1  0\\n 22 23  1  0\\n 23 24  1  0\\n 24  1  1  0\\n 25 26  1  0\\n 27 26  2  0\\n 28 29  1  0\\n 30 29  2  0\\nM  END\\n\",\"sdf\");\n",
       "\tviewer_14907060884125845.addModel(\"m7_crystal.xyz\\n     RDKit          3D\\n\\n 30 32  0  0  0  0  0  0  0  0999 V2000\\n   -3.0057    6.0729   10.1079 N   0  0  0  0  0  0  0  0  0  0  0  0\\n   -3.1434    4.7672   10.5534 C   0  0  0  0  0  0  0  0  0  0  0  0\\n   -4.2144    4.1961   10.7408 O   0  0  0  0  0  0  0  0  0  0  0  0\\n   -1.8670    4.0443   10.7746 C   0  0  0  0  0  0  0  0  0  0  0  0\\n   -0.7439    4.7134   10.4325 N   0  0  0  0  0  0  0  0  0  0  0  0\\n    0.4290    4.0451   10.5452 C   0  0  0  0  0  0  0  0  0  0  0  0\\n    1.6349    4.7869   10.1078 C   0  0  0  0  0  0  0  0  0  0  0  0\\n    2.7373    4.2486   10.1307 O   0  0  0  0  0  0  0  0  0  0  0  0\\n    1.3874    6.0826    9.6895 N   0  0  0  0  0  0  0  0  0  0  0  0\\n    2.4276    6.9724    9.2183 C   0  0  0  0  0  0  0  0  0  0  0  0\\n    3.2742    7.5590   10.3476 C   0  0  0  0  0  0  0  0  0  0  0  0\\n    2.5463    8.6189   11.1726 C   0  0  0  0  0  0  0  0  0  0  0  0\\n    1.4925    8.0898   12.0224 N   0  0  0  0  0  0  0  0  0  0  0  0\\n    1.7154    7.6809   13.3270 C   0  0  0  0  0  0  0  0  0  0  0  0\\n    2.8215    7.5863   13.8544 O   0  0  0  0  0  0  0  0  0  0  0  0\\n    0.4911    7.3908   14.1149 C   0  0  0  0  0  0  0  0  0  0  0  0\\n   -0.6910    7.5585   13.4756 N   0  0  0  0  0  0  0  0  0  0  0  0\\n   -1.8117    7.3555   14.2100 C   0  0  0  0  0  0  0  0  0  0  0  0\\n   -3.1009    7.5727   13.5131 C   0  0  0  0  0  0  0  0  0  0  0  0\\n   -4.1503    7.2093   14.0377 O   0  0  0  0  0  0  0  0  0  0  0  0\\n   -3.0029    8.2175   12.2905 N   0  0  0  0  0  0  0  0  0  0  0  0\\n   -4.1692    8.6535   11.5461 C   0  0  0  0  0  0  0  0  0  0  0  0\\n   -4.9076    7.5221   10.8325 C   0  0  0  0  0  0  0  0  0  0  0  0\\n   -4.1305    6.8874    9.6809 C   0  0  0  0  0  0  0  0  0  0  0  0\\n   -1.8658    2.7384   11.2488 C   0  0  0  0  0  0  0  0  0  0  0  0\\n   -0.6419    2.0853   11.3602 C   0  0  0  0  0  0  0  0  0  0  0  0\\n    0.5317    2.7383   11.0008 C   0  0  0  0  0  0  0  0  0  0  0  0\\n    0.6007    7.0337   15.4527 C   0  0  0  0  0  0  0  0  0  0  0  0\\n   -0.5720    6.8333   16.1727 C   0  0  0  0  0  0  0  0  0  0  0  0\\n   -1.8048    6.9910   15.5515 C   0  0  0  0  0  0  0  0  0  0  0  0\\n  1  2  1  0\\n  2  3  2  0\\n  2  4  1  0\\n  4 25  2  0\\n  5  4  1  0\\n  5  6  2  0\\n  6 27  1  0\\n  7  6  1  0\\n  7  8  2  0\\n  9  7  1  0\\n 10  9  1  0\\n 11 10  1  0\\n 12 13  1  0\\n 12 11  1  0\\n 13 14  1  0\\n 14 15  2  0\\n 14 16  1  0\\n 16 28  2  0\\n 17 18  2  0\\n 17 16  1  0\\n 18 30  1  0\\n 19 20  2  0\\n 19 18  1  0\\n 21 19  1  0\\n 22 21  1  0\\n 22 23  1  0\\n 23 24  1  0\\n 24  1  1  0\\n 25 26  1  0\\n 27 26  2  0\\n 28 29  1  0\\n 30 29  2  0\\nM  END\\n\",\"sdf\");\n",
       "\tviewer_14907060884125845.addModel(\"m7_crystal.xyz\\n     RDKit          3D\\n\\n 30 32  0  0  0  0  0  0  0  0999 V2000\\n   -2.7451    4.5671   11.5975 N   0  0  0  0  0  0  0  0  0  0  0  0\\n   -3.0233    3.6469   10.6017 C   0  0  0  0  0  0  0  0  0  0  0  0\\n   -4.0896    3.0595   10.4536 O   0  0  0  0  0  0  0  0  0  0  0  0\\n   -1.8921    3.3966    9.6747 C   0  0  0  0  0  0  0  0  0  0  0  0\\n   -0.8117    4.1939    9.8405 N   0  0  0  0  0  0  0  0  0  0  0  0\\n    0.2395    3.9921    9.0129 C   0  0  0  0  0  0  0  0  0  0  0  0\\n    1.4005    4.8932    9.2209 C   0  0  0  0  0  0  0  0  0  0  0  0\\n    2.4351    4.7333    8.5829 O   0  0  0  0  0  0  0  0  0  0  0  0\\n    1.1843    5.8805   10.1662 N   0  0  0  0  0  0  0  0  0  0  0  0\\n    2.1883    6.8441   10.5741 C   0  0  0  0  0  0  0  0  0  0  0  0\\n    3.1101    6.3160   11.6751 C   0  0  0  0  0  0  0  0  0  0  0  0\\n    2.3842    5.7204   12.8829 C   0  0  0  0  0  0  0  0  0  0  0  0\\n    1.3803    6.6127   13.4294 N   0  0  0  0  0  0  0  0  0  0  0  0\\n    1.6559    7.6000   14.3595 C   0  0  0  0  0  0  0  0  0  0  0  0\\n    2.7493    7.8059   14.8745 O   0  0  0  0  0  0  0  0  0  0  0  0\\n    0.4856    8.4388   14.7192 C   0  0  0  0  0  0  0  0  0  0  0  0\\n   -0.6383    8.2146   14.0003 N   0  0  0  0  0  0  0  0  0  0  0  0\\n   -1.7261    8.9595   14.3047 C   0  0  0  0  0  0  0  0  0  0  0  0\\n   -2.9351    8.6927   13.4865 C   0  0  0  0  0  0  0  0  0  0  0  0\\n   -4.0022    9.2320   13.7582 O   0  0  0  0  0  0  0  0  0  0  0  0\\n   -2.7229    7.8147   12.4379 N   0  0  0  0  0  0  0  0  0  0  0  0\\n   -3.7631    7.3685   11.5319 C   0  0  0  0  0  0  0  0  0  0  0  0\\n   -4.5658    6.1855   12.0781 C   0  0  0  0  0  0  0  0  0  0  0  0\\n   -3.7180    5.0130   12.5755 C   0  0  0  0  0  0  0  0  0  0  0  0\\n   -1.9709    2.4021    8.7106 C   0  0  0  0  0  0  0  0  0  0  0  0\\n   -0.8689    2.2182    7.8788 C   0  0  0  0  0  0  0  0  0  0  0  0\\n    0.2617    3.0197    8.0235 C   0  0  0  0  0  0  0  0  0  0  0  0\\n    0.5736    9.3822   15.7323 C   0  0  0  0  0  0  0  0  0  0  0  0\\n   -0.5663   10.1276   16.0229 C   0  0  0  0  0  0  0  0  0  0  0  0\\n   -1.7424    9.9204   15.3059 C   0  0  0  0  0  0  0  0  0  0  0  0\\n  1  2  1  0\\n  2  3  2  0\\n  2  4  1  0\\n  4 25  2  0\\n  5  4  1  0\\n  5  6  2  0\\n  6 27  1  0\\n  7  6  1  0\\n  7  8  2  0\\n  9  7  1  0\\n 10  9  1  0\\n 11 10  1  0\\n 12 13  1  0\\n 12 11  1  0\\n 13 14  1  0\\n 14 15  2  0\\n 14 16  1  0\\n 16 28  2  0\\n 17 18  2  0\\n 17 16  1  0\\n 18 30  1  0\\n 19 20  2  0\\n 19 18  1  0\\n 21 19  1  0\\n 22 21  1  0\\n 22 23  1  0\\n 23 24  1  0\\n 24  1  1  0\\n 25 26  1  0\\n 27 26  2  0\\n 28 29  1  0\\n 30 29  2  0\\nM  END\\n\",\"sdf\");\n",
       "\tviewer_14907060884125845.addModel(\"m7_crystal.xyz\\n     RDKit          3D\\n\\n 30 32  0  0  0  0  0  0  0  0999 V2000\\n   -2.9803    5.6283   10.4690 N   0  0  0  0  0  0  0  0  0  0  0  0\\n   -3.2053    4.3862    9.9013 C   0  0  0  0  0  0  0  0  0  0  0  0\\n   -4.3056    3.9036    9.6579 O   0  0  0  0  0  0  0  0  0  0  0  0\\n   -1.9649    3.6343    9.5839 C   0  0  0  0  0  0  0  0  0  0  0  0\\n   -0.8077    4.3106    9.7685 N   0  0  0  0  0  0  0  0  0  0  0  0\\n    0.3424    3.6662    9.4627 C   0  0  0  0  0  0  0  0  0  0  0  0\\n    1.5882    4.4509    9.6513 C   0  0  0  0  0  0  0  0  0  0  0  0\\n    2.6738    3.9819    9.3297 O   0  0  0  0  0  0  0  0  0  0  0  0\\n    1.3862    5.7051   10.2006 N   0  0  0  0  0  0  0  0  0  0  0  0\\n    2.4481    6.6563   10.4604 C   0  0  0  0  0  0  0  0  0  0  0  0\\n    3.3294    6.2886   11.6550 C   0  0  0  0  0  0  0  0  0  0  0  0\\n    2.5750    5.8889   12.9232 C   0  0  0  0  0  0  0  0  0  0  0  0\\n    1.5247    6.8153   13.2975 N   0  0  0  0  0  0  0  0  0  0  0  0\\n    1.7531    8.0390   13.9021 C   0  0  0  0  0  0  0  0  0  0  0  0\\n    2.8555    8.5144   14.1515 O   0  0  0  0  0  0  0  0  0  0  0  0\\n    0.5168    8.7773   14.2613 C   0  0  0  0  0  0  0  0  0  0  0  0\\n   -0.6424    8.1108   14.0538 N   0  0  0  0  0  0  0  0  0  0  0  0\\n   -1.7888    8.7382   14.4048 C   0  0  0  0  0  0  0  0  0  0  0  0\\n   -3.0363    7.9623   14.1925 C   0  0  0  0  0  0  0  0  0  0  0  0\\n   -4.1176    8.4095   14.5576 O   0  0  0  0  0  0  0  0  0  0  0  0\\n   -2.8409    6.7396   13.5739 N   0  0  0  0  0  0  0  0  0  0  0  0\\n   -3.9011    5.7895   13.3018 C   0  0  0  0  0  0  0  0  0  0  0  0\\n   -4.7826    6.1680   12.1113 C   0  0  0  0  0  0  0  0  0  0  0  0\\n   -4.0316    6.5548   10.8371 C   0  0  0  0  0  0  0  0  0  0  0  0\\n   -2.0242    2.3311    9.1121 C   0  0  0  0  0  0  0  0  0  0  0  0\\n   -0.8209    1.6952    8.8143 C   0  0  0  0  0  0  0  0  0  0  0  0\\n    0.3886    2.3645    8.9855 C   0  0  0  0  0  0  0  0  0  0  0  0\\n    0.5817   10.0549   14.7982 C   0  0  0  0  0  0  0  0  0  0  0  0\\n   -0.6178   10.6735   15.1428 C   0  0  0  0  0  0  0  0  0  0  0  0\\n   -1.8290   10.0130   14.9510 C   0  0  0  0  0  0  0  0  0  0  0  0\\n  1  2  1  0\\n  2  3  2  0\\n  2  4  1  0\\n  4 25  2  0\\n  5  4  1  0\\n  5  6  2  0\\n  6 27  1  0\\n  7  6  1  0\\n  7  8  2  0\\n  9  7  1  0\\n 10  9  1  0\\n 11 10  1  0\\n 12 13  1  0\\n 12 11  1  0\\n 13 14  1  0\\n 14 15  2  0\\n 14 16  1  0\\n 16 28  2  0\\n 17 18  2  0\\n 17 16  1  0\\n 18 30  1  0\\n 19 20  2  0\\n 19 18  1  0\\n 21 19  1  0\\n 22 21  1  0\\n 22 23  1  0\\n 23 24  1  0\\n 24  1  1  0\\n 25 26  1  0\\n 27 26  2  0\\n 28 29  1  0\\n 30 29  2  0\\nM  END\\n\",\"sdf\");\n",
       "\tviewer_14907060884125845.addModel(\"m7_crystal.xyz\\n     RDKit          3D\\n\\n 30 32  0  0  0  0  0  0  0  0999 V2000\\n   -2.6282    7.7319   12.6019 N   0  0  0  0  0  0  0  0  0  0  0  0\\n   -2.9120    8.4026   13.7795 C   0  0  0  0  0  0  0  0  0  0  0  0\\n   -4.0275    8.7695   14.1343 O   0  0  0  0  0  0  0  0  0  0  0  0\\n   -1.7305    8.6693   14.6360 C   0  0  0  0  0  0  0  0  0  0  0  0\\n   -0.5233    8.4263   14.0730 N   0  0  0  0  0  0  0  0  0  0  0  0\\n    0.5697    8.6850   14.8292 C   0  0  0  0  0  0  0  0  0  0  0  0\\n    1.8827    8.4226   14.1881 C   0  0  0  0  0  0  0  0  0  0  0  0\\n    2.9206    8.5455   14.8298 O   0  0  0  0  0  0  0  0  0  0  0  0\\n    1.8028    8.0510   12.8572 N   0  0  0  0  0  0  0  0  0  0  0  0\\n    2.9715    7.8622   12.0134 C   0  0  0  0  0  0  0  0  0  0  0  0\\n    2.6808    6.8751   10.8863 C   0  0  0  0  0  0  0  0  0  0  0  0\\n    2.5419    5.4373   11.3950 C   0  0  0  0  0  0  0  0  0  0  0  0\\n    1.4231    4.7622   10.7652 N   0  0  0  0  0  0  0  0  0  0  0  0\\n    1.4913    4.1621    9.5193 C   0  0  0  0  0  0  0  0  0  0  0  0\\n    2.5052    4.0439    8.8407 O   0  0  0  0  0  0  0  0  0  0  0  0\\n    0.1885    3.6512    9.0248 C   0  0  0  0  0  0  0  0  0  0  0  0\\n   -0.8761    3.9123    9.8173 N   0  0  0  0  0  0  0  0  0  0  0  0\\n   -2.0846    3.4761    9.3958 C   0  0  0  0  0  0  0  0  0  0  0  0\\n   -3.2249    3.7926   10.2912 C   0  0  0  0  0  0  0  0  0  0  0  0\\n   -4.3600    3.4264   10.0066 O   0  0  0  0  0  0  0  0  0  0  0  0\\n   -2.8717    4.5118   11.4199 N   0  0  0  0  0  0  0  0  0  0  0  0\\n   -3.8202    4.9689   12.4163 C   0  0  0  0  0  0  0  0  0  0  0  0\\n   -4.5481    6.2496   12.0059 C   0  0  0  0  0  0  0  0  0  0  0  0\\n   -3.6311    7.4069   11.6047 C   0  0  0  0  0  0  0  0  0  0  0  0\\n   -1.8953    9.1574   15.9254 C   0  0  0  0  0  0  0  0  0  0  0  0\\n   -0.7495    9.4049   16.6757 C   0  0  0  0  0  0  0  0  0  0  0  0\\n    0.5088    9.1696   16.1288 C   0  0  0  0  0  0  0  0  0  0  0  0\\n    0.1001    2.9668    7.8217 C   0  0  0  0  0  0  0  0  0  0  0  0\\n   -1.1594    2.5288    7.4191 C   0  0  0  0  0  0  0  0  0  0  0  0\\n   -2.2780    2.7818    8.2106 C   0  0  0  0  0  0  0  0  0  0  0  0\\n  1  2  1  0\\n  2  3  2  0\\n  2  4  1  0\\n  4 25  2  0\\n  5  4  1  0\\n  5  6  2  0\\n  6 27  1  0\\n  7  6  1  0\\n  7  8  2  0\\n  9  7  1  0\\n 10  9  1  0\\n 11 10  1  0\\n 12 13  1  0\\n 12 11  1  0\\n 13 14  1  0\\n 14 15  2  0\\n 14 16  1  0\\n 16 28  2  0\\n 17 18  2  0\\n 17 16  1  0\\n 18 30  1  0\\n 19 20  2  0\\n 19 18  1  0\\n 21 19  1  0\\n 22 21  1  0\\n 22 23  1  0\\n 23 24  1  0\\n 24  1  1  0\\n 25 26  1  0\\n 27 26  2  0\\n 28 29  1  0\\n 30 29  2  0\\nM  END\\n\",\"sdf\");\n",
       "\tviewer_14907060884125845.addModel(\"m7_crystal.xyz\\n     RDKit          3D\\n\\n 30 32  0  0  0  0  0  0  0  0999 V2000\\n   -2.6014    5.6371   10.5060 N   0  0  0  0  0  0  0  0  0  0  0  0\\n   -3.0029    4.6543    9.6169 C   0  0  0  0  0  0  0  0  0  0  0  0\\n   -4.1444    4.5116    9.1909 O   0  0  0  0  0  0  0  0  0  0  0  0\\n   -1.9198    3.7423    9.1716 C   0  0  0  0  0  0  0  0  0  0  0  0\\n   -0.6746    4.0278    9.6219 N   0  0  0  0  0  0  0  0  0  0  0  0\\n    0.3292    3.2211    9.2009 C   0  0  0  0  0  0  0  0  0  0  0  0\\n    1.6920    3.5610    9.6816 C   0  0  0  0  0  0  0  0  0  0  0  0\\n    2.6569    2.8902    9.3293 O   0  0  0  0  0  0  0  0  0  0  0  0\\n    1.7528    4.6630   10.5176 N   0  0  0  0  0  0  0  0  0  0  0  0\\n    3.0122    5.2063   11.0025 C   0  0  0  0  0  0  0  0  0  0  0  0\\n    2.7954    6.2240   12.1184 C   0  0  0  0  0  0  0  0  0  0  0  0\\n    2.2036    7.5381   11.6025 C   0  0  0  0  0  0  0  0  0  0  0  0\\n    1.2083    8.0537   12.5226 N   0  0  0  0  0  0  0  0  0  0  0  0\\n    1.4785    8.9505   13.5417 C   0  0  0  0  0  0  0  0  0  0  0  0\\n    2.5541    9.4990   13.7486 O   0  0  0  0  0  0  0  0  0  0  0  0\\n    0.3126    9.2155   14.4195 C   0  0  0  0  0  0  0  0  0  0  0  0\\n   -0.7496    8.4025   14.2229 N   0  0  0  0  0  0  0  0  0  0  0  0\\n   -1.8375    8.5984   14.9998 C   0  0  0  0  0  0  0  0  0  0  0  0\\n   -2.9701    7.6747   14.7452 C   0  0  0  0  0  0  0  0  0  0  0  0\\n   -4.0562    7.8574   15.2835 O   0  0  0  0  0  0  0  0  0  0  0  0\\n   -2.6646    6.6442   13.8715 N   0  0  0  0  0  0  0  0  0  0  0  0\\n   -3.6357    5.6907   13.3711 C   0  0  0  0  0  0  0  0  0  0  0  0\\n   -4.3905    6.2120   12.1474 C   0  0  0  0  0  0  0  0  0  0  0  0\\n   -3.4897    6.6742   10.9990 C   0  0  0  0  0  0  0  0  0  0  0  0\\n   -2.2064    2.6834    8.3191 C   0  0  0  0  0  0  0  0  0  0  0  0\\n   -1.1511    1.8709    7.9147 C   0  0  0  0  0  0  0  0  0  0  0  0\\n    0.1418    2.1345    8.3557 C   0  0  0  0  0  0  0  0  0  0  0  0\\n    0.3397   10.2243   15.3697 C   0  0  0  0  0  0  0  0  0  0  0  0\\n   -0.8008   10.4038   16.1504 C   0  0  0  0  0  0  0  0  0  0  0  0\\n   -1.9150    9.5853   15.9703 C   0  0  0  0  0  0  0  0  0  0  0  0\\n  1  2  1  0\\n  2  3  2  0\\n  2  4  1  0\\n  4 25  2  0\\n  5  4  1  0\\n  5  6  2  0\\n  6 27  1  0\\n  7  6  1  0\\n  7  8  2  0\\n  9  7  1  0\\n 10  9  1  0\\n 11 10  1  0\\n 12 13  1  0\\n 12 11  1  0\\n 13 14  1  0\\n 14 15  2  0\\n 14 16  1  0\\n 16 28  2  0\\n 17 18  2  0\\n 17 16  1  0\\n 18 30  1  0\\n 19 20  2  0\\n 19 18  1  0\\n 21 19  1  0\\n 22 21  1  0\\n 22 23  1  0\\n 23 24  1  0\\n 24  1  1  0\\n 25 26  1  0\\n 27 26  2  0\\n 28 29  1  0\\n 30 29  2  0\\nM  END\\n\",\"sdf\");\n",
       "\tviewer_14907060884125845.addModel(\"m7_crystal.xyz\\n     RDKit          3D\\n\\n 30 32  0  0  0  0  0  0  0  0999 V2000\\n   -2.8492    4.6130   11.4256 N   0  0  0  0  0  0  0  0  0  0  0  0\\n   -3.1418    3.5884   10.5410 C   0  0  0  0  0  0  0  0  0  0  0  0\\n   -4.2201    3.0135   10.4452 O   0  0  0  0  0  0  0  0  0  0  0  0\\n   -2.0049    3.2022    9.6702 C   0  0  0  0  0  0  0  0  0  0  0  0\\n   -0.9189    4.0033    9.7466 N   0  0  0  0  0  0  0  0  0  0  0  0\\n    0.1448    3.6831    8.9758 C   0  0  0  0  0  0  0  0  0  0  0  0\\n    1.3084    4.5965    9.0927 C   0  0  0  0  0  0  0  0  0  0  0  0\\n    2.3671    4.3328    8.5334 O   0  0  0  0  0  0  0  0  0  0  0  0\\n    1.0643    5.7163    9.8704 N   0  0  0  0  0  0  0  0  0  0  0  0\\n    2.0780    6.6941   10.2167 C   0  0  0  0  0  0  0  0  0  0  0  0\\n    2.8705    6.2563   11.4512 C   0  0  0  0  0  0  0  0  0  0  0  0\\n    3.1144    7.4010   12.4321 C   0  0  0  0  0  0  0  0  0  0  0  0\\n    1.8904    7.7672   13.1291 N   0  0  0  0  0  0  0  0  0  0  0  0\\n    1.8709    8.2327   14.4339 C   0  0  0  0  0  0  0  0  0  0  0  0\\n    2.8532    8.3450   15.1601 O   0  0  0  0  0  0  0  0  0  0  0  0\\n    0.5231    8.6038   14.9353 C   0  0  0  0  0  0  0  0  0  0  0  0\\n   -0.5010    8.4527   14.0622 N   0  0  0  0  0  0  0  0  0  0  0  0\\n   -1.7371    8.7858   14.5045 C   0  0  0  0  0  0  0  0  0  0  0  0\\n   -2.8455    8.6069   13.5353 C   0  0  0  0  0  0  0  0  0  0  0  0\\n   -3.9582    9.0619   13.7782 O   0  0  0  0  0  0  0  0  0  0  0  0\\n   -2.5033    7.8938   12.3992 N   0  0  0  0  0  0  0  0  0  0  0  0\\n   -3.4505    7.5532   11.3542 C   0  0  0  0  0  0  0  0  0  0  0  0\\n   -4.4503    6.4678   11.7652 C   0  0  0  0  0  0  0  0  0  0  0  0\\n   -3.8152    5.1996   12.3348 C   0  0  0  0  0  0  0  0  0  0  0  0\\n   -2.0799    2.0899    8.8451 C   0  0  0  0  0  0  0  0  0  0  0  0\\n   -0.9634    1.7844    8.0700 C   0  0  0  0  0  0  0  0  0  0  0  0\\n    0.1761    2.5843    8.1304 C   0  0  0  0  0  0  0  0  0  0  0  0\\n    0.3638    9.0659   16.2358 C   0  0  0  0  0  0  0  0  0  0  0  0\\n   -0.9217    9.3950   16.6555 C   0  0  0  0  0  0  0  0  0  0  0  0\\n   -1.9972    9.2611   15.7829 C   0  0  0  0  0  0  0  0  0  0  0  0\\n  1  2  1  0\\n  2  3  2  0\\n  2  4  1  0\\n  4 25  2  0\\n  5  4  1  0\\n  5  6  2  0\\n  6 27  1  0\\n  7  6  1  0\\n  7  8  2  0\\n  9  7  1  0\\n 10  9  1  0\\n 11 10  1  0\\n 12 13  1  0\\n 12 11  1  0\\n 13 14  1  0\\n 14 15  2  0\\n 14 16  1  0\\n 16 28  2  0\\n 17 18  2  0\\n 17 16  1  0\\n 18 30  1  0\\n 19 20  2  0\\n 19 18  1  0\\n 21 19  1  0\\n 22 21  1  0\\n 22 23  1  0\\n 23 24  1  0\\n 24  1  1  0\\n 25 26  1  0\\n 27 26  2  0\\n 28 29  1  0\\n 30 29  2  0\\nM  END\\n\",\"sdf\");\n",
       "\tviewer_14907060884125845.addModel(\"m7_crystal.xyz\\n     RDKit          3D\\n\\n 30 32  0  0  0  0  0  0  0  0999 V2000\\n   -3.3591    4.6935   10.4836 N   0  0  0  0  0  0  0  0  0  0  0  0\\n   -3.4120    3.4668    9.8465 C   0  0  0  0  0  0  0  0  0  0  0  0\\n   -4.4031    2.7513    9.7588 O   0  0  0  0  0  0  0  0  0  0  0  0\\n   -2.1180    3.0432    9.2532 C   0  0  0  0  0  0  0  0  0  0  0  0\\n   -1.0779    3.8841    9.4612 N   0  0  0  0  0  0  0  0  0  0  0  0\\n    0.1219    3.5244    8.9496 C   0  0  0  0  0  0  0  0  0  0  0  0\\n    1.2412    4.4630    9.2142 C   0  0  0  0  0  0  0  0  0  0  0  0\\n    2.3629    4.2308    8.7770 O   0  0  0  0  0  0  0  0  0  0  0  0\\n    0.8901    5.5633    9.9778 N   0  0  0  0  0  0  0  0  0  0  0  0\\n    1.8382    6.5641   10.4351 C   0  0  0  0  0  0  0  0  0  0  0  0\\n    2.6177    6.0820   11.6624 C   0  0  0  0  0  0  0  0  0  0  0  0\\n    3.0402    7.2273   12.5808 C   0  0  0  0  0  0  0  0  0  0  0  0\\n    1.9001    7.7435   13.3215 N   0  0  0  0  0  0  0  0  0  0  0  0\\n    2.0010    8.3901   14.5418 C   0  0  0  0  0  0  0  0  0  0  0  0\\n    3.0385    8.5751   15.1683 O   0  0  0  0  0  0  0  0  0  0  0  0\\n    0.7009    8.8636   15.0811 C   0  0  0  0  0  0  0  0  0  0  0  0\\n   -0.3793    8.6013   14.3093 N   0  0  0  0  0  0  0  0  0  0  0  0\\n   -1.5850    9.0059   14.7704 C   0  0  0  0  0  0  0  0  0  0  0  0\\n   -2.7443    8.6865   13.8999 C   0  0  0  0  0  0  0  0  0  0  0  0\\n   -3.8799    9.0052   14.2328 O   0  0  0  0  0  0  0  0  0  0  0  0\\n   -2.4068    8.0118   12.7393 N   0  0  0  0  0  0  0  0  0  0  0  0\\n   -3.3773    7.5124   11.7835 C   0  0  0  0  0  0  0  0  0  0  0  0\\n   -4.0371    6.2225   12.2781 C   0  0  0  0  0  0  0  0  0  0  0  0\\n   -4.4980    5.3213   11.1344 C   0  0  0  0  0  0  0  0  0  0  0  0\\n   -2.0113    1.8497    8.5548 C   0  0  0  0  0  0  0  0  0  0  0  0\\n   -0.7625    1.5134    8.0366 C   0  0  0  0  0  0  0  0  0  0  0  0\\n    0.3292    2.3570    8.2290 C   0  0  0  0  0  0  0  0  0  0  0  0\\n    0.6286    9.5157   16.3038 C   0  0  0  0  0  0  0  0  0  0  0  0\\n   -0.6299    9.9174   16.7496 C   0  0  0  0  0  0  0  0  0  0  0  0\\n   -1.7623    9.6656   15.9779 C   0  0  0  0  0  0  0  0  0  0  0  0\\n  1  2  1  0\\n  2  3  2  0\\n  2  4  1  0\\n  4 25  2  0\\n  5  4  1  0\\n  5  6  2  0\\n  6 27  1  0\\n  7  6  1  0\\n  7  8  2  0\\n  9  7  1  0\\n 10  9  1  0\\n 11 10  1  0\\n 12 13  1  0\\n 12 11  1  0\\n 13 14  1  0\\n 14 15  2  0\\n 14 16  1  0\\n 16 28  2  0\\n 17 18  2  0\\n 17 16  1  0\\n 18 30  1  0\\n 19 20  2  0\\n 19 18  1  0\\n 21 19  1  0\\n 22 21  1  0\\n 22 23  1  0\\n 23 24  1  0\\n 24  1  1  0\\n 25 26  1  0\\n 27 26  2  0\\n 28 29  1  0\\n 30 29  2  0\\nM  END\\n\",\"sdf\");\n",
       "\tviewer_14907060884125845.addModel(\"m7_crystal.xyz\\n     RDKit          3D\\n\\n 30 32  0  0  0  0  0  0  0  0999 V2000\\n   -2.6429    6.0457   10.0675 N   0  0  0  0  0  0  0  0  0  0  0  0\\n   -3.0449    4.8300    9.5431 C   0  0  0  0  0  0  0  0  0  0  0  0\\n   -4.1676    4.5729    9.1218 O   0  0  0  0  0  0  0  0  0  0  0  0\\n   -1.9872    3.7918    9.5392 C   0  0  0  0  0  0  0  0  0  0  0  0\\n   -0.7278    4.2308    9.7740 N   0  0  0  0  0  0  0  0  0  0  0  0\\n    0.2548    3.3013    9.7656 C   0  0  0  0  0  0  0  0  0  0  0  0\\n    1.6346    3.8110    9.9586 C   0  0  0  0  0  0  0  0  0  0  0  0\\n    2.5879    3.0454    9.8629 O   0  0  0  0  0  0  0  0  0  0  0  0\\n    1.7218    5.1711   10.2197 N   0  0  0  0  0  0  0  0  0  0  0  0\\n    2.9836    5.8903   10.1695 C   0  0  0  0  0  0  0  0  0  0  0  0\\n    3.1038    6.9522   11.2600 C   0  0  0  0  0  0  0  0  0  0  0  0\\n    2.1063    8.1040   11.1005 C   0  0  0  0  0  0  0  0  0  0  0  0\\n    1.1748    8.1741   12.2135 N   0  0  0  0  0  0  0  0  0  0  0  0\\n    1.5110    8.7620   13.4242 C   0  0  0  0  0  0  0  0  0  0  0  0\\n    2.5871    9.2972   13.6734 O   0  0  0  0  0  0  0  0  0  0  0  0\\n    0.4528    8.7083   14.4606 C   0  0  0  0  0  0  0  0  0  0  0  0\\n   -0.7231    8.1588   14.0803 N   0  0  0  0  0  0  0  0  0  0  0  0\\n   -1.7005    8.0966   15.0149 C   0  0  0  0  0  0  0  0  0  0  0  0\\n   -2.9720    7.4706   14.5807 C   0  0  0  0  0  0  0  0  0  0  0  0\\n   -3.8444    7.2159   15.4044 O   0  0  0  0  0  0  0  0  0  0  0  0\\n   -3.0486    7.2136   13.2215 N   0  0  0  0  0  0  0  0  0  0  0  0\\n   -4.1075    6.4170   12.6320 C   0  0  0  0  0  0  0  0  0  0  0  0\\n   -4.6046    6.9784   11.3010 C   0  0  0  0  0  0  0  0  0  0  0  0\\n   -3.5285    7.1823   10.2314 C   0  0  0  0  0  0  0  0  0  0  0  0\\n   -2.3112    2.4626    9.3031 C   0  0  0  0  0  0  0  0  0  0  0  0\\n   -1.2764    1.5326    9.3178 C   0  0  0  0  0  0  0  0  0  0  0  0\\n    0.0320    1.9472    9.5500 C   0  0  0  0  0  0  0  0  0  0  0  0\\n    0.6943    9.2033   15.7361 C   0  0  0  0  0  0  0  0  0  0  0  0\\n   -0.3344    9.1234   16.6702 C   0  0  0  0  0  0  0  0  0  0  0  0\\n   -1.5566    8.5614   16.3151 C   0  0  0  0  0  0  0  0  0  0  0  0\\n  1  2  1  0\\n  2  3  2  0\\n  2  4  1  0\\n  4 25  2  0\\n  5  4  1  0\\n  5  6  2  0\\n  6 27  1  0\\n  7  6  1  0\\n  7  8  2  0\\n  9  7  1  0\\n 10  9  1  0\\n 11 10  1  0\\n 12 13  1  0\\n 12 11  1  0\\n 13 14  1  0\\n 14 15  2  0\\n 14 16  1  0\\n 16 28  2  0\\n 17 18  2  0\\n 17 16  1  0\\n 18 30  1  0\\n 19 20  2  0\\n 19 18  1  0\\n 21 19  1  0\\n 22 21  1  0\\n 22 23  1  0\\n 23 24  1  0\\n 24  1  1  0\\n 25 26  1  0\\n 27 26  2  0\\n 28 29  1  0\\n 30 29  2  0\\nM  END\\n\",\"sdf\");\n",
       "\tviewer_14907060884125845.addModel(\"m7_crystal.xyz\\n     RDKit          3D\\n\\n 30 32  0  0  0  0  0  0  0  0999 V2000\\n   -3.1892    5.1003   10.8948 N   0  0  0  0  0  0  0  0  0  0  0  0\\n   -3.0883    3.7244   10.7676 C   0  0  0  0  0  0  0  0  0  0  0  0\\n   -3.9251    2.9110   11.1450 O   0  0  0  0  0  0  0  0  0  0  0  0\\n   -1.8381    3.2612   10.1215 C   0  0  0  0  0  0  0  0  0  0  0  0\\n   -0.8877    4.2060    9.9251 N   0  0  0  0  0  0  0  0  0  0  0  0\\n    0.2635    3.7966    9.3467 C   0  0  0  0  0  0  0  0  0  0  0  0\\n    1.3028    4.8330    9.1543 C   0  0  0  0  0  0  0  0  0  0  0  0\\n    2.2803    4.5956    8.4499 O   0  0  0  0  0  0  0  0  0  0  0  0\\n    1.0788    6.0229    9.8315 N   0  0  0  0  0  0  0  0  0  0  0  0\\n    2.0714    7.0845    9.8690 C   0  0  0  0  0  0  0  0  0  0  0  0\\n    3.1357    6.8231   10.9389 C   0  0  0  0  0  0  0  0  0  0  0  0\\n    3.0586    7.7630   12.1400 C   0  0  0  0  0  0  0  0  0  0  0  0\\n    1.8144    7.6552   12.8811 N   0  0  0  0  0  0  0  0  0  0  0  0\\n    1.7689    7.8276   14.2596 C   0  0  0  0  0  0  0  0  0  0  0  0\\n    2.7421    7.8327   15.0054 O   0  0  0  0  0  0  0  0  0  0  0  0\\n    0.4125    8.0542   14.8165 C   0  0  0  0  0  0  0  0  0  0  0  0\\n   -0.5816    8.2140   13.9130 N   0  0  0  0  0  0  0  0  0  0  0  0\\n   -1.8134    8.4965   14.4003 C   0  0  0  0  0  0  0  0  0  0  0  0\\n   -2.8908    8.6415   13.3920 C   0  0  0  0  0  0  0  0  0  0  0  0\\n   -3.9719    9.1277   13.7052 O   0  0  0  0  0  0  0  0  0  0  0  0\\n   -2.5585    8.1617   12.1373 N   0  0  0  0  0  0  0  0  0  0  0  0\\n   -3.4829    8.1168   11.0212 C   0  0  0  0  0  0  0  0  0  0  0  0\\n   -4.6205    7.1062   11.1933 C   0  0  0  0  0  0  0  0  0  0  0  0\\n   -4.2124    5.7264   11.7070 C   0  0  0  0  0  0  0  0  0  0  0  0\\n   -1.6892    1.9253    9.7731 C   0  0  0  0  0  0  0  0  0  0  0  0\\n   -0.4920    1.5427    9.1770 C   0  0  0  0  0  0  0  0  0  0  0  0\\n    0.5058    2.4862    8.9509 C   0  0  0  0  0  0  0  0  0  0  0  0\\n    0.2251    8.1427   16.1900 C   0  0  0  0  0  0  0  0  0  0  0  0\\n   -1.0545    8.4390   16.6532 C   0  0  0  0  0  0  0  0  0  0  0  0\\n   -2.0972    8.6338   15.7523 C   0  0  0  0  0  0  0  0  0  0  0  0\\n  1  2  1  0\\n  2  3  2  0\\n  2  4  1  0\\n  4 25  2  0\\n  5  4  1  0\\n  5  6  2  0\\n  6 27  1  0\\n  7  6  1  0\\n  7  8  2  0\\n  9  7  1  0\\n 10  9  1  0\\n 11 10  1  0\\n 12 13  1  0\\n 12 11  1  0\\n 13 14  1  0\\n 14 15  2  0\\n 14 16  1  0\\n 16 28  2  0\\n 17 18  2  0\\n 17 16  1  0\\n 18 30  1  0\\n 19 20  2  0\\n 19 18  1  0\\n 21 19  1  0\\n 22 21  1  0\\n 22 23  1  0\\n 23 24  1  0\\n 24  1  1  0\\n 25 26  1  0\\n 27 26  2  0\\n 28 29  1  0\\n 30 29  2  0\\nM  END\\n\",\"sdf\");\n",
       "\tviewer_14907060884125845.addModel(\"\\n     RDKit          3D\\n\\n 30 32  0  0  0  0  0  0  0  0999 V2000\\n   -2.3934    2.6948   -0.7476 N   0  0  0  0  0  0  0  0  0  0  0  0\\n   -3.7082    2.1578   -0.9891 C   0  0  0  0  0  0  0  0  0  0  0  0\\n   -4.5043    2.8390   -1.6909 O   0  0  0  0  0  0  0  0  0  0  0  0\\n   -4.1932    0.8778   -0.4064 C   0  0  0  0  0  0  0  0  0  0  0  0\\n   -3.3205   -0.0478    0.0797 N   0  0  0  0  0  0  0  0  0  0  0  0\\n   -3.7307   -1.1965    0.6847 C   0  0  0  0  0  0  0  0  0  0  0  0\\n   -2.7289   -2.1132    1.2515 C   0  0  0  0  0  0  0  0  0  0  0  0\\n   -3.0080   -2.8008    2.2702 O   0  0  0  0  0  0  0  0  0  0  0  0\\n   -1.4229   -2.2072    0.6779 N   0  0  0  0  0  0  0  0  0  0  0  0\\n   -1.2470   -2.6836   -0.6946 C   0  0  0  0  0  0  0  0  0  0  0  0\\n   -0.2380   -1.8370   -1.4912 C   0  0  0  0  0  0  0  0  0  0  0  0\\n    1.0148   -1.3947   -0.7155 C   0  0  0  0  0  0  0  0  0  0  0  0\\n    1.7541   -2.5272   -0.1640 N   0  0  0  0  0  0  0  0  0  0  0  0\\n    3.0358   -2.4072    0.4703 C   0  0  0  0  0  0  0  0  0  0  0  0\\n    3.4989   -3.4088    1.0802 O   0  0  0  0  0  0  0  0  0  0  0  0\\n    3.8872   -1.2016    0.3499 C   0  0  0  0  0  0  0  0  0  0  0  0\\n    3.3961    0.0548    0.5808 N   0  0  0  0  0  0  0  0  0  0  0  0\\n    4.1950    1.1650    0.5256 C   0  0  0  0  0  0  0  0  0  0  0  0\\n    3.6835    2.5269    0.8502 C   0  0  0  0  0  0  0  0  0  0  0  0\\n    4.5131    3.4033    1.2171 O   0  0  0  0  0  0  0  0  0  0  0  0\\n    2.3051    2.9199    0.7414 N   0  0  0  0  0  0  0  0  0  0  0  0\\n    1.2102    2.0409    0.3419 C   0  0  0  0  0  0  0  0  0  0  0  0\\n   -0.0472    2.8567    0.0103 C   0  0  0  0  0  0  0  0  0  0  0  0\\n   -1.2785    1.9566   -0.1501 C   0  0  0  0  0  0  0  0  0  0  0  0\\n    5.5593    1.0107    0.2210 C   0  0  0  0  0  0  0  0  0  0  0  0\\n    6.0789   -0.2576   -0.0148 C   0  0  0  0  0  0  0  0  0  0  0  0\\n    5.2482   -1.3693    0.0594 C   0  0  0  0  0  0  0  0  0  0  0  0\\n   -5.1008   -1.4588    0.8127 C   0  0  0  0  0  0  0  0  0  0  0  0\\n   -6.0207   -0.5488    0.2944 C   0  0  0  0  0  0  0  0  0  0  0  0\\n   -5.5729    0.6226   -0.3171 C   0  0  0  0  0  0  0  0  0  0  0  0\\n  1  2  1  0\\n  2  3  2  0\\n  2  4  1  0\\n  4  5  1  0\\n  5  6  2  0\\n  6  7  1  0\\n  7  8  2  0\\n  7  9  1  0\\n  9 10  1  0\\n 10 11  1  0\\n 11 12  1  0\\n 12 13  1  0\\n 13 14  1  0\\n 14 15  2  0\\n 14 16  1  0\\n 16 17  1  0\\n 17 18  2  0\\n 18 19  1  0\\n 19 20  2  0\\n 19 21  1  0\\n 21 22  1  0\\n 22 23  1  0\\n 23 24  1  0\\n 18 25  1  0\\n 25 26  2  0\\n 26 27  1  0\\n  6 28  1  0\\n 28 29  2  0\\n 29 30  1  0\\n 24  1  1  0\\n 30  4  2  0\\n 27 16  2  0\\nM  END\\n\",\"sdf\");\n",
       "\tviewer_14907060884125845.addModel(\"\\n     RDKit          3D\\n\\n 30 32  0  0  0  0  0  0  0  0999 V2000\\n    1.1967   -2.1261   -1.0065 N   0  0  0  0  0  0  0  0  0  0  0  0\\n    2.3547   -1.7181   -1.7495 C   0  0  0  0  0  0  0  0  0  0  0  0\\n    2.4368   -2.0397   -2.9658 O   0  0  0  0  0  0  0  0  0  0  0  0\\n    3.4486   -0.9294   -1.1421 C   0  0  0  0  0  0  0  0  0  0  0  0\\n    3.1809   -0.0065   -0.1747 N   0  0  0  0  0  0  0  0  0  0  0  0\\n    4.1486    0.7787    0.3790 C   0  0  0  0  0  0  0  0  0  0  0  0\\n    3.8228    1.7808    1.4304 C   0  0  0  0  0  0  0  0  0  0  0  0\\n    4.7588    2.2169    2.1544 O   0  0  0  0  0  0  0  0  0  0  0  0\\n    2.5010    2.3082    1.6499 N   0  0  0  0  0  0  0  0  0  0  0  0\\n    1.3061    1.9172    0.9012 C   0  0  0  0  0  0  0  0  0  0  0  0\\n    0.1197    2.8337    1.2421 C   0  0  0  0  0  0  0  0  0  0  0  0\\n   -1.2102    2.2906    0.7015 C   0  0  0  0  0  0  0  0  0  0  0  0\\n   -1.2215    2.2302   -0.7620 N   0  0  0  0  0  0  0  0  0  0  0  0\\n   -2.3919    1.8826   -1.5167 C   0  0  0  0  0  0  0  0  0  0  0  0\\n   -2.4981    2.3096   -2.6981 O   0  0  0  0  0  0  0  0  0  0  0  0\\n   -3.4731    1.0404   -0.9608 C   0  0  0  0  0  0  0  0  0  0  0  0\\n   -3.1848    0.0260   -0.0965 N   0  0  0  0  0  0  0  0  0  0  0  0\\n   -4.1413   -0.8082    0.4022 C   0  0  0  0  0  0  0  0  0  0  0  0\\n   -3.7926   -1.9108    1.3395 C   0  0  0  0  0  0  0  0  0  0  0  0\\n   -4.7116   -2.4167    2.0395 O   0  0  0  0  0  0  0  0  0  0  0  0\\n   -2.4674   -2.4588    1.4713 N   0  0  0  0  0  0  0  0  0  0  0  0\\n   -1.2899   -1.9918    0.7389 C   0  0  0  0  0  0  0  0  0  0  0  0\\n   -0.0966   -2.9365    0.9558 C   0  0  0  0  0  0  0  0  0  0  0  0\\n    1.2202   -2.3375    0.4429 C   0  0  0  0  0  0  0  0  0  0  0  0\\n   -5.4805   -0.6089    0.0248 C   0  0  0  0  0  0  0  0  0  0  0  0\\n   -5.8027    0.4146   -0.8651 C   0  0  0  0  0  0  0  0  0  0  0  0\\n   -4.7992    1.2383   -1.3702 C   0  0  0  0  0  0  0  0  0  0  0  0\\n    5.4778    0.6238   -0.0509 C   0  0  0  0  0  0  0  0  0  0  0  0\\n    5.7786   -0.3054   -1.0454 C   0  0  0  0  0  0  0  0  0  0  0  0\\n    4.7640   -1.0801   -1.6029 C   0  0  0  0  0  0  0  0  0  0  0  0\\n  1  2  1  0\\n  2  3  2  0\\n  2  4  1  0\\n  4  5  1  0\\n  5  6  2  0\\n  6  7  1  0\\n  7  8  2  0\\n  7  9  1  0\\n  9 10  1  0\\n 10 11  1  0\\n 11 12  1  0\\n 12 13  1  0\\n 13 14  1  0\\n 14 15  2  0\\n 14 16  1  0\\n 16 17  1  0\\n 17 18  2  0\\n 18 19  1  0\\n 19 20  2  0\\n 19 21  1  0\\n 21 22  1  0\\n 22 23  1  0\\n 23 24  1  0\\n 18 25  1  0\\n 25 26  2  0\\n 26 27  1  0\\n  6 28  1  0\\n 28 29  2  0\\n 29 30  1  0\\n 24  1  1  0\\n 30  4  2  0\\n 27 16  2  0\\nM  END\\n\",\"sdf\");\n",
       "\tviewer_14907060884125845.addModel(\"\\n     RDKit          3D\\n\\n 30 32  0  0  0  0  0  0  0  0999 V2000\\n    2.1706   -3.2750   -0.0242 N   0  0  0  0  0  0  0  0  0  0  0  0\\n    3.3590   -2.8513    0.6699 C   0  0  0  0  0  0  0  0  0  0  0  0\\n    4.1212   -3.7235    1.1666 O   0  0  0  0  0  0  0  0  0  0  0  0\\n    3.6794   -1.4173    0.8602 C   0  0  0  0  0  0  0  0  0  0  0  0\\n    3.3746   -0.5180   -0.1159 N   0  0  0  0  0  0  0  0  0  0  0  0\\n    3.5310    0.8221    0.0498 C   0  0  0  0  0  0  0  0  0  0  0  0\\n    3.1536    1.7314   -1.0427 C   0  0  0  0  0  0  0  0  0  0  0  0\\n    3.6910    1.5819   -2.1717 O   0  0  0  0  0  0  0  0  0  0  0  0\\n    2.1741    2.7663   -0.8626 N   0  0  0  0  0  0  0  0  0  0  0  0\\n    1.0946    2.6922    0.1251 C   0  0  0  0  0  0  0  0  0  0  0  0\\n    0.1296    1.5365   -0.1848 C   0  0  0  0  0  0  0  0  0  0  0  0\\n   -0.6314    1.7274   -1.5068 C   0  0  0  0  0  0  0  0  0  0  0  0\\n   -1.6183    2.8010   -1.4144 N   0  0  0  0  0  0  0  0  0  0  0  0\\n   -2.7603    2.8099   -0.5394 C   0  0  0  0  0  0  0  0  0  0  0  0\\n   -3.3121    3.9179   -0.2987 O   0  0  0  0  0  0  0  0  0  0  0  0\\n   -3.3258    1.5867    0.0894 C   0  0  0  0  0  0  0  0  0  0  0  0\\n   -3.2399    0.3668   -0.5206 N   0  0  0  0  0  0  0  0  0  0  0  0\\n   -3.8102   -0.7561    0.0124 C   0  0  0  0  0  0  0  0  0  0  0  0\\n   -3.7346   -2.0606   -0.6886 C   0  0  0  0  0  0  0  0  0  0  0  0\\n   -4.7537   -2.8025   -0.6931 O   0  0  0  0  0  0  0  0  0  0  0  0\\n   -2.5458   -2.5262   -1.3493 N   0  0  0  0  0  0  0  0  0  0  0  0\\n   -1.2204   -1.9451   -1.1581 C   0  0  0  0  0  0  0  0  0  0  0  0\\n   -0.1978   -3.0132   -0.7554 C   0  0  0  0  0  0  0  0  0  0  0  0\\n    1.1251   -2.3268   -0.4074 C   0  0  0  0  0  0  0  0  0  0  0  0\\n   -4.5287   -0.6597    1.2122 C   0  0  0  0  0  0  0  0  0  0  0  0\\n   -4.6300    0.5705    1.8561 C   0  0  0  0  0  0  0  0  0  0  0  0\\n   -4.0338    1.6983    1.2972 C   0  0  0  0  0  0  0  0  0  0  0  0\\n    4.0465    1.3141    1.2546 C   0  0  0  0  0  0  0  0  0  0  0  0\\n    4.4096    0.4137    2.2589 C   0  0  0  0  0  0  0  0  0  0  0  0\\n    4.2301   -0.9588    2.0659 C   0  0  0  0  0  0  0  0  0  0  0  0\\n  1  2  1  0\\n  2  3  2  0\\n  2  4  1  0\\n  4  5  1  0\\n  5  6  2  0\\n  6  7  1  0\\n  7  8  2  0\\n  7  9  1  0\\n  9 10  1  0\\n 10 11  1  0\\n 11 12  1  0\\n 12 13  1  0\\n 13 14  1  0\\n 14 15  2  0\\n 14 16  1  0\\n 16 17  1  0\\n 17 18  2  0\\n 18 19  1  0\\n 19 20  2  0\\n 19 21  1  0\\n 21 22  1  0\\n 22 23  1  0\\n 23 24  1  0\\n 18 25  1  0\\n 25 26  2  0\\n 26 27  1  0\\n  6 28  1  0\\n 28 29  2  0\\n 29 30  1  0\\n 24  1  1  0\\n 30  4  2  0\\n 27 16  2  0\\nM  END\\n\",\"sdf\");\n",
       "\tviewer_14907060884125845.addModel(\"\\n     RDKit          3D\\n\\n 30 32  0  0  0  0  0  0  0  0999 V2000\\n    2.4178    2.0167   -1.7714 N   0  0  0  0  0  0  0  0  0  0  0  0\\n    3.7589    1.9715   -1.2745 C   0  0  0  0  0  0  0  0  0  0  0  0\\n    4.6272    2.7340   -1.7782 O   0  0  0  0  0  0  0  0  0  0  0  0\\n    4.1469    1.0358   -0.2040 C   0  0  0  0  0  0  0  0  0  0  0  0\\n    3.6114   -0.2179   -0.1673 N   0  0  0  0  0  0  0  0  0  0  0  0\\n    3.9948   -1.1457    0.7563 C   0  0  0  0  0  0  0  0  0  0  0  0\\n    3.4846   -2.5351    0.6804 C   0  0  0  0  0  0  0  0  0  0  0  0\\n    4.1450   -3.4629    1.2216 O   0  0  0  0  0  0  0  0  0  0  0  0\\n    2.2867   -2.8741   -0.0313 N   0  0  0  0  0  0  0  0  0  0  0  0\\n    1.0966   -2.0238   -0.0119 C   0  0  0  0  0  0  0  0  0  0  0  0\\n   -0.1381   -2.8097   -0.4764 C   0  0  0  0  0  0  0  0  0  0  0  0\\n   -1.4183   -1.9912   -0.2872 C   0  0  0  0  0  0  0  0  0  0  0  0\\n   -2.5841   -2.6900   -0.8295 N   0  0  0  0  0  0  0  0  0  0  0  0\\n   -3.9366   -2.1968   -0.7603 C   0  0  0  0  0  0  0  0  0  0  0  0\\n   -4.8478   -2.8927   -1.2853 O   0  0  0  0  0  0  0  0  0  0  0  0\\n   -4.3123   -0.9269   -0.0786 C   0  0  0  0  0  0  0  0  0  0  0  0\\n   -3.3636   -0.0135    0.2673 N   0  0  0  0  0  0  0  0  0  0  0  0\\n   -3.6533    1.1384    0.9302 C   0  0  0  0  0  0  0  0  0  0  0  0\\n   -2.5572    2.0409    1.3297 C   0  0  0  0  0  0  0  0  0  0  0  0\\n   -2.7035    2.8018    2.3242 O   0  0  0  0  0  0  0  0  0  0  0  0\\n   -1.3073    2.0390    0.6296 N   0  0  0  0  0  0  0  0  0  0  0  0\\n   -1.2642    2.3647   -0.7976 C   0  0  0  0  0  0  0  0  0  0  0  0\\n   -0.0204    1.7920   -1.4962 C   0  0  0  0  0  0  0  0  0  0  0  0\\n    1.2993    2.2443   -0.8578 C   0  0  0  0  0  0  0  0  0  0  0  0\\n   -4.9830    1.4165    1.2752 C   0  0  0  0  0  0  0  0  0  0  0  0\\n   -5.9848    0.5160    0.9133 C   0  0  0  0  0  0  0  0  0  0  0  0\\n   -5.6559   -0.6589    0.2353 C   0  0  0  0  0  0  0  0  0  0  0  0\\n    4.9635   -0.8006    1.7132 C   0  0  0  0  0  0  0  0  0  0  0  0\\n    5.5205    0.4774    1.7004 C   0  0  0  0  0  0  0  0  0  0  0  0\\n    5.1254    1.3980    0.7318 C   0  0  0  0  0  0  0  0  0  0  0  0\\n  1  2  1  0\\n  2  3  2  0\\n  2  4  1  0\\n  4  5  1  0\\n  5  6  2  0\\n  6  7  1  0\\n  7  8  2  0\\n  7  9  1  0\\n  9 10  1  0\\n 10 11  1  0\\n 11 12  1  0\\n 12 13  1  0\\n 13 14  1  0\\n 14 15  2  0\\n 14 16  1  0\\n 16 17  1  0\\n 17 18  2  0\\n 18 19  1  0\\n 19 20  2  0\\n 19 21  1  0\\n 21 22  1  0\\n 22 23  1  0\\n 23 24  1  0\\n 18 25  1  0\\n 25 26  2  0\\n 26 27  1  0\\n  6 28  1  0\\n 28 29  2  0\\n 29 30  1  0\\n 24  1  1  0\\n 30  4  2  0\\n 27 16  2  0\\nM  END\\n\",\"sdf\");\n",
       "\tviewer_14907060884125845.addModel(\"\\n     RDKit          3D\\n\\n 30 32  0  0  0  0  0  0  0  0999 V2000\\n    2.5699    3.2071    1.3878 N   0  0  0  0  0  0  0  0  0  0  0  0\\n    3.7334    2.7452    0.6776 C   0  0  0  0  0  0  0  0  0  0  0  0\\n    4.6111    3.5862    0.3428 O   0  0  0  0  0  0  0  0  0  0  0  0\\n    3.9345    1.3201    0.3377 C   0  0  0  0  0  0  0  0  0  0  0  0\\n    3.3200    0.3555    1.0716 N   0  0  0  0  0  0  0  0  0  0  0  0\\n    3.4359   -0.9670    0.7846 C   0  0  0  0  0  0  0  0  0  0  0  0\\n    2.6849   -1.9381    1.5894 C   0  0  0  0  0  0  0  0  0  0  0  0\\n    2.9155   -2.0048    2.8290 O   0  0  0  0  0  0  0  0  0  0  0  0\\n    1.6439   -2.7484    1.0188 N   0  0  0  0  0  0  0  0  0  0  0  0\\n    1.2766   -2.6936   -0.3983 C   0  0  0  0  0  0  0  0  0  0  0  0\\n   -0.1194   -3.2834   -0.6330 C   0  0  0  0  0  0  0  0  0  0  0  0\\n   -1.2232   -2.3137   -0.1866 C   0  0  0  0  0  0  0  0  0  0  0  0\\n   -2.5389   -2.9508   -0.2729 N   0  0  0  0  0  0  0  0  0  0  0  0\\n   -3.7320   -2.3679    0.2742 C   0  0  0  0  0  0  0  0  0  0  0  0\\n   -4.5528   -3.1267    0.8580 O   0  0  0  0  0  0  0  0  0  0  0  0\\n   -4.0684   -0.9308    0.1075 C   0  0  0  0  0  0  0  0  0  0  0  0\\n   -3.2542   -0.1077   -0.6109 N   0  0  0  0  0  0  0  0  0  0  0  0\\n   -3.5744    1.1886   -0.8773 C   0  0  0  0  0  0  0  0  0  0  0  0\\n   -2.6753    2.0121   -1.7019 C   0  0  0  0  0  0  0  0  0  0  0  0\\n   -3.1606    2.7225   -2.6234 O   0  0  0  0  0  0  0  0  0  0  0  0\\n   -1.2598    2.0257   -1.4789 N   0  0  0  0  0  0  0  0  0  0  0  0\\n   -0.6927    1.8946   -0.1340 C   0  0  0  0  0  0  0  0  0  0  0  0\\n    0.7206    2.4905   -0.0847 C   0  0  0  0  0  0  0  0  0  0  0  0\\n    1.2549    2.5585    1.3487 C   0  0  0  0  0  0  0  0  0  0  0  0\\n   -4.7896    1.7098   -0.4178 C   0  0  0  0  0  0  0  0  0  0  0  0\\n   -5.6353    0.9007    0.3388 C   0  0  0  0  0  0  0  0  0  0  0  0\\n   -5.2802   -0.4222    0.6055 C   0  0  0  0  0  0  0  0  0  0  0  0\\n    4.2327   -1.3752   -0.2896 C   0  0  0  0  0  0  0  0  0  0  0  0\\n    4.8980   -0.4115   -1.0495 C   0  0  0  0  0  0  0  0  0  0  0  0\\n    4.7516    0.9429   -0.7403 C   0  0  0  0  0  0  0  0  0  0  0  0\\n  1  2  1  0\\n  2  3  2  0\\n  2  4  1  0\\n  4  5  1  0\\n  5  6  2  0\\n  6  7  1  0\\n  7  8  2  0\\n  7  9  1  0\\n  9 10  1  0\\n 10 11  1  0\\n 11 12  1  0\\n 12 13  1  0\\n 13 14  1  0\\n 14 15  2  0\\n 14 16  1  0\\n 16 17  1  0\\n 17 18  2  0\\n 18 19  1  0\\n 19 20  2  0\\n 19 21  1  0\\n 21 22  1  0\\n 22 23  1  0\\n 23 24  1  0\\n 18 25  1  0\\n 25 26  2  0\\n 26 27  1  0\\n  6 28  1  0\\n 28 29  2  0\\n 29 30  1  0\\n 24  1  1  0\\n 30  4  2  0\\n 27 16  2  0\\nM  END\\n\",\"sdf\");\n",
       "\tviewer_14907060884125845.setStyle({\"stick\": {\"radius\": \"0.15\"}});\n",
       "\tviewer_14907060884125845.setBackgroundColor(\"0xeeeeee\");\n",
       "\tviewer_14907060884125845.zoomTo();\n",
       "viewer_14907060884125845.render();\n",
       "});\n",
       "</script>"
      ],
      "text/plain": [
       "<IPython.core.display.HTML object>"
      ]
     },
     "execution_count": 124,
     "metadata": {},
     "output_type": "execute_result"
    }
   ],
   "source": [
    "p = py3Dmol.view(width=400,height=400)\n",
    "p.removeAllModels()\n",
    "allmol = allmol_m7_balloon[1:]+allmol_m7_rdkit[1:]\n",
    "\n",
    "m7b = Chem.MolToMolBlock(m7_crystal)\n",
    "\n",
    "for i, mol in enumerate(allmol):\n",
    "    AllChem.AlignMolConformers(mol,atomIds=core_m7)\n",
    "    mq = Chem.MolToMolBlock(mol)\n",
    "    p.addModel(mq,'sdf')\n",
    "p.setStyle({'stick':{'radius':'0.15'}})\n",
    "p.setBackgroundColor('0xeeeeee')\n",
    "p.zoomTo()\n",
    "p.show()"
   ]
  }
 ],
 "metadata": {
  "kernelspec": {
   "display_name": "Python 3",
   "language": "python",
   "name": "python3"
  },
  "language_info": {
   "codemirror_mode": {
    "name": "ipython",
    "version": 3
   },
   "file_extension": ".py",
   "mimetype": "text/x-python",
   "name": "python",
   "nbconvert_exporter": "python",
   "pygments_lexer": "ipython3",
   "version": "3.5.3"
  }
 },
 "nbformat": 4,
 "nbformat_minor": 2
}
