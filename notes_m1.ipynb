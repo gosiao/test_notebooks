{
 "cells": [
  {
   "cell_type": "markdown",
   "metadata": {
    "deletable": true,
    "editable": true
   },
   "source": [
    "# Exploring conformational space of selected macrocycles - notes\n",
    "\n",
    "In this notebook we present and analyze selected structures, technical notes are [here](www.gitlab.com/user/gosia/icho)."
   ]
  },
  {
   "cell_type": "code",
   "execution_count": 216,
   "metadata": {
    "collapsed": false,
    "deletable": true,
    "editable": true
   },
   "outputs": [
    {
     "data": {
      "text/html": [
       "<script>\n",
       "code_show=true; \n",
       "function code_toggle() {\n",
       " if (code_show){\n",
       " $('div.input').hide();\n",
       " } else {\n",
       " $('div.input').show();\n",
       " }\n",
       " code_show = !code_show\n",
       "}\n",
       "$( document ).ready(code_toggle);\n",
       "</script>\n",
       "<form action=\"javascript:code_toggle()\"><input type=\"submit\" value=\"Click here to toggle on/off the raw code.\"></form>"
      ],
      "text/plain": [
       "<IPython.core.display.HTML object>"
      ]
     },
     "execution_count": 216,
     "metadata": {},
     "output_type": "execute_result"
    }
   ],
   "source": [
    "from IPython.display import HTML\n",
    "\n",
    "HTML('''<script>\n",
    "code_show=true; \n",
    "function code_toggle() {\n",
    " if (code_show){\n",
    " $('div.input').hide();\n",
    " } else {\n",
    " $('div.input').show();\n",
    " }\n",
    " code_show = !code_show\n",
    "}\n",
    "$( document ).ready(code_toggle);\n",
    "</script>\n",
    "<form action=\"javascript:code_toggle()\"><input type=\"submit\" value=\"Click here to toggle on/off the raw code.\"></form>''')"
   ]
  },
  {
   "cell_type": "code",
   "execution_count": 217,
   "metadata": {
    "collapsed": false,
    "deletable": true,
    "editable": true
   },
   "outputs": [
    {
     "name": "stdout",
     "output_type": "stream",
     "text": [
      "2016.09.4\n",
      "Tue Mar 28 15:46:46 2017\n"
     ]
    }
   ],
   "source": [
    "import glob\n",
    "import py3Dmol\n",
    "\n",
    "from rdkit import Chem\n",
    "from rdkit.Chem import AllChem\n",
    "from rdkit.Chem import Draw\n",
    "from rdkit.Chem import rdMolAlign\n",
    "from rdkit import rdBase\n",
    "print(rdBase.rdkitVersion)\n",
    "import os,time\n",
    "print( time.asctime())"
   ]
  },
  {
   "cell_type": "code",
   "execution_count": 218,
   "metadata": {
    "collapsed": true,
    "deletable": true,
    "editable": true
   },
   "outputs": [],
   "source": [
    "# Functions used in this notebook:\n",
    "def grep_energies_from_sdf_outputs(files):\n",
    "    energies = []\n",
    "    for inp in files:\n",
    "        with open(inp,'r') as f:\n",
    "            lines = f.readlines()\n",
    "            for i, line in enumerate(lines):\n",
    "                if \"M  END\" in line:\n",
    "                    energies.append(float(lines[i+1]))\n",
    "    return energies"
   ]
  },
  {
   "cell_type": "markdown",
   "metadata": {
    "deletable": true,
    "editable": true
   },
   "source": [
    "## \"M1\" macrocycle"
   ]
  },
  {
   "cell_type": "markdown",
   "metadata": {
    "deletable": true,
    "editable": true
   },
   "source": [
    "The crystallographic structure of \"M1\" (shown below) was used as a starting geometry for generating various conformers."
   ]
  },
  {
   "cell_type": "code",
   "execution_count": 219,
   "metadata": {
    "collapsed": false,
    "deletable": true,
    "editable": true,
    "scrolled": false
   },
   "outputs": [
    {
     "data": {
      "text/html": [
       "<div id=\"3dmolviewer_14907088068069925\"  style=\"position: relative; width: 400px; height: 400px\">\n",
       "<script>\n",
       "if(typeof $3Dmolpromise === 'undefined') $3Dmolpromise = $.when($.getScript('http://3dmol.csb.pitt.edu/build/3Dmol.js'))\n",
       "var viewer_14907088068069925 = null;\n",
       "$3Dmolpromise.done(function() {\n",
       "viewer_14907088068069925 = $3Dmol.createViewer($(\"#3dmolviewer_14907088068069925\"),{backgroundColor:\"white\"});\n",
       "\tviewer_14907088068069925.removeAllModels();\n",
       "\tviewer_14907088068069925.addModel(\"46\\n\\nO          8.47386       14.40237       -0.01237\\nO         13.00994       15.03854        5.23003\\nO         15.44524       10.63976        3.45016\\nO         10.57273       10.02569       -1.57307\\nN          8.95748       12.65034        1.33093\\nH          9.35699       12.31014        2.21821\\nN         10.52494       14.24417        2.85275\\nN         12.10005       13.08069        4.69271\\nH         11.32970       12.58230        4.22609\\nN         13.21639       10.63465        3.76301\\nH         12.30841       10.45435        3.31406\\nN         12.74233       10.22131        1.21250\\nN         10.17322       10.17878        0.65044\\nH         10.60905       10.13116        1.58191\\nC          8.99762       13.94140        1.01101\\nC          9.77753       14.83272        1.90536\\nC         11.28382       15.03854        3.59156\\nC         12.18607       14.39726        4.57959\\nC         13.07493       12.32374        5.46334\\nH         14.01350       12.77111        5.32194\\nH         12.83217       12.43091        6.47965\\nC         13.20683       10.97825        5.20175\\nH         12.41354       10.46625        5.66307\\nH         14.09952       10.63635        5.63479\\nC         14.30597       10.53769        3.00475\\nC         14.03835       10.27574        1.55717\\nC         12.43648       10.04100       -0.07247\\nC         10.95121       10.06992       -0.39945\\nC          8.73574       10.35909        0.58151\\nH          8.35725        9.77735       -0.20680\\nH          8.30755       10.00528        1.47233\\nC          8.32667       11.73350        0.38355\\nH          7.28297       11.79814        0.48606\\nH          8.57326       12.02607       -0.59388\\nC          9.77179       16.19862        1.71448\\nH          9.17921       16.60176        1.01631\\nC         10.56890       16.99639        2.47450\\nH         10.58802       17.98637        2.33133\\nC         11.33926       16.41635        3.43425\\nH         11.93566       16.97258        4.01399\\nC         15.05529       10.14476        0.64160\\nH         16.01106       10.19069        0.92794\\nC         14.72650        9.94745       -0.66811\\nH         15.44524        9.83348       -1.35390\\nC         13.40372        9.90833       -1.04459\\nH         13.14757        9.78585       -2.00258\\n\",\"xyz\");\n",
       "\tviewer_14907088068069925.setStyle({\"stick\": {\"color\": \"spectrum\", \"radius\": 0.15}});\n",
       "\tviewer_14907088068069925.setBackgroundColor(\"0xeeeeee\");\n",
       "\tviewer_14907088068069925.zoomTo();\n",
       "viewer_14907088068069925.render();\n",
       "});\n",
       "</script>"
      ],
      "text/plain": [
       "<IPython.core.display.HTML object>"
      ]
     },
     "execution_count": 219,
     "metadata": {},
     "output_type": "execute_result"
    }
   ],
   "source": [
    "cm1 = open('/home/gosia/work/work_on_gitlab/icho/calcs/m1/m1_crystal.xyz','r').read()\n",
    "vcm1 = py3Dmol.view(width=400,height=400)\n",
    "vcm1.removeAllModels()\n",
    "vcm1.addModel(cm1,'xyz')\n",
    "vcm1.setStyle({'stick':{'radius':0.15,'color':'spectrum'}})\n",
    "vcm1.setBackgroundColor('0xeeeeee')\n",
    "vcm1.zoomTo()\n",
    "vcm1.show()"
   ]
  },
  {
   "cell_type": "markdown",
   "metadata": {
    "deletable": true,
    "editable": true
   },
   "source": [
    "We can also read it in in smiles and sdf formats (both will be used below):"
   ]
  },
  {
   "cell_type": "code",
   "execution_count": 220,
   "metadata": {
    "collapsed": true,
    "deletable": true,
    "editable": true
   },
   "outputs": [],
   "source": [
    "# decide what is the \"core\" - a part of molecule, which we wish to be most aligned (rmsd-wise) among all the structures\n",
    "# here: pyridine ring\n",
    "m1 = Chem.AddHs(Chem.MolFromSmiles('O=C1NCCNC(=O)c2nc(C(=O)NCCNC(=O)c3nc1ccc3)ccc2'))\n",
    "core_m1 = m1.GetSubstructMatch(Chem.MolFromSmiles('n1ccccc1'))"
   ]
  },
  {
   "cell_type": "code",
   "execution_count": 221,
   "metadata": {
    "collapsed": true,
    "deletable": true,
    "editable": true
   },
   "outputs": [],
   "source": [
    "templ_m1 = Chem.SDMolSupplier('/home/gosia/work/work_on_gitlab/icho/calcs/m1/balloon/m1_crystal.sdf')\n",
    "m1_crystal = templ_m1[0]"
   ]
  },
  {
   "cell_type": "markdown",
   "metadata": {
    "deletable": true,
    "editable": true
   },
   "source": [
    "### Conformers generated with the Balloon software:"
   ]
  },
  {
   "cell_type": "markdown",
   "metadata": {
    "deletable": true,
    "editable": true
   },
   "source": [
    "Description: [notes](link-to)"
   ]
  },
  {
   "cell_type": "code",
   "execution_count": 222,
   "metadata": {
    "collapsed": false,
    "deletable": true,
    "editable": true
   },
   "outputs": [],
   "source": [
    "inps_m1_balloon = glob.glob('/home/gosia/work/work_on_gitlab/icho/calcs/m1/balloon/results_crystal/*.sdf')"
   ]
  },
  {
   "cell_type": "code",
   "execution_count": 223,
   "metadata": {
    "collapsed": false,
    "deletable": true,
    "editable": true
   },
   "outputs": [],
   "source": [
    "e_m1_balloon = grep_energies_from_sdf_outputs(inps_m1_balloon)"
   ]
  },
  {
   "cell_type": "markdown",
   "metadata": {
    "deletable": true,
    "editable": true
   },
   "source": [
    "Conformers:"
   ]
  },
  {
   "cell_type": "code",
   "execution_count": 224,
   "metadata": {
    "collapsed": false,
    "deletable": true,
    "editable": true
   },
   "outputs": [
    {
     "data": {
      "text/html": [
       "<table>\n",
       "  <tr>\n",
       "    <td id=\"m1_b1\" ></td>\n",
       "    <td id=\"m1_b2\" ></td>\n",
       "    <td id=\"m1_b3\" ></td>   \n",
       "  </tr>\n",
       "  <tr>\n",
       "    <td> m1_b1, E = </td>\n",
       "    <td> m1_b2, E = </td>\n",
       "    <td> m1_b3, E = </td>   \n",
       "  </tr>\n",
       "  <tr>\n",
       "    <td id=\"m1_b4\" ></td>    \n",
       "    <td id=\"m1_b5\" ></td>\n",
       "    <td id=\"m1_b6\" ></td>   \n",
       "  </tr>\n",
       "  <tr>\n",
       "    <td> m1_b4, E = </td>\n",
       "    <td> m1_b5, E = </td>\n",
       "    <td> m1_b6, E = </td>   \n",
       "  </tr>\n",
       "</table>"
      ],
      "text/plain": [
       "<IPython.core.display.HTML object>"
      ]
     },
     "metadata": {},
     "output_type": "display_data"
    }
   ],
   "source": [
    "%%html\n",
    "<table>\n",
    "  <tr>\n",
    "    <td id=\"m1_b1\" ></td>\n",
    "    <td id=\"m1_b2\" ></td>\n",
    "    <td id=\"m1_b3\" ></td>   \n",
    "  </tr>\n",
    "  <tr>\n",
    "    <td> m1_b1, E = </td>\n",
    "    <td> m1_b2, E = </td>\n",
    "    <td> m1_b3, E = </td>   \n",
    "  </tr>\n",
    "  <tr>\n",
    "    <td id=\"m1_b4\" ></td>    \n",
    "    <td id=\"m1_b5\" ></td>\n",
    "    <td id=\"m1_b6\" ></td>   \n",
    "  </tr>\n",
    "  <tr>\n",
    "    <td> m1_b4, E = </td>\n",
    "    <td> m1_b5, E = </td>\n",
    "    <td> m1_b6, E = </td>   \n",
    "  </tr>\n",
    "</table>"
   ]
  },
  {
   "cell_type": "code",
   "execution_count": 225,
   "metadata": {
    "collapsed": true,
    "deletable": true,
    "editable": true
   },
   "outputs": [],
   "source": [
    "p1_b_handles=[]\n",
    "for inp in inps_m1_balloon:\n",
    "    f1_b = open(inp, 'r').read()\n",
    "    p1_b = py3Dmol.view(width=200,height=200)\n",
    "    p1_b.removeAllModels()\n",
    "    p1_b.addModel(f1_b,'sdf')\n",
    "    p1_b.setStyle({'stick':{}})\n",
    "    p1_b.setBackgroundColor('0xeeeeee')\n",
    "    p1_b.zoomTo()\n",
    "    p1_b_handles.append(p1_b)"
   ]
  },
  {
   "cell_type": "code",
   "execution_count": 226,
   "metadata": {
    "collapsed": false,
    "deletable": true,
    "editable": true
   },
   "outputs": [
    {
     "data": {
      "text/html": [
       "<div id=\"3dmolviewer_14907088071217165\"  style=\"position: relative; width: 200px; height: 200px\">\n",
       "<script>\n",
       "if(typeof $3Dmolpromise === 'undefined') $3Dmolpromise = $.when($.getScript('http://3dmol.csb.pitt.edu/build/3Dmol.js'))\n",
       "var viewer_14907088071217165 = null;\n",
       "$3Dmolpromise.done(function() {\n",
       "viewer_14907088071217165 = $3Dmol.createViewer($(\"#3dmolviewer_14907088071217165\"),{backgroundColor:\"white\"});\n",
       "\tviewer_14907088071217165.removeAllModels();\n",
       "\tviewer_14907088071217165.addModel(\"m1_crystal.xyz\\n  1228              3D\\n\\n 46 48  0  0  0  0  0  0  0  0999 V2000\\n   10.2977   13.6978   -1.6005 O   0  0  0  0  0  0  0  0  0  0  0  0\\n   15.6873   13.6073    2.8283 O   0  0  0  0  0  0  0  0  0  0  0  0\\n   13.5550    8.3683    5.1527 O   0  0  0  0  0  0  0  0  0  0  0  0\\n    9.1101    7.7832   -0.2158 O   0  0  0  0  0  0  0  0  0  0  0  0\\n   10.1517   12.7485    0.5133 N   0  0  0  0  0  0  0  0  0  0  0  0\\n   10.6415   12.5844    1.3882 H   0  0  0  0  0  0  0  0  0  0  0  0\\n   12.6896   13.4709    0.9704 N   0  0  0  0  0  0  0  0  0  0  0  0\\n   13.6879   12.4997    3.2194 N   0  0  0  0  0  0  0  0  0  0  0  0\\n   12.7960   12.2424    2.8039 H   0  0  0  0  0  0  0  0  0  0  0  0\\n   12.2941   10.1383    4.3467 N   0  0  0  0  0  0  0  0  0  0  0  0\\n   11.6218   10.4194    3.6388 H   0  0  0  0  0  0  0  0  0  0  0  0\\n   11.2312    8.5358    2.5056 N   0  0  0  0  0  0  0  0  0  0  0  0\\n    9.7158    9.8089    0.7422 N   0  0  0  0  0  0  0  0  0  0  0  0\\n   10.3682   10.2442    1.3874 H   0  0  0  0  0  0  0  0  0  0  0  0\\n   10.7775   13.4682   -0.4937 C   0  0  0  0  0  0  0  0  0  0  0  0\\n   12.1328   13.9703   -0.1566 C   0  0  0  0  0  0  0  0  0  0  0  0\\n   13.9393   13.8982    1.2755 C   0  0  0  0  0  0  0  0  0  0  0  0\\n   14.5362   13.3308    2.5093 C   0  0  0  0  0  0  0  0  0  0  0  0\\n   14.1040   11.7969    4.4206 C   0  0  0  0  0  0  0  0  0  0  0  0\\n   14.8274   11.0311    4.1198 H   0  0  0  0  0  0  0  0  0  0  0  0\\n   14.6215   12.5107    5.0708 H   0  0  0  0  0  0  0  0  0  0  0  0\\n   12.9112   11.1864    5.1425 C   0  0  0  0  0  0  0  0  0  0  0  0\\n   12.1430   11.9413    5.3400 H   0  0  0  0  0  0  0  0  0  0  0  0\\n   13.2310   10.7622    6.1003 H   0  0  0  0  0  0  0  0  0  0  0  0\\n   12.7048    8.8171    4.3917 C   0  0  0  0  0  0  0  0  0  0  0  0\\n   12.0261    7.9272    3.4177 C   0  0  0  0  0  0  0  0  0  0  0  0\\n   10.6030    7.7384    1.6075 C   0  0  0  0  0  0  0  0  0  0  0  0\\n    9.7348    8.4283    0.6200 C   0  0  0  0  0  0  0  0  0  0  0  0\\n    9.0366   10.6704   -0.2098 C   0  0  0  0  0  0  0  0  0  0  0  0\\n    9.6217   10.6619   -1.1361 H   0  0  0  0  0  0  0  0  0  0  0  0\\n    8.0572   10.2293   -0.4312 H   0  0  0  0  0  0  0  0  0  0  0  0\\n    8.8691   12.0868    0.3301 C   0  0  0  0  0  0  0  0  0  0  0  0\\n    8.3658   12.0796    1.3025 H   0  0  0  0  0  0  0  0  0  0  0  0\\n    8.2691   12.6796   -0.3688 H   0  0  0  0  0  0  0  0  0  0  0  0\\n   12.7669   14.8822   -0.9905 C   0  0  0  0  0  0  0  0  0  0  0  0\\n   12.2993   15.2671   -1.8898 H   0  0  0  0  0  0  0  0  0  0  0  0\\n   14.0455   15.3055   -0.6395 C   0  0  0  0  0  0  0  0  0  0  0  0\\n   14.5713   16.0233   -1.2625 H   0  0  0  0  0  0  0  0  0  0  0  0\\n   14.6542   14.8097    0.5086 C   0  0  0  0  0  0  0  0  0  0  0  0\\n   15.6509   15.1416    0.7780 H   0  0  0  0  0  0  0  0  0  0  0  0\\n   12.2255    6.5545    3.4685 C   0  0  0  0  0  0  0  0  0  0  0  0\\n   12.8683    6.0895    4.2081 H   0  0  0  0  0  0  0  0  0  0  0  0\\n   11.5631    5.7663    2.5310 C   0  0  0  0  0  0  0  0  0  0  0  0\\n   11.6880    4.6878    2.5454 H   0  0  0  0  0  0  0  0  0  0  0  0\\n   10.7353    6.3563    1.5807 C   0  0  0  0  0  0  0  0  0  0  0  0\\n   10.2182    5.7387    0.8542 H   0  0  0  0  0  0  0  0  0  0  0  0\\n  1 15  2  0  0  0  0\\n  4 28  2  0  0  0  0\\n  5  6  1  0  0  0  0\\n  7 17  2  0  0  0  0\\n  8 19  1  0  0  0  0\\n  9  8  1  0  0  0  0\\n 10 22  1  0  0  0  0\\n 11 10  1  0  0  0  0\\n 12 26  1  0  0  0  0\\n 13 14  1  0  0  0  0\\n 15  5  1  0  0  0  0\\n 15 16  1  0  0  0  0\\n 16  7  1  0  0  0  0\\n 17 18  1  0  0  0  0\\n 18  8  1  0  0  0  0\\n 18  2  2  0  0  0  0\\n 19 21  1  0  0  0  0\\n 20 19  1  0  0  0  0\\n 22 19  1  0  0  0  0\\n 22 24  1  0  0  0  0\\n 22 23  1  0  0  0  0\\n 25  3  2  0  0  0  0\\n 25 10  1  0  0  0  0\\n 26 25  1  0  0  0  0\\n 27 12  2  0  0  0  0\\n 28 27  1  0  0  0  0\\n 28 13  1  0  0  0  0\\n 29 13  1  0  0  0  0\\n 29 31  1  0  0  0  0\\n 30 29  1  0  0  0  0\\n 32 33  1  0  0  0  0\\n 32 29  1  0  0  0  0\\n 32  5  1  0  0  0  0\\n 34 32  1  0  0  0  0\\n 35 16  2  0  0  0  0\\n 35 37  1  0  0  0  0\\n 36 35  1  0  0  0  0\\n 37 39  2  0  0  0  0\\n 38 37  1  0  0  0  0\\n 39 17  1  0  0  0  0\\n 39 40  1  0  0  0  0\\n 41 42  1  0  0  0  0\\n 41 26  2  0  0  0  0\\n 43 41  1  0  0  0  0\\n 44 43  1  0  0  0  0\\n 45 43  2  0  0  0  0\\n 45 27  1  0  0  0  0\\n 46 45  1  0  0  0  0\\nM  END\\n53.24562081155721\\n\\n\",\"sdf\");\n",
       "\tviewer_14907088071217165.setStyle({\"stick\": {}});\n",
       "\tviewer_14907088071217165.setBackgroundColor(\"0xeeeeee\");\n",
       "\tviewer_14907088071217165.zoomTo();\n",
       "viewer_14907088071217165.render();\n",
       "});\n",
       "</script><script>$(\"#m1_b1\").append($(\"#3dmolviewer_14907088071217165\")); </script>"
      ],
      "text/plain": [
       "<IPython.core.display.HTML object>"
      ]
     },
     "execution_count": 226,
     "metadata": {},
     "output_type": "execute_result"
    }
   ],
   "source": [
    "p1_b_handles[0].insert('m1_b1')"
   ]
  },
  {
   "cell_type": "code",
   "execution_count": 227,
   "metadata": {
    "collapsed": false,
    "deletable": true,
    "editable": true
   },
   "outputs": [
    {
     "data": {
      "text/html": [
       "<div id=\"3dmolviewer_14907088071884167\"  style=\"position: relative; width: 200px; height: 200px\">\n",
       "<script>\n",
       "if(typeof $3Dmolpromise === 'undefined') $3Dmolpromise = $.when($.getScript('http://3dmol.csb.pitt.edu/build/3Dmol.js'))\n",
       "var viewer_14907088071884167 = null;\n",
       "$3Dmolpromise.done(function() {\n",
       "viewer_14907088071884167 = $3Dmol.createViewer($(\"#3dmolviewer_14907088071884167\"),{backgroundColor:\"white\"});\n",
       "\tviewer_14907088071884167.removeAllModels();\n",
       "\tviewer_14907088071884167.addModel(\"m1_crystal.xyz\\n  1228              3D\\n\\n 46 48  0  0  0  0  0  0  0  0999 V2000\\n   14.2015    8.1372    4.4696 O   0  0  0  0  0  0  0  0  0  0  0  0\\n    8.6424    8.2487    0.2593 O   0  0  0  0  0  0  0  0  0  0  0  0\\n   10.8554   13.2300   -2.0993 O   0  0  0  0  0  0  0  0  0  0  0  0\\n   15.0652   13.8922    3.4263 O   0  0  0  0  0  0  0  0  0  0  0  0\\n   12.8466    9.9949    4.1566 N   0  0  0  0  0  0  0  0  0  0  0  0\\n   12.0015   10.3337    3.7056 H   0  0  0  0  0  0  0  0  0  0  0  0\\n   11.2635    8.5981    2.5816 N   0  0  0  0  0  0  0  0  0  0  0  0\\n    9.3224   10.0640    1.5386 N   0  0  0  0  0  0  0  0  0  0  0  0\\n   10.0120   10.3893    2.2109 H   0  0  0  0  0  0  0  0  0  0  0  0\\n   10.3936   12.3752    0.0098 N   0  0  0  0  0  0  0  0  0  0  0  0\\n   10.7712   12.2401    0.9439 H   0  0  0  0  0  0  0  0  0  0  0  0\\n   12.6302   13.4062    0.9340 N   0  0  0  0  0  0  0  0  0  0  0  0\\n   12.9764   12.8791    3.4985 N   0  0  0  0  0  0  0  0  0  0  0  0\\n   12.1506   12.6462    2.9538 H   0  0  0  0  0  0  0  0  0  0  0  0\\n   13.2048    8.6678    3.9925 C   0  0  0  0  0  0  0  0  0  0  0  0\\n   12.2677    7.8892    3.1451 C   0  0  0  0  0  0  0  0  0  0  0  0\\n   10.4163    7.9265    1.7700 C   0  0  0  0  0  0  0  0  0  0  0  0\\n    9.3669    8.7449    1.1157 C   0  0  0  0  0  0  0  0  0  0  0  0\\n    8.5029   11.0678    0.8814 C   0  0  0  0  0  0  0  0  0  0  0  0\\n    7.5506   10.6082    0.5938 H   0  0  0  0  0  0  0  0  0  0  0  0\\n    8.3020   11.8560    1.6144 H   0  0  0  0  0  0  0  0  0  0  0  0\\n    9.2007   11.6320   -0.3510 C   0  0  0  0  0  0  0  0  0  0  0  0\\n    8.5342   12.3128   -0.8905 H   0  0  0  0  0  0  0  0  0  0  0  0\\n    9.5023   10.8377   -1.0437 H   0  0  0  0  0  0  0  0  0  0  0  0\\n   11.1401   13.0872   -0.9152 C   0  0  0  0  0  0  0  0  0  0  0  0\\n   12.3710   13.6967   -0.3606 C   0  0  0  0  0  0  0  0  0  0  0  0\\n   13.7461   13.9426    1.4761 C   0  0  0  0  0  0  0  0  0  0  0  0\\n   14.0069   13.5800    2.8917 C   0  0  0  0  0  0  0  0  0  0  0  0\\n   13.0512   12.3456    4.8484 C   0  0  0  0  0  0  0  0  0  0  0  0\\n   13.6412   13.0300    5.4674 H   0  0  0  0  0  0  0  0  0  0  0  0\\n   12.0266   12.3216    5.2337 H   0  0  0  0  0  0  0  0  0  0  0  0\\n   13.6676   10.9534    4.8741 C   0  0  0  0  0  0  0  0  0  0  0  0\\n   13.7660   10.5960    5.9058 H   0  0  0  0  0  0  0  0  0  0  0  0\\n   14.6660   10.9490    4.4210 H   0  0  0  0  0  0  0  0  0  0  0  0\\n   12.4577    6.5300    2.9411 C   0  0  0  0  0  0  0  0  0  0  0  0\\n   13.2736    5.9823    3.3996 H   0  0  0  0  0  0  0  0  0  0  0  0\\n   11.5602    5.8670    2.1082 C   0  0  0  0  0  0  0  0  0  0  0  0\\n   11.6804    4.8038    1.9196 H   0  0  0  0  0  0  0  0  0  0  0  0\\n   10.5191    6.5675    1.5041 C   0  0  0  0  0  0  0  0  0  0  0  0\\n    9.8307    6.0515    0.8435 H   0  0  0  0  0  0  0  0  0  0  0  0\\n   13.1791   14.5060   -1.1450 C   0  0  0  0  0  0  0  0  0  0  0  0\\n   12.9502   14.7219   -2.1823 H   0  0  0  0  0  0  0  0  0  0  0  0\\n   14.3153   15.0512   -0.5540 C   0  0  0  0  0  0  0  0  0  0  0  0\\n   14.9694   15.6944   -1.1364 H   0  0  0  0  0  0  0  0  0  0  0  0\\n   14.6156   14.7712    0.7786 C   0  0  0  0  0  0  0  0  0  0  0  0\\n   15.5027   15.1983    1.2347 H   0  0  0  0  0  0  0  0  0  0  0  0\\n  1 15  2  0  0  0  0\\n  4 28  2  0  0  0  0\\n  5  6  1  0  0  0  0\\n  7 17  2  0  0  0  0\\n  8 19  1  0  0  0  0\\n  9  8  1  0  0  0  0\\n 10 22  1  0  0  0  0\\n 11 10  1  0  0  0  0\\n 12 26  1  0  0  0  0\\n 13 14  1  0  0  0  0\\n 15  5  1  0  0  0  0\\n 15 16  1  0  0  0  0\\n 16  7  1  0  0  0  0\\n 17 18  1  0  0  0  0\\n 18  8  1  0  0  0  0\\n 18  2  2  0  0  0  0\\n 19 21  1  0  0  0  0\\n 20 19  1  0  0  0  0\\n 22 19  1  0  0  0  0\\n 22 24  1  0  0  0  0\\n 22 23  1  0  0  0  0\\n 25  3  2  0  0  0  0\\n 25 10  1  0  0  0  0\\n 26 25  1  0  0  0  0\\n 27 12  2  0  0  0  0\\n 28 27  1  0  0  0  0\\n 28 13  1  0  0  0  0\\n 29 13  1  0  0  0  0\\n 29 31  1  0  0  0  0\\n 30 29  1  0  0  0  0\\n 32 33  1  0  0  0  0\\n 32 29  1  0  0  0  0\\n 32  5  1  0  0  0  0\\n 34 32  1  0  0  0  0\\n 35 16  2  0  0  0  0\\n 35 37  1  0  0  0  0\\n 36 35  1  0  0  0  0\\n 37 39  2  0  0  0  0\\n 38 37  1  0  0  0  0\\n 39 17  1  0  0  0  0\\n 39 40  1  0  0  0  0\\n 41 42  1  0  0  0  0\\n 41 26  2  0  0  0  0\\n 43 41  1  0  0  0  0\\n 44 43  1  0  0  0  0\\n 45 43  2  0  0  0  0\\n 45 27  1  0  0  0  0\\n 46 45  1  0  0  0  0\\nM  END\\n53.583766420260538\\n\\n\",\"sdf\");\n",
       "\tviewer_14907088071884167.setStyle({\"stick\": {}});\n",
       "\tviewer_14907088071884167.setBackgroundColor(\"0xeeeeee\");\n",
       "\tviewer_14907088071884167.zoomTo();\n",
       "viewer_14907088071884167.render();\n",
       "});\n",
       "</script><script>$(\"#m1_b2\").append($(\"#3dmolviewer_14907088071884167\")); </script>"
      ],
      "text/plain": [
       "<IPython.core.display.HTML object>"
      ]
     },
     "execution_count": 227,
     "metadata": {},
     "output_type": "execute_result"
    }
   ],
   "source": [
    "p1_b_handles[1].insert('m1_b2')"
   ]
  },
  {
   "cell_type": "code",
   "execution_count": 228,
   "metadata": {
    "collapsed": false,
    "deletable": true,
    "editable": true
   },
   "outputs": [
    {
     "data": {
      "text/html": [
       "<div id=\"3dmolviewer_14907088072404847\"  style=\"position: relative; width: 200px; height: 200px\">\n",
       "<script>\n",
       "if(typeof $3Dmolpromise === 'undefined') $3Dmolpromise = $.when($.getScript('http://3dmol.csb.pitt.edu/build/3Dmol.js'))\n",
       "var viewer_14907088072404847 = null;\n",
       "$3Dmolpromise.done(function() {\n",
       "viewer_14907088072404847 = $3Dmol.createViewer($(\"#3dmolviewer_14907088072404847\"),{backgroundColor:\"white\"});\n",
       "\tviewer_14907088072404847.removeAllModels();\n",
       "\tviewer_14907088072404847.addModel(\"m1_crystal.xyz\\n  1228              3D\\n\\n 46 48  0  0  0  0  0  0  0  0999 V2000\\n   10.0102   13.0616   -1.2836 O   0  0  0  0  0  0  0  0  0  0  0  0\\n   15.4094   12.0885    2.9541 O   0  0  0  0  0  0  0  0  0  0  0  0\\n   13.6037    9.0308    5.0370 O   0  0  0  0  0  0  0  0  0  0  0  0\\n    9.9304    9.1105   -0.8428 O   0  0  0  0  0  0  0  0  0  0  0  0\\n    9.8479   12.6680    0.9973 N   0  0  0  0  0  0  0  0  0  0  0  0\\n   10.3906   12.4850    1.8372 H   0  0  0  0  0  0  0  0  0  0  0  0\\n   12.4752   12.8217    1.2298 N   0  0  0  0  0  0  0  0  0  0  0  0\\n   13.3602   12.8514    3.7528 N   0  0  0  0  0  0  0  0  0  0  0  0\\n   12.4879   13.2975    3.4866 H   0  0  0  0  0  0  0  0  0  0  0  0\\n   11.9192   10.5499    4.5452 N   0  0  0  0  0  0  0  0  0  0  0  0\\n   11.2323   10.8160    3.8442 H   0  0  0  0  0  0  0  0  0  0  0  0\\n   11.3094    9.1861    2.3618 N   0  0  0  0  0  0  0  0  0  0  0  0\\n    9.0603    9.9640    1.1387 N   0  0  0  0  0  0  0  0  0  0  0  0\\n    9.1565    9.9623    2.1493 H   0  0  0  0  0  0  0  0  0  0  0  0\\n   10.5297   12.9215   -0.1815 C   0  0  0  0  0  0  0  0  0  0  0  0\\n   12.0072   12.9806   -0.0290 C   0  0  0  0  0  0  0  0  0  0  0  0\\n   13.8202   12.8190    1.3918 C   0  0  0  0  0  0  0  0  0  0  0  0\\n   14.2908   12.5560    2.7689 C   0  0  0  0  0  0  0  0  0  0  0  0\\n   13.4797   12.3838    5.1257 C   0  0  0  0  0  0  0  0  0  0  0  0\\n   14.3933   11.7891    5.2254 H   0  0  0  0  0  0  0  0  0  0  0  0\\n   13.5738   13.2648    5.7704 H   0  0  0  0  0  0  0  0  0  0  0  0\\n   12.2619   11.5541    5.5385 C   0  0  0  0  0  0  0  0  0  0  0  0\\n   11.3839   12.1994    5.6509 H   0  0  0  0  0  0  0  0  0  0  0  0\\n   12.4541   11.0548    6.4937 H   0  0  0  0  0  0  0  0  0  0  0  0\\n   12.6962    9.4267    4.3137 C   0  0  0  0  0  0  0  0  0  0  0  0\\n   12.3885    8.7300    3.0415 C   0  0  0  0  0  0  0  0  0  0  0  0\\n   11.0705    8.6314    1.1517 C   0  0  0  0  0  0  0  0  0  0  0  0\\n    9.9648    9.2401    0.3771 C   0  0  0  0  0  0  0  0  0  0  0  0\\n    8.1379   10.9265    0.5556 C   0  0  0  0  0  0  0  0  0  0  0  0\\n    7.1211   10.6344    0.8383 H   0  0  0  0  0  0  0  0  0  0  0  0\\n    8.2075   10.8862   -0.5364 H   0  0  0  0  0  0  0  0  0  0  0  0\\n    8.4319   12.3433    1.0486 C   0  0  0  0  0  0  0  0  0  0  0  0\\n    8.1201   12.4517    2.0912 H   0  0  0  0  0  0  0  0  0  0  0  0\\n    7.8830   13.0720    0.4450 H   0  0  0  0  0  0  0  0  0  0  0  0\\n   12.8286   13.1498   -1.1359 C   0  0  0  0  0  0  0  0  0  0  0  0\\n   12.4337   13.2690   -2.1388 H   0  0  0  0  0  0  0  0  0  0  0  0\\n   14.2076   13.1510   -0.9304 C   0  0  0  0  0  0  0  0  0  0  0  0\\n   14.8805   13.2830   -1.7744 H   0  0  0  0  0  0  0  0  0  0  0  0\\n   14.7229   12.9744    0.3519 C   0  0  0  0  0  0  0  0  0  0  0  0\\n   15.7956   12.9605    0.5083 H   0  0  0  0  0  0  0  0  0  0  0  0\\n   13.2255    7.7260    2.5757 C   0  0  0  0  0  0  0  0  0  0  0  0\\n   14.0920    7.3909    3.1354 H   0  0  0  0  0  0  0  0  0  0  0  0\\n   12.9442    7.1744    1.3293 C   0  0  0  0  0  0  0  0  0  0  0  0\\n   13.5827    6.3980    0.9193 H   0  0  0  0  0  0  0  0  0  0  0  0\\n   11.8523    7.6311    0.5929 C   0  0  0  0  0  0  0  0  0  0  0  0\\n   11.6506    7.2145   -0.3881 H   0  0  0  0  0  0  0  0  0  0  0  0\\n  1 15  2  0  0  0  0\\n  4 28  2  0  0  0  0\\n  5  6  1  0  0  0  0\\n  7 17  2  0  0  0  0\\n  8 19  1  0  0  0  0\\n  9  8  1  0  0  0  0\\n 10 22  1  0  0  0  0\\n 11 10  1  0  0  0  0\\n 12 26  1  0  0  0  0\\n 13 14  1  0  0  0  0\\n 15  5  1  0  0  0  0\\n 15 16  1  0  0  0  0\\n 16  7  1  0  0  0  0\\n 17 18  1  0  0  0  0\\n 18  8  1  0  0  0  0\\n 18  2  2  0  0  0  0\\n 19 21  1  0  0  0  0\\n 20 19  1  0  0  0  0\\n 22 19  1  0  0  0  0\\n 22 24  1  0  0  0  0\\n 22 23  1  0  0  0  0\\n 25  3  2  0  0  0  0\\n 25 10  1  0  0  0  0\\n 26 25  1  0  0  0  0\\n 27 12  2  0  0  0  0\\n 28 27  1  0  0  0  0\\n 28 13  1  0  0  0  0\\n 29 13  1  0  0  0  0\\n 29 31  1  0  0  0  0\\n 30 29  1  0  0  0  0\\n 32 33  1  0  0  0  0\\n 32 29  1  0  0  0  0\\n 32  5  1  0  0  0  0\\n 34 32  1  0  0  0  0\\n 35 16  2  0  0  0  0\\n 35 37  1  0  0  0  0\\n 36 35  1  0  0  0  0\\n 37 39  2  0  0  0  0\\n 38 37  1  0  0  0  0\\n 39 17  1  0  0  0  0\\n 39 40  1  0  0  0  0\\n 41 42  1  0  0  0  0\\n 41 26  2  0  0  0  0\\n 43 41  1  0  0  0  0\\n 44 43  1  0  0  0  0\\n 45 43  2  0  0  0  0\\n 45 27  1  0  0  0  0\\n 46 45  1  0  0  0  0\\nM  END\\n57.760058296727799\\n\\n\",\"sdf\");\n",
       "\tviewer_14907088072404847.setStyle({\"stick\": {}});\n",
       "\tviewer_14907088072404847.setBackgroundColor(\"0xeeeeee\");\n",
       "\tviewer_14907088072404847.zoomTo();\n",
       "viewer_14907088072404847.render();\n",
       "});\n",
       "</script><script>$(\"#m1_b3\").append($(\"#3dmolviewer_14907088072404847\")); </script>"
      ],
      "text/plain": [
       "<IPython.core.display.HTML object>"
      ]
     },
     "execution_count": 228,
     "metadata": {},
     "output_type": "execute_result"
    }
   ],
   "source": [
    "p1_b_handles[2].insert('m1_b3')"
   ]
  },
  {
   "cell_type": "code",
   "execution_count": 229,
   "metadata": {
    "collapsed": false,
    "deletable": true,
    "editable": true
   },
   "outputs": [
    {
     "data": {
      "text/html": [
       "<div id=\"3dmolviewer_14907088073549788\"  style=\"position: relative; width: 200px; height: 200px\">\n",
       "<script>\n",
       "if(typeof $3Dmolpromise === 'undefined') $3Dmolpromise = $.when($.getScript('http://3dmol.csb.pitt.edu/build/3Dmol.js'))\n",
       "var viewer_14907088073549788 = null;\n",
       "$3Dmolpromise.done(function() {\n",
       "viewer_14907088073549788 = $3Dmol.createViewer($(\"#3dmolviewer_14907088073549788\"),{backgroundColor:\"white\"});\n",
       "\tviewer_14907088073549788.removeAllModels();\n",
       "\tviewer_14907088073549788.addModel(\"m1_crystal.xyz\\n  1228              3D\\n\\n 46 48  0  0  0  0  0  0  0  0999 V2000\\n   14.2533    9.3048    4.4040 O   0  0  0  0  0  0  0  0  0  0  0  0\\n    9.1026    8.9934   -0.3062 O   0  0  0  0  0  0  0  0  0  0  0  0\\n   10.4788   12.1630   -1.6393 O   0  0  0  0  0  0  0  0  0  0  0  0\\n   15.1746   12.5493    3.4069 O   0  0  0  0  0  0  0  0  0  0  0  0\\n   12.1842   10.3414    4.6065 N   0  0  0  0  0  0  0  0  0  0  0  0\\n   11.2930   10.4846    4.1402 H   0  0  0  0  0  0  0  0  0  0  0  0\\n   11.4027    9.2907    2.3426 N   0  0  0  0  0  0  0  0  0  0  0  0\\n    9.0700   10.2300    1.6627 N   0  0  0  0  0  0  0  0  0  0  0  0\\n    9.6155   10.4552    2.4895 H   0  0  0  0  0  0  0  0  0  0  0  0\\n    9.7932   12.6533    0.5231 N   0  0  0  0  0  0  0  0  0  0  0  0\\n   10.0878   12.9794    1.4389 H   0  0  0  0  0  0  0  0  0  0  0  0\\n   12.4082   12.7304    1.2383 N   0  0  0  0  0  0  0  0  0  0  0  0\\n   12.9237   12.8565    3.8769 N   0  0  0  0  0  0  0  0  0  0  0  0\\n   11.9986   12.9850    3.4778 H   0  0  0  0  0  0  0  0  0  0  0  0\\n   13.1166    9.5166    3.9982 C   0  0  0  0  0  0  0  0  0  0  0  0\\n   12.6306    8.8910    2.7419 C   0  0  0  0  0  0  0  0  0  0  0  0\\n   10.9231    8.7836    1.1831 C   0  0  0  0  0  0  0  0  0  0  0  0\\n    9.6025    9.3208    0.7633 C   0  0  0  0  0  0  0  0  0  0  0  0\\n    7.9931   11.1514    1.3485 C   0  0  0  0  0  0  0  0  0  0  0  0\\n    7.1395   10.5867    0.9593 H   0  0  0  0  0  0  0  0  0  0  0  0\\n    7.6928   11.6101    2.2970 H   0  0  0  0  0  0  0  0  0  0  0  0\\n    8.4077   12.2363    0.3555 C   0  0  0  0  0  0  0  0  0  0  0  0\\n    7.7751   13.1218    0.4756 H   0  0  0  0  0  0  0  0  0  0  0  0\\n    8.2626   11.8671   -0.6644 H   0  0  0  0  0  0  0  0  0  0  0  0\\n   10.7321   12.4962   -0.4848 C   0  0  0  0  0  0  0  0  0  0  0  0\\n   12.1410   12.7250   -0.0896 C   0  0  0  0  0  0  0  0  0  0  0  0\\n   13.7155   12.8212    1.5887 C   0  0  0  0  0  0  0  0  0  0  0  0\\n   14.0190   12.7359    3.0362 C   0  0  0  0  0  0  0  0  0  0  0  0\\n   13.0146   12.5961    5.3033 C   0  0  0  0  0  0  0  0  0  0  0  0\\n   14.0595   12.6887    5.6217 H   0  0  0  0  0  0  0  0  0  0  0  0\\n   12.4542   13.3863    5.8162 H   0  0  0  0  0  0  0  0  0  0  0  0\\n   12.4780   11.2224    5.7205 C   0  0  0  0  0  0  0  0  0  0  0  0\\n   11.5407   11.3436    6.2742 H   0  0  0  0  0  0  0  0  0  0  0  0\\n   13.1923   10.7304    6.3902 H   0  0  0  0  0  0  0  0  0  0  0  0\\n   13.4087    7.9921    2.0294 C   0  0  0  0  0  0  0  0  0  0  0  0\\n   14.3948    7.6878    2.3614 H   0  0  0  0  0  0  0  0  0  0  0  0\\n   12.8813    7.4787    0.8441 C   0  0  0  0  0  0  0  0  0  0  0  0\\n   13.4608    6.7714    0.2569 H   0  0  0  0  0  0  0  0  0  0  0  0\\n   11.6195    7.8760    0.4019 C   0  0  0  0  0  0  0  0  0  0  0  0\\n   11.2206    7.4842   -0.5268 H   0  0  0  0  0  0  0  0  0  0  0  0\\n   13.1139   12.8305   -1.0775 C   0  0  0  0  0  0  0  0  0  0  0  0\\n   12.8714   12.8168   -2.1350 H   0  0  0  0  0  0  0  0  0  0  0  0\\n   14.4402   12.9399   -0.6772 C   0  0  0  0  0  0  0  0  0  0  0  0\\n   15.2272   13.0167   -1.4211 H   0  0  0  0  0  0  0  0  0  0  0  0\\n   14.7580   12.9257    0.6756 C   0  0  0  0  0  0  0  0  0  0  0  0\\n   15.7954   12.9888    0.9841 H   0  0  0  0  0  0  0  0  0  0  0  0\\n  1 15  2  0  0  0  0\\n  4 28  2  0  0  0  0\\n  5  6  1  0  0  0  0\\n  7 17  2  0  0  0  0\\n  8 19  1  0  0  0  0\\n  9  8  1  0  0  0  0\\n 10 22  1  0  0  0  0\\n 11 10  1  0  0  0  0\\n 12 26  1  0  0  0  0\\n 13 14  1  0  0  0  0\\n 15  5  1  0  0  0  0\\n 15 16  1  0  0  0  0\\n 16  7  1  0  0  0  0\\n 17 18  1  0  0  0  0\\n 18  8  1  0  0  0  0\\n 18  2  2  0  0  0  0\\n 19 21  1  0  0  0  0\\n 20 19  1  0  0  0  0\\n 22 19  1  0  0  0  0\\n 22 24  1  0  0  0  0\\n 22 23  1  0  0  0  0\\n 25  3  2  0  0  0  0\\n 25 10  1  0  0  0  0\\n 26 25  1  0  0  0  0\\n 27 12  2  0  0  0  0\\n 28 27  1  0  0  0  0\\n 28 13  1  0  0  0  0\\n 29 13  1  0  0  0  0\\n 29 31  1  0  0  0  0\\n 30 29  1  0  0  0  0\\n 32 33  1  0  0  0  0\\n 32 29  1  0  0  0  0\\n 32  5  1  0  0  0  0\\n 34 32  1  0  0  0  0\\n 35 16  2  0  0  0  0\\n 35 37  1  0  0  0  0\\n 36 35  1  0  0  0  0\\n 37 39  2  0  0  0  0\\n 38 37  1  0  0  0  0\\n 39 17  1  0  0  0  0\\n 39 40  1  0  0  0  0\\n 41 42  1  0  0  0  0\\n 41 26  2  0  0  0  0\\n 43 41  1  0  0  0  0\\n 44 43  1  0  0  0  0\\n 45 43  2  0  0  0  0\\n 45 27  1  0  0  0  0\\n 46 45  1  0  0  0  0\\nM  END\\n62.424467712098782\\n\\n\",\"sdf\");\n",
       "\tviewer_14907088073549788.setStyle({\"stick\": {}});\n",
       "\tviewer_14907088073549788.setBackgroundColor(\"0xeeeeee\");\n",
       "\tviewer_14907088073549788.zoomTo();\n",
       "viewer_14907088073549788.render();\n",
       "});\n",
       "</script><script>$(\"#m1_b4\").append($(\"#3dmolviewer_14907088073549788\")); </script>"
      ],
      "text/plain": [
       "<IPython.core.display.HTML object>"
      ]
     },
     "execution_count": 229,
     "metadata": {},
     "output_type": "execute_result"
    }
   ],
   "source": [
    "p1_b_handles[3].insert('m1_b4')"
   ]
  },
  {
   "cell_type": "code",
   "execution_count": 230,
   "metadata": {
    "collapsed": false,
    "deletable": true,
    "editable": true
   },
   "outputs": [
    {
     "data": {
      "text/html": [
       "<div id=\"3dmolviewer_14907088074230454\"  style=\"position: relative; width: 200px; height: 200px\">\n",
       "<script>\n",
       "if(typeof $3Dmolpromise === 'undefined') $3Dmolpromise = $.when($.getScript('http://3dmol.csb.pitt.edu/build/3Dmol.js'))\n",
       "var viewer_14907088074230454 = null;\n",
       "$3Dmolpromise.done(function() {\n",
       "viewer_14907088074230454 = $3Dmol.createViewer($(\"#3dmolviewer_14907088074230454\"),{backgroundColor:\"white\"});\n",
       "\tviewer_14907088074230454.removeAllModels();\n",
       "\tviewer_14907088074230454.addModel(\"m1_crystal.xyz\\n  1228              3D\\n\\n 46 48  0  0  0  0  0  0  0  0999 V2000\\n   14.5610    8.8769    3.7473 O   0  0  0  0  0  0  0  0  0  0  0  0\\n    8.5237    8.4457    0.3409 O   0  0  0  0  0  0  0  0  0  0  0  0\\n   11.0002   12.3959   -1.9659 O   0  0  0  0  0  0  0  0  0  0  0  0\\n   14.8796   13.7478    3.6557 O   0  0  0  0  0  0  0  0  0  0  0  0\\n   12.7057   10.1399    4.3471 N   0  0  0  0  0  0  0  0  0  0  0  0\\n   11.6913   10.1747    4.2943 H   0  0  0  0  0  0  0  0  0  0  0  0\\n   11.3172    8.9224    2.4367 N   0  0  0  0  0  0  0  0  0  0  0  0\\n    9.1574   10.2279    1.6887 N   0  0  0  0  0  0  0  0  0  0  0  0\\n    9.8941   10.5706    2.2987 H   0  0  0  0  0  0  0  0  0  0  0  0\\n   10.1363   12.4764    0.1880 N   0  0  0  0  0  0  0  0  0  0  0  0\\n   10.2944   12.8409    1.1235 H   0  0  0  0  0  0  0  0  0  0  0  0\\n   12.5295   13.1372    1.1035 N   0  0  0  0  0  0  0  0  0  0  0  0\\n   12.7048   12.9423    3.7276 N   0  0  0  0  0  0  0  0  0  0  0  0\\n   11.9287   12.6387    3.1464 H   0  0  0  0  0  0  0  0  0  0  0  0\\n   13.3646    9.1294    3.6719 C   0  0  0  0  0  0  0  0  0  0  0  0\\n   12.4817    8.3276    2.7912 C   0  0  0  0  0  0  0  0  0  0  0  0\\n   10.5052    8.2355    1.5994 C   0  0  0  0  0  0  0  0  0  0  0  0\\n    9.2881    8.9582    1.1514 C   0  0  0  0  0  0  0  0  0  0  0  0\\n    8.2502   11.2283    1.1511 C   0  0  0  0  0  0  0  0  0  0  0  0\\n    7.2912   10.7542    0.9181 H   0  0  0  0  0  0  0  0  0  0  0  0\\n    8.0918   11.9677    1.9426 H   0  0  0  0  0  0  0  0  0  0  0  0\\n    8.8369   11.8871   -0.0933 C   0  0  0  0  0  0  0  0  0  0  0  0\\n    8.1861   12.6926   -0.4463 H   0  0  0  0  0  0  0  0  0  0  0  0\\n    8.9499   11.1581   -0.9050 H   0  0  0  0  0  0  0  0  0  0  0  0\\n   11.1180   12.6512   -0.7725 C   0  0  0  0  0  0  0  0  0  0  0  0\\n   12.4001   13.1758   -0.2422 C   0  0  0  0  0  0  0  0  0  0  0  0\\n   13.7035   13.5657    1.6247 C   0  0  0  0  0  0  0  0  0  0  0  0\\n   13.8306   13.4466    3.0985 C   0  0  0  0  0  0  0  0  0  0  0  0\\n   12.7087   12.4694    5.1036 C   0  0  0  0  0  0  0  0  0  0  0  0\\n   13.2338   13.1963    5.7307 H   0  0  0  0  0  0  0  0  0  0  0  0\\n   11.6604   12.4178    5.4232 H   0  0  0  0  0  0  0  0  0  0  0  0\\n   13.3670   11.0971    5.2147 C   0  0  0  0  0  0  0  0  0  0  0  0\\n   13.2849   10.7215    6.2397 H   0  0  0  0  0  0  0  0  0  0  0  0\\n   14.4288   11.1478    4.9525 H   0  0  0  0  0  0  0  0  0  0  0  0\\n   12.8719    7.0744    2.3484 C   0  0  0  0  0  0  0  0  0  0  0  0\\n   13.8173    6.6268    2.6396 H   0  0  0  0  0  0  0  0  0  0  0  0\\n   12.0019    6.3879    1.5078 C   0  0  0  0  0  0  0  0  0  0  0  0\\n   12.2691    5.4013    1.1447 H   0  0  0  0  0  0  0  0  0  0  0  0\\n   10.7958    6.9684    1.1169 C   0  0  0  0  0  0  0  0  0  0  0  0\\n   10.1308    6.4361    0.4458 H   0  0  0  0  0  0  0  0  0  0  0  0\\n   13.3989   13.6260   -1.0964 C   0  0  0  0  0  0  0  0  0  0  0  0\\n   13.2747   13.6382   -2.1744 H   0  0  0  0  0  0  0  0  0  0  0  0\\n   14.5897   14.0704   -0.5253 C   0  0  0  0  0  0  0  0  0  0  0  0\\n   15.3959   14.4298   -1.1575 H   0  0  0  0  0  0  0  0  0  0  0  0\\n   14.7581   14.0410    0.8567 C   0  0  0  0  0  0  0  0  0  0  0  0\\n   15.6926   14.3705    1.2984 H   0  0  0  0  0  0  0  0  0  0  0  0\\n  1 15  2  0  0  0  0\\n  4 28  2  0  0  0  0\\n  5  6  1  0  0  0  0\\n  7 17  2  0  0  0  0\\n  8 19  1  0  0  0  0\\n  9  8  1  0  0  0  0\\n 10 22  1  0  0  0  0\\n 11 10  1  0  0  0  0\\n 12 26  1  0  0  0  0\\n 13 14  1  0  0  0  0\\n 15  5  1  0  0  0  0\\n 15 16  1  0  0  0  0\\n 16  7  1  0  0  0  0\\n 17 18  1  0  0  0  0\\n 18  8  1  0  0  0  0\\n 18  2  2  0  0  0  0\\n 19 21  1  0  0  0  0\\n 20 19  1  0  0  0  0\\n 22 19  1  0  0  0  0\\n 22 24  1  0  0  0  0\\n 22 23  1  0  0  0  0\\n 25  3  2  0  0  0  0\\n 25 10  1  0  0  0  0\\n 26 25  1  0  0  0  0\\n 27 12  2  0  0  0  0\\n 28 27  1  0  0  0  0\\n 28 13  1  0  0  0  0\\n 29 13  1  0  0  0  0\\n 29 31  1  0  0  0  0\\n 30 29  1  0  0  0  0\\n 32 33  1  0  0  0  0\\n 32 29  1  0  0  0  0\\n 32  5  1  0  0  0  0\\n 34 32  1  0  0  0  0\\n 35 16  2  0  0  0  0\\n 35 37  1  0  0  0  0\\n 36 35  1  0  0  0  0\\n 37 39  2  0  0  0  0\\n 38 37  1  0  0  0  0\\n 39 17  1  0  0  0  0\\n 39 40  1  0  0  0  0\\n 41 42  1  0  0  0  0\\n 41 26  2  0  0  0  0\\n 43 41  1  0  0  0  0\\n 44 43  1  0  0  0  0\\n 45 43  2  0  0  0  0\\n 45 27  1  0  0  0  0\\n 46 45  1  0  0  0  0\\nM  END\\n55.441272951677462\\n\\n\",\"sdf\");\n",
       "\tviewer_14907088074230454.setStyle({\"stick\": {}});\n",
       "\tviewer_14907088074230454.setBackgroundColor(\"0xeeeeee\");\n",
       "\tviewer_14907088074230454.zoomTo();\n",
       "viewer_14907088074230454.render();\n",
       "});\n",
       "</script><script>$(\"#m1_b5\").append($(\"#3dmolviewer_14907088074230454\")); </script>"
      ],
      "text/plain": [
       "<IPython.core.display.HTML object>"
      ]
     },
     "execution_count": 230,
     "metadata": {},
     "output_type": "execute_result"
    }
   ],
   "source": [
    "p1_b_handles[4].insert('m1_b5')"
   ]
  },
  {
   "cell_type": "code",
   "execution_count": 231,
   "metadata": {
    "collapsed": false,
    "deletable": true,
    "editable": true
   },
   "outputs": [
    {
     "data": {
      "text/html": [
       "<div id=\"3dmolviewer_1490708807478586\"  style=\"position: relative; width: 200px; height: 200px\">\n",
       "<script>\n",
       "if(typeof $3Dmolpromise === 'undefined') $3Dmolpromise = $.when($.getScript('http://3dmol.csb.pitt.edu/build/3Dmol.js'))\n",
       "var viewer_1490708807478586 = null;\n",
       "$3Dmolpromise.done(function() {\n",
       "viewer_1490708807478586 = $3Dmol.createViewer($(\"#3dmolviewer_1490708807478586\"),{backgroundColor:\"white\"});\n",
       "\tviewer_1490708807478586.removeAllModels();\n",
       "\tviewer_1490708807478586.addModel(\"m1_crystal.xyz\\n  1228              3D\\n\\n 46 48  0  0  0  0  0  0  0  0999 V2000\\n   10.2518   13.9230   -1.5614 O   0  0  0  0  0  0  0  0  0  0  0  0\\n   15.1653   14.1186    3.3325 O   0  0  0  0  0  0  0  0  0  0  0  0\\n   13.6848    8.1247    5.0385 O   0  0  0  0  0  0  0  0  0  0  0  0\\n    8.8404    7.8481    0.0597 O   0  0  0  0  0  0  0  0  0  0  0  0\\n   11.1203   11.9791   -0.6367 N   0  0  0  0  0  0  0  0  0  0  0  0\\n   11.8387   11.5962   -0.0290 H   0  0  0  0  0  0  0  0  0  0  0  0\\n   12.8361   13.4699    0.7800 N   0  0  0  0  0  0  0  0  0  0  0  0\\n   14.3020   12.1081    2.5567 N   0  0  0  0  0  0  0  0  0  0  0  0\\n   13.6998   11.6759    1.8618 H   0  0  0  0  0  0  0  0  0  0  0  0\\n   12.7341   10.0377    4.1290 N   0  0  0  0  0  0  0  0  0  0  0  0\\n   12.0363   10.3895    3.4801 H   0  0  0  0  0  0  0  0  0  0  0  0\\n   11.1290    8.5018    2.6518 N   0  0  0  0  0  0  0  0  0  0  0  0\\n    9.6222    9.8580    0.9201 N   0  0  0  0  0  0  0  0  0  0  0  0\\n   10.2234   10.2831    1.6203 H   0  0  0  0  0  0  0  0  0  0  0  0\\n   11.0788   13.3453   -0.8626 C   0  0  0  0  0  0  0  0  0  0  0  0\\n   12.1413   14.1222   -0.1817 C   0  0  0  0  0  0  0  0  0  0  0  0\\n   13.7770   14.1859    1.4405 C   0  0  0  0  0  0  0  0  0  0  0  0\\n   14.4865   13.4808    2.5336 C   0  0  0  0  0  0  0  0  0  0  0  0\\n   14.7997   11.2675    3.6339 C   0  0  0  0  0  0  0  0  0  0  0  0\\n   15.6361   11.7768    4.1240 H   0  0  0  0  0  0  0  0  0  0  0  0\\n   15.1734   10.3429    3.1810 H   0  0  0  0  0  0  0  0  0  0  0  0\\n   13.7043   10.9836    4.6551 C   0  0  0  0  0  0  0  0  0  0  0  0\\n   13.1606   11.8955    4.9246 H   0  0  0  0  0  0  0  0  0  0  0  0\\n   14.1462   10.5632    5.5645 H   0  0  0  0  0  0  0  0  0  0  0  0\\n   12.8480    8.6701    4.3263 C   0  0  0  0  0  0  0  0  0  0  0  0\\n   11.8639    7.8498    3.5825 C   0  0  0  0  0  0  0  0  0  0  0  0\\n   10.2581    7.7576    1.9311 C   0  0  0  0  0  0  0  0  0  0  0  0\\n    9.5004    8.4777    0.8808 C   0  0  0  0  0  0  0  0  0  0  0  0\\n    9.0704   10.7265   -0.1076 C   0  0  0  0  0  0  0  0  0  0  0  0\\n    8.2240   10.2187   -0.5806 H   0  0  0  0  0  0  0  0  0  0  0  0\\n    8.7005   11.6281    0.3909 H   0  0  0  0  0  0  0  0  0  0  0  0\\n   10.1194   11.0635   -1.1609 C   0  0  0  0  0  0  0  0  0  0  0  0\\n    9.6350   11.5263   -2.0267 H   0  0  0  0  0  0  0  0  0  0  0  0\\n   10.6476   10.1659   -1.4995 H   0  0  0  0  0  0  0  0  0  0  0  0\\n   12.3570   15.4514   -0.5239 C   0  0  0  0  0  0  0  0  0  0  0  0\\n   11.7877   15.9499   -1.3008 H   0  0  0  0  0  0  0  0  0  0  0  0\\n   13.3440   16.1485    0.1657 C   0  0  0  0  0  0  0  0  0  0  0  0\\n   13.5448   17.1876   -0.0764 H   0  0  0  0  0  0  0  0  0  0  0  0\\n   14.0668   15.5178    1.1724 C   0  0  0  0  0  0  0  0  0  0  0  0\\n   14.8271   16.0669    1.7172 H   0  0  0  0  0  0  0  0  0  0  0  0\\n   11.7594    6.4874    3.8334 C   0  0  0  0  0  0  0  0  0  0  0  0\\n   12.3603    5.9878    4.5851 H   0  0  0  0  0  0  0  0  0  0  0  0\\n   10.8453    5.7567    3.0807 C   0  0  0  0  0  0  0  0  0  0  0  0\\n   10.7346    4.6886    3.2489 H   0  0  0  0  0  0  0  0  0  0  0  0\\n   10.0800    6.3909    2.1069 C   0  0  0  0  0  0  0  0  0  0  0  0\\n    9.3742    5.8165    1.5165 H   0  0  0  0  0  0  0  0  0  0  0  0\\n  1 15  2  0  0  0  0\\n  4 28  2  0  0  0  0\\n  5  6  1  0  0  0  0\\n  7 17  2  0  0  0  0\\n  8 19  1  0  0  0  0\\n  9  8  1  0  0  0  0\\n 10 22  1  0  0  0  0\\n 11 10  1  0  0  0  0\\n 12 26  1  0  0  0  0\\n 13 14  1  0  0  0  0\\n 15  5  1  0  0  0  0\\n 15 16  1  0  0  0  0\\n 16  7  1  0  0  0  0\\n 17 18  1  0  0  0  0\\n 18  8  1  0  0  0  0\\n 18  2  2  0  0  0  0\\n 19 21  1  0  0  0  0\\n 20 19  1  0  0  0  0\\n 22 19  1  0  0  0  0\\n 22 24  1  0  0  0  0\\n 22 23  1  0  0  0  0\\n 25  3  2  0  0  0  0\\n 25 10  1  0  0  0  0\\n 26 25  1  0  0  0  0\\n 27 12  2  0  0  0  0\\n 28 27  1  0  0  0  0\\n 28 13  1  0  0  0  0\\n 29 13  1  0  0  0  0\\n 29 31  1  0  0  0  0\\n 30 29  1  0  0  0  0\\n 32 33  1  0  0  0  0\\n 32 29  1  0  0  0  0\\n 32  5  1  0  0  0  0\\n 34 32  1  0  0  0  0\\n 35 16  2  0  0  0  0\\n 35 37  1  0  0  0  0\\n 36 35  1  0  0  0  0\\n 37 39  2  0  0  0  0\\n 38 37  1  0  0  0  0\\n 39 17  1  0  0  0  0\\n 39 40  1  0  0  0  0\\n 41 42  1  0  0  0  0\\n 41 26  2  0  0  0  0\\n 43 41  1  0  0  0  0\\n 44 43  1  0  0  0  0\\n 45 43  2  0  0  0  0\\n 45 27  1  0  0  0  0\\n 46 45  1  0  0  0  0\\nM  END\\n53.651385407754013\\n\\n\",\"sdf\");\n",
       "\tviewer_1490708807478586.setStyle({\"stick\": {}});\n",
       "\tviewer_1490708807478586.setBackgroundColor(\"0xeeeeee\");\n",
       "\tviewer_1490708807478586.zoomTo();\n",
       "viewer_1490708807478586.render();\n",
       "});\n",
       "</script><script>$(\"#m1_b6\").append($(\"#3dmolviewer_1490708807478586\")); </script>"
      ],
      "text/plain": [
       "<IPython.core.display.HTML object>"
      ]
     },
     "execution_count": 231,
     "metadata": {},
     "output_type": "execute_result"
    }
   ],
   "source": [
    "p1_b_handles[5].insert('m1_b6')"
   ]
  },
  {
   "cell_type": "markdown",
   "metadata": {
    "deletable": true,
    "editable": true
   },
   "source": [
    "We can now try to align all these structures (together with the crystal structure):"
   ]
  },
  {
   "cell_type": "code",
   "execution_count": 232,
   "metadata": {
    "collapsed": false,
    "deletable": true,
    "editable": true
   },
   "outputs": [],
   "source": [
    "# write conformers as a list\n",
    "allmol_m1_balloon = []\n",
    "suppl_m1_balloon = Chem.SDMolSupplier('/home/gosia/work/work_on_gitlab/icho/calcs/m1/balloon/m1_crystal_out.sdf')\n",
    "\n",
    "# add crystal structure to the list:\n",
    "allmol_m1_balloon.append(m1_crystal)\n",
    "for mol in suppl_m1_balloon:\n",
    "    allmol_m1_balloon.append(mol)"
   ]
  },
  {
   "cell_type": "code",
   "execution_count": 233,
   "metadata": {
    "collapsed": false,
    "deletable": true,
    "editable": true
   },
   "outputs": [],
   "source": [
    "# align:\n",
    "for mol in allmol_m1_balloon:\n",
    "    AllChem.AlignMolConformers(mol,atomIds=core_m1)"
   ]
  },
  {
   "cell_type": "code",
   "execution_count": 234,
   "metadata": {
    "collapsed": false,
    "deletable": true,
    "editable": true
   },
   "outputs": [
    {
     "data": {
      "text/html": [
       "<div id=\"3dmolviewer_14907088078194826\"  style=\"position: relative; width: 400px; height: 400px\">\n",
       "<script>\n",
       "if(typeof $3Dmolpromise === 'undefined') $3Dmolpromise = $.when($.getScript('http://3dmol.csb.pitt.edu/build/3Dmol.js'))\n",
       "var viewer_14907088078194826 = null;\n",
       "$3Dmolpromise.done(function() {\n",
       "viewer_14907088078194826 = $3Dmol.createViewer($(\"#3dmolviewer_14907088078194826\"),{backgroundColor:\"white\"});\n",
       "\tviewer_14907088078194826.removeAllModels();\n",
       "\tviewer_14907088078194826.addModel(\"m1_crystal.xyz\\n     RDKit          3D\\n\\n 28 30  0  0  0  0  0  0  0  0999 V2000\\n    8.4739   14.4024   -0.0124 O   0  0  0  0  0  0  0  0  0  0  0  0\\n   13.0099   15.0385    5.2300 O   0  0  0  0  0  0  0  0  0  0  0  0\\n   15.4452   10.6398    3.4502 O   0  0  0  0  0  0  0  0  0  0  0  0\\n   10.5727   10.0257   -1.5731 O   0  0  0  0  0  0  0  0  0  0  0  0\\n    8.9575   12.6503    1.3309 N   0  0  0  0  0  0  0  0  0  0  0  0\\n   10.5249   14.2442    2.8527 N   0  0  0  0  0  0  0  0  0  0  0  0\\n   12.1000   13.0807    4.6927 N   0  0  0  0  0  0  0  0  0  0  0  0\\n   13.2164   10.6347    3.7630 N   0  0  0  0  0  0  0  0  0  0  0  0\\n   12.7423   10.2213    1.2125 N   0  0  0  0  0  0  0  0  0  0  0  0\\n   10.1732   10.1788    0.6504 N   0  0  0  0  0  0  0  0  0  0  0  0\\n    8.9976   13.9414    1.0110 C   0  0  0  0  0  0  0  0  0  0  0  0\\n    9.7775   14.8327    1.9054 C   0  0  0  0  0  0  0  0  0  0  0  0\\n   11.2838   15.0385    3.5916 C   0  0  0  0  0  0  0  0  0  0  0  0\\n   12.1861   14.3973    4.5796 C   0  0  0  0  0  0  0  0  0  0  0  0\\n   13.0749   12.3237    5.4633 C   0  0  0  0  0  0  0  0  0  0  0  0\\n   13.2068   10.9782    5.2017 C   0  0  0  0  0  0  0  0  0  0  0  0\\n   14.3060   10.5377    3.0048 C   0  0  0  0  0  0  0  0  0  0  0  0\\n   14.0383   10.2757    1.5572 C   0  0  0  0  0  0  0  0  0  0  0  0\\n   12.4365   10.0410   -0.0725 C   0  0  0  0  0  0  0  0  0  0  0  0\\n   10.9512   10.0699   -0.3995 C   0  0  0  0  0  0  0  0  0  0  0  0\\n    8.7357   10.3591    0.5815 C   0  0  0  0  0  0  0  0  0  0  0  0\\n    8.3267   11.7335    0.3836 C   0  0  0  0  0  0  0  0  0  0  0  0\\n    9.7718   16.1986    1.7145 C   0  0  0  0  0  0  0  0  0  0  0  0\\n   10.5689   16.9964    2.4745 C   0  0  0  0  0  0  0  0  0  0  0  0\\n   11.3393   16.4164    3.4343 C   0  0  0  0  0  0  0  0  0  0  0  0\\n   15.0553   10.1448    0.6416 C   0  0  0  0  0  0  0  0  0  0  0  0\\n   14.7265    9.9474   -0.6681 C   0  0  0  0  0  0  0  0  0  0  0  0\\n   13.4037    9.9083   -1.0446 C   0  0  0  0  0  0  0  0  0  0  0  0\\n  1 11  2  0\\n  4 20  2  0\\n  6 13  2  0\\n  7 15  1  0\\n  8 16  1  0\\n  9 18  1  0\\n 11  5  1  0\\n 11 12  1  0\\n 12  6  1  0\\n 13 14  1  0\\n 14  7  1  0\\n 14  2  2  0\\n 16 15  1  0\\n 17  3  2  0\\n 17  8  1  0\\n 18 17  1  0\\n 19  9  2  0\\n 20 19  1  0\\n 20 10  1  0\\n 21 10  1  0\\n 22 21  1  0\\n 22  5  1  0\\n 23 12  2  0\\n 23 24  1  0\\n 24 25  2  0\\n 25 13  1  0\\n 26 18  2  0\\n 27 26  1  0\\n 28 27  2  0\\n 28 19  1  0\\nM  END\\n\",\"sdf\");\n",
       "\tviewer_14907088078194826.addModel(\"m1_crystal.xyz\\n     RDKit          3D\\n\\n 28 30  0  0  0  0  0  0  0  0999 V2000\\n   10.2977   13.6978   -1.6005 O   0  0  0  0  0  0  0  0  0  0  0  0\\n   15.6873   13.6073    2.8283 O   0  0  0  0  0  0  0  0  0  0  0  0\\n   13.5550    8.3683    5.1527 O   0  0  0  0  0  0  0  0  0  0  0  0\\n    9.1101    7.7832   -0.2158 O   0  0  0  0  0  0  0  0  0  0  0  0\\n   10.1517   12.7485    0.5133 N   0  0  0  0  0  0  0  0  0  0  0  0\\n   12.6896   13.4709    0.9704 N   0  0  0  0  0  0  0  0  0  0  0  0\\n   13.6879   12.4997    3.2194 N   0  0  0  0  0  0  0  0  0  0  0  0\\n   12.2941   10.1383    4.3467 N   0  0  0  0  0  0  0  0  0  0  0  0\\n   11.2312    8.5358    2.5056 N   0  0  0  0  0  0  0  0  0  0  0  0\\n    9.7158    9.8089    0.7422 N   0  0  0  0  0  0  0  0  0  0  0  0\\n   10.7775   13.4682   -0.4937 C   0  0  0  0  0  0  0  0  0  0  0  0\\n   12.1328   13.9703   -0.1566 C   0  0  0  0  0  0  0  0  0  0  0  0\\n   13.9393   13.8982    1.2755 C   0  0  0  0  0  0  0  0  0  0  0  0\\n   14.5362   13.3308    2.5093 C   0  0  0  0  0  0  0  0  0  0  0  0\\n   14.1040   11.7969    4.4206 C   0  0  0  0  0  0  0  0  0  0  0  0\\n   12.9112   11.1864    5.1425 C   0  0  0  0  0  0  0  0  0  0  0  0\\n   12.7048    8.8171    4.3917 C   0  0  0  0  0  0  0  0  0  0  0  0\\n   12.0261    7.9272    3.4177 C   0  0  0  0  0  0  0  0  0  0  0  0\\n   10.6030    7.7384    1.6075 C   0  0  0  0  0  0  0  0  0  0  0  0\\n    9.7348    8.4283    0.6200 C   0  0  0  0  0  0  0  0  0  0  0  0\\n    9.0366   10.6704   -0.2098 C   0  0  0  0  0  0  0  0  0  0  0  0\\n    8.8691   12.0868    0.3301 C   0  0  0  0  0  0  0  0  0  0  0  0\\n   12.7669   14.8822   -0.9905 C   0  0  0  0  0  0  0  0  0  0  0  0\\n   14.0455   15.3055   -0.6395 C   0  0  0  0  0  0  0  0  0  0  0  0\\n   14.6542   14.8097    0.5086 C   0  0  0  0  0  0  0  0  0  0  0  0\\n   12.2255    6.5545    3.4685 C   0  0  0  0  0  0  0  0  0  0  0  0\\n   11.5631    5.7663    2.5310 C   0  0  0  0  0  0  0  0  0  0  0  0\\n   10.7353    6.3563    1.5807 C   0  0  0  0  0  0  0  0  0  0  0  0\\n  1 11  2  0\\n  4 20  2  0\\n  6 13  2  0\\n  7 15  1  0\\n  8 16  1  0\\n  9 18  1  0\\n 11  5  1  0\\n 11 12  1  0\\n 12  6  1  0\\n 13 14  1  0\\n 14  7  1  0\\n 14  2  2  0\\n 16 15  1  0\\n 17  3  2  0\\n 17  8  1  0\\n 18 17  1  0\\n 19  9  2  0\\n 20 19  1  0\\n 20 10  1  0\\n 21 10  1  0\\n 22 21  1  0\\n 22  5  1  0\\n 23 12  2  0\\n 23 24  1  0\\n 24 25  2  0\\n 25 13  1  0\\n 26 18  2  0\\n 27 26  1  0\\n 28 27  2  0\\n 28 19  1  0\\nM  END\\n\",\"sdf\");\n",
       "\tviewer_14907088078194826.addModel(\"m1_crystal.xyz\\n     RDKit          3D\\n\\n 28 30  0  0  0  0  0  0  0  0999 V2000\\n   14.2015    8.1372    4.4696 O   0  0  0  0  0  0  0  0  0  0  0  0\\n    8.6424    8.2487    0.2593 O   0  0  0  0  0  0  0  0  0  0  0  0\\n   10.8554   13.2300   -2.0993 O   0  0  0  0  0  0  0  0  0  0  0  0\\n   15.0652   13.8922    3.4263 O   0  0  0  0  0  0  0  0  0  0  0  0\\n   12.8466    9.9949    4.1566 N   0  0  0  0  0  0  0  0  0  0  0  0\\n   11.2635    8.5981    2.5816 N   0  0  0  0  0  0  0  0  0  0  0  0\\n    9.3224   10.0640    1.5386 N   0  0  0  0  0  0  0  0  0  0  0  0\\n   10.3936   12.3752    0.0098 N   0  0  0  0  0  0  0  0  0  0  0  0\\n   12.6302   13.4062    0.9340 N   0  0  0  0  0  0  0  0  0  0  0  0\\n   12.9764   12.8791    3.4985 N   0  0  0  0  0  0  0  0  0  0  0  0\\n   13.2048    8.6678    3.9925 C   0  0  0  0  0  0  0  0  0  0  0  0\\n   12.2677    7.8892    3.1451 C   0  0  0  0  0  0  0  0  0  0  0  0\\n   10.4163    7.9265    1.7700 C   0  0  0  0  0  0  0  0  0  0  0  0\\n    9.3669    8.7449    1.1157 C   0  0  0  0  0  0  0  0  0  0  0  0\\n    8.5029   11.0678    0.8814 C   0  0  0  0  0  0  0  0  0  0  0  0\\n    9.2007   11.6320   -0.3510 C   0  0  0  0  0  0  0  0  0  0  0  0\\n   11.1401   13.0872   -0.9152 C   0  0  0  0  0  0  0  0  0  0  0  0\\n   12.3710   13.6967   -0.3606 C   0  0  0  0  0  0  0  0  0  0  0  0\\n   13.7461   13.9426    1.4761 C   0  0  0  0  0  0  0  0  0  0  0  0\\n   14.0069   13.5800    2.8917 C   0  0  0  0  0  0  0  0  0  0  0  0\\n   13.0512   12.3456    4.8484 C   0  0  0  0  0  0  0  0  0  0  0  0\\n   13.6676   10.9534    4.8741 C   0  0  0  0  0  0  0  0  0  0  0  0\\n   12.4577    6.5300    2.9411 C   0  0  0  0  0  0  0  0  0  0  0  0\\n   11.5602    5.8670    2.1082 C   0  0  0  0  0  0  0  0  0  0  0  0\\n   10.5191    6.5675    1.5041 C   0  0  0  0  0  0  0  0  0  0  0  0\\n   13.1791   14.5060   -1.1450 C   0  0  0  0  0  0  0  0  0  0  0  0\\n   14.3153   15.0512   -0.5540 C   0  0  0  0  0  0  0  0  0  0  0  0\\n   14.6156   14.7712    0.7786 C   0  0  0  0  0  0  0  0  0  0  0  0\\n  1 11  2  0\\n  4 20  2  0\\n  6 13  2  0\\n  7 15  1  0\\n  8 16  1  0\\n  9 18  1  0\\n 11  5  1  0\\n 11 12  1  0\\n 12  6  1  0\\n 13 14  1  0\\n 14  7  1  0\\n 14  2  2  0\\n 16 15  1  0\\n 17  3  2  0\\n 17  8  1  0\\n 18 17  1  0\\n 19  9  2  0\\n 20 19  1  0\\n 20 10  1  0\\n 21 10  1  0\\n 22 21  1  0\\n 22  5  1  0\\n 23 12  2  0\\n 23 24  1  0\\n 24 25  2  0\\n 25 13  1  0\\n 26 18  2  0\\n 27 26  1  0\\n 28 27  2  0\\n 28 19  1  0\\nM  END\\n\",\"sdf\");\n",
       "\tviewer_14907088078194826.addModel(\"m1_crystal.xyz\\n     RDKit          3D\\n\\n 28 30  0  0  0  0  0  0  0  0999 V2000\\n   10.2518   13.9230   -1.5614 O   0  0  0  0  0  0  0  0  0  0  0  0\\n   15.1653   14.1186    3.3325 O   0  0  0  0  0  0  0  0  0  0  0  0\\n   13.6848    8.1247    5.0385 O   0  0  0  0  0  0  0  0  0  0  0  0\\n    8.8404    7.8481    0.0597 O   0  0  0  0  0  0  0  0  0  0  0  0\\n   11.1203   11.9791   -0.6367 N   0  0  0  0  0  0  0  0  0  0  0  0\\n   12.8361   13.4699    0.7800 N   0  0  0  0  0  0  0  0  0  0  0  0\\n   14.3020   12.1081    2.5567 N   0  0  0  0  0  0  0  0  0  0  0  0\\n   12.7341   10.0377    4.1290 N   0  0  0  0  0  0  0  0  0  0  0  0\\n   11.1290    8.5018    2.6518 N   0  0  0  0  0  0  0  0  0  0  0  0\\n    9.6222    9.8580    0.9201 N   0  0  0  0  0  0  0  0  0  0  0  0\\n   11.0788   13.3453   -0.8626 C   0  0  0  0  0  0  0  0  0  0  0  0\\n   12.1413   14.1222   -0.1817 C   0  0  0  0  0  0  0  0  0  0  0  0\\n   13.7770   14.1859    1.4405 C   0  0  0  0  0  0  0  0  0  0  0  0\\n   14.4865   13.4808    2.5336 C   0  0  0  0  0  0  0  0  0  0  0  0\\n   14.7997   11.2675    3.6339 C   0  0  0  0  0  0  0  0  0  0  0  0\\n   13.7043   10.9836    4.6551 C   0  0  0  0  0  0  0  0  0  0  0  0\\n   12.8480    8.6701    4.3263 C   0  0  0  0  0  0  0  0  0  0  0  0\\n   11.8639    7.8498    3.5825 C   0  0  0  0  0  0  0  0  0  0  0  0\\n   10.2581    7.7576    1.9311 C   0  0  0  0  0  0  0  0  0  0  0  0\\n    9.5004    8.4777    0.8808 C   0  0  0  0  0  0  0  0  0  0  0  0\\n    9.0704   10.7265   -0.1076 C   0  0  0  0  0  0  0  0  0  0  0  0\\n   10.1194   11.0635   -1.1609 C   0  0  0  0  0  0  0  0  0  0  0  0\\n   12.3570   15.4514   -0.5239 C   0  0  0  0  0  0  0  0  0  0  0  0\\n   13.3440   16.1485    0.1657 C   0  0  0  0  0  0  0  0  0  0  0  0\\n   14.0668   15.5178    1.1724 C   0  0  0  0  0  0  0  0  0  0  0  0\\n   11.7594    6.4874    3.8334 C   0  0  0  0  0  0  0  0  0  0  0  0\\n   10.8453    5.7567    3.0807 C   0  0  0  0  0  0  0  0  0  0  0  0\\n   10.0800    6.3909    2.1069 C   0  0  0  0  0  0  0  0  0  0  0  0\\n  1 11  2  0\\n  4 20  2  0\\n  6 13  2  0\\n  7 15  1  0\\n  8 16  1  0\\n  9 18  1  0\\n 11  5  1  0\\n 11 12  1  0\\n 12  6  1  0\\n 13 14  1  0\\n 14  7  1  0\\n 14  2  2  0\\n 16 15  1  0\\n 17  3  2  0\\n 17  8  1  0\\n 18 17  1  0\\n 19  9  2  0\\n 20 19  1  0\\n 20 10  1  0\\n 21 10  1  0\\n 22 21  1  0\\n 22  5  1  0\\n 23 12  2  0\\n 23 24  1  0\\n 24 25  2  0\\n 25 13  1  0\\n 26 18  2  0\\n 27 26  1  0\\n 28 27  2  0\\n 28 19  1  0\\nM  END\\n\",\"sdf\");\n",
       "\tviewer_14907088078194826.addModel(\"m1_crystal.xyz\\n     RDKit          3D\\n\\n 28 30  0  0  0  0  0  0  0  0999 V2000\\n   14.5610    8.8769    3.7473 O   0  0  0  0  0  0  0  0  0  0  0  0\\n    8.5237    8.4457    0.3409 O   0  0  0  0  0  0  0  0  0  0  0  0\\n   11.0002   12.3959   -1.9659 O   0  0  0  0  0  0  0  0  0  0  0  0\\n   14.8796   13.7478    3.6557 O   0  0  0  0  0  0  0  0  0  0  0  0\\n   12.7057   10.1399    4.3471 N   0  0  0  0  0  0  0  0  0  0  0  0\\n   11.3172    8.9224    2.4367 N   0  0  0  0  0  0  0  0  0  0  0  0\\n    9.1574   10.2279    1.6887 N   0  0  0  0  0  0  0  0  0  0  0  0\\n   10.1363   12.4764    0.1880 N   0  0  0  0  0  0  0  0  0  0  0  0\\n   12.5295   13.1372    1.1035 N   0  0  0  0  0  0  0  0  0  0  0  0\\n   12.7048   12.9423    3.7276 N   0  0  0  0  0  0  0  0  0  0  0  0\\n   13.3646    9.1294    3.6719 C   0  0  0  0  0  0  0  0  0  0  0  0\\n   12.4817    8.3276    2.7912 C   0  0  0  0  0  0  0  0  0  0  0  0\\n   10.5052    8.2355    1.5994 C   0  0  0  0  0  0  0  0  0  0  0  0\\n    9.2881    8.9582    1.1514 C   0  0  0  0  0  0  0  0  0  0  0  0\\n    8.2502   11.2283    1.1511 C   0  0  0  0  0  0  0  0  0  0  0  0\\n    8.8369   11.8871   -0.0933 C   0  0  0  0  0  0  0  0  0  0  0  0\\n   11.1180   12.6512   -0.7725 C   0  0  0  0  0  0  0  0  0  0  0  0\\n   12.4001   13.1758   -0.2422 C   0  0  0  0  0  0  0  0  0  0  0  0\\n   13.7035   13.5657    1.6247 C   0  0  0  0  0  0  0  0  0  0  0  0\\n   13.8306   13.4466    3.0985 C   0  0  0  0  0  0  0  0  0  0  0  0\\n   12.7087   12.4694    5.1036 C   0  0  0  0  0  0  0  0  0  0  0  0\\n   13.3670   11.0971    5.2147 C   0  0  0  0  0  0  0  0  0  0  0  0\\n   12.8719    7.0744    2.3484 C   0  0  0  0  0  0  0  0  0  0  0  0\\n   12.0019    6.3879    1.5078 C   0  0  0  0  0  0  0  0  0  0  0  0\\n   10.7958    6.9684    1.1169 C   0  0  0  0  0  0  0  0  0  0  0  0\\n   13.3989   13.6260   -1.0964 C   0  0  0  0  0  0  0  0  0  0  0  0\\n   14.5897   14.0704   -0.5253 C   0  0  0  0  0  0  0  0  0  0  0  0\\n   14.7581   14.0410    0.8567 C   0  0  0  0  0  0  0  0  0  0  0  0\\n  1 11  2  0\\n  4 20  2  0\\n  6 13  2  0\\n  7 15  1  0\\n  8 16  1  0\\n  9 18  1  0\\n 11  5  1  0\\n 11 12  1  0\\n 12  6  1  0\\n 13 14  1  0\\n 14  7  1  0\\n 14  2  2  0\\n 16 15  1  0\\n 17  3  2  0\\n 17  8  1  0\\n 18 17  1  0\\n 19  9  2  0\\n 20 19  1  0\\n 20 10  1  0\\n 21 10  1  0\\n 22 21  1  0\\n 22  5  1  0\\n 23 12  2  0\\n 23 24  1  0\\n 24 25  2  0\\n 25 13  1  0\\n 26 18  2  0\\n 27 26  1  0\\n 28 27  2  0\\n 28 19  1  0\\nM  END\\n\",\"sdf\");\n",
       "\tviewer_14907088078194826.addModel(\"m1_crystal.xyz\\n     RDKit          3D\\n\\n 28 30  0  0  0  0  0  0  0  0999 V2000\\n   10.0102   13.0616   -1.2836 O   0  0  0  0  0  0  0  0  0  0  0  0\\n   15.4094   12.0885    2.9541 O   0  0  0  0  0  0  0  0  0  0  0  0\\n   13.6037    9.0308    5.0370 O   0  0  0  0  0  0  0  0  0  0  0  0\\n    9.9304    9.1105   -0.8428 O   0  0  0  0  0  0  0  0  0  0  0  0\\n    9.8479   12.6680    0.9973 N   0  0  0  0  0  0  0  0  0  0  0  0\\n   12.4752   12.8217    1.2298 N   0  0  0  0  0  0  0  0  0  0  0  0\\n   13.3602   12.8514    3.7528 N   0  0  0  0  0  0  0  0  0  0  0  0\\n   11.9192   10.5499    4.5452 N   0  0  0  0  0  0  0  0  0  0  0  0\\n   11.3094    9.1861    2.3618 N   0  0  0  0  0  0  0  0  0  0  0  0\\n    9.0603    9.9640    1.1387 N   0  0  0  0  0  0  0  0  0  0  0  0\\n   10.5297   12.9215   -0.1815 C   0  0  0  0  0  0  0  0  0  0  0  0\\n   12.0072   12.9806   -0.0290 C   0  0  0  0  0  0  0  0  0  0  0  0\\n   13.8202   12.8190    1.3918 C   0  0  0  0  0  0  0  0  0  0  0  0\\n   14.2908   12.5560    2.7689 C   0  0  0  0  0  0  0  0  0  0  0  0\\n   13.4797   12.3838    5.1257 C   0  0  0  0  0  0  0  0  0  0  0  0\\n   12.2619   11.5541    5.5385 C   0  0  0  0  0  0  0  0  0  0  0  0\\n   12.6962    9.4267    4.3137 C   0  0  0  0  0  0  0  0  0  0  0  0\\n   12.3885    8.7300    3.0415 C   0  0  0  0  0  0  0  0  0  0  0  0\\n   11.0705    8.6314    1.1517 C   0  0  0  0  0  0  0  0  0  0  0  0\\n    9.9648    9.2401    0.3771 C   0  0  0  0  0  0  0  0  0  0  0  0\\n    8.1379   10.9265    0.5556 C   0  0  0  0  0  0  0  0  0  0  0  0\\n    8.4319   12.3433    1.0486 C   0  0  0  0  0  0  0  0  0  0  0  0\\n   12.8286   13.1498   -1.1359 C   0  0  0  0  0  0  0  0  0  0  0  0\\n   14.2076   13.1510   -0.9304 C   0  0  0  0  0  0  0  0  0  0  0  0\\n   14.7229   12.9744    0.3519 C   0  0  0  0  0  0  0  0  0  0  0  0\\n   13.2255    7.7260    2.5757 C   0  0  0  0  0  0  0  0  0  0  0  0\\n   12.9442    7.1744    1.3293 C   0  0  0  0  0  0  0  0  0  0  0  0\\n   11.8523    7.6311    0.5929 C   0  0  0  0  0  0  0  0  0  0  0  0\\n  1 11  2  0\\n  4 20  2  0\\n  6 13  2  0\\n  7 15  1  0\\n  8 16  1  0\\n  9 18  1  0\\n 11  5  1  0\\n 11 12  1  0\\n 12  6  1  0\\n 13 14  1  0\\n 14  7  1  0\\n 14  2  2  0\\n 16 15  1  0\\n 17  3  2  0\\n 17  8  1  0\\n 18 17  1  0\\n 19  9  2  0\\n 20 19  1  0\\n 20 10  1  0\\n 21 10  1  0\\n 22 21  1  0\\n 22  5  1  0\\n 23 12  2  0\\n 23 24  1  0\\n 24 25  2  0\\n 25 13  1  0\\n 26 18  2  0\\n 27 26  1  0\\n 28 27  2  0\\n 28 19  1  0\\nM  END\\n\",\"sdf\");\n",
       "\tviewer_14907088078194826.addModel(\"m1_crystal.xyz\\n     RDKit          3D\\n\\n 28 30  0  0  0  0  0  0  0  0999 V2000\\n   14.2533    9.3048    4.4040 O   0  0  0  0  0  0  0  0  0  0  0  0\\n    9.1026    8.9934   -0.3062 O   0  0  0  0  0  0  0  0  0  0  0  0\\n   10.4788   12.1630   -1.6393 O   0  0  0  0  0  0  0  0  0  0  0  0\\n   15.1746   12.5493    3.4069 O   0  0  0  0  0  0  0  0  0  0  0  0\\n   12.1842   10.3414    4.6065 N   0  0  0  0  0  0  0  0  0  0  0  0\\n   11.4027    9.2907    2.3426 N   0  0  0  0  0  0  0  0  0  0  0  0\\n    9.0700   10.2300    1.6627 N   0  0  0  0  0  0  0  0  0  0  0  0\\n    9.7932   12.6533    0.5231 N   0  0  0  0  0  0  0  0  0  0  0  0\\n   12.4082   12.7304    1.2383 N   0  0  0  0  0  0  0  0  0  0  0  0\\n   12.9237   12.8565    3.8769 N   0  0  0  0  0  0  0  0  0  0  0  0\\n   13.1166    9.5166    3.9982 C   0  0  0  0  0  0  0  0  0  0  0  0\\n   12.6306    8.8910    2.7419 C   0  0  0  0  0  0  0  0  0  0  0  0\\n   10.9231    8.7836    1.1831 C   0  0  0  0  0  0  0  0  0  0  0  0\\n    9.6025    9.3208    0.7633 C   0  0  0  0  0  0  0  0  0  0  0  0\\n    7.9931   11.1514    1.3485 C   0  0  0  0  0  0  0  0  0  0  0  0\\n    8.4077   12.2363    0.3555 C   0  0  0  0  0  0  0  0  0  0  0  0\\n   10.7321   12.4962   -0.4848 C   0  0  0  0  0  0  0  0  0  0  0  0\\n   12.1410   12.7250   -0.0896 C   0  0  0  0  0  0  0  0  0  0  0  0\\n   13.7155   12.8212    1.5887 C   0  0  0  0  0  0  0  0  0  0  0  0\\n   14.0190   12.7359    3.0362 C   0  0  0  0  0  0  0  0  0  0  0  0\\n   13.0146   12.5961    5.3033 C   0  0  0  0  0  0  0  0  0  0  0  0\\n   12.4780   11.2224    5.7205 C   0  0  0  0  0  0  0  0  0  0  0  0\\n   13.4087    7.9921    2.0294 C   0  0  0  0  0  0  0  0  0  0  0  0\\n   12.8813    7.4787    0.8441 C   0  0  0  0  0  0  0  0  0  0  0  0\\n   11.6195    7.8760    0.4019 C   0  0  0  0  0  0  0  0  0  0  0  0\\n   13.1139   12.8305   -1.0775 C   0  0  0  0  0  0  0  0  0  0  0  0\\n   14.4402   12.9399   -0.6772 C   0  0  0  0  0  0  0  0  0  0  0  0\\n   14.7580   12.9257    0.6756 C   0  0  0  0  0  0  0  0  0  0  0  0\\n  1 11  2  0\\n  4 20  2  0\\n  6 13  2  0\\n  7 15  1  0\\n  8 16  1  0\\n  9 18  1  0\\n 11  5  1  0\\n 11 12  1  0\\n 12  6  1  0\\n 13 14  1  0\\n 14  7  1  0\\n 14  2  2  0\\n 16 15  1  0\\n 17  3  2  0\\n 17  8  1  0\\n 18 17  1  0\\n 19  9  2  0\\n 20 19  1  0\\n 20 10  1  0\\n 21 10  1  0\\n 22 21  1  0\\n 22  5  1  0\\n 23 12  2  0\\n 23 24  1  0\\n 24 25  2  0\\n 25 13  1  0\\n 26 18  2  0\\n 27 26  1  0\\n 28 27  2  0\\n 28 19  1  0\\nM  END\\n\",\"sdf\");\n",
       "\tviewer_14907088078194826.setStyle({\"stick\": {\"radius\": \"0.15\"}});\n",
       "\tviewer_14907088078194826.setBackgroundColor(\"0xeeeeee\");\n",
       "\tviewer_14907088078194826.zoomTo();\n",
       "viewer_14907088078194826.render();\n",
       "});\n",
       "</script>"
      ],
      "text/plain": [
       "<IPython.core.display.HTML object>"
      ]
     },
     "execution_count": 234,
     "metadata": {},
     "output_type": "execute_result"
    }
   ],
   "source": [
    "# view:\n",
    "p = py3Dmol.view(width=400,height=400)\n",
    "p.removeAllModels()\n",
    "for mol in allmol_m1_balloon:\n",
    "    mb = Chem.MolToMolBlock(mol)\n",
    "    p.addModel(mb,'sdf')\n",
    "p.setStyle({'stick':{'radius':'0.15'}})\n",
    "p.setBackgroundColor('0xeeeeee')\n",
    "p.zoomTo()\n",
    "p.show()"
   ]
  },
  {
   "cell_type": "code",
   "execution_count": 235,
   "metadata": {
    "collapsed": false,
    "deletable": true,
    "editable": true
   },
   "outputs": [
    {
     "name": "stdout",
     "output_type": "stream",
     "text": [
      "Heavy Atom RMS: 3.604550104229233e-07\n",
      "Heavy Atom RMS: 0.6621220451255674\n",
      "Heavy Atom RMS: 0.5174150250164391\n",
      "Heavy Atom RMS: 1.1744423515041509\n",
      "Heavy Atom RMS: 0.527526310182849\n",
      "Heavy Atom RMS: 0.8526332845365369\n",
      "Heavy Atom RMS: 0.8800960083230364\n"
     ]
    }
   ],
   "source": [
    "# calculate RMSD /check that/:\n",
    "for mol in allmol_m1_balloon:\n",
    "    # note that the first structure on \"allmol_m1_rdkit\" list is the crystal structure, \n",
    "    # so the RMSD value calculated for the first structure (with respect to the crystal) will be 0 or almost 0\n",
    "    print(\"Heavy Atom RMS:\",AllChem.GetBestRMS(Chem.RemoveHs(mol),Chem.RemoveHs(templ_m1[0])))"
   ]
  },
  {
   "cell_type": "markdown",
   "metadata": {
    "deletable": true,
    "editable": true
   },
   "source": [
    "### Conformers generated with the RDKit software:"
   ]
  },
  {
   "cell_type": "code",
   "execution_count": 236,
   "metadata": {
    "collapsed": false,
    "deletable": true,
    "editable": true
   },
   "outputs": [],
   "source": [
    "# create a list of all structures to be aligned\n",
    "allmol_m1_rdkit = []\n",
    "suppl_m1_rdkit = Chem.SDMolSupplier('/home/gosia/work/work_on_gitlab/icho/calcs/m1/rdkit/result_smiles_new.sdf')\n",
    "\n",
    "# add crystal structure to the list:\n",
    "#allmol_m1_rdkit.append(m1_crystal)\n",
    "for mol in suppl_m1_rdkit:\n",
    "    allmol_m1_rdkit.append(mol)"
   ]
  },
  {
   "cell_type": "markdown",
   "metadata": {
    "deletable": true,
    "editable": true
   },
   "source": [
    "View conformers:"
   ]
  },
  {
   "cell_type": "code",
   "execution_count": 237,
   "metadata": {
    "collapsed": false,
    "deletable": true,
    "editable": true
   },
   "outputs": [
    {
     "data": {
      "text/html": [
       "<table>\n",
       "  <tr>\n",
       "    <td id=\"m1_r1\" ></td>\n",
       "    <td id=\"m1_r2\" ></td>\n",
       "    <td id=\"m1_r3\" ></td>   \n",
       "  </tr>\n",
       "  <tr>\n",
       "    <td> m1_r1, E = </td>\n",
       "    <td> m1_r2, E = </td>\n",
       "    <td> m1_r3, E = </td>   \n",
       "  </tr>\n",
       "  <tr>\n",
       "    <td id=\"m1_r4\" ></td>    \n",
       "    <td id=\"m1_r5\" ></td>\n",
       "    <td id=\"m1_r6\" ></td>   \n",
       "  </tr>\n",
       "  <tr>\n",
       "    <td> m1_r4, E = </td>\n",
       "    <td> m1_r5, E = </td>\n",
       "    <td> m1_r6, E = </td>   \n",
       "  </tr>\n",
       "  <tr>\n",
       "    <td id=\"m1_r7\" ></td>\n",
       "    <td id=\"m1_r8\" ></td>\n",
       "    <td id=\"m1_r9\" ></td>   \n",
       "  </tr>\n",
       "  <tr>\n",
       "    <td> m1_r7, E = </td>\n",
       "    <td> m1_r8, E = </td>\n",
       "    <td> m1_r9, E = </td>   \n",
       "  </tr>\n",
       "</table>"
      ],
      "text/plain": [
       "<IPython.core.display.HTML object>"
      ]
     },
     "metadata": {},
     "output_type": "display_data"
    }
   ],
   "source": [
    "%%html\n",
    "<table>\n",
    "  <tr>\n",
    "    <td id=\"m1_r1\" ></td>\n",
    "    <td id=\"m1_r2\" ></td>\n",
    "    <td id=\"m1_r3\" ></td>   \n",
    "  </tr>\n",
    "  <tr>\n",
    "    <td> m1_r1, E = </td>\n",
    "    <td> m1_r2, E = </td>\n",
    "    <td> m1_r3, E = </td>   \n",
    "  </tr>\n",
    "  <tr>\n",
    "    <td id=\"m1_r4\" ></td>    \n",
    "    <td id=\"m1_r5\" ></td>\n",
    "    <td id=\"m1_r6\" ></td>   \n",
    "  </tr>\n",
    "  <tr>\n",
    "    <td> m1_r4, E = </td>\n",
    "    <td> m1_r5, E = </td>\n",
    "    <td> m1_r6, E = </td>   \n",
    "  </tr>\n",
    "  <tr>\n",
    "    <td id=\"m1_r7\" ></td>\n",
    "    <td id=\"m1_r8\" ></td>\n",
    "    <td id=\"m1_r9\" ></td>   \n",
    "  </tr>\n",
    "  <tr>\n",
    "    <td> m1_r7, E = </td>\n",
    "    <td> m1_r8, E = </td>\n",
    "    <td> m1_r9, E = </td>   \n",
    "  </tr>\n",
    "</table>"
   ]
  },
  {
   "cell_type": "code",
   "execution_count": 238,
   "metadata": {
    "collapsed": true,
    "deletable": true,
    "editable": true
   },
   "outputs": [],
   "source": [
    "inps_m1_rdkit = glob.glob('/home/gosia/work/work_on_gitlab/icho/calcs/m1/rdkit/results_crystal_from_smiles_new/*.sdf')\n",
    "p1_r_handles=[]\n",
    "for inp in inps_m1_rdkit:\n",
    "    f1_r = open(inp, 'r').read()\n",
    "    p1_r = py3Dmol.view(width=200,height=200)\n",
    "    p1_r.removeAllModels()\n",
    "    p1_r.addModel(f1_r,'sdf')\n",
    "    p1_r.setStyle({'stick':{}})\n",
    "    p1_r.setBackgroundColor('0xeeeeee')\n",
    "    p1_r.zoomTo()\n",
    "    p1_r_handles.append(p1_r)"
   ]
  },
  {
   "cell_type": "code",
   "execution_count": 239,
   "metadata": {
    "collapsed": false,
    "deletable": true,
    "editable": true
   },
   "outputs": [
    {
     "data": {
      "text/html": [
       "<div id=\"3dmolviewer_14907088081787255\"  style=\"position: relative; width: 200px; height: 200px\">\n",
       "<script>\n",
       "if(typeof $3Dmolpromise === 'undefined') $3Dmolpromise = $.when($.getScript('http://3dmol.csb.pitt.edu/build/3Dmol.js'))\n",
       "var viewer_14907088081787255 = null;\n",
       "$3Dmolpromise.done(function() {\n",
       "viewer_14907088081787255 = $3Dmol.createViewer($(\"#3dmolviewer_14907088081787255\"),{backgroundColor:\"white\"});\n",
       "\tviewer_14907088081787255.removeAllModels();\n",
       "\tviewer_14907088081787255.addModel(\"\\n     RDKit          3D\\n\\n 46 48  0  0  0  0  0  0  0  0999 V2000\\n   -2.7277   -3.6810   -1.3871 O   0  0  0  0  0  0  0  0  0  0  0  0\\n   -2.2310   -2.5422   -1.1720 C   0  0  0  0  0  0  0  0  0  0  0  0\\n   -0.8311   -2.3481   -1.4507 N   0  0  0  0  0  0  0  0  0  0  0  0\\n    0.0044   -1.2911   -0.8792 C   0  0  0  0  0  0  0  0  0  0  0  0\\n    0.0943   -1.4234    0.6483 C   0  0  0  0  0  0  0  0  0  0  0  0\\n    1.0090   -2.5000    1.0305 N   0  0  0  0  0  0  0  0  0  0  0  0\\n    2.4167   -2.5396    0.7280 C   0  0  0  0  0  0  0  0  0  0  0  0\\n    2.9970   -3.6589    0.7438 O   0  0  0  0  0  0  0  0  0  0  0  0\\n    3.2159   -1.3234    0.4244 C   0  0  0  0  0  0  0  0  0  0  0  0\\n    2.7589   -0.0887    0.7738 N   0  0  0  0  0  0  0  0  0  0  0  0\\n    3.4764    1.0490    0.5655 C   0  0  0  0  0  0  0  0  0  0  0  0\\n    2.9371    2.3455    1.0188 C   0  0  0  0  0  0  0  0  0  0  0  0\\n    3.7269    3.2817    1.3170 O   0  0  0  0  0  0  0  0  0  0  0  0\\n    1.5272    2.5497    1.1654 N   0  0  0  0  0  0  0  0  0  0  0  0\\n    0.6489    2.4791   -0.0021 C   0  0  0  0  0  0  0  0  0  0  0  0\\n   -0.8216    2.3799    0.4262 C   0  0  0  0  0  0  0  0  0  0  0  0\\n   -1.7117    2.5886   -0.7156 N   0  0  0  0  0  0  0  0  0  0  0  0\\n   -3.1031    2.2673   -0.6092 C   0  0  0  0  0  0  0  0  0  0  0  0\\n   -3.9569    3.1859   -0.7359 O   0  0  0  0  0  0  0  0  0  0  0  0\\n   -3.5482    0.8767   -0.3964 C   0  0  0  0  0  0  0  0  0  0  0  0\\n   -2.7510   -0.1527   -0.7929 N   0  0  0  0  0  0  0  0  0  0  0  0\\n   -3.1161   -1.4589   -0.6691 C   0  0  0  0  0  0  0  0  0  0  0  0\\n   -4.3700   -1.7639   -0.1140 C   0  0  0  0  0  0  0  0  0  0  0  0\\n   -5.2105   -0.7295    0.2995 C   0  0  0  0  0  0  0  0  0  0  0  0\\n   -4.8074    0.5978    0.1530 C   0  0  0  0  0  0  0  0  0  0  0  0\\n    4.7468    0.9621   -0.0209 C   0  0  0  0  0  0  0  0  0  0  0  0\\n    5.2425   -0.2863   -0.3965 C   0  0  0  0  0  0  0  0  0  0  0  0\\n    4.4827   -1.4351   -0.1724 C   0  0  0  0  0  0  0  0  0  0  0  0\\n   -0.3486   -3.0776   -2.0231 H   0  0  0  0  0  0  0  0  0  0  0  0\\n    1.0199   -1.3495   -1.3246 H   0  0  0  0  0  0  0  0  0  0  0  0\\n   -0.3821   -0.2976   -1.1687 H   0  0  0  0  0  0  0  0  0  0  0  0\\n   -0.9115   -1.6338    1.0693 H   0  0  0  0  0  0  0  0  0  0  0  0\\n    0.4097   -0.4709    1.1105 H   0  0  0  0  0  0  0  0  0  0  0  0\\n    0.5856   -3.3514    1.4647 H   0  0  0  0  0  0  0  0  0  0  0  0\\n    1.2344    3.1888    1.9391 H   0  0  0  0  0  0  0  0  0  0  0  0\\n    0.7987    3.3987   -0.6081 H   0  0  0  0  0  0  0  0  0  0  0  0\\n    0.9156    1.6045   -0.6308 H   0  0  0  0  0  0  0  0  0  0  0  0\\n   -1.0119    1.3872    0.8835 H   0  0  0  0  0  0  0  0  0  0  0  0\\n   -1.0415    3.1586    1.1883 H   0  0  0  0  0  0  0  0  0  0  0  0\\n   -1.4700    3.3691   -1.3678 H   0  0  0  0  0  0  0  0  0  0  0  0\\n   -4.6981   -2.7898   -0.0027 H   0  0  0  0  0  0  0  0  0  0  0  0\\n   -6.1787   -0.9568    0.7267 H   0  0  0  0  0  0  0  0  0  0  0  0\\n   -5.4680    1.3956    0.4690 H   0  0  0  0  0  0  0  0  0  0  0  0\\n    5.3454    1.8485   -0.1905 H   0  0  0  0  0  0  0  0  0  0  0  0\\n    6.2201   -0.3648   -0.8545 H   0  0  0  0  0  0  0  0  0  0  0  0\\n    4.8824   -2.3993   -0.4606 H   0  0  0  0  0  0  0  0  0  0  0  0\\n  1  2  2  0\\n  2  3  1  0\\n  3  4  1  0\\n  4  5  1  0\\n  5  6  1  0\\n  6  7  1  0\\n  7  8  2  0\\n  7  9  1  0\\n  9 10  1  0\\n 10 11  2  0\\n 11 12  1  0\\n 12 13  2  0\\n 12 14  1  0\\n 14 15  1  0\\n 15 16  1  0\\n 16 17  1  0\\n 17 18  1  0\\n 18 19  2  0\\n 18 20  1  0\\n 20 21  1  0\\n 21 22  2  0\\n 22 23  1  0\\n 23 24  2  0\\n 24 25  1  0\\n 11 26  1  0\\n 26 27  2  0\\n 27 28  1  0\\n 22  2  1  0\\n 28  9  2  0\\n 25 20  2  0\\n  3 29  1  0\\n  4 30  1  0\\n  4 31  1  0\\n  5 32  1  0\\n  5 33  1  0\\n  6 34  1  0\\n 14 35  1  0\\n 15 36  1  0\\n 15 37  1  0\\n 16 38  1  0\\n 16 39  1  0\\n 17 40  1  0\\n 23 41  1  0\\n 24 42  1  0\\n 25 43  1  0\\n 26 44  1  0\\n 27 45  1  0\\n 28 46  1  0\\nM  END\\n58.93\\n\\n\",\"sdf\");\n",
       "\tviewer_14907088081787255.setStyle({\"stick\": {}});\n",
       "\tviewer_14907088081787255.setBackgroundColor(\"0xeeeeee\");\n",
       "\tviewer_14907088081787255.zoomTo();\n",
       "viewer_14907088081787255.render();\n",
       "});\n",
       "</script><script>$(\"#m1_r1\").append($(\"#3dmolviewer_14907088081787255\")); </script>"
      ],
      "text/plain": [
       "<IPython.core.display.HTML object>"
      ]
     },
     "execution_count": 239,
     "metadata": {},
     "output_type": "execute_result"
    }
   ],
   "source": [
    "p1_r_handles[0].insert('m1_r1')"
   ]
  },
  {
   "cell_type": "code",
   "execution_count": 240,
   "metadata": {
    "collapsed": false,
    "deletable": true,
    "editable": true
   },
   "outputs": [
    {
     "data": {
      "text/html": [
       "<div id=\"3dmolviewer_1490708808220237\"  style=\"position: relative; width: 200px; height: 200px\">\n",
       "<script>\n",
       "if(typeof $3Dmolpromise === 'undefined') $3Dmolpromise = $.when($.getScript('http://3dmol.csb.pitt.edu/build/3Dmol.js'))\n",
       "var viewer_1490708808220237 = null;\n",
       "$3Dmolpromise.done(function() {\n",
       "viewer_1490708808220237 = $3Dmol.createViewer($(\"#3dmolviewer_1490708808220237\"),{backgroundColor:\"white\"});\n",
       "\tviewer_1490708808220237.removeAllModels();\n",
       "\tviewer_1490708808220237.addModel(\"\\n     RDKit          3D\\n\\n 46 48  0  0  0  0  0  0  0  0999 V2000\\n    3.9390   -3.2867   -0.1587 O   0  0  0  0  0  0  0  0  0  0  0  0\\n    3.1610   -2.2968   -0.2232 C   0  0  0  0  0  0  0  0  0  0  0  0\\n    1.7496   -2.5136   -0.1207 N   0  0  0  0  0  0  0  0  0  0  0  0\\n    0.8265   -1.9568   -1.1090 C   0  0  0  0  0  0  0  0  0  0  0  0\\n   -0.5133   -1.5909   -0.4655 C   0  0  0  0  0  0  0  0  0  0  0  0\\n   -1.2498   -2.7792   -0.0275 N   0  0  0  0  0  0  0  0  0  0  0  0\\n   -2.4797   -2.7512    0.7224 C   0  0  0  0  0  0  0  0  0  0  0  0\\n   -2.8582   -3.8202    1.2742 O   0  0  0  0  0  0  0  0  0  0  0  0\\n   -3.3401   -1.5414    0.8442 C   0  0  0  0  0  0  0  0  0  0  0  0\\n   -3.0024   -0.3814    0.2176 N   0  0  0  0  0  0  0  0  0  0  0  0\\n   -3.7841    0.7314    0.2488 C   0  0  0  0  0  0  0  0  0  0  0  0\\n   -3.3623    1.9345   -0.4919 C   0  0  0  0  0  0  0  0  0  0  0  0\\n   -4.2322    2.7220   -0.9524 O   0  0  0  0  0  0  0  0  0  0  0  0\\n   -1.9756    2.2082   -0.7279 N   0  0  0  0  0  0  0  0  0  0  0  0\\n   -1.0286    2.2518    0.3858 C   0  0  0  0  0  0  0  0  0  0  0  0\\n    0.4156    2.1533   -0.1174 C   0  0  0  0  0  0  0  0  0  0  0  0\\n    1.3586    2.3957    0.9744 N   0  0  0  0  0  0  0  0  0  0  0  0\\n    2.7633    2.5022    0.7267 C   0  0  0  0  0  0  0  0  0  0  0  0\\n    3.3726    3.5371    1.1097 O   0  0  0  0  0  0  0  0  0  0  0  0\\n    3.5163    1.4009    0.0930 C   0  0  0  0  0  0  0  0  0  0  0  0\\n    3.0191    0.1322    0.1246 N   0  0  0  0  0  0  0  0  0  0  0  0\\n    3.7178   -0.9358   -0.3552 C   0  0  0  0  0  0  0  0  0  0  0  0\\n    4.9926   -0.7351   -0.9052 C   0  0  0  0  0  0  0  0  0  0  0  0\\n    5.5191    0.5546   -0.9631 C   0  0  0  0  0  0  0  0  0  0  0  0\\n    4.7877    1.6284   -0.4565 C   0  0  0  0  0  0  0  0  0  0  0  0\\n   -4.9999    0.6983    0.9443 C   0  0  0  0  0  0  0  0  0  0  0  0\\n   -5.3715   -0.4681    1.6125 C   0  0  0  0  0  0  0  0  0  0  0  0\\n   -4.5458   -1.5928    1.5662 C   0  0  0  0  0  0  0  0  0  0  0  0\\n    1.4393   -3.3606    0.4063 H   0  0  0  0  0  0  0  0  0  0  0  0\\n    0.6663   -2.6981   -1.9215 H   0  0  0  0  0  0  0  0  0  0  0  0\\n    1.2566   -1.0435   -1.5724 H   0  0  0  0  0  0  0  0  0  0  0  0\\n   -1.1092   -1.0501   -1.2304 H   0  0  0  0  0  0  0  0  0  0  0  0\\n   -0.3310   -0.9247    0.4049 H   0  0  0  0  0  0  0  0  0  0  0  0\\n   -0.8334   -3.7217   -0.2056 H   0  0  0  0  0  0  0  0  0  0  0  0\\n   -1.7521    2.7916   -1.5661 H   0  0  0  0  0  0  0  0  0  0  0  0\\n   -1.2215    1.4213    1.0975 H   0  0  0  0  0  0  0  0  0  0  0  0\\n   -1.1676    3.2132    0.9265 H   0  0  0  0  0  0  0  0  0  0  0  0\\n    0.5885    1.1477   -0.5498 H   0  0  0  0  0  0  0  0  0  0  0  0\\n    0.5847    2.9114   -0.9129 H   0  0  0  0  0  0  0  0  0  0  0  0\\n    1.0039    2.7679    1.8849 H   0  0  0  0  0  0  0  0  0  0  0  0\\n    5.5729   -1.5660   -1.2869 H   0  0  0  0  0  0  0  0  0  0  0  0\\n    6.5010    0.7202   -1.3873 H   0  0  0  0  0  0  0  0  0  0  0  0\\n    5.2131    2.6238   -0.4873 H   0  0  0  0  0  0  0  0  0  0  0  0\\n   -5.6470    1.5659    0.9788 H   0  0  0  0  0  0  0  0  0  0  0  0\\n   -6.3045   -0.5039    2.1601 H   0  0  0  0  0  0  0  0  0  0  0  0\\n   -4.8555   -2.4951    2.0784 H   0  0  0  0  0  0  0  0  0  0  0  0\\n  1  2  2  0\\n  2  3  1  0\\n  3  4  1  0\\n  4  5  1  0\\n  5  6  1  0\\n  6  7  1  0\\n  7  8  2  0\\n  7  9  1  0\\n  9 10  1  0\\n 10 11  2  0\\n 11 12  1  0\\n 12 13  2  0\\n 12 14  1  0\\n 14 15  1  0\\n 15 16  1  0\\n 16 17  1  0\\n 17 18  1  0\\n 18 19  2  0\\n 18 20  1  0\\n 20 21  1  0\\n 21 22  2  0\\n 22 23  1  0\\n 23 24  2  0\\n 24 25  1  0\\n 11 26  1  0\\n 26 27  2  0\\n 27 28  1  0\\n 22  2  1  0\\n 28  9  2  0\\n 25 20  2  0\\n  3 29  1  0\\n  4 30  1  0\\n  4 31  1  0\\n  5 32  1  0\\n  5 33  1  0\\n  6 34  1  0\\n 14 35  1  0\\n 15 36  1  0\\n 15 37  1  0\\n 16 38  1  0\\n 16 39  1  0\\n 17 40  1  0\\n 23 41  1  0\\n 24 42  1  0\\n 25 43  1  0\\n 26 44  1  0\\n 27 45  1  0\\n 28 46  1  0\\nM  END\\n58.20\\n\\n\",\"sdf\");\n",
       "\tviewer_1490708808220237.setStyle({\"stick\": {}});\n",
       "\tviewer_1490708808220237.setBackgroundColor(\"0xeeeeee\");\n",
       "\tviewer_1490708808220237.zoomTo();\n",
       "viewer_1490708808220237.render();\n",
       "});\n",
       "</script><script>$(\"#m1_r2\").append($(\"#3dmolviewer_1490708808220237\")); </script>"
      ],
      "text/plain": [
       "<IPython.core.display.HTML object>"
      ]
     },
     "execution_count": 240,
     "metadata": {},
     "output_type": "execute_result"
    }
   ],
   "source": [
    "p1_r_handles[1].insert('m1_r2')"
   ]
  },
  {
   "cell_type": "code",
   "execution_count": 241,
   "metadata": {
    "collapsed": false,
    "deletable": true,
    "editable": true
   },
   "outputs": [
    {
     "data": {
      "text/html": [
       "<div id=\"3dmolviewer_1490708808270214\"  style=\"position: relative; width: 200px; height: 200px\">\n",
       "<script>\n",
       "if(typeof $3Dmolpromise === 'undefined') $3Dmolpromise = $.when($.getScript('http://3dmol.csb.pitt.edu/build/3Dmol.js'))\n",
       "var viewer_1490708808270214 = null;\n",
       "$3Dmolpromise.done(function() {\n",
       "viewer_1490708808270214 = $3Dmol.createViewer($(\"#3dmolviewer_1490708808270214\"),{backgroundColor:\"white\"});\n",
       "\tviewer_1490708808270214.removeAllModels();\n",
       "\tviewer_1490708808270214.addModel(\"\\n     RDKit          3D\\n\\n 46 48  0  0  0  0  0  0  0  0999 V2000\\n   -3.9852    2.3096    1.9552 O   0  0  0  0  0  0  0  0  0  0  0  0\\n   -3.1686    1.8184    1.1303 C   0  0  0  0  0  0  0  0  0  0  0  0\\n   -1.8624    2.4028    1.0140 N   0  0  0  0  0  0  0  0  0  0  0  0\\n   -1.1090    2.3992   -0.2407 C   0  0  0  0  0  0  0  0  0  0  0  0\\n    0.3740    2.7145    0.0142 C   0  0  0  0  0  0  0  0  0  0  0  0\\n    1.2307    2.1081   -1.0033 N   0  0  0  0  0  0  0  0  0  0  0  0\\n    2.6510    2.2068   -0.8956 C   0  0  0  0  0  0  0  0  0  0  0  0\\n    3.2175    3.3136   -1.1009 O   0  0  0  0  0  0  0  0  0  0  0  0\\n    3.4360    1.0204   -0.5173 C   0  0  0  0  0  0  0  0  0  0  0  0\\n    2.8159    0.0036    0.1397 N   0  0  0  0  0  0  0  0  0  0  0  0\\n    3.4654   -1.1131    0.5633 C   0  0  0  0  0  0  0  0  0  0  0  0\\n    2.7488   -2.1640    1.3407 C   0  0  0  0  0  0  0  0  0  0  0  0\\n    3.3873   -3.1941    1.6891 O   0  0  0  0  0  0  0  0  0  0  0  0\\n    1.3736   -2.0509    1.7647 N   0  0  0  0  0  0  0  0  0  0  0  0\\n    0.3630   -1.1472    1.2106 C   0  0  0  0  0  0  0  0  0  0  0  0\\n    0.0045   -1.5430   -0.2246 C   0  0  0  0  0  0  0  0  0  0  0  0\\n   -0.8854   -2.7009   -0.2120 N   0  0  0  0  0  0  0  0  0  0  0  0\\n   -2.2432   -2.6942   -0.6830 C   0  0  0  0  0  0  0  0  0  0  0  0\\n   -2.7114   -3.7665   -1.1531 O   0  0  0  0  0  0  0  0  0  0  0  0\\n   -3.1324   -1.5039   -0.5850 C   0  0  0  0  0  0  0  0  0  0  0  0\\n   -2.7748   -0.4163    0.1592 N   0  0  0  0  0  0  0  0  0  0  0  0\\n   -3.5912    0.6675    0.3074 C   0  0  0  0  0  0  0  0  0  0  0  0\\n   -4.8574    0.6655   -0.2907 C   0  0  0  0  0  0  0  0  0  0  0  0\\n   -5.2496   -0.4277   -1.0594 C   0  0  0  0  0  0  0  0  0  0  0  0\\n   -4.3910   -1.5153   -1.2118 C   0  0  0  0  0  0  0  0  0  0  0  0\\n    4.8407   -1.2343    0.2948 C   0  0  0  0  0  0  0  0  0  0  0  0\\n    5.5069   -0.2067   -0.3772 C   0  0  0  0  0  0  0  0  0  0  0  0\\n    4.8093    0.9334   -0.7783 C   0  0  0  0  0  0  0  0  0  0  0  0\\n   -1.5868    3.0983    1.7447 H   0  0  0  0  0  0  0  0  0  0  0  0\\n   -1.2127    1.4173   -0.7341 H   0  0  0  0  0  0  0  0  0  0  0  0\\n   -1.5362    3.1611   -0.9274 H   0  0  0  0  0  0  0  0  0  0  0  0\\n    0.6778    2.3246    1.0100 H   0  0  0  0  0  0  0  0  0  0  0  0\\n    0.5207    3.8162    0.0167 H   0  0  0  0  0  0  0  0  0  0  0  0\\n    0.8478    1.3857   -1.6542 H   0  0  0  0  0  0  0  0  0  0  0  0\\n    1.0461   -2.7255    2.4932 H   0  0  0  0  0  0  0  0  0  0  0  0\\n   -0.5548   -1.1993    1.8368 H   0  0  0  0  0  0  0  0  0  0  0  0\\n    0.6993   -0.0960    1.2739 H   0  0  0  0  0  0  0  0  0  0  0  0\\n   -0.4629   -0.6942   -0.7535 H   0  0  0  0  0  0  0  0  0  0  0  0\\n    0.9195   -1.7951   -0.8009 H   0  0  0  0  0  0  0  0  0  0  0  0\\n   -0.4565   -3.6259    0.0186 H   0  0  0  0  0  0  0  0  0  0  0  0\\n   -5.5279    1.5084   -0.1754 H   0  0  0  0  0  0  0  0  0  0  0  0\\n   -6.2222   -0.4345   -1.5345 H   0  0  0  0  0  0  0  0  0  0  0  0\\n   -4.7136   -2.3606   -1.8067 H   0  0  0  0  0  0  0  0  0  0  0  0\\n    5.4002   -2.1048    0.6136 H   0  0  0  0  0  0  0  0  0  0  0  0\\n    6.5670   -0.2906   -0.5789 H   0  0  0  0  0  0  0  0  0  0  0  0\\n    5.3322    1.7302   -1.2924 H   0  0  0  0  0  0  0  0  0  0  0  0\\n  1  2  2  0\\n  2  3  1  0\\n  3  4  1  0\\n  4  5  1  0\\n  5  6  1  0\\n  6  7  1  0\\n  7  8  2  0\\n  7  9  1  0\\n  9 10  1  0\\n 10 11  2  0\\n 11 12  1  0\\n 12 13  2  0\\n 12 14  1  0\\n 14 15  1  0\\n 15 16  1  0\\n 16 17  1  0\\n 17 18  1  0\\n 18 19  2  0\\n 18 20  1  0\\n 20 21  1  0\\n 21 22  2  0\\n 22 23  1  0\\n 23 24  2  0\\n 24 25  1  0\\n 11 26  1  0\\n 26 27  2  0\\n 27 28  1  0\\n 22  2  1  0\\n 28  9  2  0\\n 25 20  2  0\\n  3 29  1  0\\n  4 30  1  0\\n  4 31  1  0\\n  5 32  1  0\\n  5 33  1  0\\n  6 34  1  0\\n 14 35  1  0\\n 15 36  1  0\\n 15 37  1  0\\n 16 38  1  0\\n 16 39  1  0\\n 17 40  1  0\\n 23 41  1  0\\n 24 42  1  0\\n 25 43  1  0\\n 26 44  1  0\\n 27 45  1  0\\n 28 46  1  0\\nM  END\\n61.58\\n\\n\",\"sdf\");\n",
       "\tviewer_1490708808270214.setStyle({\"stick\": {}});\n",
       "\tviewer_1490708808270214.setBackgroundColor(\"0xeeeeee\");\n",
       "\tviewer_1490708808270214.zoomTo();\n",
       "viewer_1490708808270214.render();\n",
       "});\n",
       "</script><script>$(\"#m1_r3\").append($(\"#3dmolviewer_1490708808270214\")); </script>"
      ],
      "text/plain": [
       "<IPython.core.display.HTML object>"
      ]
     },
     "execution_count": 241,
     "metadata": {},
     "output_type": "execute_result"
    }
   ],
   "source": [
    "p1_r_handles[2].insert('m1_r3')"
   ]
  },
  {
   "cell_type": "code",
   "execution_count": 242,
   "metadata": {
    "collapsed": false,
    "deletable": true,
    "editable": true
   },
   "outputs": [
    {
     "data": {
      "text/html": [
       "<div id=\"3dmolviewer_14907088083147645\"  style=\"position: relative; width: 200px; height: 200px\">\n",
       "<script>\n",
       "if(typeof $3Dmolpromise === 'undefined') $3Dmolpromise = $.when($.getScript('http://3dmol.csb.pitt.edu/build/3Dmol.js'))\n",
       "var viewer_14907088083147645 = null;\n",
       "$3Dmolpromise.done(function() {\n",
       "viewer_14907088083147645 = $3Dmol.createViewer($(\"#3dmolviewer_14907088083147645\"),{backgroundColor:\"white\"});\n",
       "\tviewer_14907088083147645.removeAllModels();\n",
       "\tviewer_14907088083147645.addModel(\"\\n     RDKit          3D\\n\\n 46 48  0  0  0  0  0  0  0  0999 V2000\\n    4.3736   -2.9680    1.0277 O   0  0  0  0  0  0  0  0  0  0  0  0\\n    3.3737   -2.4012    0.5099 C   0  0  0  0  0  0  0  0  0  0  0  0\\n    2.3548   -3.2109   -0.0952 N   0  0  0  0  0  0  0  0  0  0  0  0\\n    0.9337   -2.9474    0.1254 C   0  0  0  0  0  0  0  0  0  0  0  0\\n    0.0888   -3.5485   -1.0036 C   0  0  0  0  0  0  0  0  0  0  0  0\\n   -1.2906   -3.0759   -0.8996 N   0  0  0  0  0  0  0  0  0  0  0  0\\n   -1.6142   -1.7053   -1.1733 C   0  0  0  0  0  0  0  0  0  0  0  0\\n   -0.9042   -1.0471   -1.9818 O   0  0  0  0  0  0  0  0  0  0  0  0\\n   -2.6708   -1.0049   -0.4272 C   0  0  0  0  0  0  0  0  0  0  0  0\\n   -2.4669    0.2986   -0.1082 N   0  0  0  0  0  0  0  0  0  0  0  0\\n   -3.3387    1.0347    0.6274 C   0  0  0  0  0  0  0  0  0  0  0  0\\n   -3.0099    2.4403    0.9953 C   0  0  0  0  0  0  0  0  0  0  0  0\\n   -3.8525    3.1053    1.6570 O   0  0  0  0  0  0  0  0  0  0  0  0\\n   -1.7583    3.0755    0.6580 N   0  0  0  0  0  0  0  0  0  0  0  0\\n   -0.7577    2.5141   -0.2545 C   0  0  0  0  0  0  0  0  0  0  0  0\\n    0.4135    3.4766   -0.4725 C   0  0  0  0  0  0  0  0  0  0  0  0\\n    1.2508    3.0267   -1.5883 N   0  0  0  0  0  0  0  0  0  0  0  0\\n    1.8246    1.7120   -1.6710 C   0  0  0  0  0  0  0  0  0  0  0  0\\n    1.7344    1.0778   -2.7560 O   0  0  0  0  0  0  0  0  0  0  0  0\\n    2.5339    1.0847   -0.5380 C   0  0  0  0  0  0  0  0  0  0  0  0\\n    2.6117   -0.2750   -0.4732 N   0  0  0  0  0  0  0  0  0  0  0  0\\n    3.2971   -0.9233    0.5104 C   0  0  0  0  0  0  0  0  0  0  0  0\\n    3.9713   -0.1729    1.4852 C   0  0  0  0  0  0  0  0  0  0  0  0\\n    3.9211    1.2204    1.4351 C   0  0  0  0  0  0  0  0  0  0  0  0\\n    3.2095    1.8570    0.4180 C   0  0  0  0  0  0  0  0  0  0  0  0\\n   -4.5280    0.4272    1.0657 C   0  0  0  0  0  0  0  0  0  0  0  0\\n   -4.7752   -0.9118    0.7472 C   0  0  0  0  0  0  0  0  0  0  0  0\\n   -3.8421   -1.6404    0.0051 C   0  0  0  0  0  0  0  0  0  0  0  0\\n    2.6202   -4.1899   -0.3488 H   0  0  0  0  0  0  0  0  0  0  0  0\\n    0.6264   -3.3997    1.0928 H   0  0  0  0  0  0  0  0  0  0  0  0\\n    0.7471   -1.8568    0.1912 H   0  0  0  0  0  0  0  0  0  0  0  0\\n    0.5086   -3.2685   -1.9944 H   0  0  0  0  0  0  0  0  0  0  0  0\\n    0.1070   -4.6571   -0.9238 H   0  0  0  0  0  0  0  0  0  0  0  0\\n   -1.9869   -3.6965   -0.4307 H   0  0  0  0  0  0  0  0  0  0  0  0\\n   -1.5894    4.0262    1.0599 H   0  0  0  0  0  0  0  0  0  0  0  0\\n   -1.2369    2.3056   -1.2360 H   0  0  0  0  0  0  0  0  0  0  0  0\\n   -0.3514    1.5744    0.1766 H   0  0  0  0  0  0  0  0  0  0  0  0\\n    1.0112    3.5611    0.4573 H   0  0  0  0  0  0  0  0  0  0  0  0\\n    0.0163    4.4876   -0.7108 H   0  0  0  0  0  0  0  0  0  0  0  0\\n    1.2253    3.5961   -2.4643 H   0  0  0  0  0  0  0  0  0  0  0  0\\n    4.5325   -0.6586    2.2738 H   0  0  0  0  0  0  0  0  0  0  0  0\\n    4.4492    1.8076    2.1751 H   0  0  0  0  0  0  0  0  0  0  0  0\\n    3.2237    2.9371    0.3585 H   0  0  0  0  0  0  0  0  0  0  0  0\\n   -5.2528    0.9742    1.6554 H   0  0  0  0  0  0  0  0  0  0  0  0\\n   -5.6880   -1.3870    1.0825 H   0  0  0  0  0  0  0  0  0  0  0  0\\n   -4.0451   -2.6745   -0.2393 H   0  0  0  0  0  0  0  0  0  0  0  0\\n  1  2  2  0\\n  2  3  1  0\\n  3  4  1  0\\n  4  5  1  0\\n  5  6  1  0\\n  6  7  1  0\\n  7  8  2  0\\n  7  9  1  0\\n  9 10  1  0\\n 10 11  2  0\\n 11 12  1  0\\n 12 13  2  0\\n 12 14  1  0\\n 14 15  1  0\\n 15 16  1  0\\n 16 17  1  0\\n 17 18  1  0\\n 18 19  2  0\\n 18 20  1  0\\n 20 21  1  0\\n 21 22  2  0\\n 22 23  1  0\\n 23 24  2  0\\n 24 25  1  0\\n 11 26  1  0\\n 26 27  2  0\\n 27 28  1  0\\n 22  2  1  0\\n 28  9  2  0\\n 25 20  2  0\\n  3 29  1  0\\n  4 30  1  0\\n  4 31  1  0\\n  5 32  1  0\\n  5 33  1  0\\n  6 34  1  0\\n 14 35  1  0\\n 15 36  1  0\\n 15 37  1  0\\n 16 38  1  0\\n 16 39  1  0\\n 17 40  1  0\\n 23 41  1  0\\n 24 42  1  0\\n 25 43  1  0\\n 26 44  1  0\\n 27 45  1  0\\n 28 46  1  0\\nM  END\\n57.42\\n\\n\",\"sdf\");\n",
       "\tviewer_14907088083147645.setStyle({\"stick\": {}});\n",
       "\tviewer_14907088083147645.setBackgroundColor(\"0xeeeeee\");\n",
       "\tviewer_14907088083147645.zoomTo();\n",
       "viewer_14907088083147645.render();\n",
       "});\n",
       "</script><script>$(\"#m1_r4\").append($(\"#3dmolviewer_14907088083147645\")); </script>"
      ],
      "text/plain": [
       "<IPython.core.display.HTML object>"
      ]
     },
     "execution_count": 242,
     "metadata": {},
     "output_type": "execute_result"
    }
   ],
   "source": [
    "p1_r_handles[3].insert('m1_r4')"
   ]
  },
  {
   "cell_type": "code",
   "execution_count": 243,
   "metadata": {
    "collapsed": false,
    "deletable": true,
    "editable": true
   },
   "outputs": [
    {
     "data": {
      "text/html": [
       "<div id=\"3dmolviewer_14907088083661265\"  style=\"position: relative; width: 200px; height: 200px\">\n",
       "<script>\n",
       "if(typeof $3Dmolpromise === 'undefined') $3Dmolpromise = $.when($.getScript('http://3dmol.csb.pitt.edu/build/3Dmol.js'))\n",
       "var viewer_14907088083661265 = null;\n",
       "$3Dmolpromise.done(function() {\n",
       "viewer_14907088083661265 = $3Dmol.createViewer($(\"#3dmolviewer_14907088083661265\"),{backgroundColor:\"white\"});\n",
       "\tviewer_14907088083661265.removeAllModels();\n",
       "\tviewer_14907088083661265.addModel(\"\\n     RDKit          3D\\n\\n 46 48  0  0  0  0  0  0  0  0999 V2000\\n   -3.1061    3.5543   -1.5472 O   0  0  0  0  0  0  0  0  0  0  0  0\\n   -2.5752    2.5073   -1.0879 C   0  0  0  0  0  0  0  0  0  0  0  0\\n   -1.1492    2.4092   -1.0625 N   0  0  0  0  0  0  0  0  0  0  0  0\\n   -0.4358    2.1460    0.1869 C   0  0  0  0  0  0  0  0  0  0  0  0\\n    1.0756    2.2832   -0.0192 C   0  0  0  0  0  0  0  0  0  0  0  0\\n    1.7886    2.1915    1.2544 N   0  0  0  0  0  0  0  0  0  0  0  0\\n    3.1928    1.9068    1.2822 C   0  0  0  0  0  0  0  0  0  0  0  0\\n    3.9597    2.6511    1.9506 O   0  0  0  0  0  0  0  0  0  0  0  0\\n    3.7442    0.7414    0.5679 C   0  0  0  0  0  0  0  0  0  0  0  0\\n    2.9698   -0.3636    0.3951 N   0  0  0  0  0  0  0  0  0  0  0  0\\n    3.4137   -1.4876   -0.2298 C   0  0  0  0  0  0  0  0  0  0  0  0\\n    2.5469   -2.6938   -0.3287 C   0  0  0  0  0  0  0  0  0  0  0  0\\n    3.0097   -3.7283   -0.8820 O   0  0  0  0  0  0  0  0  0  0  0  0\\n    1.2179   -2.7610    0.2224 N   0  0  0  0  0  0  0  0  0  0  0  0\\n    0.3823   -1.5964    0.5289 C   0  0  0  0  0  0  0  0  0  0  0  0\\n   -1.0365   -2.0095    0.9311 C   0  0  0  0  0  0  0  0  0  0  0  0\\n   -1.7563   -2.5905   -0.2022 N   0  0  0  0  0  0  0  0  0  0  0  0\\n   -3.1452   -2.3285   -0.4380 C   0  0  0  0  0  0  0  0  0  0  0  0\\n   -3.8978   -3.2854   -0.7653 O   0  0  0  0  0  0  0  0  0  0  0  0\\n   -3.7070   -0.9660   -0.3427 C   0  0  0  0  0  0  0  0  0  0  0  0\\n   -2.9314    0.1153   -0.6408 N   0  0  0  0  0  0  0  0  0  0  0  0\\n   -3.4278    1.3855   -0.6468 C   0  0  0  0  0  0  0  0  0  0  0  0\\n   -4.7780    1.5995   -0.3291 C   0  0  0  0  0  0  0  0  0  0  0  0\\n   -5.5893    0.5116   -0.0107 C   0  0  0  0  0  0  0  0  0  0  0  0\\n   -5.0610   -0.7782   -0.0276 C   0  0  0  0  0  0  0  0  0  0  0  0\\n    4.7279   -1.5090   -0.7298 C   0  0  0  0  0  0  0  0  0  0  0  0\\n    5.5488   -0.3923   -0.5615 C   0  0  0  0  0  0  0  0  0  0  0  0\\n    5.0642    0.7367    0.0989 C   0  0  0  0  0  0  0  0  0  0  0  0\\n   -0.6276    2.8054   -1.8776 H   0  0  0  0  0  0  0  0  0  0  0  0\\n   -0.6695    1.1239    0.5460 H   0  0  0  0  0  0  0  0  0  0  0  0\\n   -0.7739    2.8743    0.9560 H   0  0  0  0  0  0  0  0  0  0  0  0\\n    1.2994    3.2712   -0.4769 H   0  0  0  0  0  0  0  0  0  0  0  0\\n    1.4165    1.4909   -0.7190 H   0  0  0  0  0  0  0  0  0  0  0  0\\n    1.4078    2.7462    2.0545 H   0  0  0  0  0  0  0  0  0  0  0  0\\n    0.8024   -3.7158    0.3175 H   0  0  0  0  0  0  0  0  0  0  0  0\\n    0.8181   -1.0468    1.3890 H   0  0  0  0  0  0  0  0  0  0  0  0\\n    0.3362   -0.9263   -0.3565 H   0  0  0  0  0  0  0  0  0  0  0  0\\n   -0.9864   -2.7566    1.7524 H   0  0  0  0  0  0  0  0  0  0  0  0\\n   -1.5734   -1.1218    1.3271 H   0  0  0  0  0  0  0  0  0  0  0  0\\n   -1.3527   -3.4469   -0.6443 H   0  0  0  0  0  0  0  0  0  0  0  0\\n   -5.2021    2.5960   -0.3345 H   0  0  0  0  0  0  0  0  0  0  0  0\\n   -6.6323    0.6667    0.2336 H   0  0  0  0  0  0  0  0  0  0  0  0\\n   -5.7016   -1.6202    0.2040 H   0  0  0  0  0  0  0  0  0  0  0  0\\n    5.1236   -2.3831   -1.2314 H   0  0  0  0  0  0  0  0  0  0  0  0\\n    6.5640   -0.4054   -0.9366 H   0  0  0  0  0  0  0  0  0  0  0  0\\n    5.7061    1.5990    0.2301 H   0  0  0  0  0  0  0  0  0  0  0  0\\n  1  2  2  0\\n  2  3  1  0\\n  3  4  1  0\\n  4  5  1  0\\n  5  6  1  0\\n  6  7  1  0\\n  7  8  2  0\\n  7  9  1  0\\n  9 10  1  0\\n 10 11  2  0\\n 11 12  1  0\\n 12 13  2  0\\n 12 14  1  0\\n 14 15  1  0\\n 15 16  1  0\\n 16 17  1  0\\n 17 18  1  0\\n 18 19  2  0\\n 18 20  1  0\\n 20 21  1  0\\n 21 22  2  0\\n 22 23  1  0\\n 23 24  2  0\\n 24 25  1  0\\n 11 26  1  0\\n 26 27  2  0\\n 27 28  1  0\\n 22  2  1  0\\n 28  9  2  0\\n 25 20  2  0\\n  3 29  1  0\\n  4 30  1  0\\n  4 31  1  0\\n  5 32  1  0\\n  5 33  1  0\\n  6 34  1  0\\n 14 35  1  0\\n 15 36  1  0\\n 15 37  1  0\\n 16 38  1  0\\n 16 39  1  0\\n 17 40  1  0\\n 23 41  1  0\\n 24 42  1  0\\n 25 43  1  0\\n 26 44  1  0\\n 27 45  1  0\\n 28 46  1  0\\nM  END\\n58.07\\n\\n\",\"sdf\");\n",
       "\tviewer_14907088083661265.setStyle({\"stick\": {}});\n",
       "\tviewer_14907088083661265.setBackgroundColor(\"0xeeeeee\");\n",
       "\tviewer_14907088083661265.zoomTo();\n",
       "viewer_14907088083661265.render();\n",
       "});\n",
       "</script><script>$(\"#m1_r5\").append($(\"#3dmolviewer_14907088083661265\")); </script>"
      ],
      "text/plain": [
       "<IPython.core.display.HTML object>"
      ]
     },
     "execution_count": 243,
     "metadata": {},
     "output_type": "execute_result"
    }
   ],
   "source": [
    "p1_r_handles[4].insert('m1_r5')"
   ]
  },
  {
   "cell_type": "code",
   "execution_count": 244,
   "metadata": {
    "collapsed": false,
    "deletable": true,
    "editable": true
   },
   "outputs": [
    {
     "data": {
      "text/html": [
       "<div id=\"3dmolviewer_1490708808432715\"  style=\"position: relative; width: 200px; height: 200px\">\n",
       "<script>\n",
       "if(typeof $3Dmolpromise === 'undefined') $3Dmolpromise = $.when($.getScript('http://3dmol.csb.pitt.edu/build/3Dmol.js'))\n",
       "var viewer_1490708808432715 = null;\n",
       "$3Dmolpromise.done(function() {\n",
       "viewer_1490708808432715 = $3Dmol.createViewer($(\"#3dmolviewer_1490708808432715\"),{backgroundColor:\"white\"});\n",
       "\tviewer_1490708808432715.removeAllModels();\n",
       "\tviewer_1490708808432715.addModel(\"\\n     RDKit          3D\\n\\n 46 48  0  0  0  0  0  0  0  0999 V2000\\n    3.4062   -2.7734   -1.2735 O   0  0  0  0  0  0  0  0  0  0  0  0\\n    2.7526   -1.9226   -0.6121 C   0  0  0  0  0  0  0  0  0  0  0  0\\n    1.3808   -2.1847   -0.2939 N   0  0  0  0  0  0  0  0  0  0  0  0\\n    0.9465   -2.2362    1.1034 C   0  0  0  0  0  0  0  0  0  0  0  0\\n   -0.5507   -1.9371    1.2441 C   0  0  0  0  0  0  0  0  0  0  0  0\\n   -1.3698   -2.8681    0.4671 N   0  0  0  0  0  0  0  0  0  0  0  0\\n   -2.7855   -2.6846    0.3284 C   0  0  0  0  0  0  0  0  0  0  0  0\\n   -3.5359   -3.6973    0.3304 O   0  0  0  0  0  0  0  0  0  0  0  0\\n   -3.3851   -1.3434    0.1714 C   0  0  0  0  0  0  0  0  0  0  0  0\\n   -2.7614   -0.3973   -0.5875 N   0  0  0  0  0  0  0  0  0  0  0  0\\n   -3.2867    0.8448   -0.7891 C   0  0  0  0  0  0  0  0  0  0  0  0\\n   -2.6131    1.8238   -1.6837 C   0  0  0  0  0  0  0  0  0  0  0  0\\n   -3.2907    2.7761   -2.1572 O   0  0  0  0  0  0  0  0  0  0  0  0\\n   -1.2288    1.7243   -2.0656 N   0  0  0  0  0  0  0  0  0  0  0  0\\n   -0.1842    1.0526   -1.2930 C   0  0  0  0  0  0  0  0  0  0  0  0\\n    0.0293    1.7341    0.0678 C   0  0  0  0  0  0  0  0  0  0  0  0\\n    0.9141    2.8884   -0.0764 N   0  0  0  0  0  0  0  0  0  0  0  0\\n    2.3143    2.8996    0.2631 C   0  0  0  0  0  0  0  0  0  0  0  0\\n    2.8465    4.0082    0.5419 O   0  0  0  0  0  0  0  0  0  0  0  0\\n    3.1693    1.6789    0.2381 C   0  0  0  0  0  0  0  0  0  0  0  0\\n    2.6467    0.4709   -0.1110 N   0  0  0  0  0  0  0  0  0  0  0  0\\n    3.3952   -0.6608   -0.2037 C   0  0  0  0  0  0  0  0  0  0  0  0\\n    4.7712   -0.5977    0.0506 C   0  0  0  0  0  0  0  0  0  0  0  0\\n    5.3401    0.6201    0.4240 C   0  0  0  0  0  0  0  0  0  0  0  0\\n    4.5440    1.7632    0.5208 C   0  0  0  0  0  0  0  0  0  0  0  0\\n   -4.5224    1.1640   -0.2008 C   0  0  0  0  0  0  0  0  0  0  0  0\\n   -5.1864    0.2114    0.5718 C   0  0  0  0  0  0  0  0  0  0  0  0\\n   -4.6256   -1.0515    0.7534 C   0  0  0  0  0  0  0  0  0  0  0  0\\n    0.8465   -2.7585   -0.9844 H   0  0  0  0  0  0  0  0  0  0  0  0\\n    1.1630   -3.2458    1.5146 H   0  0  0  0  0  0  0  0  0  0  0  0\\n    1.5106   -1.4930    1.7079 H   0  0  0  0  0  0  0  0  0  0  0  0\\n   -0.8341   -2.0165    2.3155 H   0  0  0  0  0  0  0  0  0  0  0  0\\n   -0.7468   -0.8999    0.9285 H   0  0  0  0  0  0  0  0  0  0  0  0\\n   -0.9919   -3.8257    0.2836 H   0  0  0  0  0  0  0  0  0  0  0  0\\n   -0.9214    2.2728   -2.9007 H   0  0  0  0  0  0  0  0  0  0  0  0\\n   -0.4229   -0.0195   -1.1754 H   0  0  0  0  0  0  0  0  0  0  0  0\\n    0.7638    1.0818   -1.8726 H   0  0  0  0  0  0  0  0  0  0  0  0\\n    0.4488    1.0244    0.8067 H   0  0  0  0  0  0  0  0  0  0  0  0\\n   -0.9406    2.0661    0.4954 H   0  0  0  0  0  0  0  0  0  0  0  0\\n    0.4604    3.8065   -0.2858 H   0  0  0  0  0  0  0  0  0  0  0  0\\n    5.3935   -1.4807   -0.0255 H   0  0  0  0  0  0  0  0  0  0  0  0\\n    6.4006    0.6802    0.6322 H   0  0  0  0  0  0  0  0  0  0  0  0\\n    5.0031    2.7035    0.7991 H   0  0  0  0  0  0  0  0  0  0  0  0\\n   -4.9748    2.1377   -0.3421 H   0  0  0  0  0  0  0  0  0  0  0  0\\n   -6.1405    0.4500    1.0237 H   0  0  0  0  0  0  0  0  0  0  0  0\\n   -5.1478   -1.7891    1.3503 H   0  0  0  0  0  0  0  0  0  0  0  0\\n  1  2  2  0\\n  2  3  1  0\\n  3  4  1  0\\n  4  5  1  0\\n  5  6  1  0\\n  6  7  1  0\\n  7  8  2  0\\n  7  9  1  0\\n  9 10  1  0\\n 10 11  2  0\\n 11 12  1  0\\n 12 13  2  0\\n 12 14  1  0\\n 14 15  1  0\\n 15 16  1  0\\n 16 17  1  0\\n 17 18  1  0\\n 18 19  2  0\\n 18 20  1  0\\n 20 21  1  0\\n 21 22  2  0\\n 22 23  1  0\\n 23 24  2  0\\n 24 25  1  0\\n 11 26  1  0\\n 26 27  2  0\\n 27 28  1  0\\n 22  2  1  0\\n 28  9  2  0\\n 25 20  2  0\\n  3 29  1  0\\n  4 30  1  0\\n  4 31  1  0\\n  5 32  1  0\\n  5 33  1  0\\n  6 34  1  0\\n 14 35  1  0\\n 15 36  1  0\\n 15 37  1  0\\n 16 38  1  0\\n 16 39  1  0\\n 17 40  1  0\\n 23 41  1  0\\n 24 42  1  0\\n 25 43  1  0\\n 26 44  1  0\\n 27 45  1  0\\n 28 46  1  0\\nM  END\\n59.80\\n\\n\",\"sdf\");\n",
       "\tviewer_1490708808432715.setStyle({\"stick\": {}});\n",
       "\tviewer_1490708808432715.setBackgroundColor(\"0xeeeeee\");\n",
       "\tviewer_1490708808432715.zoomTo();\n",
       "viewer_1490708808432715.render();\n",
       "});\n",
       "</script><script>$(\"#m1_r6\").append($(\"#3dmolviewer_1490708808432715\")); </script>"
      ],
      "text/plain": [
       "<IPython.core.display.HTML object>"
      ]
     },
     "execution_count": 244,
     "metadata": {},
     "output_type": "execute_result"
    }
   ],
   "source": [
    "p1_r_handles[5].insert('m1_r6')"
   ]
  },
  {
   "cell_type": "code",
   "execution_count": 245,
   "metadata": {
    "collapsed": false,
    "deletable": true,
    "editable": true
   },
   "outputs": [
    {
     "data": {
      "text/html": [
       "<div id=\"3dmolviewer_1490708808477152\"  style=\"position: relative; width: 200px; height: 200px\">\n",
       "<script>\n",
       "if(typeof $3Dmolpromise === 'undefined') $3Dmolpromise = $.when($.getScript('http://3dmol.csb.pitt.edu/build/3Dmol.js'))\n",
       "var viewer_1490708808477152 = null;\n",
       "$3Dmolpromise.done(function() {\n",
       "viewer_1490708808477152 = $3Dmol.createViewer($(\"#3dmolviewer_1490708808477152\"),{backgroundColor:\"white\"});\n",
       "\tviewer_1490708808477152.removeAllModels();\n",
       "\tviewer_1490708808477152.addModel(\"\\n     RDKit          3D\\n\\n 46 48  0  0  0  0  0  0  0  0999 V2000\\n   -3.7017    3.4568    0.8614 O   0  0  0  0  0  0  0  0  0  0  0  0\\n   -2.9258    2.4835    0.6617 C   0  0  0  0  0  0  0  0  0  0  0  0\\n   -1.5336    2.6284    0.9647 N   0  0  0  0  0  0  0  0  0  0  0  0\\n   -0.5338    2.5046   -0.0956 C   0  0  0  0  0  0  0  0  0  0  0  0\\n    0.8735    2.3475    0.4966 C   0  0  0  0  0  0  0  0  0  0  0  0\\n    1.8945    2.5025   -0.5392 N   0  0  0  0  0  0  0  0  0  0  0  0\\n    3.2495    2.1228   -0.2739 C   0  0  0  0  0  0  0  0  0  0  0  0\\n    4.1522    3.0020   -0.3112 O   0  0  0  0  0  0  0  0  0  0  0  0\\n    3.6057    0.7172   -0.0010 C   0  0  0  0  0  0  0  0  0  0  0  0\\n    2.8131   -0.2819   -0.4763 N   0  0  0  0  0  0  0  0  0  0  0  0\\n    3.1036   -1.6009   -0.3014 C   0  0  0  0  0  0  0  0  0  0  0  0\\n    2.2333   -2.6515   -0.8920 C   0  0  0  0  0  0  0  0  0  0  0  0\\n    2.7000   -3.8134   -1.0403 O   0  0  0  0  0  0  0  0  0  0  0  0\\n    0.8836   -2.4007   -1.3283 N   0  0  0  0  0  0  0  0  0  0  0  0\\n    0.0370   -1.3011   -0.8635 C   0  0  0  0  0  0  0  0  0  0  0  0\\n   -0.2297   -1.4093    0.6452 C   0  0  0  0  0  0  0  0  0  0  0  0\\n   -1.2284   -2.4403    0.9306 N   0  0  0  0  0  0  0  0  0  0  0  0\\n   -2.5935   -2.4230    0.4716 C   0  0  0  0  0  0  0  0  0  0  0  0\\n   -3.2211   -3.5158    0.4311 O   0  0  0  0  0  0  0  0  0  0  0  0\\n   -3.2988   -1.1774    0.0699 C   0  0  0  0  0  0  0  0  0  0  0  0\\n   -2.8296    0.0408    0.4585 N   0  0  0  0  0  0  0  0  0  0  0  0\\n   -3.4679    1.2056    0.1612 C   0  0  0  0  0  0  0  0  0  0  0  0\\n   -4.6670    1.1660   -0.5640 C   0  0  0  0  0  0  0  0  0  0  0  0\\n   -5.1723   -0.0647   -0.9829 C   0  0  0  0  0  0  0  0  0  0  0  0\\n   -4.4942   -1.2421   -0.6650 C   0  0  0  0  0  0  0  0  0  0  0  0\\n    4.2724   -1.9525    0.3941 C   0  0  0  0  0  0  0  0  0  0  0  0\\n    5.1064   -0.9500    0.8912 C   0  0  0  0  0  0  0  0  0  0  0  0\\n    4.7816    0.3914    0.6892 C   0  0  0  0  0  0  0  0  0  0  0  0\\n   -1.3014    3.2644    1.7613 H   0  0  0  0  0  0  0  0  0  0  0  0\\n   -0.5736    3.4218   -0.7222 H   0  0  0  0  0  0  0  0  0  0  0  0\\n   -0.7667    1.6341   -0.7432 H   0  0  0  0  0  0  0  0  0  0  0  0\\n    1.0407    3.1260    1.2722 H   0  0  0  0  0  0  0  0  0  0  0  0\\n    0.9669    1.3537    0.9806 H   0  0  0  0  0  0  0  0  0  0  0  0\\n    1.7625    3.2841   -1.2209 H   0  0  0  0  0  0  0  0  0  0  0  0\\n    0.4365   -3.1161   -1.9455 H   0  0  0  0  0  0  0  0  0  0  0  0\\n    0.4974   -0.3291   -1.1157 H   0  0  0  0  0  0  0  0  0  0  0  0\\n   -0.9236   -1.3215   -1.4200 H   0  0  0  0  0  0  0  0  0  0  0  0\\n    0.7121   -1.6574    1.1786 H   0  0  0  0  0  0  0  0  0  0  0  0\\n   -0.5524   -0.4381    1.0610 H   0  0  0  0  0  0  0  0  0  0  0  0\\n   -0.8947   -3.3034    1.4168 H   0  0  0  0  0  0  0  0  0  0  0  0\\n   -5.2027    2.0751   -0.8073 H   0  0  0  0  0  0  0  0  0  0  0  0\\n   -6.0949   -0.1069   -1.5474 H   0  0  0  0  0  0  0  0  0  0  0  0\\n   -4.9016   -2.1919   -0.9885 H   0  0  0  0  0  0  0  0  0  0  0  0\\n    4.5401   -2.9901    0.5501 H   0  0  0  0  0  0  0  0  0  0  0  0\\n    6.0094   -1.2133    1.4267 H   0  0  0  0  0  0  0  0  0  0  0  0\\n    5.4373    1.1640    1.0712 H   0  0  0  0  0  0  0  0  0  0  0  0\\n  1  2  2  0\\n  2  3  1  0\\n  3  4  1  0\\n  4  5  1  0\\n  5  6  1  0\\n  6  7  1  0\\n  7  8  2  0\\n  7  9  1  0\\n  9 10  1  0\\n 10 11  2  0\\n 11 12  1  0\\n 12 13  2  0\\n 12 14  1  0\\n 14 15  1  0\\n 15 16  1  0\\n 16 17  1  0\\n 17 18  1  0\\n 18 19  2  0\\n 18 20  1  0\\n 20 21  1  0\\n 21 22  2  0\\n 22 23  1  0\\n 23 24  2  0\\n 24 25  1  0\\n 11 26  1  0\\n 26 27  2  0\\n 27 28  1  0\\n 22  2  1  0\\n 28  9  2  0\\n 25 20  2  0\\n  3 29  1  0\\n  4 30  1  0\\n  4 31  1  0\\n  5 32  1  0\\n  5 33  1  0\\n  6 34  1  0\\n 14 35  1  0\\n 15 36  1  0\\n 15 37  1  0\\n 16 38  1  0\\n 16 39  1  0\\n 17 40  1  0\\n 23 41  1  0\\n 24 42  1  0\\n 25 43  1  0\\n 26 44  1  0\\n 27 45  1  0\\n 28 46  1  0\\nM  END\\n58.93\\n\\n\",\"sdf\");\n",
       "\tviewer_1490708808477152.setStyle({\"stick\": {}});\n",
       "\tviewer_1490708808477152.setBackgroundColor(\"0xeeeeee\");\n",
       "\tviewer_1490708808477152.zoomTo();\n",
       "viewer_1490708808477152.render();\n",
       "});\n",
       "</script><script>$(\"#m1_r7\").append($(\"#3dmolviewer_1490708808477152\")); </script>"
      ],
      "text/plain": [
       "<IPython.core.display.HTML object>"
      ]
     },
     "execution_count": 245,
     "metadata": {},
     "output_type": "execute_result"
    }
   ],
   "source": [
    "p1_r_handles[6].insert('m1_r7')"
   ]
  },
  {
   "cell_type": "code",
   "execution_count": 246,
   "metadata": {
    "collapsed": false,
    "deletable": true,
    "editable": true
   },
   "outputs": [
    {
     "data": {
      "text/html": [
       "<div id=\"3dmolviewer_14907088085216186\"  style=\"position: relative; width: 200px; height: 200px\">\n",
       "<script>\n",
       "if(typeof $3Dmolpromise === 'undefined') $3Dmolpromise = $.when($.getScript('http://3dmol.csb.pitt.edu/build/3Dmol.js'))\n",
       "var viewer_14907088085216186 = null;\n",
       "$3Dmolpromise.done(function() {\n",
       "viewer_14907088085216186 = $3Dmol.createViewer($(\"#3dmolviewer_14907088085216186\"),{backgroundColor:\"white\"});\n",
       "\tviewer_14907088085216186.removeAllModels();\n",
       "\tviewer_14907088085216186.addModel(\"\\n     RDKit          3D\\n\\n 46 48  0  0  0  0  0  0  0  0999 V2000\\n    3.5019   -2.9983    1.8298 O   0  0  0  0  0  0  0  0  0  0  0  0\\n    2.8920   -2.1483    1.1263 C   0  0  0  0  0  0  0  0  0  0  0  0\\n    1.4866   -2.3215    0.8970 N   0  0  0  0  0  0  0  0  0  0  0  0\\n    0.8898   -2.1520   -0.4280 C   0  0  0  0  0  0  0  0  0  0  0  0\\n   -0.5615   -1.6731   -0.3102 C   0  0  0  0  0  0  0  0  0  0  0  0\\n   -1.4632   -2.7487    0.0980 N   0  0  0  0  0  0  0  0  0  0  0  0\\n   -2.8749   -2.5848    0.3368 C   0  0  0  0  0  0  0  0  0  0  0  0\\n   -3.5168   -3.5847    0.7596 O   0  0  0  0  0  0  0  0  0  0  0  0\\n   -3.6170   -1.3093    0.1026 C   0  0  0  0  0  0  0  0  0  0  0  0\\n   -2.9814   -0.1905   -0.3506 N   0  0  0  0  0  0  0  0  0  0  0  0\\n   -3.6324    0.9824   -0.5946 C   0  0  0  0  0  0  0  0  0  0  0  0\\n   -2.8920    2.1483   -1.1263 C   0  0  0  0  0  0  0  0  0  0  0  0\\n   -3.5019    2.9983   -1.8298 O   0  0  0  0  0  0  0  0  0  0  0  0\\n   -1.4866    2.3215   -0.8970 N   0  0  0  0  0  0  0  0  0  0  0  0\\n   -0.8898    2.1520    0.4280 C   0  0  0  0  0  0  0  0  0  0  0  0\\n    0.5615    1.6731    0.3102 C   0  0  0  0  0  0  0  0  0  0  0  0\\n    1.4632    2.7487   -0.0980 N   0  0  0  0  0  0  0  0  0  0  0  0\\n    2.8749    2.5848   -0.3368 C   0  0  0  0  0  0  0  0  0  0  0  0\\n    3.5168    3.5847   -0.7596 O   0  0  0  0  0  0  0  0  0  0  0  0\\n    3.6170    1.3093   -0.1026 C   0  0  0  0  0  0  0  0  0  0  0  0\\n    2.9814    0.1905    0.3506 N   0  0  0  0  0  0  0  0  0  0  0  0\\n    3.6324   -0.9824    0.5946 C   0  0  0  0  0  0  0  0  0  0  0  0\\n    5.0168   -1.0537    0.3877 C   0  0  0  0  0  0  0  0  0  0  0  0\\n    5.6973    0.0671   -0.0838 C   0  0  0  0  0  0  0  0  0  0  0  0\\n    5.0036    1.2513   -0.3313 C   0  0  0  0  0  0  0  0  0  0  0  0\\n   -5.0168    1.0537   -0.3877 C   0  0  0  0  0  0  0  0  0  0  0  0\\n   -5.6973   -0.0671    0.0838 C   0  0  0  0  0  0  0  0  0  0  0  0\\n   -5.0036   -1.2513    0.3313 C   0  0  0  0  0  0  0  0  0  0  0  0\\n    0.9695   -2.9252    1.5759 H   0  0  0  0  0  0  0  0  0  0  0  0\\n    0.9333   -3.1151   -0.9808 H   0  0  0  0  0  0  0  0  0  0  0  0\\n    1.4608   -1.4078   -1.0207 H   0  0  0  0  0  0  0  0  0  0  0  0\\n   -0.8797   -1.2867   -1.3021 H   0  0  0  0  0  0  0  0  0  0  0  0\\n   -0.6117   -0.8634    0.4445 H   0  0  0  0  0  0  0  0  0  0  0  0\\n   -1.0655   -3.7028    0.2577 H   0  0  0  0  0  0  0  0  0  0  0  0\\n   -0.9695    2.9252   -1.5759 H   0  0  0  0  0  0  0  0  0  0  0  0\\n   -0.9333    3.1151    0.9808 H   0  0  0  0  0  0  0  0  0  0  0  0\\n   -1.4608    1.4078    1.0207 H   0  0  0  0  0  0  0  0  0  0  0  0\\n    0.6117    0.8634   -0.4445 H   0  0  0  0  0  0  0  0  0  0  0  0\\n    0.8797    1.2867    1.3021 H   0  0  0  0  0  0  0  0  0  0  0  0\\n    1.0655    3.7028   -0.2577 H   0  0  0  0  0  0  0  0  0  0  0  0\\n    5.5642   -1.9681    0.5806 H   0  0  0  0  0  0  0  0  0  0  0  0\\n    6.7653    0.0199   -0.2533 H   0  0  0  0  0  0  0  0  0  0  0  0\\n    5.5506    2.1137   -0.6909 H   0  0  0  0  0  0  0  0  0  0  0  0\\n   -5.5642    1.9681   -0.5806 H   0  0  0  0  0  0  0  0  0  0  0  0\\n   -6.7653   -0.0199    0.2533 H   0  0  0  0  0  0  0  0  0  0  0  0\\n   -5.5506   -2.1137    0.6908 H   0  0  0  0  0  0  0  0  0  0  0  0\\n  1  2  2  0\\n  2  3  1  0\\n  3  4  1  0\\n  4  5  1  0\\n  5  6  1  0\\n  6  7  1  0\\n  7  8  2  0\\n  7  9  1  0\\n  9 10  1  0\\n 10 11  2  0\\n 11 12  1  0\\n 12 13  2  0\\n 12 14  1  0\\n 14 15  1  0\\n 15 16  1  0\\n 16 17  1  0\\n 17 18  1  0\\n 18 19  2  0\\n 18 20  1  0\\n 20 21  1  0\\n 21 22  2  0\\n 22 23  1  0\\n 23 24  2  0\\n 24 25  1  0\\n 11 26  1  0\\n 26 27  2  0\\n 27 28  1  0\\n 22  2  1  0\\n 28  9  2  0\\n 25 20  2  0\\n  3 29  1  0\\n  4 30  1  0\\n  4 31  1  0\\n  5 32  1  0\\n  5 33  1  0\\n  6 34  1  0\\n 14 35  1  0\\n 15 36  1  0\\n 15 37  1  0\\n 16 38  1  0\\n 16 39  1  0\\n 17 40  1  0\\n 23 41  1  0\\n 24 42  1  0\\n 25 43  1  0\\n 26 44  1  0\\n 27 45  1  0\\n 28 46  1  0\\nM  END\\n56.52\\n\\n\",\"sdf\");\n",
       "\tviewer_14907088085216186.setStyle({\"stick\": {}});\n",
       "\tviewer_14907088085216186.setBackgroundColor(\"0xeeeeee\");\n",
       "\tviewer_14907088085216186.zoomTo();\n",
       "viewer_14907088085216186.render();\n",
       "});\n",
       "</script><script>$(\"#m1_r8\").append($(\"#3dmolviewer_14907088085216186\")); </script>"
      ],
      "text/plain": [
       "<IPython.core.display.HTML object>"
      ]
     },
     "execution_count": 246,
     "metadata": {},
     "output_type": "execute_result"
    }
   ],
   "source": [
    "p1_r_handles[7].insert('m1_r8')"
   ]
  },
  {
   "cell_type": "code",
   "execution_count": 247,
   "metadata": {
    "collapsed": false,
    "deletable": true,
    "editable": true
   },
   "outputs": [
    {
     "data": {
      "text/html": [
       "<div id=\"3dmolviewer_14907088085674248\"  style=\"position: relative; width: 200px; height: 200px\">\n",
       "<script>\n",
       "if(typeof $3Dmolpromise === 'undefined') $3Dmolpromise = $.when($.getScript('http://3dmol.csb.pitt.edu/build/3Dmol.js'))\n",
       "var viewer_14907088085674248 = null;\n",
       "$3Dmolpromise.done(function() {\n",
       "viewer_14907088085674248 = $3Dmol.createViewer($(\"#3dmolviewer_14907088085674248\"),{backgroundColor:\"white\"});\n",
       "\tviewer_14907088085674248.removeAllModels();\n",
       "\tviewer_14907088085674248.addModel(\"\\n     RDKit          3D\\n\\n 46 48  0  0  0  0  0  0  0  0999 V2000\\n    3.3859    1.3534    3.3557 O   0  0  0  0  0  0  0  0  0  0  0  0\\n    2.8147    1.1257    2.2550 C   0  0  0  0  0  0  0  0  0  0  0  0\\n    1.5016    1.6629    2.0376 N   0  0  0  0  0  0  0  0  0  0  0  0\\n    1.0966    2.2952    0.7819 C   0  0  0  0  0  0  0  0  0  0  0  0\\n   -0.3691    1.9720    0.4836 C   0  0  0  0  0  0  0  0  0  0  0  0\\n   -0.7652    2.4853   -0.8290 N   0  0  0  0  0  0  0  0  0  0  0  0\\n   -2.1205    2.4769   -1.3082 C   0  0  0  0  0  0  0  0  0  0  0  0\\n   -2.4465    3.3108   -2.1960 O   0  0  0  0  0  0  0  0  0  0  0  0\\n   -3.1401    1.5165   -0.8186 C   0  0  0  0  0  0  0  0  0  0  0  0\\n   -2.7630    0.3321   -0.2613 N   0  0  0  0  0  0  0  0  0  0  0  0\\n   -3.6596   -0.6049    0.1565 C   0  0  0  0  0  0  0  0  0  0  0  0\\n   -3.1868   -1.8628    0.7808 C   0  0  0  0  0  0  0  0  0  0  0  0\\n   -3.9802   -2.5318    1.4969 O   0  0  0  0  0  0  0  0  0  0  0  0\\n   -1.8335   -2.3214    0.6417 N   0  0  0  0  0  0  0  0  0  0  0  0\\n   -1.1184   -2.3223   -0.6349 C   0  0  0  0  0  0  0  0  0  0  0  0\\n    0.3684   -2.0423   -0.4018 C   0  0  0  0  0  0  0  0  0  0  0  0\\n    1.0721   -1.8472   -1.6711 N   0  0  0  0  0  0  0  0  0  0  0  0\\n    2.4984   -1.7034   -1.7702 C   0  0  0  0  0  0  0  0  0  0  0  0\\n    3.0630   -2.0508   -2.8427 O   0  0  0  0  0  0  0  0  0  0  0  0\\n    3.3239   -1.1377   -0.6758 C   0  0  0  0  0  0  0  0  0  0  0  0\\n    2.7650   -0.3159    0.2557 N   0  0  0  0  0  0  0  0  0  0  0  0\\n    3.4879    0.2683    1.2518 C   0  0  0  0  0  0  0  0  0  0  0  0\\n    4.8651    0.0120    1.3375 C   0  0  0  0  0  0  0  0  0  0  0  0\\n    5.4688   -0.8183    0.3935 C   0  0  0  0  0  0  0  0  0  0  0  0\\n    4.7032   -1.3926   -0.6210 C   0  0  0  0  0  0  0  0  0  0  0  0\\n   -5.0322   -0.3440    0.0244 C   0  0  0  0  0  0  0  0  0  0  0  0\\n   -5.4507    0.8567   -0.5484 C   0  0  0  0  0  0  0  0  0  0  0  0\\n   -4.5077    1.7900   -0.9784 C   0  0  0  0  0  0  0  0  0  0  0  0\\n    0.9437    1.9077    2.8873 H   0  0  0  0  0  0  0  0  0  0  0  0\\n    1.2214    3.3955    0.8748 H   0  0  0  0  0  0  0  0  0  0  0  0\\n    1.7310    1.9537   -0.0615 H   0  0  0  0  0  0  0  0  0  0  0  0\\n   -0.4916    0.8751    0.5071 H   0  0  0  0  0  0  0  0  0  0  0  0\\n   -1.0151    2.4232    1.2678 H   0  0  0  0  0  0  0  0  0  0  0  0\\n   -0.0670    3.0245   -1.3910 H   0  0  0  0  0  0  0  0  0  0  0  0\\n   -1.4784   -2.9738    1.3776 H   0  0  0  0  0  0  0  0  0  0  0  0\\n   -1.2363   -3.3171   -1.1157 H   0  0  0  0  0  0  0  0  0  0  0  0\\n   -1.5345   -1.5625   -1.3269 H   0  0  0  0  0  0  0  0  0  0  0  0\\n    0.4553   -1.1342    0.2199 H   0  0  0  0  0  0  0  0  0  0  0  0\\n    0.8248   -2.8941    0.1475 H   0  0  0  0  0  0  0  0  0  0  0  0\\n    0.5463   -1.9828   -2.5651 H   0  0  0  0  0  0  0  0  0  0  0  0\\n    5.4689    0.4537    2.1204 H   0  0  0  0  0  0  0  0  0  0  0  0\\n    6.5317   -1.0157    0.4472 H   0  0  0  0  0  0  0  0  0  0  0  0\\n    5.1826   -2.0335   -1.3505 H   0  0  0  0  0  0  0  0  0  0  0  0\\n   -5.7727   -1.0628    0.3525 H   0  0  0  0  0  0  0  0  0  0  0  0\\n   -6.5072    1.0632   -0.6615 H   0  0  0  0  0  0  0  0  0  0  0  0\\n   -4.8440    2.7175   -1.4249 H   0  0  0  0  0  0  0  0  0  0  0  0\\n  1  2  2  0\\n  2  3  1  0\\n  3  4  1  0\\n  4  5  1  0\\n  5  6  1  0\\n  6  7  1  0\\n  7  8  2  0\\n  7  9  1  0\\n  9 10  1  0\\n 10 11  2  0\\n 11 12  1  0\\n 12 13  2  0\\n 12 14  1  0\\n 14 15  1  0\\n 15 16  1  0\\n 16 17  1  0\\n 17 18  1  0\\n 18 19  2  0\\n 18 20  1  0\\n 20 21  1  0\\n 21 22  2  0\\n 22 23  1  0\\n 23 24  2  0\\n 24 25  1  0\\n 11 26  1  0\\n 26 27  2  0\\n 27 28  1  0\\n 22  2  1  0\\n 28  9  2  0\\n 25 20  2  0\\n  3 29  1  0\\n  4 30  1  0\\n  4 31  1  0\\n  5 32  1  0\\n  5 33  1  0\\n  6 34  1  0\\n 14 35  1  0\\n 15 36  1  0\\n 15 37  1  0\\n 16 38  1  0\\n 16 39  1  0\\n 17 40  1  0\\n 23 41  1  0\\n 24 42  1  0\\n 25 43  1  0\\n 26 44  1  0\\n 27 45  1  0\\n 28 46  1  0\\nM  END\\n55.17\\n\\n\",\"sdf\");\n",
       "\tviewer_14907088085674248.setStyle({\"stick\": {}});\n",
       "\tviewer_14907088085674248.setBackgroundColor(\"0xeeeeee\");\n",
       "\tviewer_14907088085674248.zoomTo();\n",
       "viewer_14907088085674248.render();\n",
       "});\n",
       "</script><script>$(\"#m1_r9\").append($(\"#3dmolviewer_14907088085674248\")); </script>"
      ],
      "text/plain": [
       "<IPython.core.display.HTML object>"
      ]
     },
     "execution_count": 247,
     "metadata": {},
     "output_type": "execute_result"
    }
   ],
   "source": [
    "p1_r_handles[8].insert('m1_r9')"
   ]
  },
  {
   "cell_type": "markdown",
   "metadata": {
    "deletable": true,
    "editable": true
   },
   "source": [
    "We can now align all these structures:"
   ]
  },
  {
   "cell_type": "code",
   "execution_count": 248,
   "metadata": {
    "collapsed": false,
    "deletable": true,
    "editable": true
   },
   "outputs": [],
   "source": [
    "# align:\n",
    "for mol in allmol_m1_rdkit:\n",
    "    AllChem.AlignMolConformers(mol,atomIds=core_m1)"
   ]
  },
  {
   "cell_type": "code",
   "execution_count": 249,
   "metadata": {
    "collapsed": false,
    "deletable": true,
    "editable": true
   },
   "outputs": [
    {
     "data": {
      "text/html": [
       "<div id=\"3dmolviewer_14907088087030962\"  style=\"position: relative; width: 400px; height: 400px\">\n",
       "<script>\n",
       "if(typeof $3Dmolpromise === 'undefined') $3Dmolpromise = $.when($.getScript('http://3dmol.csb.pitt.edu/build/3Dmol.js'))\n",
       "var viewer_14907088087030962 = null;\n",
       "$3Dmolpromise.done(function() {\n",
       "viewer_14907088087030962 = $3Dmol.createViewer($(\"#3dmolviewer_14907088087030962\"),{backgroundColor:\"white\"});\n",
       "\tviewer_14907088087030962.removeAllModels();\n",
       "\tviewer_14907088087030962.addModel(\"\\n     RDKit          3D\\n\\n 28 30  0  0  0  0  0  0  0  0999 V2000\\n   -2.7277   -3.6810   -1.3871 O   0  0  0  0  0  0  0  0  0  0  0  0\\n   -2.2310   -2.5422   -1.1720 C   0  0  0  0  0  0  0  0  0  0  0  0\\n   -0.8311   -2.3481   -1.4507 N   0  0  0  0  0  0  0  0  0  0  0  0\\n    0.0044   -1.2911   -0.8792 C   0  0  0  0  0  0  0  0  0  0  0  0\\n    0.0943   -1.4234    0.6483 C   0  0  0  0  0  0  0  0  0  0  0  0\\n    1.0090   -2.5000    1.0305 N   0  0  0  0  0  0  0  0  0  0  0  0\\n    2.4167   -2.5396    0.7280 C   0  0  0  0  0  0  0  0  0  0  0  0\\n    2.9970   -3.6589    0.7438 O   0  0  0  0  0  0  0  0  0  0  0  0\\n    3.2159   -1.3234    0.4244 C   0  0  0  0  0  0  0  0  0  0  0  0\\n    2.7589   -0.0887    0.7738 N   0  0  0  0  0  0  0  0  0  0  0  0\\n    3.4764    1.0490    0.5655 C   0  0  0  0  0  0  0  0  0  0  0  0\\n    2.9371    2.3455    1.0188 C   0  0  0  0  0  0  0  0  0  0  0  0\\n    3.7269    3.2817    1.3170 O   0  0  0  0  0  0  0  0  0  0  0  0\\n    1.5272    2.5497    1.1654 N   0  0  0  0  0  0  0  0  0  0  0  0\\n    0.6489    2.4791   -0.0021 C   0  0  0  0  0  0  0  0  0  0  0  0\\n   -0.8216    2.3799    0.4262 C   0  0  0  0  0  0  0  0  0  0  0  0\\n   -1.7117    2.5886   -0.7156 N   0  0  0  0  0  0  0  0  0  0  0  0\\n   -3.1031    2.2673   -0.6092 C   0  0  0  0  0  0  0  0  0  0  0  0\\n   -3.9569    3.1859   -0.7359 O   0  0  0  0  0  0  0  0  0  0  0  0\\n   -3.5482    0.8767   -0.3964 C   0  0  0  0  0  0  0  0  0  0  0  0\\n   -2.7510   -0.1527   -0.7929 N   0  0  0  0  0  0  0  0  0  0  0  0\\n   -3.1161   -1.4589   -0.6691 C   0  0  0  0  0  0  0  0  0  0  0  0\\n   -4.3700   -1.7639   -0.1140 C   0  0  0  0  0  0  0  0  0  0  0  0\\n   -5.2105   -0.7295    0.2995 C   0  0  0  0  0  0  0  0  0  0  0  0\\n   -4.8074    0.5978    0.1530 C   0  0  0  0  0  0  0  0  0  0  0  0\\n    4.7468    0.9621   -0.0209 C   0  0  0  0  0  0  0  0  0  0  0  0\\n    5.2425   -0.2863   -0.3965 C   0  0  0  0  0  0  0  0  0  0  0  0\\n    4.4827   -1.4351   -0.1724 C   0  0  0  0  0  0  0  0  0  0  0  0\\n  1  2  2  0\\n  2  3  1  0\\n  3  4  1  0\\n  4  5  1  0\\n  5  6  1  0\\n  6  7  1  0\\n  7  8  2  0\\n  7  9  1  0\\n  9 10  1  0\\n 10 11  2  0\\n 11 12  1  0\\n 12 13  2  0\\n 12 14  1  0\\n 14 15  1  0\\n 15 16  1  0\\n 16 17  1  0\\n 17 18  1  0\\n 18 19  2  0\\n 18 20  1  0\\n 20 21  1  0\\n 21 22  2  0\\n 22 23  1  0\\n 23 24  2  0\\n 24 25  1  0\\n 11 26  1  0\\n 26 27  2  0\\n 27 28  1  0\\n 22  2  1  0\\n 28  9  2  0\\n 25 20  2  0\\nM  END\\n\",\"sdf\");\n",
       "\tviewer_14907088087030962.addModel(\"\\n     RDKit          3D\\n\\n 28 30  0  0  0  0  0  0  0  0999 V2000\\n    3.9390   -3.2867   -0.1587 O   0  0  0  0  0  0  0  0  0  0  0  0\\n    3.1610   -2.2968   -0.2232 C   0  0  0  0  0  0  0  0  0  0  0  0\\n    1.7496   -2.5136   -0.1207 N   0  0  0  0  0  0  0  0  0  0  0  0\\n    0.8265   -1.9568   -1.1090 C   0  0  0  0  0  0  0  0  0  0  0  0\\n   -0.5133   -1.5909   -0.4655 C   0  0  0  0  0  0  0  0  0  0  0  0\\n   -1.2498   -2.7792   -0.0275 N   0  0  0  0  0  0  0  0  0  0  0  0\\n   -2.4797   -2.7512    0.7224 C   0  0  0  0  0  0  0  0  0  0  0  0\\n   -2.8582   -3.8202    1.2742 O   0  0  0  0  0  0  0  0  0  0  0  0\\n   -3.3401   -1.5414    0.8442 C   0  0  0  0  0  0  0  0  0  0  0  0\\n   -3.0024   -0.3814    0.2176 N   0  0  0  0  0  0  0  0  0  0  0  0\\n   -3.7841    0.7314    0.2488 C   0  0  0  0  0  0  0  0  0  0  0  0\\n   -3.3623    1.9345   -0.4919 C   0  0  0  0  0  0  0  0  0  0  0  0\\n   -4.2322    2.7220   -0.9524 O   0  0  0  0  0  0  0  0  0  0  0  0\\n   -1.9756    2.2082   -0.7279 N   0  0  0  0  0  0  0  0  0  0  0  0\\n   -1.0286    2.2518    0.3858 C   0  0  0  0  0  0  0  0  0  0  0  0\\n    0.4156    2.1533   -0.1174 C   0  0  0  0  0  0  0  0  0  0  0  0\\n    1.3586    2.3957    0.9744 N   0  0  0  0  0  0  0  0  0  0  0  0\\n    2.7633    2.5022    0.7267 C   0  0  0  0  0  0  0  0  0  0  0  0\\n    3.3726    3.5371    1.1097 O   0  0  0  0  0  0  0  0  0  0  0  0\\n    3.5163    1.4009    0.0930 C   0  0  0  0  0  0  0  0  0  0  0  0\\n    3.0191    0.1322    0.1246 N   0  0  0  0  0  0  0  0  0  0  0  0\\n    3.7178   -0.9358   -0.3552 C   0  0  0  0  0  0  0  0  0  0  0  0\\n    4.9926   -0.7351   -0.9052 C   0  0  0  0  0  0  0  0  0  0  0  0\\n    5.5191    0.5546   -0.9631 C   0  0  0  0  0  0  0  0  0  0  0  0\\n    4.7877    1.6284   -0.4565 C   0  0  0  0  0  0  0  0  0  0  0  0\\n   -4.9999    0.6983    0.9443 C   0  0  0  0  0  0  0  0  0  0  0  0\\n   -5.3715   -0.4681    1.6125 C   0  0  0  0  0  0  0  0  0  0  0  0\\n   -4.5458   -1.5928    1.5662 C   0  0  0  0  0  0  0  0  0  0  0  0\\n  1  2  2  0\\n  2  3  1  0\\n  3  4  1  0\\n  4  5  1  0\\n  5  6  1  0\\n  6  7  1  0\\n  7  8  2  0\\n  7  9  1  0\\n  9 10  1  0\\n 10 11  2  0\\n 11 12  1  0\\n 12 13  2  0\\n 12 14  1  0\\n 14 15  1  0\\n 15 16  1  0\\n 16 17  1  0\\n 17 18  1  0\\n 18 19  2  0\\n 18 20  1  0\\n 20 21  1  0\\n 21 22  2  0\\n 22 23  1  0\\n 23 24  2  0\\n 24 25  1  0\\n 11 26  1  0\\n 26 27  2  0\\n 27 28  1  0\\n 22  2  1  0\\n 28  9  2  0\\n 25 20  2  0\\nM  END\\n\",\"sdf\");\n",
       "\tviewer_14907088087030962.addModel(\"\\n     RDKit          3D\\n\\n 28 30  0  0  0  0  0  0  0  0999 V2000\\n    3.3859    1.3534    3.3557 O   0  0  0  0  0  0  0  0  0  0  0  0\\n    2.8147    1.1257    2.2550 C   0  0  0  0  0  0  0  0  0  0  0  0\\n    1.5016    1.6629    2.0376 N   0  0  0  0  0  0  0  0  0  0  0  0\\n    1.0966    2.2952    0.7819 C   0  0  0  0  0  0  0  0  0  0  0  0\\n   -0.3691    1.9720    0.4836 C   0  0  0  0  0  0  0  0  0  0  0  0\\n   -0.7652    2.4853   -0.8290 N   0  0  0  0  0  0  0  0  0  0  0  0\\n   -2.1205    2.4769   -1.3082 C   0  0  0  0  0  0  0  0  0  0  0  0\\n   -2.4465    3.3108   -2.1960 O   0  0  0  0  0  0  0  0  0  0  0  0\\n   -3.1401    1.5165   -0.8186 C   0  0  0  0  0  0  0  0  0  0  0  0\\n   -2.7630    0.3321   -0.2613 N   0  0  0  0  0  0  0  0  0  0  0  0\\n   -3.6596   -0.6049    0.1565 C   0  0  0  0  0  0  0  0  0  0  0  0\\n   -3.1868   -1.8628    0.7808 C   0  0  0  0  0  0  0  0  0  0  0  0\\n   -3.9802   -2.5318    1.4969 O   0  0  0  0  0  0  0  0  0  0  0  0\\n   -1.8335   -2.3214    0.6417 N   0  0  0  0  0  0  0  0  0  0  0  0\\n   -1.1184   -2.3223   -0.6349 C   0  0  0  0  0  0  0  0  0  0  0  0\\n    0.3684   -2.0423   -0.4018 C   0  0  0  0  0  0  0  0  0  0  0  0\\n    1.0721   -1.8472   -1.6711 N   0  0  0  0  0  0  0  0  0  0  0  0\\n    2.4984   -1.7034   -1.7702 C   0  0  0  0  0  0  0  0  0  0  0  0\\n    3.0630   -2.0508   -2.8427 O   0  0  0  0  0  0  0  0  0  0  0  0\\n    3.3239   -1.1377   -0.6758 C   0  0  0  0  0  0  0  0  0  0  0  0\\n    2.7650   -0.3159    0.2557 N   0  0  0  0  0  0  0  0  0  0  0  0\\n    3.4879    0.2683    1.2518 C   0  0  0  0  0  0  0  0  0  0  0  0\\n    4.8651    0.0120    1.3375 C   0  0  0  0  0  0  0  0  0  0  0  0\\n    5.4688   -0.8183    0.3935 C   0  0  0  0  0  0  0  0  0  0  0  0\\n    4.7032   -1.3926   -0.6210 C   0  0  0  0  0  0  0  0  0  0  0  0\\n   -5.0322   -0.3440    0.0244 C   0  0  0  0  0  0  0  0  0  0  0  0\\n   -5.4507    0.8567   -0.5484 C   0  0  0  0  0  0  0  0  0  0  0  0\\n   -4.5077    1.7900   -0.9784 C   0  0  0  0  0  0  0  0  0  0  0  0\\n  1  2  2  0\\n  2  3  1  0\\n  3  4  1  0\\n  4  5  1  0\\n  5  6  1  0\\n  6  7  1  0\\n  7  8  2  0\\n  7  9  1  0\\n  9 10  1  0\\n 10 11  2  0\\n 11 12  1  0\\n 12 13  2  0\\n 12 14  1  0\\n 14 15  1  0\\n 15 16  1  0\\n 16 17  1  0\\n 17 18  1  0\\n 18 19  2  0\\n 18 20  1  0\\n 20 21  1  0\\n 21 22  2  0\\n 22 23  1  0\\n 23 24  2  0\\n 24 25  1  0\\n 11 26  1  0\\n 26 27  2  0\\n 27 28  1  0\\n 22  2  1  0\\n 28  9  2  0\\n 25 20  2  0\\nM  END\\n\",\"sdf\");\n",
       "\tviewer_14907088087030962.addModel(\"\\n     RDKit          3D\\n\\n 28 30  0  0  0  0  0  0  0  0999 V2000\\n   -3.7017    3.4568    0.8614 O   0  0  0  0  0  0  0  0  0  0  0  0\\n   -2.9258    2.4835    0.6617 C   0  0  0  0  0  0  0  0  0  0  0  0\\n   -1.5336    2.6284    0.9647 N   0  0  0  0  0  0  0  0  0  0  0  0\\n   -0.5338    2.5046   -0.0956 C   0  0  0  0  0  0  0  0  0  0  0  0\\n    0.8735    2.3475    0.4966 C   0  0  0  0  0  0  0  0  0  0  0  0\\n    1.8945    2.5025   -0.5392 N   0  0  0  0  0  0  0  0  0  0  0  0\\n    3.2495    2.1228   -0.2739 C   0  0  0  0  0  0  0  0  0  0  0  0\\n    4.1522    3.0020   -0.3112 O   0  0  0  0  0  0  0  0  0  0  0  0\\n    3.6057    0.7172   -0.0010 C   0  0  0  0  0  0  0  0  0  0  0  0\\n    2.8131   -0.2819   -0.4763 N   0  0  0  0  0  0  0  0  0  0  0  0\\n    3.1036   -1.6009   -0.3014 C   0  0  0  0  0  0  0  0  0  0  0  0\\n    2.2333   -2.6515   -0.8920 C   0  0  0  0  0  0  0  0  0  0  0  0\\n    2.7000   -3.8134   -1.0403 O   0  0  0  0  0  0  0  0  0  0  0  0\\n    0.8836   -2.4007   -1.3283 N   0  0  0  0  0  0  0  0  0  0  0  0\\n    0.0370   -1.3011   -0.8635 C   0  0  0  0  0  0  0  0  0  0  0  0\\n   -0.2297   -1.4093    0.6452 C   0  0  0  0  0  0  0  0  0  0  0  0\\n   -1.2284   -2.4403    0.9306 N   0  0  0  0  0  0  0  0  0  0  0  0\\n   -2.5935   -2.4230    0.4716 C   0  0  0  0  0  0  0  0  0  0  0  0\\n   -3.2211   -3.5158    0.4311 O   0  0  0  0  0  0  0  0  0  0  0  0\\n   -3.2988   -1.1774    0.0699 C   0  0  0  0  0  0  0  0  0  0  0  0\\n   -2.8296    0.0408    0.4585 N   0  0  0  0  0  0  0  0  0  0  0  0\\n   -3.4679    1.2056    0.1612 C   0  0  0  0  0  0  0  0  0  0  0  0\\n   -4.6670    1.1660   -0.5640 C   0  0  0  0  0  0  0  0  0  0  0  0\\n   -5.1723   -0.0647   -0.9829 C   0  0  0  0  0  0  0  0  0  0  0  0\\n   -4.4942   -1.2421   -0.6650 C   0  0  0  0  0  0  0  0  0  0  0  0\\n    4.2724   -1.9525    0.3941 C   0  0  0  0  0  0  0  0  0  0  0  0\\n    5.1064   -0.9500    0.8912 C   0  0  0  0  0  0  0  0  0  0  0  0\\n    4.7816    0.3914    0.6892 C   0  0  0  0  0  0  0  0  0  0  0  0\\n  1  2  2  0\\n  2  3  1  0\\n  3  4  1  0\\n  4  5  1  0\\n  5  6  1  0\\n  6  7  1  0\\n  7  8  2  0\\n  7  9  1  0\\n  9 10  1  0\\n 10 11  2  0\\n 11 12  1  0\\n 12 13  2  0\\n 12 14  1  0\\n 14 15  1  0\\n 15 16  1  0\\n 16 17  1  0\\n 17 18  1  0\\n 18 19  2  0\\n 18 20  1  0\\n 20 21  1  0\\n 21 22  2  0\\n 22 23  1  0\\n 23 24  2  0\\n 24 25  1  0\\n 11 26  1  0\\n 26 27  2  0\\n 27 28  1  0\\n 22  2  1  0\\n 28  9  2  0\\n 25 20  2  0\\nM  END\\n\",\"sdf\");\n",
       "\tviewer_14907088087030962.addModel(\"\\n     RDKit          3D\\n\\n 28 30  0  0  0  0  0  0  0  0999 V2000\\n   -3.9852    2.3096    1.9552 O   0  0  0  0  0  0  0  0  0  0  0  0\\n   -3.1686    1.8184    1.1303 C   0  0  0  0  0  0  0  0  0  0  0  0\\n   -1.8624    2.4028    1.0140 N   0  0  0  0  0  0  0  0  0  0  0  0\\n   -1.1090    2.3992   -0.2407 C   0  0  0  0  0  0  0  0  0  0  0  0\\n    0.3740    2.7145    0.0142 C   0  0  0  0  0  0  0  0  0  0  0  0\\n    1.2307    2.1081   -1.0033 N   0  0  0  0  0  0  0  0  0  0  0  0\\n    2.6510    2.2068   -0.8956 C   0  0  0  0  0  0  0  0  0  0  0  0\\n    3.2175    3.3136   -1.1009 O   0  0  0  0  0  0  0  0  0  0  0  0\\n    3.4360    1.0204   -0.5173 C   0  0  0  0  0  0  0  0  0  0  0  0\\n    2.8159    0.0036    0.1397 N   0  0  0  0  0  0  0  0  0  0  0  0\\n    3.4654   -1.1131    0.5633 C   0  0  0  0  0  0  0  0  0  0  0  0\\n    2.7488   -2.1640    1.3407 C   0  0  0  0  0  0  0  0  0  0  0  0\\n    3.3873   -3.1941    1.6891 O   0  0  0  0  0  0  0  0  0  0  0  0\\n    1.3736   -2.0509    1.7647 N   0  0  0  0  0  0  0  0  0  0  0  0\\n    0.3630   -1.1472    1.2106 C   0  0  0  0  0  0  0  0  0  0  0  0\\n    0.0045   -1.5430   -0.2246 C   0  0  0  0  0  0  0  0  0  0  0  0\\n   -0.8854   -2.7009   -0.2120 N   0  0  0  0  0  0  0  0  0  0  0  0\\n   -2.2432   -2.6942   -0.6830 C   0  0  0  0  0  0  0  0  0  0  0  0\\n   -2.7114   -3.7665   -1.1531 O   0  0  0  0  0  0  0  0  0  0  0  0\\n   -3.1324   -1.5039   -0.5850 C   0  0  0  0  0  0  0  0  0  0  0  0\\n   -2.7748   -0.4163    0.1592 N   0  0  0  0  0  0  0  0  0  0  0  0\\n   -3.5912    0.6675    0.3074 C   0  0  0  0  0  0  0  0  0  0  0  0\\n   -4.8574    0.6655   -0.2907 C   0  0  0  0  0  0  0  0  0  0  0  0\\n   -5.2496   -0.4277   -1.0594 C   0  0  0  0  0  0  0  0  0  0  0  0\\n   -4.3910   -1.5153   -1.2118 C   0  0  0  0  0  0  0  0  0  0  0  0\\n    4.8407   -1.2343    0.2948 C   0  0  0  0  0  0  0  0  0  0  0  0\\n    5.5069   -0.2067   -0.3772 C   0  0  0  0  0  0  0  0  0  0  0  0\\n    4.8093    0.9334   -0.7783 C   0  0  0  0  0  0  0  0  0  0  0  0\\n  1  2  2  0\\n  2  3  1  0\\n  3  4  1  0\\n  4  5  1  0\\n  5  6  1  0\\n  6  7  1  0\\n  7  8  2  0\\n  7  9  1  0\\n  9 10  1  0\\n 10 11  2  0\\n 11 12  1  0\\n 12 13  2  0\\n 12 14  1  0\\n 14 15  1  0\\n 15 16  1  0\\n 16 17  1  0\\n 17 18  1  0\\n 18 19  2  0\\n 18 20  1  0\\n 20 21  1  0\\n 21 22  2  0\\n 22 23  1  0\\n 23 24  2  0\\n 24 25  1  0\\n 11 26  1  0\\n 26 27  2  0\\n 27 28  1  0\\n 22  2  1  0\\n 28  9  2  0\\n 25 20  2  0\\nM  END\\n\",\"sdf\");\n",
       "\tviewer_14907088087030962.addModel(\"\\n     RDKit          3D\\n\\n 28 30  0  0  0  0  0  0  0  0999 V2000\\n    4.3736   -2.9680    1.0277 O   0  0  0  0  0  0  0  0  0  0  0  0\\n    3.3737   -2.4012    0.5099 C   0  0  0  0  0  0  0  0  0  0  0  0\\n    2.3548   -3.2109   -0.0952 N   0  0  0  0  0  0  0  0  0  0  0  0\\n    0.9337   -2.9474    0.1254 C   0  0  0  0  0  0  0  0  0  0  0  0\\n    0.0888   -3.5485   -1.0036 C   0  0  0  0  0  0  0  0  0  0  0  0\\n   -1.2906   -3.0759   -0.8996 N   0  0  0  0  0  0  0  0  0  0  0  0\\n   -1.6142   -1.7053   -1.1733 C   0  0  0  0  0  0  0  0  0  0  0  0\\n   -0.9042   -1.0471   -1.9818 O   0  0  0  0  0  0  0  0  0  0  0  0\\n   -2.6708   -1.0049   -0.4272 C   0  0  0  0  0  0  0  0  0  0  0  0\\n   -2.4669    0.2986   -0.1082 N   0  0  0  0  0  0  0  0  0  0  0  0\\n   -3.3387    1.0347    0.6274 C   0  0  0  0  0  0  0  0  0  0  0  0\\n   -3.0099    2.4403    0.9953 C   0  0  0  0  0  0  0  0  0  0  0  0\\n   -3.8525    3.1053    1.6570 O   0  0  0  0  0  0  0  0  0  0  0  0\\n   -1.7583    3.0755    0.6580 N   0  0  0  0  0  0  0  0  0  0  0  0\\n   -0.7577    2.5141   -0.2545 C   0  0  0  0  0  0  0  0  0  0  0  0\\n    0.4135    3.4766   -0.4725 C   0  0  0  0  0  0  0  0  0  0  0  0\\n    1.2508    3.0267   -1.5883 N   0  0  0  0  0  0  0  0  0  0  0  0\\n    1.8246    1.7120   -1.6710 C   0  0  0  0  0  0  0  0  0  0  0  0\\n    1.7344    1.0778   -2.7560 O   0  0  0  0  0  0  0  0  0  0  0  0\\n    2.5339    1.0847   -0.5380 C   0  0  0  0  0  0  0  0  0  0  0  0\\n    2.6117   -0.2750   -0.4732 N   0  0  0  0  0  0  0  0  0  0  0  0\\n    3.2971   -0.9233    0.5104 C   0  0  0  0  0  0  0  0  0  0  0  0\\n    3.9713   -0.1729    1.4852 C   0  0  0  0  0  0  0  0  0  0  0  0\\n    3.9211    1.2204    1.4351 C   0  0  0  0  0  0  0  0  0  0  0  0\\n    3.2095    1.8570    0.4180 C   0  0  0  0  0  0  0  0  0  0  0  0\\n   -4.5280    0.4272    1.0657 C   0  0  0  0  0  0  0  0  0  0  0  0\\n   -4.7752   -0.9118    0.7472 C   0  0  0  0  0  0  0  0  0  0  0  0\\n   -3.8421   -1.6404    0.0051 C   0  0  0  0  0  0  0  0  0  0  0  0\\n  1  2  2  0\\n  2  3  1  0\\n  3  4  1  0\\n  4  5  1  0\\n  5  6  1  0\\n  6  7  1  0\\n  7  8  2  0\\n  7  9  1  0\\n  9 10  1  0\\n 10 11  2  0\\n 11 12  1  0\\n 12 13  2  0\\n 12 14  1  0\\n 14 15  1  0\\n 15 16  1  0\\n 16 17  1  0\\n 17 18  1  0\\n 18 19  2  0\\n 18 20  1  0\\n 20 21  1  0\\n 21 22  2  0\\n 22 23  1  0\\n 23 24  2  0\\n 24 25  1  0\\n 11 26  1  0\\n 26 27  2  0\\n 27 28  1  0\\n 22  2  1  0\\n 28  9  2  0\\n 25 20  2  0\\nM  END\\n\",\"sdf\");\n",
       "\tviewer_14907088087030962.addModel(\"\\n     RDKit          3D\\n\\n 28 30  0  0  0  0  0  0  0  0999 V2000\\n    3.4062   -2.7734   -1.2735 O   0  0  0  0  0  0  0  0  0  0  0  0\\n    2.7526   -1.9226   -0.6121 C   0  0  0  0  0  0  0  0  0  0  0  0\\n    1.3808   -2.1847   -0.2939 N   0  0  0  0  0  0  0  0  0  0  0  0\\n    0.9465   -2.2362    1.1034 C   0  0  0  0  0  0  0  0  0  0  0  0\\n   -0.5507   -1.9371    1.2441 C   0  0  0  0  0  0  0  0  0  0  0  0\\n   -1.3698   -2.8681    0.4671 N   0  0  0  0  0  0  0  0  0  0  0  0\\n   -2.7855   -2.6846    0.3284 C   0  0  0  0  0  0  0  0  0  0  0  0\\n   -3.5359   -3.6973    0.3304 O   0  0  0  0  0  0  0  0  0  0  0  0\\n   -3.3851   -1.3434    0.1714 C   0  0  0  0  0  0  0  0  0  0  0  0\\n   -2.7614   -0.3973   -0.5875 N   0  0  0  0  0  0  0  0  0  0  0  0\\n   -3.2867    0.8448   -0.7891 C   0  0  0  0  0  0  0  0  0  0  0  0\\n   -2.6131    1.8238   -1.6837 C   0  0  0  0  0  0  0  0  0  0  0  0\\n   -3.2907    2.7761   -2.1572 O   0  0  0  0  0  0  0  0  0  0  0  0\\n   -1.2288    1.7243   -2.0656 N   0  0  0  0  0  0  0  0  0  0  0  0\\n   -0.1842    1.0526   -1.2930 C   0  0  0  0  0  0  0  0  0  0  0  0\\n    0.0293    1.7341    0.0678 C   0  0  0  0  0  0  0  0  0  0  0  0\\n    0.9141    2.8884   -0.0764 N   0  0  0  0  0  0  0  0  0  0  0  0\\n    2.3143    2.8996    0.2631 C   0  0  0  0  0  0  0  0  0  0  0  0\\n    2.8465    4.0082    0.5419 O   0  0  0  0  0  0  0  0  0  0  0  0\\n    3.1693    1.6789    0.2381 C   0  0  0  0  0  0  0  0  0  0  0  0\\n    2.6467    0.4709   -0.1110 N   0  0  0  0  0  0  0  0  0  0  0  0\\n    3.3952   -0.6608   -0.2037 C   0  0  0  0  0  0  0  0  0  0  0  0\\n    4.7712   -0.5977    0.0506 C   0  0  0  0  0  0  0  0  0  0  0  0\\n    5.3401    0.6201    0.4240 C   0  0  0  0  0  0  0  0  0  0  0  0\\n    4.5440    1.7632    0.5208 C   0  0  0  0  0  0  0  0  0  0  0  0\\n   -4.5224    1.1640   -0.2008 C   0  0  0  0  0  0  0  0  0  0  0  0\\n   -5.1864    0.2114    0.5718 C   0  0  0  0  0  0  0  0  0  0  0  0\\n   -4.6256   -1.0515    0.7534 C   0  0  0  0  0  0  0  0  0  0  0  0\\n  1  2  2  0\\n  2  3  1  0\\n  3  4  1  0\\n  4  5  1  0\\n  5  6  1  0\\n  6  7  1  0\\n  7  8  2  0\\n  7  9  1  0\\n  9 10  1  0\\n 10 11  2  0\\n 11 12  1  0\\n 12 13  2  0\\n 12 14  1  0\\n 14 15  1  0\\n 15 16  1  0\\n 16 17  1  0\\n 17 18  1  0\\n 18 19  2  0\\n 18 20  1  0\\n 20 21  1  0\\n 21 22  2  0\\n 22 23  1  0\\n 23 24  2  0\\n 24 25  1  0\\n 11 26  1  0\\n 26 27  2  0\\n 27 28  1  0\\n 22  2  1  0\\n 28  9  2  0\\n 25 20  2  0\\nM  END\\n\",\"sdf\");\n",
       "\tviewer_14907088087030962.addModel(\"\\n     RDKit          3D\\n\\n 28 30  0  0  0  0  0  0  0  0999 V2000\\n    3.5019   -2.9983    1.8298 O   0  0  0  0  0  0  0  0  0  0  0  0\\n    2.8920   -2.1483    1.1263 C   0  0  0  0  0  0  0  0  0  0  0  0\\n    1.4866   -2.3215    0.8970 N   0  0  0  0  0  0  0  0  0  0  0  0\\n    0.8898   -2.1520   -0.4280 C   0  0  0  0  0  0  0  0  0  0  0  0\\n   -0.5615   -1.6731   -0.3102 C   0  0  0  0  0  0  0  0  0  0  0  0\\n   -1.4632   -2.7487    0.0980 N   0  0  0  0  0  0  0  0  0  0  0  0\\n   -2.8749   -2.5848    0.3368 C   0  0  0  0  0  0  0  0  0  0  0  0\\n   -3.5168   -3.5847    0.7596 O   0  0  0  0  0  0  0  0  0  0  0  0\\n   -3.6170   -1.3093    0.1026 C   0  0  0  0  0  0  0  0  0  0  0  0\\n   -2.9814   -0.1905   -0.3506 N   0  0  0  0  0  0  0  0  0  0  0  0\\n   -3.6324    0.9824   -0.5946 C   0  0  0  0  0  0  0  0  0  0  0  0\\n   -2.8920    2.1483   -1.1263 C   0  0  0  0  0  0  0  0  0  0  0  0\\n   -3.5019    2.9983   -1.8298 O   0  0  0  0  0  0  0  0  0  0  0  0\\n   -1.4866    2.3215   -0.8970 N   0  0  0  0  0  0  0  0  0  0  0  0\\n   -0.8898    2.1520    0.4280 C   0  0  0  0  0  0  0  0  0  0  0  0\\n    0.5615    1.6731    0.3102 C   0  0  0  0  0  0  0  0  0  0  0  0\\n    1.4632    2.7487   -0.0980 N   0  0  0  0  0  0  0  0  0  0  0  0\\n    2.8749    2.5848   -0.3368 C   0  0  0  0  0  0  0  0  0  0  0  0\\n    3.5168    3.5847   -0.7596 O   0  0  0  0  0  0  0  0  0  0  0  0\\n    3.6170    1.3093   -0.1026 C   0  0  0  0  0  0  0  0  0  0  0  0\\n    2.9814    0.1905    0.3506 N   0  0  0  0  0  0  0  0  0  0  0  0\\n    3.6324   -0.9824    0.5946 C   0  0  0  0  0  0  0  0  0  0  0  0\\n    5.0168   -1.0537    0.3877 C   0  0  0  0  0  0  0  0  0  0  0  0\\n    5.6973    0.0671   -0.0838 C   0  0  0  0  0  0  0  0  0  0  0  0\\n    5.0036    1.2513   -0.3313 C   0  0  0  0  0  0  0  0  0  0  0  0\\n   -5.0168    1.0537   -0.3877 C   0  0  0  0  0  0  0  0  0  0  0  0\\n   -5.6973   -0.0671    0.0838 C   0  0  0  0  0  0  0  0  0  0  0  0\\n   -5.0036   -1.2513    0.3313 C   0  0  0  0  0  0  0  0  0  0  0  0\\n  1  2  2  0\\n  2  3  1  0\\n  3  4  1  0\\n  4  5  1  0\\n  5  6  1  0\\n  6  7  1  0\\n  7  8  2  0\\n  7  9  1  0\\n  9 10  1  0\\n 10 11  2  0\\n 11 12  1  0\\n 12 13  2  0\\n 12 14  1  0\\n 14 15  1  0\\n 15 16  1  0\\n 16 17  1  0\\n 17 18  1  0\\n 18 19  2  0\\n 18 20  1  0\\n 20 21  1  0\\n 21 22  2  0\\n 22 23  1  0\\n 23 24  2  0\\n 24 25  1  0\\n 11 26  1  0\\n 26 27  2  0\\n 27 28  1  0\\n 22  2  1  0\\n 28  9  2  0\\n 25 20  2  0\\nM  END\\n\",\"sdf\");\n",
       "\tviewer_14907088087030962.addModel(\"\\n     RDKit          3D\\n\\n 28 30  0  0  0  0  0  0  0  0999 V2000\\n   -3.1061    3.5543   -1.5472 O   0  0  0  0  0  0  0  0  0  0  0  0\\n   -2.5752    2.5073   -1.0879 C   0  0  0  0  0  0  0  0  0  0  0  0\\n   -1.1492    2.4092   -1.0625 N   0  0  0  0  0  0  0  0  0  0  0  0\\n   -0.4358    2.1460    0.1869 C   0  0  0  0  0  0  0  0  0  0  0  0\\n    1.0756    2.2832   -0.0192 C   0  0  0  0  0  0  0  0  0  0  0  0\\n    1.7886    2.1915    1.2544 N   0  0  0  0  0  0  0  0  0  0  0  0\\n    3.1928    1.9068    1.2822 C   0  0  0  0  0  0  0  0  0  0  0  0\\n    3.9597    2.6511    1.9506 O   0  0  0  0  0  0  0  0  0  0  0  0\\n    3.7442    0.7414    0.5679 C   0  0  0  0  0  0  0  0  0  0  0  0\\n    2.9698   -0.3636    0.3951 N   0  0  0  0  0  0  0  0  0  0  0  0\\n    3.4137   -1.4876   -0.2298 C   0  0  0  0  0  0  0  0  0  0  0  0\\n    2.5469   -2.6938   -0.3287 C   0  0  0  0  0  0  0  0  0  0  0  0\\n    3.0097   -3.7283   -0.8820 O   0  0  0  0  0  0  0  0  0  0  0  0\\n    1.2179   -2.7610    0.2224 N   0  0  0  0  0  0  0  0  0  0  0  0\\n    0.3823   -1.5964    0.5289 C   0  0  0  0  0  0  0  0  0  0  0  0\\n   -1.0365   -2.0095    0.9311 C   0  0  0  0  0  0  0  0  0  0  0  0\\n   -1.7563   -2.5905   -0.2022 N   0  0  0  0  0  0  0  0  0  0  0  0\\n   -3.1452   -2.3285   -0.4380 C   0  0  0  0  0  0  0  0  0  0  0  0\\n   -3.8978   -3.2854   -0.7653 O   0  0  0  0  0  0  0  0  0  0  0  0\\n   -3.7070   -0.9660   -0.3427 C   0  0  0  0  0  0  0  0  0  0  0  0\\n   -2.9314    0.1153   -0.6408 N   0  0  0  0  0  0  0  0  0  0  0  0\\n   -3.4278    1.3855   -0.6468 C   0  0  0  0  0  0  0  0  0  0  0  0\\n   -4.7780    1.5995   -0.3291 C   0  0  0  0  0  0  0  0  0  0  0  0\\n   -5.5893    0.5116   -0.0107 C   0  0  0  0  0  0  0  0  0  0  0  0\\n   -5.0610   -0.7782   -0.0276 C   0  0  0  0  0  0  0  0  0  0  0  0\\n    4.7279   -1.5090   -0.7298 C   0  0  0  0  0  0  0  0  0  0  0  0\\n    5.5488   -0.3923   -0.5615 C   0  0  0  0  0  0  0  0  0  0  0  0\\n    5.0642    0.7367    0.0989 C   0  0  0  0  0  0  0  0  0  0  0  0\\n  1  2  2  0\\n  2  3  1  0\\n  3  4  1  0\\n  4  5  1  0\\n  5  6  1  0\\n  6  7  1  0\\n  7  8  2  0\\n  7  9  1  0\\n  9 10  1  0\\n 10 11  2  0\\n 11 12  1  0\\n 12 13  2  0\\n 12 14  1  0\\n 14 15  1  0\\n 15 16  1  0\\n 16 17  1  0\\n 17 18  1  0\\n 18 19  2  0\\n 18 20  1  0\\n 20 21  1  0\\n 21 22  2  0\\n 22 23  1  0\\n 23 24  2  0\\n 24 25  1  0\\n 11 26  1  0\\n 26 27  2  0\\n 27 28  1  0\\n 22  2  1  0\\n 28  9  2  0\\n 25 20  2  0\\nM  END\\n\",\"sdf\");\n",
       "\tviewer_14907088087030962.setStyle({\"stick\": {\"radius\": \"0.15\"}});\n",
       "\tviewer_14907088087030962.setBackgroundColor(\"0xeeeeee\");\n",
       "\tviewer_14907088087030962.zoomTo();\n",
       "viewer_14907088087030962.render();\n",
       "});\n",
       "</script>"
      ],
      "text/plain": [
       "<IPython.core.display.HTML object>"
      ]
     },
     "execution_count": 249,
     "metadata": {},
     "output_type": "execute_result"
    }
   ],
   "source": [
    "# view:\n",
    "p = py3Dmol.view(width=400,height=400)\n",
    "p.removeAllModels()\n",
    "for mol in allmol_m1_rdkit:   \n",
    "    mb = Chem.MolToMolBlock(mol)\n",
    "    p.addModel(mb,'sdf')    \n",
    "p.setStyle({'stick':{'radius':'0.15'}})\n",
    "p.setBackgroundColor('0xeeeeee')\n",
    "p.zoomTo()\n",
    "p.show()"
   ]
  },
  {
   "cell_type": "code",
   "execution_count": 250,
   "metadata": {
    "collapsed": false,
    "deletable": true,
    "editable": true
   },
   "outputs": [
    {
     "name": "stdout",
     "output_type": "stream",
     "text": [
      "Heavy Atom RMS: 1.461877955872602\n",
      "Heavy Atom RMS: 1.4214730604414139\n",
      "Heavy Atom RMS: 1.8999303358326163\n",
      "Heavy Atom RMS: 1.4813288602775967\n",
      "Heavy Atom RMS: 1.4248638894808567\n",
      "Heavy Atom RMS: 1.5474857037372614\n",
      "Heavy Atom RMS: 1.4688621809782134\n",
      "Heavy Atom RMS: 1.4939359811879294\n",
      "Heavy Atom RMS: 1.4176054292304114\n"
     ]
    }
   ],
   "source": [
    "# calculate RMSD /check that/:\n",
    "for mol in allmol_m1_rdkit:\n",
    "    # note that the first structure on \"allmol_m1_rdkit\" list is the crystal structure, \n",
    "    # so the RMSD value calculated for the first structure (with respect to the crystal) will be 0 or almost 0\n",
    "    print(\"Heavy Atom RMS:\",AllChem.GetBestRMS(Chem.RemoveHs(mol),Chem.RemoveHs(templ_m1[0])))"
   ]
  },
  {
   "cell_type": "markdown",
   "metadata": {
    "deletable": true,
    "editable": true
   },
   "source": [
    "### Summary"
   ]
  },
  {
   "cell_type": "markdown",
   "metadata": {
    "deletable": true,
    "editable": true
   },
   "source": [
    "Let's align all generated conformers:  //todo fixme: align all conformers!//"
   ]
  },
  {
   "cell_type": "code",
   "execution_count": 251,
   "metadata": {
    "collapsed": false,
    "deletable": true,
    "editable": true
   },
   "outputs": [
    {
     "data": {
      "text/html": [
       "<div id=\"3dmolviewer_14907088089300895\"  style=\"position: relative; width: 400px; height: 400px\">\n",
       "<script>\n",
       "if(typeof $3Dmolpromise === 'undefined') $3Dmolpromise = $.when($.getScript('http://3dmol.csb.pitt.edu/build/3Dmol.js'))\n",
       "var viewer_14907088089300895 = null;\n",
       "$3Dmolpromise.done(function() {\n",
       "viewer_14907088089300895 = $3Dmol.createViewer($(\"#3dmolviewer_14907088089300895\"),{backgroundColor:\"white\"});\n",
       "\tviewer_14907088089300895.removeAllModels();\n",
       "\tviewer_14907088089300895.addModel(\"m1_crystal.xyz\\n     RDKit          3D\\n\\n 28 30  0  0  0  0  0  0  0  0999 V2000\\n   10.2977   13.6978   -1.6005 O   0  0  0  0  0  0  0  0  0  0  0  0\\n   15.6873   13.6073    2.8283 O   0  0  0  0  0  0  0  0  0  0  0  0\\n   13.5550    8.3683    5.1527 O   0  0  0  0  0  0  0  0  0  0  0  0\\n    9.1101    7.7832   -0.2158 O   0  0  0  0  0  0  0  0  0  0  0  0\\n   10.1517   12.7485    0.5133 N   0  0  0  0  0  0  0  0  0  0  0  0\\n   12.6896   13.4709    0.9704 N   0  0  0  0  0  0  0  0  0  0  0  0\\n   13.6879   12.4997    3.2194 N   0  0  0  0  0  0  0  0  0  0  0  0\\n   12.2941   10.1383    4.3467 N   0  0  0  0  0  0  0  0  0  0  0  0\\n   11.2312    8.5358    2.5056 N   0  0  0  0  0  0  0  0  0  0  0  0\\n    9.7158    9.8089    0.7422 N   0  0  0  0  0  0  0  0  0  0  0  0\\n   10.7775   13.4682   -0.4937 C   0  0  0  0  0  0  0  0  0  0  0  0\\n   12.1328   13.9703   -0.1566 C   0  0  0  0  0  0  0  0  0  0  0  0\\n   13.9393   13.8982    1.2755 C   0  0  0  0  0  0  0  0  0  0  0  0\\n   14.5362   13.3308    2.5093 C   0  0  0  0  0  0  0  0  0  0  0  0\\n   14.1040   11.7969    4.4206 C   0  0  0  0  0  0  0  0  0  0  0  0\\n   12.9112   11.1864    5.1425 C   0  0  0  0  0  0  0  0  0  0  0  0\\n   12.7048    8.8171    4.3917 C   0  0  0  0  0  0  0  0  0  0  0  0\\n   12.0261    7.9272    3.4177 C   0  0  0  0  0  0  0  0  0  0  0  0\\n   10.6030    7.7384    1.6075 C   0  0  0  0  0  0  0  0  0  0  0  0\\n    9.7348    8.4283    0.6200 C   0  0  0  0  0  0  0  0  0  0  0  0\\n    9.0366   10.6704   -0.2098 C   0  0  0  0  0  0  0  0  0  0  0  0\\n    8.8691   12.0868    0.3301 C   0  0  0  0  0  0  0  0  0  0  0  0\\n   12.7669   14.8822   -0.9905 C   0  0  0  0  0  0  0  0  0  0  0  0\\n   14.0455   15.3055   -0.6395 C   0  0  0  0  0  0  0  0  0  0  0  0\\n   14.6542   14.8097    0.5086 C   0  0  0  0  0  0  0  0  0  0  0  0\\n   12.2255    6.5545    3.4685 C   0  0  0  0  0  0  0  0  0  0  0  0\\n   11.5631    5.7663    2.5310 C   0  0  0  0  0  0  0  0  0  0  0  0\\n   10.7353    6.3563    1.5807 C   0  0  0  0  0  0  0  0  0  0  0  0\\n  1 11  2  0\\n  4 20  2  0\\n  6 13  2  0\\n  7 15  1  0\\n  8 16  1  0\\n  9 18  1  0\\n 11  5  1  0\\n 11 12  1  0\\n 12  6  1  0\\n 13 14  1  0\\n 14  7  1  0\\n 14  2  2  0\\n 16 15  1  0\\n 17  3  2  0\\n 17  8  1  0\\n 18 17  1  0\\n 19  9  2  0\\n 20 19  1  0\\n 20 10  1  0\\n 21 10  1  0\\n 22 21  1  0\\n 22  5  1  0\\n 23 12  2  0\\n 23 24  1  0\\n 24 25  2  0\\n 25 13  1  0\\n 26 18  2  0\\n 27 26  1  0\\n 28 27  2  0\\n 28 19  1  0\\nM  END\\n\",\"sdf\");\n",
       "\tviewer_14907088089300895.addModel(\"m1_crystal.xyz\\n     RDKit          3D\\n\\n 28 30  0  0  0  0  0  0  0  0999 V2000\\n   14.2015    8.1372    4.4696 O   0  0  0  0  0  0  0  0  0  0  0  0\\n    8.6424    8.2487    0.2593 O   0  0  0  0  0  0  0  0  0  0  0  0\\n   10.8554   13.2300   -2.0993 O   0  0  0  0  0  0  0  0  0  0  0  0\\n   15.0652   13.8922    3.4263 O   0  0  0  0  0  0  0  0  0  0  0  0\\n   12.8466    9.9949    4.1566 N   0  0  0  0  0  0  0  0  0  0  0  0\\n   11.2635    8.5981    2.5816 N   0  0  0  0  0  0  0  0  0  0  0  0\\n    9.3224   10.0640    1.5386 N   0  0  0  0  0  0  0  0  0  0  0  0\\n   10.3936   12.3752    0.0098 N   0  0  0  0  0  0  0  0  0  0  0  0\\n   12.6302   13.4062    0.9340 N   0  0  0  0  0  0  0  0  0  0  0  0\\n   12.9764   12.8791    3.4985 N   0  0  0  0  0  0  0  0  0  0  0  0\\n   13.2048    8.6678    3.9925 C   0  0  0  0  0  0  0  0  0  0  0  0\\n   12.2677    7.8892    3.1451 C   0  0  0  0  0  0  0  0  0  0  0  0\\n   10.4163    7.9265    1.7700 C   0  0  0  0  0  0  0  0  0  0  0  0\\n    9.3669    8.7449    1.1157 C   0  0  0  0  0  0  0  0  0  0  0  0\\n    8.5029   11.0678    0.8814 C   0  0  0  0  0  0  0  0  0  0  0  0\\n    9.2007   11.6320   -0.3510 C   0  0  0  0  0  0  0  0  0  0  0  0\\n   11.1401   13.0872   -0.9152 C   0  0  0  0  0  0  0  0  0  0  0  0\\n   12.3710   13.6967   -0.3606 C   0  0  0  0  0  0  0  0  0  0  0  0\\n   13.7461   13.9426    1.4761 C   0  0  0  0  0  0  0  0  0  0  0  0\\n   14.0069   13.5800    2.8917 C   0  0  0  0  0  0  0  0  0  0  0  0\\n   13.0512   12.3456    4.8484 C   0  0  0  0  0  0  0  0  0  0  0  0\\n   13.6676   10.9534    4.8741 C   0  0  0  0  0  0  0  0  0  0  0  0\\n   12.4577    6.5300    2.9411 C   0  0  0  0  0  0  0  0  0  0  0  0\\n   11.5602    5.8670    2.1082 C   0  0  0  0  0  0  0  0  0  0  0  0\\n   10.5191    6.5675    1.5041 C   0  0  0  0  0  0  0  0  0  0  0  0\\n   13.1791   14.5060   -1.1450 C   0  0  0  0  0  0  0  0  0  0  0  0\\n   14.3153   15.0512   -0.5540 C   0  0  0  0  0  0  0  0  0  0  0  0\\n   14.6156   14.7712    0.7786 C   0  0  0  0  0  0  0  0  0  0  0  0\\n  1 11  2  0\\n  4 20  2  0\\n  6 13  2  0\\n  7 15  1  0\\n  8 16  1  0\\n  9 18  1  0\\n 11  5  1  0\\n 11 12  1  0\\n 12  6  1  0\\n 13 14  1  0\\n 14  7  1  0\\n 14  2  2  0\\n 16 15  1  0\\n 17  3  2  0\\n 17  8  1  0\\n 18 17  1  0\\n 19  9  2  0\\n 20 19  1  0\\n 20 10  1  0\\n 21 10  1  0\\n 22 21  1  0\\n 22  5  1  0\\n 23 12  2  0\\n 23 24  1  0\\n 24 25  2  0\\n 25 13  1  0\\n 26 18  2  0\\n 27 26  1  0\\n 28 27  2  0\\n 28 19  1  0\\nM  END\\n\",\"sdf\");\n",
       "\tviewer_14907088089300895.addModel(\"m1_crystal.xyz\\n     RDKit          3D\\n\\n 28 30  0  0  0  0  0  0  0  0999 V2000\\n   10.2518   13.9230   -1.5614 O   0  0  0  0  0  0  0  0  0  0  0  0\\n   15.1653   14.1186    3.3325 O   0  0  0  0  0  0  0  0  0  0  0  0\\n   13.6848    8.1247    5.0385 O   0  0  0  0  0  0  0  0  0  0  0  0\\n    8.8404    7.8481    0.0597 O   0  0  0  0  0  0  0  0  0  0  0  0\\n   11.1203   11.9791   -0.6367 N   0  0  0  0  0  0  0  0  0  0  0  0\\n   12.8361   13.4699    0.7800 N   0  0  0  0  0  0  0  0  0  0  0  0\\n   14.3020   12.1081    2.5567 N   0  0  0  0  0  0  0  0  0  0  0  0\\n   12.7341   10.0377    4.1290 N   0  0  0  0  0  0  0  0  0  0  0  0\\n   11.1290    8.5018    2.6518 N   0  0  0  0  0  0  0  0  0  0  0  0\\n    9.6222    9.8580    0.9201 N   0  0  0  0  0  0  0  0  0  0  0  0\\n   11.0788   13.3453   -0.8626 C   0  0  0  0  0  0  0  0  0  0  0  0\\n   12.1413   14.1222   -0.1817 C   0  0  0  0  0  0  0  0  0  0  0  0\\n   13.7770   14.1859    1.4405 C   0  0  0  0  0  0  0  0  0  0  0  0\\n   14.4865   13.4808    2.5336 C   0  0  0  0  0  0  0  0  0  0  0  0\\n   14.7997   11.2675    3.6339 C   0  0  0  0  0  0  0  0  0  0  0  0\\n   13.7043   10.9836    4.6551 C   0  0  0  0  0  0  0  0  0  0  0  0\\n   12.8480    8.6701    4.3263 C   0  0  0  0  0  0  0  0  0  0  0  0\\n   11.8639    7.8498    3.5825 C   0  0  0  0  0  0  0  0  0  0  0  0\\n   10.2581    7.7576    1.9311 C   0  0  0  0  0  0  0  0  0  0  0  0\\n    9.5004    8.4777    0.8808 C   0  0  0  0  0  0  0  0  0  0  0  0\\n    9.0704   10.7265   -0.1076 C   0  0  0  0  0  0  0  0  0  0  0  0\\n   10.1194   11.0635   -1.1609 C   0  0  0  0  0  0  0  0  0  0  0  0\\n   12.3570   15.4514   -0.5239 C   0  0  0  0  0  0  0  0  0  0  0  0\\n   13.3440   16.1485    0.1657 C   0  0  0  0  0  0  0  0  0  0  0  0\\n   14.0668   15.5178    1.1724 C   0  0  0  0  0  0  0  0  0  0  0  0\\n   11.7594    6.4874    3.8334 C   0  0  0  0  0  0  0  0  0  0  0  0\\n   10.8453    5.7567    3.0807 C   0  0  0  0  0  0  0  0  0  0  0  0\\n   10.0800    6.3909    2.1069 C   0  0  0  0  0  0  0  0  0  0  0  0\\n  1 11  2  0\\n  4 20  2  0\\n  6 13  2  0\\n  7 15  1  0\\n  8 16  1  0\\n  9 18  1  0\\n 11  5  1  0\\n 11 12  1  0\\n 12  6  1  0\\n 13 14  1  0\\n 14  7  1  0\\n 14  2  2  0\\n 16 15  1  0\\n 17  3  2  0\\n 17  8  1  0\\n 18 17  1  0\\n 19  9  2  0\\n 20 19  1  0\\n 20 10  1  0\\n 21 10  1  0\\n 22 21  1  0\\n 22  5  1  0\\n 23 12  2  0\\n 23 24  1  0\\n 24 25  2  0\\n 25 13  1  0\\n 26 18  2  0\\n 27 26  1  0\\n 28 27  2  0\\n 28 19  1  0\\nM  END\\n\",\"sdf\");\n",
       "\tviewer_14907088089300895.addModel(\"m1_crystal.xyz\\n     RDKit          3D\\n\\n 28 30  0  0  0  0  0  0  0  0999 V2000\\n   14.5610    8.8769    3.7473 O   0  0  0  0  0  0  0  0  0  0  0  0\\n    8.5237    8.4457    0.3409 O   0  0  0  0  0  0  0  0  0  0  0  0\\n   11.0002   12.3959   -1.9659 O   0  0  0  0  0  0  0  0  0  0  0  0\\n   14.8796   13.7478    3.6557 O   0  0  0  0  0  0  0  0  0  0  0  0\\n   12.7057   10.1399    4.3471 N   0  0  0  0  0  0  0  0  0  0  0  0\\n   11.3172    8.9224    2.4367 N   0  0  0  0  0  0  0  0  0  0  0  0\\n    9.1574   10.2279    1.6887 N   0  0  0  0  0  0  0  0  0  0  0  0\\n   10.1363   12.4764    0.1880 N   0  0  0  0  0  0  0  0  0  0  0  0\\n   12.5295   13.1372    1.1035 N   0  0  0  0  0  0  0  0  0  0  0  0\\n   12.7048   12.9423    3.7276 N   0  0  0  0  0  0  0  0  0  0  0  0\\n   13.3646    9.1294    3.6719 C   0  0  0  0  0  0  0  0  0  0  0  0\\n   12.4817    8.3276    2.7912 C   0  0  0  0  0  0  0  0  0  0  0  0\\n   10.5052    8.2355    1.5994 C   0  0  0  0  0  0  0  0  0  0  0  0\\n    9.2881    8.9582    1.1514 C   0  0  0  0  0  0  0  0  0  0  0  0\\n    8.2502   11.2283    1.1511 C   0  0  0  0  0  0  0  0  0  0  0  0\\n    8.8369   11.8871   -0.0933 C   0  0  0  0  0  0  0  0  0  0  0  0\\n   11.1180   12.6512   -0.7725 C   0  0  0  0  0  0  0  0  0  0  0  0\\n   12.4001   13.1758   -0.2422 C   0  0  0  0  0  0  0  0  0  0  0  0\\n   13.7035   13.5657    1.6247 C   0  0  0  0  0  0  0  0  0  0  0  0\\n   13.8306   13.4466    3.0985 C   0  0  0  0  0  0  0  0  0  0  0  0\\n   12.7087   12.4694    5.1036 C   0  0  0  0  0  0  0  0  0  0  0  0\\n   13.3670   11.0971    5.2147 C   0  0  0  0  0  0  0  0  0  0  0  0\\n   12.8719    7.0744    2.3484 C   0  0  0  0  0  0  0  0  0  0  0  0\\n   12.0019    6.3879    1.5078 C   0  0  0  0  0  0  0  0  0  0  0  0\\n   10.7958    6.9684    1.1169 C   0  0  0  0  0  0  0  0  0  0  0  0\\n   13.3989   13.6260   -1.0964 C   0  0  0  0  0  0  0  0  0  0  0  0\\n   14.5897   14.0704   -0.5253 C   0  0  0  0  0  0  0  0  0  0  0  0\\n   14.7581   14.0410    0.8567 C   0  0  0  0  0  0  0  0  0  0  0  0\\n  1 11  2  0\\n  4 20  2  0\\n  6 13  2  0\\n  7 15  1  0\\n  8 16  1  0\\n  9 18  1  0\\n 11  5  1  0\\n 11 12  1  0\\n 12  6  1  0\\n 13 14  1  0\\n 14  7  1  0\\n 14  2  2  0\\n 16 15  1  0\\n 17  3  2  0\\n 17  8  1  0\\n 18 17  1  0\\n 19  9  2  0\\n 20 19  1  0\\n 20 10  1  0\\n 21 10  1  0\\n 22 21  1  0\\n 22  5  1  0\\n 23 12  2  0\\n 23 24  1  0\\n 24 25  2  0\\n 25 13  1  0\\n 26 18  2  0\\n 27 26  1  0\\n 28 27  2  0\\n 28 19  1  0\\nM  END\\n\",\"sdf\");\n",
       "\tviewer_14907088089300895.addModel(\"m1_crystal.xyz\\n     RDKit          3D\\n\\n 28 30  0  0  0  0  0  0  0  0999 V2000\\n   10.0102   13.0616   -1.2836 O   0  0  0  0  0  0  0  0  0  0  0  0\\n   15.4094   12.0885    2.9541 O   0  0  0  0  0  0  0  0  0  0  0  0\\n   13.6037    9.0308    5.0370 O   0  0  0  0  0  0  0  0  0  0  0  0\\n    9.9304    9.1105   -0.8428 O   0  0  0  0  0  0  0  0  0  0  0  0\\n    9.8479   12.6680    0.9973 N   0  0  0  0  0  0  0  0  0  0  0  0\\n   12.4752   12.8217    1.2298 N   0  0  0  0  0  0  0  0  0  0  0  0\\n   13.3602   12.8514    3.7528 N   0  0  0  0  0  0  0  0  0  0  0  0\\n   11.9192   10.5499    4.5452 N   0  0  0  0  0  0  0  0  0  0  0  0\\n   11.3094    9.1861    2.3618 N   0  0  0  0  0  0  0  0  0  0  0  0\\n    9.0603    9.9640    1.1387 N   0  0  0  0  0  0  0  0  0  0  0  0\\n   10.5297   12.9215   -0.1815 C   0  0  0  0  0  0  0  0  0  0  0  0\\n   12.0072   12.9806   -0.0290 C   0  0  0  0  0  0  0  0  0  0  0  0\\n   13.8202   12.8190    1.3918 C   0  0  0  0  0  0  0  0  0  0  0  0\\n   14.2908   12.5560    2.7689 C   0  0  0  0  0  0  0  0  0  0  0  0\\n   13.4797   12.3838    5.1257 C   0  0  0  0  0  0  0  0  0  0  0  0\\n   12.2619   11.5541    5.5385 C   0  0  0  0  0  0  0  0  0  0  0  0\\n   12.6962    9.4267    4.3137 C   0  0  0  0  0  0  0  0  0  0  0  0\\n   12.3885    8.7300    3.0415 C   0  0  0  0  0  0  0  0  0  0  0  0\\n   11.0705    8.6314    1.1517 C   0  0  0  0  0  0  0  0  0  0  0  0\\n    9.9648    9.2401    0.3771 C   0  0  0  0  0  0  0  0  0  0  0  0\\n    8.1379   10.9265    0.5556 C   0  0  0  0  0  0  0  0  0  0  0  0\\n    8.4319   12.3433    1.0486 C   0  0  0  0  0  0  0  0  0  0  0  0\\n   12.8286   13.1498   -1.1359 C   0  0  0  0  0  0  0  0  0  0  0  0\\n   14.2076   13.1510   -0.9304 C   0  0  0  0  0  0  0  0  0  0  0  0\\n   14.7229   12.9744    0.3519 C   0  0  0  0  0  0  0  0  0  0  0  0\\n   13.2255    7.7260    2.5757 C   0  0  0  0  0  0  0  0  0  0  0  0\\n   12.9442    7.1744    1.3293 C   0  0  0  0  0  0  0  0  0  0  0  0\\n   11.8523    7.6311    0.5929 C   0  0  0  0  0  0  0  0  0  0  0  0\\n  1 11  2  0\\n  4 20  2  0\\n  6 13  2  0\\n  7 15  1  0\\n  8 16  1  0\\n  9 18  1  0\\n 11  5  1  0\\n 11 12  1  0\\n 12  6  1  0\\n 13 14  1  0\\n 14  7  1  0\\n 14  2  2  0\\n 16 15  1  0\\n 17  3  2  0\\n 17  8  1  0\\n 18 17  1  0\\n 19  9  2  0\\n 20 19  1  0\\n 20 10  1  0\\n 21 10  1  0\\n 22 21  1  0\\n 22  5  1  0\\n 23 12  2  0\\n 23 24  1  0\\n 24 25  2  0\\n 25 13  1  0\\n 26 18  2  0\\n 27 26  1  0\\n 28 27  2  0\\n 28 19  1  0\\nM  END\\n\",\"sdf\");\n",
       "\tviewer_14907088089300895.addModel(\"m1_crystal.xyz\\n     RDKit          3D\\n\\n 28 30  0  0  0  0  0  0  0  0999 V2000\\n   14.2533    9.3048    4.4040 O   0  0  0  0  0  0  0  0  0  0  0  0\\n    9.1026    8.9934   -0.3062 O   0  0  0  0  0  0  0  0  0  0  0  0\\n   10.4788   12.1630   -1.6393 O   0  0  0  0  0  0  0  0  0  0  0  0\\n   15.1746   12.5493    3.4069 O   0  0  0  0  0  0  0  0  0  0  0  0\\n   12.1842   10.3414    4.6065 N   0  0  0  0  0  0  0  0  0  0  0  0\\n   11.4027    9.2907    2.3426 N   0  0  0  0  0  0  0  0  0  0  0  0\\n    9.0700   10.2300    1.6627 N   0  0  0  0  0  0  0  0  0  0  0  0\\n    9.7932   12.6533    0.5231 N   0  0  0  0  0  0  0  0  0  0  0  0\\n   12.4082   12.7304    1.2383 N   0  0  0  0  0  0  0  0  0  0  0  0\\n   12.9237   12.8565    3.8769 N   0  0  0  0  0  0  0  0  0  0  0  0\\n   13.1166    9.5166    3.9982 C   0  0  0  0  0  0  0  0  0  0  0  0\\n   12.6306    8.8910    2.7419 C   0  0  0  0  0  0  0  0  0  0  0  0\\n   10.9231    8.7836    1.1831 C   0  0  0  0  0  0  0  0  0  0  0  0\\n    9.6025    9.3208    0.7633 C   0  0  0  0  0  0  0  0  0  0  0  0\\n    7.9931   11.1514    1.3485 C   0  0  0  0  0  0  0  0  0  0  0  0\\n    8.4077   12.2363    0.3555 C   0  0  0  0  0  0  0  0  0  0  0  0\\n   10.7321   12.4962   -0.4848 C   0  0  0  0  0  0  0  0  0  0  0  0\\n   12.1410   12.7250   -0.0896 C   0  0  0  0  0  0  0  0  0  0  0  0\\n   13.7155   12.8212    1.5887 C   0  0  0  0  0  0  0  0  0  0  0  0\\n   14.0190   12.7359    3.0362 C   0  0  0  0  0  0  0  0  0  0  0  0\\n   13.0146   12.5961    5.3033 C   0  0  0  0  0  0  0  0  0  0  0  0\\n   12.4780   11.2224    5.7205 C   0  0  0  0  0  0  0  0  0  0  0  0\\n   13.4087    7.9921    2.0294 C   0  0  0  0  0  0  0  0  0  0  0  0\\n   12.8813    7.4787    0.8441 C   0  0  0  0  0  0  0  0  0  0  0  0\\n   11.6195    7.8760    0.4019 C   0  0  0  0  0  0  0  0  0  0  0  0\\n   13.1139   12.8305   -1.0775 C   0  0  0  0  0  0  0  0  0  0  0  0\\n   14.4402   12.9399   -0.6772 C   0  0  0  0  0  0  0  0  0  0  0  0\\n   14.7580   12.9257    0.6756 C   0  0  0  0  0  0  0  0  0  0  0  0\\n  1 11  2  0\\n  4 20  2  0\\n  6 13  2  0\\n  7 15  1  0\\n  8 16  1  0\\n  9 18  1  0\\n 11  5  1  0\\n 11 12  1  0\\n 12  6  1  0\\n 13 14  1  0\\n 14  7  1  0\\n 14  2  2  0\\n 16 15  1  0\\n 17  3  2  0\\n 17  8  1  0\\n 18 17  1  0\\n 19  9  2  0\\n 20 19  1  0\\n 20 10  1  0\\n 21 10  1  0\\n 22 21  1  0\\n 22  5  1  0\\n 23 12  2  0\\n 23 24  1  0\\n 24 25  2  0\\n 25 13  1  0\\n 26 18  2  0\\n 27 26  1  0\\n 28 27  2  0\\n 28 19  1  0\\nM  END\\n\",\"sdf\");\n",
       "\tviewer_14907088089300895.addModel(\"\\n     RDKit          3D\\n\\n 28 30  0  0  0  0  0  0  0  0999 V2000\\n    3.9390   -3.2867   -0.1587 O   0  0  0  0  0  0  0  0  0  0  0  0\\n    3.1610   -2.2968   -0.2232 C   0  0  0  0  0  0  0  0  0  0  0  0\\n    1.7496   -2.5136   -0.1207 N   0  0  0  0  0  0  0  0  0  0  0  0\\n    0.8265   -1.9568   -1.1090 C   0  0  0  0  0  0  0  0  0  0  0  0\\n   -0.5133   -1.5909   -0.4655 C   0  0  0  0  0  0  0  0  0  0  0  0\\n   -1.2498   -2.7792   -0.0275 N   0  0  0  0  0  0  0  0  0  0  0  0\\n   -2.4797   -2.7512    0.7224 C   0  0  0  0  0  0  0  0  0  0  0  0\\n   -2.8582   -3.8202    1.2742 O   0  0  0  0  0  0  0  0  0  0  0  0\\n   -3.3401   -1.5414    0.8442 C   0  0  0  0  0  0  0  0  0  0  0  0\\n   -3.0024   -0.3814    0.2176 N   0  0  0  0  0  0  0  0  0  0  0  0\\n   -3.7841    0.7314    0.2488 C   0  0  0  0  0  0  0  0  0  0  0  0\\n   -3.3623    1.9345   -0.4919 C   0  0  0  0  0  0  0  0  0  0  0  0\\n   -4.2322    2.7220   -0.9524 O   0  0  0  0  0  0  0  0  0  0  0  0\\n   -1.9756    2.2082   -0.7279 N   0  0  0  0  0  0  0  0  0  0  0  0\\n   -1.0286    2.2518    0.3858 C   0  0  0  0  0  0  0  0  0  0  0  0\\n    0.4156    2.1533   -0.1174 C   0  0  0  0  0  0  0  0  0  0  0  0\\n    1.3586    2.3957    0.9744 N   0  0  0  0  0  0  0  0  0  0  0  0\\n    2.7633    2.5022    0.7267 C   0  0  0  0  0  0  0  0  0  0  0  0\\n    3.3726    3.5371    1.1097 O   0  0  0  0  0  0  0  0  0  0  0  0\\n    3.5163    1.4009    0.0930 C   0  0  0  0  0  0  0  0  0  0  0  0\\n    3.0191    0.1322    0.1246 N   0  0  0  0  0  0  0  0  0  0  0  0\\n    3.7178   -0.9358   -0.3552 C   0  0  0  0  0  0  0  0  0  0  0  0\\n    4.9926   -0.7351   -0.9052 C   0  0  0  0  0  0  0  0  0  0  0  0\\n    5.5191    0.5546   -0.9631 C   0  0  0  0  0  0  0  0  0  0  0  0\\n    4.7877    1.6284   -0.4565 C   0  0  0  0  0  0  0  0  0  0  0  0\\n   -4.9999    0.6983    0.9443 C   0  0  0  0  0  0  0  0  0  0  0  0\\n   -5.3715   -0.4681    1.6125 C   0  0  0  0  0  0  0  0  0  0  0  0\\n   -4.5458   -1.5928    1.5662 C   0  0  0  0  0  0  0  0  0  0  0  0\\n  1  2  2  0\\n  2  3  1  0\\n  3  4  1  0\\n  4  5  1  0\\n  5  6  1  0\\n  6  7  1  0\\n  7  8  2  0\\n  7  9  1  0\\n  9 10  1  0\\n 10 11  2  0\\n 11 12  1  0\\n 12 13  2  0\\n 12 14  1  0\\n 14 15  1  0\\n 15 16  1  0\\n 16 17  1  0\\n 17 18  1  0\\n 18 19  2  0\\n 18 20  1  0\\n 20 21  1  0\\n 21 22  2  0\\n 22 23  1  0\\n 23 24  2  0\\n 24 25  1  0\\n 11 26  1  0\\n 26 27  2  0\\n 27 28  1  0\\n 22  2  1  0\\n 28  9  2  0\\n 25 20  2  0\\nM  END\\n\",\"sdf\");\n",
       "\tviewer_14907088089300895.addModel(\"\\n     RDKit          3D\\n\\n 28 30  0  0  0  0  0  0  0  0999 V2000\\n    3.3859    1.3534    3.3557 O   0  0  0  0  0  0  0  0  0  0  0  0\\n    2.8147    1.1257    2.2550 C   0  0  0  0  0  0  0  0  0  0  0  0\\n    1.5016    1.6629    2.0376 N   0  0  0  0  0  0  0  0  0  0  0  0\\n    1.0966    2.2952    0.7819 C   0  0  0  0  0  0  0  0  0  0  0  0\\n   -0.3691    1.9720    0.4836 C   0  0  0  0  0  0  0  0  0  0  0  0\\n   -0.7652    2.4853   -0.8290 N   0  0  0  0  0  0  0  0  0  0  0  0\\n   -2.1205    2.4769   -1.3082 C   0  0  0  0  0  0  0  0  0  0  0  0\\n   -2.4465    3.3108   -2.1960 O   0  0  0  0  0  0  0  0  0  0  0  0\\n   -3.1401    1.5165   -0.8186 C   0  0  0  0  0  0  0  0  0  0  0  0\\n   -2.7630    0.3321   -0.2613 N   0  0  0  0  0  0  0  0  0  0  0  0\\n   -3.6596   -0.6049    0.1565 C   0  0  0  0  0  0  0  0  0  0  0  0\\n   -3.1868   -1.8628    0.7808 C   0  0  0  0  0  0  0  0  0  0  0  0\\n   -3.9802   -2.5318    1.4969 O   0  0  0  0  0  0  0  0  0  0  0  0\\n   -1.8335   -2.3214    0.6417 N   0  0  0  0  0  0  0  0  0  0  0  0\\n   -1.1184   -2.3223   -0.6349 C   0  0  0  0  0  0  0  0  0  0  0  0\\n    0.3684   -2.0423   -0.4018 C   0  0  0  0  0  0  0  0  0  0  0  0\\n    1.0721   -1.8472   -1.6711 N   0  0  0  0  0  0  0  0  0  0  0  0\\n    2.4984   -1.7034   -1.7702 C   0  0  0  0  0  0  0  0  0  0  0  0\\n    3.0630   -2.0508   -2.8427 O   0  0  0  0  0  0  0  0  0  0  0  0\\n    3.3239   -1.1377   -0.6758 C   0  0  0  0  0  0  0  0  0  0  0  0\\n    2.7650   -0.3159    0.2557 N   0  0  0  0  0  0  0  0  0  0  0  0\\n    3.4879    0.2683    1.2518 C   0  0  0  0  0  0  0  0  0  0  0  0\\n    4.8651    0.0120    1.3375 C   0  0  0  0  0  0  0  0  0  0  0  0\\n    5.4688   -0.8183    0.3935 C   0  0  0  0  0  0  0  0  0  0  0  0\\n    4.7032   -1.3926   -0.6210 C   0  0  0  0  0  0  0  0  0  0  0  0\\n   -5.0322   -0.3440    0.0244 C   0  0  0  0  0  0  0  0  0  0  0  0\\n   -5.4507    0.8567   -0.5484 C   0  0  0  0  0  0  0  0  0  0  0  0\\n   -4.5077    1.7900   -0.9784 C   0  0  0  0  0  0  0  0  0  0  0  0\\n  1  2  2  0\\n  2  3  1  0\\n  3  4  1  0\\n  4  5  1  0\\n  5  6  1  0\\n  6  7  1  0\\n  7  8  2  0\\n  7  9  1  0\\n  9 10  1  0\\n 10 11  2  0\\n 11 12  1  0\\n 12 13  2  0\\n 12 14  1  0\\n 14 15  1  0\\n 15 16  1  0\\n 16 17  1  0\\n 17 18  1  0\\n 18 19  2  0\\n 18 20  1  0\\n 20 21  1  0\\n 21 22  2  0\\n 22 23  1  0\\n 23 24  2  0\\n 24 25  1  0\\n 11 26  1  0\\n 26 27  2  0\\n 27 28  1  0\\n 22  2  1  0\\n 28  9  2  0\\n 25 20  2  0\\nM  END\\n\",\"sdf\");\n",
       "\tviewer_14907088089300895.addModel(\"\\n     RDKit          3D\\n\\n 28 30  0  0  0  0  0  0  0  0999 V2000\\n   -3.7017    3.4568    0.8614 O   0  0  0  0  0  0  0  0  0  0  0  0\\n   -2.9258    2.4835    0.6617 C   0  0  0  0  0  0  0  0  0  0  0  0\\n   -1.5336    2.6284    0.9647 N   0  0  0  0  0  0  0  0  0  0  0  0\\n   -0.5338    2.5046   -0.0956 C   0  0  0  0  0  0  0  0  0  0  0  0\\n    0.8735    2.3475    0.4966 C   0  0  0  0  0  0  0  0  0  0  0  0\\n    1.8945    2.5025   -0.5392 N   0  0  0  0  0  0  0  0  0  0  0  0\\n    3.2495    2.1228   -0.2739 C   0  0  0  0  0  0  0  0  0  0  0  0\\n    4.1522    3.0020   -0.3112 O   0  0  0  0  0  0  0  0  0  0  0  0\\n    3.6057    0.7172   -0.0010 C   0  0  0  0  0  0  0  0  0  0  0  0\\n    2.8131   -0.2819   -0.4763 N   0  0  0  0  0  0  0  0  0  0  0  0\\n    3.1036   -1.6009   -0.3014 C   0  0  0  0  0  0  0  0  0  0  0  0\\n    2.2333   -2.6515   -0.8920 C   0  0  0  0  0  0  0  0  0  0  0  0\\n    2.7000   -3.8134   -1.0403 O   0  0  0  0  0  0  0  0  0  0  0  0\\n    0.8836   -2.4007   -1.3283 N   0  0  0  0  0  0  0  0  0  0  0  0\\n    0.0370   -1.3011   -0.8635 C   0  0  0  0  0  0  0  0  0  0  0  0\\n   -0.2297   -1.4093    0.6452 C   0  0  0  0  0  0  0  0  0  0  0  0\\n   -1.2284   -2.4403    0.9306 N   0  0  0  0  0  0  0  0  0  0  0  0\\n   -2.5935   -2.4230    0.4716 C   0  0  0  0  0  0  0  0  0  0  0  0\\n   -3.2211   -3.5158    0.4311 O   0  0  0  0  0  0  0  0  0  0  0  0\\n   -3.2988   -1.1774    0.0699 C   0  0  0  0  0  0  0  0  0  0  0  0\\n   -2.8296    0.0408    0.4585 N   0  0  0  0  0  0  0  0  0  0  0  0\\n   -3.4679    1.2056    0.1612 C   0  0  0  0  0  0  0  0  0  0  0  0\\n   -4.6670    1.1660   -0.5640 C   0  0  0  0  0  0  0  0  0  0  0  0\\n   -5.1723   -0.0647   -0.9829 C   0  0  0  0  0  0  0  0  0  0  0  0\\n   -4.4942   -1.2421   -0.6650 C   0  0  0  0  0  0  0  0  0  0  0  0\\n    4.2724   -1.9525    0.3941 C   0  0  0  0  0  0  0  0  0  0  0  0\\n    5.1064   -0.9500    0.8912 C   0  0  0  0  0  0  0  0  0  0  0  0\\n    4.7816    0.3914    0.6892 C   0  0  0  0  0  0  0  0  0  0  0  0\\n  1  2  2  0\\n  2  3  1  0\\n  3  4  1  0\\n  4  5  1  0\\n  5  6  1  0\\n  6  7  1  0\\n  7  8  2  0\\n  7  9  1  0\\n  9 10  1  0\\n 10 11  2  0\\n 11 12  1  0\\n 12 13  2  0\\n 12 14  1  0\\n 14 15  1  0\\n 15 16  1  0\\n 16 17  1  0\\n 17 18  1  0\\n 18 19  2  0\\n 18 20  1  0\\n 20 21  1  0\\n 21 22  2  0\\n 22 23  1  0\\n 23 24  2  0\\n 24 25  1  0\\n 11 26  1  0\\n 26 27  2  0\\n 27 28  1  0\\n 22  2  1  0\\n 28  9  2  0\\n 25 20  2  0\\nM  END\\n\",\"sdf\");\n",
       "\tviewer_14907088089300895.addModel(\"\\n     RDKit          3D\\n\\n 28 30  0  0  0  0  0  0  0  0999 V2000\\n   -3.9852    2.3096    1.9552 O   0  0  0  0  0  0  0  0  0  0  0  0\\n   -3.1686    1.8184    1.1303 C   0  0  0  0  0  0  0  0  0  0  0  0\\n   -1.8624    2.4028    1.0140 N   0  0  0  0  0  0  0  0  0  0  0  0\\n   -1.1090    2.3992   -0.2407 C   0  0  0  0  0  0  0  0  0  0  0  0\\n    0.3740    2.7145    0.0142 C   0  0  0  0  0  0  0  0  0  0  0  0\\n    1.2307    2.1081   -1.0033 N   0  0  0  0  0  0  0  0  0  0  0  0\\n    2.6510    2.2068   -0.8956 C   0  0  0  0  0  0  0  0  0  0  0  0\\n    3.2175    3.3136   -1.1009 O   0  0  0  0  0  0  0  0  0  0  0  0\\n    3.4360    1.0204   -0.5173 C   0  0  0  0  0  0  0  0  0  0  0  0\\n    2.8159    0.0036    0.1397 N   0  0  0  0  0  0  0  0  0  0  0  0\\n    3.4654   -1.1131    0.5633 C   0  0  0  0  0  0  0  0  0  0  0  0\\n    2.7488   -2.1640    1.3407 C   0  0  0  0  0  0  0  0  0  0  0  0\\n    3.3873   -3.1941    1.6891 O   0  0  0  0  0  0  0  0  0  0  0  0\\n    1.3736   -2.0509    1.7647 N   0  0  0  0  0  0  0  0  0  0  0  0\\n    0.3630   -1.1472    1.2106 C   0  0  0  0  0  0  0  0  0  0  0  0\\n    0.0045   -1.5430   -0.2246 C   0  0  0  0  0  0  0  0  0  0  0  0\\n   -0.8854   -2.7009   -0.2120 N   0  0  0  0  0  0  0  0  0  0  0  0\\n   -2.2432   -2.6942   -0.6830 C   0  0  0  0  0  0  0  0  0  0  0  0\\n   -2.7114   -3.7665   -1.1531 O   0  0  0  0  0  0  0  0  0  0  0  0\\n   -3.1324   -1.5039   -0.5850 C   0  0  0  0  0  0  0  0  0  0  0  0\\n   -2.7748   -0.4163    0.1592 N   0  0  0  0  0  0  0  0  0  0  0  0\\n   -3.5912    0.6675    0.3074 C   0  0  0  0  0  0  0  0  0  0  0  0\\n   -4.8574    0.6655   -0.2907 C   0  0  0  0  0  0  0  0  0  0  0  0\\n   -5.2496   -0.4277   -1.0594 C   0  0  0  0  0  0  0  0  0  0  0  0\\n   -4.3910   -1.5153   -1.2118 C   0  0  0  0  0  0  0  0  0  0  0  0\\n    4.8407   -1.2343    0.2948 C   0  0  0  0  0  0  0  0  0  0  0  0\\n    5.5069   -0.2067   -0.3772 C   0  0  0  0  0  0  0  0  0  0  0  0\\n    4.8093    0.9334   -0.7783 C   0  0  0  0  0  0  0  0  0  0  0  0\\n  1  2  2  0\\n  2  3  1  0\\n  3  4  1  0\\n  4  5  1  0\\n  5  6  1  0\\n  6  7  1  0\\n  7  8  2  0\\n  7  9  1  0\\n  9 10  1  0\\n 10 11  2  0\\n 11 12  1  0\\n 12 13  2  0\\n 12 14  1  0\\n 14 15  1  0\\n 15 16  1  0\\n 16 17  1  0\\n 17 18  1  0\\n 18 19  2  0\\n 18 20  1  0\\n 20 21  1  0\\n 21 22  2  0\\n 22 23  1  0\\n 23 24  2  0\\n 24 25  1  0\\n 11 26  1  0\\n 26 27  2  0\\n 27 28  1  0\\n 22  2  1  0\\n 28  9  2  0\\n 25 20  2  0\\nM  END\\n\",\"sdf\");\n",
       "\tviewer_14907088089300895.addModel(\"\\n     RDKit          3D\\n\\n 28 30  0  0  0  0  0  0  0  0999 V2000\\n    4.3736   -2.9680    1.0277 O   0  0  0  0  0  0  0  0  0  0  0  0\\n    3.3737   -2.4012    0.5099 C   0  0  0  0  0  0  0  0  0  0  0  0\\n    2.3548   -3.2109   -0.0952 N   0  0  0  0  0  0  0  0  0  0  0  0\\n    0.9337   -2.9474    0.1254 C   0  0  0  0  0  0  0  0  0  0  0  0\\n    0.0888   -3.5485   -1.0036 C   0  0  0  0  0  0  0  0  0  0  0  0\\n   -1.2906   -3.0759   -0.8996 N   0  0  0  0  0  0  0  0  0  0  0  0\\n   -1.6142   -1.7053   -1.1733 C   0  0  0  0  0  0  0  0  0  0  0  0\\n   -0.9042   -1.0471   -1.9818 O   0  0  0  0  0  0  0  0  0  0  0  0\\n   -2.6708   -1.0049   -0.4272 C   0  0  0  0  0  0  0  0  0  0  0  0\\n   -2.4669    0.2986   -0.1082 N   0  0  0  0  0  0  0  0  0  0  0  0\\n   -3.3387    1.0347    0.6274 C   0  0  0  0  0  0  0  0  0  0  0  0\\n   -3.0099    2.4403    0.9953 C   0  0  0  0  0  0  0  0  0  0  0  0\\n   -3.8525    3.1053    1.6570 O   0  0  0  0  0  0  0  0  0  0  0  0\\n   -1.7583    3.0755    0.6580 N   0  0  0  0  0  0  0  0  0  0  0  0\\n   -0.7577    2.5141   -0.2545 C   0  0  0  0  0  0  0  0  0  0  0  0\\n    0.4135    3.4766   -0.4725 C   0  0  0  0  0  0  0  0  0  0  0  0\\n    1.2508    3.0267   -1.5883 N   0  0  0  0  0  0  0  0  0  0  0  0\\n    1.8246    1.7120   -1.6710 C   0  0  0  0  0  0  0  0  0  0  0  0\\n    1.7344    1.0778   -2.7560 O   0  0  0  0  0  0  0  0  0  0  0  0\\n    2.5339    1.0847   -0.5380 C   0  0  0  0  0  0  0  0  0  0  0  0\\n    2.6117   -0.2750   -0.4732 N   0  0  0  0  0  0  0  0  0  0  0  0\\n    3.2971   -0.9233    0.5104 C   0  0  0  0  0  0  0  0  0  0  0  0\\n    3.9713   -0.1729    1.4852 C   0  0  0  0  0  0  0  0  0  0  0  0\\n    3.9211    1.2204    1.4351 C   0  0  0  0  0  0  0  0  0  0  0  0\\n    3.2095    1.8570    0.4180 C   0  0  0  0  0  0  0  0  0  0  0  0\\n   -4.5280    0.4272    1.0657 C   0  0  0  0  0  0  0  0  0  0  0  0\\n   -4.7752   -0.9118    0.7472 C   0  0  0  0  0  0  0  0  0  0  0  0\\n   -3.8421   -1.6404    0.0051 C   0  0  0  0  0  0  0  0  0  0  0  0\\n  1  2  2  0\\n  2  3  1  0\\n  3  4  1  0\\n  4  5  1  0\\n  5  6  1  0\\n  6  7  1  0\\n  7  8  2  0\\n  7  9  1  0\\n  9 10  1  0\\n 10 11  2  0\\n 11 12  1  0\\n 12 13  2  0\\n 12 14  1  0\\n 14 15  1  0\\n 15 16  1  0\\n 16 17  1  0\\n 17 18  1  0\\n 18 19  2  0\\n 18 20  1  0\\n 20 21  1  0\\n 21 22  2  0\\n 22 23  1  0\\n 23 24  2  0\\n 24 25  1  0\\n 11 26  1  0\\n 26 27  2  0\\n 27 28  1  0\\n 22  2  1  0\\n 28  9  2  0\\n 25 20  2  0\\nM  END\\n\",\"sdf\");\n",
       "\tviewer_14907088089300895.addModel(\"\\n     RDKit          3D\\n\\n 28 30  0  0  0  0  0  0  0  0999 V2000\\n    3.4062   -2.7734   -1.2735 O   0  0  0  0  0  0  0  0  0  0  0  0\\n    2.7526   -1.9226   -0.6121 C   0  0  0  0  0  0  0  0  0  0  0  0\\n    1.3808   -2.1847   -0.2939 N   0  0  0  0  0  0  0  0  0  0  0  0\\n    0.9465   -2.2362    1.1034 C   0  0  0  0  0  0  0  0  0  0  0  0\\n   -0.5507   -1.9371    1.2441 C   0  0  0  0  0  0  0  0  0  0  0  0\\n   -1.3698   -2.8681    0.4671 N   0  0  0  0  0  0  0  0  0  0  0  0\\n   -2.7855   -2.6846    0.3284 C   0  0  0  0  0  0  0  0  0  0  0  0\\n   -3.5359   -3.6973    0.3304 O   0  0  0  0  0  0  0  0  0  0  0  0\\n   -3.3851   -1.3434    0.1714 C   0  0  0  0  0  0  0  0  0  0  0  0\\n   -2.7614   -0.3973   -0.5875 N   0  0  0  0  0  0  0  0  0  0  0  0\\n   -3.2867    0.8448   -0.7891 C   0  0  0  0  0  0  0  0  0  0  0  0\\n   -2.6131    1.8238   -1.6837 C   0  0  0  0  0  0  0  0  0  0  0  0\\n   -3.2907    2.7761   -2.1572 O   0  0  0  0  0  0  0  0  0  0  0  0\\n   -1.2288    1.7243   -2.0656 N   0  0  0  0  0  0  0  0  0  0  0  0\\n   -0.1842    1.0526   -1.2930 C   0  0  0  0  0  0  0  0  0  0  0  0\\n    0.0293    1.7341    0.0678 C   0  0  0  0  0  0  0  0  0  0  0  0\\n    0.9141    2.8884   -0.0764 N   0  0  0  0  0  0  0  0  0  0  0  0\\n    2.3143    2.8996    0.2631 C   0  0  0  0  0  0  0  0  0  0  0  0\\n    2.8465    4.0082    0.5419 O   0  0  0  0  0  0  0  0  0  0  0  0\\n    3.1693    1.6789    0.2381 C   0  0  0  0  0  0  0  0  0  0  0  0\\n    2.6467    0.4709   -0.1110 N   0  0  0  0  0  0  0  0  0  0  0  0\\n    3.3952   -0.6608   -0.2037 C   0  0  0  0  0  0  0  0  0  0  0  0\\n    4.7712   -0.5977    0.0506 C   0  0  0  0  0  0  0  0  0  0  0  0\\n    5.3401    0.6201    0.4240 C   0  0  0  0  0  0  0  0  0  0  0  0\\n    4.5440    1.7632    0.5208 C   0  0  0  0  0  0  0  0  0  0  0  0\\n   -4.5224    1.1640   -0.2008 C   0  0  0  0  0  0  0  0  0  0  0  0\\n   -5.1864    0.2114    0.5718 C   0  0  0  0  0  0  0  0  0  0  0  0\\n   -4.6256   -1.0515    0.7534 C   0  0  0  0  0  0  0  0  0  0  0  0\\n  1  2  2  0\\n  2  3  1  0\\n  3  4  1  0\\n  4  5  1  0\\n  5  6  1  0\\n  6  7  1  0\\n  7  8  2  0\\n  7  9  1  0\\n  9 10  1  0\\n 10 11  2  0\\n 11 12  1  0\\n 12 13  2  0\\n 12 14  1  0\\n 14 15  1  0\\n 15 16  1  0\\n 16 17  1  0\\n 17 18  1  0\\n 18 19  2  0\\n 18 20  1  0\\n 20 21  1  0\\n 21 22  2  0\\n 22 23  1  0\\n 23 24  2  0\\n 24 25  1  0\\n 11 26  1  0\\n 26 27  2  0\\n 27 28  1  0\\n 22  2  1  0\\n 28  9  2  0\\n 25 20  2  0\\nM  END\\n\",\"sdf\");\n",
       "\tviewer_14907088089300895.addModel(\"\\n     RDKit          3D\\n\\n 28 30  0  0  0  0  0  0  0  0999 V2000\\n    3.5019   -2.9983    1.8298 O   0  0  0  0  0  0  0  0  0  0  0  0\\n    2.8920   -2.1483    1.1263 C   0  0  0  0  0  0  0  0  0  0  0  0\\n    1.4866   -2.3215    0.8970 N   0  0  0  0  0  0  0  0  0  0  0  0\\n    0.8898   -2.1520   -0.4280 C   0  0  0  0  0  0  0  0  0  0  0  0\\n   -0.5615   -1.6731   -0.3102 C   0  0  0  0  0  0  0  0  0  0  0  0\\n   -1.4632   -2.7487    0.0980 N   0  0  0  0  0  0  0  0  0  0  0  0\\n   -2.8749   -2.5848    0.3368 C   0  0  0  0  0  0  0  0  0  0  0  0\\n   -3.5168   -3.5847    0.7596 O   0  0  0  0  0  0  0  0  0  0  0  0\\n   -3.6170   -1.3093    0.1026 C   0  0  0  0  0  0  0  0  0  0  0  0\\n   -2.9814   -0.1905   -0.3506 N   0  0  0  0  0  0  0  0  0  0  0  0\\n   -3.6324    0.9824   -0.5946 C   0  0  0  0  0  0  0  0  0  0  0  0\\n   -2.8920    2.1483   -1.1263 C   0  0  0  0  0  0  0  0  0  0  0  0\\n   -3.5019    2.9983   -1.8298 O   0  0  0  0  0  0  0  0  0  0  0  0\\n   -1.4866    2.3215   -0.8970 N   0  0  0  0  0  0  0  0  0  0  0  0\\n   -0.8898    2.1520    0.4280 C   0  0  0  0  0  0  0  0  0  0  0  0\\n    0.5615    1.6731    0.3102 C   0  0  0  0  0  0  0  0  0  0  0  0\\n    1.4632    2.7487   -0.0980 N   0  0  0  0  0  0  0  0  0  0  0  0\\n    2.8749    2.5848   -0.3368 C   0  0  0  0  0  0  0  0  0  0  0  0\\n    3.5168    3.5847   -0.7596 O   0  0  0  0  0  0  0  0  0  0  0  0\\n    3.6170    1.3093   -0.1026 C   0  0  0  0  0  0  0  0  0  0  0  0\\n    2.9814    0.1905    0.3506 N   0  0  0  0  0  0  0  0  0  0  0  0\\n    3.6324   -0.9824    0.5946 C   0  0  0  0  0  0  0  0  0  0  0  0\\n    5.0168   -1.0537    0.3877 C   0  0  0  0  0  0  0  0  0  0  0  0\\n    5.6973    0.0671   -0.0838 C   0  0  0  0  0  0  0  0  0  0  0  0\\n    5.0036    1.2513   -0.3313 C   0  0  0  0  0  0  0  0  0  0  0  0\\n   -5.0168    1.0537   -0.3877 C   0  0  0  0  0  0  0  0  0  0  0  0\\n   -5.6973   -0.0671    0.0838 C   0  0  0  0  0  0  0  0  0  0  0  0\\n   -5.0036   -1.2513    0.3313 C   0  0  0  0  0  0  0  0  0  0  0  0\\n  1  2  2  0\\n  2  3  1  0\\n  3  4  1  0\\n  4  5  1  0\\n  5  6  1  0\\n  6  7  1  0\\n  7  8  2  0\\n  7  9  1  0\\n  9 10  1  0\\n 10 11  2  0\\n 11 12  1  0\\n 12 13  2  0\\n 12 14  1  0\\n 14 15  1  0\\n 15 16  1  0\\n 16 17  1  0\\n 17 18  1  0\\n 18 19  2  0\\n 18 20  1  0\\n 20 21  1  0\\n 21 22  2  0\\n 22 23  1  0\\n 23 24  2  0\\n 24 25  1  0\\n 11 26  1  0\\n 26 27  2  0\\n 27 28  1  0\\n 22  2  1  0\\n 28  9  2  0\\n 25 20  2  0\\nM  END\\n\",\"sdf\");\n",
       "\tviewer_14907088089300895.addModel(\"\\n     RDKit          3D\\n\\n 28 30  0  0  0  0  0  0  0  0999 V2000\\n   -3.1061    3.5543   -1.5472 O   0  0  0  0  0  0  0  0  0  0  0  0\\n   -2.5752    2.5073   -1.0879 C   0  0  0  0  0  0  0  0  0  0  0  0\\n   -1.1492    2.4092   -1.0625 N   0  0  0  0  0  0  0  0  0  0  0  0\\n   -0.4358    2.1460    0.1869 C   0  0  0  0  0  0  0  0  0  0  0  0\\n    1.0756    2.2832   -0.0192 C   0  0  0  0  0  0  0  0  0  0  0  0\\n    1.7886    2.1915    1.2544 N   0  0  0  0  0  0  0  0  0  0  0  0\\n    3.1928    1.9068    1.2822 C   0  0  0  0  0  0  0  0  0  0  0  0\\n    3.9597    2.6511    1.9506 O   0  0  0  0  0  0  0  0  0  0  0  0\\n    3.7442    0.7414    0.5679 C   0  0  0  0  0  0  0  0  0  0  0  0\\n    2.9698   -0.3636    0.3951 N   0  0  0  0  0  0  0  0  0  0  0  0\\n    3.4137   -1.4876   -0.2298 C   0  0  0  0  0  0  0  0  0  0  0  0\\n    2.5469   -2.6938   -0.3287 C   0  0  0  0  0  0  0  0  0  0  0  0\\n    3.0097   -3.7283   -0.8820 O   0  0  0  0  0  0  0  0  0  0  0  0\\n    1.2179   -2.7610    0.2224 N   0  0  0  0  0  0  0  0  0  0  0  0\\n    0.3823   -1.5964    0.5289 C   0  0  0  0  0  0  0  0  0  0  0  0\\n   -1.0365   -2.0095    0.9311 C   0  0  0  0  0  0  0  0  0  0  0  0\\n   -1.7563   -2.5905   -0.2022 N   0  0  0  0  0  0  0  0  0  0  0  0\\n   -3.1452   -2.3285   -0.4380 C   0  0  0  0  0  0  0  0  0  0  0  0\\n   -3.8978   -3.2854   -0.7653 O   0  0  0  0  0  0  0  0  0  0  0  0\\n   -3.7070   -0.9660   -0.3427 C   0  0  0  0  0  0  0  0  0  0  0  0\\n   -2.9314    0.1153   -0.6408 N   0  0  0  0  0  0  0  0  0  0  0  0\\n   -3.4278    1.3855   -0.6468 C   0  0  0  0  0  0  0  0  0  0  0  0\\n   -4.7780    1.5995   -0.3291 C   0  0  0  0  0  0  0  0  0  0  0  0\\n   -5.5893    0.5116   -0.0107 C   0  0  0  0  0  0  0  0  0  0  0  0\\n   -5.0610   -0.7782   -0.0276 C   0  0  0  0  0  0  0  0  0  0  0  0\\n    4.7279   -1.5090   -0.7298 C   0  0  0  0  0  0  0  0  0  0  0  0\\n    5.5488   -0.3923   -0.5615 C   0  0  0  0  0  0  0  0  0  0  0  0\\n    5.0642    0.7367    0.0989 C   0  0  0  0  0  0  0  0  0  0  0  0\\n  1  2  2  0\\n  2  3  1  0\\n  3  4  1  0\\n  4  5  1  0\\n  5  6  1  0\\n  6  7  1  0\\n  7  8  2  0\\n  7  9  1  0\\n  9 10  1  0\\n 10 11  2  0\\n 11 12  1  0\\n 12 13  2  0\\n 12 14  1  0\\n 14 15  1  0\\n 15 16  1  0\\n 16 17  1  0\\n 17 18  1  0\\n 18 19  2  0\\n 18 20  1  0\\n 20 21  1  0\\n 21 22  2  0\\n 22 23  1  0\\n 23 24  2  0\\n 24 25  1  0\\n 11 26  1  0\\n 26 27  2  0\\n 27 28  1  0\\n 22  2  1  0\\n 28  9  2  0\\n 25 20  2  0\\nM  END\\n\",\"sdf\");\n",
       "\tviewer_14907088089300895.setStyle({\"stick\": {\"radius\": \"0.15\"}});\n",
       "\tviewer_14907088089300895.setBackgroundColor(\"0xeeeeee\");\n",
       "\tviewer_14907088089300895.zoomTo();\n",
       "viewer_14907088089300895.render();\n",
       "});\n",
       "</script>"
      ],
      "text/plain": [
       "<IPython.core.display.HTML object>"
      ]
     },
     "execution_count": 251,
     "metadata": {},
     "output_type": "execute_result"
    }
   ],
   "source": [
    "p = py3Dmol.view(width=400,height=400)\n",
    "p.removeAllModels()\n",
    "allmol = allmol_m1_balloon[1:]+allmol_m1_rdkit[1:]\n",
    "\n",
    "m1b = Chem.MolToMolBlock(m1_crystal)\n",
    "\n",
    "for i, mol in enumerate(allmol):\n",
    "    AllChem.AlignMolConformers(mol,atomIds=core_m1)\n",
    "    mq = Chem.MolToMolBlock(mol)\n",
    "    p.addModel(mq,'sdf')\n",
    "p.setStyle({'stick':{'radius':'0.15'}})\n",
    "p.setBackgroundColor('0xeeeeee')\n",
    "p.zoomTo()\n",
    "p.show()"
   ]
  }
 ],
 "metadata": {
  "kernelspec": {
   "display_name": "Python 3",
   "language": "python",
   "name": "python3"
  },
  "language_info": {
   "codemirror_mode": {
    "name": "ipython",
    "version": 3
   },
   "file_extension": ".py",
   "mimetype": "text/x-python",
   "name": "python",
   "nbconvert_exporter": "python",
   "pygments_lexer": "ipython3",
   "version": "3.5.3"
  }
 },
 "nbformat": 4,
 "nbformat_minor": 2
}
