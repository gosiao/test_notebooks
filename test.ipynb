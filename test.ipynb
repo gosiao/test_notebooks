{
 "cells": [
  {
   "cell_type": "code",
   "execution_count": 5,
   "metadata": {
    "collapsed": false
   },
   "outputs": [
    {
     "data": {
      "text/html": [
       "<table>\n",
       "<tr>\n",
       "<td id=\"left\"></td><td>This is benzene</td>\n",
       "</tr>\n",
       "</table>"
      ],
      "text/plain": [
       "<IPython.core.display.HTML object>"
      ]
     },
     "metadata": {},
     "output_type": "display_data"
    }
   ],
   "source": [
    "%%html\n",
    "<table>\n",
    "<tr>\n",
    "<td id=\"left\"></td><td>This is benzene</td>\n",
    "</tr>\n",
    "</table>"
   ]
  },
  {
   "cell_type": "code",
   "execution_count": 6,
   "metadata": {
    "collapsed": false
   },
   "outputs": [
    {
     "data": {
      "text/plain": [
       "<py3Dmol.view at 0x7f94f48ed1d0>"
      ]
     },
     "execution_count": 6,
     "metadata": {},
     "output_type": "execute_result"
    }
   ],
   "source": [
    "import py3Dmol\n",
    "\n",
    "benz='''\n",
    "     RDKit          3D\n",
    "\n",
    "  6  6  0  0  0  0  0  0  0  0999 V2000\n",
    "   -0.9517    0.7811   -0.6622 C   0  0  0  0  0  0  0  0  0  0  0  0\n",
    "    0.2847    1.3329   -0.3121 C   0  0  0  0  0  0  0  0  0  0  0  0\n",
    "    1.2365    0.5518    0.3512 C   0  0  0  0  0  0  0  0  0  0  0  0\n",
    "    0.9517   -0.7811    0.6644 C   0  0  0  0  0  0  0  0  0  0  0  0\n",
    "   -0.2847   -1.3329    0.3144 C   0  0  0  0  0  0  0  0  0  0  0  0\n",
    "   -1.2365   -0.5518   -0.3489 C   0  0  0  0  0  0  0  0  0  0  0  0\n",
    "  1  2  2  0\n",
    "  2  3  1  0\n",
    "  3  4  2  0\n",
    "  4  5  1  0\n",
    "  5  6  2  0\n",
    "  6  1  1  0\n",
    "M  END\n",
    "$$$$'''\n",
    "view = py3Dmol.view()\n",
    "view.addModel(benz,'sdf')\n",
    "view.setStyle({'stick':{}})\n",
    "view.zoomTo()\n",
    "view.insert('left')"
   ]
  }
 ],
 "metadata": {
  "kernelspec": {
   "display_name": "Python 3",
   "language": "python",
   "name": "python3"
  },
  "language_info": {
   "codemirror_mode": {
    "name": "ipython",
    "version": 3
   },
   "file_extension": ".py",
   "mimetype": "text/x-python",
   "name": "python",
   "nbconvert_exporter": "python",
   "pygments_lexer": "ipython3",
   "version": "3.6.0"
  }
 },
 "nbformat": 4,
 "nbformat_minor": 2
}
