{
 "cells": [
  {
   "cell_type": "markdown",
   "metadata": {
    "deletable": true,
    "editable": true
   },
   "source": [
    "# Exploring conformational space of selected macrocycles - \"M7\" \n",
    "\n",
    "In this notebook we present and analyze selected structures, technical notes are [here](www.gitlab.com/user/gosia/icho)."
   ]
  },
  {
   "cell_type": "code",
   "execution_count": 19,
   "metadata": {
    "collapsed": false,
    "deletable": true,
    "editable": true
   },
   "outputs": [
    {
     "data": {
      "text/html": [
       "<script>\n",
       "code_show=true; \n",
       "function code_toggle() {\n",
       " if (code_show){\n",
       " $('div.input').hide();\n",
       " } else {\n",
       " $('div.input').show();\n",
       " }\n",
       " code_show = !code_show\n",
       "}\n",
       "$( document ).ready(code_toggle);\n",
       "</script>\n",
       "<form action=\"javascript:code_toggle()\"><input type=\"submit\" value=\"Click here to toggle on/off the raw code.\"></form>"
      ],
      "text/plain": [
       "<IPython.core.display.HTML object>"
      ]
     },
     "execution_count": 19,
     "metadata": {},
     "output_type": "execute_result"
    }
   ],
   "source": [
    "from IPython.display import HTML\n",
    "\n",
    "HTML('''<script>\n",
    "code_show=true; \n",
    "function code_toggle() {\n",
    " if (code_show){\n",
    " $('div.input').hide();\n",
    " } else {\n",
    " $('div.input').show();\n",
    " }\n",
    " code_show = !code_show\n",
    "}\n",
    "$( document ).ready(code_toggle);\n",
    "</script>\n",
    "<form action=\"javascript:code_toggle()\"><input type=\"submit\" value=\"Click here to toggle on/off the raw code.\"></form>''')"
   ]
  },
  {
   "cell_type": "code",
   "execution_count": 20,
   "metadata": {
    "collapsed": false,
    "deletable": true,
    "editable": true
   },
   "outputs": [
    {
     "name": "stdout",
     "output_type": "stream",
     "text": [
      "2016.09.4\n",
      "Tue Mar 28 17:07:32 2017\n"
     ]
    }
   ],
   "source": [
    "import glob\n",
    "import py3Dmol\n",
    "\n",
    "from rdkit import Chem\n",
    "from rdkit.Chem import AllChem\n",
    "from rdkit.Chem import Draw\n",
    "from rdkit.Chem import rdMolAlign\n",
    "from rdkit import rdBase\n",
    "print(rdBase.rdkitVersion)\n",
    "import os,time\n",
    "print( time.asctime())"
   ]
  },
  {
   "cell_type": "code",
   "execution_count": 21,
   "metadata": {
    "collapsed": true,
    "deletable": true,
    "editable": true
   },
   "outputs": [],
   "source": [
    "# Functions used in this notebook:\n",
    "def grep_energies_from_sdf_outputs(files):\n",
    "    energies = []\n",
    "    for inp in files:\n",
    "        with open(inp,'r') as f:\n",
    "            lines = f.readlines()\n",
    "            for i, line in enumerate(lines):\n",
    "                if \"M  END\" in line:\n",
    "                    energies.append(float(lines[i+1]))\n",
    "    return energies"
   ]
  },
  {
   "cell_type": "markdown",
   "metadata": {
    "deletable": true,
    "editable": true
   },
   "source": [
    "### Crystal structure of \"M7\" macrocycle"
   ]
  },
  {
   "cell_type": "code",
   "execution_count": 22,
   "metadata": {
    "collapsed": false,
    "deletable": true,
    "editable": true
   },
   "outputs": [
    {
     "data": {
      "text/html": [
       "<div id=\"3dmolviewer_1490713652677331\"  style=\"position: relative; width: 400px; height: 400px\">\n",
       "<script>\n",
       "if(typeof $3Dmolpromise === 'undefined') $3Dmolpromise = $.when($.getScript('http://3dmol.csb.pitt.edu/build/3Dmol.js'))\n",
       "var viewer_1490713652677331 = null;\n",
       "$3Dmolpromise.done(function() {\n",
       "viewer_1490713652677331 = $3Dmol.createViewer($(\"#3dmolviewer_1490713652677331\"),{backgroundColor:\"white\"});\n",
       "\tviewer_1490713652677331.addModel(\"52\\n\\nN          1.57839        8.38585       11.85511\\nC          1.82351        7.99266       13.09736\\nO          2.96788        7.95608       13.56305\\nC          0.62943        7.60940       13.91036\\nN         -0.57354        7.73379       13.33411\\nC         -1.65370        7.42126       14.05995\\nC         -2.99981        7.65818       13.45996\\nO         -4.04097        7.41952       14.07247\\nN         -3.00440        8.17906       12.23559\\nC         -4.20555        8.64943       11.55430\\nH         -3.94721        9.32535       10.90715\\nH         -4.78218        9.07624       12.20632\\nC         -4.98884        7.59547       10.84862\\nH         -5.84522        7.97176       10.59171\\nH         -5.16361        6.87425       11.47462\\nC         -4.33393        7.01187        9.61449\\nH         -4.99101        6.48576        9.13320\\nH         -4.05714        7.73832        9.03564\\nN         -3.17685        6.17201        9.89546\\nC         -3.30522        4.91789       10.27952\\nO         -4.39595        4.34631       10.42277\\nC         -2.03064        4.16531       10.53318\\nN         -0.88257        4.81964       10.33415\\nC          0.27455        4.16183       10.51529\\nC          1.54316        4.88653       10.18034\\nO          2.63713        4.31722       10.29741\\nN          1.40149        6.12864        9.73481\\nC          2.51605        6.89515        9.21937\\nH          2.17495        7.54843        8.58849\\nH          3.10356        6.29588        8.73158\\nC          3.32933        7.61811       10.26651\\nH          3.59204        6.97877       10.94780\\nH          4.14145        7.94911        9.85026\\nC          2.63392        8.77137       10.93480\\nH          3.29313        9.29225       11.42097\\nH          2.25408        9.34452       10.25025\\nC          0.80705        7.18259       15.20465\\nH          1.65858        7.13033       15.57538\\nC         -0.29197        6.84289       15.92984\\nH         -0.19717        6.52757       16.79975\\nC         -1.54653        6.96483       15.37050\\nH         -2.30626        6.74533       15.85992\\nC         -2.06246        2.83611       10.89902\\nH         -2.87669        2.40581       11.02585\\nC         -0.89454        2.16018       11.07463\\nH         -0.90066        1.25952       11.31040\\nC          0.30692        2.82914       10.89415\\nH          1.11681        2.39188       11.02748\\nH          0.82059        8.37766       11.54454\\nH         -2.33450        8.29927       11.91852\\nH         -2.39977        6.58332        9.92831\\nH          0.67017        6.53280        9.69091\\n\",\"xyz\");\n",
       "\tviewer_1490713652677331.setStyle({\"stick\": {}});\n",
       "\tviewer_1490713652677331.setBackgroundColor(\"0xeeeeee\");\n",
       "\tviewer_1490713652677331.zoomTo();\n",
       "viewer_1490713652677331.render();\n",
       "});\n",
       "</script>"
      ],
      "text/plain": [
       "<IPython.core.display.HTML object>"
      ]
     },
     "execution_count": 22,
     "metadata": {},
     "output_type": "execute_result"
    }
   ],
   "source": [
    "cm7 = open('/home/gosia/work/work_on_gitlab/icho/calcs/m7/m7_crystal.xyz','r').read()\n",
    "vcm7 = py3Dmol.view(width=400,height=400)\n",
    "vcm7.addModel(cm7,'xyz')\n",
    "vcm7.setStyle({'stick':{}})\n",
    "vcm7.setBackgroundColor('0xeeeeee')\n",
    "vcm7.zoomTo()\n",
    "vcm7.show()"
   ]
  },
  {
   "cell_type": "code",
   "execution_count": 23,
   "metadata": {
    "collapsed": true,
    "deletable": true,
    "editable": true
   },
   "outputs": [],
   "source": [
    "# find \"core\" - a part of molecule, which we wish to be most aligned (rmsd-wise) among all the structures\n",
    "m7 = Chem.AddHs(Chem.MolFromSmiles('N1C(=O)c2nc(C(=O)NCCCNC(=O)c3nc(C(=O)NCCC1)ccc3)ccc2'))\n",
    "core_m7 = m7.GetSubstructMatch(Chem.MolFromSmiles('C(=O)c1nc(C=O)ccc1'))"
   ]
  },
  {
   "cell_type": "code",
   "execution_count": 24,
   "metadata": {
    "collapsed": true,
    "deletable": true,
    "editable": true
   },
   "outputs": [],
   "source": [
    "templ_m7 = Chem.SDMolSupplier('/home/gosia/work/work_on_gitlab/icho/calcs/m7/m7_crystal.sdf')\n",
    "m7_crystal = templ_m7[0]"
   ]
  },
  {
   "cell_type": "markdown",
   "metadata": {
    "deletable": true,
    "editable": true
   },
   "source": [
    "### Conformers generated with the Balloon software:"
   ]
  },
  {
   "cell_type": "markdown",
   "metadata": {
    "deletable": true,
    "editable": true
   },
   "source": [
    "Balloon software found 10 conformers of rather similar energy:"
   ]
  },
  {
   "cell_type": "code",
   "execution_count": 25,
   "metadata": {
    "collapsed": false,
    "deletable": true,
    "editable": true
   },
   "outputs": [
    {
     "data": {
      "text/plain": [
       "10"
      ]
     },
     "execution_count": 25,
     "metadata": {},
     "output_type": "execute_result"
    }
   ],
   "source": [
    "inps_m7_balloon = glob.glob('/home/gosia/work/work_on_gitlab/icho/calcs/m7/balloon/results_crystal/*.sdf')\n",
    "len(inps_m7_balloon)"
   ]
  },
  {
   "cell_type": "code",
   "execution_count": 26,
   "metadata": {
    "collapsed": false,
    "deletable": true,
    "editable": true
   },
   "outputs": [
    {
     "data": {
      "text/plain": [
       "[48.37289005109165,\n",
       " 51.78316389463927,\n",
       " 58.10482252710551,\n",
       " 55.53184291965618,\n",
       " 55.688969666106786,\n",
       " 57.683849615148524,\n",
       " 56.10682034855055,\n",
       " 53.693430704453036,\n",
       " 57.53698933580979,\n",
       " 52.10067066540974]"
      ]
     },
     "execution_count": 26,
     "metadata": {},
     "output_type": "execute_result"
    }
   ],
   "source": [
    "e_m7_balloon = grep_energies_from_sdf_outputs(inps_m7_balloon)\n",
    "e_m7_balloon"
   ]
  },
  {
   "cell_type": "code",
   "execution_count": 27,
   "metadata": {
    "collapsed": false,
    "deletable": true,
    "editable": true,
    "scrolled": true
   },
   "outputs": [
    {
     "data": {
      "text/html": [
       "<table>\n",
       "  <tr>\n",
       "    <td id=\"m7_b1\" ></td>\n",
       "    <td id=\"m7_b2\" ></td>\n",
       "    <td id=\"m7_b3\" ></td> \n",
       "    <td id=\"m7_b4\" ></td>    \n",
       "  </tr>\n",
       "  <tr>\n",
       "    <td> m7_b1, E = </td>\n",
       "    <td> m7_b2, E = </td>\n",
       "    <td> m7_b3, E = </td>   \n",
       "    <td> m7_b4, E = </td>       \n",
       "  </tr>\n",
       "  <tr>\n",
       "    <td id=\"m7_b5\" ></td>    \n",
       "    <td id=\"m7_b6\" ></td>\n",
       "    <td id=\"m7_b7\" ></td>   \n",
       "  </tr>\n",
       "  <tr>\n",
       "    <td> m7_b5, E = </td>\n",
       "    <td> m7_b6, E = </td>\n",
       "    <td> m7_b7, E = </td>   \n",
       "  </tr>\n",
       "  <tr>\n",
       "    <td id=\"m7_b8\" ></td>    \n",
       "    <td id=\"m7_b9\" ></td>\n",
       "    <td id=\"m7_b10\" ></td>   \n",
       "  </tr>\n",
       "  <tr>\n",
       "    <td> m7_b8, E = </td>\n",
       "    <td> m7_b9, E = </td>\n",
       "    <td> m7_b10, E = </td>   \n",
       "  </tr>\n",
       "</table>"
      ],
      "text/plain": [
       "<IPython.core.display.HTML object>"
      ]
     },
     "metadata": {},
     "output_type": "display_data"
    }
   ],
   "source": [
    "%%html\n",
    "<table>\n",
    "  <tr>\n",
    "    <td id=\"m7_b1\" ></td>\n",
    "    <td id=\"m7_b2\" ></td>\n",
    "    <td id=\"m7_b3\" ></td> \n",
    "    <td id=\"m7_b4\" ></td>    \n",
    "  </tr>\n",
    "  <tr>\n",
    "    <td> m7_b1, E = </td>\n",
    "    <td> m7_b2, E = </td>\n",
    "    <td> m7_b3, E = </td>   \n",
    "    <td> m7_b4, E = </td>       \n",
    "  </tr>\n",
    "  <tr>\n",
    "    <td id=\"m7_b5\" ></td>    \n",
    "    <td id=\"m7_b6\" ></td>\n",
    "    <td id=\"m7_b7\" ></td>   \n",
    "  </tr>\n",
    "  <tr>\n",
    "    <td> m7_b5, E = </td>\n",
    "    <td> m7_b6, E = </td>\n",
    "    <td> m7_b7, E = </td>   \n",
    "  </tr>\n",
    "  <tr>\n",
    "    <td id=\"m7_b8\" ></td>    \n",
    "    <td id=\"m7_b9\" ></td>\n",
    "    <td id=\"m7_b10\" ></td>   \n",
    "  </tr>\n",
    "  <tr>\n",
    "    <td> m7_b8, E = </td>\n",
    "    <td> m7_b9, E = </td>\n",
    "    <td> m7_b10, E = </td>   \n",
    "  </tr>\n",
    "</table>"
   ]
  },
  {
   "cell_type": "code",
   "execution_count": 28,
   "metadata": {
    "collapsed": true,
    "deletable": true,
    "editable": true
   },
   "outputs": [],
   "source": [
    "p7_b_handles=[]\n",
    "for inp in inps_m7_balloon:\n",
    "    f7_b = open(inp, 'r').read()\n",
    "    p7_b = py3Dmol.view(width=200,height=200)\n",
    "    #p7_b.removeAllModels()\n",
    "    p7_b.addModel(f7_b,'sdf')\n",
    "    p7_b.setStyle({'stick':{}})\n",
    "    p7_b.setBackgroundColor('0xeeeeee')\n",
    "    p7_b.zoomTo()\n",
    "    p7_b_handles.append(p7_b)"
   ]
  },
  {
   "cell_type": "code",
   "execution_count": 29,
   "metadata": {
    "collapsed": false,
    "deletable": true,
    "editable": true
   },
   "outputs": [
    {
     "data": {
      "text/html": [
       "<div id=\"3dmolviewer_14907136530283985\"  style=\"position: relative; width: 200px; height: 200px\">\n",
       "<script>\n",
       "if(typeof $3Dmolpromise === 'undefined') $3Dmolpromise = $.when($.getScript('http://3dmol.csb.pitt.edu/build/3Dmol.js'))\n",
       "var viewer_14907136530283985 = null;\n",
       "$3Dmolpromise.done(function() {\n",
       "viewer_14907136530283985 = $3Dmol.createViewer($(\"#3dmolviewer_14907136530283985\"),{backgroundColor:\"white\"});\n",
       "\tviewer_14907136530283985.addModel(\"m7_crystal.xyz\\n  1228              3D\\n\\n 52 54  0  0  0  0  0  0  0  0999 V2000\\n    1.4835    8.2799   11.9016 N   0  0  0  0  0  0  0  0  0  0  0  0\\n    1.7317    7.5871   13.0748 C   0  0  0  0  0  0  0  0  0  0  0  0\\n    2.8398    7.4037   13.5675 O   0  0  0  0  0  0  0  0  0  0  0  0\\n    0.5249    7.0327   13.7321 C   0  0  0  0  0  0  0  0  0  0  0  0\\n   -0.6663    7.4524   13.2454 N   0  0  0  0  0  0  0  0  0  0  0  0\\n   -1.7766    6.9703   13.8511 C   0  0  0  0  0  0  0  0  0  0  0  0\\n   -3.0723    7.4620   13.3260 C   0  0  0  0  0  0  0  0  0  0  0  0\\n   -4.1142    7.2068   13.9211 O   0  0  0  0  0  0  0  0  0  0  0  0\\n   -2.9808    8.1868   12.1495 N   0  0  0  0  0  0  0  0  0  0  0  0\\n   -4.1416    8.6926   11.4402 C   0  0  0  0  0  0  0  0  0  0  0  0\\n   -3.7878    9.4387   10.7213 H   0  0  0  0  0  0  0  0  0  0  0  0\\n   -4.7824    9.1995   12.1702 H   0  0  0  0  0  0  0  0  0  0  0  0\\n   -4.9500    7.5993   10.7368 C   0  0  0  0  0  0  0  0  0  0  0  0\\n   -5.8604    8.0579   10.3319 H   0  0  0  0  0  0  0  0  0  0  0  0\\n   -5.2759    6.8485   11.4657 H   0  0  0  0  0  0  0  0  0  0  0  0\\n   -4.2110    6.9209    9.5810 C   0  0  0  0  0  0  0  0  0  0  0  0\\n   -4.8973    6.2444    9.0592 H   0  0  0  0  0  0  0  0  0  0  0  0\\n   -3.8517    7.6624    8.8606 H   0  0  0  0  0  0  0  0  0  0  0  0\\n   -3.0662    6.1402   10.0117 N   0  0  0  0  0  0  0  0  0  0  0  0\\n   -3.1866    4.9329   10.6797 C   0  0  0  0  0  0  0  0  0  0  0  0\\n   -4.2437    4.3608   10.9247 O   0  0  0  0  0  0  0  0  0  0  0  0\\n   -1.9016    4.3418   11.1214 C   0  0  0  0  0  0  0  0  0  0  0  0\\n   -0.7809    4.9228   10.6323 N   0  0  0  0  0  0  0  0  0  0  0  0\\n    0.4008    4.3764   11.0017 C   0  0  0  0  0  0  0  0  0  0  0  0\\n    1.6161    5.0084   10.4361 C   0  0  0  0  0  0  0  0  0  0  0  0\\n    2.7104    4.4720   10.5749 O   0  0  0  0  0  0  0  0  0  0  0  0\\n    1.3913    6.2090    9.7825 N   0  0  0  0  0  0  0  0  0  0  0  0\\n    2.4601    7.0173    9.2242 C   0  0  0  0  0  0  0  0  0  0  0  0\\n    2.0036    7.7368    8.5367 H   0  0  0  0  0  0  0  0  0  0  0  0\\n    3.1088    6.3535    8.6412 H   0  0  0  0  0  0  0  0  0  0  0  0\\n    3.2997    7.7360   10.2834 C   0  0  0  0  0  0  0  0  0  0  0  0\\n    3.7323    7.0052   10.9765 H   0  0  0  0  0  0  0  0  0  0  0  0\\n    4.1417    8.2202    9.7738 H   0  0  0  0  0  0  0  0  0  0  0  0\\n    2.5409    8.8132   11.0630 C   0  0  0  0  0  0  0  0  0  0  0  0\\n    3.2428    9.3488   11.7118 H   0  0  0  0  0  0  0  0  0  0  0  0\\n    2.0862    9.5393   10.3816 H   0  0  0  0  0  0  0  0  0  0  0  0\\n    0.6566    6.1412   14.7884 C   0  0  0  0  0  0  0  0  0  0  0  0\\n    1.6239    5.8170   15.1561 H   0  0  0  0  0  0  0  0  0  0  0  0\\n   -0.5069    5.6569   15.3771 C   0  0  0  0  0  0  0  0  0  0  0  0\\n   -0.4448    4.9551   16.2037 H   0  0  0  0  0  0  0  0  0  0  0  0\\n   -1.7497    6.0748   14.9123 C   0  0  0  0  0  0  0  0  0  0  0  0\\n   -2.6546    5.6987   15.3767 H   0  0  0  0  0  0  0  0  0  0  0  0\\n   -1.8938    3.2491   11.9777 C   0  0  0  0  0  0  0  0  0  0  0  0\\n   -2.8067    2.8067   12.3614 H   0  0  0  0  0  0  0  0  0  0  0  0\\n   -0.6598    2.7217   12.3445 C   0  0  0  0  0  0  0  0  0  0  0  0\\n   -0.6123    1.8677   13.0138 H   0  0  0  0  0  0  0  0  0  0  0  0\\n    0.5132    3.2826   11.8498 C   0  0  0  0  0  0  0  0  0  0  0  0\\n    1.4734    2.8653   12.1335 H   0  0  0  0  0  0  0  0  0  0  0  0\\n    0.5338    8.3220   11.5439 H   0  0  0  0  0  0  0  0  0  0  0  0\\n   -2.0738    8.2905   11.7029 H   0  0  0  0  0  0  0  0  0  0  0  0\\n   -2.1468    6.5636    9.9182 H   0  0  0  0  0  0  0  0  0  0  0  0\\n    0.4525    6.5965    9.7706 H   0  0  0  0  0  0  0  0  0  0  0  0\\n  1  2  1  0  0  0  0\\n  2  3  2  0  0  0  0\\n  2  4  1  0  0  0  0\\n  4 37  1  0  0  0  0\\n  5  4  2  0  0  0  0\\n  5  6  1  0  0  0  0\\n  6 41  2  0  0  0  0\\n  7  6  1  0  0  0  0\\n  7  8  2  0  0  0  0\\n  9  7  1  0  0  0  0\\n 10 12  1  0  0  0  0\\n 10  9  1  0  0  0  0\\n 11 10  1  0  0  0  0\\n 13 15  1  0  0  0  0\\n 13 10  1  0  0  0  0\\n 14 13  1  0  0  0  0\\n 16 19  1  0  0  0  0\\n 16 13  1  0  0  0  0\\n 17 16  1  0  0  0  0\\n 18 16  1  0  0  0  0\\n 19 51  1  0  0  0  0\\n 19 20  1  0  0  0  0\\n 20 21  2  0  0  0  0\\n 20 22  1  0  0  0  0\\n 22 43  2  0  0  0  0\\n 23 24  2  0  0  0  0\\n 23 22  1  0  0  0  0\\n 24 47  1  0  0  0  0\\n 25 26  2  0  0  0  0\\n 25 24  1  0  0  0  0\\n 27 25  1  0  0  0  0\\n 28 27  1  0  0  0  0\\n 28 31  1  0  0  0  0\\n 29 28  1  0  0  0  0\\n 30 28  1  0  0  0  0\\n 31 34  1  0  0  0  0\\n 31 32  1  0  0  0  0\\n 33 31  1  0  0  0  0\\n 34 35  1  0  0  0  0\\n 34  1  1  0  0  0  0\\n 36 34  1  0  0  0  0\\n 37 38  1  0  0  0  0\\n 37 39  2  0  0  0  0\\n 39 40  1  0  0  0  0\\n 41 42  1  0  0  0  0\\n 41 39  1  0  0  0  0\\n 43 44  1  0  0  0  0\\n 43 45  1  0  0  0  0\\n 45 46  1  0  0  0  0\\n 47 48  1  0  0  0  0\\n 47 45  2  0  0  0  0\\n 49  1  1  0  0  0  0\\n 50  9  1  0  0  0  0\\n 52 27  1  0  0  0  0\\nM  END\\n48.372890051091652\\n\\n\",\"sdf\");\n",
       "\tviewer_14907136530283985.setStyle({\"stick\": {}});\n",
       "\tviewer_14907136530283985.setBackgroundColor(\"0xeeeeee\");\n",
       "\tviewer_14907136530283985.zoomTo();\n",
       "viewer_14907136530283985.render();\n",
       "});\n",
       "</script><script>$(\"#m7_b1\").append($(\"#3dmolviewer_14907136530283985\")); </script>"
      ],
      "text/plain": [
       "<IPython.core.display.HTML object>"
      ]
     },
     "execution_count": 29,
     "metadata": {},
     "output_type": "execute_result"
    }
   ],
   "source": [
    "p7_b_handles[0].insert('m7_b1')"
   ]
  },
  {
   "cell_type": "code",
   "execution_count": 30,
   "metadata": {
    "collapsed": false,
    "deletable": true,
    "editable": true
   },
   "outputs": [
    {
     "data": {
      "text/html": [
       "<div id=\"3dmolviewer_1490713653095188\"  style=\"position: relative; width: 200px; height: 200px\">\n",
       "<script>\n",
       "if(typeof $3Dmolpromise === 'undefined') $3Dmolpromise = $.when($.getScript('http://3dmol.csb.pitt.edu/build/3Dmol.js'))\n",
       "var viewer_1490713653095188 = null;\n",
       "$3Dmolpromise.done(function() {\n",
       "viewer_1490713653095188 = $3Dmol.createViewer($(\"#3dmolviewer_1490713653095188\"),{backgroundColor:\"white\"});\n",
       "\tviewer_1490713653095188.addModel(\"m7_crystal.xyz\\n  1228              3D\\n\\n 52 54  0  0  0  0  0  0  0  0999 V2000\\n   -3.0057    6.0729   10.1079 N   0  0  0  0  0  0  0  0  0  0  0  0\\n   -3.1434    4.7672   10.5534 C   0  0  0  0  0  0  0  0  0  0  0  0\\n   -4.2144    4.1961   10.7408 O   0  0  0  0  0  0  0  0  0  0  0  0\\n   -1.8670    4.0443   10.7746 C   0  0  0  0  0  0  0  0  0  0  0  0\\n   -0.7439    4.7134   10.4325 N   0  0  0  0  0  0  0  0  0  0  0  0\\n    0.4290    4.0451   10.5452 C   0  0  0  0  0  0  0  0  0  0  0  0\\n    1.6349    4.7869   10.1078 C   0  0  0  0  0  0  0  0  0  0  0  0\\n    2.7373    4.2486   10.1307 O   0  0  0  0  0  0  0  0  0  0  0  0\\n    1.3874    6.0826    9.6895 N   0  0  0  0  0  0  0  0  0  0  0  0\\n    2.4276    6.9724    9.2183 C   0  0  0  0  0  0  0  0  0  0  0  0\\n    1.9454    7.7629    8.6370 H   0  0  0  0  0  0  0  0  0  0  0  0\\n    3.0723    6.4061    8.5368 H   0  0  0  0  0  0  0  0  0  0  0  0\\n    3.2742    7.5590   10.3476 C   0  0  0  0  0  0  0  0  0  0  0  0\\n    4.1479    8.0399    9.8860 H   0  0  0  0  0  0  0  0  0  0  0  0\\n    3.6514    6.7622   10.9998 H   0  0  0  0  0  0  0  0  0  0  0  0\\n    2.5463    8.6189   11.1726 C   0  0  0  0  0  0  0  0  0  0  0  0\\n    3.2748    9.1312   11.8097 H   0  0  0  0  0  0  0  0  0  0  0  0\\n    2.0919    9.3709   10.5208 H   0  0  0  0  0  0  0  0  0  0  0  0\\n    1.4925    8.0898   12.0224 N   0  0  0  0  0  0  0  0  0  0  0  0\\n    1.7154    7.6809   13.3270 C   0  0  0  0  0  0  0  0  0  0  0  0\\n    2.8215    7.5863   13.8544 O   0  0  0  0  0  0  0  0  0  0  0  0\\n    0.4911    7.3908   14.1149 C   0  0  0  0  0  0  0  0  0  0  0  0\\n   -0.6910    7.5585   13.4756 N   0  0  0  0  0  0  0  0  0  0  0  0\\n   -1.8117    7.3555   14.2100 C   0  0  0  0  0  0  0  0  0  0  0  0\\n   -3.1009    7.5727   13.5131 C   0  0  0  0  0  0  0  0  0  0  0  0\\n   -4.1503    7.2093   14.0377 O   0  0  0  0  0  0  0  0  0  0  0  0\\n   -3.0029    8.2175   12.2905 N   0  0  0  0  0  0  0  0  0  0  0  0\\n   -4.1692    8.6535   11.5461 C   0  0  0  0  0  0  0  0  0  0  0  0\\n   -3.8413    9.4170   10.8330 H   0  0  0  0  0  0  0  0  0  0  0  0\\n   -4.8521    9.1342   12.2563 H   0  0  0  0  0  0  0  0  0  0  0  0\\n   -4.9076    7.5221   10.8325 C   0  0  0  0  0  0  0  0  0  0  0  0\\n   -5.2136    6.7505   11.5462 H   0  0  0  0  0  0  0  0  0  0  0  0\\n   -5.8273    7.9501   10.4171 H   0  0  0  0  0  0  0  0  0  0  0  0\\n   -4.1305    6.8874    9.6809 C   0  0  0  0  0  0  0  0  0  0  0  0\\n   -4.8081    6.2422    9.1085 H   0  0  0  0  0  0  0  0  0  0  0  0\\n   -3.7450    7.6527    8.9993 H   0  0  0  0  0  0  0  0  0  0  0  0\\n   -1.8658    2.7384   11.2488 C   0  0  0  0  0  0  0  0  0  0  0  0\\n   -2.7794    2.2139   11.5083 H   0  0  0  0  0  0  0  0  0  0  0  0\\n   -0.6419    2.0853   11.3602 C   0  0  0  0  0  0  0  0  0  0  0  0\\n   -0.5994    1.0581   11.7157 H   0  0  0  0  0  0  0  0  0  0  0  0\\n    0.5317    2.7383   11.0008 C   0  0  0  0  0  0  0  0  0  0  0  0\\n    1.4824    2.2223   11.0728 H   0  0  0  0  0  0  0  0  0  0  0  0\\n    0.6007    7.0337   15.4527 C   0  0  0  0  0  0  0  0  0  0  0  0\\n    1.5598    6.9260   15.9479 H   0  0  0  0  0  0  0  0  0  0  0  0\\n   -0.5720    6.8333   16.1727 C   0  0  0  0  0  0  0  0  0  0  0  0\\n   -0.5242    6.5676   17.2241 H   0  0  0  0  0  0  0  0  0  0  0  0\\n   -1.8048    6.9910   15.5515 C   0  0  0  0  0  0  0  0  0  0  0  0\\n   -2.7193    6.8501   16.1183 H   0  0  0  0  0  0  0  0  0  0  0  0\\n   -2.0764    6.4762   10.0216 H   0  0  0  0  0  0  0  0  0  0  0  0\\n    0.4404    6.4462    9.7405 H   0  0  0  0  0  0  0  0  0  0  0  0\\n    0.5453    8.0896   11.6534 H   0  0  0  0  0  0  0  0  0  0  0  0\\n   -2.0910    8.5104   11.9524 H   0  0  0  0  0  0  0  0  0  0  0  0\\n  1  2  1  0  0  0  0\\n  2  3  2  0  0  0  0\\n  2  4  1  0  0  0  0\\n  4 37  1  0  0  0  0\\n  5  4  2  0  0  0  0\\n  5  6  1  0  0  0  0\\n  6 41  2  0  0  0  0\\n  7  6  1  0  0  0  0\\n  7  8  2  0  0  0  0\\n  9  7  1  0  0  0  0\\n 10 12  1  0  0  0  0\\n 10  9  1  0  0  0  0\\n 11 10  1  0  0  0  0\\n 13 15  1  0  0  0  0\\n 13 10  1  0  0  0  0\\n 14 13  1  0  0  0  0\\n 16 19  1  0  0  0  0\\n 16 13  1  0  0  0  0\\n 17 16  1  0  0  0  0\\n 18 16  1  0  0  0  0\\n 19 51  1  0  0  0  0\\n 19 20  1  0  0  0  0\\n 20 21  2  0  0  0  0\\n 20 22  1  0  0  0  0\\n 22 43  2  0  0  0  0\\n 23 24  2  0  0  0  0\\n 23 22  1  0  0  0  0\\n 24 47  1  0  0  0  0\\n 25 26  2  0  0  0  0\\n 25 24  1  0  0  0  0\\n 27 25  1  0  0  0  0\\n 28 27  1  0  0  0  0\\n 28 31  1  0  0  0  0\\n 29 28  1  0  0  0  0\\n 30 28  1  0  0  0  0\\n 31 34  1  0  0  0  0\\n 31 32  1  0  0  0  0\\n 33 31  1  0  0  0  0\\n 34 35  1  0  0  0  0\\n 34  1  1  0  0  0  0\\n 36 34  1  0  0  0  0\\n 37 38  1  0  0  0  0\\n 37 39  2  0  0  0  0\\n 39 40  1  0  0  0  0\\n 41 42  1  0  0  0  0\\n 41 39  1  0  0  0  0\\n 43 44  1  0  0  0  0\\n 43 45  1  0  0  0  0\\n 45 46  1  0  0  0  0\\n 47 48  1  0  0  0  0\\n 47 45  2  0  0  0  0\\n 49  1  1  0  0  0  0\\n 50  9  1  0  0  0  0\\n 52 27  1  0  0  0  0\\nM  END\\n51.783163894639273\\n\\n\",\"sdf\");\n",
       "\tviewer_1490713653095188.setStyle({\"stick\": {}});\n",
       "\tviewer_1490713653095188.setBackgroundColor(\"0xeeeeee\");\n",
       "\tviewer_1490713653095188.zoomTo();\n",
       "viewer_1490713653095188.render();\n",
       "});\n",
       "</script><script>$(\"#m7_b2\").append($(\"#3dmolviewer_1490713653095188\")); </script>"
      ],
      "text/plain": [
       "<IPython.core.display.HTML object>"
      ]
     },
     "execution_count": 30,
     "metadata": {},
     "output_type": "execute_result"
    }
   ],
   "source": [
    "p7_b_handles[1].insert('m7_b2')"
   ]
  },
  {
   "cell_type": "code",
   "execution_count": 31,
   "metadata": {
    "collapsed": false,
    "deletable": true,
    "editable": true
   },
   "outputs": [
    {
     "data": {
      "text/html": [
       "<div id=\"3dmolviewer_14907136531395874\"  style=\"position: relative; width: 200px; height: 200px\">\n",
       "<script>\n",
       "if(typeof $3Dmolpromise === 'undefined') $3Dmolpromise = $.when($.getScript('http://3dmol.csb.pitt.edu/build/3Dmol.js'))\n",
       "var viewer_14907136531395874 = null;\n",
       "$3Dmolpromise.done(function() {\n",
       "viewer_14907136531395874 = $3Dmol.createViewer($(\"#3dmolviewer_14907136531395874\"),{backgroundColor:\"white\"});\n",
       "\tviewer_14907136531395874.addModel(\"m7_crystal.xyz\\n  1228              3D\\n\\n 52 54  0  0  0  0  0  0  0  0999 V2000\\n   -3.1892    5.1003   10.8948 N   0  0  0  0  0  0  0  0  0  0  0  0\\n   -3.0883    3.7244   10.7676 C   0  0  0  0  0  0  0  0  0  0  0  0\\n   -3.9251    2.9110   11.1450 O   0  0  0  0  0  0  0  0  0  0  0  0\\n   -1.8381    3.2612   10.1215 C   0  0  0  0  0  0  0  0  0  0  0  0\\n   -0.8877    4.2060    9.9251 N   0  0  0  0  0  0  0  0  0  0  0  0\\n    0.2635    3.7966    9.3467 C   0  0  0  0  0  0  0  0  0  0  0  0\\n    1.3028    4.8330    9.1543 C   0  0  0  0  0  0  0  0  0  0  0  0\\n    2.2803    4.5956    8.4499 O   0  0  0  0  0  0  0  0  0  0  0  0\\n    1.0788    6.0229    9.8315 N   0  0  0  0  0  0  0  0  0  0  0  0\\n    2.0714    7.0845    9.8690 C   0  0  0  0  0  0  0  0  0  0  0  0\\n    1.5412    8.0295   10.0238 H   0  0  0  0  0  0  0  0  0  0  0  0\\n    2.5497    7.1294    8.8832 H   0  0  0  0  0  0  0  0  0  0  0  0\\n    3.1357    6.8231   10.9389 C   0  0  0  0  0  0  0  0  0  0  0  0\\n    4.1223    6.9630   10.4796 H   0  0  0  0  0  0  0  0  0  0  0  0\\n    3.0932    5.7844   11.2881 H   0  0  0  0  0  0  0  0  0  0  0  0\\n    3.0586    7.7630   12.1400 C   0  0  0  0  0  0  0  0  0  0  0  0\\n    3.9006    7.5573   12.8105 H   0  0  0  0  0  0  0  0  0  0  0  0\\n    3.1486    8.8069   11.8193 H   0  0  0  0  0  0  0  0  0  0  0  0\\n    1.8144    7.6552   12.8811 N   0  0  0  0  0  0  0  0  0  0  0  0\\n    1.7689    7.8276   14.2596 C   0  0  0  0  0  0  0  0  0  0  0  0\\n    2.7421    7.8327   15.0054 O   0  0  0  0  0  0  0  0  0  0  0  0\\n    0.4125    8.0542   14.8165 C   0  0  0  0  0  0  0  0  0  0  0  0\\n   -0.5816    8.2140   13.9130 N   0  0  0  0  0  0  0  0  0  0  0  0\\n   -1.8134    8.4965   14.4003 C   0  0  0  0  0  0  0  0  0  0  0  0\\n   -2.8908    8.6415   13.3920 C   0  0  0  0  0  0  0  0  0  0  0  0\\n   -3.9719    9.1277   13.7052 O   0  0  0  0  0  0  0  0  0  0  0  0\\n   -2.5585    8.1617   12.1373 N   0  0  0  0  0  0  0  0  0  0  0  0\\n   -3.4829    8.1168   11.0212 C   0  0  0  0  0  0  0  0  0  0  0  0\\n   -2.8932    7.8817   10.1297 H   0  0  0  0  0  0  0  0  0  0  0  0\\n   -3.9040    9.1201   10.8883 H   0  0  0  0  0  0  0  0  0  0  0  0\\n   -4.6205    7.1062   11.1933 C   0  0  0  0  0  0  0  0  0  0  0  0\\n   -5.3586    7.5187   11.8918 H   0  0  0  0  0  0  0  0  0  0  0  0\\n   -5.1325    7.0000   10.2293 H   0  0  0  0  0  0  0  0  0  0  0  0\\n   -4.2124    5.7264   11.7070 C   0  0  0  0  0  0  0  0  0  0  0  0\\n   -3.8175    5.7854   12.7274 H   0  0  0  0  0  0  0  0  0  0  0  0\\n   -5.0916    5.0731   11.7415 H   0  0  0  0  0  0  0  0  0  0  0  0\\n   -1.6892    1.9253    9.7731 C   0  0  0  0  0  0  0  0  0  0  0  0\\n   -2.4664    1.1885    9.9490 H   0  0  0  0  0  0  0  0  0  0  0  0\\n   -0.4920    1.5427    9.1770 C   0  0  0  0  0  0  0  0  0  0  0  0\\n   -0.3363    0.5060    8.8896 H   0  0  0  0  0  0  0  0  0  0  0  0\\n    0.5058    2.4862    8.9509 C   0  0  0  0  0  0  0  0  0  0  0  0\\n    1.4405    2.1809    8.4925 H   0  0  0  0  0  0  0  0  0  0  0  0\\n    0.2251    8.1427   16.1900 C   0  0  0  0  0  0  0  0  0  0  0  0\\n    1.0342    7.9973   16.8979 H   0  0  0  0  0  0  0  0  0  0  0  0\\n   -1.0545    8.4390   16.6532 C   0  0  0  0  0  0  0  0  0  0  0  0\\n   -1.2393    8.5189   17.7205 H   0  0  0  0  0  0  0  0  0  0  0  0\\n   -2.0972    8.6338   15.7523 C   0  0  0  0  0  0  0  0  0  0  0  0\\n   -3.0919    8.8672   16.1166 H   0  0  0  0  0  0  0  0  0  0  0  0\\n   -2.3730    5.6596   10.6635 H   0  0  0  0  0  0  0  0  0  0  0  0\\n    0.2796    6.0980   10.4544 H   0  0  0  0  0  0  0  0  0  0  0  0\\n    0.9516    7.7744   12.3589 H   0  0  0  0  0  0  0  0  0  0  0  0\\n   -1.6493    7.7285   12.0031 H   0  0  0  0  0  0  0  0  0  0  0  0\\n  1  2  1  0  0  0  0\\n  2  3  2  0  0  0  0\\n  2  4  1  0  0  0  0\\n  4 37  1  0  0  0  0\\n  5  4  2  0  0  0  0\\n  5  6  1  0  0  0  0\\n  6 41  2  0  0  0  0\\n  7  6  1  0  0  0  0\\n  7  8  2  0  0  0  0\\n  9  7  1  0  0  0  0\\n 10 12  1  0  0  0  0\\n 10  9  1  0  0  0  0\\n 11 10  1  0  0  0  0\\n 13 15  1  0  0  0  0\\n 13 10  1  0  0  0  0\\n 14 13  1  0  0  0  0\\n 16 19  1  0  0  0  0\\n 16 13  1  0  0  0  0\\n 17 16  1  0  0  0  0\\n 18 16  1  0  0  0  0\\n 19 51  1  0  0  0  0\\n 19 20  1  0  0  0  0\\n 20 21  2  0  0  0  0\\n 20 22  1  0  0  0  0\\n 22 43  2  0  0  0  0\\n 23 24  2  0  0  0  0\\n 23 22  1  0  0  0  0\\n 24 47  1  0  0  0  0\\n 25 26  2  0  0  0  0\\n 25 24  1  0  0  0  0\\n 27 25  1  0  0  0  0\\n 28 27  1  0  0  0  0\\n 28 31  1  0  0  0  0\\n 29 28  1  0  0  0  0\\n 30 28  1  0  0  0  0\\n 31 34  1  0  0  0  0\\n 31 32  1  0  0  0  0\\n 33 31  1  0  0  0  0\\n 34 35  1  0  0  0  0\\n 34  1  1  0  0  0  0\\n 36 34  1  0  0  0  0\\n 37 38  1  0  0  0  0\\n 37 39  2  0  0  0  0\\n 39 40  1  0  0  0  0\\n 41 42  1  0  0  0  0\\n 41 39  1  0  0  0  0\\n 43 44  1  0  0  0  0\\n 43 45  1  0  0  0  0\\n 45 46  1  0  0  0  0\\n 47 48  1  0  0  0  0\\n 47 45  2  0  0  0  0\\n 49  1  1  0  0  0  0\\n 50  9  1  0  0  0  0\\n 52 27  1  0  0  0  0\\nM  END\\n58.104822527105512\\n\\n\",\"sdf\");\n",
       "\tviewer_14907136531395874.setStyle({\"stick\": {}});\n",
       "\tviewer_14907136531395874.setBackgroundColor(\"0xeeeeee\");\n",
       "\tviewer_14907136531395874.zoomTo();\n",
       "viewer_14907136531395874.render();\n",
       "});\n",
       "</script><script>$(\"#m7_b3\").append($(\"#3dmolviewer_14907136531395874\")); </script>"
      ],
      "text/plain": [
       "<IPython.core.display.HTML object>"
      ]
     },
     "execution_count": 31,
     "metadata": {},
     "output_type": "execute_result"
    }
   ],
   "source": [
    "p7_b_handles[2].insert('m7_b3')"
   ]
  },
  {
   "cell_type": "code",
   "execution_count": 32,
   "metadata": {
    "collapsed": false,
    "deletable": true,
    "editable": true
   },
   "outputs": [
    {
     "data": {
      "text/html": [
       "<div id=\"3dmolviewer_14907136531853254\"  style=\"position: relative; width: 200px; height: 200px\">\n",
       "<script>\n",
       "if(typeof $3Dmolpromise === 'undefined') $3Dmolpromise = $.when($.getScript('http://3dmol.csb.pitt.edu/build/3Dmol.js'))\n",
       "var viewer_14907136531853254 = null;\n",
       "$3Dmolpromise.done(function() {\n",
       "viewer_14907136531853254 = $3Dmol.createViewer($(\"#3dmolviewer_14907136531853254\"),{backgroundColor:\"white\"});\n",
       "\tviewer_14907136531853254.addModel(\"m7_crystal.xyz\\n  1228              3D\\n\\n 52 54  0  0  0  0  0  0  0  0999 V2000\\n   -2.6282    7.7319   12.6019 N   0  0  0  0  0  0  0  0  0  0  0  0\\n   -2.9120    8.4026   13.7795 C   0  0  0  0  0  0  0  0  0  0  0  0\\n   -4.0275    8.7695   14.1343 O   0  0  0  0  0  0  0  0  0  0  0  0\\n   -1.7305    8.6693   14.6360 C   0  0  0  0  0  0  0  0  0  0  0  0\\n   -0.5233    8.4263   14.0730 N   0  0  0  0  0  0  0  0  0  0  0  0\\n    0.5697    8.6850   14.8292 C   0  0  0  0  0  0  0  0  0  0  0  0\\n    1.8827    8.4226   14.1881 C   0  0  0  0  0  0  0  0  0  0  0  0\\n    2.9206    8.5455   14.8298 O   0  0  0  0  0  0  0  0  0  0  0  0\\n    1.8028    8.0510   12.8572 N   0  0  0  0  0  0  0  0  0  0  0  0\\n    2.9715    7.8622   12.0134 C   0  0  0  0  0  0  0  0  0  0  0  0\\n    3.8208    7.5352   12.6231 H   0  0  0  0  0  0  0  0  0  0  0  0\\n    3.2164    8.8441   11.5949 H   0  0  0  0  0  0  0  0  0  0  0  0\\n    2.6808    6.8751   10.8863 C   0  0  0  0  0  0  0  0  0  0  0  0\\n    3.4974    6.9132   10.1549 H   0  0  0  0  0  0  0  0  0  0  0  0\\n    1.7726    7.1907   10.3566 H   0  0  0  0  0  0  0  0  0  0  0  0\\n    2.5419    5.4373   11.3950 C   0  0  0  0  0  0  0  0  0  0  0  0\\n    3.4580    4.8743   11.1854 H   0  0  0  0  0  0  0  0  0  0  0  0\\n    2.3588    5.3947   12.4732 H   0  0  0  0  0  0  0  0  0  0  0  0\\n    1.4231    4.7622   10.7652 N   0  0  0  0  0  0  0  0  0  0  0  0\\n    1.4913    4.1621    9.5193 C   0  0  0  0  0  0  0  0  0  0  0  0\\n    2.5052    4.0439    8.8407 O   0  0  0  0  0  0  0  0  0  0  0  0\\n    0.1885    3.6512    9.0248 C   0  0  0  0  0  0  0  0  0  0  0  0\\n   -0.8761    3.9123    9.8173 N   0  0  0  0  0  0  0  0  0  0  0  0\\n   -2.0846    3.4761    9.3958 C   0  0  0  0  0  0  0  0  0  0  0  0\\n   -3.2249    3.7926   10.2912 C   0  0  0  0  0  0  0  0  0  0  0  0\\n   -4.3600    3.4264   10.0066 O   0  0  0  0  0  0  0  0  0  0  0  0\\n   -2.8717    4.5118   11.4199 N   0  0  0  0  0  0  0  0  0  0  0  0\\n   -3.8202    4.9689   12.4163 C   0  0  0  0  0  0  0  0  0  0  0  0\\n   -3.2625    5.1187   13.3467 H   0  0  0  0  0  0  0  0  0  0  0  0\\n   -4.5529    4.1728   12.5888 H   0  0  0  0  0  0  0  0  0  0  0  0\\n   -4.5481    6.2496   12.0059 C   0  0  0  0  0  0  0  0  0  0  0  0\\n   -5.2146    6.0355   11.1612 H   0  0  0  0  0  0  0  0  0  0  0  0\\n   -5.1900    6.5613   12.8389 H   0  0  0  0  0  0  0  0  0  0  0  0\\n   -3.6311    7.4069   11.6047 C   0  0  0  0  0  0  0  0  0  0  0  0\\n   -4.2354    8.3039   11.4286 H   0  0  0  0  0  0  0  0  0  0  0  0\\n   -3.0999    7.1760   10.6756 H   0  0  0  0  0  0  0  0  0  0  0  0\\n   -1.8953    9.1574   15.9254 C   0  0  0  0  0  0  0  0  0  0  0  0\\n   -2.8736    9.3435   16.3549 H   0  0  0  0  0  0  0  0  0  0  0  0\\n   -0.7495    9.4049   16.6757 C   0  0  0  0  0  0  0  0  0  0  0  0\\n   -0.8365    9.7861   17.6892 H   0  0  0  0  0  0  0  0  0  0  0  0\\n    0.5088    9.1696   16.1288 C   0  0  0  0  0  0  0  0  0  0  0  0\\n    1.3987    9.3696   16.7154 H   0  0  0  0  0  0  0  0  0  0  0  0\\n    0.1001    2.9668    7.8217 C   0  0  0  0  0  0  0  0  0  0  0  0\\n    0.9667    2.7707    7.2007 H   0  0  0  0  0  0  0  0  0  0  0  0\\n   -1.1594    2.5288    7.4191 C   0  0  0  0  0  0  0  0  0  0  0  0\\n   -1.2711    1.9903    6.4822 H   0  0  0  0  0  0  0  0  0  0  0  0\\n   -2.2780    2.7818    8.2106 C   0  0  0  0  0  0  0  0  0  0  0  0\\n   -3.2567    2.4405    7.8913 H   0  0  0  0  0  0  0  0  0  0  0  0\\n   -1.6713    7.4454   12.4136 H   0  0  0  0  0  0  0  0  0  0  0  0\\n    0.8988    8.1060   12.3960 H   0  0  0  0  0  0  0  0  0  0  0  0\\n    0.5173    4.8523   11.2168 H   0  0  0  0  0  0  0  0  0  0  0  0\\n   -1.9062    4.8082   11.5306 H   0  0  0  0  0  0  0  0  0  0  0  0\\n  1  2  1  0  0  0  0\\n  2  3  2  0  0  0  0\\n  2  4  1  0  0  0  0\\n  4 37  1  0  0  0  0\\n  5  4  2  0  0  0  0\\n  5  6  1  0  0  0  0\\n  6 41  2  0  0  0  0\\n  7  6  1  0  0  0  0\\n  7  8  2  0  0  0  0\\n  9  7  1  0  0  0  0\\n 10 12  1  0  0  0  0\\n 10  9  1  0  0  0  0\\n 11 10  1  0  0  0  0\\n 13 15  1  0  0  0  0\\n 13 10  1  0  0  0  0\\n 14 13  1  0  0  0  0\\n 16 19  1  0  0  0  0\\n 16 13  1  0  0  0  0\\n 17 16  1  0  0  0  0\\n 18 16  1  0  0  0  0\\n 19 51  1  0  0  0  0\\n 19 20  1  0  0  0  0\\n 20 21  2  0  0  0  0\\n 20 22  1  0  0  0  0\\n 22 43  2  0  0  0  0\\n 23 24  2  0  0  0  0\\n 23 22  1  0  0  0  0\\n 24 47  1  0  0  0  0\\n 25 26  2  0  0  0  0\\n 25 24  1  0  0  0  0\\n 27 25  1  0  0  0  0\\n 28 27  1  0  0  0  0\\n 28 31  1  0  0  0  0\\n 29 28  1  0  0  0  0\\n 30 28  1  0  0  0  0\\n 31 34  1  0  0  0  0\\n 31 32  1  0  0  0  0\\n 33 31  1  0  0  0  0\\n 34 35  1  0  0  0  0\\n 34  1  1  0  0  0  0\\n 36 34  1  0  0  0  0\\n 37 38  1  0  0  0  0\\n 37 39  2  0  0  0  0\\n 39 40  1  0  0  0  0\\n 41 42  1  0  0  0  0\\n 41 39  1  0  0  0  0\\n 43 44  1  0  0  0  0\\n 43 45  1  0  0  0  0\\n 45 46  1  0  0  0  0\\n 47 48  1  0  0  0  0\\n 47 45  2  0  0  0  0\\n 49  1  1  0  0  0  0\\n 50  9  1  0  0  0  0\\n 52 27  1  0  0  0  0\\nM  END\\n55.531842919656178\\n\\n\",\"sdf\");\n",
       "\tviewer_14907136531853254.setStyle({\"stick\": {}});\n",
       "\tviewer_14907136531853254.setBackgroundColor(\"0xeeeeee\");\n",
       "\tviewer_14907136531853254.zoomTo();\n",
       "viewer_14907136531853254.render();\n",
       "});\n",
       "</script><script>$(\"#m7_b4\").append($(\"#3dmolviewer_14907136531853254\")); </script>"
      ],
      "text/plain": [
       "<IPython.core.display.HTML object>"
      ]
     },
     "execution_count": 32,
     "metadata": {},
     "output_type": "execute_result"
    }
   ],
   "source": [
    "p7_b_handles[3].insert('m7_b4')"
   ]
  },
  {
   "cell_type": "code",
   "execution_count": 33,
   "metadata": {
    "collapsed": false,
    "deletable": true,
    "editable": true
   },
   "outputs": [
    {
     "data": {
      "text/html": [
       "<div id=\"3dmolviewer_14907136532297642\"  style=\"position: relative; width: 200px; height: 200px\">\n",
       "<script>\n",
       "if(typeof $3Dmolpromise === 'undefined') $3Dmolpromise = $.when($.getScript('http://3dmol.csb.pitt.edu/build/3Dmol.js'))\n",
       "var viewer_14907136532297642 = null;\n",
       "$3Dmolpromise.done(function() {\n",
       "viewer_14907136532297642 = $3Dmol.createViewer($(\"#3dmolviewer_14907136532297642\"),{backgroundColor:\"white\"});\n",
       "\tviewer_14907136532297642.addModel(\"m7_crystal.xyz\\n  1228              3D\\n\\n 52 54  0  0  0  0  0  0  0  0999 V2000\\n   -2.6014    5.6371   10.5060 N   0  0  0  0  0  0  0  0  0  0  0  0\\n   -3.0029    4.6543    9.6169 C   0  0  0  0  0  0  0  0  0  0  0  0\\n   -4.1444    4.5116    9.1909 O   0  0  0  0  0  0  0  0  0  0  0  0\\n   -1.9198    3.7423    9.1716 C   0  0  0  0  0  0  0  0  0  0  0  0\\n   -0.6746    4.0278    9.6219 N   0  0  0  0  0  0  0  0  0  0  0  0\\n    0.3292    3.2211    9.2009 C   0  0  0  0  0  0  0  0  0  0  0  0\\n    1.6920    3.5610    9.6816 C   0  0  0  0  0  0  0  0  0  0  0  0\\n    2.6569    2.8902    9.3293 O   0  0  0  0  0  0  0  0  0  0  0  0\\n    1.7528    4.6630   10.5176 N   0  0  0  0  0  0  0  0  0  0  0  0\\n    3.0122    5.2063   11.0025 C   0  0  0  0  0  0  0  0  0  0  0  0\\n    3.5394    5.6510   10.1514 H   0  0  0  0  0  0  0  0  0  0  0  0\\n    3.6187    4.3702   11.3673 H   0  0  0  0  0  0  0  0  0  0  0  0\\n    2.7954    6.2240   12.1184 C   0  0  0  0  0  0  0  0  0  0  0  0\\n    3.7561    6.4386   12.6022 H   0  0  0  0  0  0  0  0  0  0  0  0\\n    2.1495    5.7802   12.8872 H   0  0  0  0  0  0  0  0  0  0  0  0\\n    2.2036    7.5381   11.6025 C   0  0  0  0  0  0  0  0  0  0  0  0\\n    2.9960    8.2824   11.4695 H   0  0  0  0  0  0  0  0  0  0  0  0\\n    1.6945    7.4133   10.6416 H   0  0  0  0  0  0  0  0  0  0  0  0\\n    1.2083    8.0537   12.5226 N   0  0  0  0  0  0  0  0  0  0  0  0\\n    1.4785    8.9505   13.5417 C   0  0  0  0  0  0  0  0  0  0  0  0\\n    2.5541    9.4990   13.7486 O   0  0  0  0  0  0  0  0  0  0  0  0\\n    0.3126    9.2155   14.4195 C   0  0  0  0  0  0  0  0  0  0  0  0\\n   -0.7496    8.4025   14.2229 N   0  0  0  0  0  0  0  0  0  0  0  0\\n   -1.8375    8.5984   14.9998 C   0  0  0  0  0  0  0  0  0  0  0  0\\n   -2.9701    7.6747   14.7452 C   0  0  0  0  0  0  0  0  0  0  0  0\\n   -4.0562    7.8574   15.2835 O   0  0  0  0  0  0  0  0  0  0  0  0\\n   -2.6646    6.6442   13.8715 N   0  0  0  0  0  0  0  0  0  0  0  0\\n   -3.6357    5.6907   13.3711 C   0  0  0  0  0  0  0  0  0  0  0  0\\n   -4.3491    5.4628   14.1705 H   0  0  0  0  0  0  0  0  0  0  0  0\\n   -3.0928    4.7710   13.1316 H   0  0  0  0  0  0  0  0  0  0  0  0\\n   -4.3905    6.2120   12.1474 C   0  0  0  0  0  0  0  0  0  0  0  0\\n   -5.0665    5.4245   11.7932 H   0  0  0  0  0  0  0  0  0  0  0  0\\n   -5.0202    7.0587   12.4471 H   0  0  0  0  0  0  0  0  0  0  0  0\\n   -3.4897    6.6742   10.9990 C   0  0  0  0  0  0  0  0  0  0  0  0\\n   -4.1148    7.0128   10.1648 H   0  0  0  0  0  0  0  0  0  0  0  0\\n   -2.8634    7.5189   11.3068 H   0  0  0  0  0  0  0  0  0  0  0  0\\n   -2.2064    2.6834    8.3191 C   0  0  0  0  0  0  0  0  0  0  0  0\\n   -3.2105    2.4790    7.9640 H   0  0  0  0  0  0  0  0  0  0  0  0\\n   -1.1511    1.8709    7.9147 C   0  0  0  0  0  0  0  0  0  0  0  0\\n   -1.3353    1.0320    7.2496 H   0  0  0  0  0  0  0  0  0  0  0  0\\n    0.1418    2.1345    8.3557 C   0  0  0  0  0  0  0  0  0  0  0  0\\n    0.9617    1.5023    8.0322 H   0  0  0  0  0  0  0  0  0  0  0  0\\n    0.3397   10.2243   15.3697 C   0  0  0  0  0  0  0  0  0  0  0  0\\n    1.2036   10.8636   15.5119 H   0  0  0  0  0  0  0  0  0  0  0  0\\n   -0.8008   10.4038   16.1504 C   0  0  0  0  0  0  0  0  0  0  0  0\\n   -0.8223   11.1864   16.9041 H   0  0  0  0  0  0  0  0  0  0  0  0\\n   -1.9150    9.5853   15.9703 C   0  0  0  0  0  0  0  0  0  0  0  0\\n   -2.7977    9.7272   16.5835 H   0  0  0  0  0  0  0  0  0  0  0  0\\n   -1.6376    5.6527   10.8270 H   0  0  0  0  0  0  0  0  0  0  0  0\\n    0.9052    5.2014   10.6739 H   0  0  0  0  0  0  0  0  0  0  0  0\\n    0.2843    7.6328   12.4772 H   0  0  0  0  0  0  0  0  0  0  0  0\\n   -1.7377    6.6159   13.4562 H   0  0  0  0  0  0  0  0  0  0  0  0\\n  1  2  1  0  0  0  0\\n  2  3  2  0  0  0  0\\n  2  4  1  0  0  0  0\\n  4 37  1  0  0  0  0\\n  5  4  2  0  0  0  0\\n  5  6  1  0  0  0  0\\n  6 41  2  0  0  0  0\\n  7  6  1  0  0  0  0\\n  7  8  2  0  0  0  0\\n  9  7  1  0  0  0  0\\n 10 12  1  0  0  0  0\\n 10  9  1  0  0  0  0\\n 11 10  1  0  0  0  0\\n 13 15  1  0  0  0  0\\n 13 10  1  0  0  0  0\\n 14 13  1  0  0  0  0\\n 16 19  1  0  0  0  0\\n 16 13  1  0  0  0  0\\n 17 16  1  0  0  0  0\\n 18 16  1  0  0  0  0\\n 19 51  1  0  0  0  0\\n 19 20  1  0  0  0  0\\n 20 21  2  0  0  0  0\\n 20 22  1  0  0  0  0\\n 22 43  2  0  0  0  0\\n 23 24  2  0  0  0  0\\n 23 22  1  0  0  0  0\\n 24 47  1  0  0  0  0\\n 25 26  2  0  0  0  0\\n 25 24  1  0  0  0  0\\n 27 25  1  0  0  0  0\\n 28 27  1  0  0  0  0\\n 28 31  1  0  0  0  0\\n 29 28  1  0  0  0  0\\n 30 28  1  0  0  0  0\\n 31 34  1  0  0  0  0\\n 31 32  1  0  0  0  0\\n 33 31  1  0  0  0  0\\n 34 35  1  0  0  0  0\\n 34  1  1  0  0  0  0\\n 36 34  1  0  0  0  0\\n 37 38  1  0  0  0  0\\n 37 39  2  0  0  0  0\\n 39 40  1  0  0  0  0\\n 41 42  1  0  0  0  0\\n 41 39  1  0  0  0  0\\n 43 44  1  0  0  0  0\\n 43 45  1  0  0  0  0\\n 45 46  1  0  0  0  0\\n 47 48  1  0  0  0  0\\n 47 45  2  0  0  0  0\\n 49  1  1  0  0  0  0\\n 50  9  1  0  0  0  0\\n 52 27  1  0  0  0  0\\nM  END\\n55.688969666106786\\n\\n\",\"sdf\");\n",
       "\tviewer_14907136532297642.setStyle({\"stick\": {}});\n",
       "\tviewer_14907136532297642.setBackgroundColor(\"0xeeeeee\");\n",
       "\tviewer_14907136532297642.zoomTo();\n",
       "viewer_14907136532297642.render();\n",
       "});\n",
       "</script><script>$(\"#m7_b5\").append($(\"#3dmolviewer_14907136532297642\")); </script>"
      ],
      "text/plain": [
       "<IPython.core.display.HTML object>"
      ]
     },
     "execution_count": 33,
     "metadata": {},
     "output_type": "execute_result"
    }
   ],
   "source": [
    "p7_b_handles[4].insert('m7_b5')"
   ]
  },
  {
   "cell_type": "code",
   "execution_count": 34,
   "metadata": {
    "collapsed": false,
    "deletable": true,
    "editable": true
   },
   "outputs": [
    {
     "data": {
      "text/html": [
       "<div id=\"3dmolviewer_14907136532865272\"  style=\"position: relative; width: 200px; height: 200px\">\n",
       "<script>\n",
       "if(typeof $3Dmolpromise === 'undefined') $3Dmolpromise = $.when($.getScript('http://3dmol.csb.pitt.edu/build/3Dmol.js'))\n",
       "var viewer_14907136532865272 = null;\n",
       "$3Dmolpromise.done(function() {\n",
       "viewer_14907136532865272 = $3Dmol.createViewer($(\"#3dmolviewer_14907136532865272\"),{backgroundColor:\"white\"});\n",
       "\tviewer_14907136532865272.addModel(\"m7_crystal.xyz\\n  1228              3D\\n\\n 52 54  0  0  0  0  0  0  0  0999 V2000\\n   -2.6429    6.0457   10.0675 N   0  0  0  0  0  0  0  0  0  0  0  0\\n   -3.0449    4.8300    9.5431 C   0  0  0  0  0  0  0  0  0  0  0  0\\n   -4.1676    4.5729    9.1218 O   0  0  0  0  0  0  0  0  0  0  0  0\\n   -1.9872    3.7918    9.5392 C   0  0  0  0  0  0  0  0  0  0  0  0\\n   -0.7278    4.2308    9.7740 N   0  0  0  0  0  0  0  0  0  0  0  0\\n    0.2548    3.3013    9.7656 C   0  0  0  0  0  0  0  0  0  0  0  0\\n    1.6346    3.8110    9.9586 C   0  0  0  0  0  0  0  0  0  0  0  0\\n    2.5879    3.0454    9.8629 O   0  0  0  0  0  0  0  0  0  0  0  0\\n    1.7218    5.1711   10.2197 N   0  0  0  0  0  0  0  0  0  0  0  0\\n    2.9836    5.8903   10.1695 C   0  0  0  0  0  0  0  0  0  0  0  0\\n    3.0536    6.3465    9.1758 H   0  0  0  0  0  0  0  0  0  0  0  0\\n    3.8109    5.1784   10.2610 H   0  0  0  0  0  0  0  0  0  0  0  0\\n    3.1038    6.9522   11.2600 C   0  0  0  0  0  0  0  0  0  0  0  0\\n    4.1184    7.3670   11.2044 H   0  0  0  0  0  0  0  0  0  0  0  0\\n    3.0098    6.4788   12.2451 H   0  0  0  0  0  0  0  0  0  0  0  0\\n    2.1063    8.1040   11.1005 C   0  0  0  0  0  0  0  0  0  0  0  0\\n    2.6501    9.0547   11.0630 H   0  0  0  0  0  0  0  0  0  0  0  0\\n    1.5145    8.0253   10.1834 H   0  0  0  0  0  0  0  0  0  0  0  0\\n    1.1748    8.1741   12.2135 N   0  0  0  0  0  0  0  0  0  0  0  0\\n    1.5110    8.7620   13.4242 C   0  0  0  0  0  0  0  0  0  0  0  0\\n    2.5871    9.2972   13.6734 O   0  0  0  0  0  0  0  0  0  0  0  0\\n    0.4528    8.7083   14.4606 C   0  0  0  0  0  0  0  0  0  0  0  0\\n   -0.7231    8.1588   14.0803 N   0  0  0  0  0  0  0  0  0  0  0  0\\n   -1.7005    8.0966   15.0149 C   0  0  0  0  0  0  0  0  0  0  0  0\\n   -2.9720    7.4706   14.5807 C   0  0  0  0  0  0  0  0  0  0  0  0\\n   -3.8444    7.2159   15.4044 O   0  0  0  0  0  0  0  0  0  0  0  0\\n   -3.0486    7.2136   13.2215 N   0  0  0  0  0  0  0  0  0  0  0  0\\n   -4.1075    6.4170   12.6320 C   0  0  0  0  0  0  0  0  0  0  0  0\\n   -4.9464    6.3478   13.3325 H   0  0  0  0  0  0  0  0  0  0  0  0\\n   -3.7113    5.4035   12.5059 H   0  0  0  0  0  0  0  0  0  0  0  0\\n   -4.6046    6.9784   11.3010 C   0  0  0  0  0  0  0  0  0  0  0  0\\n   -5.3744    6.2992   10.9142 H   0  0  0  0  0  0  0  0  0  0  0  0\\n   -5.0998    7.9419   11.4737 H   0  0  0  0  0  0  0  0  0  0  0  0\\n   -3.5285    7.1823   10.2314 C   0  0  0  0  0  0  0  0  0  0  0  0\\n   -4.0062    7.3801    9.2653 H   0  0  0  0  0  0  0  0  0  0  0  0\\n   -2.9001    8.0451   10.4768 H   0  0  0  0  0  0  0  0  0  0  0  0\\n   -2.3112    2.4626    9.3031 C   0  0  0  0  0  0  0  0  0  0  0  0\\n   -3.3297    2.1376    9.1200 H   0  0  0  0  0  0  0  0  0  0  0  0\\n   -1.2764    1.5326    9.3178 C   0  0  0  0  0  0  0  0  0  0  0  0\\n   -1.4895    0.4817    9.1439 H   0  0  0  0  0  0  0  0  0  0  0  0\\n    0.0320    1.9472    9.5500 C   0  0  0  0  0  0  0  0  0  0  0  0\\n    0.8360    1.2194    9.5510 H   0  0  0  0  0  0  0  0  0  0  0  0\\n    0.6943    9.2033   15.7361 C   0  0  0  0  0  0  0  0  0  0  0  0\\n    1.6459    9.6405   16.0188 H   0  0  0  0  0  0  0  0  0  0  0  0\\n   -0.3344    9.1234   16.6702 C   0  0  0  0  0  0  0  0  0  0  0  0\\n   -0.1830    9.4992   17.6782 H   0  0  0  0  0  0  0  0  0  0  0  0\\n   -1.5566    8.5614   16.3151 C   0  0  0  0  0  0  0  0  0  0  0  0\\n   -2.3569    8.4999   17.0446 H   0  0  0  0  0  0  0  0  0  0  0  0\\n   -1.6960    6.1384   10.4247 H   0  0  0  0  0  0  0  0  0  0  0  0\\n    0.8693    5.7228   10.1841 H   0  0  0  0  0  0  0  0  0  0  0  0\\n    0.2780    7.7056   12.1172 H   0  0  0  0  0  0  0  0  0  0  0  0\\n   -2.2216    7.3800   12.6553 H   0  0  0  0  0  0  0  0  0  0  0  0\\n  1  2  1  0  0  0  0\\n  2  3  2  0  0  0  0\\n  2  4  1  0  0  0  0\\n  4 37  1  0  0  0  0\\n  5  4  2  0  0  0  0\\n  5  6  1  0  0  0  0\\n  6 41  2  0  0  0  0\\n  7  6  1  0  0  0  0\\n  7  8  2  0  0  0  0\\n  9  7  1  0  0  0  0\\n 10 12  1  0  0  0  0\\n 10  9  1  0  0  0  0\\n 11 10  1  0  0  0  0\\n 13 15  1  0  0  0  0\\n 13 10  1  0  0  0  0\\n 14 13  1  0  0  0  0\\n 16 19  1  0  0  0  0\\n 16 13  1  0  0  0  0\\n 17 16  1  0  0  0  0\\n 18 16  1  0  0  0  0\\n 19 51  1  0  0  0  0\\n 19 20  1  0  0  0  0\\n 20 21  2  0  0  0  0\\n 20 22  1  0  0  0  0\\n 22 43  2  0  0  0  0\\n 23 24  2  0  0  0  0\\n 23 22  1  0  0  0  0\\n 24 47  1  0  0  0  0\\n 25 26  2  0  0  0  0\\n 25 24  1  0  0  0  0\\n 27 25  1  0  0  0  0\\n 28 27  1  0  0  0  0\\n 28 31  1  0  0  0  0\\n 29 28  1  0  0  0  0\\n 30 28  1  0  0  0  0\\n 31 34  1  0  0  0  0\\n 31 32  1  0  0  0  0\\n 33 31  1  0  0  0  0\\n 34 35  1  0  0  0  0\\n 34  1  1  0  0  0  0\\n 36 34  1  0  0  0  0\\n 37 38  1  0  0  0  0\\n 37 39  2  0  0  0  0\\n 39 40  1  0  0  0  0\\n 41 42  1  0  0  0  0\\n 41 39  1  0  0  0  0\\n 43 44  1  0  0  0  0\\n 43 45  1  0  0  0  0\\n 45 46  1  0  0  0  0\\n 47 48  1  0  0  0  0\\n 47 45  2  0  0  0  0\\n 49  1  1  0  0  0  0\\n 50  9  1  0  0  0  0\\n 52 27  1  0  0  0  0\\nM  END\\n57.683849615148524\\n\\n\",\"sdf\");\n",
       "\tviewer_14907136532865272.setStyle({\"stick\": {}});\n",
       "\tviewer_14907136532865272.setBackgroundColor(\"0xeeeeee\");\n",
       "\tviewer_14907136532865272.zoomTo();\n",
       "viewer_14907136532865272.render();\n",
       "});\n",
       "</script><script>$(\"#m7_b6\").append($(\"#3dmolviewer_14907136532865272\")); </script>"
      ],
      "text/plain": [
       "<IPython.core.display.HTML object>"
      ]
     },
     "execution_count": 34,
     "metadata": {},
     "output_type": "execute_result"
    }
   ],
   "source": [
    "p7_b_handles[5].insert('m7_b6')"
   ]
  },
  {
   "cell_type": "code",
   "execution_count": 35,
   "metadata": {
    "collapsed": false,
    "deletable": true,
    "editable": true
   },
   "outputs": [
    {
     "data": {
      "text/html": [
       "<div id=\"3dmolviewer_1490713653515901\"  style=\"position: relative; width: 200px; height: 200px\">\n",
       "<script>\n",
       "if(typeof $3Dmolpromise === 'undefined') $3Dmolpromise = $.when($.getScript('http://3dmol.csb.pitt.edu/build/3Dmol.js'))\n",
       "var viewer_1490713653515901 = null;\n",
       "$3Dmolpromise.done(function() {\n",
       "viewer_1490713653515901 = $3Dmol.createViewer($(\"#3dmolviewer_1490713653515901\"),{backgroundColor:\"white\"});\n",
       "\tviewer_1490713653515901.addModel(\"m7_crystal.xyz\\n  1228              3D\\n\\n 52 54  0  0  0  0  0  0  0  0999 V2000\\n   -2.8492    4.6130   11.4256 N   0  0  0  0  0  0  0  0  0  0  0  0\\n   -3.1418    3.5884   10.5410 C   0  0  0  0  0  0  0  0  0  0  0  0\\n   -4.2201    3.0135   10.4452 O   0  0  0  0  0  0  0  0  0  0  0  0\\n   -2.0049    3.2022    9.6702 C   0  0  0  0  0  0  0  0  0  0  0  0\\n   -0.9189    4.0033    9.7466 N   0  0  0  0  0  0  0  0  0  0  0  0\\n    0.1448    3.6831    8.9758 C   0  0  0  0  0  0  0  0  0  0  0  0\\n    1.3084    4.5965    9.0927 C   0  0  0  0  0  0  0  0  0  0  0  0\\n    2.3671    4.3328    8.5334 O   0  0  0  0  0  0  0  0  0  0  0  0\\n    1.0643    5.7163    9.8704 N   0  0  0  0  0  0  0  0  0  0  0  0\\n    2.0780    6.6941   10.2167 C   0  0  0  0  0  0  0  0  0  0  0  0\\n    1.5517    7.6402   10.3746 H   0  0  0  0  0  0  0  0  0  0  0  0\\n    2.7526    6.8224    9.3630 H   0  0  0  0  0  0  0  0  0  0  0  0\\n    2.8705    6.2563   11.4512 C   0  0  0  0  0  0  0  0  0  0  0  0\\n    3.8373    5.8575   11.1209 H   0  0  0  0  0  0  0  0  0  0  0  0\\n    2.3578    5.4394   11.9754 H   0  0  0  0  0  0  0  0  0  0  0  0\\n    3.1144    7.4010   12.4321 C   0  0  0  0  0  0  0  0  0  0  0  0\\n    3.8655    7.1048   13.1718 H   0  0  0  0  0  0  0  0  0  0  0  0\\n    3.4855    8.2940   11.9169 H   0  0  0  0  0  0  0  0  0  0  0  0\\n    1.8904    7.7672   13.1291 N   0  0  0  0  0  0  0  0  0  0  0  0\\n    1.8709    8.2327   14.4339 C   0  0  0  0  0  0  0  0  0  0  0  0\\n    2.8532    8.3450   15.1601 O   0  0  0  0  0  0  0  0  0  0  0  0\\n    0.5231    8.6038   14.9353 C   0  0  0  0  0  0  0  0  0  0  0  0\\n   -0.5010    8.4527   14.0622 N   0  0  0  0  0  0  0  0  0  0  0  0\\n   -1.7371    8.7858   14.5045 C   0  0  0  0  0  0  0  0  0  0  0  0\\n   -2.8455    8.6069   13.5353 C   0  0  0  0  0  0  0  0  0  0  0  0\\n   -3.9582    9.0619   13.7782 O   0  0  0  0  0  0  0  0  0  0  0  0\\n   -2.5033    7.8938   12.3992 N   0  0  0  0  0  0  0  0  0  0  0  0\\n   -3.4505    7.5532   11.3542 C   0  0  0  0  0  0  0  0  0  0  0  0\\n   -2.8702    7.2368   10.4815 H   0  0  0  0  0  0  0  0  0  0  0  0\\n   -3.9948    8.4633   11.0804 H   0  0  0  0  0  0  0  0  0  0  0  0\\n   -4.4503    6.4678   11.7652 C   0  0  0  0  0  0  0  0  0  0  0  0\\n   -5.1401    6.8702   12.5171 H   0  0  0  0  0  0  0  0  0  0  0  0\\n   -5.0572    6.2097   10.8882 H   0  0  0  0  0  0  0  0  0  0  0  0\\n   -3.8152    5.1996   12.3348 C   0  0  0  0  0  0  0  0  0  0  0  0\\n   -3.2908    5.4112   13.2722 H   0  0  0  0  0  0  0  0  0  0  0  0\\n   -4.5990    4.4666   12.5507 H   0  0  0  0  0  0  0  0  0  0  0  0\\n   -2.0799    2.0899    8.8451 C   0  0  0  0  0  0  0  0  0  0  0  0\\n   -2.9639    1.4630    8.7959 H   0  0  0  0  0  0  0  0  0  0  0  0\\n   -0.9634    1.7844    8.0700 C   0  0  0  0  0  0  0  0  0  0  0  0\\n   -0.9811    0.9171    7.4154 H   0  0  0  0  0  0  0  0  0  0  0  0\\n    0.1761    2.5843    8.1304 C   0  0  0  0  0  0  0  0  0  0  0  0\\n    1.0424    2.3413    7.5259 H   0  0  0  0  0  0  0  0  0  0  0  0\\n    0.3638    9.0659   16.2358 C   0  0  0  0  0  0  0  0  0  0  0  0\\n    1.1987    9.1733   16.9200 H   0  0  0  0  0  0  0  0  0  0  0  0\\n   -0.9217    9.3950   16.6555 C   0  0  0  0  0  0  0  0  0  0  0  0\\n   -1.0858    9.7538   17.6675 H   0  0  0  0  0  0  0  0  0  0  0  0\\n   -1.9972    9.2611   15.7829 C   0  0  0  0  0  0  0  0  0  0  0  0\\n   -2.9981    9.5131   16.1149 H   0  0  0  0  0  0  0  0  0  0  0  0\\n   -1.9242    5.0334   11.4002 H   0  0  0  0  0  0  0  0  0  0  0  0\\n    0.1601    5.8078   10.3260 H   0  0  0  0  0  0  0  0  0  0  0  0\\n    1.0333    7.8138   12.5863 H   0  0  0  0  0  0  0  0  0  0  0  0\\n   -1.5620    7.5213   12.3143 H   0  0  0  0  0  0  0  0  0  0  0  0\\n  1  2  1  0  0  0  0\\n  2  3  2  0  0  0  0\\n  2  4  1  0  0  0  0\\n  4 37  1  0  0  0  0\\n  5  4  2  0  0  0  0\\n  5  6  1  0  0  0  0\\n  6 41  2  0  0  0  0\\n  7  6  1  0  0  0  0\\n  7  8  2  0  0  0  0\\n  9  7  1  0  0  0  0\\n 10 12  1  0  0  0  0\\n 10  9  1  0  0  0  0\\n 11 10  1  0  0  0  0\\n 13 15  1  0  0  0  0\\n 13 10  1  0  0  0  0\\n 14 13  1  0  0  0  0\\n 16 19  1  0  0  0  0\\n 16 13  1  0  0  0  0\\n 17 16  1  0  0  0  0\\n 18 16  1  0  0  0  0\\n 19 51  1  0  0  0  0\\n 19 20  1  0  0  0  0\\n 20 21  2  0  0  0  0\\n 20 22  1  0  0  0  0\\n 22 43  2  0  0  0  0\\n 23 24  2  0  0  0  0\\n 23 22  1  0  0  0  0\\n 24 47  1  0  0  0  0\\n 25 26  2  0  0  0  0\\n 25 24  1  0  0  0  0\\n 27 25  1  0  0  0  0\\n 28 27  1  0  0  0  0\\n 28 31  1  0  0  0  0\\n 29 28  1  0  0  0  0\\n 30 28  1  0  0  0  0\\n 31 34  1  0  0  0  0\\n 31 32  1  0  0  0  0\\n 33 31  1  0  0  0  0\\n 34 35  1  0  0  0  0\\n 34  1  1  0  0  0  0\\n 36 34  1  0  0  0  0\\n 37 38  1  0  0  0  0\\n 37 39  2  0  0  0  0\\n 39 40  1  0  0  0  0\\n 41 42  1  0  0  0  0\\n 41 39  1  0  0  0  0\\n 43 44  1  0  0  0  0\\n 43 45  1  0  0  0  0\\n 45 46  1  0  0  0  0\\n 47 48  1  0  0  0  0\\n 47 45  2  0  0  0  0\\n 49  1  1  0  0  0  0\\n 50  9  1  0  0  0  0\\n 52 27  1  0  0  0  0\\nM  END\\n56.106820348550549\\n\\n\",\"sdf\");\n",
       "\tviewer_1490713653515901.setStyle({\"stick\": {}});\n",
       "\tviewer_1490713653515901.setBackgroundColor(\"0xeeeeee\");\n",
       "\tviewer_1490713653515901.zoomTo();\n",
       "viewer_1490713653515901.render();\n",
       "});\n",
       "</script><script>$(\"#m7_b7\").append($(\"#3dmolviewer_1490713653515901\")); </script>"
      ],
      "text/plain": [
       "<IPython.core.display.HTML object>"
      ]
     },
     "execution_count": 35,
     "metadata": {},
     "output_type": "execute_result"
    }
   ],
   "source": [
    "p7_b_handles[6].insert('m7_b7')"
   ]
  },
  {
   "cell_type": "code",
   "execution_count": 36,
   "metadata": {
    "collapsed": false,
    "deletable": true,
    "editable": true
   },
   "outputs": [
    {
     "data": {
      "text/html": [
       "<div id=\"3dmolviewer_14907136535534737\"  style=\"position: relative; width: 200px; height: 200px\">\n",
       "<script>\n",
       "if(typeof $3Dmolpromise === 'undefined') $3Dmolpromise = $.when($.getScript('http://3dmol.csb.pitt.edu/build/3Dmol.js'))\n",
       "var viewer_14907136535534737 = null;\n",
       "$3Dmolpromise.done(function() {\n",
       "viewer_14907136535534737 = $3Dmol.createViewer($(\"#3dmolviewer_14907136535534737\"),{backgroundColor:\"white\"});\n",
       "\tviewer_14907136535534737.addModel(\"m7_crystal.xyz\\n  1228              3D\\n\\n 52 54  0  0  0  0  0  0  0  0999 V2000\\n   -2.9803    5.6283   10.4690 N   0  0  0  0  0  0  0  0  0  0  0  0\\n   -3.2053    4.3862    9.9013 C   0  0  0  0  0  0  0  0  0  0  0  0\\n   -4.3056    3.9036    9.6579 O   0  0  0  0  0  0  0  0  0  0  0  0\\n   -1.9649    3.6343    9.5839 C   0  0  0  0  0  0  0  0  0  0  0  0\\n   -0.8077    4.3106    9.7685 N   0  0  0  0  0  0  0  0  0  0  0  0\\n    0.3424    3.6662    9.4627 C   0  0  0  0  0  0  0  0  0  0  0  0\\n    1.5882    4.4509    9.6513 C   0  0  0  0  0  0  0  0  0  0  0  0\\n    2.6738    3.9819    9.3297 O   0  0  0  0  0  0  0  0  0  0  0  0\\n    1.3862    5.7051   10.2006 N   0  0  0  0  0  0  0  0  0  0  0  0\\n    2.4481    6.6563   10.4604 C   0  0  0  0  0  0  0  0  0  0  0  0\\n    1.9727    7.6299   10.6216 H   0  0  0  0  0  0  0  0  0  0  0  0\\n    3.0672    6.7323    9.5598 H   0  0  0  0  0  0  0  0  0  0  0  0\\n    3.3294    6.2886   11.6550 C   0  0  0  0  0  0  0  0  0  0  0  0\\n    3.9820    7.1435   11.8706 H   0  0  0  0  0  0  0  0  0  0  0  0\\n    3.9915    5.4590   11.3785 H   0  0  0  0  0  0  0  0  0  0  0  0\\n    2.5750    5.8889   12.9232 C   0  0  0  0  0  0  0  0  0  0  0  0\\n    2.1069    4.9065   12.7979 H   0  0  0  0  0  0  0  0  0  0  0  0\\n    3.2806    5.8156   13.7578 H   0  0  0  0  0  0  0  0  0  0  0  0\\n    1.5247    6.8153   13.2975 N   0  0  0  0  0  0  0  0  0  0  0  0\\n    1.7531    8.0390   13.9021 C   0  0  0  0  0  0  0  0  0  0  0  0\\n    2.8555    8.5144   14.1515 O   0  0  0  0  0  0  0  0  0  0  0  0\\n    0.5168    8.7773   14.2613 C   0  0  0  0  0  0  0  0  0  0  0  0\\n   -0.6424    8.1108   14.0538 N   0  0  0  0  0  0  0  0  0  0  0  0\\n   -1.7888    8.7382   14.4048 C   0  0  0  0  0  0  0  0  0  0  0  0\\n   -3.0363    7.9623   14.1925 C   0  0  0  0  0  0  0  0  0  0  0  0\\n   -4.1176    8.4095   14.5576 O   0  0  0  0  0  0  0  0  0  0  0  0\\n   -2.8409    6.7396   13.5739 N   0  0  0  0  0  0  0  0  0  0  0  0\\n   -3.9011    5.7895   13.3018 C   0  0  0  0  0  0  0  0  0  0  0  0\\n   -4.5232    5.7018   14.2000 H   0  0  0  0  0  0  0  0  0  0  0  0\\n   -3.4227    4.8188   13.1323 H   0  0  0  0  0  0  0  0  0  0  0  0\\n   -4.7826    6.1680   12.1113 C   0  0  0  0  0  0  0  0  0  0  0  0\\n   -5.4483    5.3214   11.9008 H   0  0  0  0  0  0  0  0  0  0  0  0\\n   -5.4310    7.0078   12.3901 H   0  0  0  0  0  0  0  0  0  0  0  0\\n   -4.0316    6.5548   10.8371 C   0  0  0  0  0  0  0  0  0  0  0  0\\n   -4.7387    6.6192   10.0028 H   0  0  0  0  0  0  0  0  0  0  0  0\\n   -3.5632    7.5379   10.9537 H   0  0  0  0  0  0  0  0  0  0  0  0\\n   -2.0242    2.3311    9.1121 C   0  0  0  0  0  0  0  0  0  0  0  0\\n   -2.9632    1.8069    8.9717 H   0  0  0  0  0  0  0  0  0  0  0  0\\n   -0.8209    1.6952    8.8143 C   0  0  0  0  0  0  0  0  0  0  0  0\\n   -0.8255    0.6748    8.4421 H   0  0  0  0  0  0  0  0  0  0  0  0\\n    0.3886    2.3645    8.9855 C   0  0  0  0  0  0  0  0  0  0  0  0\\n    1.3221    1.8667    8.7467 H   0  0  0  0  0  0  0  0  0  0  0  0\\n    0.5817   10.0549   14.7982 C   0  0  0  0  0  0  0  0  0  0  0  0\\n    1.5222   10.5711   14.9566 H   0  0  0  0  0  0  0  0  0  0  0  0\\n   -0.6178   10.6735   15.1428 C   0  0  0  0  0  0  0  0  0  0  0  0\\n   -0.6087   11.6727   15.5686 H   0  0  0  0  0  0  0  0  0  0  0  0\\n   -1.8290   10.0130   14.9510 C   0  0  0  0  0  0  0  0  0  0  0  0\\n   -2.7591   10.4953   15.2302 H   0  0  0  0  0  0  0  0  0  0  0  0\\n   -2.0239    5.9185   10.6512 H   0  0  0  0  0  0  0  0  0  0  0  0\\n    0.4428    5.9845   10.4536 H   0  0  0  0  0  0  0  0  0  0  0  0\\n    0.5669    6.5314   13.1108 H   0  0  0  0  0  0  0  0  0  0  0  0\\n   -1.9013    6.4791   13.2881 H   0  0  0  0  0  0  0  0  0  0  0  0\\n  1  2  1  0  0  0  0\\n  2  3  2  0  0  0  0\\n  2  4  1  0  0  0  0\\n  4 37  1  0  0  0  0\\n  5  4  2  0  0  0  0\\n  5  6  1  0  0  0  0\\n  6 41  2  0  0  0  0\\n  7  6  1  0  0  0  0\\n  7  8  2  0  0  0  0\\n  9  7  1  0  0  0  0\\n 10 12  1  0  0  0  0\\n 10  9  1  0  0  0  0\\n 11 10  1  0  0  0  0\\n 13 15  1  0  0  0  0\\n 13 10  1  0  0  0  0\\n 14 13  1  0  0  0  0\\n 16 19  1  0  0  0  0\\n 16 13  1  0  0  0  0\\n 17 16  1  0  0  0  0\\n 18 16  1  0  0  0  0\\n 19 51  1  0  0  0  0\\n 19 20  1  0  0  0  0\\n 20 21  2  0  0  0  0\\n 20 22  1  0  0  0  0\\n 22 43  2  0  0  0  0\\n 23 24  2  0  0  0  0\\n 23 22  1  0  0  0  0\\n 24 47  1  0  0  0  0\\n 25 26  2  0  0  0  0\\n 25 24  1  0  0  0  0\\n 27 25  1  0  0  0  0\\n 28 27  1  0  0  0  0\\n 28 31  1  0  0  0  0\\n 29 28  1  0  0  0  0\\n 30 28  1  0  0  0  0\\n 31 34  1  0  0  0  0\\n 31 32  1  0  0  0  0\\n 33 31  1  0  0  0  0\\n 34 35  1  0  0  0  0\\n 34  1  1  0  0  0  0\\n 36 34  1  0  0  0  0\\n 37 38  1  0  0  0  0\\n 37 39  2  0  0  0  0\\n 39 40  1  0  0  0  0\\n 41 42  1  0  0  0  0\\n 41 39  1  0  0  0  0\\n 43 44  1  0  0  0  0\\n 43 45  1  0  0  0  0\\n 45 46  1  0  0  0  0\\n 47 48  1  0  0  0  0\\n 47 45  2  0  0  0  0\\n 49  1  1  0  0  0  0\\n 50  9  1  0  0  0  0\\n 52 27  1  0  0  0  0\\nM  END\\n53.693430704453036\\n\\n\",\"sdf\");\n",
       "\tviewer_14907136535534737.setStyle({\"stick\": {}});\n",
       "\tviewer_14907136535534737.setBackgroundColor(\"0xeeeeee\");\n",
       "\tviewer_14907136535534737.zoomTo();\n",
       "viewer_14907136535534737.render();\n",
       "});\n",
       "</script><script>$(\"#m7_b8\").append($(\"#3dmolviewer_14907136535534737\")); </script>"
      ],
      "text/plain": [
       "<IPython.core.display.HTML object>"
      ]
     },
     "execution_count": 36,
     "metadata": {},
     "output_type": "execute_result"
    }
   ],
   "source": [
    "p7_b_handles[7].insert('m7_b8')"
   ]
  },
  {
   "cell_type": "code",
   "execution_count": 37,
   "metadata": {
    "collapsed": false,
    "deletable": true,
    "editable": true
   },
   "outputs": [
    {
     "data": {
      "text/html": [
       "<div id=\"3dmolviewer_14907136535909085\"  style=\"position: relative; width: 200px; height: 200px\">\n",
       "<script>\n",
       "if(typeof $3Dmolpromise === 'undefined') $3Dmolpromise = $.when($.getScript('http://3dmol.csb.pitt.edu/build/3Dmol.js'))\n",
       "var viewer_14907136535909085 = null;\n",
       "$3Dmolpromise.done(function() {\n",
       "viewer_14907136535909085 = $3Dmol.createViewer($(\"#3dmolviewer_14907136535909085\"),{backgroundColor:\"white\"});\n",
       "\tviewer_14907136535909085.addModel(\"m7_crystal.xyz\\n  1228              3D\\n\\n 52 54  0  0  0  0  0  0  0  0999 V2000\\n   -3.3591    4.6935   10.4836 N   0  0  0  0  0  0  0  0  0  0  0  0\\n   -3.4120    3.4668    9.8465 C   0  0  0  0  0  0  0  0  0  0  0  0\\n   -4.4031    2.7513    9.7588 O   0  0  0  0  0  0  0  0  0  0  0  0\\n   -2.1180    3.0432    9.2532 C   0  0  0  0  0  0  0  0  0  0  0  0\\n   -1.0779    3.8841    9.4612 N   0  0  0  0  0  0  0  0  0  0  0  0\\n    0.1219    3.5244    8.9496 C   0  0  0  0  0  0  0  0  0  0  0  0\\n    1.2412    4.4630    9.2142 C   0  0  0  0  0  0  0  0  0  0  0  0\\n    2.3629    4.2308    8.7770 O   0  0  0  0  0  0  0  0  0  0  0  0\\n    0.8901    5.5633    9.9778 N   0  0  0  0  0  0  0  0  0  0  0  0\\n    1.8382    6.5641   10.4351 C   0  0  0  0  0  0  0  0  0  0  0  0\\n    1.2534    7.4643   10.6469 H   0  0  0  0  0  0  0  0  0  0  0  0\\n    2.5303    6.7930    9.6172 H   0  0  0  0  0  0  0  0  0  0  0  0\\n    2.6177    6.0820   11.6624 C   0  0  0  0  0  0  0  0  0  0  0  0\\n    3.5092    5.5423   11.3203 H   0  0  0  0  0  0  0  0  0  0  0  0\\n    2.0187    5.3638   12.2370 H   0  0  0  0  0  0  0  0  0  0  0  0\\n    3.0402    7.2273   12.5808 C   0  0  0  0  0  0  0  0  0  0  0  0\\n    3.7902    6.8792   13.2989 H   0  0  0  0  0  0  0  0  0  0  0  0\\n    3.4781    8.0568   12.0150 H   0  0  0  0  0  0  0  0  0  0  0  0\\n    1.9001    7.7435   13.3215 N   0  0  0  0  0  0  0  0  0  0  0  0\\n    2.0010    8.3901   14.5418 C   0  0  0  0  0  0  0  0  0  0  0  0\\n    3.0385    8.5751   15.1683 O   0  0  0  0  0  0  0  0  0  0  0  0\\n    0.7009    8.8636   15.0811 C   0  0  0  0  0  0  0  0  0  0  0  0\\n   -0.3793    8.6013   14.3093 N   0  0  0  0  0  0  0  0  0  0  0  0\\n   -1.5850    9.0059   14.7704 C   0  0  0  0  0  0  0  0  0  0  0  0\\n   -2.7443    8.6865   13.8999 C   0  0  0  0  0  0  0  0  0  0  0  0\\n   -3.8799    9.0052   14.2328 O   0  0  0  0  0  0  0  0  0  0  0  0\\n   -2.4068    8.0118   12.7393 N   0  0  0  0  0  0  0  0  0  0  0  0\\n   -3.3773    7.5124   11.7835 C   0  0  0  0  0  0  0  0  0  0  0  0\\n   -2.8316    7.3636   10.8472 H   0  0  0  0  0  0  0  0  0  0  0  0\\n   -4.1359    8.2840   11.6142 H   0  0  0  0  0  0  0  0  0  0  0  0\\n   -4.0371    6.2225   12.2781 C   0  0  0  0  0  0  0  0  0  0  0  0\\n   -3.3426    5.6621   12.9174 H   0  0  0  0  0  0  0  0  0  0  0  0\\n   -4.8978    6.4868   12.9045 H   0  0  0  0  0  0  0  0  0  0  0  0\\n   -4.4980    5.3213   11.1344 C   0  0  0  0  0  0  0  0  0  0  0  0\\n   -5.1565    4.5342   11.5165 H   0  0  0  0  0  0  0  0  0  0  0  0\\n   -5.0512    5.8850   10.3757 H   0  0  0  0  0  0  0  0  0  0  0  0\\n   -2.0113    1.8497    8.5548 C   0  0  0  0  0  0  0  0  0  0  0  0\\n   -2.8564    1.1864    8.4064 H   0  0  0  0  0  0  0  0  0  0  0  0\\n   -0.7625    1.5134    8.0366 C   0  0  0  0  0  0  0  0  0  0  0  0\\n   -0.6374    0.5859    7.4849 H   0  0  0  0  0  0  0  0  0  0  0  0\\n    0.3292    2.3570    8.2290 C   0  0  0  0  0  0  0  0  0  0  0  0\\n    1.2997    2.0888    7.8258 H   0  0  0  0  0  0  0  0  0  0  0  0\\n    0.6286    9.5157   16.3038 C   0  0  0  0  0  0  0  0  0  0  0  0\\n    1.5060    9.7108   16.9103 H   0  0  0  0  0  0  0  0  0  0  0  0\\n   -0.6299    9.9174   16.7496 C   0  0  0  0  0  0  0  0  0  0  0  0\\n   -0.7293   10.4272   17.7037 H   0  0  0  0  0  0  0  0  0  0  0  0\\n   -1.7623    9.6656   15.9779 C   0  0  0  0  0  0  0  0  0  0  0  0\\n   -2.7388    9.9803   16.3296 H   0  0  0  0  0  0  0  0  0  0  0  0\\n   -2.5094    5.2423   10.3909 H   0  0  0  0  0  0  0  0  0  0  0  0\\n   -0.0602    5.6306   10.3318 H   0  0  0  0  0  0  0  0  0  0  0  0\\n    0.9976    7.7414   12.8547 H   0  0  0  0  0  0  0  0  0  0  0  0\\n   -1.4365    7.7492   12.5909 H   0  0  0  0  0  0  0  0  0  0  0  0\\n  1  2  1  0  0  0  0\\n  2  3  2  0  0  0  0\\n  2  4  1  0  0  0  0\\n  4 37  1  0  0  0  0\\n  5  4  2  0  0  0  0\\n  5  6  1  0  0  0  0\\n  6 41  2  0  0  0  0\\n  7  6  1  0  0  0  0\\n  7  8  2  0  0  0  0\\n  9  7  1  0  0  0  0\\n 10 12  1  0  0  0  0\\n 10  9  1  0  0  0  0\\n 11 10  1  0  0  0  0\\n 13 15  1  0  0  0  0\\n 13 10  1  0  0  0  0\\n 14 13  1  0  0  0  0\\n 16 19  1  0  0  0  0\\n 16 13  1  0  0  0  0\\n 17 16  1  0  0  0  0\\n 18 16  1  0  0  0  0\\n 19 51  1  0  0  0  0\\n 19 20  1  0  0  0  0\\n 20 21  2  0  0  0  0\\n 20 22  1  0  0  0  0\\n 22 43  2  0  0  0  0\\n 23 24  2  0  0  0  0\\n 23 22  1  0  0  0  0\\n 24 47  1  0  0  0  0\\n 25 26  2  0  0  0  0\\n 25 24  1  0  0  0  0\\n 27 25  1  0  0  0  0\\n 28 27  1  0  0  0  0\\n 28 31  1  0  0  0  0\\n 29 28  1  0  0  0  0\\n 30 28  1  0  0  0  0\\n 31 34  1  0  0  0  0\\n 31 32  1  0  0  0  0\\n 33 31  1  0  0  0  0\\n 34 35  1  0  0  0  0\\n 34  1  1  0  0  0  0\\n 36 34  1  0  0  0  0\\n 37 38  1  0  0  0  0\\n 37 39  2  0  0  0  0\\n 39 40  1  0  0  0  0\\n 41 42  1  0  0  0  0\\n 41 39  1  0  0  0  0\\n 43 44  1  0  0  0  0\\n 43 45  1  0  0  0  0\\n 45 46  1  0  0  0  0\\n 47 48  1  0  0  0  0\\n 47 45  2  0  0  0  0\\n 49  1  1  0  0  0  0\\n 50  9  1  0  0  0  0\\n 52 27  1  0  0  0  0\\nM  END\\n57.536989335809793\\n\\n\",\"sdf\");\n",
       "\tviewer_14907136535909085.setStyle({\"stick\": {}});\n",
       "\tviewer_14907136535909085.setBackgroundColor(\"0xeeeeee\");\n",
       "\tviewer_14907136535909085.zoomTo();\n",
       "viewer_14907136535909085.render();\n",
       "});\n",
       "</script><script>$(\"#m7_b9\").append($(\"#3dmolviewer_14907136535909085\")); </script>"
      ],
      "text/plain": [
       "<IPython.core.display.HTML object>"
      ]
     },
     "execution_count": 37,
     "metadata": {},
     "output_type": "execute_result"
    }
   ],
   "source": [
    "p7_b_handles[8].insert('m7_b9')"
   ]
  },
  {
   "cell_type": "code",
   "execution_count": 38,
   "metadata": {
    "collapsed": false,
    "deletable": true,
    "editable": true
   },
   "outputs": [
    {
     "data": {
      "text/html": [
       "<div id=\"3dmolviewer_1490713653628417\"  style=\"position: relative; width: 200px; height: 200px\">\n",
       "<script>\n",
       "if(typeof $3Dmolpromise === 'undefined') $3Dmolpromise = $.when($.getScript('http://3dmol.csb.pitt.edu/build/3Dmol.js'))\n",
       "var viewer_1490713653628417 = null;\n",
       "$3Dmolpromise.done(function() {\n",
       "viewer_1490713653628417 = $3Dmol.createViewer($(\"#3dmolviewer_1490713653628417\"),{backgroundColor:\"white\"});\n",
       "\tviewer_1490713653628417.addModel(\"m7_crystal.xyz\\n  1228              3D\\n\\n 52 54  0  0  0  0  0  0  0  0999 V2000\\n   -2.7451    4.5671   11.5975 N   0  0  0  0  0  0  0  0  0  0  0  0\\n   -3.0233    3.6469   10.6017 C   0  0  0  0  0  0  0  0  0  0  0  0\\n   -4.0896    3.0595   10.4536 O   0  0  0  0  0  0  0  0  0  0  0  0\\n   -1.8921    3.3966    9.6747 C   0  0  0  0  0  0  0  0  0  0  0  0\\n   -0.8117    4.1939    9.8405 N   0  0  0  0  0  0  0  0  0  0  0  0\\n    0.2395    3.9921    9.0129 C   0  0  0  0  0  0  0  0  0  0  0  0\\n    1.4005    4.8932    9.2209 C   0  0  0  0  0  0  0  0  0  0  0  0\\n    2.4351    4.7333    8.5829 O   0  0  0  0  0  0  0  0  0  0  0  0\\n    1.1843    5.8805   10.1662 N   0  0  0  0  0  0  0  0  0  0  0  0\\n    2.1883    6.8441   10.5741 C   0  0  0  0  0  0  0  0  0  0  0  0\\n    1.6547    7.7387   10.9123 H   0  0  0  0  0  0  0  0  0  0  0  0\\n    2.7864    7.1219    9.6995 H   0  0  0  0  0  0  0  0  0  0  0  0\\n    3.1101    6.3160   11.6751 C   0  0  0  0  0  0  0  0  0  0  0  0\\n    3.7547    7.1399   12.0059 H   0  0  0  0  0  0  0  0  0  0  0  0\\n    3.7715    5.5455   11.2606 H   0  0  0  0  0  0  0  0  0  0  0  0\\n    2.3842    5.7204   12.8829 C   0  0  0  0  0  0  0  0  0  0  0  0\\n    3.1121    5.4839   13.6671 H   0  0  0  0  0  0  0  0  0  0  0  0\\n    1.8745    4.7908   12.6098 H   0  0  0  0  0  0  0  0  0  0  0  0\\n    1.3803    6.6127   13.4294 N   0  0  0  0  0  0  0  0  0  0  0  0\\n    1.6559    7.6000   14.3595 C   0  0  0  0  0  0  0  0  0  0  0  0\\n    2.7493    7.8059   14.8745 O   0  0  0  0  0  0  0  0  0  0  0  0\\n    0.4856    8.4388   14.7192 C   0  0  0  0  0  0  0  0  0  0  0  0\\n   -0.6383    8.2146   14.0003 N   0  0  0  0  0  0  0  0  0  0  0  0\\n   -1.7261    8.9595   14.3047 C   0  0  0  0  0  0  0  0  0  0  0  0\\n   -2.9351    8.6927   13.4865 C   0  0  0  0  0  0  0  0  0  0  0  0\\n   -4.0022    9.2320   13.7582 O   0  0  0  0  0  0  0  0  0  0  0  0\\n   -2.7229    7.8147   12.4379 N   0  0  0  0  0  0  0  0  0  0  0  0\\n   -3.7631    7.3685   11.5319 C   0  0  0  0  0  0  0  0  0  0  0  0\\n   -3.2735    7.0997   10.5898 H   0  0  0  0  0  0  0  0  0  0  0  0\\n   -4.4385    8.2074   11.3307 H   0  0  0  0  0  0  0  0  0  0  0  0\\n   -4.5658    6.1855   12.0781 C   0  0  0  0  0  0  0  0  0  0  0  0\\n   -5.1984    6.5246   12.9070 H   0  0  0  0  0  0  0  0  0  0  0  0\\n   -5.2422    5.8377   11.2873 H   0  0  0  0  0  0  0  0  0  0  0  0\\n   -3.7180    5.0130   12.5755 C   0  0  0  0  0  0  0  0  0  0  0  0\\n   -3.1637    5.2893   13.4787 H   0  0  0  0  0  0  0  0  0  0  0  0\\n   -4.3726    4.1722   12.8292 H   0  0  0  0  0  0  0  0  0  0  0  0\\n   -1.9709    2.4021    8.7106 C   0  0  0  0  0  0  0  0  0  0  0  0\\n   -2.8484    1.7759    8.5952 H   0  0  0  0  0  0  0  0  0  0  0  0\\n   -0.8689    2.2182    7.8788 C   0  0  0  0  0  0  0  0  0  0  0  0\\n   -0.8918    1.4468    7.1143 H   0  0  0  0  0  0  0  0  0  0  0  0\\n    0.2617    3.0197    8.0235 C   0  0  0  0  0  0  0  0  0  0  0  0\\n    1.1159    2.8746    7.3715 H   0  0  0  0  0  0  0  0  0  0  0  0\\n    0.5736    9.3822   15.7323 C   0  0  0  0  0  0  0  0  0  0  0  0\\n    1.4868    9.5464   16.2944 H   0  0  0  0  0  0  0  0  0  0  0  0\\n   -0.5663   10.1276   16.0229 C   0  0  0  0  0  0  0  0  0  0  0  0\\n   -0.5376   10.8738   16.8121 H   0  0  0  0  0  0  0  0  0  0  0  0\\n   -1.7424    9.9204   15.3059 C   0  0  0  0  0  0  0  0  0  0  0  0\\n   -2.6258   10.5062   15.5338 H   0  0  0  0  0  0  0  0  0  0  0  0\\n   -1.8371    5.0227   11.6059 H   0  0  0  0  0  0  0  0  0  0  0  0\\n    0.2997    5.8951   10.6661 H   0  0  0  0  0  0  0  0  0  0  0  0\\n    0.4454    6.5560   13.0349 H   0  0  0  0  0  0  0  0  0  0  0  0\\n   -1.8045    7.3941   12.3294 H   0  0  0  0  0  0  0  0  0  0  0  0\\n  1  2  1  0  0  0  0\\n  2  3  2  0  0  0  0\\n  2  4  1  0  0  0  0\\n  4 37  1  0  0  0  0\\n  5  4  2  0  0  0  0\\n  5  6  1  0  0  0  0\\n  6 41  2  0  0  0  0\\n  7  6  1  0  0  0  0\\n  7  8  2  0  0  0  0\\n  9  7  1  0  0  0  0\\n 10 12  1  0  0  0  0\\n 10  9  1  0  0  0  0\\n 11 10  1  0  0  0  0\\n 13 15  1  0  0  0  0\\n 13 10  1  0  0  0  0\\n 14 13  1  0  0  0  0\\n 16 19  1  0  0  0  0\\n 16 13  1  0  0  0  0\\n 17 16  1  0  0  0  0\\n 18 16  1  0  0  0  0\\n 19 51  1  0  0  0  0\\n 19 20  1  0  0  0  0\\n 20 21  2  0  0  0  0\\n 20 22  1  0  0  0  0\\n 22 43  2  0  0  0  0\\n 23 24  2  0  0  0  0\\n 23 22  1  0  0  0  0\\n 24 47  1  0  0  0  0\\n 25 26  2  0  0  0  0\\n 25 24  1  0  0  0  0\\n 27 25  1  0  0  0  0\\n 28 27  1  0  0  0  0\\n 28 31  1  0  0  0  0\\n 29 28  1  0  0  0  0\\n 30 28  1  0  0  0  0\\n 31 34  1  0  0  0  0\\n 31 32  1  0  0  0  0\\n 33 31  1  0  0  0  0\\n 34 35  1  0  0  0  0\\n 34  1  1  0  0  0  0\\n 36 34  1  0  0  0  0\\n 37 38  1  0  0  0  0\\n 37 39  2  0  0  0  0\\n 39 40  1  0  0  0  0\\n 41 42  1  0  0  0  0\\n 41 39  1  0  0  0  0\\n 43 44  1  0  0  0  0\\n 43 45  1  0  0  0  0\\n 45 46  1  0  0  0  0\\n 47 48  1  0  0  0  0\\n 47 45  2  0  0  0  0\\n 49  1  1  0  0  0  0\\n 50  9  1  0  0  0  0\\n 52 27  1  0  0  0  0\\nM  END\\n52.100670665409737\\n\\n\",\"sdf\");\n",
       "\tviewer_1490713653628417.setStyle({\"stick\": {}});\n",
       "\tviewer_1490713653628417.setBackgroundColor(\"0xeeeeee\");\n",
       "\tviewer_1490713653628417.zoomTo();\n",
       "viewer_1490713653628417.render();\n",
       "});\n",
       "</script><script>$(\"#m7_b10\").append($(\"#3dmolviewer_1490713653628417\")); </script>"
      ],
      "text/plain": [
       "<IPython.core.display.HTML object>"
      ]
     },
     "execution_count": 38,
     "metadata": {},
     "output_type": "execute_result"
    }
   ],
   "source": [
    "p7_b_handles[9].insert('m7_b10')"
   ]
  },
  {
   "cell_type": "markdown",
   "metadata": {
    "deletable": true,
    "editable": true
   },
   "source": [
    "We can now align all these structures against the crystal structure:"
   ]
  },
  {
   "cell_type": "code",
   "execution_count": 39,
   "metadata": {
    "collapsed": true,
    "deletable": true,
    "editable": true
   },
   "outputs": [],
   "source": [
    "# write conformers as a list\n",
    "allmol_m7_balloon = []\n",
    "suppl_m7_balloon = Chem.SDMolSupplier('/home/gosia/work/work_on_gitlab/icho/calcs/m7/balloon/m7_crystal_out.sdf')\n",
    "\n",
    "# add crystal structure to the list:\n",
    "allmol_m7_balloon.append(m7_crystal)\n",
    "for mol in suppl_m7_balloon:\n",
    "    allmol_m7_balloon.append(mol)"
   ]
  },
  {
   "cell_type": "code",
   "execution_count": 40,
   "metadata": {
    "collapsed": true,
    "deletable": true,
    "editable": true
   },
   "outputs": [],
   "source": [
    "# align:\n",
    "for mol in allmol_m7_balloon:\n",
    "    AllChem.AlignMolConformers(mol,atomIds=core_m7)"
   ]
  },
  {
   "cell_type": "code",
   "execution_count": 41,
   "metadata": {
    "collapsed": false,
    "deletable": true,
    "editable": true
   },
   "outputs": [
    {
     "data": {
      "text/html": [
       "<div id=\"3dmolviewer_14907136538421168\"  style=\"position: relative; width: 400px; height: 400px\">\n",
       "<script>\n",
       "if(typeof $3Dmolpromise === 'undefined') $3Dmolpromise = $.when($.getScript('http://3dmol.csb.pitt.edu/build/3Dmol.js'))\n",
       "var viewer_14907136538421168 = null;\n",
       "$3Dmolpromise.done(function() {\n",
       "viewer_14907136538421168 = $3Dmol.createViewer($(\"#3dmolviewer_14907136538421168\"),{backgroundColor:\"white\"});\n",
       "\tviewer_14907136538421168.addModel(\"m7_crystal.xyz\\n     RDKit          3D\\n\\n 30 32  0  0  0  0  0  0  0  0999 V2000\\n    1.5784    8.3858   11.8551 N   0  0  0  0  0  0  0  0  0  0  0  0\\n    1.8235    7.9927   13.0974 C   0  0  0  0  0  0  0  0  0  0  0  0\\n    2.9679    7.9561   13.5631 O   0  0  0  0  0  0  0  0  0  0  0  0\\n    0.6294    7.6094   13.9104 C   0  0  0  0  0  0  0  0  0  0  0  0\\n   -0.5735    7.7338   13.3341 N   0  0  0  0  0  0  0  0  0  0  0  0\\n   -1.6537    7.4213   14.0600 C   0  0  0  0  0  0  0  0  0  0  0  0\\n   -2.9998    7.6582   13.4600 C   0  0  0  0  0  0  0  0  0  0  0  0\\n   -4.0410    7.4195   14.0725 O   0  0  0  0  0  0  0  0  0  0  0  0\\n   -3.0044    8.1791   12.2356 N   0  0  0  0  0  0  0  0  0  0  0  0\\n   -4.2055    8.6494   11.5543 C   0  0  0  0  0  0  0  0  0  0  0  0\\n   -4.9888    7.5955   10.8486 C   0  0  0  0  0  0  0  0  0  0  0  0\\n   -4.3339    7.0119    9.6145 C   0  0  0  0  0  0  0  0  0  0  0  0\\n   -3.1768    6.1720    9.8955 N   0  0  0  0  0  0  0  0  0  0  0  0\\n   -3.3052    4.9179   10.2795 C   0  0  0  0  0  0  0  0  0  0  0  0\\n   -4.3960    4.3463   10.4228 O   0  0  0  0  0  0  0  0  0  0  0  0\\n   -2.0306    4.1653   10.5332 C   0  0  0  0  0  0  0  0  0  0  0  0\\n   -0.8826    4.8196   10.3341 N   0  0  0  0  0  0  0  0  0  0  0  0\\n    0.2746    4.1618   10.5153 C   0  0  0  0  0  0  0  0  0  0  0  0\\n    1.5432    4.8865   10.1803 C   0  0  0  0  0  0  0  0  0  0  0  0\\n    2.6371    4.3172   10.2974 O   0  0  0  0  0  0  0  0  0  0  0  0\\n    1.4015    6.1286    9.7348 N   0  0  0  0  0  0  0  0  0  0  0  0\\n    2.5160    6.8952    9.2194 C   0  0  0  0  0  0  0  0  0  0  0  0\\n    3.3293    7.6181   10.2665 C   0  0  0  0  0  0  0  0  0  0  0  0\\n    2.6339    8.7714   10.9348 C   0  0  0  0  0  0  0  0  0  0  0  0\\n    0.8071    7.1826   15.2047 C   0  0  0  0  0  0  0  0  0  0  0  0\\n   -0.2920    6.8429   15.9298 C   0  0  0  0  0  0  0  0  0  0  0  0\\n   -1.5465    6.9648   15.3705 C   0  0  0  0  0  0  0  0  0  0  0  0\\n   -2.0625    2.8361   10.8990 C   0  0  0  0  0  0  0  0  0  0  0  0\\n   -0.8945    2.1602   11.0746 C   0  0  0  0  0  0  0  0  0  0  0  0\\n    0.3069    2.8291   10.8941 C   0  0  0  0  0  0  0  0  0  0  0  0\\n  1  2  1  0\\n  2  3  2  0\\n  2  4  1  0\\n  4 25  2  0\\n  5  4  1  0\\n  5  6  2  0\\n  6 27  1  0\\n  7  6  1  0\\n  7  8  2  0\\n  9  7  1  0\\n 10  9  1  0\\n 11 10  1  0\\n 12 13  1  0\\n 12 11  1  0\\n 13 14  1  0\\n 14 15  2  0\\n 14 16  1  0\\n 16 28  2  0\\n 17 18  2  0\\n 17 16  1  0\\n 18 30  1  0\\n 19 20  2  0\\n 19 18  1  0\\n 21 19  1  0\\n 22 21  1  0\\n 22 23  1  0\\n 23 24  1  0\\n 24  1  1  0\\n 25 26  1  0\\n 27 26  2  0\\n 28 29  1  0\\n 30 29  2  0\\nM  END\\n\",\"sdf\");\n",
       "\tviewer_14907136538421168.addModel(\"m7_crystal.xyz\\n     RDKit          3D\\n\\n 30 32  0  0  0  0  0  0  0  0999 V2000\\n    1.4835    8.2799   11.9016 N   0  0  0  0  0  0  0  0  0  0  0  0\\n    1.7317    7.5871   13.0748 C   0  0  0  0  0  0  0  0  0  0  0  0\\n    2.8398    7.4037   13.5675 O   0  0  0  0  0  0  0  0  0  0  0  0\\n    0.5249    7.0327   13.7321 C   0  0  0  0  0  0  0  0  0  0  0  0\\n   -0.6663    7.4524   13.2454 N   0  0  0  0  0  0  0  0  0  0  0  0\\n   -1.7766    6.9703   13.8511 C   0  0  0  0  0  0  0  0  0  0  0  0\\n   -3.0723    7.4620   13.3260 C   0  0  0  0  0  0  0  0  0  0  0  0\\n   -4.1142    7.2068   13.9211 O   0  0  0  0  0  0  0  0  0  0  0  0\\n   -2.9808    8.1868   12.1495 N   0  0  0  0  0  0  0  0  0  0  0  0\\n   -4.1416    8.6926   11.4402 C   0  0  0  0  0  0  0  0  0  0  0  0\\n   -4.9500    7.5993   10.7368 C   0  0  0  0  0  0  0  0  0  0  0  0\\n   -4.2110    6.9209    9.5810 C   0  0  0  0  0  0  0  0  0  0  0  0\\n   -3.0662    6.1402   10.0117 N   0  0  0  0  0  0  0  0  0  0  0  0\\n   -3.1866    4.9329   10.6797 C   0  0  0  0  0  0  0  0  0  0  0  0\\n   -4.2437    4.3608   10.9247 O   0  0  0  0  0  0  0  0  0  0  0  0\\n   -1.9016    4.3418   11.1214 C   0  0  0  0  0  0  0  0  0  0  0  0\\n   -0.7809    4.9228   10.6323 N   0  0  0  0  0  0  0  0  0  0  0  0\\n    0.4008    4.3764   11.0017 C   0  0  0  0  0  0  0  0  0  0  0  0\\n    1.6161    5.0084   10.4361 C   0  0  0  0  0  0  0  0  0  0  0  0\\n    2.7104    4.4720   10.5749 O   0  0  0  0  0  0  0  0  0  0  0  0\\n    1.3913    6.2090    9.7825 N   0  0  0  0  0  0  0  0  0  0  0  0\\n    2.4601    7.0173    9.2242 C   0  0  0  0  0  0  0  0  0  0  0  0\\n    3.2997    7.7360   10.2834 C   0  0  0  0  0  0  0  0  0  0  0  0\\n    2.5409    8.8132   11.0630 C   0  0  0  0  0  0  0  0  0  0  0  0\\n    0.6566    6.1412   14.7884 C   0  0  0  0  0  0  0  0  0  0  0  0\\n   -0.5069    5.6569   15.3771 C   0  0  0  0  0  0  0  0  0  0  0  0\\n   -1.7497    6.0748   14.9123 C   0  0  0  0  0  0  0  0  0  0  0  0\\n   -1.8938    3.2491   11.9777 C   0  0  0  0  0  0  0  0  0  0  0  0\\n   -0.6598    2.7217   12.3445 C   0  0  0  0  0  0  0  0  0  0  0  0\\n    0.5132    3.2826   11.8498 C   0  0  0  0  0  0  0  0  0  0  0  0\\n  1  2  1  0\\n  2  3  2  0\\n  2  4  1  0\\n  4 25  2  0\\n  5  4  1  0\\n  5  6  2  0\\n  6 27  1  0\\n  7  6  1  0\\n  7  8  2  0\\n  9  7  1  0\\n 10  9  1  0\\n 11 10  1  0\\n 12 13  1  0\\n 12 11  1  0\\n 13 14  1  0\\n 14 15  2  0\\n 14 16  1  0\\n 16 28  2  0\\n 17 18  2  0\\n 17 16  1  0\\n 18 30  1  0\\n 19 20  2  0\\n 19 18  1  0\\n 21 19  1  0\\n 22 21  1  0\\n 22 23  1  0\\n 23 24  1  0\\n 24  1  1  0\\n 25 26  1  0\\n 27 26  2  0\\n 28 29  1  0\\n 30 29  2  0\\nM  END\\n\",\"sdf\");\n",
       "\tviewer_14907136538421168.addModel(\"m7_crystal.xyz\\n     RDKit          3D\\n\\n 30 32  0  0  0  0  0  0  0  0999 V2000\\n   -3.0057    6.0729   10.1079 N   0  0  0  0  0  0  0  0  0  0  0  0\\n   -3.1434    4.7672   10.5534 C   0  0  0  0  0  0  0  0  0  0  0  0\\n   -4.2144    4.1961   10.7408 O   0  0  0  0  0  0  0  0  0  0  0  0\\n   -1.8670    4.0443   10.7746 C   0  0  0  0  0  0  0  0  0  0  0  0\\n   -0.7439    4.7134   10.4325 N   0  0  0  0  0  0  0  0  0  0  0  0\\n    0.4290    4.0451   10.5452 C   0  0  0  0  0  0  0  0  0  0  0  0\\n    1.6349    4.7869   10.1078 C   0  0  0  0  0  0  0  0  0  0  0  0\\n    2.7373    4.2486   10.1307 O   0  0  0  0  0  0  0  0  0  0  0  0\\n    1.3874    6.0826    9.6895 N   0  0  0  0  0  0  0  0  0  0  0  0\\n    2.4276    6.9724    9.2183 C   0  0  0  0  0  0  0  0  0  0  0  0\\n    3.2742    7.5590   10.3476 C   0  0  0  0  0  0  0  0  0  0  0  0\\n    2.5463    8.6189   11.1726 C   0  0  0  0  0  0  0  0  0  0  0  0\\n    1.4925    8.0898   12.0224 N   0  0  0  0  0  0  0  0  0  0  0  0\\n    1.7154    7.6809   13.3270 C   0  0  0  0  0  0  0  0  0  0  0  0\\n    2.8215    7.5863   13.8544 O   0  0  0  0  0  0  0  0  0  0  0  0\\n    0.4911    7.3908   14.1149 C   0  0  0  0  0  0  0  0  0  0  0  0\\n   -0.6910    7.5585   13.4756 N   0  0  0  0  0  0  0  0  0  0  0  0\\n   -1.8117    7.3555   14.2100 C   0  0  0  0  0  0  0  0  0  0  0  0\\n   -3.1009    7.5727   13.5131 C   0  0  0  0  0  0  0  0  0  0  0  0\\n   -4.1503    7.2093   14.0377 O   0  0  0  0  0  0  0  0  0  0  0  0\\n   -3.0029    8.2175   12.2905 N   0  0  0  0  0  0  0  0  0  0  0  0\\n   -4.1692    8.6535   11.5461 C   0  0  0  0  0  0  0  0  0  0  0  0\\n   -4.9076    7.5221   10.8325 C   0  0  0  0  0  0  0  0  0  0  0  0\\n   -4.1305    6.8874    9.6809 C   0  0  0  0  0  0  0  0  0  0  0  0\\n   -1.8658    2.7384   11.2488 C   0  0  0  0  0  0  0  0  0  0  0  0\\n   -0.6419    2.0853   11.3602 C   0  0  0  0  0  0  0  0  0  0  0  0\\n    0.5317    2.7383   11.0008 C   0  0  0  0  0  0  0  0  0  0  0  0\\n    0.6007    7.0337   15.4527 C   0  0  0  0  0  0  0  0  0  0  0  0\\n   -0.5720    6.8333   16.1727 C   0  0  0  0  0  0  0  0  0  0  0  0\\n   -1.8048    6.9910   15.5515 C   0  0  0  0  0  0  0  0  0  0  0  0\\n  1  2  1  0\\n  2  3  2  0\\n  2  4  1  0\\n  4 25  2  0\\n  5  4  1  0\\n  5  6  2  0\\n  6 27  1  0\\n  7  6  1  0\\n  7  8  2  0\\n  9  7  1  0\\n 10  9  1  0\\n 11 10  1  0\\n 12 13  1  0\\n 12 11  1  0\\n 13 14  1  0\\n 14 15  2  0\\n 14 16  1  0\\n 16 28  2  0\\n 17 18  2  0\\n 17 16  1  0\\n 18 30  1  0\\n 19 20  2  0\\n 19 18  1  0\\n 21 19  1  0\\n 22 21  1  0\\n 22 23  1  0\\n 23 24  1  0\\n 24  1  1  0\\n 25 26  1  0\\n 27 26  2  0\\n 28 29  1  0\\n 30 29  2  0\\nM  END\\n\",\"sdf\");\n",
       "\tviewer_14907136538421168.addModel(\"m7_crystal.xyz\\n     RDKit          3D\\n\\n 30 32  0  0  0  0  0  0  0  0999 V2000\\n   -2.7451    4.5671   11.5975 N   0  0  0  0  0  0  0  0  0  0  0  0\\n   -3.0233    3.6469   10.6017 C   0  0  0  0  0  0  0  0  0  0  0  0\\n   -4.0896    3.0595   10.4536 O   0  0  0  0  0  0  0  0  0  0  0  0\\n   -1.8921    3.3966    9.6747 C   0  0  0  0  0  0  0  0  0  0  0  0\\n   -0.8117    4.1939    9.8405 N   0  0  0  0  0  0  0  0  0  0  0  0\\n    0.2395    3.9921    9.0129 C   0  0  0  0  0  0  0  0  0  0  0  0\\n    1.4005    4.8932    9.2209 C   0  0  0  0  0  0  0  0  0  0  0  0\\n    2.4351    4.7333    8.5829 O   0  0  0  0  0  0  0  0  0  0  0  0\\n    1.1843    5.8805   10.1662 N   0  0  0  0  0  0  0  0  0  0  0  0\\n    2.1883    6.8441   10.5741 C   0  0  0  0  0  0  0  0  0  0  0  0\\n    3.1101    6.3160   11.6751 C   0  0  0  0  0  0  0  0  0  0  0  0\\n    2.3842    5.7204   12.8829 C   0  0  0  0  0  0  0  0  0  0  0  0\\n    1.3803    6.6127   13.4294 N   0  0  0  0  0  0  0  0  0  0  0  0\\n    1.6559    7.6000   14.3595 C   0  0  0  0  0  0  0  0  0  0  0  0\\n    2.7493    7.8059   14.8745 O   0  0  0  0  0  0  0  0  0  0  0  0\\n    0.4856    8.4388   14.7192 C   0  0  0  0  0  0  0  0  0  0  0  0\\n   -0.6383    8.2146   14.0003 N   0  0  0  0  0  0  0  0  0  0  0  0\\n   -1.7261    8.9595   14.3047 C   0  0  0  0  0  0  0  0  0  0  0  0\\n   -2.9351    8.6927   13.4865 C   0  0  0  0  0  0  0  0  0  0  0  0\\n   -4.0022    9.2320   13.7582 O   0  0  0  0  0  0  0  0  0  0  0  0\\n   -2.7229    7.8147   12.4379 N   0  0  0  0  0  0  0  0  0  0  0  0\\n   -3.7631    7.3685   11.5319 C   0  0  0  0  0  0  0  0  0  0  0  0\\n   -4.5658    6.1855   12.0781 C   0  0  0  0  0  0  0  0  0  0  0  0\\n   -3.7180    5.0130   12.5755 C   0  0  0  0  0  0  0  0  0  0  0  0\\n   -1.9709    2.4021    8.7106 C   0  0  0  0  0  0  0  0  0  0  0  0\\n   -0.8689    2.2182    7.8788 C   0  0  0  0  0  0  0  0  0  0  0  0\\n    0.2617    3.0197    8.0235 C   0  0  0  0  0  0  0  0  0  0  0  0\\n    0.5736    9.3822   15.7323 C   0  0  0  0  0  0  0  0  0  0  0  0\\n   -0.5663   10.1276   16.0229 C   0  0  0  0  0  0  0  0  0  0  0  0\\n   -1.7424    9.9204   15.3059 C   0  0  0  0  0  0  0  0  0  0  0  0\\n  1  2  1  0\\n  2  3  2  0\\n  2  4  1  0\\n  4 25  2  0\\n  5  4  1  0\\n  5  6  2  0\\n  6 27  1  0\\n  7  6  1  0\\n  7  8  2  0\\n  9  7  1  0\\n 10  9  1  0\\n 11 10  1  0\\n 12 13  1  0\\n 12 11  1  0\\n 13 14  1  0\\n 14 15  2  0\\n 14 16  1  0\\n 16 28  2  0\\n 17 18  2  0\\n 17 16  1  0\\n 18 30  1  0\\n 19 20  2  0\\n 19 18  1  0\\n 21 19  1  0\\n 22 21  1  0\\n 22 23  1  0\\n 23 24  1  0\\n 24  1  1  0\\n 25 26  1  0\\n 27 26  2  0\\n 28 29  1  0\\n 30 29  2  0\\nM  END\\n\",\"sdf\");\n",
       "\tviewer_14907136538421168.addModel(\"m7_crystal.xyz\\n     RDKit          3D\\n\\n 30 32  0  0  0  0  0  0  0  0999 V2000\\n   -2.9803    5.6283   10.4690 N   0  0  0  0  0  0  0  0  0  0  0  0\\n   -3.2053    4.3862    9.9013 C   0  0  0  0  0  0  0  0  0  0  0  0\\n   -4.3056    3.9036    9.6579 O   0  0  0  0  0  0  0  0  0  0  0  0\\n   -1.9649    3.6343    9.5839 C   0  0  0  0  0  0  0  0  0  0  0  0\\n   -0.8077    4.3106    9.7685 N   0  0  0  0  0  0  0  0  0  0  0  0\\n    0.3424    3.6662    9.4627 C   0  0  0  0  0  0  0  0  0  0  0  0\\n    1.5882    4.4509    9.6513 C   0  0  0  0  0  0  0  0  0  0  0  0\\n    2.6738    3.9819    9.3297 O   0  0  0  0  0  0  0  0  0  0  0  0\\n    1.3862    5.7051   10.2006 N   0  0  0  0  0  0  0  0  0  0  0  0\\n    2.4481    6.6563   10.4604 C   0  0  0  0  0  0  0  0  0  0  0  0\\n    3.3294    6.2886   11.6550 C   0  0  0  0  0  0  0  0  0  0  0  0\\n    2.5750    5.8889   12.9232 C   0  0  0  0  0  0  0  0  0  0  0  0\\n    1.5247    6.8153   13.2975 N   0  0  0  0  0  0  0  0  0  0  0  0\\n    1.7531    8.0390   13.9021 C   0  0  0  0  0  0  0  0  0  0  0  0\\n    2.8555    8.5144   14.1515 O   0  0  0  0  0  0  0  0  0  0  0  0\\n    0.5168    8.7773   14.2613 C   0  0  0  0  0  0  0  0  0  0  0  0\\n   -0.6424    8.1108   14.0538 N   0  0  0  0  0  0  0  0  0  0  0  0\\n   -1.7888    8.7382   14.4048 C   0  0  0  0  0  0  0  0  0  0  0  0\\n   -3.0363    7.9623   14.1925 C   0  0  0  0  0  0  0  0  0  0  0  0\\n   -4.1176    8.4095   14.5576 O   0  0  0  0  0  0  0  0  0  0  0  0\\n   -2.8409    6.7396   13.5739 N   0  0  0  0  0  0  0  0  0  0  0  0\\n   -3.9011    5.7895   13.3018 C   0  0  0  0  0  0  0  0  0  0  0  0\\n   -4.7826    6.1680   12.1113 C   0  0  0  0  0  0  0  0  0  0  0  0\\n   -4.0316    6.5548   10.8371 C   0  0  0  0  0  0  0  0  0  0  0  0\\n   -2.0242    2.3311    9.1121 C   0  0  0  0  0  0  0  0  0  0  0  0\\n   -0.8209    1.6952    8.8143 C   0  0  0  0  0  0  0  0  0  0  0  0\\n    0.3886    2.3645    8.9855 C   0  0  0  0  0  0  0  0  0  0  0  0\\n    0.5817   10.0549   14.7982 C   0  0  0  0  0  0  0  0  0  0  0  0\\n   -0.6178   10.6735   15.1428 C   0  0  0  0  0  0  0  0  0  0  0  0\\n   -1.8290   10.0130   14.9510 C   0  0  0  0  0  0  0  0  0  0  0  0\\n  1  2  1  0\\n  2  3  2  0\\n  2  4  1  0\\n  4 25  2  0\\n  5  4  1  0\\n  5  6  2  0\\n  6 27  1  0\\n  7  6  1  0\\n  7  8  2  0\\n  9  7  1  0\\n 10  9  1  0\\n 11 10  1  0\\n 12 13  1  0\\n 12 11  1  0\\n 13 14  1  0\\n 14 15  2  0\\n 14 16  1  0\\n 16 28  2  0\\n 17 18  2  0\\n 17 16  1  0\\n 18 30  1  0\\n 19 20  2  0\\n 19 18  1  0\\n 21 19  1  0\\n 22 21  1  0\\n 22 23  1  0\\n 23 24  1  0\\n 24  1  1  0\\n 25 26  1  0\\n 27 26  2  0\\n 28 29  1  0\\n 30 29  2  0\\nM  END\\n\",\"sdf\");\n",
       "\tviewer_14907136538421168.addModel(\"m7_crystal.xyz\\n     RDKit          3D\\n\\n 30 32  0  0  0  0  0  0  0  0999 V2000\\n   -2.6282    7.7319   12.6019 N   0  0  0  0  0  0  0  0  0  0  0  0\\n   -2.9120    8.4026   13.7795 C   0  0  0  0  0  0  0  0  0  0  0  0\\n   -4.0275    8.7695   14.1343 O   0  0  0  0  0  0  0  0  0  0  0  0\\n   -1.7305    8.6693   14.6360 C   0  0  0  0  0  0  0  0  0  0  0  0\\n   -0.5233    8.4263   14.0730 N   0  0  0  0  0  0  0  0  0  0  0  0\\n    0.5697    8.6850   14.8292 C   0  0  0  0  0  0  0  0  0  0  0  0\\n    1.8827    8.4226   14.1881 C   0  0  0  0  0  0  0  0  0  0  0  0\\n    2.9206    8.5455   14.8298 O   0  0  0  0  0  0  0  0  0  0  0  0\\n    1.8028    8.0510   12.8572 N   0  0  0  0  0  0  0  0  0  0  0  0\\n    2.9715    7.8622   12.0134 C   0  0  0  0  0  0  0  0  0  0  0  0\\n    2.6808    6.8751   10.8863 C   0  0  0  0  0  0  0  0  0  0  0  0\\n    2.5419    5.4373   11.3950 C   0  0  0  0  0  0  0  0  0  0  0  0\\n    1.4231    4.7622   10.7652 N   0  0  0  0  0  0  0  0  0  0  0  0\\n    1.4913    4.1621    9.5193 C   0  0  0  0  0  0  0  0  0  0  0  0\\n    2.5052    4.0439    8.8407 O   0  0  0  0  0  0  0  0  0  0  0  0\\n    0.1885    3.6512    9.0248 C   0  0  0  0  0  0  0  0  0  0  0  0\\n   -0.8761    3.9123    9.8173 N   0  0  0  0  0  0  0  0  0  0  0  0\\n   -2.0846    3.4761    9.3958 C   0  0  0  0  0  0  0  0  0  0  0  0\\n   -3.2249    3.7926   10.2912 C   0  0  0  0  0  0  0  0  0  0  0  0\\n   -4.3600    3.4264   10.0066 O   0  0  0  0  0  0  0  0  0  0  0  0\\n   -2.8717    4.5118   11.4199 N   0  0  0  0  0  0  0  0  0  0  0  0\\n   -3.8202    4.9689   12.4163 C   0  0  0  0  0  0  0  0  0  0  0  0\\n   -4.5481    6.2496   12.0059 C   0  0  0  0  0  0  0  0  0  0  0  0\\n   -3.6311    7.4069   11.6047 C   0  0  0  0  0  0  0  0  0  0  0  0\\n   -1.8953    9.1574   15.9254 C   0  0  0  0  0  0  0  0  0  0  0  0\\n   -0.7495    9.4049   16.6757 C   0  0  0  0  0  0  0  0  0  0  0  0\\n    0.5088    9.1696   16.1288 C   0  0  0  0  0  0  0  0  0  0  0  0\\n    0.1001    2.9668    7.8217 C   0  0  0  0  0  0  0  0  0  0  0  0\\n   -1.1594    2.5288    7.4191 C   0  0  0  0  0  0  0  0  0  0  0  0\\n   -2.2780    2.7818    8.2106 C   0  0  0  0  0  0  0  0  0  0  0  0\\n  1  2  1  0\\n  2  3  2  0\\n  2  4  1  0\\n  4 25  2  0\\n  5  4  1  0\\n  5  6  2  0\\n  6 27  1  0\\n  7  6  1  0\\n  7  8  2  0\\n  9  7  1  0\\n 10  9  1  0\\n 11 10  1  0\\n 12 13  1  0\\n 12 11  1  0\\n 13 14  1  0\\n 14 15  2  0\\n 14 16  1  0\\n 16 28  2  0\\n 17 18  2  0\\n 17 16  1  0\\n 18 30  1  0\\n 19 20  2  0\\n 19 18  1  0\\n 21 19  1  0\\n 22 21  1  0\\n 22 23  1  0\\n 23 24  1  0\\n 24  1  1  0\\n 25 26  1  0\\n 27 26  2  0\\n 28 29  1  0\\n 30 29  2  0\\nM  END\\n\",\"sdf\");\n",
       "\tviewer_14907136538421168.addModel(\"m7_crystal.xyz\\n     RDKit          3D\\n\\n 30 32  0  0  0  0  0  0  0  0999 V2000\\n   -2.6014    5.6371   10.5060 N   0  0  0  0  0  0  0  0  0  0  0  0\\n   -3.0029    4.6543    9.6169 C   0  0  0  0  0  0  0  0  0  0  0  0\\n   -4.1444    4.5116    9.1909 O   0  0  0  0  0  0  0  0  0  0  0  0\\n   -1.9198    3.7423    9.1716 C   0  0  0  0  0  0  0  0  0  0  0  0\\n   -0.6746    4.0278    9.6219 N   0  0  0  0  0  0  0  0  0  0  0  0\\n    0.3292    3.2211    9.2009 C   0  0  0  0  0  0  0  0  0  0  0  0\\n    1.6920    3.5610    9.6816 C   0  0  0  0  0  0  0  0  0  0  0  0\\n    2.6569    2.8902    9.3293 O   0  0  0  0  0  0  0  0  0  0  0  0\\n    1.7528    4.6630   10.5176 N   0  0  0  0  0  0  0  0  0  0  0  0\\n    3.0122    5.2063   11.0025 C   0  0  0  0  0  0  0  0  0  0  0  0\\n    2.7954    6.2240   12.1184 C   0  0  0  0  0  0  0  0  0  0  0  0\\n    2.2036    7.5381   11.6025 C   0  0  0  0  0  0  0  0  0  0  0  0\\n    1.2083    8.0537   12.5226 N   0  0  0  0  0  0  0  0  0  0  0  0\\n    1.4785    8.9505   13.5417 C   0  0  0  0  0  0  0  0  0  0  0  0\\n    2.5541    9.4990   13.7486 O   0  0  0  0  0  0  0  0  0  0  0  0\\n    0.3126    9.2155   14.4195 C   0  0  0  0  0  0  0  0  0  0  0  0\\n   -0.7496    8.4025   14.2229 N   0  0  0  0  0  0  0  0  0  0  0  0\\n   -1.8375    8.5984   14.9998 C   0  0  0  0  0  0  0  0  0  0  0  0\\n   -2.9701    7.6747   14.7452 C   0  0  0  0  0  0  0  0  0  0  0  0\\n   -4.0562    7.8574   15.2835 O   0  0  0  0  0  0  0  0  0  0  0  0\\n   -2.6646    6.6442   13.8715 N   0  0  0  0  0  0  0  0  0  0  0  0\\n   -3.6357    5.6907   13.3711 C   0  0  0  0  0  0  0  0  0  0  0  0\\n   -4.3905    6.2120   12.1474 C   0  0  0  0  0  0  0  0  0  0  0  0\\n   -3.4897    6.6742   10.9990 C   0  0  0  0  0  0  0  0  0  0  0  0\\n   -2.2064    2.6834    8.3191 C   0  0  0  0  0  0  0  0  0  0  0  0\\n   -1.1511    1.8709    7.9147 C   0  0  0  0  0  0  0  0  0  0  0  0\\n    0.1418    2.1345    8.3557 C   0  0  0  0  0  0  0  0  0  0  0  0\\n    0.3397   10.2243   15.3697 C   0  0  0  0  0  0  0  0  0  0  0  0\\n   -0.8008   10.4038   16.1504 C   0  0  0  0  0  0  0  0  0  0  0  0\\n   -1.9150    9.5853   15.9703 C   0  0  0  0  0  0  0  0  0  0  0  0\\n  1  2  1  0\\n  2  3  2  0\\n  2  4  1  0\\n  4 25  2  0\\n  5  4  1  0\\n  5  6  2  0\\n  6 27  1  0\\n  7  6  1  0\\n  7  8  2  0\\n  9  7  1  0\\n 10  9  1  0\\n 11 10  1  0\\n 12 13  1  0\\n 12 11  1  0\\n 13 14  1  0\\n 14 15  2  0\\n 14 16  1  0\\n 16 28  2  0\\n 17 18  2  0\\n 17 16  1  0\\n 18 30  1  0\\n 19 20  2  0\\n 19 18  1  0\\n 21 19  1  0\\n 22 21  1  0\\n 22 23  1  0\\n 23 24  1  0\\n 24  1  1  0\\n 25 26  1  0\\n 27 26  2  0\\n 28 29  1  0\\n 30 29  2  0\\nM  END\\n\",\"sdf\");\n",
       "\tviewer_14907136538421168.addModel(\"m7_crystal.xyz\\n     RDKit          3D\\n\\n 30 32  0  0  0  0  0  0  0  0999 V2000\\n   -2.8492    4.6130   11.4256 N   0  0  0  0  0  0  0  0  0  0  0  0\\n   -3.1418    3.5884   10.5410 C   0  0  0  0  0  0  0  0  0  0  0  0\\n   -4.2201    3.0135   10.4452 O   0  0  0  0  0  0  0  0  0  0  0  0\\n   -2.0049    3.2022    9.6702 C   0  0  0  0  0  0  0  0  0  0  0  0\\n   -0.9189    4.0033    9.7466 N   0  0  0  0  0  0  0  0  0  0  0  0\\n    0.1448    3.6831    8.9758 C   0  0  0  0  0  0  0  0  0  0  0  0\\n    1.3084    4.5965    9.0927 C   0  0  0  0  0  0  0  0  0  0  0  0\\n    2.3671    4.3328    8.5334 O   0  0  0  0  0  0  0  0  0  0  0  0\\n    1.0643    5.7163    9.8704 N   0  0  0  0  0  0  0  0  0  0  0  0\\n    2.0780    6.6941   10.2167 C   0  0  0  0  0  0  0  0  0  0  0  0\\n    2.8705    6.2563   11.4512 C   0  0  0  0  0  0  0  0  0  0  0  0\\n    3.1144    7.4010   12.4321 C   0  0  0  0  0  0  0  0  0  0  0  0\\n    1.8904    7.7672   13.1291 N   0  0  0  0  0  0  0  0  0  0  0  0\\n    1.8709    8.2327   14.4339 C   0  0  0  0  0  0  0  0  0  0  0  0\\n    2.8532    8.3450   15.1601 O   0  0  0  0  0  0  0  0  0  0  0  0\\n    0.5231    8.6038   14.9353 C   0  0  0  0  0  0  0  0  0  0  0  0\\n   -0.5010    8.4527   14.0622 N   0  0  0  0  0  0  0  0  0  0  0  0\\n   -1.7371    8.7858   14.5045 C   0  0  0  0  0  0  0  0  0  0  0  0\\n   -2.8455    8.6069   13.5353 C   0  0  0  0  0  0  0  0  0  0  0  0\\n   -3.9582    9.0619   13.7782 O   0  0  0  0  0  0  0  0  0  0  0  0\\n   -2.5033    7.8938   12.3992 N   0  0  0  0  0  0  0  0  0  0  0  0\\n   -3.4505    7.5532   11.3542 C   0  0  0  0  0  0  0  0  0  0  0  0\\n   -4.4503    6.4678   11.7652 C   0  0  0  0  0  0  0  0  0  0  0  0\\n   -3.8152    5.1996   12.3348 C   0  0  0  0  0  0  0  0  0  0  0  0\\n   -2.0799    2.0899    8.8451 C   0  0  0  0  0  0  0  0  0  0  0  0\\n   -0.9634    1.7844    8.0700 C   0  0  0  0  0  0  0  0  0  0  0  0\\n    0.1761    2.5843    8.1304 C   0  0  0  0  0  0  0  0  0  0  0  0\\n    0.3638    9.0659   16.2358 C   0  0  0  0  0  0  0  0  0  0  0  0\\n   -0.9217    9.3950   16.6555 C   0  0  0  0  0  0  0  0  0  0  0  0\\n   -1.9972    9.2611   15.7829 C   0  0  0  0  0  0  0  0  0  0  0  0\\n  1  2  1  0\\n  2  3  2  0\\n  2  4  1  0\\n  4 25  2  0\\n  5  4  1  0\\n  5  6  2  0\\n  6 27  1  0\\n  7  6  1  0\\n  7  8  2  0\\n  9  7  1  0\\n 10  9  1  0\\n 11 10  1  0\\n 12 13  1  0\\n 12 11  1  0\\n 13 14  1  0\\n 14 15  2  0\\n 14 16  1  0\\n 16 28  2  0\\n 17 18  2  0\\n 17 16  1  0\\n 18 30  1  0\\n 19 20  2  0\\n 19 18  1  0\\n 21 19  1  0\\n 22 21  1  0\\n 22 23  1  0\\n 23 24  1  0\\n 24  1  1  0\\n 25 26  1  0\\n 27 26  2  0\\n 28 29  1  0\\n 30 29  2  0\\nM  END\\n\",\"sdf\");\n",
       "\tviewer_14907136538421168.addModel(\"m7_crystal.xyz\\n     RDKit          3D\\n\\n 30 32  0  0  0  0  0  0  0  0999 V2000\\n   -3.3591    4.6935   10.4836 N   0  0  0  0  0  0  0  0  0  0  0  0\\n   -3.4120    3.4668    9.8465 C   0  0  0  0  0  0  0  0  0  0  0  0\\n   -4.4031    2.7513    9.7588 O   0  0  0  0  0  0  0  0  0  0  0  0\\n   -2.1180    3.0432    9.2532 C   0  0  0  0  0  0  0  0  0  0  0  0\\n   -1.0779    3.8841    9.4612 N   0  0  0  0  0  0  0  0  0  0  0  0\\n    0.1219    3.5244    8.9496 C   0  0  0  0  0  0  0  0  0  0  0  0\\n    1.2412    4.4630    9.2142 C   0  0  0  0  0  0  0  0  0  0  0  0\\n    2.3629    4.2308    8.7770 O   0  0  0  0  0  0  0  0  0  0  0  0\\n    0.8901    5.5633    9.9778 N   0  0  0  0  0  0  0  0  0  0  0  0\\n    1.8382    6.5641   10.4351 C   0  0  0  0  0  0  0  0  0  0  0  0\\n    2.6177    6.0820   11.6624 C   0  0  0  0  0  0  0  0  0  0  0  0\\n    3.0402    7.2273   12.5808 C   0  0  0  0  0  0  0  0  0  0  0  0\\n    1.9001    7.7435   13.3215 N   0  0  0  0  0  0  0  0  0  0  0  0\\n    2.0010    8.3901   14.5418 C   0  0  0  0  0  0  0  0  0  0  0  0\\n    3.0385    8.5751   15.1683 O   0  0  0  0  0  0  0  0  0  0  0  0\\n    0.7009    8.8636   15.0811 C   0  0  0  0  0  0  0  0  0  0  0  0\\n   -0.3793    8.6013   14.3093 N   0  0  0  0  0  0  0  0  0  0  0  0\\n   -1.5850    9.0059   14.7704 C   0  0  0  0  0  0  0  0  0  0  0  0\\n   -2.7443    8.6865   13.8999 C   0  0  0  0  0  0  0  0  0  0  0  0\\n   -3.8799    9.0052   14.2328 O   0  0  0  0  0  0  0  0  0  0  0  0\\n   -2.4068    8.0118   12.7393 N   0  0  0  0  0  0  0  0  0  0  0  0\\n   -3.3773    7.5124   11.7835 C   0  0  0  0  0  0  0  0  0  0  0  0\\n   -4.0371    6.2225   12.2781 C   0  0  0  0  0  0  0  0  0  0  0  0\\n   -4.4980    5.3213   11.1344 C   0  0  0  0  0  0  0  0  0  0  0  0\\n   -2.0113    1.8497    8.5548 C   0  0  0  0  0  0  0  0  0  0  0  0\\n   -0.7625    1.5134    8.0366 C   0  0  0  0  0  0  0  0  0  0  0  0\\n    0.3292    2.3570    8.2290 C   0  0  0  0  0  0  0  0  0  0  0  0\\n    0.6286    9.5157   16.3038 C   0  0  0  0  0  0  0  0  0  0  0  0\\n   -0.6299    9.9174   16.7496 C   0  0  0  0  0  0  0  0  0  0  0  0\\n   -1.7623    9.6656   15.9779 C   0  0  0  0  0  0  0  0  0  0  0  0\\n  1  2  1  0\\n  2  3  2  0\\n  2  4  1  0\\n  4 25  2  0\\n  5  4  1  0\\n  5  6  2  0\\n  6 27  1  0\\n  7  6  1  0\\n  7  8  2  0\\n  9  7  1  0\\n 10  9  1  0\\n 11 10  1  0\\n 12 13  1  0\\n 12 11  1  0\\n 13 14  1  0\\n 14 15  2  0\\n 14 16  1  0\\n 16 28  2  0\\n 17 18  2  0\\n 17 16  1  0\\n 18 30  1  0\\n 19 20  2  0\\n 19 18  1  0\\n 21 19  1  0\\n 22 21  1  0\\n 22 23  1  0\\n 23 24  1  0\\n 24  1  1  0\\n 25 26  1  0\\n 27 26  2  0\\n 28 29  1  0\\n 30 29  2  0\\nM  END\\n\",\"sdf\");\n",
       "\tviewer_14907136538421168.addModel(\"m7_crystal.xyz\\n     RDKit          3D\\n\\n 30 32  0  0  0  0  0  0  0  0999 V2000\\n   -2.6429    6.0457   10.0675 N   0  0  0  0  0  0  0  0  0  0  0  0\\n   -3.0449    4.8300    9.5431 C   0  0  0  0  0  0  0  0  0  0  0  0\\n   -4.1676    4.5729    9.1218 O   0  0  0  0  0  0  0  0  0  0  0  0\\n   -1.9872    3.7918    9.5392 C   0  0  0  0  0  0  0  0  0  0  0  0\\n   -0.7278    4.2308    9.7740 N   0  0  0  0  0  0  0  0  0  0  0  0\\n    0.2548    3.3013    9.7656 C   0  0  0  0  0  0  0  0  0  0  0  0\\n    1.6346    3.8110    9.9586 C   0  0  0  0  0  0  0  0  0  0  0  0\\n    2.5879    3.0454    9.8629 O   0  0  0  0  0  0  0  0  0  0  0  0\\n    1.7218    5.1711   10.2197 N   0  0  0  0  0  0  0  0  0  0  0  0\\n    2.9836    5.8903   10.1695 C   0  0  0  0  0  0  0  0  0  0  0  0\\n    3.1038    6.9522   11.2600 C   0  0  0  0  0  0  0  0  0  0  0  0\\n    2.1063    8.1040   11.1005 C   0  0  0  0  0  0  0  0  0  0  0  0\\n    1.1748    8.1741   12.2135 N   0  0  0  0  0  0  0  0  0  0  0  0\\n    1.5110    8.7620   13.4242 C   0  0  0  0  0  0  0  0  0  0  0  0\\n    2.5871    9.2972   13.6734 O   0  0  0  0  0  0  0  0  0  0  0  0\\n    0.4528    8.7083   14.4606 C   0  0  0  0  0  0  0  0  0  0  0  0\\n   -0.7231    8.1588   14.0803 N   0  0  0  0  0  0  0  0  0  0  0  0\\n   -1.7005    8.0966   15.0149 C   0  0  0  0  0  0  0  0  0  0  0  0\\n   -2.9720    7.4706   14.5807 C   0  0  0  0  0  0  0  0  0  0  0  0\\n   -3.8444    7.2159   15.4044 O   0  0  0  0  0  0  0  0  0  0  0  0\\n   -3.0486    7.2136   13.2215 N   0  0  0  0  0  0  0  0  0  0  0  0\\n   -4.1075    6.4170   12.6320 C   0  0  0  0  0  0  0  0  0  0  0  0\\n   -4.6046    6.9784   11.3010 C   0  0  0  0  0  0  0  0  0  0  0  0\\n   -3.5285    7.1823   10.2314 C   0  0  0  0  0  0  0  0  0  0  0  0\\n   -2.3112    2.4626    9.3031 C   0  0  0  0  0  0  0  0  0  0  0  0\\n   -1.2764    1.5326    9.3178 C   0  0  0  0  0  0  0  0  0  0  0  0\\n    0.0320    1.9472    9.5500 C   0  0  0  0  0  0  0  0  0  0  0  0\\n    0.6943    9.2033   15.7361 C   0  0  0  0  0  0  0  0  0  0  0  0\\n   -0.3344    9.1234   16.6702 C   0  0  0  0  0  0  0  0  0  0  0  0\\n   -1.5566    8.5614   16.3151 C   0  0  0  0  0  0  0  0  0  0  0  0\\n  1  2  1  0\\n  2  3  2  0\\n  2  4  1  0\\n  4 25  2  0\\n  5  4  1  0\\n  5  6  2  0\\n  6 27  1  0\\n  7  6  1  0\\n  7  8  2  0\\n  9  7  1  0\\n 10  9  1  0\\n 11 10  1  0\\n 12 13  1  0\\n 12 11  1  0\\n 13 14  1  0\\n 14 15  2  0\\n 14 16  1  0\\n 16 28  2  0\\n 17 18  2  0\\n 17 16  1  0\\n 18 30  1  0\\n 19 20  2  0\\n 19 18  1  0\\n 21 19  1  0\\n 22 21  1  0\\n 22 23  1  0\\n 23 24  1  0\\n 24  1  1  0\\n 25 26  1  0\\n 27 26  2  0\\n 28 29  1  0\\n 30 29  2  0\\nM  END\\n\",\"sdf\");\n",
       "\tviewer_14907136538421168.addModel(\"m7_crystal.xyz\\n     RDKit          3D\\n\\n 30 32  0  0  0  0  0  0  0  0999 V2000\\n   -3.1892    5.1003   10.8948 N   0  0  0  0  0  0  0  0  0  0  0  0\\n   -3.0883    3.7244   10.7676 C   0  0  0  0  0  0  0  0  0  0  0  0\\n   -3.9251    2.9110   11.1450 O   0  0  0  0  0  0  0  0  0  0  0  0\\n   -1.8381    3.2612   10.1215 C   0  0  0  0  0  0  0  0  0  0  0  0\\n   -0.8877    4.2060    9.9251 N   0  0  0  0  0  0  0  0  0  0  0  0\\n    0.2635    3.7966    9.3467 C   0  0  0  0  0  0  0  0  0  0  0  0\\n    1.3028    4.8330    9.1543 C   0  0  0  0  0  0  0  0  0  0  0  0\\n    2.2803    4.5956    8.4499 O   0  0  0  0  0  0  0  0  0  0  0  0\\n    1.0788    6.0229    9.8315 N   0  0  0  0  0  0  0  0  0  0  0  0\\n    2.0714    7.0845    9.8690 C   0  0  0  0  0  0  0  0  0  0  0  0\\n    3.1357    6.8231   10.9389 C   0  0  0  0  0  0  0  0  0  0  0  0\\n    3.0586    7.7630   12.1400 C   0  0  0  0  0  0  0  0  0  0  0  0\\n    1.8144    7.6552   12.8811 N   0  0  0  0  0  0  0  0  0  0  0  0\\n    1.7689    7.8276   14.2596 C   0  0  0  0  0  0  0  0  0  0  0  0\\n    2.7421    7.8327   15.0054 O   0  0  0  0  0  0  0  0  0  0  0  0\\n    0.4125    8.0542   14.8165 C   0  0  0  0  0  0  0  0  0  0  0  0\\n   -0.5816    8.2140   13.9130 N   0  0  0  0  0  0  0  0  0  0  0  0\\n   -1.8134    8.4965   14.4003 C   0  0  0  0  0  0  0  0  0  0  0  0\\n   -2.8908    8.6415   13.3920 C   0  0  0  0  0  0  0  0  0  0  0  0\\n   -3.9719    9.1277   13.7052 O   0  0  0  0  0  0  0  0  0  0  0  0\\n   -2.5585    8.1617   12.1373 N   0  0  0  0  0  0  0  0  0  0  0  0\\n   -3.4829    8.1168   11.0212 C   0  0  0  0  0  0  0  0  0  0  0  0\\n   -4.6205    7.1062   11.1933 C   0  0  0  0  0  0  0  0  0  0  0  0\\n   -4.2124    5.7264   11.7070 C   0  0  0  0  0  0  0  0  0  0  0  0\\n   -1.6892    1.9253    9.7731 C   0  0  0  0  0  0  0  0  0  0  0  0\\n   -0.4920    1.5427    9.1770 C   0  0  0  0  0  0  0  0  0  0  0  0\\n    0.5058    2.4862    8.9509 C   0  0  0  0  0  0  0  0  0  0  0  0\\n    0.2251    8.1427   16.1900 C   0  0  0  0  0  0  0  0  0  0  0  0\\n   -1.0545    8.4390   16.6532 C   0  0  0  0  0  0  0  0  0  0  0  0\\n   -2.0972    8.6338   15.7523 C   0  0  0  0  0  0  0  0  0  0  0  0\\n  1  2  1  0\\n  2  3  2  0\\n  2  4  1  0\\n  4 25  2  0\\n  5  4  1  0\\n  5  6  2  0\\n  6 27  1  0\\n  7  6  1  0\\n  7  8  2  0\\n  9  7  1  0\\n 10  9  1  0\\n 11 10  1  0\\n 12 13  1  0\\n 12 11  1  0\\n 13 14  1  0\\n 14 15  2  0\\n 14 16  1  0\\n 16 28  2  0\\n 17 18  2  0\\n 17 16  1  0\\n 18 30  1  0\\n 19 20  2  0\\n 19 18  1  0\\n 21 19  1  0\\n 22 21  1  0\\n 22 23  1  0\\n 23 24  1  0\\n 24  1  1  0\\n 25 26  1  0\\n 27 26  2  0\\n 28 29  1  0\\n 30 29  2  0\\nM  END\\n\",\"sdf\");\n",
       "\tviewer_14907136538421168.setStyle({\"stick\": {\"radius\": \"0.15\"}});\n",
       "\tviewer_14907136538421168.setBackgroundColor(\"0xeeeeee\");\n",
       "\tviewer_14907136538421168.zoomTo();\n",
       "viewer_14907136538421168.render();\n",
       "});\n",
       "</script>"
      ],
      "text/plain": [
       "<IPython.core.display.HTML object>"
      ]
     },
     "execution_count": 41,
     "metadata": {},
     "output_type": "execute_result"
    }
   ],
   "source": [
    "p = py3Dmol.view(width=400,height=400)\n",
    "#p.removeAllModels()\n",
    "for mol in allmol_m7_balloon:\n",
    "    mb = Chem.MolToMolBlock(mol)\n",
    "    p.addModel(mb,'sdf')\n",
    "p.setStyle({'stick':{'radius':'0.15'}})\n",
    "p.setBackgroundColor('0xeeeeee')\n",
    "p.zoomTo()\n",
    "p.show()"
   ]
  },
  {
   "cell_type": "code",
   "execution_count": 42,
   "metadata": {
    "collapsed": false,
    "deletable": true,
    "editable": true
   },
   "outputs": [
    {
     "name": "stdout",
     "output_type": "stream",
     "text": [
      "Heavy Atom RMS: 0.0\n",
      "Heavy Atom RMS: 0.5937868071467916\n",
      "Heavy Atom RMS: 0.2092299897502145\n",
      "Heavy Atom RMS: 2.0075607376161804\n",
      "Heavy Atom RMS: 1.840950977376659\n",
      "Heavy Atom RMS: 1.8774918734686699\n",
      "Heavy Atom RMS: 2.0163759964267918\n",
      "Heavy Atom RMS: 1.7994332303736011\n",
      "Heavy Atom RMS: 1.9216906406205834\n",
      "Heavy Atom RMS: 1.3635632583944308\n",
      "Heavy Atom RMS: 1.380050979571361\n"
     ]
    }
   ],
   "source": [
    "for mol in allmol_m7_balloon:\n",
    "    # note that the first structure on \"allmol_m1_rdkit\" list is the crystal structure, \n",
    "    # so the RMSD value calculated for the first structure (with respect to the crystal) will be very small\n",
    "    print(\"Heavy Atom RMS:\",AllChem.GetBestRMS(Chem.RemoveHs(mol),Chem.RemoveHs(m7_crystal)))"
   ]
  },
  {
   "cell_type": "markdown",
   "metadata": {
    "deletable": true,
    "editable": true
   },
   "source": [
    "### Conformers generated with the RDKit software"
   ]
  },
  {
   "cell_type": "markdown",
   "metadata": {},
   "source": [
    "RDKit found 6 conformers of similar energy:"
   ]
  },
  {
   "cell_type": "code",
   "execution_count": 43,
   "metadata": {
    "collapsed": false
   },
   "outputs": [
    {
     "data": {
      "text/plain": [
       "6"
      ]
     },
     "execution_count": 43,
     "metadata": {},
     "output_type": "execute_result"
    }
   ],
   "source": [
    "# create a list of all structures to be aligned\n",
    "inps_m7_rdkit = glob.glob('/home/gosia/work/work_on_gitlab/icho/calcs/m7/rdkit/results_crystal_from_smiles/*.sdf')\n",
    "len(inps_m7_rdkit)"
   ]
  },
  {
   "cell_type": "code",
   "execution_count": 44,
   "metadata": {
    "collapsed": false,
    "deletable": true,
    "editable": true
   },
   "outputs": [
    {
     "data": {
      "text/plain": [
       "[59.65, 64.19, 60.98, 60.56, 60.87, 56.56]"
      ]
     },
     "execution_count": 44,
     "metadata": {},
     "output_type": "execute_result"
    }
   ],
   "source": [
    "e_m7_rdkit = grep_energies_from_sdf_outputs(inps_m7_rdkit)\n",
    "e_m7_rdkit"
   ]
  },
  {
   "cell_type": "code",
   "execution_count": 45,
   "metadata": {
    "collapsed": false,
    "deletable": true,
    "editable": true
   },
   "outputs": [],
   "source": [
    "allmol_m7_rdkit = []\n",
    "suppl_m7_rdkit = Chem.SDMolSupplier('/home/gosia/work/work_on_gitlab/icho/calcs/m7/rdkit/result_smiles.sdf')\n",
    "\n",
    "# add crystal structure to the list:\n",
    "#allmol_m7_rdkit.append(m7_crystal)\n",
    "for mol in suppl_m7_rdkit:\n",
    "    allmol_m7_rdkit.append(mol)"
   ]
  },
  {
   "cell_type": "markdown",
   "metadata": {
    "deletable": true,
    "editable": true
   },
   "source": [
    "This time, instead of visualizing all conformers, we will look directly at their alignment:"
   ]
  },
  {
   "cell_type": "code",
   "execution_count": 46,
   "metadata": {
    "collapsed": true,
    "deletable": true,
    "editable": true
   },
   "outputs": [],
   "source": [
    "# align:\n",
    "for mol in allmol_m7_rdkit:\n",
    "    AllChem.AlignMolConformers(mol,atomIds=core_m7)"
   ]
  },
  {
   "cell_type": "code",
   "execution_count": 47,
   "metadata": {
    "collapsed": false,
    "deletable": true,
    "editable": true
   },
   "outputs": [
    {
     "data": {
      "text/html": [
       "<div id=\"3dmolviewer_1490713654185446\"  style=\"position: relative; width: 400px; height: 400px\">\n",
       "<script>\n",
       "if(typeof $3Dmolpromise === 'undefined') $3Dmolpromise = $.when($.getScript('http://3dmol.csb.pitt.edu/build/3Dmol.js'))\n",
       "var viewer_1490713654185446 = null;\n",
       "$3Dmolpromise.done(function() {\n",
       "viewer_1490713654185446 = $3Dmol.createViewer($(\"#3dmolviewer_1490713654185446\"),{backgroundColor:\"white\"});\n",
       "\tviewer_1490713654185446.addModel(\"\\n     RDKit          3D\\n\\n 30 32  0  0  0  0  0  0  0  0999 V2000\\n   -1.7772    2.7135   -1.1396 N   0  0  0  0  0  0  0  0  0  0  0  0\\n   -3.1644    2.3676   -1.2404 C   0  0  0  0  0  0  0  0  0  0  0  0\\n   -3.8746    2.9379   -2.1116 O   0  0  0  0  0  0  0  0  0  0  0  0\\n   -3.7655    1.3359   -0.3761 C   0  0  0  0  0  0  0  0  0  0  0  0\\n   -3.0007    0.3069    0.0794 N   0  0  0  0  0  0  0  0  0  0  0  0\\n   -3.5027   -0.6901    0.8583 C   0  0  0  0  0  0  0  0  0  0  0  0\\n   -2.6120   -1.7598    1.3575 C   0  0  0  0  0  0  0  0  0  0  0  0\\n   -2.8819   -2.3214    2.4535 O   0  0  0  0  0  0  0  0  0  0  0  0\\n   -1.4339   -2.1674    0.6455 N   0  0  0  0  0  0  0  0  0  0  0  0\\n   -1.3439   -2.1353   -0.8180 C   0  0  0  0  0  0  0  0  0  0  0  0\\n   -0.1011   -2.8829   -1.3243 C   0  0  0  0  0  0  0  0  0  0  0  0\\n    1.1948   -2.1250   -1.0036 C   0  0  0  0  0  0  0  0  0  0  0  0\\n    2.3675   -2.8786   -1.4438 N   0  0  0  0  0  0  0  0  0  0  0  0\\n    3.7042   -2.6034   -0.9912 C   0  0  0  0  0  0  0  0  0  0  0  0\\n    4.5988   -3.4640   -1.2123 O   0  0  0  0  0  0  0  0  0  0  0  0\\n    4.0730   -1.3603   -0.2671 C   0  0  0  0  0  0  0  0  0  0  0  0\\n    3.3730   -0.2050   -0.4583 N   0  0  0  0  0  0  0  0  0  0  0  0\\n    3.7081    0.9650    0.1594 C   0  0  0  0  0  0  0  0  0  0  0  0\\n    2.9489    2.2034   -0.1265 C   0  0  0  0  0  0  0  0  0  0  0  0\\n    3.4996    3.3236    0.0509 O   0  0  0  0  0  0  0  0  0  0  0  0\\n    1.6193    2.1663   -0.6592 N   0  0  0  0  0  0  0  0  0  0  0  0\\n    0.5771    1.2920   -0.1224 C   0  0  0  0  0  0  0  0  0  0  0  0\\n   -0.3653    2.0586    0.8144 C   0  0  0  0  0  0  0  0  0  0  0  0\\n   -1.1769    3.1632    0.1192 C   0  0  0  0  0  0  0  0  0  0  0  0\\n    4.8203    0.9963    1.0142 C   0  0  0  0  0  0  0  0  0  0  0  0\\n    5.5556   -0.1683    1.2266 C   0  0  0  0  0  0  0  0  0  0  0  0\\n    5.1902   -1.3495    0.5831 C   0  0  0  0  0  0  0  0  0  0  0  0\\n   -4.8577   -0.6600    1.2215 C   0  0  0  0  0  0  0  0  0  0  0  0\\n   -5.6706    0.3729    0.7531 C   0  0  0  0  0  0  0  0  0  0  0  0\\n   -5.1302    1.3731   -0.0556 C   0  0  0  0  0  0  0  0  0  0  0  0\\n  1  2  1  0\\n  2  3  2  0\\n  2  4  1  0\\n  4  5  1  0\\n  5  6  2  0\\n  6  7  1  0\\n  7  8  2  0\\n  7  9  1  0\\n  9 10  1  0\\n 10 11  1  0\\n 11 12  1  0\\n 12 13  1  0\\n 13 14  1  0\\n 14 15  2  0\\n 14 16  1  0\\n 16 17  1  0\\n 17 18  2  0\\n 18 19  1  0\\n 19 20  2  0\\n 19 21  1  0\\n 21 22  1  0\\n 22 23  1  0\\n 23 24  1  0\\n 18 25  1  0\\n 25 26  2  0\\n 26 27  1  0\\n  6 28  1  0\\n 28 29  2  0\\n 29 30  1  0\\n 24  1  1  0\\n 30  4  2  0\\n 27 16  2  0\\nM  END\\n\",\"sdf\");\n",
       "\tviewer_1490713654185446.addModel(\"\\n     RDKit          3D\\n\\n 30 32  0  0  0  0  0  0  0  0999 V2000\\n   -2.3934    2.6948   -0.7476 N   0  0  0  0  0  0  0  0  0  0  0  0\\n   -3.7082    2.1578   -0.9891 C   0  0  0  0  0  0  0  0  0  0  0  0\\n   -4.5043    2.8390   -1.6909 O   0  0  0  0  0  0  0  0  0  0  0  0\\n   -4.1932    0.8778   -0.4064 C   0  0  0  0  0  0  0  0  0  0  0  0\\n   -3.3205   -0.0478    0.0797 N   0  0  0  0  0  0  0  0  0  0  0  0\\n   -3.7307   -1.1965    0.6847 C   0  0  0  0  0  0  0  0  0  0  0  0\\n   -2.7289   -2.1132    1.2515 C   0  0  0  0  0  0  0  0  0  0  0  0\\n   -3.0080   -2.8008    2.2702 O   0  0  0  0  0  0  0  0  0  0  0  0\\n   -1.4229   -2.2072    0.6779 N   0  0  0  0  0  0  0  0  0  0  0  0\\n   -1.2470   -2.6836   -0.6946 C   0  0  0  0  0  0  0  0  0  0  0  0\\n   -0.2380   -1.8370   -1.4912 C   0  0  0  0  0  0  0  0  0  0  0  0\\n    1.0148   -1.3947   -0.7155 C   0  0  0  0  0  0  0  0  0  0  0  0\\n    1.7541   -2.5272   -0.1640 N   0  0  0  0  0  0  0  0  0  0  0  0\\n    3.0358   -2.4072    0.4703 C   0  0  0  0  0  0  0  0  0  0  0  0\\n    3.4989   -3.4088    1.0802 O   0  0  0  0  0  0  0  0  0  0  0  0\\n    3.8872   -1.2016    0.3499 C   0  0  0  0  0  0  0  0  0  0  0  0\\n    3.3961    0.0548    0.5808 N   0  0  0  0  0  0  0  0  0  0  0  0\\n    4.1950    1.1650    0.5256 C   0  0  0  0  0  0  0  0  0  0  0  0\\n    3.6835    2.5269    0.8502 C   0  0  0  0  0  0  0  0  0  0  0  0\\n    4.5131    3.4033    1.2171 O   0  0  0  0  0  0  0  0  0  0  0  0\\n    2.3051    2.9199    0.7414 N   0  0  0  0  0  0  0  0  0  0  0  0\\n    1.2102    2.0409    0.3419 C   0  0  0  0  0  0  0  0  0  0  0  0\\n   -0.0472    2.8567    0.0103 C   0  0  0  0  0  0  0  0  0  0  0  0\\n   -1.2785    1.9566   -0.1501 C   0  0  0  0  0  0  0  0  0  0  0  0\\n    5.5593    1.0107    0.2210 C   0  0  0  0  0  0  0  0  0  0  0  0\\n    6.0789   -0.2576   -0.0148 C   0  0  0  0  0  0  0  0  0  0  0  0\\n    5.2482   -1.3693    0.0594 C   0  0  0  0  0  0  0  0  0  0  0  0\\n   -5.1008   -1.4588    0.8127 C   0  0  0  0  0  0  0  0  0  0  0  0\\n   -6.0207   -0.5488    0.2944 C   0  0  0  0  0  0  0  0  0  0  0  0\\n   -5.5729    0.6226   -0.3171 C   0  0  0  0  0  0  0  0  0  0  0  0\\n  1  2  1  0\\n  2  3  2  0\\n  2  4  1  0\\n  4  5  1  0\\n  5  6  2  0\\n  6  7  1  0\\n  7  8  2  0\\n  7  9  1  0\\n  9 10  1  0\\n 10 11  1  0\\n 11 12  1  0\\n 12 13  1  0\\n 13 14  1  0\\n 14 15  2  0\\n 14 16  1  0\\n 16 17  1  0\\n 17 18  2  0\\n 18 19  1  0\\n 19 20  2  0\\n 19 21  1  0\\n 21 22  1  0\\n 22 23  1  0\\n 23 24  1  0\\n 18 25  1  0\\n 25 26  2  0\\n 26 27  1  0\\n  6 28  1  0\\n 28 29  2  0\\n 29 30  1  0\\n 24  1  1  0\\n 30  4  2  0\\n 27 16  2  0\\nM  END\\n\",\"sdf\");\n",
       "\tviewer_1490713654185446.addModel(\"\\n     RDKit          3D\\n\\n 30 32  0  0  0  0  0  0  0  0999 V2000\\n    1.1967   -2.1261   -1.0065 N   0  0  0  0  0  0  0  0  0  0  0  0\\n    2.3547   -1.7181   -1.7495 C   0  0  0  0  0  0  0  0  0  0  0  0\\n    2.4368   -2.0397   -2.9658 O   0  0  0  0  0  0  0  0  0  0  0  0\\n    3.4486   -0.9294   -1.1421 C   0  0  0  0  0  0  0  0  0  0  0  0\\n    3.1809   -0.0065   -0.1747 N   0  0  0  0  0  0  0  0  0  0  0  0\\n    4.1486    0.7787    0.3790 C   0  0  0  0  0  0  0  0  0  0  0  0\\n    3.8228    1.7808    1.4304 C   0  0  0  0  0  0  0  0  0  0  0  0\\n    4.7588    2.2169    2.1544 O   0  0  0  0  0  0  0  0  0  0  0  0\\n    2.5010    2.3082    1.6499 N   0  0  0  0  0  0  0  0  0  0  0  0\\n    1.3061    1.9172    0.9012 C   0  0  0  0  0  0  0  0  0  0  0  0\\n    0.1197    2.8337    1.2421 C   0  0  0  0  0  0  0  0  0  0  0  0\\n   -1.2102    2.2906    0.7015 C   0  0  0  0  0  0  0  0  0  0  0  0\\n   -1.2215    2.2302   -0.7620 N   0  0  0  0  0  0  0  0  0  0  0  0\\n   -2.3919    1.8826   -1.5167 C   0  0  0  0  0  0  0  0  0  0  0  0\\n   -2.4981    2.3096   -2.6981 O   0  0  0  0  0  0  0  0  0  0  0  0\\n   -3.4731    1.0404   -0.9608 C   0  0  0  0  0  0  0  0  0  0  0  0\\n   -3.1848    0.0260   -0.0965 N   0  0  0  0  0  0  0  0  0  0  0  0\\n   -4.1413   -0.8082    0.4022 C   0  0  0  0  0  0  0  0  0  0  0  0\\n   -3.7926   -1.9108    1.3395 C   0  0  0  0  0  0  0  0  0  0  0  0\\n   -4.7116   -2.4167    2.0395 O   0  0  0  0  0  0  0  0  0  0  0  0\\n   -2.4674   -2.4588    1.4713 N   0  0  0  0  0  0  0  0  0  0  0  0\\n   -1.2899   -1.9918    0.7389 C   0  0  0  0  0  0  0  0  0  0  0  0\\n   -0.0966   -2.9365    0.9558 C   0  0  0  0  0  0  0  0  0  0  0  0\\n    1.2202   -2.3375    0.4429 C   0  0  0  0  0  0  0  0  0  0  0  0\\n   -5.4805   -0.6089    0.0248 C   0  0  0  0  0  0  0  0  0  0  0  0\\n   -5.8027    0.4146   -0.8651 C   0  0  0  0  0  0  0  0  0  0  0  0\\n   -4.7992    1.2383   -1.3702 C   0  0  0  0  0  0  0  0  0  0  0  0\\n    5.4778    0.6238   -0.0509 C   0  0  0  0  0  0  0  0  0  0  0  0\\n    5.7786   -0.3054   -1.0454 C   0  0  0  0  0  0  0  0  0  0  0  0\\n    4.7640   -1.0801   -1.6029 C   0  0  0  0  0  0  0  0  0  0  0  0\\n  1  2  1  0\\n  2  3  2  0\\n  2  4  1  0\\n  4  5  1  0\\n  5  6  2  0\\n  6  7  1  0\\n  7  8  2  0\\n  7  9  1  0\\n  9 10  1  0\\n 10 11  1  0\\n 11 12  1  0\\n 12 13  1  0\\n 13 14  1  0\\n 14 15  2  0\\n 14 16  1  0\\n 16 17  1  0\\n 17 18  2  0\\n 18 19  1  0\\n 19 20  2  0\\n 19 21  1  0\\n 21 22  1  0\\n 22 23  1  0\\n 23 24  1  0\\n 18 25  1  0\\n 25 26  2  0\\n 26 27  1  0\\n  6 28  1  0\\n 28 29  2  0\\n 29 30  1  0\\n 24  1  1  0\\n 30  4  2  0\\n 27 16  2  0\\nM  END\\n\",\"sdf\");\n",
       "\tviewer_1490713654185446.addModel(\"\\n     RDKit          3D\\n\\n 30 32  0  0  0  0  0  0  0  0999 V2000\\n    2.1706   -3.2750   -0.0242 N   0  0  0  0  0  0  0  0  0  0  0  0\\n    3.3590   -2.8513    0.6699 C   0  0  0  0  0  0  0  0  0  0  0  0\\n    4.1212   -3.7235    1.1666 O   0  0  0  0  0  0  0  0  0  0  0  0\\n    3.6794   -1.4173    0.8602 C   0  0  0  0  0  0  0  0  0  0  0  0\\n    3.3746   -0.5180   -0.1159 N   0  0  0  0  0  0  0  0  0  0  0  0\\n    3.5310    0.8221    0.0498 C   0  0  0  0  0  0  0  0  0  0  0  0\\n    3.1536    1.7314   -1.0427 C   0  0  0  0  0  0  0  0  0  0  0  0\\n    3.6910    1.5819   -2.1717 O   0  0  0  0  0  0  0  0  0  0  0  0\\n    2.1741    2.7663   -0.8626 N   0  0  0  0  0  0  0  0  0  0  0  0\\n    1.0946    2.6922    0.1251 C   0  0  0  0  0  0  0  0  0  0  0  0\\n    0.1296    1.5365   -0.1848 C   0  0  0  0  0  0  0  0  0  0  0  0\\n   -0.6314    1.7274   -1.5068 C   0  0  0  0  0  0  0  0  0  0  0  0\\n   -1.6183    2.8010   -1.4144 N   0  0  0  0  0  0  0  0  0  0  0  0\\n   -2.7603    2.8099   -0.5394 C   0  0  0  0  0  0  0  0  0  0  0  0\\n   -3.3121    3.9179   -0.2987 O   0  0  0  0  0  0  0  0  0  0  0  0\\n   -3.3258    1.5867    0.0894 C   0  0  0  0  0  0  0  0  0  0  0  0\\n   -3.2399    0.3668   -0.5206 N   0  0  0  0  0  0  0  0  0  0  0  0\\n   -3.8102   -0.7561    0.0124 C   0  0  0  0  0  0  0  0  0  0  0  0\\n   -3.7346   -2.0606   -0.6886 C   0  0  0  0  0  0  0  0  0  0  0  0\\n   -4.7537   -2.8025   -0.6931 O   0  0  0  0  0  0  0  0  0  0  0  0\\n   -2.5458   -2.5262   -1.3493 N   0  0  0  0  0  0  0  0  0  0  0  0\\n   -1.2204   -1.9451   -1.1581 C   0  0  0  0  0  0  0  0  0  0  0  0\\n   -0.1978   -3.0132   -0.7554 C   0  0  0  0  0  0  0  0  0  0  0  0\\n    1.1251   -2.3268   -0.4074 C   0  0  0  0  0  0  0  0  0  0  0  0\\n   -4.5287   -0.6597    1.2122 C   0  0  0  0  0  0  0  0  0  0  0  0\\n   -4.6300    0.5705    1.8561 C   0  0  0  0  0  0  0  0  0  0  0  0\\n   -4.0338    1.6983    1.2972 C   0  0  0  0  0  0  0  0  0  0  0  0\\n    4.0465    1.3141    1.2546 C   0  0  0  0  0  0  0  0  0  0  0  0\\n    4.4096    0.4137    2.2589 C   0  0  0  0  0  0  0  0  0  0  0  0\\n    4.2301   -0.9588    2.0659 C   0  0  0  0  0  0  0  0  0  0  0  0\\n  1  2  1  0\\n  2  3  2  0\\n  2  4  1  0\\n  4  5  1  0\\n  5  6  2  0\\n  6  7  1  0\\n  7  8  2  0\\n  7  9  1  0\\n  9 10  1  0\\n 10 11  1  0\\n 11 12  1  0\\n 12 13  1  0\\n 13 14  1  0\\n 14 15  2  0\\n 14 16  1  0\\n 16 17  1  0\\n 17 18  2  0\\n 18 19  1  0\\n 19 20  2  0\\n 19 21  1  0\\n 21 22  1  0\\n 22 23  1  0\\n 23 24  1  0\\n 18 25  1  0\\n 25 26  2  0\\n 26 27  1  0\\n  6 28  1  0\\n 28 29  2  0\\n 29 30  1  0\\n 24  1  1  0\\n 30  4  2  0\\n 27 16  2  0\\nM  END\\n\",\"sdf\");\n",
       "\tviewer_1490713654185446.addModel(\"\\n     RDKit          3D\\n\\n 30 32  0  0  0  0  0  0  0  0999 V2000\\n    2.4178    2.0167   -1.7714 N   0  0  0  0  0  0  0  0  0  0  0  0\\n    3.7589    1.9715   -1.2745 C   0  0  0  0  0  0  0  0  0  0  0  0\\n    4.6272    2.7340   -1.7782 O   0  0  0  0  0  0  0  0  0  0  0  0\\n    4.1469    1.0358   -0.2040 C   0  0  0  0  0  0  0  0  0  0  0  0\\n    3.6114   -0.2179   -0.1673 N   0  0  0  0  0  0  0  0  0  0  0  0\\n    3.9948   -1.1457    0.7563 C   0  0  0  0  0  0  0  0  0  0  0  0\\n    3.4846   -2.5351    0.6804 C   0  0  0  0  0  0  0  0  0  0  0  0\\n    4.1450   -3.4629    1.2216 O   0  0  0  0  0  0  0  0  0  0  0  0\\n    2.2867   -2.8741   -0.0313 N   0  0  0  0  0  0  0  0  0  0  0  0\\n    1.0966   -2.0238   -0.0119 C   0  0  0  0  0  0  0  0  0  0  0  0\\n   -0.1381   -2.8097   -0.4764 C   0  0  0  0  0  0  0  0  0  0  0  0\\n   -1.4183   -1.9912   -0.2872 C   0  0  0  0  0  0  0  0  0  0  0  0\\n   -2.5841   -2.6900   -0.8295 N   0  0  0  0  0  0  0  0  0  0  0  0\\n   -3.9366   -2.1968   -0.7603 C   0  0  0  0  0  0  0  0  0  0  0  0\\n   -4.8478   -2.8927   -1.2853 O   0  0  0  0  0  0  0  0  0  0  0  0\\n   -4.3123   -0.9269   -0.0786 C   0  0  0  0  0  0  0  0  0  0  0  0\\n   -3.3636   -0.0135    0.2673 N   0  0  0  0  0  0  0  0  0  0  0  0\\n   -3.6533    1.1384    0.9302 C   0  0  0  0  0  0  0  0  0  0  0  0\\n   -2.5572    2.0409    1.3297 C   0  0  0  0  0  0  0  0  0  0  0  0\\n   -2.7035    2.8018    2.3242 O   0  0  0  0  0  0  0  0  0  0  0  0\\n   -1.3073    2.0390    0.6296 N   0  0  0  0  0  0  0  0  0  0  0  0\\n   -1.2642    2.3647   -0.7976 C   0  0  0  0  0  0  0  0  0  0  0  0\\n   -0.0204    1.7920   -1.4962 C   0  0  0  0  0  0  0  0  0  0  0  0\\n    1.2993    2.2443   -0.8578 C   0  0  0  0  0  0  0  0  0  0  0  0\\n   -4.9830    1.4165    1.2752 C   0  0  0  0  0  0  0  0  0  0  0  0\\n   -5.9848    0.5160    0.9133 C   0  0  0  0  0  0  0  0  0  0  0  0\\n   -5.6559   -0.6589    0.2353 C   0  0  0  0  0  0  0  0  0  0  0  0\\n    4.9635   -0.8006    1.7132 C   0  0  0  0  0  0  0  0  0  0  0  0\\n    5.5205    0.4774    1.7004 C   0  0  0  0  0  0  0  0  0  0  0  0\\n    5.1254    1.3980    0.7318 C   0  0  0  0  0  0  0  0  0  0  0  0\\n  1  2  1  0\\n  2  3  2  0\\n  2  4  1  0\\n  4  5  1  0\\n  5  6  2  0\\n  6  7  1  0\\n  7  8  2  0\\n  7  9  1  0\\n  9 10  1  0\\n 10 11  1  0\\n 11 12  1  0\\n 12 13  1  0\\n 13 14  1  0\\n 14 15  2  0\\n 14 16  1  0\\n 16 17  1  0\\n 17 18  2  0\\n 18 19  1  0\\n 19 20  2  0\\n 19 21  1  0\\n 21 22  1  0\\n 22 23  1  0\\n 23 24  1  0\\n 18 25  1  0\\n 25 26  2  0\\n 26 27  1  0\\n  6 28  1  0\\n 28 29  2  0\\n 29 30  1  0\\n 24  1  1  0\\n 30  4  2  0\\n 27 16  2  0\\nM  END\\n\",\"sdf\");\n",
       "\tviewer_1490713654185446.addModel(\"\\n     RDKit          3D\\n\\n 30 32  0  0  0  0  0  0  0  0999 V2000\\n    2.5699    3.2071    1.3878 N   0  0  0  0  0  0  0  0  0  0  0  0\\n    3.7334    2.7452    0.6776 C   0  0  0  0  0  0  0  0  0  0  0  0\\n    4.6111    3.5862    0.3428 O   0  0  0  0  0  0  0  0  0  0  0  0\\n    3.9345    1.3201    0.3377 C   0  0  0  0  0  0  0  0  0  0  0  0\\n    3.3200    0.3555    1.0716 N   0  0  0  0  0  0  0  0  0  0  0  0\\n    3.4359   -0.9670    0.7846 C   0  0  0  0  0  0  0  0  0  0  0  0\\n    2.6849   -1.9381    1.5894 C   0  0  0  0  0  0  0  0  0  0  0  0\\n    2.9155   -2.0048    2.8290 O   0  0  0  0  0  0  0  0  0  0  0  0\\n    1.6439   -2.7484    1.0188 N   0  0  0  0  0  0  0  0  0  0  0  0\\n    1.2766   -2.6936   -0.3983 C   0  0  0  0  0  0  0  0  0  0  0  0\\n   -0.1194   -3.2834   -0.6330 C   0  0  0  0  0  0  0  0  0  0  0  0\\n   -1.2232   -2.3137   -0.1866 C   0  0  0  0  0  0  0  0  0  0  0  0\\n   -2.5389   -2.9508   -0.2729 N   0  0  0  0  0  0  0  0  0  0  0  0\\n   -3.7320   -2.3679    0.2742 C   0  0  0  0  0  0  0  0  0  0  0  0\\n   -4.5528   -3.1267    0.8580 O   0  0  0  0  0  0  0  0  0  0  0  0\\n   -4.0684   -0.9308    0.1075 C   0  0  0  0  0  0  0  0  0  0  0  0\\n   -3.2542   -0.1077   -0.6109 N   0  0  0  0  0  0  0  0  0  0  0  0\\n   -3.5744    1.1886   -0.8773 C   0  0  0  0  0  0  0  0  0  0  0  0\\n   -2.6753    2.0121   -1.7019 C   0  0  0  0  0  0  0  0  0  0  0  0\\n   -3.1606    2.7225   -2.6234 O   0  0  0  0  0  0  0  0  0  0  0  0\\n   -1.2598    2.0257   -1.4789 N   0  0  0  0  0  0  0  0  0  0  0  0\\n   -0.6927    1.8946   -0.1340 C   0  0  0  0  0  0  0  0  0  0  0  0\\n    0.7206    2.4905   -0.0847 C   0  0  0  0  0  0  0  0  0  0  0  0\\n    1.2549    2.5585    1.3487 C   0  0  0  0  0  0  0  0  0  0  0  0\\n   -4.7896    1.7098   -0.4178 C   0  0  0  0  0  0  0  0  0  0  0  0\\n   -5.6353    0.9007    0.3388 C   0  0  0  0  0  0  0  0  0  0  0  0\\n   -5.2802   -0.4222    0.6055 C   0  0  0  0  0  0  0  0  0  0  0  0\\n    4.2327   -1.3752   -0.2896 C   0  0  0  0  0  0  0  0  0  0  0  0\\n    4.8980   -0.4115   -1.0495 C   0  0  0  0  0  0  0  0  0  0  0  0\\n    4.7516    0.9429   -0.7403 C   0  0  0  0  0  0  0  0  0  0  0  0\\n  1  2  1  0\\n  2  3  2  0\\n  2  4  1  0\\n  4  5  1  0\\n  5  6  2  0\\n  6  7  1  0\\n  7  8  2  0\\n  7  9  1  0\\n  9 10  1  0\\n 10 11  1  0\\n 11 12  1  0\\n 12 13  1  0\\n 13 14  1  0\\n 14 15  2  0\\n 14 16  1  0\\n 16 17  1  0\\n 17 18  2  0\\n 18 19  1  0\\n 19 20  2  0\\n 19 21  1  0\\n 21 22  1  0\\n 22 23  1  0\\n 23 24  1  0\\n 18 25  1  0\\n 25 26  2  0\\n 26 27  1  0\\n  6 28  1  0\\n 28 29  2  0\\n 29 30  1  0\\n 24  1  1  0\\n 30  4  2  0\\n 27 16  2  0\\nM  END\\n\",\"sdf\");\n",
       "\tviewer_1490713654185446.setStyle({\"stick\": {\"radius\": \"0.15\"}});\n",
       "\tviewer_1490713654185446.setBackgroundColor(\"0xeeeeee\");\n",
       "\tviewer_1490713654185446.zoomTo();\n",
       "viewer_1490713654185446.render();\n",
       "});\n",
       "</script>"
      ],
      "text/plain": [
       "<IPython.core.display.HTML object>"
      ]
     },
     "execution_count": 47,
     "metadata": {},
     "output_type": "execute_result"
    }
   ],
   "source": [
    "# view:\n",
    "p = py3Dmol.view(width=400,height=400)\n",
    "#p.removeAllModels()\n",
    "for mol in allmol_m7_rdkit:   \n",
    "    mb = Chem.MolToMolBlock(mol)\n",
    "    p.addModel(mb,'sdf')    \n",
    "p.setStyle({'stick':{'radius':'0.15'}})\n",
    "p.setBackgroundColor('0xeeeeee')\n",
    "p.zoomTo()\n",
    "p.show()"
   ]
  },
  {
   "cell_type": "markdown",
   "metadata": {
    "deletable": true,
    "editable": true
   },
   "source": [
    "### Summary"
   ]
  },
  {
   "cell_type": "markdown",
   "metadata": {
    "deletable": true,
    "editable": true
   },
   "source": [
    "todo: align all conformers"
   ]
  }
 ],
 "metadata": {
  "kernelspec": {
   "display_name": "Python 3",
   "language": "python",
   "name": "python3"
  },
  "language_info": {
   "codemirror_mode": {
    "name": "ipython",
    "version": 3
   },
   "file_extension": ".py",
   "mimetype": "text/x-python",
   "name": "python",
   "nbconvert_exporter": "python",
   "pygments_lexer": "ipython3",
   "version": "3.5.3"
  }
 },
 "nbformat": 4,
 "nbformat_minor": 2
}
